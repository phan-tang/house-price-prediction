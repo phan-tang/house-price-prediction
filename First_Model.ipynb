{
  "cells": [
    {
      "cell_type": "markdown",
      "metadata": {
        "id": "rCZftWv1CVBz"
      },
      "source": [
        "# LIBRARY"
      ]
    },
    {
      "cell_type": "code",
      "execution_count": null,
      "metadata": {},
      "outputs": [],
      "source": [
        "from keras.layers import Dense, Input\n",
        "from keras.preprocessing.text import Tokenizer\n",
        "from tensorflow import keras\n",
        "from sklearn import preprocessing\n",
        "from sklearn.linear_model import LinearRegression, Ridge, Lasso, BayesianRidge\n",
        "from tensorflow.python.keras.models import Sequential\n",
        "from tensorflow.python.keras.layers import LSTM\n",
        "from tensorflow.python.keras.layers import Dense, Dropout, Embedding, Activation\n",
        "from tensorflow.python.keras.callbacks import EarlyStopping\n",
        "import tensorflow.python.keras.backend as K\n",
        "from sklearn.metrics import classification_report, confusion_matrix, accuracy_score\n",
        "from sklearn.model_selection import train_test_split, KFold, cross_val_score\n",
        "from sklearn.metrics import mean_absolute_error, mean_squared_error, r2_score\n",
        "import pandas as pd\n",
        "from numpy import mean\n",
        "from numpy import absolute\n",
        "from numpy import sqrt\n",
        "import numpy as np\n",
        "import matplotlib.pyplot as plt\n",
        "from sklearn.pipeline import Pipeline\n",
        "from sklearn.preprocessing import MinMaxScaler, PolynomialFeatures\n",
        "import warnings\n",
        "warnings.filterwarnings('ignore')"
      ]
    },
    {
      "cell_type": "code",
      "execution_count": 2,
      "metadata": {},
      "outputs": [],
      "source": [
        "import pandas as pd"
      ]
    },
    {
      "cell_type": "markdown",
      "metadata": {
        "id": "tD40hkO6CZSC"
      },
      "source": [
        "# DATASET"
      ]
    },
    {
      "cell_type": "code",
      "execution_count": 3,
      "metadata": {
        "id": "F-wZBMdVVp9f"
      },
      "outputs": [],
      "source": [
        "data = pd.read_csv('./data/final_data.csv')"
      ]
    },
    {
      "cell_type": "code",
      "execution_count": null,
      "metadata": {
        "colab": {
          "base_uri": "https://localhost:8080/",
          "height": 143
        },
        "id": "ih7xOk12VrmY",
        "outputId": "8f4e18d2-a46b-44f0-a4a2-f760e5388209"
      },
      "outputs": [
        {
          "data": {
            "text/html": [
              "\n",
              "  <div id=\"df-ac4346bf-7c5a-44a9-b5f6-2214e17f94b0\">\n",
              "    <div class=\"colab-df-container\">\n",
              "      <div>\n",
              "<style scoped>\n",
              "    .dataframe tbody tr th:only-of-type {\n",
              "        vertical-align: middle;\n",
              "    }\n",
              "\n",
              "    .dataframe tbody tr th {\n",
              "        vertical-align: top;\n",
              "    }\n",
              "\n",
              "    .dataframe thead th {\n",
              "        text-align: right;\n",
              "    }\n",
              "</style>\n",
              "<table border=\"1\" class=\"dataframe\">\n",
              "  <thead>\n",
              "    <tr style=\"text-align: right;\">\n",
              "      <th></th>\n",
              "      <th>size</th>\n",
              "      <th>width</th>\n",
              "      <th>length</th>\n",
              "      <th>room</th>\n",
              "      <th>area</th>\n",
              "      <th>ward</th>\n",
              "      <th>toilet</th>\n",
              "      <th>living size</th>\n",
              "      <th>floor</th>\n",
              "      <th>house type</th>\n",
              "      <th>street</th>\n",
              "      <th>price</th>\n",
              "    </tr>\n",
              "  </thead>\n",
              "  <tbody>\n",
              "    <tr>\n",
              "      <th>0</th>\n",
              "      <td>44.0</td>\n",
              "      <td>3.5</td>\n",
              "      <td>12.0</td>\n",
              "      <td>2.0</td>\n",
              "      <td>102</td>\n",
              "      <td>9466.0</td>\n",
              "      <td>2.0</td>\n",
              "      <td>78.04</td>\n",
              "      <td>1.0</td>\n",
              "      <td>3.0</td>\n",
              "      <td>1155</td>\n",
              "      <td>3750000000</td>\n",
              "    </tr>\n",
              "    <tr>\n",
              "      <th>1</th>\n",
              "      <td>65.0</td>\n",
              "      <td>3.8</td>\n",
              "      <td>17.0</td>\n",
              "      <td>6.0</td>\n",
              "      <td>111</td>\n",
              "      <td>9328.0</td>\n",
              "      <td>6.0</td>\n",
              "      <td>238.00</td>\n",
              "      <td>3.6</td>\n",
              "      <td>1.0</td>\n",
              "      <td>1034</td>\n",
              "      <td>18500000000</td>\n",
              "    </tr>\n",
              "    <tr>\n",
              "      <th>2</th>\n",
              "      <td>44.8</td>\n",
              "      <td>3.2</td>\n",
              "      <td>14.0</td>\n",
              "      <td>2.0</td>\n",
              "      <td>104</td>\n",
              "      <td>9256.0</td>\n",
              "      <td>2.0</td>\n",
              "      <td>44.80</td>\n",
              "      <td>1.0</td>\n",
              "      <td>3.0</td>\n",
              "      <td>2168</td>\n",
              "      <td>890000000</td>\n",
              "    </tr>\n",
              "  </tbody>\n",
              "</table>\n",
              "</div>\n",
              "      <button class=\"colab-df-convert\" onclick=\"convertToInteractive('df-ac4346bf-7c5a-44a9-b5f6-2214e17f94b0')\"\n",
              "              title=\"Convert this dataframe to an interactive table.\"\n",
              "              style=\"display:none;\">\n",
              "        \n",
              "  <svg xmlns=\"http://www.w3.org/2000/svg\" height=\"24px\"viewBox=\"0 0 24 24\"\n",
              "       width=\"24px\">\n",
              "    <path d=\"M0 0h24v24H0V0z\" fill=\"none\"/>\n",
              "    <path d=\"M18.56 5.44l.94 2.06.94-2.06 2.06-.94-2.06-.94-.94-2.06-.94 2.06-2.06.94zm-11 1L8.5 8.5l.94-2.06 2.06-.94-2.06-.94L8.5 2.5l-.94 2.06-2.06.94zm10 10l.94 2.06.94-2.06 2.06-.94-2.06-.94-.94-2.06-.94 2.06-2.06.94z\"/><path d=\"M17.41 7.96l-1.37-1.37c-.4-.4-.92-.59-1.43-.59-.52 0-1.04.2-1.43.59L10.3 9.45l-7.72 7.72c-.78.78-.78 2.05 0 2.83L4 21.41c.39.39.9.59 1.41.59.51 0 1.02-.2 1.41-.59l7.78-7.78 2.81-2.81c.8-.78.8-2.07 0-2.86zM5.41 20L4 18.59l7.72-7.72 1.47 1.35L5.41 20z\"/>\n",
              "  </svg>\n",
              "      </button>\n",
              "      \n",
              "  <style>\n",
              "    .colab-df-container {\n",
              "      display:flex;\n",
              "      flex-wrap:wrap;\n",
              "      gap: 12px;\n",
              "    }\n",
              "\n",
              "    .colab-df-convert {\n",
              "      background-color: #E8F0FE;\n",
              "      border: none;\n",
              "      border-radius: 50%;\n",
              "      cursor: pointer;\n",
              "      display: none;\n",
              "      fill: #1967D2;\n",
              "      height: 32px;\n",
              "      padding: 0 0 0 0;\n",
              "      width: 32px;\n",
              "    }\n",
              "\n",
              "    .colab-df-convert:hover {\n",
              "      background-color: #E2EBFA;\n",
              "      box-shadow: 0px 1px 2px rgba(60, 64, 67, 0.3), 0px 1px 3px 1px rgba(60, 64, 67, 0.15);\n",
              "      fill: #174EA6;\n",
              "    }\n",
              "\n",
              "    [theme=dark] .colab-df-convert {\n",
              "      background-color: #3B4455;\n",
              "      fill: #D2E3FC;\n",
              "    }\n",
              "\n",
              "    [theme=dark] .colab-df-convert:hover {\n",
              "      background-color: #434B5C;\n",
              "      box-shadow: 0px 1px 3px 1px rgba(0, 0, 0, 0.15);\n",
              "      filter: drop-shadow(0px 1px 2px rgba(0, 0, 0, 0.3));\n",
              "      fill: #FFFFFF;\n",
              "    }\n",
              "  </style>\n",
              "\n",
              "      <script>\n",
              "        const buttonEl =\n",
              "          document.querySelector('#df-ac4346bf-7c5a-44a9-b5f6-2214e17f94b0 button.colab-df-convert');\n",
              "        buttonEl.style.display =\n",
              "          google.colab.kernel.accessAllowed ? 'block' : 'none';\n",
              "\n",
              "        async function convertToInteractive(key) {\n",
              "          const element = document.querySelector('#df-ac4346bf-7c5a-44a9-b5f6-2214e17f94b0');\n",
              "          const dataTable =\n",
              "            await google.colab.kernel.invokeFunction('convertToInteractive',\n",
              "                                                     [key], {});\n",
              "          if (!dataTable) return;\n",
              "\n",
              "          const docLinkHtml = 'Like what you see? Visit the ' +\n",
              "            '<a target=\"_blank\" href=https://colab.research.google.com/notebooks/data_table.ipynb>data table notebook</a>'\n",
              "            + ' to learn more about interactive tables.';\n",
              "          element.innerHTML = '';\n",
              "          dataTable['output_type'] = 'display_data';\n",
              "          await google.colab.output.renderOutput(dataTable, element);\n",
              "          const docLink = document.createElement('div');\n",
              "          docLink.innerHTML = docLinkHtml;\n",
              "          element.appendChild(docLink);\n",
              "        }\n",
              "      </script>\n",
              "    </div>\n",
              "  </div>\n",
              "  "
            ],
            "text/plain": [
              "   size  width  length  room  area    ward  toilet  living size  floor  \\\n",
              "0  44.0    3.5    12.0   2.0   102  9466.0     2.0        78.04    1.0   \n",
              "1  65.0    3.8    17.0   6.0   111  9328.0     6.0       238.00    3.6   \n",
              "2  44.8    3.2    14.0   2.0   104  9256.0     2.0        44.80    1.0   \n",
              "\n",
              "   house type  street        price  \n",
              "0         3.0    1155   3750000000  \n",
              "1         1.0    1034  18500000000  \n",
              "2         3.0    2168    890000000  "
            ]
          },
          "execution_count": 3,
          "metadata": {},
          "output_type": "execute_result"
        }
      ],
      "source": [
        "data.head(3)"
      ]
    },
    {
      "cell_type": "markdown",
      "metadata": {
        "id": "CRd2n_DoFx_z"
      },
      "source": [
        "Hàm kiểm tra số lượng phần tử có giá dự đoán chênh lệch với giá thực lớn hơn 1 tỷ"
      ]
    },
    {
      "cell_type": "code",
      "execution_count": null,
      "metadata": {
        "id": "6ZLY44d_FxcE"
      },
      "outputs": [],
      "source": [
        "one_billion = 1000000000\n",
        "\n",
        "def find_prediction_error_value(actual, predict):\n",
        "  error = []\n",
        "  negative_integer = []\n",
        "  for i in range(len(predict)):\n",
        "    if predict[i] < 0:\n",
        "      negative_integer.append(actual.index[i])\n",
        "    if abs(predict[i] - actual.iloc[i]) > 1:\n",
        "      error.append(actual.index[i])\n",
        "  return error, negative_integer\n",
        "\n",
        "def root_mean_squared_error(y_true, y_pred):\n",
        "  return K.sqrt(K.mean(K.square(y_pred - y_true)))"
      ]
    },
    {
      "cell_type": "markdown",
      "metadata": {
        "id": "sIC43SPcffwF"
      },
      "source": [
        "# K-FOLD CROSS VALIDATION"
      ]
    },
    {
      "cell_type": "code",
      "execution_count": null,
      "metadata": {
        "id": "xRsnTPc1fjkx"
      },
      "outputs": [],
      "source": [
        "cv = KFold(n_splits=20, random_state=1, shuffle=True)"
      ]
    },
    {
      "cell_type": "markdown",
      "metadata": {
        "id": "S0jo1s3nCixL"
      },
      "source": [
        "# NORMALIZE\n",
        "Chia tỷ lệ dữ liệu trong khoảng từ -1 đến 1"
      ]
    },
    {
      "cell_type": "code",
      "execution_count": null,
      "metadata": {
        "colab": {
          "base_uri": "https://localhost:8080/",
          "height": 206
        },
        "id": "hl0RxlUSWAv-",
        "outputId": "0f2da785-75e5-447b-b4dd-9869777e19d0"
      },
      "outputs": [
        {
          "data": {
            "text/html": [
              "\n",
              "  <div id=\"df-4195f93e-e63f-4f25-b334-339a89823a5d\">\n",
              "    <div class=\"colab-df-container\">\n",
              "      <div>\n",
              "<style scoped>\n",
              "    .dataframe tbody tr th:only-of-type {\n",
              "        vertical-align: middle;\n",
              "    }\n",
              "\n",
              "    .dataframe tbody tr th {\n",
              "        vertical-align: top;\n",
              "    }\n",
              "\n",
              "    .dataframe thead th {\n",
              "        text-align: right;\n",
              "    }\n",
              "</style>\n",
              "<table border=\"1\" class=\"dataframe\">\n",
              "  <thead>\n",
              "    <tr style=\"text-align: right;\">\n",
              "      <th></th>\n",
              "      <th>size</th>\n",
              "      <th>width</th>\n",
              "      <th>length</th>\n",
              "      <th>room</th>\n",
              "      <th>area</th>\n",
              "      <th>ward</th>\n",
              "      <th>toilet</th>\n",
              "      <th>living size</th>\n",
              "      <th>floor</th>\n",
              "      <th>house type</th>\n",
              "      <th>street</th>\n",
              "    </tr>\n",
              "  </thead>\n",
              "  <tbody>\n",
              "    <tr>\n",
              "      <th>0</th>\n",
              "      <td>0.000294</td>\n",
              "      <td>0.30</td>\n",
              "      <td>0.343750</td>\n",
              "      <td>0.142857</td>\n",
              "      <td>0.250000</td>\n",
              "      <td>0.510246</td>\n",
              "      <td>0.142857</td>\n",
              "      <td>0.193083</td>\n",
              "      <td>0.000000</td>\n",
              "      <td>0.666667</td>\n",
              "      <td>0.295623</td>\n",
              "    </tr>\n",
              "    <tr>\n",
              "      <th>1</th>\n",
              "      <td>0.000438</td>\n",
              "      <td>0.36</td>\n",
              "      <td>0.500000</td>\n",
              "      <td>0.714286</td>\n",
              "      <td>0.625000</td>\n",
              "      <td>0.227459</td>\n",
              "      <td>0.714286</td>\n",
              "      <td>0.593985</td>\n",
              "      <td>0.541667</td>\n",
              "      <td>0.000000</td>\n",
              "      <td>0.264653</td>\n",
              "    </tr>\n",
              "    <tr>\n",
              "      <th>2</th>\n",
              "      <td>0.000300</td>\n",
              "      <td>0.24</td>\n",
              "      <td>0.406250</td>\n",
              "      <td>0.142857</td>\n",
              "      <td>0.333333</td>\n",
              "      <td>0.079918</td>\n",
              "      <td>0.142857</td>\n",
              "      <td>0.109774</td>\n",
              "      <td>0.000000</td>\n",
              "      <td>0.666667</td>\n",
              "      <td>0.554901</td>\n",
              "    </tr>\n",
              "    <tr>\n",
              "      <th>3</th>\n",
              "      <td>0.000336</td>\n",
              "      <td>0.48</td>\n",
              "      <td>0.300000</td>\n",
              "      <td>0.285714</td>\n",
              "      <td>0.708333</td>\n",
              "      <td>0.204918</td>\n",
              "      <td>0.142857</td>\n",
              "      <td>0.247820</td>\n",
              "      <td>0.291667</td>\n",
              "      <td>0.666667</td>\n",
              "      <td>0.243409</td>\n",
              "    </tr>\n",
              "    <tr>\n",
              "      <th>4</th>\n",
              "      <td>0.000384</td>\n",
              "      <td>0.20</td>\n",
              "      <td>0.265625</td>\n",
              "      <td>0.142857</td>\n",
              "      <td>0.583333</td>\n",
              "      <td>0.106557</td>\n",
              "      <td>0.142857</td>\n",
              "      <td>0.140351</td>\n",
              "      <td>0.208333</td>\n",
              "      <td>0.666667</td>\n",
              "      <td>0.565907</td>\n",
              "    </tr>\n",
              "  </tbody>\n",
              "</table>\n",
              "</div>\n",
              "      <button class=\"colab-df-convert\" onclick=\"convertToInteractive('df-4195f93e-e63f-4f25-b334-339a89823a5d')\"\n",
              "              title=\"Convert this dataframe to an interactive table.\"\n",
              "              style=\"display:none;\">\n",
              "        \n",
              "  <svg xmlns=\"http://www.w3.org/2000/svg\" height=\"24px\"viewBox=\"0 0 24 24\"\n",
              "       width=\"24px\">\n",
              "    <path d=\"M0 0h24v24H0V0z\" fill=\"none\"/>\n",
              "    <path d=\"M18.56 5.44l.94 2.06.94-2.06 2.06-.94-2.06-.94-.94-2.06-.94 2.06-2.06.94zm-11 1L8.5 8.5l.94-2.06 2.06-.94-2.06-.94L8.5 2.5l-.94 2.06-2.06.94zm10 10l.94 2.06.94-2.06 2.06-.94-2.06-.94-.94-2.06-.94 2.06-2.06.94z\"/><path d=\"M17.41 7.96l-1.37-1.37c-.4-.4-.92-.59-1.43-.59-.52 0-1.04.2-1.43.59L10.3 9.45l-7.72 7.72c-.78.78-.78 2.05 0 2.83L4 21.41c.39.39.9.59 1.41.59.51 0 1.02-.2 1.41-.59l7.78-7.78 2.81-2.81c.8-.78.8-2.07 0-2.86zM5.41 20L4 18.59l7.72-7.72 1.47 1.35L5.41 20z\"/>\n",
              "  </svg>\n",
              "      </button>\n",
              "      \n",
              "  <style>\n",
              "    .colab-df-container {\n",
              "      display:flex;\n",
              "      flex-wrap:wrap;\n",
              "      gap: 12px;\n",
              "    }\n",
              "\n",
              "    .colab-df-convert {\n",
              "      background-color: #E8F0FE;\n",
              "      border: none;\n",
              "      border-radius: 50%;\n",
              "      cursor: pointer;\n",
              "      display: none;\n",
              "      fill: #1967D2;\n",
              "      height: 32px;\n",
              "      padding: 0 0 0 0;\n",
              "      width: 32px;\n",
              "    }\n",
              "\n",
              "    .colab-df-convert:hover {\n",
              "      background-color: #E2EBFA;\n",
              "      box-shadow: 0px 1px 2px rgba(60, 64, 67, 0.3), 0px 1px 3px 1px rgba(60, 64, 67, 0.15);\n",
              "      fill: #174EA6;\n",
              "    }\n",
              "\n",
              "    [theme=dark] .colab-df-convert {\n",
              "      background-color: #3B4455;\n",
              "      fill: #D2E3FC;\n",
              "    }\n",
              "\n",
              "    [theme=dark] .colab-df-convert:hover {\n",
              "      background-color: #434B5C;\n",
              "      box-shadow: 0px 1px 3px 1px rgba(0, 0, 0, 0.15);\n",
              "      filter: drop-shadow(0px 1px 2px rgba(0, 0, 0, 0.3));\n",
              "      fill: #FFFFFF;\n",
              "    }\n",
              "  </style>\n",
              "\n",
              "      <script>\n",
              "        const buttonEl =\n",
              "          document.querySelector('#df-4195f93e-e63f-4f25-b334-339a89823a5d button.colab-df-convert');\n",
              "        buttonEl.style.display =\n",
              "          google.colab.kernel.accessAllowed ? 'block' : 'none';\n",
              "\n",
              "        async function convertToInteractive(key) {\n",
              "          const element = document.querySelector('#df-4195f93e-e63f-4f25-b334-339a89823a5d');\n",
              "          const dataTable =\n",
              "            await google.colab.kernel.invokeFunction('convertToInteractive',\n",
              "                                                     [key], {});\n",
              "          if (!dataTable) return;\n",
              "\n",
              "          const docLinkHtml = 'Like what you see? Visit the ' +\n",
              "            '<a target=\"_blank\" href=https://colab.research.google.com/notebooks/data_table.ipynb>data table notebook</a>'\n",
              "            + ' to learn more about interactive tables.';\n",
              "          element.innerHTML = '';\n",
              "          dataTable['output_type'] = 'display_data';\n",
              "          await google.colab.output.renderOutput(dataTable, element);\n",
              "          const docLink = document.createElement('div');\n",
              "          docLink.innerHTML = docLinkHtml;\n",
              "          element.appendChild(docLink);\n",
              "        }\n",
              "      </script>\n",
              "    </div>\n",
              "  </div>\n",
              "  "
            ],
            "text/plain": [
              "       size  width    length      room      area      ward    toilet  \\\n",
              "0  0.000294   0.30  0.343750  0.142857  0.250000  0.510246  0.142857   \n",
              "1  0.000438   0.36  0.500000  0.714286  0.625000  0.227459  0.714286   \n",
              "2  0.000300   0.24  0.406250  0.142857  0.333333  0.079918  0.142857   \n",
              "3  0.000336   0.48  0.300000  0.285714  0.708333  0.204918  0.142857   \n",
              "4  0.000384   0.20  0.265625  0.142857  0.583333  0.106557  0.142857   \n",
              "\n",
              "   living size     floor  house type    street  \n",
              "0     0.193083  0.000000    0.666667  0.295623  \n",
              "1     0.593985  0.541667    0.000000  0.264653  \n",
              "2     0.109774  0.000000    0.666667  0.554901  \n",
              "3     0.247820  0.291667    0.666667  0.243409  \n",
              "4     0.140351  0.208333    0.666667  0.565907  "
            ]
          },
          "execution_count": 6,
          "metadata": {},
          "output_type": "execute_result"
        }
      ],
      "source": [
        "# data[\"price\"] = np.log(data[\"price\"])\n",
        "# 1 tỉ\n",
        "data[\"price\"] = data[\"price\"]/one_billion\n",
        "X = data.drop(\"price\", axis=1)\n",
        "y = data[\"price\"]\n",
        "scaler = MinMaxScaler()\n",
        "feature_minmax_transform_data = scaler.fit_transform(X)\n",
        "X = pd.DataFrame(columns=X.columns, data=feature_minmax_transform_data)\n",
        "X.head()"
      ]
    },
    {
      "cell_type": "markdown",
      "metadata": {
        "id": "NjqoJajZCq4Z"
      },
      "source": [
        "# TRAIN TEST SPLIT"
      ]
    },
    {
      "cell_type": "code",
      "execution_count": null,
      "metadata": {
        "id": "1FfZg80KWInY"
      },
      "outputs": [],
      "source": [
        "X_train, X_test, y_train, y_test = train_test_split(X, y, test_size = 0.25, random_state = 101)\n",
        "X_train, X_val, y_train, y_val = train_test_split(X_train, y_train, test_size=0.25, random_state = 8)"
      ]
    },
    {
      "cell_type": "code",
      "execution_count": null,
      "metadata": {
        "colab": {
          "base_uri": "https://localhost:8080/"
        },
        "id": "WpwjNw6bWKOd",
        "outputId": "d4822897-1687-452a-b283-3abf51318d5c"
      },
      "outputs": [
        {
          "name": "stdout",
          "output_type": "stream",
          "text": [
            "X_train shape: (44542, 11)\n",
            "y_train shape: (44542,)\n",
            "X_test shape: (19797, 11)\n",
            "y_test shape: (19797,)\n",
            "X_val shape: (14848, 11)\n",
            "y_val shape: (14848,)\n"
          ]
        }
      ],
      "source": [
        "print(\"X_train shape: {}\".format(X_train.shape))\n",
        "print(\"y_train shape: {}\".format(y_train.shape))\n",
        "print(\"X_test shape: {}\".format(X_test.shape))\n",
        "print(\"y_test shape: {}\".format(y_test.shape))\n",
        "print(\"X_val shape: {}\".format(X_val.shape))\n",
        "print(\"y_val shape: {}\".format(y_val.shape))"
      ]
    },
    {
      "cell_type": "code",
      "execution_count": null,
      "metadata": {
        "id": "q5gusY0hiWqE"
      },
      "outputs": [],
      "source": [
        "X_train = np.array(X_train)\n",
        "X_test = np.array(X_test)\n",
        "X_val = np.array(X_val)\n",
        "\n",
        "X_tr_t = X_train.reshape(X_train.shape[0], 1, X_train.shape[1])\n",
        "X_tst_t = X_test.reshape(X_test.shape[0], 1, X_test.shape[1])\n",
        "X_vl_t = X_val.reshape(X_val.shape[0], 1, X_val.shape[1])"
      ]
    },
    {
      "cell_type": "markdown",
      "metadata": {
        "id": "LbGdHlBvCt6D"
      },
      "source": [
        "# MODEL"
      ]
    },
    {
      "cell_type": "code",
      "execution_count": null,
      "metadata": {
        "id": "wk1kl7bYdb0U"
      },
      "outputs": [],
      "source": [
        "labels_kfold = ['NN','LSTM', 'Linear', 'Ridge', 'Lasso', 'Polynomial', 'Bayesian Linear']\n",
        "labels = ['Linear', 'Ridge', 'Lasso', 'Polynomial', 'Bayesian Linear']\n",
        "compa_n_mse = []\n",
        "compa_n_mae = []\n",
        "compa_n_rmse = []\n",
        "compa_n_r2 = []\n",
        "compa_k_mse = []\n",
        "compa_k_mae = []\n",
        "compa_k_rmse = []\n",
        "compa_k_r2 = []"
      ]
    },
    {
      "cell_type": "markdown",
      "metadata": {
        "id": "-cuRzaGQLP0U"
      },
      "source": [
        "## NN"
      ]
    },
    {
      "cell_type": "markdown",
      "metadata": {
        "id": "8fVgYanNL1Is"
      },
      "source": [
        "### Model structure"
      ]
    },
    {
      "cell_type": "code",
      "execution_count": null,
      "metadata": {
        "colab": {
          "base_uri": "https://localhost:8080/"
        },
        "id": "rzQpqVu_LSDk",
        "outputId": "c97b6efb-cd42-4277-f762-45d1d9df039d"
      },
      "outputs": [
        {
          "name": "stdout",
          "output_type": "stream",
          "text": [
            "Model: \"sequential\"\n",
            "_________________________________________________________________\n",
            "Layer (type)                 Output Shape              Param #   \n",
            "=================================================================\n",
            "dense (Dense)                (None, 32)                384       \n",
            "_________________________________________________________________\n",
            "dense_1 (Dense)              (None, 16)                528       \n",
            "_________________________________________________________________\n",
            "dense_2 (Dense)              (None, 1)                 17        \n",
            "=================================================================\n",
            "Total params: 929\n",
            "Trainable params: 929\n",
            "Non-trainable params: 0\n",
            "_________________________________________________________________\n"
          ]
        }
      ],
      "source": [
        "K.clear_session()\n",
        "model_nn = Sequential()\n",
        "model_nn.add(Dense(32, input_dim=X_train.shape[1], activation='relu', kernel_initializer='he_normal'))\n",
        "model_nn.add(Dense(16, activation='relu', kernel_initializer='he_normal'))\n",
        "model_nn.add(Dense(1, activation='linear'))\n",
        "\n",
        "model_nn.summary()"
      ]
    },
    {
      "cell_type": "markdown",
      "metadata": {
        "id": "Urp7e_X09qMo"
      },
      "source": [
        "### MSE"
      ]
    },
    {
      "cell_type": "code",
      "execution_count": null,
      "metadata": {
        "colab": {
          "base_uri": "https://localhost:8080/"
        },
        "id": "tJgh09fvL_JE",
        "outputId": "3fbf5f36-05b0-4827-88c7-80083d443b6f"
      },
      "outputs": [
        {
          "name": "stdout",
          "output_type": "stream",
          "text": [
            "Epoch 1/400\n",
            "174/174 [==============================] - 4s 3ms/step - loss: 20.0526 - accuracy: 0.0012 - val_loss: 8.8242 - val_accuracy: 0.0015\n",
            "Epoch 2/400\n",
            "174/174 [==============================] - 0s 3ms/step - loss: 7.4752 - accuracy: 0.0016 - val_loss: 7.2476 - val_accuracy: 0.0015\n",
            "Epoch 3/400\n",
            "174/174 [==============================] - 0s 3ms/step - loss: 6.9901 - accuracy: 0.0015 - val_loss: 7.0674 - val_accuracy: 0.0015\n",
            "Epoch 4/400\n",
            "174/174 [==============================] - 0s 3ms/step - loss: 6.8574 - accuracy: 0.0015 - val_loss: 6.9710 - val_accuracy: 0.0015\n",
            "Epoch 5/400\n",
            "174/174 [==============================] - 0s 3ms/step - loss: 6.7752 - accuracy: 0.0015 - val_loss: 6.9195 - val_accuracy: 0.0015\n",
            "Epoch 6/400\n",
            "174/174 [==============================] - 0s 3ms/step - loss: 6.7075 - accuracy: 0.0015 - val_loss: 6.8452 - val_accuracy: 0.0015\n",
            "Epoch 7/400\n",
            "174/174 [==============================] - 0s 3ms/step - loss: 6.6435 - accuracy: 0.0016 - val_loss: 6.8161 - val_accuracy: 0.0015\n",
            "Epoch 8/400\n",
            "174/174 [==============================] - 0s 3ms/step - loss: 6.5775 - accuracy: 0.0016 - val_loss: 6.7489 - val_accuracy: 0.0015\n",
            "Epoch 9/400\n",
            "174/174 [==============================] - 0s 3ms/step - loss: 6.5011 - accuracy: 0.0016 - val_loss: 6.6133 - val_accuracy: 0.0015\n",
            "Epoch 10/400\n",
            "174/174 [==============================] - 0s 3ms/step - loss: 6.4093 - accuracy: 0.0016 - val_loss: 6.5233 - val_accuracy: 0.0015\n",
            "Epoch 11/400\n",
            "174/174 [==============================] - 0s 3ms/step - loss: 6.3009 - accuracy: 0.0016 - val_loss: 6.4712 - val_accuracy: 0.0015\n",
            "Epoch 12/400\n",
            "174/174 [==============================] - 0s 3ms/step - loss: 6.2105 - accuracy: 0.0016 - val_loss: 6.3429 - val_accuracy: 0.0015\n",
            "Epoch 13/400\n",
            "174/174 [==============================] - 0s 3ms/step - loss: 6.1337 - accuracy: 0.0016 - val_loss: 6.2724 - val_accuracy: 0.0015\n",
            "Epoch 14/400\n",
            "174/174 [==============================] - 0s 3ms/step - loss: 6.0648 - accuracy: 0.0016 - val_loss: 6.2136 - val_accuracy: 0.0015\n",
            "Epoch 15/400\n",
            "174/174 [==============================] - 0s 3ms/step - loss: 6.0276 - accuracy: 0.0016 - val_loss: 6.2452 - val_accuracy: 0.0015\n",
            "Epoch 16/400\n",
            "174/174 [==============================] - 0s 3ms/step - loss: 5.9683 - accuracy: 0.0016 - val_loss: 6.1912 - val_accuracy: 0.0015\n",
            "Epoch 17/400\n",
            "174/174 [==============================] - 0s 3ms/step - loss: 5.9238 - accuracy: 0.0016 - val_loss: 6.1050 - val_accuracy: 0.0015\n",
            "Epoch 18/400\n",
            "174/174 [==============================] - 1s 3ms/step - loss: 5.8866 - accuracy: 0.0016 - val_loss: 6.0533 - val_accuracy: 0.0015\n",
            "Epoch 19/400\n",
            "174/174 [==============================] - 0s 3ms/step - loss: 5.8373 - accuracy: 0.0016 - val_loss: 6.0024 - val_accuracy: 0.0015\n",
            "Epoch 20/400\n",
            "174/174 [==============================] - 1s 3ms/step - loss: 5.7997 - accuracy: 0.0016 - val_loss: 5.9853 - val_accuracy: 0.0015\n",
            "Epoch 21/400\n",
            "174/174 [==============================] - 1s 3ms/step - loss: 5.7697 - accuracy: 0.0016 - val_loss: 5.9397 - val_accuracy: 0.0015\n",
            "Epoch 22/400\n",
            "174/174 [==============================] - 0s 3ms/step - loss: 5.7386 - accuracy: 0.0016 - val_loss: 5.9226 - val_accuracy: 0.0015\n",
            "Epoch 23/400\n",
            "174/174 [==============================] - 0s 3ms/step - loss: 5.7219 - accuracy: 0.0016 - val_loss: 5.9105 - val_accuracy: 0.0015\n",
            "Epoch 24/400\n",
            "174/174 [==============================] - 1s 3ms/step - loss: 5.7007 - accuracy: 0.0016 - val_loss: 5.8941 - val_accuracy: 0.0015\n",
            "Epoch 25/400\n",
            "174/174 [==============================] - 0s 3ms/step - loss: 5.6657 - accuracy: 0.0016 - val_loss: 5.8838 - val_accuracy: 0.0015\n",
            "Epoch 26/400\n",
            "174/174 [==============================] - 0s 3ms/step - loss: 5.6523 - accuracy: 0.0016 - val_loss: 5.8410 - val_accuracy: 0.0015\n",
            "Epoch 27/400\n",
            "174/174 [==============================] - 0s 3ms/step - loss: 5.6325 - accuracy: 0.0016 - val_loss: 5.8353 - val_accuracy: 0.0015\n",
            "Epoch 28/400\n",
            "174/174 [==============================] - 0s 3ms/step - loss: 5.6230 - accuracy: 0.0016 - val_loss: 5.8388 - val_accuracy: 0.0015\n",
            "Epoch 29/400\n",
            "174/174 [==============================] - 0s 3ms/step - loss: 5.6102 - accuracy: 0.0016 - val_loss: 5.8151 - val_accuracy: 0.0015\n",
            "Epoch 30/400\n",
            "174/174 [==============================] - 0s 3ms/step - loss: 5.6007 - accuracy: 0.0016 - val_loss: 5.8224 - val_accuracy: 0.0015\n",
            "Epoch 31/400\n",
            "174/174 [==============================] - 0s 3ms/step - loss: 5.5908 - accuracy: 0.0016 - val_loss: 5.7965 - val_accuracy: 0.0015\n",
            "Epoch 32/400\n",
            "174/174 [==============================] - 1s 3ms/step - loss: 5.5669 - accuracy: 0.0016 - val_loss: 5.8027 - val_accuracy: 0.0015\n",
            "Epoch 33/400\n",
            "174/174 [==============================] - 1s 3ms/step - loss: 5.5603 - accuracy: 0.0016 - val_loss: 5.7724 - val_accuracy: 0.0015\n",
            "Epoch 34/400\n",
            "174/174 [==============================] - 0s 3ms/step - loss: 5.5543 - accuracy: 0.0016 - val_loss: 5.8024 - val_accuracy: 0.0015\n",
            "Epoch 35/400\n",
            "174/174 [==============================] - 0s 3ms/step - loss: 5.5502 - accuracy: 0.0016 - val_loss: 5.8067 - val_accuracy: 0.0015\n",
            "Epoch 36/400\n",
            "174/174 [==============================] - 0s 3ms/step - loss: 5.5356 - accuracy: 0.0016 - val_loss: 5.7571 - val_accuracy: 0.0015\n",
            "Epoch 37/400\n",
            "174/174 [==============================] - 0s 3ms/step - loss: 5.5245 - accuracy: 0.0016 - val_loss: 5.7510 - val_accuracy: 0.0015\n",
            "Epoch 38/400\n",
            "174/174 [==============================] - 1s 3ms/step - loss: 5.5212 - accuracy: 0.0016 - val_loss: 5.7470 - val_accuracy: 0.0015\n",
            "Epoch 39/400\n",
            "174/174 [==============================] - 0s 3ms/step - loss: 5.5045 - accuracy: 0.0016 - val_loss: 5.7743 - val_accuracy: 0.0015\n",
            "Epoch 40/400\n",
            "174/174 [==============================] - 0s 3ms/step - loss: 5.5140 - accuracy: 0.0016 - val_loss: 5.7311 - val_accuracy: 0.0015\n",
            "Epoch 41/400\n",
            "174/174 [==============================] - 0s 3ms/step - loss: 5.4985 - accuracy: 0.0016 - val_loss: 5.7296 - val_accuracy: 0.0015\n",
            "Epoch 42/400\n",
            "174/174 [==============================] - 0s 3ms/step - loss: 5.4880 - accuracy: 0.0016 - val_loss: 5.7381 - val_accuracy: 0.0015\n",
            "Epoch 43/400\n",
            "174/174 [==============================] - 1s 3ms/step - loss: 5.4792 - accuracy: 0.0016 - val_loss: 5.7154 - val_accuracy: 0.0015\n",
            "Epoch 44/400\n",
            "174/174 [==============================] - 0s 3ms/step - loss: 5.4751 - accuracy: 0.0016 - val_loss: 5.7300 - val_accuracy: 0.0015\n",
            "Epoch 45/400\n",
            "174/174 [==============================] - 0s 3ms/step - loss: 5.4703 - accuracy: 0.0016 - val_loss: 5.7344 - val_accuracy: 0.0015\n",
            "Epoch 46/400\n",
            "174/174 [==============================] - 0s 3ms/step - loss: 5.4628 - accuracy: 0.0016 - val_loss: 5.7012 - val_accuracy: 0.0015\n",
            "Epoch 47/400\n",
            "174/174 [==============================] - 0s 3ms/step - loss: 5.4635 - accuracy: 0.0016 - val_loss: 5.7101 - val_accuracy: 0.0015\n",
            "Epoch 48/400\n",
            "174/174 [==============================] - 0s 3ms/step - loss: 5.4612 - accuracy: 0.0016 - val_loss: 5.6962 - val_accuracy: 0.0015\n",
            "Epoch 49/400\n",
            "174/174 [==============================] - 0s 3ms/step - loss: 5.4487 - accuracy: 0.0016 - val_loss: 5.7175 - val_accuracy: 0.0015\n",
            "Epoch 50/400\n",
            "174/174 [==============================] - 0s 3ms/step - loss: 5.4425 - accuracy: 0.0016 - val_loss: 5.6930 - val_accuracy: 0.0015\n",
            "Epoch 51/400\n",
            "174/174 [==============================] - 0s 3ms/step - loss: 5.4416 - accuracy: 0.0016 - val_loss: 5.6785 - val_accuracy: 0.0015\n",
            "Epoch 52/400\n",
            "174/174 [==============================] - 0s 3ms/step - loss: 5.4375 - accuracy: 0.0016 - val_loss: 5.7190 - val_accuracy: 0.0015\n",
            "Epoch 53/400\n",
            "174/174 [==============================] - 1s 3ms/step - loss: 5.4313 - accuracy: 0.0016 - val_loss: 5.6889 - val_accuracy: 0.0015\n",
            "Epoch 54/400\n",
            "174/174 [==============================] - 0s 3ms/step - loss: 5.4393 - accuracy: 0.0016 - val_loss: 5.8124 - val_accuracy: 0.0015\n",
            "Epoch 55/400\n",
            "174/174 [==============================] - 0s 3ms/step - loss: 5.4216 - accuracy: 0.0016 - val_loss: 5.6952 - val_accuracy: 0.0015\n",
            "Epoch 56/400\n",
            "174/174 [==============================] - 0s 3ms/step - loss: 5.4223 - accuracy: 0.0016 - val_loss: 5.6598 - val_accuracy: 0.0015\n",
            "Epoch 57/400\n",
            "174/174 [==============================] - 0s 3ms/step - loss: 5.4046 - accuracy: 0.0016 - val_loss: 5.6562 - val_accuracy: 0.0015\n",
            "Epoch 58/400\n",
            "174/174 [==============================] - 1s 3ms/step - loss: 5.4084 - accuracy: 0.0016 - val_loss: 5.6789 - val_accuracy: 0.0015\n",
            "Epoch 59/400\n",
            "174/174 [==============================] - 1s 3ms/step - loss: 5.4217 - accuracy: 0.0015 - val_loss: 5.7287 - val_accuracy: 0.0015\n",
            "Epoch 60/400\n",
            "174/174 [==============================] - 0s 3ms/step - loss: 5.4004 - accuracy: 0.0016 - val_loss: 5.6523 - val_accuracy: 0.0015\n",
            "Epoch 61/400\n",
            "174/174 [==============================] - 0s 3ms/step - loss: 5.3795 - accuracy: 0.0016 - val_loss: 5.6442 - val_accuracy: 0.0015\n",
            "Epoch 62/400\n",
            "174/174 [==============================] - 0s 3ms/step - loss: 5.3959 - accuracy: 0.0016 - val_loss: 5.6431 - val_accuracy: 0.0015\n",
            "Epoch 63/400\n",
            "174/174 [==============================] - 0s 3ms/step - loss: 5.3817 - accuracy: 0.0016 - val_loss: 5.6294 - val_accuracy: 0.0015\n",
            "Epoch 64/400\n",
            "174/174 [==============================] - 1s 3ms/step - loss: 5.3892 - accuracy: 0.0016 - val_loss: 5.6399 - val_accuracy: 0.0015\n",
            "Epoch 65/400\n",
            "174/174 [==============================] - 0s 3ms/step - loss: 5.3770 - accuracy: 0.0016 - val_loss: 5.6368 - val_accuracy: 0.0015\n",
            "Epoch 66/400\n",
            "174/174 [==============================] - 0s 3ms/step - loss: 5.3639 - accuracy: 0.0016 - val_loss: 5.6205 - val_accuracy: 0.0015\n",
            "Epoch 67/400\n",
            "174/174 [==============================] - 0s 3ms/step - loss: 5.3609 - accuracy: 0.0015 - val_loss: 5.6286 - val_accuracy: 0.0015\n",
            "Epoch 68/400\n",
            "174/174 [==============================] - 0s 3ms/step - loss: 5.3700 - accuracy: 0.0016 - val_loss: 5.6266 - val_accuracy: 0.0015\n",
            "Epoch 69/400\n",
            "174/174 [==============================] - 0s 3ms/step - loss: 5.3573 - accuracy: 0.0016 - val_loss: 5.6234 - val_accuracy: 0.0015\n",
            "Epoch 70/400\n",
            "174/174 [==============================] - 0s 3ms/step - loss: 5.3609 - accuracy: 0.0016 - val_loss: 5.6573 - val_accuracy: 0.0015\n",
            "Epoch 71/400\n",
            "174/174 [==============================] - 0s 3ms/step - loss: 5.3396 - accuracy: 0.0016 - val_loss: 5.6437 - val_accuracy: 0.0015\n",
            "Epoch 72/400\n",
            "174/174 [==============================] - 0s 3ms/step - loss: 5.3378 - accuracy: 0.0016 - val_loss: 5.6161 - val_accuracy: 0.0015\n",
            "Epoch 73/400\n",
            "174/174 [==============================] - 0s 3ms/step - loss: 5.3366 - accuracy: 0.0016 - val_loss: 5.6259 - val_accuracy: 0.0015\n",
            "Epoch 74/400\n",
            "174/174 [==============================] - 0s 3ms/step - loss: 5.3357 - accuracy: 0.0016 - val_loss: 5.6110 - val_accuracy: 0.0015\n",
            "Epoch 75/400\n",
            "174/174 [==============================] - 0s 3ms/step - loss: 5.3314 - accuracy: 0.0016 - val_loss: 5.5970 - val_accuracy: 0.0015\n",
            "Epoch 76/400\n",
            "174/174 [==============================] - 0s 3ms/step - loss: 5.3251 - accuracy: 0.0016 - val_loss: 5.5845 - val_accuracy: 0.0015\n",
            "Epoch 77/400\n",
            "174/174 [==============================] - 1s 3ms/step - loss: 5.3223 - accuracy: 0.0016 - val_loss: 5.5922 - val_accuracy: 0.0015\n",
            "Epoch 78/400\n",
            "174/174 [==============================] - 0s 3ms/step - loss: 5.3180 - accuracy: 0.0016 - val_loss: 5.5804 - val_accuracy: 0.0015\n",
            "Epoch 79/400\n",
            "174/174 [==============================] - 0s 3ms/step - loss: 5.3191 - accuracy: 0.0016 - val_loss: 5.5875 - val_accuracy: 0.0015\n",
            "Epoch 80/400\n",
            "174/174 [==============================] - 0s 3ms/step - loss: 5.3119 - accuracy: 0.0016 - val_loss: 5.5788 - val_accuracy: 0.0015\n",
            "Epoch 81/400\n",
            "174/174 [==============================] - 0s 3ms/step - loss: 5.3139 - accuracy: 0.0016 - val_loss: 5.5942 - val_accuracy: 0.0015\n",
            "Epoch 82/400\n",
            "174/174 [==============================] - 0s 3ms/step - loss: 5.3082 - accuracy: 0.0016 - val_loss: 5.5793 - val_accuracy: 0.0015\n",
            "Epoch 83/400\n",
            "174/174 [==============================] - 0s 3ms/step - loss: 5.2998 - accuracy: 0.0016 - val_loss: 5.5704 - val_accuracy: 0.0015\n",
            "Epoch 84/400\n",
            "174/174 [==============================] - 0s 3ms/step - loss: 5.2986 - accuracy: 0.0016 - val_loss: 5.5612 - val_accuracy: 0.0015\n",
            "Epoch 85/400\n",
            "174/174 [==============================] - 0s 3ms/step - loss: 5.2947 - accuracy: 0.0016 - val_loss: 5.5714 - val_accuracy: 0.0015\n",
            "Epoch 86/400\n",
            "174/174 [==============================] - 0s 3ms/step - loss: 5.2891 - accuracy: 0.0016 - val_loss: 5.5639 - val_accuracy: 0.0015\n",
            "Epoch 87/400\n",
            "174/174 [==============================] - 0s 3ms/step - loss: 5.2938 - accuracy: 0.0016 - val_loss: 5.5813 - val_accuracy: 0.0015\n",
            "Epoch 88/400\n",
            "174/174 [==============================] - 0s 3ms/step - loss: 5.2850 - accuracy: 0.0016 - val_loss: 5.5523 - val_accuracy: 0.0015\n",
            "Epoch 89/400\n",
            "174/174 [==============================] - 0s 3ms/step - loss: 5.2793 - accuracy: 0.0016 - val_loss: 5.5581 - val_accuracy: 0.0015\n",
            "Epoch 90/400\n",
            "174/174 [==============================] - 1s 4ms/step - loss: 5.2804 - accuracy: 0.0016 - val_loss: 5.5917 - val_accuracy: 0.0015\n",
            "Epoch 91/400\n",
            "174/174 [==============================] - 1s 4ms/step - loss: 5.2802 - accuracy: 0.0016 - val_loss: 5.5402 - val_accuracy: 0.0015\n",
            "Epoch 92/400\n",
            "174/174 [==============================] - 1s 4ms/step - loss: 5.2651 - accuracy: 0.0016 - val_loss: 5.5424 - val_accuracy: 0.0015\n",
            "Epoch 93/400\n",
            "174/174 [==============================] - 1s 4ms/step - loss: 5.2638 - accuracy: 0.0016 - val_loss: 5.5390 - val_accuracy: 0.0015\n",
            "Epoch 94/400\n",
            "174/174 [==============================] - 1s 4ms/step - loss: 5.2611 - accuracy: 0.0016 - val_loss: 5.5624 - val_accuracy: 0.0015\n",
            "Epoch 95/400\n",
            "174/174 [==============================] - 0s 3ms/step - loss: 5.2582 - accuracy: 0.0016 - val_loss: 5.5479 - val_accuracy: 0.0015\n",
            "Epoch 96/400\n",
            "174/174 [==============================] - 1s 3ms/step - loss: 5.2548 - accuracy: 0.0016 - val_loss: 5.5280 - val_accuracy: 0.0015\n",
            "Epoch 97/400\n",
            "174/174 [==============================] - 0s 3ms/step - loss: 5.2506 - accuracy: 0.0016 - val_loss: 5.5211 - val_accuracy: 0.0015\n",
            "Epoch 98/400\n",
            "174/174 [==============================] - 0s 3ms/step - loss: 5.2554 - accuracy: 0.0016 - val_loss: 5.5328 - val_accuracy: 0.0015\n",
            "Epoch 99/400\n",
            "174/174 [==============================] - 0s 3ms/step - loss: 5.2442 - accuracy: 0.0016 - val_loss: 5.5505 - val_accuracy: 0.0015\n",
            "Epoch 100/400\n",
            "174/174 [==============================] - 0s 3ms/step - loss: 5.2656 - accuracy: 0.0016 - val_loss: 5.5200 - val_accuracy: 0.0015\n",
            "Epoch 101/400\n",
            "174/174 [==============================] - 0s 3ms/step - loss: 5.2485 - accuracy: 0.0016 - val_loss: 5.5501 - val_accuracy: 0.0015\n",
            "Epoch 102/400\n",
            "174/174 [==============================] - 1s 4ms/step - loss: 5.2435 - accuracy: 0.0016 - val_loss: 5.5866 - val_accuracy: 0.0015\n",
            "Epoch 103/400\n",
            "174/174 [==============================] - 1s 5ms/step - loss: 5.2329 - accuracy: 0.0016 - val_loss: 5.5324 - val_accuracy: 0.0015\n",
            "Epoch 104/400\n",
            "174/174 [==============================] - 1s 6ms/step - loss: 5.2313 - accuracy: 0.0016 - val_loss: 5.5117 - val_accuracy: 0.0015\n",
            "Epoch 105/400\n",
            "174/174 [==============================] - 1s 5ms/step - loss: 5.2329 - accuracy: 0.0016 - val_loss: 5.5001 - val_accuracy: 0.0015\n",
            "Epoch 106/400\n",
            "174/174 [==============================] - 1s 5ms/step - loss: 5.2277 - accuracy: 0.0016 - val_loss: 5.5173 - val_accuracy: 0.0015\n",
            "Epoch 107/400\n",
            "174/174 [==============================] - 1s 5ms/step - loss: 5.2270 - accuracy: 0.0016 - val_loss: 5.4995 - val_accuracy: 0.0015\n",
            "Epoch 108/400\n",
            "174/174 [==============================] - 1s 6ms/step - loss: 5.2275 - accuracy: 0.0016 - val_loss: 5.5587 - val_accuracy: 0.0015\n",
            "Epoch 109/400\n",
            "174/174 [==============================] - 1s 5ms/step - loss: 5.2250 - accuracy: 0.0016 - val_loss: 5.5028 - val_accuracy: 0.0015\n",
            "Epoch 110/400\n",
            "174/174 [==============================] - 1s 6ms/step - loss: 5.2211 - accuracy: 0.0016 - val_loss: 5.4920 - val_accuracy: 0.0015\n",
            "Epoch 111/400\n",
            "174/174 [==============================] - 1s 6ms/step - loss: 5.2262 - accuracy: 0.0016 - val_loss: 5.4917 - val_accuracy: 0.0015\n",
            "Epoch 112/400\n",
            "174/174 [==============================] - 1s 5ms/step - loss: 5.2167 - accuracy: 0.0016 - val_loss: 5.5174 - val_accuracy: 0.0015\n",
            "Epoch 113/400\n",
            "174/174 [==============================] - 1s 5ms/step - loss: 5.2052 - accuracy: 0.0016 - val_loss: 5.5264 - val_accuracy: 0.0015\n",
            "Epoch 114/400\n",
            "174/174 [==============================] - 1s 5ms/step - loss: 5.2126 - accuracy: 0.0016 - val_loss: 5.4975 - val_accuracy: 0.0015\n",
            "Epoch 115/400\n",
            "174/174 [==============================] - 1s 4ms/step - loss: 5.2179 - accuracy: 0.0016 - val_loss: 5.5809 - val_accuracy: 0.0015\n",
            "Epoch 116/400\n",
            "174/174 [==============================] - 1s 4ms/step - loss: 5.2054 - accuracy: 0.0016 - val_loss: 5.5534 - val_accuracy: 0.0015\n",
            "Epoch 117/400\n",
            "174/174 [==============================] - 1s 7ms/step - loss: 5.2055 - accuracy: 0.0016 - val_loss: 5.5011 - val_accuracy: 0.0015\n",
            "Epoch 118/400\n",
            "174/174 [==============================] - 1s 5ms/step - loss: 5.2041 - accuracy: 0.0016 - val_loss: 5.5258 - val_accuracy: 0.0015\n",
            "Epoch 119/400\n",
            "174/174 [==============================] - 1s 5ms/step - loss: 5.2043 - accuracy: 0.0016 - val_loss: 5.4900 - val_accuracy: 0.0015\n",
            "Epoch 120/400\n",
            "174/174 [==============================] - 1s 5ms/step - loss: 5.2037 - accuracy: 0.0016 - val_loss: 5.4843 - val_accuracy: 0.0015\n",
            "Epoch 121/400\n",
            "174/174 [==============================] - 1s 3ms/step - loss: 5.1955 - accuracy: 0.0016 - val_loss: 5.4963 - val_accuracy: 0.0015\n",
            "Epoch 122/400\n",
            "174/174 [==============================] - 0s 3ms/step - loss: 5.1918 - accuracy: 0.0016 - val_loss: 5.4913 - val_accuracy: 0.0015\n",
            "Epoch 123/400\n",
            "174/174 [==============================] - 0s 3ms/step - loss: 5.1923 - accuracy: 0.0016 - val_loss: 5.4845 - val_accuracy: 0.0015\n",
            "Epoch 124/400\n",
            "174/174 [==============================] - 0s 3ms/step - loss: 5.1888 - accuracy: 0.0016 - val_loss: 5.5805 - val_accuracy: 0.0015\n",
            "Epoch 125/400\n",
            "174/174 [==============================] - 0s 3ms/step - loss: 5.2071 - accuracy: 0.0016 - val_loss: 5.4906 - val_accuracy: 0.0015\n",
            "Epoch 126/400\n",
            "174/174 [==============================] - 0s 3ms/step - loss: 5.1928 - accuracy: 0.0016 - val_loss: 5.4904 - val_accuracy: 0.0015\n",
            "Epoch 127/400\n",
            "174/174 [==============================] - 0s 3ms/step - loss: 5.1914 - accuracy: 0.0016 - val_loss: 5.4756 - val_accuracy: 0.0015\n",
            "Epoch 128/400\n",
            "174/174 [==============================] - 0s 3ms/step - loss: 5.1849 - accuracy: 0.0016 - val_loss: 5.4687 - val_accuracy: 0.0015\n",
            "Epoch 129/400\n",
            "174/174 [==============================] - 0s 3ms/step - loss: 5.1874 - accuracy: 0.0016 - val_loss: 5.5140 - val_accuracy: 0.0015\n",
            "Epoch 130/400\n",
            "174/174 [==============================] - 1s 3ms/step - loss: 5.1733 - accuracy: 0.0016 - val_loss: 5.4673 - val_accuracy: 0.0015\n",
            "Epoch 131/400\n",
            "174/174 [==============================] - 0s 3ms/step - loss: 5.1840 - accuracy: 0.0016 - val_loss: 5.4675 - val_accuracy: 0.0015\n",
            "Epoch 132/400\n",
            "174/174 [==============================] - 1s 3ms/step - loss: 5.1813 - accuracy: 0.0016 - val_loss: 5.4602 - val_accuracy: 0.0015\n",
            "Epoch 133/400\n",
            "174/174 [==============================] - 0s 3ms/step - loss: 5.1684 - accuracy: 0.0016 - val_loss: 5.4744 - val_accuracy: 0.0015\n",
            "Epoch 134/400\n",
            "174/174 [==============================] - 1s 3ms/step - loss: 5.1722 - accuracy: 0.0016 - val_loss: 5.4831 - val_accuracy: 0.0015\n",
            "Epoch 135/400\n",
            "174/174 [==============================] - 1s 3ms/step - loss: 5.1786 - accuracy: 0.0016 - val_loss: 5.5251 - val_accuracy: 0.0015\n",
            "Epoch 136/400\n",
            "174/174 [==============================] - 0s 3ms/step - loss: 5.1674 - accuracy: 0.0016 - val_loss: 5.4850 - val_accuracy: 0.0015\n",
            "Epoch 137/400\n",
            "174/174 [==============================] - 1s 3ms/step - loss: 5.1751 - accuracy: 0.0016 - val_loss: 5.4658 - val_accuracy: 0.0015\n",
            "Epoch 138/400\n",
            "174/174 [==============================] - 0s 3ms/step - loss: 5.1627 - accuracy: 0.0016 - val_loss: 5.4671 - val_accuracy: 0.0015\n",
            "Epoch 139/400\n",
            "174/174 [==============================] - 0s 3ms/step - loss: 5.1561 - accuracy: 0.0016 - val_loss: 5.4656 - val_accuracy: 0.0015\n",
            "Epoch 140/400\n",
            "174/174 [==============================] - 1s 3ms/step - loss: 5.1717 - accuracy: 0.0016 - val_loss: 5.4945 - val_accuracy: 0.0015\n",
            "Epoch 141/400\n",
            "174/174 [==============================] - 1s 3ms/step - loss: 5.1642 - accuracy: 0.0016 - val_loss: 5.4524 - val_accuracy: 0.0015\n",
            "Epoch 142/400\n",
            "174/174 [==============================] - 1s 3ms/step - loss: 5.1534 - accuracy: 0.0016 - val_loss: 5.4493 - val_accuracy: 0.0015\n",
            "Epoch 143/400\n",
            "174/174 [==============================] - 0s 3ms/step - loss: 5.1568 - accuracy: 0.0016 - val_loss: 5.4595 - val_accuracy: 0.0015\n",
            "Epoch 144/400\n",
            "174/174 [==============================] - 1s 3ms/step - loss: 5.1679 - accuracy: 0.0016 - val_loss: 5.4802 - val_accuracy: 0.0015\n",
            "Epoch 145/400\n",
            "174/174 [==============================] - 0s 3ms/step - loss: 5.1579 - accuracy: 0.0016 - val_loss: 5.4543 - val_accuracy: 0.0015\n",
            "Epoch 146/400\n",
            "174/174 [==============================] - 0s 3ms/step - loss: 5.1603 - accuracy: 0.0016 - val_loss: 5.4714 - val_accuracy: 0.0015\n",
            "Epoch 147/400\n",
            "174/174 [==============================] - 1s 3ms/step - loss: 5.1455 - accuracy: 0.0016 - val_loss: 5.4488 - val_accuracy: 0.0015\n",
            "Epoch 148/400\n",
            "174/174 [==============================] - 0s 3ms/step - loss: 5.1426 - accuracy: 0.0016 - val_loss: 5.4649 - val_accuracy: 0.0015\n",
            "Epoch 149/400\n",
            "174/174 [==============================] - 0s 3ms/step - loss: 5.1482 - accuracy: 0.0016 - val_loss: 5.4581 - val_accuracy: 0.0015\n",
            "Epoch 150/400\n",
            "174/174 [==============================] - 0s 3ms/step - loss: 5.1535 - accuracy: 0.0016 - val_loss: 5.4675 - val_accuracy: 0.0015\n",
            "Epoch 151/400\n",
            "174/174 [==============================] - 0s 3ms/step - loss: 5.1476 - accuracy: 0.0016 - val_loss: 5.4525 - val_accuracy: 0.0015\n",
            "Epoch 152/400\n",
            "174/174 [==============================] - 0s 3ms/step - loss: 5.1509 - accuracy: 0.0016 - val_loss: 5.4850 - val_accuracy: 0.0015\n",
            "Epoch 153/400\n",
            "174/174 [==============================] - 0s 3ms/step - loss: 5.1499 - accuracy: 0.0016 - val_loss: 5.4606 - val_accuracy: 0.0015\n",
            "Epoch 154/400\n",
            "174/174 [==============================] - 1s 3ms/step - loss: 5.1369 - accuracy: 0.0016 - val_loss: 5.4533 - val_accuracy: 0.0015\n",
            "Epoch 155/400\n",
            "174/174 [==============================] - 0s 3ms/step - loss: 5.1338 - accuracy: 0.0016 - val_loss: 5.4751 - val_accuracy: 0.0015\n",
            "Epoch 156/400\n",
            "174/174 [==============================] - 0s 3ms/step - loss: 5.1406 - accuracy: 0.0016 - val_loss: 5.4482 - val_accuracy: 0.0015\n",
            "Epoch 157/400\n",
            "174/174 [==============================] - 0s 3ms/step - loss: 5.1439 - accuracy: 0.0016 - val_loss: 5.4416 - val_accuracy: 0.0015\n",
            "Epoch 158/400\n",
            "174/174 [==============================] - 1s 3ms/step - loss: 5.1318 - accuracy: 0.0016 - val_loss: 5.4569 - val_accuracy: 0.0015\n",
            "Epoch 159/400\n",
            "174/174 [==============================] - 0s 3ms/step - loss: 5.1350 - accuracy: 0.0016 - val_loss: 5.4358 - val_accuracy: 0.0015\n",
            "Epoch 160/400\n",
            "174/174 [==============================] - 0s 3ms/step - loss: 5.1348 - accuracy: 0.0016 - val_loss: 5.4479 - val_accuracy: 0.0015\n",
            "Epoch 161/400\n",
            "174/174 [==============================] - 0s 3ms/step - loss: 5.1223 - accuracy: 0.0016 - val_loss: 5.4307 - val_accuracy: 0.0015\n",
            "Epoch 162/400\n",
            "174/174 [==============================] - 0s 3ms/step - loss: 5.1252 - accuracy: 0.0016 - val_loss: 5.4261 - val_accuracy: 0.0015\n",
            "Epoch 163/400\n",
            "174/174 [==============================] - 0s 3ms/step - loss: 5.1258 - accuracy: 0.0016 - val_loss: 5.4215 - val_accuracy: 0.0015\n",
            "Epoch 164/400\n",
            "174/174 [==============================] - 0s 3ms/step - loss: 5.1269 - accuracy: 0.0016 - val_loss: 5.4357 - val_accuracy: 0.0015\n",
            "Epoch 165/400\n",
            "174/174 [==============================] - 1s 3ms/step - loss: 5.1209 - accuracy: 0.0016 - val_loss: 5.4403 - val_accuracy: 0.0015\n",
            "Epoch 166/400\n",
            "174/174 [==============================] - 0s 3ms/step - loss: 5.1285 - accuracy: 0.0016 - val_loss: 5.4296 - val_accuracy: 0.0015\n",
            "Epoch 167/400\n",
            "174/174 [==============================] - 0s 3ms/step - loss: 5.1238 - accuracy: 0.0016 - val_loss: 5.4682 - val_accuracy: 0.0015\n",
            "Epoch 168/400\n",
            "174/174 [==============================] - 0s 3ms/step - loss: 5.1214 - accuracy: 0.0016 - val_loss: 5.4623 - val_accuracy: 0.0015\n",
            "Epoch 169/400\n",
            "174/174 [==============================] - 0s 3ms/step - loss: 5.1226 - accuracy: 0.0016 - val_loss: 5.4237 - val_accuracy: 0.0015\n",
            "Epoch 170/400\n",
            "174/174 [==============================] - 0s 3ms/step - loss: 5.1168 - accuracy: 0.0016 - val_loss: 5.4273 - val_accuracy: 0.0015\n",
            "Epoch 171/400\n",
            "174/174 [==============================] - 0s 3ms/step - loss: 5.1162 - accuracy: 0.0016 - val_loss: 5.4292 - val_accuracy: 0.0015\n",
            "Epoch 172/400\n",
            "174/174 [==============================] - 0s 3ms/step - loss: 5.1108 - accuracy: 0.0016 - val_loss: 5.4409 - val_accuracy: 0.0015\n",
            "Epoch 173/400\n",
            "174/174 [==============================] - 0s 3ms/step - loss: 5.1186 - accuracy: 0.0016 - val_loss: 5.4758 - val_accuracy: 0.0014\n",
            "Epoch 174/400\n",
            "174/174 [==============================] - 0s 3ms/step - loss: 5.1070 - accuracy: 0.0016 - val_loss: 5.4447 - val_accuracy: 0.0015\n",
            "Epoch 175/400\n",
            "174/174 [==============================] - 1s 3ms/step - loss: 5.1120 - accuracy: 0.0016 - val_loss: 5.5441 - val_accuracy: 0.0015\n",
            "Epoch 176/400\n",
            "174/174 [==============================] - 0s 3ms/step - loss: 5.1082 - accuracy: 0.0016 - val_loss: 5.4265 - val_accuracy: 0.0015\n",
            "Epoch 177/400\n",
            "174/174 [==============================] - 0s 3ms/step - loss: 5.1070 - accuracy: 0.0016 - val_loss: 5.4151 - val_accuracy: 0.0015\n",
            "Epoch 178/400\n",
            "174/174 [==============================] - 0s 3ms/step - loss: 5.1097 - accuracy: 0.0016 - val_loss: 5.4248 - val_accuracy: 0.0015\n",
            "Epoch 179/400\n",
            "174/174 [==============================] - 0s 3ms/step - loss: 5.1050 - accuracy: 0.0016 - val_loss: 5.4579 - val_accuracy: 0.0015\n",
            "Epoch 180/400\n",
            "174/174 [==============================] - 0s 3ms/step - loss: 5.1120 - accuracy: 0.0016 - val_loss: 5.4385 - val_accuracy: 0.0015\n",
            "Epoch 181/400\n",
            "174/174 [==============================] - 1s 3ms/step - loss: 5.1081 - accuracy: 0.0016 - val_loss: 5.4153 - val_accuracy: 0.0015\n",
            "Epoch 182/400\n",
            "174/174 [==============================] - 0s 3ms/step - loss: 5.1044 - accuracy: 0.0016 - val_loss: 5.4213 - val_accuracy: 0.0015\n",
            "Epoch 183/400\n",
            "174/174 [==============================] - 0s 3ms/step - loss: 5.1013 - accuracy: 0.0015 - val_loss: 5.4037 - val_accuracy: 0.0015\n",
            "Epoch 184/400\n",
            "174/174 [==============================] - 0s 3ms/step - loss: 5.0966 - accuracy: 0.0016 - val_loss: 5.4207 - val_accuracy: 0.0015\n",
            "Epoch 185/400\n",
            "174/174 [==============================] - 0s 3ms/step - loss: 5.1030 - accuracy: 0.0016 - val_loss: 5.4257 - val_accuracy: 0.0015\n",
            "Epoch 186/400\n",
            "174/174 [==============================] - 0s 3ms/step - loss: 5.1028 - accuracy: 0.0016 - val_loss: 5.4155 - val_accuracy: 0.0015\n",
            "Epoch 187/400\n",
            "174/174 [==============================] - 0s 3ms/step - loss: 5.0906 - accuracy: 0.0016 - val_loss: 5.4462 - val_accuracy: 0.0015\n",
            "Epoch 188/400\n",
            "174/174 [==============================] - 0s 3ms/step - loss: 5.0981 - accuracy: 0.0016 - val_loss: 5.4016 - val_accuracy: 0.0015\n",
            "Epoch 189/400\n",
            "174/174 [==============================] - 0s 3ms/step - loss: 5.0995 - accuracy: 0.0016 - val_loss: 5.3972 - val_accuracy: 0.0015\n",
            "Epoch 190/400\n",
            "174/174 [==============================] - 0s 3ms/step - loss: 5.0998 - accuracy: 0.0016 - val_loss: 5.4652 - val_accuracy: 0.0015\n",
            "Epoch 191/400\n",
            "174/174 [==============================] - 0s 3ms/step - loss: 5.1002 - accuracy: 0.0016 - val_loss: 5.4269 - val_accuracy: 0.0015\n",
            "Epoch 192/400\n",
            "174/174 [==============================] - 0s 3ms/step - loss: 5.0854 - accuracy: 0.0016 - val_loss: 5.4163 - val_accuracy: 0.0015\n",
            "Epoch 193/400\n",
            "174/174 [==============================] - 0s 3ms/step - loss: 5.0864 - accuracy: 0.0016 - val_loss: 5.4061 - val_accuracy: 0.0015\n",
            "Epoch 194/400\n",
            "174/174 [==============================] - 1s 3ms/step - loss: 5.0853 - accuracy: 0.0016 - val_loss: 5.4554 - val_accuracy: 0.0015\n",
            "Epoch 195/400\n",
            "174/174 [==============================] - 1s 3ms/step - loss: 5.0860 - accuracy: 0.0016 - val_loss: 5.4407 - val_accuracy: 0.0015\n",
            "Epoch 196/400\n",
            "174/174 [==============================] - 0s 3ms/step - loss: 5.0820 - accuracy: 0.0016 - val_loss: 5.4075 - val_accuracy: 0.0015\n",
            "Epoch 197/400\n",
            "174/174 [==============================] - 1s 4ms/step - loss: 5.0879 - accuracy: 0.0016 - val_loss: 5.4138 - val_accuracy: 0.0015\n",
            "Epoch 198/400\n",
            "174/174 [==============================] - 1s 5ms/step - loss: 5.0848 - accuracy: 0.0016 - val_loss: 5.3959 - val_accuracy: 0.0015\n",
            "Epoch 199/400\n",
            "174/174 [==============================] - 1s 3ms/step - loss: 5.0779 - accuracy: 0.0016 - val_loss: 5.4021 - val_accuracy: 0.0015\n",
            "Epoch 200/400\n",
            "174/174 [==============================] - 0s 3ms/step - loss: 5.0844 - accuracy: 0.0016 - val_loss: 5.4209 - val_accuracy: 0.0015\n",
            "Epoch 201/400\n",
            "174/174 [==============================] - 0s 3ms/step - loss: 5.0886 - accuracy: 0.0016 - val_loss: 5.4009 - val_accuracy: 0.0015\n",
            "Epoch 202/400\n",
            "174/174 [==============================] - 0s 3ms/step - loss: 5.0761 - accuracy: 0.0016 - val_loss: 5.5246 - val_accuracy: 0.0015\n",
            "Epoch 203/400\n",
            "174/174 [==============================] - 0s 3ms/step - loss: 5.0800 - accuracy: 0.0016 - val_loss: 5.3976 - val_accuracy: 0.0015\n",
            "Epoch 204/400\n",
            "174/174 [==============================] - 0s 3ms/step - loss: 5.0789 - accuracy: 0.0016 - val_loss: 5.3937 - val_accuracy: 0.0015\n",
            "Epoch 205/400\n",
            "174/174 [==============================] - 0s 3ms/step - loss: 5.0835 - accuracy: 0.0016 - val_loss: 5.3986 - val_accuracy: 0.0015\n",
            "Epoch 206/400\n",
            "174/174 [==============================] - 0s 3ms/step - loss: 5.0813 - accuracy: 0.0016 - val_loss: 5.4079 - val_accuracy: 0.0015\n",
            "Epoch 207/400\n",
            "174/174 [==============================] - 0s 3ms/step - loss: 5.0751 - accuracy: 0.0016 - val_loss: 5.4333 - val_accuracy: 0.0015\n",
            "Epoch 208/400\n",
            "174/174 [==============================] - 0s 3ms/step - loss: 5.0792 - accuracy: 0.0016 - val_loss: 5.4170 - val_accuracy: 0.0015\n",
            "Epoch 209/400\n",
            "174/174 [==============================] - 1s 3ms/step - loss: 5.0825 - accuracy: 0.0016 - val_loss: 5.4131 - val_accuracy: 0.0015\n",
            "Epoch 210/400\n",
            "174/174 [==============================] - 0s 3ms/step - loss: 5.0679 - accuracy: 0.0016 - val_loss: 5.4474 - val_accuracy: 0.0015\n",
            "Epoch 211/400\n",
            "174/174 [==============================] - 0s 3ms/step - loss: 5.0781 - accuracy: 0.0016 - val_loss: 5.4039 - val_accuracy: 0.0015\n",
            "Epoch 212/400\n",
            "174/174 [==============================] - 0s 3ms/step - loss: 5.0700 - accuracy: 0.0016 - val_loss: 5.3907 - val_accuracy: 0.0015\n",
            "Epoch 213/400\n",
            "174/174 [==============================] - 0s 3ms/step - loss: 5.0688 - accuracy: 0.0016 - val_loss: 5.4244 - val_accuracy: 0.0015\n",
            "Epoch 214/400\n",
            "174/174 [==============================] - 0s 3ms/step - loss: 5.0779 - accuracy: 0.0016 - val_loss: 5.4038 - val_accuracy: 0.0015\n",
            "Epoch 215/400\n",
            "174/174 [==============================] - 0s 3ms/step - loss: 5.0706 - accuracy: 0.0016 - val_loss: 5.4043 - val_accuracy: 0.0015\n",
            "Epoch 216/400\n",
            "174/174 [==============================] - 0s 3ms/step - loss: 5.0649 - accuracy: 0.0016 - val_loss: 5.3901 - val_accuracy: 0.0015\n",
            "Epoch 217/400\n",
            "174/174 [==============================] - 1s 3ms/step - loss: 5.0705 - accuracy: 0.0016 - val_loss: 5.3825 - val_accuracy: 0.0015\n",
            "Epoch 218/400\n",
            "174/174 [==============================] - 0s 3ms/step - loss: 5.0656 - accuracy: 0.0016 - val_loss: 5.3870 - val_accuracy: 0.0015\n",
            "Epoch 219/400\n",
            "174/174 [==============================] - 0s 3ms/step - loss: 5.0673 - accuracy: 0.0016 - val_loss: 5.4001 - val_accuracy: 0.0015\n",
            "Epoch 220/400\n",
            "174/174 [==============================] - 0s 3ms/step - loss: 5.0784 - accuracy: 0.0016 - val_loss: 5.4015 - val_accuracy: 0.0015\n",
            "Epoch 221/400\n",
            "174/174 [==============================] - 1s 3ms/step - loss: 5.0755 - accuracy: 0.0016 - val_loss: 5.4085 - val_accuracy: 0.0015\n",
            "Epoch 222/400\n",
            "174/174 [==============================] - 0s 3ms/step - loss: 5.0693 - accuracy: 0.0016 - val_loss: 5.3971 - val_accuracy: 0.0015\n",
            "Epoch 223/400\n",
            "174/174 [==============================] - 0s 3ms/step - loss: 5.0611 - accuracy: 0.0016 - val_loss: 5.3884 - val_accuracy: 0.0015\n",
            "Epoch 224/400\n",
            "174/174 [==============================] - 0s 3ms/step - loss: 5.0635 - accuracy: 0.0016 - val_loss: 5.4010 - val_accuracy: 0.0015\n",
            "Epoch 225/400\n",
            "174/174 [==============================] - 0s 3ms/step - loss: 5.0583 - accuracy: 0.0016 - val_loss: 5.3885 - val_accuracy: 0.0015\n",
            "Epoch 226/400\n",
            "174/174 [==============================] - 0s 3ms/step - loss: 5.0737 - accuracy: 0.0016 - val_loss: 5.3890 - val_accuracy: 0.0015\n",
            "Epoch 227/400\n",
            "174/174 [==============================] - 0s 3ms/step - loss: 5.0543 - accuracy: 0.0015 - val_loss: 5.4051 - val_accuracy: 0.0015\n",
            "Epoch 228/400\n",
            "174/174 [==============================] - 0s 3ms/step - loss: 5.0668 - accuracy: 0.0016 - val_loss: 5.4279 - val_accuracy: 0.0015\n",
            "Epoch 229/400\n",
            "174/174 [==============================] - 0s 3ms/step - loss: 5.0538 - accuracy: 0.0016 - val_loss: 5.3880 - val_accuracy: 0.0015\n",
            "Epoch 230/400\n",
            "174/174 [==============================] - 0s 3ms/step - loss: 5.0554 - accuracy: 0.0016 - val_loss: 5.4024 - val_accuracy: 0.0015\n",
            "Epoch 231/400\n",
            "174/174 [==============================] - 0s 3ms/step - loss: 5.0671 - accuracy: 0.0016 - val_loss: 5.3904 - val_accuracy: 0.0015\n",
            "Epoch 232/400\n",
            "174/174 [==============================] - 1s 3ms/step - loss: 5.0547 - accuracy: 0.0016 - val_loss: 5.3890 - val_accuracy: 0.0015\n",
            "Epoch 233/400\n",
            "174/174 [==============================] - 0s 3ms/step - loss: 5.0528 - accuracy: 0.0016 - val_loss: 5.3852 - val_accuracy: 0.0015\n",
            "Epoch 234/400\n",
            "174/174 [==============================] - 0s 3ms/step - loss: 5.0521 - accuracy: 0.0016 - val_loss: 5.4087 - val_accuracy: 0.0015\n",
            "Epoch 235/400\n",
            "174/174 [==============================] - 0s 3ms/step - loss: 5.0643 - accuracy: 0.0016 - val_loss: 5.4794 - val_accuracy: 0.0015\n",
            "Epoch 236/400\n",
            "174/174 [==============================] - 0s 3ms/step - loss: 5.0555 - accuracy: 0.0016 - val_loss: 5.3762 - val_accuracy: 0.0015\n",
            "Epoch 237/400\n",
            "174/174 [==============================] - 0s 3ms/step - loss: 5.0568 - accuracy: 0.0016 - val_loss: 5.3812 - val_accuracy: 0.0015\n",
            "Epoch 238/400\n",
            "174/174 [==============================] - 1s 3ms/step - loss: 5.0515 - accuracy: 0.0016 - val_loss: 5.3906 - val_accuracy: 0.0015\n",
            "Epoch 239/400\n",
            "174/174 [==============================] - 0s 3ms/step - loss: 5.0560 - accuracy: 0.0016 - val_loss: 5.3727 - val_accuracy: 0.0015\n",
            "Epoch 240/400\n",
            "174/174 [==============================] - 1s 4ms/step - loss: 5.0425 - accuracy: 0.0016 - val_loss: 5.3892 - val_accuracy: 0.0015\n",
            "Epoch 241/400\n",
            "174/174 [==============================] - 1s 5ms/step - loss: 5.0578 - accuracy: 0.0016 - val_loss: 5.3923 - val_accuracy: 0.0015\n",
            "Epoch 242/400\n",
            "174/174 [==============================] - 1s 7ms/step - loss: 5.0532 - accuracy: 0.0016 - val_loss: 5.3917 - val_accuracy: 0.0015\n",
            "Epoch 243/400\n",
            "174/174 [==============================] - 1s 6ms/step - loss: 5.0461 - accuracy: 0.0016 - val_loss: 5.3879 - val_accuracy: 0.0015\n",
            "Epoch 244/400\n",
            "174/174 [==============================] - 1s 5ms/step - loss: 5.0482 - accuracy: 0.0016 - val_loss: 5.3991 - val_accuracy: 0.0015\n",
            "Epoch 245/400\n",
            "174/174 [==============================] - 1s 5ms/step - loss: 5.0549 - accuracy: 0.0016 - val_loss: 5.3844 - val_accuracy: 0.0015\n",
            "Epoch 246/400\n",
            "174/174 [==============================] - 0s 3ms/step - loss: 5.0461 - accuracy: 0.0016 - val_loss: 5.3727 - val_accuracy: 0.0015\n",
            "Epoch 247/400\n",
            "174/174 [==============================] - 0s 3ms/step - loss: 5.0398 - accuracy: 0.0016 - val_loss: 5.3731 - val_accuracy: 0.0015\n",
            "Epoch 248/400\n",
            "174/174 [==============================] - 0s 3ms/step - loss: 5.0412 - accuracy: 0.0016 - val_loss: 5.3721 - val_accuracy: 0.0015\n",
            "Epoch 249/400\n",
            "174/174 [==============================] - 0s 3ms/step - loss: 5.0404 - accuracy: 0.0016 - val_loss: 5.3653 - val_accuracy: 0.0015\n",
            "Epoch 250/400\n",
            "174/174 [==============================] - 0s 3ms/step - loss: 5.0439 - accuracy: 0.0016 - val_loss: 5.4079 - val_accuracy: 0.0015\n",
            "Epoch 251/400\n",
            "174/174 [==============================] - 0s 3ms/step - loss: 5.0358 - accuracy: 0.0016 - val_loss: 5.3882 - val_accuracy: 0.0015\n",
            "Epoch 252/400\n",
            "174/174 [==============================] - 0s 3ms/step - loss: 5.0468 - accuracy: 0.0016 - val_loss: 5.4183 - val_accuracy: 0.0015\n",
            "Epoch 253/400\n",
            "174/174 [==============================] - 0s 3ms/step - loss: 5.0412 - accuracy: 0.0016 - val_loss: 5.3853 - val_accuracy: 0.0015\n",
            "Epoch 254/400\n",
            "174/174 [==============================] - 0s 3ms/step - loss: 5.0327 - accuracy: 0.0016 - val_loss: 5.3835 - val_accuracy: 0.0015\n",
            "Epoch 255/400\n",
            "174/174 [==============================] - 1s 3ms/step - loss: 5.0452 - accuracy: 0.0016 - val_loss: 5.4060 - val_accuracy: 0.0015\n",
            "Epoch 256/400\n",
            "174/174 [==============================] - 0s 3ms/step - loss: 5.0418 - accuracy: 0.0016 - val_loss: 5.3610 - val_accuracy: 0.0015\n",
            "Epoch 257/400\n",
            "174/174 [==============================] - 0s 3ms/step - loss: 5.0330 - accuracy: 0.0016 - val_loss: 5.3706 - val_accuracy: 0.0015\n",
            "Epoch 258/400\n",
            "174/174 [==============================] - 0s 3ms/step - loss: 5.0385 - accuracy: 0.0016 - val_loss: 5.3610 - val_accuracy: 0.0015\n",
            "Epoch 259/400\n",
            "174/174 [==============================] - 0s 3ms/step - loss: 5.0353 - accuracy: 0.0015 - val_loss: 5.4169 - val_accuracy: 0.0015\n",
            "Epoch 260/400\n",
            "174/174 [==============================] - 0s 3ms/step - loss: 5.0282 - accuracy: 0.0016 - val_loss: 5.3976 - val_accuracy: 0.0015\n",
            "Epoch 261/400\n",
            "174/174 [==============================] - 1s 3ms/step - loss: 5.0419 - accuracy: 0.0016 - val_loss: 5.3591 - val_accuracy: 0.0015\n",
            "Epoch 262/400\n",
            "174/174 [==============================] - 0s 3ms/step - loss: 5.0319 - accuracy: 0.0016 - val_loss: 5.3626 - val_accuracy: 0.0015\n",
            "Epoch 263/400\n",
            "174/174 [==============================] - 1s 3ms/step - loss: 5.0329 - accuracy: 0.0016 - val_loss: 5.3953 - val_accuracy: 0.0015\n",
            "Epoch 264/400\n",
            "174/174 [==============================] - 0s 3ms/step - loss: 5.0302 - accuracy: 0.0016 - val_loss: 5.3714 - val_accuracy: 0.0015\n",
            "Epoch 265/400\n",
            "174/174 [==============================] - 0s 3ms/step - loss: 5.0261 - accuracy: 0.0016 - val_loss: 5.3748 - val_accuracy: 0.0015\n",
            "Epoch 266/400\n",
            "174/174 [==============================] - 0s 3ms/step - loss: 5.0278 - accuracy: 0.0016 - val_loss: 5.3643 - val_accuracy: 0.0015\n",
            "Epoch 267/400\n",
            "174/174 [==============================] - 1s 3ms/step - loss: 5.0406 - accuracy: 0.0016 - val_loss: 5.3776 - val_accuracy: 0.0015\n",
            "Epoch 268/400\n",
            "174/174 [==============================] - 1s 3ms/step - loss: 5.0325 - accuracy: 0.0016 - val_loss: 5.3788 - val_accuracy: 0.0015\n",
            "Epoch 269/400\n",
            "174/174 [==============================] - 0s 3ms/step - loss: 5.0387 - accuracy: 0.0016 - val_loss: 5.3848 - val_accuracy: 0.0015\n",
            "Epoch 270/400\n",
            "174/174 [==============================] - 0s 3ms/step - loss: 5.0262 - accuracy: 0.0016 - val_loss: 5.5338 - val_accuracy: 0.0015\n",
            "Epoch 271/400\n",
            "174/174 [==============================] - 0s 3ms/step - loss: 5.0366 - accuracy: 0.0016 - val_loss: 5.3658 - val_accuracy: 0.0015\n",
            "Epoch 272/400\n",
            "174/174 [==============================] - 0s 3ms/step - loss: 5.0285 - accuracy: 0.0016 - val_loss: 5.3578 - val_accuracy: 0.0015\n",
            "Epoch 273/400\n",
            "174/174 [==============================] - 1s 3ms/step - loss: 5.0267 - accuracy: 0.0016 - val_loss: 5.3646 - val_accuracy: 0.0015\n",
            "Epoch 274/400\n",
            "174/174 [==============================] - 1s 3ms/step - loss: 5.0292 - accuracy: 0.0016 - val_loss: 5.3637 - val_accuracy: 0.0015\n",
            "Epoch 275/400\n",
            "174/174 [==============================] - 1s 3ms/step - loss: 5.0234 - accuracy: 0.0016 - val_loss: 5.3511 - val_accuracy: 0.0015\n",
            "Epoch 276/400\n",
            "174/174 [==============================] - 1s 3ms/step - loss: 5.0200 - accuracy: 0.0016 - val_loss: 5.3789 - val_accuracy: 0.0015\n",
            "Epoch 277/400\n",
            "174/174 [==============================] - 1s 3ms/step - loss: 5.0267 - accuracy: 0.0016 - val_loss: 5.3770 - val_accuracy: 0.0015\n",
            "Epoch 278/400\n",
            "174/174 [==============================] - 0s 3ms/step - loss: 5.0174 - accuracy: 0.0016 - val_loss: 5.3578 - val_accuracy: 0.0015\n",
            "Epoch 279/400\n",
            "174/174 [==============================] - 1s 3ms/step - loss: 5.0268 - accuracy: 0.0016 - val_loss: 5.3600 - val_accuracy: 0.0015\n",
            "Epoch 280/400\n",
            "174/174 [==============================] - 0s 3ms/step - loss: 5.0341 - accuracy: 0.0015 - val_loss: 5.3573 - val_accuracy: 0.0015\n",
            "Epoch 281/400\n",
            "174/174 [==============================] - 1s 3ms/step - loss: 5.0161 - accuracy: 0.0016 - val_loss: 5.3619 - val_accuracy: 0.0015\n",
            "Epoch 282/400\n",
            "174/174 [==============================] - 1s 3ms/step - loss: 5.0177 - accuracy: 0.0016 - val_loss: 5.4465 - val_accuracy: 0.0015\n",
            "Epoch 283/400\n",
            "174/174 [==============================] - 1s 3ms/step - loss: 5.0174 - accuracy: 0.0016 - val_loss: 5.3450 - val_accuracy: 0.0015\n",
            "Epoch 284/400\n",
            "174/174 [==============================] - 1s 3ms/step - loss: 5.0189 - accuracy: 0.0016 - val_loss: 5.3602 - val_accuracy: 0.0015\n",
            "Epoch 285/400\n",
            "174/174 [==============================] - 1s 3ms/step - loss: 5.0231 - accuracy: 0.0016 - val_loss: 5.3871 - val_accuracy: 0.0015\n",
            "Epoch 286/400\n",
            "174/174 [==============================] - 1s 3ms/step - loss: 5.0284 - accuracy: 0.0016 - val_loss: 5.5485 - val_accuracy: 0.0015\n",
            "Epoch 287/400\n",
            "174/174 [==============================] - 1s 3ms/step - loss: 5.0360 - accuracy: 0.0016 - val_loss: 5.3559 - val_accuracy: 0.0015\n",
            "Epoch 288/400\n",
            "174/174 [==============================] - 0s 3ms/step - loss: 5.0201 - accuracy: 0.0015 - val_loss: 5.3495 - val_accuracy: 0.0015\n",
            "Epoch 289/400\n",
            "174/174 [==============================] - 1s 3ms/step - loss: 5.0148 - accuracy: 0.0016 - val_loss: 5.3552 - val_accuracy: 0.0015\n",
            "Epoch 290/400\n",
            "174/174 [==============================] - 0s 3ms/step - loss: 5.0284 - accuracy: 0.0016 - val_loss: 5.3708 - val_accuracy: 0.0015\n",
            "Epoch 291/400\n",
            "174/174 [==============================] - 1s 3ms/step - loss: 5.0184 - accuracy: 0.0016 - val_loss: 5.3449 - val_accuracy: 0.0015\n",
            "Epoch 292/400\n",
            "174/174 [==============================] - 1s 3ms/step - loss: 5.0151 - accuracy: 0.0016 - val_loss: 5.3540 - val_accuracy: 0.0015\n",
            "Epoch 293/400\n",
            "174/174 [==============================] - 1s 3ms/step - loss: 5.0198 - accuracy: 0.0016 - val_loss: 5.3535 - val_accuracy: 0.0015\n",
            "Epoch 294/400\n",
            "174/174 [==============================] - 0s 3ms/step - loss: 5.0079 - accuracy: 0.0016 - val_loss: 5.3476 - val_accuracy: 0.0015\n",
            "Epoch 295/400\n",
            "174/174 [==============================] - 1s 3ms/step - loss: 5.0200 - accuracy: 0.0016 - val_loss: 5.4290 - val_accuracy: 0.0015\n",
            "Epoch 296/400\n",
            "174/174 [==============================] - 1s 3ms/step - loss: 5.0161 - accuracy: 0.0016 - val_loss: 5.3477 - val_accuracy: 0.0015\n",
            "Epoch 297/400\n",
            "174/174 [==============================] - 1s 3ms/step - loss: 5.0130 - accuracy: 0.0016 - val_loss: 5.3362 - val_accuracy: 0.0015\n",
            "Epoch 298/400\n",
            "174/174 [==============================] - 0s 3ms/step - loss: 5.0120 - accuracy: 0.0016 - val_loss: 5.3662 - val_accuracy: 0.0015\n",
            "Epoch 299/400\n",
            "174/174 [==============================] - 1s 3ms/step - loss: 5.0277 - accuracy: 0.0016 - val_loss: 5.3773 - val_accuracy: 0.0015\n",
            "Epoch 300/400\n",
            "174/174 [==============================] - 1s 3ms/step - loss: 5.0139 - accuracy: 0.0016 - val_loss: 5.3649 - val_accuracy: 0.0015\n",
            "Epoch 301/400\n",
            "174/174 [==============================] - 0s 3ms/step - loss: 5.0067 - accuracy: 0.0016 - val_loss: 5.4193 - val_accuracy: 0.0015\n",
            "Epoch 302/400\n",
            "174/174 [==============================] - 1s 3ms/step - loss: 5.0087 - accuracy: 0.0016 - val_loss: 5.3527 - val_accuracy: 0.0015\n",
            "Epoch 303/400\n",
            "174/174 [==============================] - 1s 3ms/step - loss: 5.0019 - accuracy: 0.0016 - val_loss: 5.3397 - val_accuracy: 0.0015\n",
            "Epoch 304/400\n",
            "174/174 [==============================] - 1s 3ms/step - loss: 5.0066 - accuracy: 0.0016 - val_loss: 5.3402 - val_accuracy: 0.0015\n",
            "Epoch 305/400\n",
            "174/174 [==============================] - 1s 3ms/step - loss: 5.0097 - accuracy: 0.0016 - val_loss: 5.4046 - val_accuracy: 0.0015\n",
            "Epoch 306/400\n",
            "174/174 [==============================] - 1s 3ms/step - loss: 5.0108 - accuracy: 0.0016 - val_loss: 5.3470 - val_accuracy: 0.0015\n",
            "Epoch 307/400\n",
            "174/174 [==============================] - 1s 3ms/step - loss: 5.0051 - accuracy: 0.0016 - val_loss: 5.3509 - val_accuracy: 0.0015\n",
            "Epoch 308/400\n",
            "174/174 [==============================] - 1s 3ms/step - loss: 5.0136 - accuracy: 0.0016 - val_loss: 5.3708 - val_accuracy: 0.0015\n",
            "Epoch 309/400\n",
            "174/174 [==============================] - 1s 3ms/step - loss: 5.0086 - accuracy: 0.0016 - val_loss: 5.3896 - val_accuracy: 0.0015\n",
            "Epoch 310/400\n",
            "174/174 [==============================] - 1s 3ms/step - loss: 5.0051 - accuracy: 0.0016 - val_loss: 5.3446 - val_accuracy: 0.0015\n",
            "Epoch 311/400\n",
            "174/174 [==============================] - 0s 3ms/step - loss: 5.0082 - accuracy: 0.0016 - val_loss: 5.3646 - val_accuracy: 0.0015\n",
            "Epoch 312/400\n",
            "174/174 [==============================] - 1s 3ms/step - loss: 5.0079 - accuracy: 0.0016 - val_loss: 5.3761 - val_accuracy: 0.0015\n",
            "Epoch 313/400\n",
            "174/174 [==============================] - 1s 3ms/step - loss: 5.0035 - accuracy: 0.0016 - val_loss: 5.3543 - val_accuracy: 0.0015\n",
            "Epoch 314/400\n",
            "174/174 [==============================] - 1s 3ms/step - loss: 5.0024 - accuracy: 0.0016 - val_loss: 5.3464 - val_accuracy: 0.0015\n",
            "Epoch 315/400\n",
            "174/174 [==============================] - 1s 3ms/step - loss: 5.0068 - accuracy: 0.0015 - val_loss: 5.3634 - val_accuracy: 0.0015\n",
            "Epoch 316/400\n",
            "174/174 [==============================] - 1s 3ms/step - loss: 5.0189 - accuracy: 0.0016 - val_loss: 5.4698 - val_accuracy: 0.0015\n",
            "Epoch 317/400\n",
            "174/174 [==============================] - 1s 3ms/step - loss: 5.0082 - accuracy: 0.0016 - val_loss: 5.3485 - val_accuracy: 0.0015\n",
            "Epoch 00317: early stopping\n"
          ]
        }
      ],
      "source": [
        "model_nn.compile(optimizer='adam',loss='mse',metrics=['accuracy'])\n",
        "earlyStop=EarlyStopping(monitor=\"val_loss\",verbose=2,mode='min',patience=20)\n",
        "losses_nn = model_nn.fit(X_train, y_train, validation_data=(X_val, y_val), batch_size=256, epochs=400, callbacks=[earlyStop])"
      ]
    },
    {
      "cell_type": "markdown",
      "metadata": {
        "id": "awMLY6swM6pe"
      },
      "source": [
        "#### Loss graph"
      ]
    },
    {
      "cell_type": "code",
      "execution_count": null,
      "metadata": {
        "colab": {
          "base_uri": "https://localhost:8080/",
          "height": 282
        },
        "id": "CJI-PwAKM3s8",
        "outputId": "e16f4d03-d81c-4ffa-b712-4604288280fb"
      },
      "outputs": [
        {
          "data": {
            "text/plain": [
              "<matplotlib.axes._subplots.AxesSubplot at 0x7fdd943264d0>"
            ]
          },
          "execution_count": 73,
          "metadata": {},
          "output_type": "execute_result"
        },
        {
          "data": {
            "image/png": "[encoded data removed]",
            "text/plain": [
              "<Figure size 432x288 with 1 Axes>"
            ]
          },
          "metadata": {
            "needs_background": "light"
          },
          "output_type": "display_data"
        }
      ],
      "source": [
        "loss_nn_df = pd.DataFrame(losses_nn.history)\n",
        "loss_nn_df.loc[:,['loss','val_loss']].plot(color = ['darkorange','midnightblue'])"
      ]
    },
    {
      "cell_type": "markdown",
      "metadata": {
        "id": "hNyB004KM8kl"
      },
      "source": [
        "#### Loss values"
      ]
    },
    {
      "cell_type": "code",
      "execution_count": null,
      "metadata": {
        "colab": {
          "base_uri": "https://localhost:8080/"
        },
        "id": "5KolXhPiM-LZ",
        "outputId": "81808e3d-a43f-4f21-d99d-88ba65df6da6"
      },
      "outputs": [
        {
          "name": "stdout",
          "output_type": "stream",
          "text": [
            "19797/19797 [==============================] - 36s 2ms/step - loss: 5.1837 - accuracy: 0.0016\n"
          ]
        }
      ],
      "source": [
        "score_nn_mse = model_nn.evaluate(X_test, y_test, batch_size=1)\n",
        "y_pred_nn = model_nn.predict(X_test)"
      ]
    },
    {
      "cell_type": "code",
      "execution_count": null,
      "metadata": {
        "id": "ZUlJRGIGN8DU"
      },
      "outputs": [],
      "source": [
        "compa_k_mse.append(score_nn_mse[0])"
      ]
    },
    {
      "cell_type": "code",
      "execution_count": null,
      "metadata": {
        "colab": {
          "base_uri": "https://localhost:8080/"
        },
        "id": "zZtH0XYfN9yK",
        "outputId": "f2a86005-9cfc-472a-838e-8b3f2ef886cb"
      },
      "outputs": [
        {
          "name": "stdout",
          "output_type": "stream",
          "text": [
            "mse: 5.183654\n"
          ]
        }
      ],
      "source": [
        "print('mse: %f'%score_nn_mse[0])"
      ]
    },
    {
      "cell_type": "code",
      "execution_count": null,
      "metadata": {
        "colab": {
          "base_uri": "https://localhost:8080/"
        },
        "id": "Tj2jjMyeOAzq",
        "outputId": "b2c730b1-6cb7-4649-ac45-9eb3eb6dbe73"
      },
      "outputs": [
        {
          "name": "stdout",
          "output_type": "stream",
          "text": [
            "predicted response:\n",
            "[[6.30372858e+09]\n",
            " [2.87130451e+09]\n",
            " [4.03692675e+09]\n",
            " [1.22057116e+09]\n",
            " [3.41993046e+09]\n",
            " [5.67166042e+09]\n",
            " [2.35731506e+09]\n",
            " [4.51562595e+09]\n",
            " [7.32437229e+09]\n",
            " [5.09371233e+09]]\n",
            "actual:\n",
            "67254    7.800000e+09\n",
            "33028    1.790000e+09\n",
            "12304    5.200000e+09\n",
            "71296    1.305000e+09\n",
            "48795    1.389000e+09\n",
            "20723    4.800000e+09\n",
            "4271     2.000000e+09\n",
            "44233    3.330000e+09\n",
            "22704    8.250000e+09\n",
            "5264     6.500000e+09\n",
            "Name: price, dtype: float64\n"
          ]
        }
      ],
      "source": [
        "print(f\"predicted response:\\n{y_pred_nn[:10]*one_billion}\")\n",
        "print(f\"actual:\\n{y_test.iloc[0:10]*one_billion}\")"
      ]
    },
    {
      "cell_type": "code",
      "execution_count": null,
      "metadata": {
        "colab": {
          "base_uri": "https://localhost:8080/"
        },
        "id": "3-CPoqsEOE3t",
        "outputId": "c01c284d-02d9-471b-98a9-b05a2362bf75"
      },
      "outputs": [
        {
          "name": "stdout",
          "output_type": "stream",
          "text": [
            "The number of negative prediction:  3\n",
            "Percent correct prediction:  49.674193059554476\n"
          ]
        }
      ],
      "source": [
        "error, negative_integer = find_prediction_error_value(y_test, y_pred_nn)\n",
        "print(\"The number of negative prediction: \", len(negative_integer))\n",
        "print(\"Percent correct prediction: \", (len(y_test) - len(error))/len(y_test)*100)"
      ]
    },
    {
      "cell_type": "markdown",
      "metadata": {
        "id": "pVQnITKm9tF_"
      },
      "source": [
        "### MAE"
      ]
    },
    {
      "cell_type": "code",
      "execution_count": null,
      "metadata": {
        "colab": {
          "base_uri": "https://localhost:8080/"
        },
        "id": "MGgbQn1W9uhG",
        "outputId": "6a9ab104-5f21-47a1-8b38-09df6b0a8c2f"
      },
      "outputs": [
        {
          "name": "stdout",
          "output_type": "stream",
          "text": [
            "Epoch 1/400\n",
            "174/174 [==============================] - 3s 4ms/step - loss: 2.9410 - accuracy: 0.0015 - val_loss: 2.1410 - val_accuracy: 0.0015\n",
            "Epoch 2/400\n",
            "174/174 [==============================] - 0s 3ms/step - loss: 2.0004 - accuracy: 0.0016 - val_loss: 1.9594 - val_accuracy: 0.0015\n",
            "Epoch 3/400\n",
            "174/174 [==============================] - 0s 3ms/step - loss: 1.9150 - accuracy: 0.0016 - val_loss: 1.9051 - val_accuracy: 0.0015\n",
            "Epoch 4/400\n",
            "174/174 [==============================] - 0s 3ms/step - loss: 1.8736 - accuracy: 0.0016 - val_loss: 1.8748 - val_accuracy: 0.0015\n",
            "Epoch 5/400\n",
            "174/174 [==============================] - 0s 3ms/step - loss: 1.8480 - accuracy: 0.0015 - val_loss: 1.8533 - val_accuracy: 0.0015\n",
            "Epoch 6/400\n",
            "174/174 [==============================] - 0s 3ms/step - loss: 1.8255 - accuracy: 0.0015 - val_loss: 1.8337 - val_accuracy: 0.0015\n",
            "Epoch 7/400\n",
            "174/174 [==============================] - 0s 3ms/step - loss: 1.8096 - accuracy: 0.0015 - val_loss: 1.8207 - val_accuracy: 0.0015\n",
            "Epoch 8/400\n",
            "174/174 [==============================] - 0s 3ms/step - loss: 1.7950 - accuracy: 0.0015 - val_loss: 1.8098 - val_accuracy: 0.0015\n",
            "Epoch 9/400\n",
            "174/174 [==============================] - 1s 3ms/step - loss: 1.7819 - accuracy: 0.0015 - val_loss: 1.7939 - val_accuracy: 0.0015\n",
            "Epoch 10/400\n",
            "174/174 [==============================] - 0s 3ms/step - loss: 1.7700 - accuracy: 0.0015 - val_loss: 1.7838 - val_accuracy: 0.0015\n",
            "Epoch 11/400\n",
            "174/174 [==============================] - 0s 3ms/step - loss: 1.7504 - accuracy: 0.0015 - val_loss: 1.7606 - val_accuracy: 0.0015\n",
            "Epoch 12/400\n",
            "174/174 [==============================] - 1s 3ms/step - loss: 1.7270 - accuracy: 0.0016 - val_loss: 1.7372 - val_accuracy: 0.0015\n",
            "Epoch 13/400\n",
            "174/174 [==============================] - 0s 3ms/step - loss: 1.7057 - accuracy: 0.0016 - val_loss: 1.7206 - val_accuracy: 0.0015\n",
            "Epoch 14/400\n",
            "174/174 [==============================] - 0s 3ms/step - loss: 1.6905 - accuracy: 0.0016 - val_loss: 1.7084 - val_accuracy: 0.0015\n",
            "Epoch 15/400\n",
            "174/174 [==============================] - 0s 3ms/step - loss: 1.6790 - accuracy: 0.0016 - val_loss: 1.6962 - val_accuracy: 0.0015\n",
            "Epoch 16/400\n",
            "174/174 [==============================] - 0s 3ms/step - loss: 1.6720 - accuracy: 0.0016 - val_loss: 1.6882 - val_accuracy: 0.0015\n",
            "Epoch 17/400\n",
            "174/174 [==============================] - 0s 3ms/step - loss: 1.6619 - accuracy: 0.0016 - val_loss: 1.6823 - val_accuracy: 0.0015\n",
            "Epoch 18/400\n",
            "174/174 [==============================] - 0s 3ms/step - loss: 1.6577 - accuracy: 0.0016 - val_loss: 1.6780 - val_accuracy: 0.0015\n",
            "Epoch 19/400\n",
            "174/174 [==============================] - 1s 3ms/step - loss: 1.6558 - accuracy: 0.0016 - val_loss: 1.6826 - val_accuracy: 0.0015\n",
            "Epoch 20/400\n",
            "174/174 [==============================] - 0s 3ms/step - loss: 1.6465 - accuracy: 0.0016 - val_loss: 1.6675 - val_accuracy: 0.0015\n",
            "Epoch 21/400\n",
            "174/174 [==============================] - 0s 3ms/step - loss: 1.6417 - accuracy: 0.0016 - val_loss: 1.6644 - val_accuracy: 0.0015\n",
            "Epoch 22/400\n",
            "174/174 [==============================] - 0s 3ms/step - loss: 1.6387 - accuracy: 0.0016 - val_loss: 1.6611 - val_accuracy: 0.0015\n",
            "Epoch 23/400\n",
            "174/174 [==============================] - 0s 3ms/step - loss: 1.6349 - accuracy: 0.0016 - val_loss: 1.6601 - val_accuracy: 0.0015\n",
            "Epoch 24/400\n",
            "174/174 [==============================] - 0s 3ms/step - loss: 1.6296 - accuracy: 0.0016 - val_loss: 1.6563 - val_accuracy: 0.0015\n",
            "Epoch 25/400\n",
            "174/174 [==============================] - 0s 3ms/step - loss: 1.6292 - accuracy: 0.0016 - val_loss: 1.6534 - val_accuracy: 0.0015\n",
            "Epoch 26/400\n",
            "174/174 [==============================] - 0s 3ms/step - loss: 1.6268 - accuracy: 0.0016 - val_loss: 1.6489 - val_accuracy: 0.0015\n",
            "Epoch 27/400\n",
            "174/174 [==============================] - 0s 3ms/step - loss: 1.6225 - accuracy: 0.0016 - val_loss: 1.6494 - val_accuracy: 0.0015\n",
            "Epoch 28/400\n",
            "174/174 [==============================] - 0s 3ms/step - loss: 1.6207 - accuracy: 0.0016 - val_loss: 1.6464 - val_accuracy: 0.0015\n",
            "Epoch 29/400\n",
            "174/174 [==============================] - 0s 3ms/step - loss: 1.6196 - accuracy: 0.0016 - val_loss: 1.6484 - val_accuracy: 0.0015\n",
            "Epoch 30/400\n",
            "174/174 [==============================] - 1s 3ms/step - loss: 1.6174 - accuracy: 0.0016 - val_loss: 1.6391 - val_accuracy: 0.0015\n",
            "Epoch 31/400\n",
            "174/174 [==============================] - 0s 3ms/step - loss: 1.6147 - accuracy: 0.0016 - val_loss: 1.6484 - val_accuracy: 0.0015\n",
            "Epoch 32/400\n",
            "174/174 [==============================] - 1s 3ms/step - loss: 1.6137 - accuracy: 0.0016 - val_loss: 1.6341 - val_accuracy: 0.0015\n",
            "Epoch 33/400\n",
            "174/174 [==============================] - 1s 3ms/step - loss: 1.6106 - accuracy: 0.0016 - val_loss: 1.6353 - val_accuracy: 0.0015\n",
            "Epoch 34/400\n",
            "174/174 [==============================] - 1s 3ms/step - loss: 1.6113 - accuracy: 0.0016 - val_loss: 1.6404 - val_accuracy: 0.0015\n",
            "Epoch 35/400\n",
            "174/174 [==============================] - 0s 3ms/step - loss: 1.6093 - accuracy: 0.0016 - val_loss: 1.6291 - val_accuracy: 0.0015\n",
            "Epoch 36/400\n",
            "174/174 [==============================] - 1s 3ms/step - loss: 1.6050 - accuracy: 0.0016 - val_loss: 1.6378 - val_accuracy: 0.0015\n",
            "Epoch 37/400\n",
            "174/174 [==============================] - 0s 3ms/step - loss: 1.6059 - accuracy: 0.0016 - val_loss: 1.6274 - val_accuracy: 0.0015\n",
            "Epoch 38/400\n",
            "174/174 [==============================] - 0s 3ms/step - loss: 1.6021 - accuracy: 0.0016 - val_loss: 1.6299 - val_accuracy: 0.0015\n",
            "Epoch 39/400\n",
            "174/174 [==============================] - 0s 3ms/step - loss: 1.6023 - accuracy: 0.0016 - val_loss: 1.6266 - val_accuracy: 0.0015\n",
            "Epoch 40/400\n",
            "174/174 [==============================] - 0s 3ms/step - loss: 1.5992 - accuracy: 0.0016 - val_loss: 1.6300 - val_accuracy: 0.0015\n",
            "Epoch 41/400\n",
            "174/174 [==============================] - 0s 3ms/step - loss: 1.5980 - accuracy: 0.0016 - val_loss: 1.6215 - val_accuracy: 0.0015\n",
            "Epoch 42/400\n",
            "174/174 [==============================] - 0s 3ms/step - loss: 1.5972 - accuracy: 0.0016 - val_loss: 1.6177 - val_accuracy: 0.0015\n",
            "Epoch 43/400\n",
            "174/174 [==============================] - 1s 3ms/step - loss: 1.5951 - accuracy: 0.0016 - val_loss: 1.6191 - val_accuracy: 0.0015\n",
            "Epoch 44/400\n",
            "174/174 [==============================] - 0s 3ms/step - loss: 1.5947 - accuracy: 0.0016 - val_loss: 1.6168 - val_accuracy: 0.0015\n",
            "Epoch 45/400\n",
            "174/174 [==============================] - 0s 3ms/step - loss: 1.5915 - accuracy: 0.0016 - val_loss: 1.6161 - val_accuracy: 0.0015\n",
            "Epoch 46/400\n",
            "174/174 [==============================] - 0s 3ms/step - loss: 1.5901 - accuracy: 0.0016 - val_loss: 1.6110 - val_accuracy: 0.0015\n",
            "Epoch 47/400\n",
            "174/174 [==============================] - 0s 3ms/step - loss: 1.5894 - accuracy: 0.0016 - val_loss: 1.6175 - val_accuracy: 0.0015\n",
            "Epoch 48/400\n",
            "174/174 [==============================] - 0s 3ms/step - loss: 1.5887 - accuracy: 0.0016 - val_loss: 1.6073 - val_accuracy: 0.0015\n",
            "Epoch 49/400\n",
            "174/174 [==============================] - 0s 3ms/step - loss: 1.5848 - accuracy: 0.0016 - val_loss: 1.6055 - val_accuracy: 0.0015\n",
            "Epoch 50/400\n",
            "174/174 [==============================] - 1s 3ms/step - loss: 1.5831 - accuracy: 0.0016 - val_loss: 1.6070 - val_accuracy: 0.0015\n",
            "Epoch 51/400\n",
            "174/174 [==============================] - 0s 3ms/step - loss: 1.5803 - accuracy: 0.0016 - val_loss: 1.6027 - val_accuracy: 0.0015\n",
            "Epoch 52/400\n",
            "174/174 [==============================] - 0s 3ms/step - loss: 1.5793 - accuracy: 0.0016 - val_loss: 1.6039 - val_accuracy: 0.0015\n",
            "Epoch 53/400\n",
            "174/174 [==============================] - 0s 3ms/step - loss: 1.5795 - accuracy: 0.0016 - val_loss: 1.6006 - val_accuracy: 0.0015\n",
            "Epoch 54/400\n",
            "174/174 [==============================] - 0s 3ms/step - loss: 1.5773 - accuracy: 0.0016 - val_loss: 1.6027 - val_accuracy: 0.0015\n",
            "Epoch 55/400\n",
            "174/174 [==============================] - 0s 3ms/step - loss: 1.5742 - accuracy: 0.0016 - val_loss: 1.6006 - val_accuracy: 0.0015\n",
            "Epoch 56/400\n",
            "174/174 [==============================] - 1s 3ms/step - loss: 1.5734 - accuracy: 0.0016 - val_loss: 1.5968 - val_accuracy: 0.0015\n",
            "Epoch 57/400\n",
            "174/174 [==============================] - 0s 3ms/step - loss: 1.5719 - accuracy: 0.0016 - val_loss: 1.5989 - val_accuracy: 0.0015\n",
            "Epoch 58/400\n",
            "174/174 [==============================] - 0s 3ms/step - loss: 1.5713 - accuracy: 0.0016 - val_loss: 1.5947 - val_accuracy: 0.0015\n",
            "Epoch 59/400\n",
            "174/174 [==============================] - 0s 3ms/step - loss: 1.5684 - accuracy: 0.0016 - val_loss: 1.5926 - val_accuracy: 0.0015\n",
            "Epoch 60/400\n",
            "174/174 [==============================] - 0s 3ms/step - loss: 1.5675 - accuracy: 0.0016 - val_loss: 1.5947 - val_accuracy: 0.0015\n",
            "Epoch 61/400\n",
            "174/174 [==============================] - 1s 3ms/step - loss: 1.5681 - accuracy: 0.0016 - val_loss: 1.5935 - val_accuracy: 0.0015\n",
            "Epoch 62/400\n",
            "174/174 [==============================] - 0s 3ms/step - loss: 1.5655 - accuracy: 0.0016 - val_loss: 1.5902 - val_accuracy: 0.0015\n",
            "Epoch 63/400\n",
            "174/174 [==============================] - 1s 3ms/step - loss: 1.5635 - accuracy: 0.0016 - val_loss: 1.5954 - val_accuracy: 0.0015\n",
            "Epoch 64/400\n",
            "174/174 [==============================] - 0s 3ms/step - loss: 1.5649 - accuracy: 0.0016 - val_loss: 1.5861 - val_accuracy: 0.0015\n",
            "Epoch 65/400\n",
            "174/174 [==============================] - 1s 3ms/step - loss: 1.5616 - accuracy: 0.0016 - val_loss: 1.5860 - val_accuracy: 0.0015\n",
            "Epoch 66/400\n",
            "174/174 [==============================] - 0s 3ms/step - loss: 1.5601 - accuracy: 0.0016 - val_loss: 1.5837 - val_accuracy: 0.0015\n",
            "Epoch 67/400\n",
            "174/174 [==============================] - 0s 3ms/step - loss: 1.5597 - accuracy: 0.0016 - val_loss: 1.5856 - val_accuracy: 0.0015\n",
            "Epoch 68/400\n",
            "174/174 [==============================] - 0s 3ms/step - loss: 1.5583 - accuracy: 0.0016 - val_loss: 1.5835 - val_accuracy: 0.0015\n",
            "Epoch 69/400\n",
            "174/174 [==============================] - 1s 3ms/step - loss: 1.5574 - accuracy: 0.0016 - val_loss: 1.5845 - val_accuracy: 0.0015\n",
            "Epoch 70/400\n",
            "174/174 [==============================] - 0s 3ms/step - loss: 1.5556 - accuracy: 0.0016 - val_loss: 1.5876 - val_accuracy: 0.0015\n",
            "Epoch 71/400\n",
            "174/174 [==============================] - 0s 3ms/step - loss: 1.5550 - accuracy: 0.0016 - val_loss: 1.5828 - val_accuracy: 0.0015\n",
            "Epoch 72/400\n",
            "174/174 [==============================] - 1s 4ms/step - loss: 1.5531 - accuracy: 0.0016 - val_loss: 1.5842 - val_accuracy: 0.0015\n",
            "Epoch 73/400\n",
            "174/174 [==============================] - 1s 4ms/step - loss: 1.5511 - accuracy: 0.0016 - val_loss: 1.5834 - val_accuracy: 0.0015\n",
            "Epoch 74/400\n",
            "174/174 [==============================] - 1s 5ms/step - loss: 1.5537 - accuracy: 0.0016 - val_loss: 1.5789 - val_accuracy: 0.0015\n",
            "Epoch 75/400\n",
            "174/174 [==============================] - 1s 5ms/step - loss: 1.5540 - accuracy: 0.0016 - val_loss: 1.5900 - val_accuracy: 0.0015\n",
            "Epoch 76/400\n",
            "174/174 [==============================] - 1s 5ms/step - loss: 1.5495 - accuracy: 0.0016 - val_loss: 1.5788 - val_accuracy: 0.0015\n",
            "Epoch 77/400\n",
            "174/174 [==============================] - 1s 5ms/step - loss: 1.5493 - accuracy: 0.0016 - val_loss: 1.5763 - val_accuracy: 0.0015\n",
            "Epoch 78/400\n",
            "174/174 [==============================] - 1s 5ms/step - loss: 1.5488 - accuracy: 0.0016 - val_loss: 1.5797 - val_accuracy: 0.0015\n",
            "Epoch 79/400\n",
            "174/174 [==============================] - 1s 5ms/step - loss: 1.5482 - accuracy: 0.0016 - val_loss: 1.5823 - val_accuracy: 0.0015\n",
            "Epoch 80/400\n",
            "174/174 [==============================] - 1s 5ms/step - loss: 1.5483 - accuracy: 0.0016 - val_loss: 1.5861 - val_accuracy: 0.0015\n",
            "Epoch 81/400\n",
            "174/174 [==============================] - 1s 5ms/step - loss: 1.5464 - accuracy: 0.0016 - val_loss: 1.5902 - val_accuracy: 0.0015\n",
            "Epoch 82/400\n",
            "174/174 [==============================] - 1s 4ms/step - loss: 1.5463 - accuracy: 0.0016 - val_loss: 1.5751 - val_accuracy: 0.0015\n",
            "Epoch 83/400\n",
            "174/174 [==============================] - 1s 5ms/step - loss: 1.5456 - accuracy: 0.0016 - val_loss: 1.5827 - val_accuracy: 0.0015\n",
            "Epoch 84/400\n",
            "174/174 [==============================] - 1s 5ms/step - loss: 1.5449 - accuracy: 0.0016 - val_loss: 1.5732 - val_accuracy: 0.0015\n",
            "Epoch 85/400\n",
            "174/174 [==============================] - 1s 5ms/step - loss: 1.5450 - accuracy: 0.0016 - val_loss: 1.5877 - val_accuracy: 0.0015\n",
            "Epoch 86/400\n",
            "174/174 [==============================] - 1s 6ms/step - loss: 1.5433 - accuracy: 0.0016 - val_loss: 1.5754 - val_accuracy: 0.0015\n",
            "Epoch 87/400\n",
            "174/174 [==============================] - 1s 4ms/step - loss: 1.5449 - accuracy: 0.0016 - val_loss: 1.5769 - val_accuracy: 0.0015\n",
            "Epoch 88/400\n",
            "174/174 [==============================] - 1s 5ms/step - loss: 1.5425 - accuracy: 0.0016 - val_loss: 1.5698 - val_accuracy: 0.0015\n",
            "Epoch 89/400\n",
            "174/174 [==============================] - 1s 4ms/step - loss: 1.5441 - accuracy: 0.0016 - val_loss: 1.5727 - val_accuracy: 0.0015\n",
            "Epoch 90/400\n",
            "174/174 [==============================] - 1s 4ms/step - loss: 1.5425 - accuracy: 0.0016 - val_loss: 1.5702 - val_accuracy: 0.0015\n",
            "Epoch 91/400\n",
            "174/174 [==============================] - 1s 5ms/step - loss: 1.5420 - accuracy: 0.0016 - val_loss: 1.5739 - val_accuracy: 0.0015\n",
            "Epoch 92/400\n",
            "174/174 [==============================] - 1s 5ms/step - loss: 1.5407 - accuracy: 0.0016 - val_loss: 1.5711 - val_accuracy: 0.0015\n",
            "Epoch 93/400\n",
            "174/174 [==============================] - 1s 6ms/step - loss: 1.5430 - accuracy: 0.0016 - val_loss: 1.5766 - val_accuracy: 0.0015\n",
            "Epoch 94/400\n",
            "174/174 [==============================] - 1s 5ms/step - loss: 1.5400 - accuracy: 0.0016 - val_loss: 1.5803 - val_accuracy: 0.0015\n",
            "Epoch 95/400\n",
            "174/174 [==============================] - 1s 5ms/step - loss: 1.5403 - accuracy: 0.0016 - val_loss: 1.5739 - val_accuracy: 0.0015\n",
            "Epoch 96/400\n",
            "174/174 [==============================] - 1s 5ms/step - loss: 1.5385 - accuracy: 0.0016 - val_loss: 1.5674 - val_accuracy: 0.0015\n",
            "Epoch 97/400\n",
            "174/174 [==============================] - 1s 5ms/step - loss: 1.5376 - accuracy: 0.0016 - val_loss: 1.5682 - val_accuracy: 0.0015\n",
            "Epoch 98/400\n",
            "174/174 [==============================] - 1s 4ms/step - loss: 1.5382 - accuracy: 0.0016 - val_loss: 1.5704 - val_accuracy: 0.0015\n",
            "Epoch 99/400\n",
            "174/174 [==============================] - 1s 4ms/step - loss: 1.5374 - accuracy: 0.0016 - val_loss: 1.5701 - val_accuracy: 0.0015\n",
            "Epoch 100/400\n",
            "174/174 [==============================] - 1s 4ms/step - loss: 1.5392 - accuracy: 0.0016 - val_loss: 1.5669 - val_accuracy: 0.0015\n",
            "Epoch 101/400\n",
            "174/174 [==============================] - 1s 4ms/step - loss: 1.5371 - accuracy: 0.0016 - val_loss: 1.5674 - val_accuracy: 0.0015\n",
            "Epoch 102/400\n",
            "174/174 [==============================] - 1s 5ms/step - loss: 1.5347 - accuracy: 0.0016 - val_loss: 1.5637 - val_accuracy: 0.0015\n",
            "Epoch 103/400\n",
            "174/174 [==============================] - 1s 4ms/step - loss: 1.5369 - accuracy: 0.0016 - val_loss: 1.5672 - val_accuracy: 0.0015\n",
            "Epoch 104/400\n",
            "174/174 [==============================] - 1s 5ms/step - loss: 1.5358 - accuracy: 0.0016 - val_loss: 1.5627 - val_accuracy: 0.0015\n",
            "Epoch 105/400\n",
            "174/174 [==============================] - 1s 5ms/step - loss: 1.5370 - accuracy: 0.0016 - val_loss: 1.5702 - val_accuracy: 0.0015\n",
            "Epoch 106/400\n",
            "174/174 [==============================] - 1s 4ms/step - loss: 1.5354 - accuracy: 0.0016 - val_loss: 1.5789 - val_accuracy: 0.0015\n",
            "Epoch 107/400\n",
            "174/174 [==============================] - 1s 4ms/step - loss: 1.5336 - accuracy: 0.0016 - val_loss: 1.5657 - val_accuracy: 0.0015\n",
            "Epoch 108/400\n",
            "174/174 [==============================] - 1s 4ms/step - loss: 1.5332 - accuracy: 0.0016 - val_loss: 1.5666 - val_accuracy: 0.0015\n",
            "Epoch 109/400\n",
            "174/174 [==============================] - 1s 7ms/step - loss: 1.5344 - accuracy: 0.0016 - val_loss: 1.5612 - val_accuracy: 0.0015\n",
            "Epoch 110/400\n",
            "174/174 [==============================] - 1s 6ms/step - loss: 1.5335 - accuracy: 0.0016 - val_loss: 1.5614 - val_accuracy: 0.0015\n",
            "Epoch 111/400\n",
            "174/174 [==============================] - 1s 4ms/step - loss: 1.5310 - accuracy: 0.0016 - val_loss: 1.5609 - val_accuracy: 0.0015\n",
            "Epoch 112/400\n",
            "174/174 [==============================] - 1s 5ms/step - loss: 1.5334 - accuracy: 0.0016 - val_loss: 1.5617 - val_accuracy: 0.0015\n",
            "Epoch 113/400\n",
            "174/174 [==============================] - 1s 4ms/step - loss: 1.5335 - accuracy: 0.0016 - val_loss: 1.5730 - val_accuracy: 0.0015\n",
            "Epoch 114/400\n",
            "174/174 [==============================] - 1s 4ms/step - loss: 1.5318 - accuracy: 0.0016 - val_loss: 1.5655 - val_accuracy: 0.0015\n",
            "Epoch 115/400\n",
            "174/174 [==============================] - 1s 4ms/step - loss: 1.5309 - accuracy: 0.0016 - val_loss: 1.5692 - val_accuracy: 0.0015\n",
            "Epoch 116/400\n",
            "174/174 [==============================] - 1s 5ms/step - loss: 1.5316 - accuracy: 0.0016 - val_loss: 1.5605 - val_accuracy: 0.0015\n",
            "Epoch 117/400\n",
            "174/174 [==============================] - 1s 4ms/step - loss: 1.5308 - accuracy: 0.0016 - val_loss: 1.5663 - val_accuracy: 0.0015\n",
            "Epoch 118/400\n",
            "174/174 [==============================] - 1s 4ms/step - loss: 1.5286 - accuracy: 0.0016 - val_loss: 1.5579 - val_accuracy: 0.0015\n",
            "Epoch 119/400\n",
            "174/174 [==============================] - 1s 5ms/step - loss: 1.5307 - accuracy: 0.0016 - val_loss: 1.5634 - val_accuracy: 0.0015\n",
            "Epoch 120/400\n",
            "174/174 [==============================] - 1s 5ms/step - loss: 1.5277 - accuracy: 0.0016 - val_loss: 1.5576 - val_accuracy: 0.0015\n",
            "Epoch 121/400\n",
            "174/174 [==============================] - 1s 4ms/step - loss: 1.5280 - accuracy: 0.0016 - val_loss: 1.5584 - val_accuracy: 0.0015\n",
            "Epoch 122/400\n",
            "174/174 [==============================] - 1s 4ms/step - loss: 1.5296 - accuracy: 0.0016 - val_loss: 1.5553 - val_accuracy: 0.0015\n",
            "Epoch 123/400\n",
            "174/174 [==============================] - 1s 4ms/step - loss: 1.5284 - accuracy: 0.0016 - val_loss: 1.5619 - val_accuracy: 0.0015\n",
            "Epoch 124/400\n",
            "174/174 [==============================] - 1s 4ms/step - loss: 1.5280 - accuracy: 0.0016 - val_loss: 1.5580 - val_accuracy: 0.0015\n",
            "Epoch 125/400\n",
            "174/174 [==============================] - 1s 5ms/step - loss: 1.5291 - accuracy: 0.0016 - val_loss: 1.5598 - val_accuracy: 0.0015\n",
            "Epoch 126/400\n",
            "174/174 [==============================] - 0s 3ms/step - loss: 1.5304 - accuracy: 0.0016 - val_loss: 1.5661 - val_accuracy: 0.0015\n",
            "Epoch 127/400\n",
            "174/174 [==============================] - 0s 3ms/step - loss: 1.5269 - accuracy: 0.0016 - val_loss: 1.5559 - val_accuracy: 0.0015\n",
            "Epoch 128/400\n",
            "174/174 [==============================] - 0s 3ms/step - loss: 1.5273 - accuracy: 0.0016 - val_loss: 1.5644 - val_accuracy: 0.0015\n",
            "Epoch 129/400\n",
            "174/174 [==============================] - 0s 3ms/step - loss: 1.5268 - accuracy: 0.0016 - val_loss: 1.5570 - val_accuracy: 0.0015\n",
            "Epoch 130/400\n",
            "174/174 [==============================] - 0s 3ms/step - loss: 1.5262 - accuracy: 0.0016 - val_loss: 1.5525 - val_accuracy: 0.0015\n",
            "Epoch 131/400\n",
            "174/174 [==============================] - 0s 3ms/step - loss: 1.5243 - accuracy: 0.0016 - val_loss: 1.5548 - val_accuracy: 0.0015\n",
            "Epoch 132/400\n",
            "174/174 [==============================] - 0s 3ms/step - loss: 1.5268 - accuracy: 0.0016 - val_loss: 1.5553 - val_accuracy: 0.0015\n",
            "Epoch 133/400\n",
            "174/174 [==============================] - 0s 3ms/step - loss: 1.5269 - accuracy: 0.0016 - val_loss: 1.5555 - val_accuracy: 0.0015\n",
            "Epoch 134/400\n",
            "174/174 [==============================] - 0s 3ms/step - loss: 1.5261 - accuracy: 0.0016 - val_loss: 1.5611 - val_accuracy: 0.0015\n",
            "Epoch 135/400\n",
            "174/174 [==============================] - 0s 3ms/step - loss: 1.5240 - accuracy: 0.0016 - val_loss: 1.5575 - val_accuracy: 0.0015\n",
            "Epoch 136/400\n",
            "174/174 [==============================] - 0s 3ms/step - loss: 1.5259 - accuracy: 0.0016 - val_loss: 1.5535 - val_accuracy: 0.0015\n",
            "Epoch 137/400\n",
            "174/174 [==============================] - 0s 3ms/step - loss: 1.5232 - accuracy: 0.0016 - val_loss: 1.5534 - val_accuracy: 0.0015\n",
            "Epoch 138/400\n",
            "174/174 [==============================] - 0s 3ms/step - loss: 1.5260 - accuracy: 0.0016 - val_loss: 1.5546 - val_accuracy: 0.0015\n",
            "Epoch 139/400\n",
            "174/174 [==============================] - 0s 3ms/step - loss: 1.5245 - accuracy: 0.0016 - val_loss: 1.5528 - val_accuracy: 0.0015\n",
            "Epoch 140/400\n",
            "174/174 [==============================] - 0s 3ms/step - loss: 1.5223 - accuracy: 0.0016 - val_loss: 1.5651 - val_accuracy: 0.0015\n",
            "Epoch 141/400\n",
            "174/174 [==============================] - 0s 3ms/step - loss: 1.5228 - accuracy: 0.0016 - val_loss: 1.5519 - val_accuracy: 0.0015\n",
            "Epoch 142/400\n",
            "174/174 [==============================] - 0s 3ms/step - loss: 1.5218 - accuracy: 0.0016 - val_loss: 1.5517 - val_accuracy: 0.0015\n",
            "Epoch 143/400\n",
            "174/174 [==============================] - 0s 3ms/step - loss: 1.5228 - accuracy: 0.0016 - val_loss: 1.5504 - val_accuracy: 0.0015\n",
            "Epoch 144/400\n",
            "174/174 [==============================] - 0s 3ms/step - loss: 1.5223 - accuracy: 0.0016 - val_loss: 1.5505 - val_accuracy: 0.0015\n",
            "Epoch 145/400\n",
            "174/174 [==============================] - 0s 3ms/step - loss: 1.5226 - accuracy: 0.0016 - val_loss: 1.5504 - val_accuracy: 0.0015\n",
            "Epoch 146/400\n",
            "174/174 [==============================] - 1s 3ms/step - loss: 1.5213 - accuracy: 0.0016 - val_loss: 1.5500 - val_accuracy: 0.0015\n",
            "Epoch 147/400\n",
            "174/174 [==============================] - 1s 4ms/step - loss: 1.5214 - accuracy: 0.0016 - val_loss: 1.5504 - val_accuracy: 0.0015\n",
            "Epoch 148/400\n",
            "174/174 [==============================] - 1s 4ms/step - loss: 1.5211 - accuracy: 0.0016 - val_loss: 1.5491 - val_accuracy: 0.0015\n",
            "Epoch 149/400\n",
            "174/174 [==============================] - 1s 4ms/step - loss: 1.5208 - accuracy: 0.0016 - val_loss: 1.5528 - val_accuracy: 0.0015\n",
            "Epoch 150/400\n",
            "174/174 [==============================] - 1s 5ms/step - loss: 1.5202 - accuracy: 0.0016 - val_loss: 1.5560 - val_accuracy: 0.0015\n",
            "Epoch 151/400\n",
            "174/174 [==============================] - 1s 4ms/step - loss: 1.5203 - accuracy: 0.0016 - val_loss: 1.5528 - val_accuracy: 0.0015\n",
            "Epoch 152/400\n",
            "174/174 [==============================] - 1s 4ms/step - loss: 1.5224 - accuracy: 0.0016 - val_loss: 1.5659 - val_accuracy: 0.0015\n",
            "Epoch 153/400\n",
            "174/174 [==============================] - 1s 5ms/step - loss: 1.5206 - accuracy: 0.0016 - val_loss: 1.5474 - val_accuracy: 0.0015\n",
            "Epoch 154/400\n",
            "174/174 [==============================] - 1s 4ms/step - loss: 1.5209 - accuracy: 0.0016 - val_loss: 1.5491 - val_accuracy: 0.0015\n",
            "Epoch 155/400\n",
            "174/174 [==============================] - 1s 4ms/step - loss: 1.5222 - accuracy: 0.0016 - val_loss: 1.5501 - val_accuracy: 0.0015\n",
            "Epoch 156/400\n",
            "174/174 [==============================] - 1s 4ms/step - loss: 1.5199 - accuracy: 0.0016 - val_loss: 1.5492 - val_accuracy: 0.0015\n",
            "Epoch 157/400\n",
            "174/174 [==============================] - 1s 5ms/step - loss: 1.5182 - accuracy: 0.0016 - val_loss: 1.5514 - val_accuracy: 0.0015\n",
            "Epoch 158/400\n",
            "174/174 [==============================] - 1s 5ms/step - loss: 1.5178 - accuracy: 0.0016 - val_loss: 1.5590 - val_accuracy: 0.0015\n",
            "Epoch 159/400\n",
            "174/174 [==============================] - 1s 5ms/step - loss: 1.5196 - accuracy: 0.0016 - val_loss: 1.5503 - val_accuracy: 0.0015\n",
            "Epoch 160/400\n",
            "174/174 [==============================] - 1s 5ms/step - loss: 1.5174 - accuracy: 0.0016 - val_loss: 1.5464 - val_accuracy: 0.0015\n",
            "Epoch 161/400\n",
            "174/174 [==============================] - 1s 5ms/step - loss: 1.5178 - accuracy: 0.0016 - val_loss: 1.5479 - val_accuracy: 0.0015\n",
            "Epoch 162/400\n",
            "174/174 [==============================] - 1s 5ms/step - loss: 1.5175 - accuracy: 0.0016 - val_loss: 1.5611 - val_accuracy: 0.0015\n",
            "Epoch 163/400\n",
            "174/174 [==============================] - 1s 5ms/step - loss: 1.5184 - accuracy: 0.0016 - val_loss: 1.5466 - val_accuracy: 0.0015\n",
            "Epoch 164/400\n",
            "174/174 [==============================] - 1s 5ms/step - loss: 1.5176 - accuracy: 0.0016 - val_loss: 1.5462 - val_accuracy: 0.0015\n",
            "Epoch 165/400\n",
            "174/174 [==============================] - 1s 5ms/step - loss: 1.5177 - accuracy: 0.0016 - val_loss: 1.5443 - val_accuracy: 0.0015\n",
            "Epoch 166/400\n",
            "174/174 [==============================] - 1s 5ms/step - loss: 1.5189 - accuracy: 0.0016 - val_loss: 1.5465 - val_accuracy: 0.0015\n",
            "Epoch 167/400\n",
            "174/174 [==============================] - 1s 5ms/step - loss: 1.5172 - accuracy: 0.0016 - val_loss: 1.5460 - val_accuracy: 0.0015\n",
            "Epoch 168/400\n",
            "174/174 [==============================] - 1s 7ms/step - loss: 1.5164 - accuracy: 0.0016 - val_loss: 1.5459 - val_accuracy: 0.0015\n",
            "Epoch 169/400\n",
            "174/174 [==============================] - 1s 8ms/step - loss: 1.5161 - accuracy: 0.0016 - val_loss: 1.5472 - val_accuracy: 0.0015\n",
            "Epoch 170/400\n",
            "174/174 [==============================] - 1s 5ms/step - loss: 1.5202 - accuracy: 0.0016 - val_loss: 1.5477 - val_accuracy: 0.0015\n",
            "Epoch 171/400\n",
            "174/174 [==============================] - 1s 5ms/step - loss: 1.5168 - accuracy: 0.0016 - val_loss: 1.5502 - val_accuracy: 0.0015\n",
            "Epoch 172/400\n",
            "174/174 [==============================] - 1s 5ms/step - loss: 1.5162 - accuracy: 0.0016 - val_loss: 1.5466 - val_accuracy: 0.0015\n",
            "Epoch 173/400\n",
            "174/174 [==============================] - 1s 5ms/step - loss: 1.5155 - accuracy: 0.0016 - val_loss: 1.5473 - val_accuracy: 0.0015\n",
            "Epoch 174/400\n",
            "174/174 [==============================] - 1s 5ms/step - loss: 1.5150 - accuracy: 0.0016 - val_loss: 1.5448 - val_accuracy: 0.0015\n",
            "Epoch 175/400\n",
            "174/174 [==============================] - 1s 5ms/step - loss: 1.5149 - accuracy: 0.0016 - val_loss: 1.5506 - val_accuracy: 0.0015\n",
            "Epoch 176/400\n",
            "174/174 [==============================] - 1s 5ms/step - loss: 1.5157 - accuracy: 0.0016 - val_loss: 1.5456 - val_accuracy: 0.0015\n",
            "Epoch 177/400\n",
            "174/174 [==============================] - 1s 5ms/step - loss: 1.5153 - accuracy: 0.0016 - val_loss: 1.5456 - val_accuracy: 0.0015\n",
            "Epoch 178/400\n",
            "174/174 [==============================] - 1s 4ms/step - loss: 1.5144 - accuracy: 0.0016 - val_loss: 1.5435 - val_accuracy: 0.0015\n",
            "Epoch 179/400\n",
            "174/174 [==============================] - 1s 4ms/step - loss: 1.5165 - accuracy: 0.0016 - val_loss: 1.5420 - val_accuracy: 0.0015\n",
            "Epoch 180/400\n",
            "174/174 [==============================] - 1s 4ms/step - loss: 1.5149 - accuracy: 0.0016 - val_loss: 1.5424 - val_accuracy: 0.0015\n",
            "Epoch 181/400\n",
            "174/174 [==============================] - 1s 5ms/step - loss: 1.5150 - accuracy: 0.0016 - val_loss: 1.5414 - val_accuracy: 0.0015\n",
            "Epoch 182/400\n",
            "174/174 [==============================] - 1s 5ms/step - loss: 1.5124 - accuracy: 0.0016 - val_loss: 1.5447 - val_accuracy: 0.0015\n",
            "Epoch 183/400\n",
            "174/174 [==============================] - 1s 4ms/step - loss: 1.5136 - accuracy: 0.0016 - val_loss: 1.5416 - val_accuracy: 0.0015\n",
            "Epoch 184/400\n",
            "174/174 [==============================] - 1s 5ms/step - loss: 1.5158 - accuracy: 0.0016 - val_loss: 1.5405 - val_accuracy: 0.0015\n",
            "Epoch 185/400\n",
            "174/174 [==============================] - 1s 5ms/step - loss: 1.5136 - accuracy: 0.0016 - val_loss: 1.5426 - val_accuracy: 0.0015\n",
            "Epoch 186/400\n",
            "174/174 [==============================] - 1s 4ms/step - loss: 1.5139 - accuracy: 0.0016 - val_loss: 1.5457 - val_accuracy: 0.0015\n",
            "Epoch 187/400\n",
            "174/174 [==============================] - 1s 5ms/step - loss: 1.5130 - accuracy: 0.0016 - val_loss: 1.5504 - val_accuracy: 0.0015\n",
            "Epoch 188/400\n",
            "174/174 [==============================] - 1s 5ms/step - loss: 1.5117 - accuracy: 0.0016 - val_loss: 1.5472 - val_accuracy: 0.0015\n",
            "Epoch 189/400\n",
            "174/174 [==============================] - 1s 4ms/step - loss: 1.5135 - accuracy: 0.0016 - val_loss: 1.5456 - val_accuracy: 0.0015\n",
            "Epoch 190/400\n",
            "174/174 [==============================] - 1s 4ms/step - loss: 1.5147 - accuracy: 0.0016 - val_loss: 1.5434 - val_accuracy: 0.0015\n",
            "Epoch 191/400\n",
            "174/174 [==============================] - 1s 6ms/step - loss: 1.5126 - accuracy: 0.0016 - val_loss: 1.5426 - val_accuracy: 0.0015\n",
            "Epoch 192/400\n",
            "174/174 [==============================] - 1s 6ms/step - loss: 1.5122 - accuracy: 0.0016 - val_loss: 1.5423 - val_accuracy: 0.0015\n",
            "Epoch 193/400\n",
            "174/174 [==============================] - 1s 5ms/step - loss: 1.5134 - accuracy: 0.0016 - val_loss: 1.5420 - val_accuracy: 0.0015\n",
            "Epoch 194/400\n",
            "174/174 [==============================] - 1s 5ms/step - loss: 1.5129 - accuracy: 0.0016 - val_loss: 1.5423 - val_accuracy: 0.0015\n",
            "Epoch 195/400\n",
            "174/174 [==============================] - 1s 5ms/step - loss: 1.5113 - accuracy: 0.0016 - val_loss: 1.5427 - val_accuracy: 0.0015\n",
            "Epoch 196/400\n",
            "174/174 [==============================] - 1s 5ms/step - loss: 1.5097 - accuracy: 0.0016 - val_loss: 1.5413 - val_accuracy: 0.0015\n",
            "Epoch 197/400\n",
            "174/174 [==============================] - 1s 5ms/step - loss: 1.5122 - accuracy: 0.0016 - val_loss: 1.5411 - val_accuracy: 0.0015\n",
            "Epoch 198/400\n",
            "174/174 [==============================] - 1s 4ms/step - loss: 1.5120 - accuracy: 0.0016 - val_loss: 1.5684 - val_accuracy: 0.0015\n",
            "Epoch 199/400\n",
            "174/174 [==============================] - 1s 4ms/step - loss: 1.5147 - accuracy: 0.0016 - val_loss: 1.5431 - val_accuracy: 0.0015\n",
            "Epoch 200/400\n",
            "174/174 [==============================] - 1s 4ms/step - loss: 1.5117 - accuracy: 0.0016 - val_loss: 1.5471 - val_accuracy: 0.0015\n",
            "Epoch 201/400\n",
            "174/174 [==============================] - 1s 4ms/step - loss: 1.5121 - accuracy: 0.0016 - val_loss: 1.5402 - val_accuracy: 0.0015\n",
            "Epoch 202/400\n",
            "174/174 [==============================] - 1s 4ms/step - loss: 1.5123 - accuracy: 0.0016 - val_loss: 1.5401 - val_accuracy: 0.0015\n",
            "Epoch 203/400\n",
            "174/174 [==============================] - 1s 4ms/step - loss: 1.5130 - accuracy: 0.0016 - val_loss: 1.5431 - val_accuracy: 0.0015\n",
            "Epoch 204/400\n",
            "174/174 [==============================] - 1s 4ms/step - loss: 1.5101 - accuracy: 0.0016 - val_loss: 1.5375 - val_accuracy: 0.0015\n",
            "Epoch 205/400\n",
            "174/174 [==============================] - 1s 5ms/step - loss: 1.5111 - accuracy: 0.0016 - val_loss: 1.5473 - val_accuracy: 0.0015\n",
            "Epoch 206/400\n",
            "174/174 [==============================] - 1s 5ms/step - loss: 1.5100 - accuracy: 0.0016 - val_loss: 1.5419 - val_accuracy: 0.0015\n",
            "Epoch 207/400\n",
            "174/174 [==============================] - 1s 4ms/step - loss: 1.5089 - accuracy: 0.0016 - val_loss: 1.5365 - val_accuracy: 0.0015\n",
            "Epoch 208/400\n",
            "174/174 [==============================] - 1s 4ms/step - loss: 1.5111 - accuracy: 0.0016 - val_loss: 1.5392 - val_accuracy: 0.0015\n",
            "Epoch 209/400\n",
            "174/174 [==============================] - 1s 5ms/step - loss: 1.5136 - accuracy: 0.0016 - val_loss: 1.5530 - val_accuracy: 0.0015\n",
            "Epoch 210/400\n",
            "174/174 [==============================] - 1s 4ms/step - loss: 1.5119 - accuracy: 0.0016 - val_loss: 1.5361 - val_accuracy: 0.0015\n",
            "Epoch 211/400\n",
            "174/174 [==============================] - 1s 4ms/step - loss: 1.5081 - accuracy: 0.0016 - val_loss: 1.5395 - val_accuracy: 0.0015\n",
            "Epoch 212/400\n",
            "174/174 [==============================] - 1s 4ms/step - loss: 1.5078 - accuracy: 0.0016 - val_loss: 1.5531 - val_accuracy: 0.0015\n",
            "Epoch 213/400\n",
            "174/174 [==============================] - 1s 4ms/step - loss: 1.5096 - accuracy: 0.0016 - val_loss: 1.5365 - val_accuracy: 0.0015\n",
            "Epoch 214/400\n",
            "174/174 [==============================] - 1s 4ms/step - loss: 1.5080 - accuracy: 0.0016 - val_loss: 1.5398 - val_accuracy: 0.0015\n",
            "Epoch 215/400\n",
            "174/174 [==============================] - 1s 4ms/step - loss: 1.5087 - accuracy: 0.0016 - val_loss: 1.5421 - val_accuracy: 0.0015\n",
            "Epoch 216/400\n",
            "174/174 [==============================] - 1s 5ms/step - loss: 1.5083 - accuracy: 0.0016 - val_loss: 1.5379 - val_accuracy: 0.0015\n",
            "Epoch 217/400\n",
            "174/174 [==============================] - 1s 5ms/step - loss: 1.5091 - accuracy: 0.0016 - val_loss: 1.5373 - val_accuracy: 0.0015\n",
            "Epoch 218/400\n",
            "174/174 [==============================] - 1s 4ms/step - loss: 1.5080 - accuracy: 0.0016 - val_loss: 1.5367 - val_accuracy: 0.0015\n",
            "Epoch 219/400\n",
            "174/174 [==============================] - 1s 5ms/step - loss: 1.5075 - accuracy: 0.0016 - val_loss: 1.5392 - val_accuracy: 0.0015\n",
            "Epoch 220/400\n",
            "174/174 [==============================] - 1s 6ms/step - loss: 1.5076 - accuracy: 0.0016 - val_loss: 1.5411 - val_accuracy: 0.0015\n",
            "Epoch 221/400\n",
            "174/174 [==============================] - 1s 5ms/step - loss: 1.5091 - accuracy: 0.0016 - val_loss: 1.5421 - val_accuracy: 0.0015\n",
            "Epoch 222/400\n",
            "174/174 [==============================] - 1s 4ms/step - loss: 1.5079 - accuracy: 0.0016 - val_loss: 1.5337 - val_accuracy: 0.0015\n",
            "Epoch 223/400\n",
            "174/174 [==============================] - 1s 5ms/step - loss: 1.5078 - accuracy: 0.0016 - val_loss: 1.5445 - val_accuracy: 0.0015\n",
            "Epoch 224/400\n",
            "174/174 [==============================] - 1s 4ms/step - loss: 1.5069 - accuracy: 0.0016 - val_loss: 1.5369 - val_accuracy: 0.0015\n",
            "Epoch 225/400\n",
            "174/174 [==============================] - 1s 4ms/step - loss: 1.5067 - accuracy: 0.0016 - val_loss: 1.5356 - val_accuracy: 0.0015\n",
            "Epoch 226/400\n",
            "174/174 [==============================] - 1s 5ms/step - loss: 1.5065 - accuracy: 0.0016 - val_loss: 1.5364 - val_accuracy: 0.0015\n",
            "Epoch 227/400\n",
            "174/174 [==============================] - 1s 5ms/step - loss: 1.5066 - accuracy: 0.0016 - val_loss: 1.5346 - val_accuracy: 0.0015\n",
            "Epoch 228/400\n",
            "174/174 [==============================] - 1s 6ms/step - loss: 1.5054 - accuracy: 0.0016 - val_loss: 1.5353 - val_accuracy: 0.0015\n",
            "Epoch 229/400\n",
            "174/174 [==============================] - 1s 3ms/step - loss: 1.5069 - accuracy: 0.0016 - val_loss: 1.5385 - val_accuracy: 0.0015\n",
            "Epoch 230/400\n",
            "174/174 [==============================] - 0s 3ms/step - loss: 1.5054 - accuracy: 0.0016 - val_loss: 1.5354 - val_accuracy: 0.0015\n",
            "Epoch 231/400\n",
            "174/174 [==============================] - 1s 3ms/step - loss: 1.5051 - accuracy: 0.0016 - val_loss: 1.5382 - val_accuracy: 0.0015\n",
            "Epoch 232/400\n",
            "174/174 [==============================] - 0s 3ms/step - loss: 1.5050 - accuracy: 0.0016 - val_loss: 1.5367 - val_accuracy: 0.0015\n",
            "Epoch 233/400\n",
            "174/174 [==============================] - 0s 3ms/step - loss: 1.5055 - accuracy: 0.0016 - val_loss: 1.5347 - val_accuracy: 0.0015\n",
            "Epoch 234/400\n",
            "174/174 [==============================] - 0s 3ms/step - loss: 1.5059 - accuracy: 0.0016 - val_loss: 1.5326 - val_accuracy: 0.0015\n",
            "Epoch 235/400\n",
            "174/174 [==============================] - 0s 3ms/step - loss: 1.5058 - accuracy: 0.0016 - val_loss: 1.5337 - val_accuracy: 0.0015\n",
            "Epoch 236/400\n",
            "174/174 [==============================] - 0s 3ms/step - loss: 1.5044 - accuracy: 0.0016 - val_loss: 1.5404 - val_accuracy: 0.0015\n",
            "Epoch 237/400\n",
            "174/174 [==============================] - 0s 3ms/step - loss: 1.5045 - accuracy: 0.0016 - val_loss: 1.5365 - val_accuracy: 0.0015\n",
            "Epoch 238/400\n",
            "174/174 [==============================] - 0s 3ms/step - loss: 1.5033 - accuracy: 0.0016 - val_loss: 1.5365 - val_accuracy: 0.0015\n",
            "Epoch 239/400\n",
            "174/174 [==============================] - 1s 3ms/step - loss: 1.5062 - accuracy: 0.0016 - val_loss: 1.5369 - val_accuracy: 0.0015\n",
            "Epoch 240/400\n",
            "174/174 [==============================] - 0s 3ms/step - loss: 1.5038 - accuracy: 0.0016 - val_loss: 1.5348 - val_accuracy: 0.0015\n",
            "Epoch 241/400\n",
            "174/174 [==============================] - 1s 3ms/step - loss: 1.5034 - accuracy: 0.0016 - val_loss: 1.5328 - val_accuracy: 0.0015\n",
            "Epoch 242/400\n",
            "174/174 [==============================] - 0s 3ms/step - loss: 1.5031 - accuracy: 0.0016 - val_loss: 1.5351 - val_accuracy: 0.0015\n",
            "Epoch 243/400\n",
            "174/174 [==============================] - 0s 3ms/step - loss: 1.5016 - accuracy: 0.0016 - val_loss: 1.5357 - val_accuracy: 0.0015\n",
            "Epoch 244/400\n",
            "174/174 [==============================] - 0s 3ms/step - loss: 1.5033 - accuracy: 0.0016 - val_loss: 1.5377 - val_accuracy: 0.0015\n",
            "Epoch 245/400\n",
            "174/174 [==============================] - 0s 3ms/step - loss: 1.5044 - accuracy: 0.0016 - val_loss: 1.5356 - val_accuracy: 0.0015\n",
            "Epoch 246/400\n",
            "174/174 [==============================] - 0s 3ms/step - loss: 1.5028 - accuracy: 0.0016 - val_loss: 1.5354 - val_accuracy: 0.0015\n",
            "Epoch 247/400\n",
            "174/174 [==============================] - 0s 3ms/step - loss: 1.5051 - accuracy: 0.0016 - val_loss: 1.5336 - val_accuracy: 0.0015\n",
            "Epoch 248/400\n",
            "174/174 [==============================] - 0s 3ms/step - loss: 1.5028 - accuracy: 0.0016 - val_loss: 1.5323 - val_accuracy: 0.0015\n",
            "Epoch 249/400\n",
            "174/174 [==============================] - 1s 3ms/step - loss: 1.5029 - accuracy: 0.0016 - val_loss: 1.5494 - val_accuracy: 0.0015\n",
            "Epoch 250/400\n",
            "174/174 [==============================] - 1s 3ms/step - loss: 1.5008 - accuracy: 0.0016 - val_loss: 1.5362 - val_accuracy: 0.0015\n",
            "Epoch 251/400\n",
            "174/174 [==============================] - 1s 3ms/step - loss: 1.5022 - accuracy: 0.0016 - val_loss: 1.5360 - val_accuracy: 0.0015\n",
            "Epoch 252/400\n",
            "174/174 [==============================] - 0s 3ms/step - loss: 1.5004 - accuracy: 0.0016 - val_loss: 1.5337 - val_accuracy: 0.0015\n",
            "Epoch 253/400\n",
            "174/174 [==============================] - 0s 3ms/step - loss: 1.5008 - accuracy: 0.0016 - val_loss: 1.5313 - val_accuracy: 0.0015\n",
            "Epoch 254/400\n",
            "174/174 [==============================] - 0s 3ms/step - loss: 1.4999 - accuracy: 0.0016 - val_loss: 1.5306 - val_accuracy: 0.0015\n",
            "Epoch 255/400\n",
            "174/174 [==============================] - 1s 3ms/step - loss: 1.5007 - accuracy: 0.0016 - val_loss: 1.5306 - val_accuracy: 0.0015\n",
            "Epoch 256/400\n",
            "174/174 [==============================] - 1s 3ms/step - loss: 1.5015 - accuracy: 0.0016 - val_loss: 1.5380 - val_accuracy: 0.0015\n",
            "Epoch 257/400\n",
            "174/174 [==============================] - 1s 3ms/step - loss: 1.5010 - accuracy: 0.0016 - val_loss: 1.5292 - val_accuracy: 0.0015\n",
            "Epoch 258/400\n",
            "174/174 [==============================] - 0s 3ms/step - loss: 1.5000 - accuracy: 0.0016 - val_loss: 1.5297 - val_accuracy: 0.0015\n",
            "Epoch 259/400\n",
            "174/174 [==============================] - 1s 3ms/step - loss: 1.4990 - accuracy: 0.0016 - val_loss: 1.5283 - val_accuracy: 0.0015\n",
            "Epoch 260/400\n",
            "174/174 [==============================] - 1s 3ms/step - loss: 1.4996 - accuracy: 0.0016 - val_loss: 1.5319 - val_accuracy: 0.0015\n",
            "Epoch 261/400\n",
            "174/174 [==============================] - 1s 3ms/step - loss: 1.4988 - accuracy: 0.0016 - val_loss: 1.5299 - val_accuracy: 0.0015\n",
            "Epoch 262/400\n",
            "174/174 [==============================] - 1s 3ms/step - loss: 1.4992 - accuracy: 0.0016 - val_loss: 1.5308 - val_accuracy: 0.0015\n",
            "Epoch 263/400\n",
            "174/174 [==============================] - 1s 3ms/step - loss: 1.4984 - accuracy: 0.0016 - val_loss: 1.5290 - val_accuracy: 0.0015\n",
            "Epoch 264/400\n",
            "174/174 [==============================] - 1s 3ms/step - loss: 1.4985 - accuracy: 0.0016 - val_loss: 1.5344 - val_accuracy: 0.0015\n",
            "Epoch 265/400\n",
            "174/174 [==============================] - 1s 3ms/step - loss: 1.4987 - accuracy: 0.0016 - val_loss: 1.5310 - val_accuracy: 0.0015\n",
            "Epoch 266/400\n",
            "174/174 [==============================] - 0s 3ms/step - loss: 1.4997 - accuracy: 0.0016 - val_loss: 1.5295 - val_accuracy: 0.0015\n",
            "Epoch 267/400\n",
            "174/174 [==============================] - 1s 3ms/step - loss: 1.4981 - accuracy: 0.0016 - val_loss: 1.5346 - val_accuracy: 0.0015\n",
            "Epoch 268/400\n",
            "174/174 [==============================] - 0s 3ms/step - loss: 1.4980 - accuracy: 0.0016 - val_loss: 1.5308 - val_accuracy: 0.0015\n",
            "Epoch 269/400\n",
            "174/174 [==============================] - 1s 3ms/step - loss: 1.4991 - accuracy: 0.0016 - val_loss: 1.5286 - val_accuracy: 0.0015\n",
            "Epoch 270/400\n",
            "174/174 [==============================] - 1s 3ms/step - loss: 1.4974 - accuracy: 0.0016 - val_loss: 1.5396 - val_accuracy: 0.0015\n",
            "Epoch 271/400\n",
            "174/174 [==============================] - 1s 3ms/step - loss: 1.4972 - accuracy: 0.0016 - val_loss: 1.5303 - val_accuracy: 0.0015\n",
            "Epoch 272/400\n",
            "174/174 [==============================] - 1s 3ms/step - loss: 1.4976 - accuracy: 0.0016 - val_loss: 1.5266 - val_accuracy: 0.0015\n",
            "Epoch 273/400\n",
            "174/174 [==============================] - 0s 3ms/step - loss: 1.4964 - accuracy: 0.0016 - val_loss: 1.5343 - val_accuracy: 0.0015\n",
            "Epoch 274/400\n",
            "174/174 [==============================] - 1s 3ms/step - loss: 1.4976 - accuracy: 0.0016 - val_loss: 1.5273 - val_accuracy: 0.0015\n",
            "Epoch 275/400\n",
            "174/174 [==============================] - 1s 3ms/step - loss: 1.4954 - accuracy: 0.0016 - val_loss: 1.5305 - val_accuracy: 0.0015\n",
            "Epoch 276/400\n",
            "174/174 [==============================] - 1s 3ms/step - loss: 1.4969 - accuracy: 0.0016 - val_loss: 1.5295 - val_accuracy: 0.0015\n",
            "Epoch 277/400\n",
            "174/174 [==============================] - 1s 3ms/step - loss: 1.4957 - accuracy: 0.0016 - val_loss: 1.5286 - val_accuracy: 0.0015\n",
            "Epoch 278/400\n",
            "174/174 [==============================] - 1s 3ms/step - loss: 1.4958 - accuracy: 0.0016 - val_loss: 1.5267 - val_accuracy: 0.0015\n",
            "Epoch 279/400\n",
            "174/174 [==============================] - 0s 3ms/step - loss: 1.4959 - accuracy: 0.0016 - val_loss: 1.5309 - val_accuracy: 0.0015\n",
            "Epoch 280/400\n",
            "174/174 [==============================] - 1s 3ms/step - loss: 1.4947 - accuracy: 0.0016 - val_loss: 1.5272 - val_accuracy: 0.0015\n",
            "Epoch 281/400\n",
            "174/174 [==============================] - 1s 3ms/step - loss: 1.4969 - accuracy: 0.0016 - val_loss: 1.5293 - val_accuracy: 0.0015\n",
            "Epoch 282/400\n",
            "174/174 [==============================] - 1s 3ms/step - loss: 1.4957 - accuracy: 0.0016 - val_loss: 1.5285 - val_accuracy: 0.0015\n",
            "Epoch 283/400\n",
            "174/174 [==============================] - 0s 3ms/step - loss: 1.4943 - accuracy: 0.0016 - val_loss: 1.5308 - val_accuracy: 0.0015\n",
            "Epoch 284/400\n",
            "174/174 [==============================] - 1s 3ms/step - loss: 1.4957 - accuracy: 0.0016 - val_loss: 1.5276 - val_accuracy: 0.0015\n",
            "Epoch 285/400\n",
            "174/174 [==============================] - 0s 3ms/step - loss: 1.4945 - accuracy: 0.0016 - val_loss: 1.5263 - val_accuracy: 0.0015\n",
            "Epoch 286/400\n",
            "174/174 [==============================] - 1s 3ms/step - loss: 1.4942 - accuracy: 0.0016 - val_loss: 1.5304 - val_accuracy: 0.0015\n",
            "Epoch 287/400\n",
            "174/174 [==============================] - 1s 3ms/step - loss: 1.4940 - accuracy: 0.0016 - val_loss: 1.5240 - val_accuracy: 0.0015\n",
            "Epoch 288/400\n",
            "174/174 [==============================] - 1s 3ms/step - loss: 1.4933 - accuracy: 0.0016 - val_loss: 1.5378 - val_accuracy: 0.0015\n",
            "Epoch 289/400\n",
            "174/174 [==============================] - 1s 3ms/step - loss: 1.4928 - accuracy: 0.0016 - val_loss: 1.5406 - val_accuracy: 0.0015\n",
            "Epoch 290/400\n",
            "174/174 [==============================] - 1s 3ms/step - loss: 1.4942 - accuracy: 0.0016 - val_loss: 1.5281 - val_accuracy: 0.0015\n",
            "Epoch 291/400\n",
            "174/174 [==============================] - 1s 3ms/step - loss: 1.4937 - accuracy: 0.0016 - val_loss: 1.5274 - val_accuracy: 0.0015\n",
            "Epoch 292/400\n",
            "174/174 [==============================] - 1s 3ms/step - loss: 1.4952 - accuracy: 0.0016 - val_loss: 1.5357 - val_accuracy: 0.0015\n",
            "Epoch 293/400\n",
            "174/174 [==============================] - 1s 3ms/step - loss: 1.4931 - accuracy: 0.0016 - val_loss: 1.5278 - val_accuracy: 0.0015\n",
            "Epoch 294/400\n",
            "174/174 [==============================] - 1s 3ms/step - loss: 1.4940 - accuracy: 0.0016 - val_loss: 1.5291 - val_accuracy: 0.0015\n",
            "Epoch 295/400\n",
            "174/174 [==============================] - 1s 3ms/step - loss: 1.4938 - accuracy: 0.0016 - val_loss: 1.5257 - val_accuracy: 0.0015\n",
            "Epoch 296/400\n",
            "174/174 [==============================] - 1s 6ms/step - loss: 1.4924 - accuracy: 0.0016 - val_loss: 1.5330 - val_accuracy: 0.0015\n",
            "Epoch 297/400\n",
            "174/174 [==============================] - 1s 5ms/step - loss: 1.4939 - accuracy: 0.0016 - val_loss: 1.5282 - val_accuracy: 0.0015\n",
            "Epoch 298/400\n",
            "174/174 [==============================] - 1s 5ms/step - loss: 1.4918 - accuracy: 0.0016 - val_loss: 1.5295 - val_accuracy: 0.0015\n",
            "Epoch 299/400\n",
            "174/174 [==============================] - 1s 5ms/step - loss: 1.4915 - accuracy: 0.0016 - val_loss: 1.5240 - val_accuracy: 0.0015\n",
            "Epoch 300/400\n",
            "174/174 [==============================] - 1s 6ms/step - loss: 1.4927 - accuracy: 0.0016 - val_loss: 1.5269 - val_accuracy: 0.0015\n",
            "Epoch 301/400\n",
            "174/174 [==============================] - 1s 6ms/step - loss: 1.4915 - accuracy: 0.0016 - val_loss: 1.5251 - val_accuracy: 0.0015\n",
            "Epoch 302/400\n",
            "174/174 [==============================] - 1s 6ms/step - loss: 1.4912 - accuracy: 0.0016 - val_loss: 1.5268 - val_accuracy: 0.0015\n",
            "Epoch 303/400\n",
            "174/174 [==============================] - 1s 6ms/step - loss: 1.4925 - accuracy: 0.0016 - val_loss: 1.5253 - val_accuracy: 0.0015\n",
            "Epoch 304/400\n",
            "174/174 [==============================] - 1s 5ms/step - loss: 1.4914 - accuracy: 0.0016 - val_loss: 1.5274 - val_accuracy: 0.0015\n",
            "Epoch 305/400\n",
            "174/174 [==============================] - 1s 5ms/step - loss: 1.4914 - accuracy: 0.0016 - val_loss: 1.5277 - val_accuracy: 0.0015\n",
            "Epoch 306/400\n",
            "174/174 [==============================] - 1s 5ms/step - loss: 1.4908 - accuracy: 0.0016 - val_loss: 1.5254 - val_accuracy: 0.0015\n",
            "Epoch 307/400\n",
            "174/174 [==============================] - 1s 6ms/step - loss: 1.4922 - accuracy: 0.0016 - val_loss: 1.5251 - val_accuracy: 0.0015\n",
            "Epoch 308/400\n",
            "174/174 [==============================] - 1s 6ms/step - loss: 1.4921 - accuracy: 0.0016 - val_loss: 1.5409 - val_accuracy: 0.0015\n",
            "Epoch 309/400\n",
            "174/174 [==============================] - 1s 6ms/step - loss: 1.4923 - accuracy: 0.0016 - val_loss: 1.5293 - val_accuracy: 0.0015\n",
            "Epoch 310/400\n",
            "174/174 [==============================] - 1s 6ms/step - loss: 1.4901 - accuracy: 0.0016 - val_loss: 1.5224 - val_accuracy: 0.0015\n",
            "Epoch 311/400\n",
            "174/174 [==============================] - 1s 5ms/step - loss: 1.4911 - accuracy: 0.0016 - val_loss: 1.5259 - val_accuracy: 0.0015\n",
            "Epoch 312/400\n",
            "174/174 [==============================] - 1s 6ms/step - loss: 1.4909 - accuracy: 0.0016 - val_loss: 1.5235 - val_accuracy: 0.0015\n",
            "Epoch 313/400\n",
            "174/174 [==============================] - 1s 5ms/step - loss: 1.4890 - accuracy: 0.0016 - val_loss: 1.5256 - val_accuracy: 0.0015\n",
            "Epoch 314/400\n",
            "174/174 [==============================] - 1s 4ms/step - loss: 1.4888 - accuracy: 0.0016 - val_loss: 1.5313 - val_accuracy: 0.0015\n",
            "Epoch 315/400\n",
            "174/174 [==============================] - 1s 5ms/step - loss: 1.4890 - accuracy: 0.0016 - val_loss: 1.5234 - val_accuracy: 0.0015\n",
            "Epoch 316/400\n",
            "174/174 [==============================] - 1s 5ms/step - loss: 1.4878 - accuracy: 0.0016 - val_loss: 1.5259 - val_accuracy: 0.0015\n",
            "Epoch 317/400\n",
            "174/174 [==============================] - 1s 4ms/step - loss: 1.4887 - accuracy: 0.0016 - val_loss: 1.5235 - val_accuracy: 0.0015\n",
            "Epoch 318/400\n",
            "174/174 [==============================] - 1s 5ms/step - loss: 1.4898 - accuracy: 0.0016 - val_loss: 1.5260 - val_accuracy: 0.0015\n",
            "Epoch 319/400\n",
            "174/174 [==============================] - 1s 4ms/step - loss: 1.4892 - accuracy: 0.0016 - val_loss: 1.5242 - val_accuracy: 0.0015\n",
            "Epoch 320/400\n",
            "174/174 [==============================] - 1s 5ms/step - loss: 1.4906 - accuracy: 0.0016 - val_loss: 1.5283 - val_accuracy: 0.0015\n",
            "Epoch 321/400\n",
            "174/174 [==============================] - 1s 5ms/step - loss: 1.4880 - accuracy: 0.0016 - val_loss: 1.5297 - val_accuracy: 0.0015\n",
            "Epoch 322/400\n",
            "174/174 [==============================] - 1s 6ms/step - loss: 1.4900 - accuracy: 0.0016 - val_loss: 1.5317 - val_accuracy: 0.0015\n",
            "Epoch 323/400\n",
            "174/174 [==============================] - 1s 7ms/step - loss: 1.4865 - accuracy: 0.0016 - val_loss: 1.5220 - val_accuracy: 0.0015\n",
            "Epoch 324/400\n",
            "174/174 [==============================] - 1s 5ms/step - loss: 1.4905 - accuracy: 0.0016 - val_loss: 1.5255 - val_accuracy: 0.0015\n",
            "Epoch 325/400\n",
            "174/174 [==============================] - 1s 4ms/step - loss: 1.4888 - accuracy: 0.0016 - val_loss: 1.5330 - val_accuracy: 0.0015\n",
            "Epoch 326/400\n",
            "174/174 [==============================] - 1s 5ms/step - loss: 1.4886 - accuracy: 0.0016 - val_loss: 1.5257 - val_accuracy: 0.0015\n",
            "Epoch 327/400\n",
            "174/174 [==============================] - 1s 4ms/step - loss: 1.4883 - accuracy: 0.0016 - val_loss: 1.5219 - val_accuracy: 0.0015\n",
            "Epoch 328/400\n",
            "174/174 [==============================] - 1s 5ms/step - loss: 1.4874 - accuracy: 0.0016 - val_loss: 1.5248 - val_accuracy: 0.0015\n",
            "Epoch 329/400\n",
            "174/174 [==============================] - 1s 4ms/step - loss: 1.4879 - accuracy: 0.0015 - val_loss: 1.5363 - val_accuracy: 0.0015\n",
            "Epoch 330/400\n",
            "174/174 [==============================] - 1s 3ms/step - loss: 1.4891 - accuracy: 0.0016 - val_loss: 1.5244 - val_accuracy: 0.0015\n",
            "Epoch 331/400\n",
            "174/174 [==============================] - 1s 3ms/step - loss: 1.4863 - accuracy: 0.0016 - val_loss: 1.5291 - val_accuracy: 0.0015\n",
            "Epoch 332/400\n",
            "174/174 [==============================] - 1s 3ms/step - loss: 1.4878 - accuracy: 0.0016 - val_loss: 1.5226 - val_accuracy: 0.0015\n",
            "Epoch 333/400\n",
            "174/174 [==============================] - 1s 3ms/step - loss: 1.4877 - accuracy: 0.0016 - val_loss: 1.5218 - val_accuracy: 0.0015\n",
            "Epoch 334/400\n",
            "174/174 [==============================] - 1s 3ms/step - loss: 1.4862 - accuracy: 0.0016 - val_loss: 1.5244 - val_accuracy: 0.0015\n",
            "Epoch 335/400\n",
            "174/174 [==============================] - 1s 4ms/step - loss: 1.4865 - accuracy: 0.0016 - val_loss: 1.5212 - val_accuracy: 0.0015\n",
            "Epoch 336/400\n",
            "174/174 [==============================] - 1s 4ms/step - loss: 1.4857 - accuracy: 0.0016 - val_loss: 1.5227 - val_accuracy: 0.0015\n",
            "Epoch 337/400\n",
            "174/174 [==============================] - 1s 4ms/step - loss: 1.4861 - accuracy: 0.0016 - val_loss: 1.5239 - val_accuracy: 0.0015\n",
            "Epoch 338/400\n",
            "174/174 [==============================] - 1s 5ms/step - loss: 1.4878 - accuracy: 0.0016 - val_loss: 1.5244 - val_accuracy: 0.0015\n",
            "Epoch 339/400\n",
            "174/174 [==============================] - 1s 5ms/step - loss: 1.4868 - accuracy: 0.0016 - val_loss: 1.5219 - val_accuracy: 0.0015\n",
            "Epoch 340/400\n",
            "174/174 [==============================] - 1s 5ms/step - loss: 1.4890 - accuracy: 0.0016 - val_loss: 1.5231 - val_accuracy: 0.0015\n",
            "Epoch 341/400\n",
            "174/174 [==============================] - 1s 5ms/step - loss: 1.4861 - accuracy: 0.0016 - val_loss: 1.5314 - val_accuracy: 0.0015\n",
            "Epoch 342/400\n",
            "174/174 [==============================] - 1s 5ms/step - loss: 1.4871 - accuracy: 0.0016 - val_loss: 1.5203 - val_accuracy: 0.0015\n",
            "Epoch 343/400\n",
            "174/174 [==============================] - 1s 5ms/step - loss: 1.4873 - accuracy: 0.0016 - val_loss: 1.5213 - val_accuracy: 0.0015\n",
            "Epoch 344/400\n",
            "174/174 [==============================] - 1s 4ms/step - loss: 1.4853 - accuracy: 0.0016 - val_loss: 1.5213 - val_accuracy: 0.0015\n",
            "Epoch 345/400\n",
            "174/174 [==============================] - 1s 5ms/step - loss: 1.4849 - accuracy: 0.0016 - val_loss: 1.5227 - val_accuracy: 0.0015\n",
            "Epoch 346/400\n",
            "174/174 [==============================] - 1s 6ms/step - loss: 1.4869 - accuracy: 0.0016 - val_loss: 1.5225 - val_accuracy: 0.0015\n",
            "Epoch 347/400\n",
            "174/174 [==============================] - 1s 5ms/step - loss: 1.4841 - accuracy: 0.0016 - val_loss: 1.5197 - val_accuracy: 0.0015\n",
            "Epoch 348/400\n",
            "174/174 [==============================] - 1s 5ms/step - loss: 1.4852 - accuracy: 0.0016 - val_loss: 1.5209 - val_accuracy: 0.0015\n",
            "Epoch 349/400\n",
            "174/174 [==============================] - 1s 5ms/step - loss: 1.4849 - accuracy: 0.0016 - val_loss: 1.5379 - val_accuracy: 0.0015\n",
            "Epoch 350/400\n",
            "174/174 [==============================] - 1s 5ms/step - loss: 1.4856 - accuracy: 0.0016 - val_loss: 1.5271 - val_accuracy: 0.0015\n",
            "Epoch 351/400\n",
            "174/174 [==============================] - 1s 7ms/step - loss: 1.4854 - accuracy: 0.0016 - val_loss: 1.5209 - val_accuracy: 0.0015\n",
            "Epoch 352/400\n",
            "174/174 [==============================] - 1s 7ms/step - loss: 1.4842 - accuracy: 0.0016 - val_loss: 1.5209 - val_accuracy: 0.0015\n",
            "Epoch 353/400\n",
            "174/174 [==============================] - 1s 6ms/step - loss: 1.4843 - accuracy: 0.0016 - val_loss: 1.5201 - val_accuracy: 0.0015\n",
            "Epoch 354/400\n",
            "174/174 [==============================] - 1s 6ms/step - loss: 1.4859 - accuracy: 0.0016 - val_loss: 1.5193 - val_accuracy: 0.0015\n",
            "Epoch 355/400\n",
            "174/174 [==============================] - 1s 6ms/step - loss: 1.4840 - accuracy: 0.0016 - val_loss: 1.5217 - val_accuracy: 0.0015\n",
            "Epoch 356/400\n",
            "174/174 [==============================] - 1s 6ms/step - loss: 1.4833 - accuracy: 0.0016 - val_loss: 1.5233 - val_accuracy: 0.0015\n",
            "Epoch 357/400\n",
            "174/174 [==============================] - 1s 5ms/step - loss: 1.4831 - accuracy: 0.0016 - val_loss: 1.5283 - val_accuracy: 0.0015\n",
            "Epoch 358/400\n",
            "174/174 [==============================] - 1s 5ms/step - loss: 1.4837 - accuracy: 0.0016 - val_loss: 1.5214 - val_accuracy: 0.0015\n",
            "Epoch 359/400\n",
            "174/174 [==============================] - 1s 5ms/step - loss: 1.4844 - accuracy: 0.0016 - val_loss: 1.5184 - val_accuracy: 0.0015\n",
            "Epoch 360/400\n",
            "174/174 [==============================] - 1s 4ms/step - loss: 1.4839 - accuracy: 0.0016 - val_loss: 1.5230 - val_accuracy: 0.0015\n",
            "Epoch 361/400\n",
            "174/174 [==============================] - 1s 5ms/step - loss: 1.4836 - accuracy: 0.0016 - val_loss: 1.5190 - val_accuracy: 0.0015\n",
            "Epoch 362/400\n",
            "174/174 [==============================] - 1s 5ms/step - loss: 1.4827 - accuracy: 0.0016 - val_loss: 1.5224 - val_accuracy: 0.0015\n",
            "Epoch 363/400\n",
            "174/174 [==============================] - 1s 5ms/step - loss: 1.4873 - accuracy: 0.0016 - val_loss: 1.5245 - val_accuracy: 0.0015\n",
            "Epoch 364/400\n",
            "174/174 [==============================] - 1s 6ms/step - loss: 1.4848 - accuracy: 0.0016 - val_loss: 1.5195 - val_accuracy: 0.0015\n",
            "Epoch 365/400\n",
            "174/174 [==============================] - 1s 6ms/step - loss: 1.4842 - accuracy: 0.0016 - val_loss: 1.5213 - val_accuracy: 0.0015\n",
            "Epoch 366/400\n",
            "174/174 [==============================] - 1s 6ms/step - loss: 1.4832 - accuracy: 0.0016 - val_loss: 1.5203 - val_accuracy: 0.0015\n",
            "Epoch 367/400\n",
            "174/174 [==============================] - 1s 5ms/step - loss: 1.4867 - accuracy: 0.0016 - val_loss: 1.5298 - val_accuracy: 0.0015\n",
            "Epoch 368/400\n",
            "174/174 [==============================] - 1s 5ms/step - loss: 1.4828 - accuracy: 0.0016 - val_loss: 1.5182 - val_accuracy: 0.0015\n",
            "Epoch 369/400\n",
            "174/174 [==============================] - 1s 5ms/step - loss: 1.4838 - accuracy: 0.0016 - val_loss: 1.5190 - val_accuracy: 0.0015\n",
            "Epoch 370/400\n",
            "174/174 [==============================] - 1s 5ms/step - loss: 1.4834 - accuracy: 0.0016 - val_loss: 1.5198 - val_accuracy: 0.0015\n",
            "Epoch 371/400\n",
            "174/174 [==============================] - 1s 5ms/step - loss: 1.4820 - accuracy: 0.0016 - val_loss: 1.5227 - val_accuracy: 0.0015\n",
            "Epoch 372/400\n",
            "174/174 [==============================] - 1s 5ms/step - loss: 1.4824 - accuracy: 0.0016 - val_loss: 1.5210 - val_accuracy: 0.0015\n",
            "Epoch 373/400\n",
            "174/174 [==============================] - 1s 4ms/step - loss: 1.4819 - accuracy: 0.0016 - val_loss: 1.5204 - val_accuracy: 0.0015\n",
            "Epoch 374/400\n",
            "174/174 [==============================] - 1s 5ms/step - loss: 1.4828 - accuracy: 0.0016 - val_loss: 1.5245 - val_accuracy: 0.0015\n",
            "Epoch 375/400\n",
            "174/174 [==============================] - 1s 5ms/step - loss: 1.4840 - accuracy: 0.0016 - val_loss: 1.5252 - val_accuracy: 0.0015\n",
            "Epoch 376/400\n",
            "174/174 [==============================] - 1s 5ms/step - loss: 1.4837 - accuracy: 0.0016 - val_loss: 1.5218 - val_accuracy: 0.0015\n",
            "Epoch 377/400\n",
            "174/174 [==============================] - 1s 6ms/step - loss: 1.4847 - accuracy: 0.0016 - val_loss: 1.5182 - val_accuracy: 0.0015\n",
            "Epoch 378/400\n",
            "174/174 [==============================] - 1s 5ms/step - loss: 1.4831 - accuracy: 0.0016 - val_loss: 1.5202 - val_accuracy: 0.0015\n",
            "Epoch 379/400\n",
            "174/174 [==============================] - 1s 6ms/step - loss: 1.4810 - accuracy: 0.0016 - val_loss: 1.5174 - val_accuracy: 0.0015\n",
            "Epoch 380/400\n",
            "174/174 [==============================] - 1s 5ms/step - loss: 1.4815 - accuracy: 0.0016 - val_loss: 1.5166 - val_accuracy: 0.0015\n",
            "Epoch 381/400\n",
            "174/174 [==============================] - 1s 6ms/step - loss: 1.4804 - accuracy: 0.0016 - val_loss: 1.5182 - val_accuracy: 0.0015\n",
            "Epoch 382/400\n",
            "174/174 [==============================] - 1s 5ms/step - loss: 1.4835 - accuracy: 0.0016 - val_loss: 1.5176 - val_accuracy: 0.0015\n",
            "Epoch 383/400\n",
            "174/174 [==============================] - 2s 9ms/step - loss: 1.4829 - accuracy: 0.0016 - val_loss: 1.5200 - val_accuracy: 0.0015\n",
            "Epoch 384/400\n",
            "174/174 [==============================] - 1s 7ms/step - loss: 1.4816 - accuracy: 0.0016 - val_loss: 1.5232 - val_accuracy: 0.0015\n",
            "Epoch 385/400\n",
            "174/174 [==============================] - 1s 6ms/step - loss: 1.4822 - accuracy: 0.0016 - val_loss: 1.5181 - val_accuracy: 0.0015\n",
            "Epoch 386/400\n",
            "174/174 [==============================] - 1s 5ms/step - loss: 1.4820 - accuracy: 0.0016 - val_loss: 1.5272 - val_accuracy: 0.0015\n",
            "Epoch 387/400\n",
            "174/174 [==============================] - 1s 5ms/step - loss: 1.4822 - accuracy: 0.0016 - val_loss: 1.5205 - val_accuracy: 0.0015\n",
            "Epoch 388/400\n",
            "174/174 [==============================] - 1s 5ms/step - loss: 1.4806 - accuracy: 0.0016 - val_loss: 1.5209 - val_accuracy: 0.0015\n",
            "Epoch 389/400\n",
            "174/174 [==============================] - 1s 5ms/step - loss: 1.4822 - accuracy: 0.0016 - val_loss: 1.5214 - val_accuracy: 0.0015\n",
            "Epoch 390/400\n",
            "174/174 [==============================] - 1s 5ms/step - loss: 1.4805 - accuracy: 0.0016 - val_loss: 1.5247 - val_accuracy: 0.0015\n",
            "Epoch 391/400\n",
            "174/174 [==============================] - 1s 4ms/step - loss: 1.4820 - accuracy: 0.0016 - val_loss: 1.5227 - val_accuracy: 0.0015\n",
            "Epoch 392/400\n",
            "174/174 [==============================] - 1s 5ms/step - loss: 1.4823 - accuracy: 0.0016 - val_loss: 1.5262 - val_accuracy: 0.0015\n",
            "Epoch 393/400\n",
            "174/174 [==============================] - 1s 5ms/step - loss: 1.4800 - accuracy: 0.0016 - val_loss: 1.5211 - val_accuracy: 0.0015\n",
            "Epoch 394/400\n",
            "174/174 [==============================] - 1s 4ms/step - loss: 1.4797 - accuracy: 0.0016 - val_loss: 1.5194 - val_accuracy: 0.0015\n",
            "Epoch 395/400\n",
            "174/174 [==============================] - 1s 5ms/step - loss: 1.4814 - accuracy: 0.0016 - val_loss: 1.5179 - val_accuracy: 0.0015\n",
            "Epoch 396/400\n",
            "174/174 [==============================] - 1s 5ms/step - loss: 1.4816 - accuracy: 0.0016 - val_loss: 1.5187 - val_accuracy: 0.0015\n",
            "Epoch 397/400\n",
            "174/174 [==============================] - 1s 5ms/step - loss: 1.4801 - accuracy: 0.0016 - val_loss: 1.5200 - val_accuracy: 0.0015\n",
            "Epoch 398/400\n",
            "174/174 [==============================] - 1s 5ms/step - loss: 1.4799 - accuracy: 0.0016 - val_loss: 1.5274 - val_accuracy: 0.0015\n",
            "Epoch 399/400\n",
            "174/174 [==============================] - 1s 4ms/step - loss: 1.4801 - accuracy: 0.0016 - val_loss: 1.5167 - val_accuracy: 0.0015\n",
            "Epoch 400/400\n",
            "174/174 [==============================] - 1s 5ms/step - loss: 1.4809 - accuracy: 0.0016 - val_loss: 1.5176 - val_accuracy: 0.0015\n",
            "Epoch 00400: early stopping\n"
          ]
        }
      ],
      "source": [
        "model_nn.compile(optimizer='adam',loss='mean_absolute_error',metrics=['accuracy'])\n",
        "earlyStop=EarlyStopping(monitor=\"val_loss\",verbose=2,mode='min',patience=20)\n",
        "losses_nn_2 = model_nn.fit(X_train, y_train, validation_data=(X_val, y_val), batch_size=256, epochs=400, callbacks=[earlyStop])"
      ]
    },
    {
      "cell_type": "markdown",
      "metadata": {
        "id": "0SeXrS7D96MX"
      },
      "source": [
        "#### Loss graph"
      ]
    },
    {
      "cell_type": "code",
      "execution_count": null,
      "metadata": {
        "colab": {
          "base_uri": "https://localhost:8080/",
          "height": 284
        },
        "id": "7sdTTaKy9_ro",
        "outputId": "27cad4ec-bc10-4480-abff-8a65d9b2ac29"
      },
      "outputs": [
        {
          "data": {
            "text/plain": [
              "<matplotlib.axes._subplots.AxesSubplot at 0x7f5a2e057550>"
            ]
          },
          "execution_count": 13,
          "metadata": {},
          "output_type": "execute_result"
        },
        {
          "data": {
            "image/png": "[encoded data removed]",
            "text/plain": [
              "<Figure size 432x288 with 1 Axes>"
            ]
          },
          "metadata": {
            "needs_background": "light"
          },
          "output_type": "display_data"
        }
      ],
      "source": [
        "loss_df_nn_2 = pd.DataFrame(losses_nn_2.history)\n",
        "loss_df_nn_2.loc[:,['loss','val_loss']].plot(color = ['darkorange','midnightblue'])"
      ]
    },
    {
      "cell_type": "markdown",
      "metadata": {
        "id": "qhq6zLhX-ASf"
      },
      "source": [
        "#### Loss values"
      ]
    },
    {
      "cell_type": "code",
      "execution_count": null,
      "metadata": {
        "colab": {
          "base_uri": "https://localhost:8080/"
        },
        "id": "4Vqq4XPv-FHn",
        "outputId": "749a8b77-73bf-484d-ad57-abb8957db418"
      },
      "outputs": [
        {
          "name": "stdout",
          "output_type": "stream",
          "text": [
            "19797/19797 [==============================] - 57s 3ms/step - loss: 1.5001 - accuracy: 0.0016\n"
          ]
        }
      ],
      "source": [
        "score_mae = model_nn.evaluate(X_test, y_test, batch_size=1)\n",
        "y_pred_nn_2 = model_nn.predict(X_test)"
      ]
    },
    {
      "cell_type": "code",
      "execution_count": null,
      "metadata": {
        "id": "j6iO-gQs_VV-"
      },
      "outputs": [],
      "source": [
        "compa_k_mae.append(score_mae[0])"
      ]
    },
    {
      "cell_type": "code",
      "execution_count": null,
      "metadata": {
        "colab": {
          "base_uri": "https://localhost:8080/"
        },
        "id": "gs7ihEVf_YFW",
        "outputId": "39648253-cb4e-4c40-ffef-93fae41ef16a"
      },
      "outputs": [
        {
          "name": "stdout",
          "output_type": "stream",
          "text": [
            "mae: 1.500072\n"
          ]
        }
      ],
      "source": [
        "print('mae: %f'%score_mae[0])"
      ]
    },
    {
      "cell_type": "code",
      "execution_count": null,
      "metadata": {
        "colab": {
          "base_uri": "https://localhost:8080/"
        },
        "id": "6uCktc7X_afI",
        "outputId": "a32e1077-7625-46d5-8a9b-b2f77db03486"
      },
      "outputs": [
        {
          "name": "stdout",
          "output_type": "stream",
          "text": [
            "predicted response:\n",
            "[[5.75183821e+09]\n",
            " [3.71519470e+09]\n",
            " [4.28086185e+09]\n",
            " [1.50170982e+09]\n",
            " [1.95318103e+09]\n",
            " [5.82241154e+09]\n",
            " [2.96889567e+09]\n",
            " [3.93502665e+09]\n",
            " [5.98753071e+09]\n",
            " [6.01784754e+09]]\n",
            "actual:\n",
            "67254    7.800000e+09\n",
            "33028    1.790000e+09\n",
            "12304    5.200000e+09\n",
            "71296    1.305000e+09\n",
            "48795    1.389000e+09\n",
            "20723    4.800000e+09\n",
            "4271     2.000000e+09\n",
            "44233    3.330000e+09\n",
            "22704    8.250000e+09\n",
            "5264     6.500000e+09\n",
            "Name: price, dtype: float64\n"
          ]
        }
      ],
      "source": [
        "print(f\"predicted response:\\n{y_pred_nn_2[:10]*one_billion}\")\n",
        "print(f\"actual:\\n{y_test.iloc[0:10]*one_billion}\")"
      ]
    },
    {
      "cell_type": "code",
      "execution_count": null,
      "metadata": {
        "colab": {
          "base_uri": "https://localhost:8080/"
        },
        "id": "cItatA6i_eu5",
        "outputId": "0f5545be-0241-43fc-b552-d6a4d61214d3"
      },
      "outputs": [
        {
          "name": "stdout",
          "output_type": "stream",
          "text": [
            "The number of negative prediction:  1\n",
            "Percent correct prediction:  52.84639086730313\n"
          ]
        }
      ],
      "source": [
        "error, negative_integer = find_prediction_error_value(y_test, y_pred_nn_2)\n",
        "print(\"The number of negative prediction: \", len(negative_integer))\n",
        "print(\"Percent correct prediction: \", (len(y_test) - len(error))/len(y_test)*100)"
      ]
    },
    {
      "cell_type": "markdown",
      "metadata": {
        "id": "TxnN9ucj9u2X"
      },
      "source": [
        "### RMSE"
      ]
    },
    {
      "cell_type": "code",
      "execution_count": null,
      "metadata": {
        "colab": {
          "base_uri": "https://localhost:8080/"
        },
        "id": "3pN4JKT59yIH",
        "outputId": "b322acc7-c845-4d24-995c-079def1fa401"
      },
      "outputs": [
        {
          "name": "stdout",
          "output_type": "stream",
          "text": [
            "Epoch 1/400\n",
            "174/174 [==============================] - 1s 4ms/step - loss: 2.2508 - accuracy: 0.0016 - val_loss: 2.3021 - val_accuracy: 0.0015\n",
            "Epoch 2/400\n",
            "174/174 [==============================] - 1s 3ms/step - loss: 2.2462 - accuracy: 0.0016 - val_loss: 2.2995 - val_accuracy: 0.0015\n",
            "Epoch 3/400\n",
            "174/174 [==============================] - 1s 3ms/step - loss: 2.2446 - accuracy: 0.0016 - val_loss: 2.2985 - val_accuracy: 0.0015\n",
            "Epoch 4/400\n",
            "174/174 [==============================] - 1s 3ms/step - loss: 2.2429 - accuracy: 0.0016 - val_loss: 2.2975 - val_accuracy: 0.0015\n",
            "Epoch 5/400\n",
            "174/174 [==============================] - 0s 3ms/step - loss: 2.2386 - accuracy: 0.0016 - val_loss: 2.2942 - val_accuracy: 0.0015\n",
            "Epoch 6/400\n",
            "174/174 [==============================] - 1s 3ms/step - loss: 2.2403 - accuracy: 0.0016 - val_loss: 2.2937 - val_accuracy: 0.0015\n",
            "Epoch 7/400\n",
            "174/174 [==============================] - 0s 3ms/step - loss: 2.2425 - accuracy: 0.0016 - val_loss: 2.2943 - val_accuracy: 0.0015\n",
            "Epoch 8/400\n",
            "174/174 [==============================] - 1s 3ms/step - loss: 2.2372 - accuracy: 0.0016 - val_loss: 2.3014 - val_accuracy: 0.0015\n",
            "Epoch 9/400\n",
            "174/174 [==============================] - 0s 3ms/step - loss: 2.2397 - accuracy: 0.0015 - val_loss: 2.2973 - val_accuracy: 0.0015\n",
            "Epoch 10/400\n",
            "174/174 [==============================] - 1s 3ms/step - loss: 2.2400 - accuracy: 0.0015 - val_loss: 2.2948 - val_accuracy: 0.0015\n",
            "Epoch 11/400\n",
            "174/174 [==============================] - 0s 3ms/step - loss: 2.2371 - accuracy: 0.0016 - val_loss: 2.2947 - val_accuracy: 0.0015\n",
            "Epoch 12/400\n",
            "174/174 [==============================] - 1s 3ms/step - loss: 2.2376 - accuracy: 0.0016 - val_loss: 2.2986 - val_accuracy: 0.0015\n",
            "Epoch 13/400\n",
            "174/174 [==============================] - 0s 3ms/step - loss: 2.2388 - accuracy: 0.0016 - val_loss: 2.3013 - val_accuracy: 0.0015\n",
            "Epoch 14/400\n",
            "174/174 [==============================] - 0s 3ms/step - loss: 2.2368 - accuracy: 0.0015 - val_loss: 2.2945 - val_accuracy: 0.0015\n",
            "Epoch 15/400\n",
            "174/174 [==============================] - 0s 3ms/step - loss: 2.2359 - accuracy: 0.0016 - val_loss: 2.3178 - val_accuracy: 0.0015\n",
            "Epoch 16/400\n",
            "174/174 [==============================] - 0s 3ms/step - loss: 2.2377 - accuracy: 0.0016 - val_loss: 2.2923 - val_accuracy: 0.0015\n",
            "Epoch 17/400\n",
            "174/174 [==============================] - 0s 3ms/step - loss: 2.2357 - accuracy: 0.0016 - val_loss: 2.2948 - val_accuracy: 0.0015\n",
            "Epoch 18/400\n",
            "174/174 [==============================] - 1s 3ms/step - loss: 2.2362 - accuracy: 0.0016 - val_loss: 2.2968 - val_accuracy: 0.0015\n",
            "Epoch 19/400\n",
            "174/174 [==============================] - 1s 3ms/step - loss: 2.2338 - accuracy: 0.0016 - val_loss: 2.2928 - val_accuracy: 0.0015\n",
            "Epoch 20/400\n",
            "174/174 [==============================] - 1s 3ms/step - loss: 2.2348 - accuracy: 0.0016 - val_loss: 2.2915 - val_accuracy: 0.0015\n",
            "Epoch 21/400\n",
            "174/174 [==============================] - 1s 3ms/step - loss: 2.2320 - accuracy: 0.0015 - val_loss: 2.2981 - val_accuracy: 0.0015\n",
            "Epoch 22/400\n",
            "174/174 [==============================] - 0s 3ms/step - loss: 2.2346 - accuracy: 0.0015 - val_loss: 2.2917 - val_accuracy: 0.0015\n",
            "Epoch 23/400\n",
            "174/174 [==============================] - 1s 3ms/step - loss: 2.2336 - accuracy: 0.0016 - val_loss: 2.2935 - val_accuracy: 0.0015\n",
            "Epoch 24/400\n",
            "174/174 [==============================] - 0s 3ms/step - loss: 2.2339 - accuracy: 0.0015 - val_loss: 2.2930 - val_accuracy: 0.0015\n",
            "Epoch 25/400\n",
            "174/174 [==============================] - 0s 3ms/step - loss: 2.2357 - accuracy: 0.0015 - val_loss: 2.2941 - val_accuracy: 0.0015\n",
            "Epoch 26/400\n",
            "174/174 [==============================] - 0s 3ms/step - loss: 2.2331 - accuracy: 0.0015 - val_loss: 2.2979 - val_accuracy: 0.0015\n",
            "Epoch 27/400\n",
            "174/174 [==============================] - 0s 3ms/step - loss: 2.2325 - accuracy: 0.0016 - val_loss: 2.2960 - val_accuracy: 0.0015\n",
            "Epoch 28/400\n",
            "174/174 [==============================] - 0s 3ms/step - loss: 2.2343 - accuracy: 0.0016 - val_loss: 2.2932 - val_accuracy: 0.0015\n",
            "Epoch 29/400\n",
            "174/174 [==============================] - 1s 3ms/step - loss: 2.2333 - accuracy: 0.0016 - val_loss: 2.2931 - val_accuracy: 0.0015\n",
            "Epoch 30/400\n",
            "174/174 [==============================] - 0s 3ms/step - loss: 2.2327 - accuracy: 0.0016 - val_loss: 2.2993 - val_accuracy: 0.0015\n",
            "Epoch 31/400\n",
            "174/174 [==============================] - 1s 3ms/step - loss: 2.2321 - accuracy: 0.0015 - val_loss: 2.3000 - val_accuracy: 0.0015\n",
            "Epoch 32/400\n",
            "174/174 [==============================] - 1s 3ms/step - loss: 2.2343 - accuracy: 0.0015 - val_loss: 2.2940 - val_accuracy: 0.0015\n",
            "Epoch 33/400\n",
            "174/174 [==============================] - 0s 3ms/step - loss: 2.2305 - accuracy: 0.0016 - val_loss: 2.2928 - val_accuracy: 0.0015\n",
            "Epoch 34/400\n",
            "174/174 [==============================] - 0s 3ms/step - loss: 2.2305 - accuracy: 0.0016 - val_loss: 2.2982 - val_accuracy: 0.0015\n",
            "Epoch 35/400\n",
            "174/174 [==============================] - 0s 3ms/step - loss: 2.2327 - accuracy: 0.0015 - val_loss: 2.3155 - val_accuracy: 0.0015\n",
            "Epoch 36/400\n",
            "174/174 [==============================] - 0s 3ms/step - loss: 2.2313 - accuracy: 0.0016 - val_loss: 2.2959 - val_accuracy: 0.0015\n",
            "Epoch 37/400\n",
            "174/174 [==============================] - 0s 3ms/step - loss: 2.2317 - accuracy: 0.0016 - val_loss: 2.2916 - val_accuracy: 0.0015\n",
            "Epoch 38/400\n",
            "174/174 [==============================] - 0s 3ms/step - loss: 2.2308 - accuracy: 0.0016 - val_loss: 2.3077 - val_accuracy: 0.0015\n",
            "Epoch 39/400\n",
            "174/174 [==============================] - 0s 3ms/step - loss: 2.2297 - accuracy: 0.0016 - val_loss: 2.2966 - val_accuracy: 0.0015\n",
            "Epoch 40/400\n",
            "174/174 [==============================] - 1s 3ms/step - loss: 2.2298 - accuracy: 0.0016 - val_loss: 2.2939 - val_accuracy: 0.0015\n",
            "Epoch 00040: early stopping\n"
          ]
        }
      ],
      "source": [
        "model_nn.compile(optimizer='adam',loss=root_mean_squared_error,metrics=['accuracy'])\n",
        "earlyStop=EarlyStopping(monitor=\"val_loss\",verbose=2,mode='min',patience=20)\n",
        "losses_nn_3 = model_nn.fit(X_train, y_train, validation_data=(X_val, y_val), batch_size=256, epochs=400, callbacks=[earlyStop])"
      ]
    },
    {
      "cell_type": "markdown",
      "metadata": {
        "id": "M3OguDWK9-TX"
      },
      "source": [
        "#### Loss graph"
      ]
    },
    {
      "cell_type": "code",
      "execution_count": null,
      "metadata": {
        "colab": {
          "base_uri": "https://localhost:8080/",
          "height": 282
        },
        "id": "H0jScb0j-DQ_",
        "outputId": "82b6bad0-3276-46a6-a1a0-ae8860ffc267"
      },
      "outputs": [
        {
          "data": {
            "text/plain": [
              "<matplotlib.axes._subplots.AxesSubplot at 0x7f5a1226d6d0>"
            ]
          },
          "execution_count": 31,
          "metadata": {},
          "output_type": "execute_result"
        },
        {
          "data": {
            "image/png": "[encoded data removed]",
            "text/plain": [
              "<Figure size 432x288 with 1 Axes>"
            ]
          },
          "metadata": {
            "needs_background": "light"
          },
          "output_type": "display_data"
        }
      ],
      "source": [
        "loss_df_nn_3 = pd.DataFrame(losses_nn_3.history)\n",
        "loss_df_nn_3.loc[:,['loss','val_loss']].plot(color = ['darkorange','midnightblue'])"
      ]
    },
    {
      "cell_type": "markdown",
      "metadata": {
        "id": "B0Yz80Lh-Dgv"
      },
      "source": [
        "#### Loss values"
      ]
    },
    {
      "cell_type": "code",
      "execution_count": null,
      "metadata": {
        "colab": {
          "base_uri": "https://localhost:8080/"
        },
        "id": "qCR4AeLC-EOQ",
        "outputId": "44a358ef-9852-4400-f559-5f604051ebd9"
      },
      "outputs": [
        {
          "name": "stdout",
          "output_type": "stream",
          "text": [
            "19797/19797 [==============================] - 61s 3ms/step - loss: 1.5172 - accuracy: 0.0016\n"
          ]
        }
      ],
      "source": [
        "score_rmse = model_nn.evaluate(X_test, y_test, batch_size=1)\n",
        "y_pred_nn_3 = model_nn.predict(X_test)"
      ]
    },
    {
      "cell_type": "code",
      "execution_count": null,
      "metadata": {
        "id": "yupUslNpAIaw"
      },
      "outputs": [],
      "source": [
        "compa_k_rmse.append(score_rmse[0])"
      ]
    },
    {
      "cell_type": "code",
      "execution_count": null,
      "metadata": {
        "colab": {
          "base_uri": "https://localhost:8080/"
        },
        "id": "I-SbiaBLAJ5H",
        "outputId": "eb554fbf-673b-49a6-f7ae-84ec81ee3f97"
      },
      "outputs": [
        {
          "name": "stdout",
          "output_type": "stream",
          "text": [
            "rmse: 1.517154\n"
          ]
        }
      ],
      "source": [
        "print('rmse: %f'%score_rmse[0])"
      ]
    },
    {
      "cell_type": "code",
      "execution_count": null,
      "metadata": {
        "colab": {
          "base_uri": "https://localhost:8080/"
        },
        "id": "F9W5pRbtAKrf",
        "outputId": "9f20fe7f-55e1-4da7-ea49-47e04893910f"
      },
      "outputs": [
        {
          "name": "stdout",
          "output_type": "stream",
          "text": [
            "predicted response:\n",
            "[[5.76197672e+09]\n",
            " [3.66662121e+09]\n",
            " [3.74300003e+09]\n",
            " [1.24235356e+09]\n",
            " [2.67861319e+09]\n",
            " [5.96319056e+09]\n",
            " [2.50397921e+09]\n",
            " [3.90229273e+09]\n",
            " [6.26588154e+09]\n",
            " [6.26917219e+09]]\n",
            "actual:\n",
            "67254    7.800000e+09\n",
            "33028    1.790000e+09\n",
            "12304    5.200000e+09\n",
            "71296    1.305000e+09\n",
            "48795    1.389000e+09\n",
            "20723    4.800000e+09\n",
            "4271     2.000000e+09\n",
            "44233    3.330000e+09\n",
            "22704    8.250000e+09\n",
            "5264     6.500000e+09\n",
            "Name: price, dtype: float64\n"
          ]
        }
      ],
      "source": [
        "print(f\"predicted response:\\n{y_pred_nn_3[:10]*one_billion}\")\n",
        "print(f\"actual:\\n{y_test.iloc[0:10]*one_billion}\")"
      ]
    },
    {
      "cell_type": "code",
      "execution_count": null,
      "metadata": {
        "colab": {
          "base_uri": "https://localhost:8080/"
        },
        "id": "8KFXbY76AN23",
        "outputId": "6d42a260-5ed3-431b-f7c6-9a80e74ef916"
      },
      "outputs": [
        {
          "name": "stdout",
          "output_type": "stream",
          "text": [
            "The number of negative prediction:  3\n",
            "Percent correct prediction:  51.179471637116734\n"
          ]
        }
      ],
      "source": [
        "error, negative_integer = find_prediction_error_value(y_test, y_pred_nn_3)\n",
        "print(\"The number of negative prediction: \", len(negative_integer))\n",
        "print(\"Percent correct prediction: \", (len(y_test) - len(error))/len(y_test)*100)"
      ]
    },
    {
      "cell_type": "markdown",
      "metadata": {
        "id": "nSn6Lhgv9wsP"
      },
      "source": [
        "### R2"
      ]
    },
    {
      "cell_type": "code",
      "execution_count": null,
      "metadata": {
        "colab": {
          "base_uri": "https://localhost:8080/"
        },
        "id": "fg-T0Hqh-RP_",
        "outputId": "f87138e2-ec2c-4e76-fb34-aedc7f26d1d2"
      },
      "outputs": [
        {
          "name": "stdout",
          "output_type": "stream",
          "text": [
            "Epoch 1/400\n",
            "174/174 [==============================] - 1s 4ms/step - loss: 5.0212 - accuracy: 0.0015 - val_loss: 5.2866 - val_accuracy: 0.0015\n",
            "Epoch 2/400\n",
            "174/174 [==============================] - 1s 3ms/step - loss: 5.0080 - accuracy: 0.0016 - val_loss: 5.3215 - val_accuracy: 0.0015\n",
            "Epoch 3/400\n",
            "174/174 [==============================] - 1s 3ms/step - loss: 5.0008 - accuracy: 0.0016 - val_loss: 5.3434 - val_accuracy: 0.0015\n",
            "Epoch 4/400\n",
            "174/174 [==============================] - 1s 3ms/step - loss: 5.0115 - accuracy: 0.0016 - val_loss: 5.2859 - val_accuracy: 0.0015\n",
            "Epoch 5/400\n",
            "174/174 [==============================] - 1s 3ms/step - loss: 5.0069 - accuracy: 0.0016 - val_loss: 5.3070 - val_accuracy: 0.0015\n",
            "Epoch 6/400\n",
            "174/174 [==============================] - 0s 3ms/step - loss: 5.0067 - accuracy: 0.0016 - val_loss: 5.3747 - val_accuracy: 0.0015\n",
            "Epoch 7/400\n",
            "174/174 [==============================] - 1s 3ms/step - loss: 5.0006 - accuracy: 0.0016 - val_loss: 5.2841 - val_accuracy: 0.0015\n",
            "Epoch 8/400\n",
            "174/174 [==============================] - 1s 3ms/step - loss: 4.9982 - accuracy: 0.0015 - val_loss: 5.2916 - val_accuracy: 0.0015\n",
            "Epoch 9/400\n",
            "174/174 [==============================] - 1s 3ms/step - loss: 4.9955 - accuracy: 0.0016 - val_loss: 5.3559 - val_accuracy: 0.0015\n",
            "Epoch 10/400\n",
            "174/174 [==============================] - 0s 3ms/step - loss: 5.0010 - accuracy: 0.0016 - val_loss: 5.4321 - val_accuracy: 0.0015\n",
            "Epoch 11/400\n",
            "174/174 [==============================] - 1s 3ms/step - loss: 4.9963 - accuracy: 0.0016 - val_loss: 5.2925 - val_accuracy: 0.0015\n",
            "Epoch 12/400\n",
            "174/174 [==============================] - 0s 3ms/step - loss: 4.9944 - accuracy: 0.0015 - val_loss: 5.2994 - val_accuracy: 0.0015\n",
            "Epoch 13/400\n",
            "174/174 [==============================] - 1s 3ms/step - loss: 5.0033 - accuracy: 0.0016 - val_loss: 5.3175 - val_accuracy: 0.0015\n",
            "Epoch 14/400\n",
            "174/174 [==============================] - 1s 3ms/step - loss: 4.9967 - accuracy: 0.0016 - val_loss: 5.3071 - val_accuracy: 0.0015\n",
            "Epoch 15/400\n",
            "174/174 [==============================] - 0s 3ms/step - loss: 5.0046 - accuracy: 0.0016 - val_loss: 5.3295 - val_accuracy: 0.0015\n",
            "Epoch 16/400\n",
            "174/174 [==============================] - 1s 3ms/step - loss: 4.9986 - accuracy: 0.0016 - val_loss: 5.2880 - val_accuracy: 0.0015\n",
            "Epoch 17/400\n",
            "174/174 [==============================] - 0s 3ms/step - loss: 5.0012 - accuracy: 0.0016 - val_loss: 5.2970 - val_accuracy: 0.0015\n",
            "Epoch 18/400\n",
            "174/174 [==============================] - 1s 3ms/step - loss: 4.9914 - accuracy: 0.0016 - val_loss: 5.2964 - val_accuracy: 0.0015\n",
            "Epoch 19/400\n",
            "174/174 [==============================] - 0s 3ms/step - loss: 4.9966 - accuracy: 0.0015 - val_loss: 5.2936 - val_accuracy: 0.0015\n",
            "Epoch 20/400\n",
            "174/174 [==============================] - 0s 3ms/step - loss: 4.9896 - accuracy: 0.0016 - val_loss: 5.2986 - val_accuracy: 0.0015\n",
            "Epoch 21/400\n",
            "174/174 [==============================] - 0s 3ms/step - loss: 4.9915 - accuracy: 0.0015 - val_loss: 5.2856 - val_accuracy: 0.0015\n",
            "Epoch 22/400\n",
            "174/174 [==============================] - 1s 3ms/step - loss: 5.0057 - accuracy: 0.0015 - val_loss: 5.3125 - val_accuracy: 0.0015\n",
            "Epoch 23/400\n",
            "174/174 [==============================] - 0s 3ms/step - loss: 4.9870 - accuracy: 0.0016 - val_loss: 5.3242 - val_accuracy: 0.0015\n",
            "Epoch 24/400\n",
            "174/174 [==============================] - 1s 3ms/step - loss: 4.9880 - accuracy: 0.0016 - val_loss: 5.2823 - val_accuracy: 0.0015\n",
            "Epoch 25/400\n",
            "174/174 [==============================] - 0s 3ms/step - loss: 5.0012 - accuracy: 0.0016 - val_loss: 5.3042 - val_accuracy: 0.0015\n",
            "Epoch 26/400\n",
            "174/174 [==============================] - 1s 3ms/step - loss: 4.9968 - accuracy: 0.0016 - val_loss: 5.3173 - val_accuracy: 0.0015\n",
            "Epoch 27/400\n",
            "174/174 [==============================] - 1s 3ms/step - loss: 4.9922 - accuracy: 0.0016 - val_loss: 5.3206 - val_accuracy: 0.0015\n",
            "Epoch 28/400\n",
            "174/174 [==============================] - 1s 3ms/step - loss: 4.9903 - accuracy: 0.0016 - val_loss: 5.3213 - val_accuracy: 0.0015\n",
            "Epoch 29/400\n",
            "174/174 [==============================] - 1s 3ms/step - loss: 4.9905 - accuracy: 0.0016 - val_loss: 5.2931 - val_accuracy: 0.0015\n",
            "Epoch 30/400\n",
            "174/174 [==============================] - 1s 3ms/step - loss: 4.9862 - accuracy: 0.0015 - val_loss: 5.2966 - val_accuracy: 0.0015\n",
            "Epoch 31/400\n",
            "174/174 [==============================] - 1s 3ms/step - loss: 4.9929 - accuracy: 0.0016 - val_loss: 5.2926 - val_accuracy: 0.0015\n",
            "Epoch 32/400\n",
            "174/174 [==============================] - 1s 3ms/step - loss: 4.9812 - accuracy: 0.0016 - val_loss: 5.3071 - val_accuracy: 0.0015\n",
            "Epoch 33/400\n",
            "174/174 [==============================] - 1s 3ms/step - loss: 4.9769 - accuracy: 0.0016 - val_loss: 5.2858 - val_accuracy: 0.0015\n",
            "Epoch 34/400\n",
            "174/174 [==============================] - 1s 3ms/step - loss: 4.9752 - accuracy: 0.0016 - val_loss: 5.3055 - val_accuracy: 0.0015\n",
            "Epoch 35/400\n",
            "174/174 [==============================] - 1s 3ms/step - loss: 4.9894 - accuracy: 0.0016 - val_loss: 5.3123 - val_accuracy: 0.0015\n",
            "Epoch 36/400\n",
            "174/174 [==============================] - 1s 3ms/step - loss: 4.9904 - accuracy: 0.0016 - val_loss: 5.3000 - val_accuracy: 0.0015\n",
            "Epoch 37/400\n",
            "174/174 [==============================] - 1s 3ms/step - loss: 4.9859 - accuracy: 0.0016 - val_loss: 5.2918 - val_accuracy: 0.0015\n",
            "Epoch 38/400\n",
            "174/174 [==============================] - 1s 3ms/step - loss: 4.9808 - accuracy: 0.0016 - val_loss: 5.4323 - val_accuracy: 0.0015\n",
            "Epoch 39/400\n",
            "174/174 [==============================] - 1s 3ms/step - loss: 4.9825 - accuracy: 0.0016 - val_loss: 5.2876 - val_accuracy: 0.0015\n",
            "Epoch 40/400\n",
            "174/174 [==============================] - 1s 3ms/step - loss: 4.9848 - accuracy: 0.0016 - val_loss: 5.3177 - val_accuracy: 0.0015\n",
            "Epoch 41/400\n",
            "174/174 [==============================] - 1s 3ms/step - loss: 4.9891 - accuracy: 0.0015 - val_loss: 5.3312 - val_accuracy: 0.0015\n",
            "Epoch 42/400\n",
            "174/174 [==============================] - 1s 3ms/step - loss: 4.9834 - accuracy: 0.0016 - val_loss: 5.3365 - val_accuracy: 0.0015\n",
            "Epoch 43/400\n",
            "174/174 [==============================] - 1s 3ms/step - loss: 4.9868 - accuracy: 0.0016 - val_loss: 5.3130 - val_accuracy: 0.0015\n",
            "Epoch 44/400\n",
            "174/174 [==============================] - 1s 3ms/step - loss: 4.9841 - accuracy: 0.0016 - val_loss: 5.3197 - val_accuracy: 0.0015\n",
            "Epoch 00044: early stopping\n"
          ]
        }
      ],
      "source": [
        "model_nn.compile(optimizer='adam',loss='mse',metrics=['accuracy'])\n",
        "earlyStop=EarlyStopping(monitor=\"val_loss\",verbose=2,mode='min',patience=20)\n",
        "losses_nn_5 = model_nn.fit(X_train, y_train, validation_data=(X_val, y_val), batch_size=256, epochs=400, callbacks=[earlyStop])"
      ]
    },
    {
      "cell_type": "markdown",
      "metadata": {
        "id": "dYxHGmfH-LqO"
      },
      "source": [
        "#### r2 values"
      ]
    },
    {
      "cell_type": "code",
      "execution_count": null,
      "metadata": {
        "id": "RyWQohqB9yrv"
      },
      "outputs": [],
      "source": [
        "y_pred_nn_5 = model_nn.predict(X_test)\n",
        "score_r2 = r2_score(y_test, y_pred_nn_5)"
      ]
    },
    {
      "cell_type": "code",
      "execution_count": null,
      "metadata": {
        "id": "pNoUxBwYAgJ3"
      },
      "outputs": [],
      "source": [
        "compa_k_r2.append(score_r2)"
      ]
    },
    {
      "cell_type": "code",
      "execution_count": null,
      "metadata": {
        "colab": {
          "base_uri": "https://localhost:8080/"
        },
        "id": "zqQnkhTJAhkn",
        "outputId": "d9081e79-e52b-446a-ee87-a74604449e21"
      },
      "outputs": [
        {
          "name": "stdout",
          "output_type": "stream",
          "text": [
            "r2: 0.623879\n"
          ]
        }
      ],
      "source": [
        "print('r2: %f'%score_r2)"
      ]
    },
    {
      "cell_type": "markdown",
      "metadata": {
        "id": "18XjN-jiPfyn"
      },
      "source": [
        "## LSTM"
      ]
    },
    {
      "cell_type": "markdown",
      "metadata": {
        "id": "eDreD4iEoJAV"
      },
      "source": [
        "### Model structure"
      ]
    },
    {
      "cell_type": "code",
      "execution_count": null,
      "metadata": {
        "colab": {
          "base_uri": "https://localhost:8080/"
        },
        "id": "26p9e26PWzxd",
        "outputId": "1714cad9-ea96-4c63-c8bb-e0332d280eee"
      },
      "outputs": [
        {
          "name": "stdout",
          "output_type": "stream",
          "text": [
            "Model: \"sequential\"\n",
            "_________________________________________________________________\n",
            "Layer (type)                 Output Shape              Param #   \n",
            "=================================================================\n",
            "lstm (LSTM)                  (None, 1, 128)            71680     \n",
            "_________________________________________________________________\n",
            "dropout (Dropout)            (None, 1, 128)            0         \n",
            "_________________________________________________________________\n",
            "lstm_1 (LSTM)                (None, 1, 64)             49408     \n",
            "_________________________________________________________________\n",
            "dropout_1 (Dropout)          (None, 1, 64)             0         \n",
            "_________________________________________________________________\n",
            "lstm_2 (LSTM)                (None, 1, 32)             12416     \n",
            "_________________________________________________________________\n",
            "dropout_2 (Dropout)          (None, 1, 32)             0         \n",
            "_________________________________________________________________\n",
            "lstm_3 (LSTM)                (None, 16)                3136      \n",
            "_________________________________________________________________\n",
            "dropout_3 (Dropout)          (None, 16)                0         \n",
            "_________________________________________________________________\n",
            "dense (Dense)                (None, 1)                 17        \n",
            "=================================================================\n",
            "Total params: 136,657\n",
            "Trainable params: 136,657\n",
            "Non-trainable params: 0\n",
            "_________________________________________________________________\n"
          ]
        }
      ],
      "source": [
        "K.clear_session()\n",
        "model_1 = Sequential()\n",
        "\n",
        "model_1.add(LSTM(128, input_shape=(1, X_train.shape[1]), activation='relu', return_sequences=True))\n",
        "model_1.add(Dropout(0.3))\n",
        "\n",
        "model_1.add(LSTM(64, activation='tanh', return_sequences=True))\n",
        "model_1.add(Dropout(0.3))\n",
        "\n",
        "model_1.add(LSTM(32, activation='relu', return_sequences=True))\n",
        "model_1.add(Dropout(0.3))\n",
        "\n",
        "model_1.add(LSTM(16, activation='relu'))\n",
        "model_1.add(Dropout(0.3))\n",
        "\n",
        "model_1.add(Dense(1))\n",
        "model_1.summary()"
      ]
    },
    {
      "cell_type": "markdown",
      "metadata": {
        "id": "lQr9Scn2C8H-"
      },
      "source": [
        "### MSE"
      ]
    },
    {
      "cell_type": "code",
      "execution_count": null,
      "metadata": {
        "colab": {
          "base_uri": "https://localhost:8080/"
        },
        "id": "D-15yqRDW4Yg",
        "outputId": "46fb2a51-66a4-45ef-a166-dbb53542a03c"
      },
      "outputs": [
        {
          "name": "stdout",
          "output_type": "stream",
          "text": [
            "Epoch 1/400\n",
            "174/174 [==============================] - 36s 63ms/step - loss: 22.1984 - val_loss: 8.6347\n",
            "Epoch 2/400\n",
            "174/174 [==============================] - 5s 30ms/step - loss: 10.4078 - val_loss: 7.4033\n",
            "Epoch 3/400\n",
            "174/174 [==============================] - 5s 30ms/step - loss: 9.4257 - val_loss: 7.1710\n",
            "Epoch 4/400\n",
            "174/174 [==============================] - 5s 30ms/step - loss: 9.1423 - val_loss: 7.1389\n",
            "Epoch 5/400\n",
            "174/174 [==============================] - 5s 31ms/step - loss: 8.9287 - val_loss: 6.9016\n",
            "Epoch 6/400\n",
            "174/174 [==============================] - 5s 30ms/step - loss: 8.7269 - val_loss: 6.8552\n",
            "Epoch 7/400\n",
            "174/174 [==============================] - 5s 31ms/step - loss: 8.6496 - val_loss: 6.8074\n",
            "Epoch 8/400\n",
            "174/174 [==============================] - 5s 30ms/step - loss: 8.5247 - val_loss: 6.8444\n",
            "Epoch 9/400\n",
            "174/174 [==============================] - 5s 30ms/step - loss: 8.3773 - val_loss: 6.8299\n",
            "Epoch 10/400\n",
            "174/174 [==============================] - 5s 31ms/step - loss: 8.3264 - val_loss: 6.7120\n",
            "Epoch 11/400\n",
            "174/174 [==============================] - 5s 30ms/step - loss: 8.2817 - val_loss: 6.7495\n",
            "Epoch 12/400\n",
            "174/174 [==============================] - 5s 30ms/step - loss: 8.0954 - val_loss: 6.5138\n",
            "Epoch 13/400\n",
            "174/174 [==============================] - 7s 42ms/step - loss: 7.9214 - val_loss: 6.4587\n",
            "Epoch 14/400\n",
            "174/174 [==============================] - 6s 36ms/step - loss: 7.7852 - val_loss: 6.3719\n",
            "Epoch 15/400\n",
            "174/174 [==============================] - 5s 30ms/step - loss: 7.7640 - val_loss: 6.2417\n",
            "Epoch 16/400\n",
            "174/174 [==============================] - 5s 30ms/step - loss: 7.6494 - val_loss: 6.2488\n",
            "Epoch 17/400\n",
            "174/174 [==============================] - 5s 30ms/step - loss: 7.5993 - val_loss: 6.2427\n",
            "Epoch 18/400\n",
            "174/174 [==============================] - 6s 34ms/step - loss: 7.5484 - val_loss: 6.5100\n",
            "Epoch 19/400\n",
            "174/174 [==============================] - 5s 30ms/step - loss: 7.4287 - val_loss: 6.1756\n",
            "Epoch 20/400\n",
            "174/174 [==============================] - 5s 30ms/step - loss: 7.3826 - val_loss: 6.1161\n",
            "Epoch 21/400\n",
            "174/174 [==============================] - 5s 30ms/step - loss: 7.2659 - val_loss: 6.1953\n",
            "Epoch 22/400\n",
            "174/174 [==============================] - 6s 33ms/step - loss: 7.2330 - val_loss: 6.0853\n",
            "Epoch 23/400\n",
            "174/174 [==============================] - 5s 31ms/step - loss: 7.1491 - val_loss: 6.0474\n",
            "Epoch 24/400\n",
            "174/174 [==============================] - 5s 31ms/step - loss: 7.1510 - val_loss: 6.0326\n",
            "Epoch 25/400\n",
            "174/174 [==============================] - 5s 31ms/step - loss: 7.1253 - val_loss: 6.0155\n",
            "Epoch 26/400\n",
            "174/174 [==============================] - 5s 31ms/step - loss: 7.0376 - val_loss: 5.9762\n",
            "Epoch 27/400\n",
            "174/174 [==============================] - 5s 31ms/step - loss: 6.9365 - val_loss: 6.0160\n",
            "Epoch 28/400\n",
            "174/174 [==============================] - 5s 30ms/step - loss: 6.9642 - val_loss: 5.9941\n",
            "Epoch 29/400\n",
            "174/174 [==============================] - 5s 30ms/step - loss: 6.9512 - val_loss: 6.0443\n",
            "Epoch 30/400\n",
            "174/174 [==============================] - 5s 30ms/step - loss: 6.9285 - val_loss: 5.9203\n",
            "Epoch 31/400\n",
            "174/174 [==============================] - 5s 30ms/step - loss: 6.8782 - val_loss: 6.0549\n",
            "Epoch 32/400\n",
            "174/174 [==============================] - 5s 30ms/step - loss: 6.8520 - val_loss: 6.1478\n",
            "Epoch 33/400\n",
            "174/174 [==============================] - 5s 31ms/step - loss: 6.8382 - val_loss: 5.9586\n",
            "Epoch 34/400\n",
            "174/174 [==============================] - 5s 30ms/step - loss: 6.8477 - val_loss: 5.9294\n",
            "Epoch 35/400\n",
            "174/174 [==============================] - 5s 30ms/step - loss: 6.7203 - val_loss: 5.9230\n",
            "Epoch 36/400\n",
            "174/174 [==============================] - 5s 30ms/step - loss: 6.7213 - val_loss: 5.8749\n",
            "Epoch 37/400\n",
            "174/174 [==============================] - 5s 30ms/step - loss: 6.6646 - val_loss: 5.8879\n",
            "Epoch 38/400\n",
            "174/174 [==============================] - 5s 31ms/step - loss: 6.6672 - val_loss: 5.9240\n",
            "Epoch 39/400\n",
            "174/174 [==============================] - 5s 31ms/step - loss: 6.6719 - val_loss: 5.9493\n",
            "Epoch 40/400\n",
            "174/174 [==============================] - 5s 30ms/step - loss: 6.6507 - val_loss: 5.9256\n",
            "Epoch 41/400\n",
            "174/174 [==============================] - 5s 31ms/step - loss: 6.6262 - val_loss: 5.9692\n",
            "Epoch 42/400\n",
            "174/174 [==============================] - 5s 31ms/step - loss: 6.5804 - val_loss: 5.8889\n",
            "Epoch 43/400\n",
            "174/174 [==============================] - 5s 30ms/step - loss: 6.6395 - val_loss: 5.9033\n",
            "Epoch 44/400\n",
            "174/174 [==============================] - 5s 30ms/step - loss: 6.5637 - val_loss: 5.8529\n",
            "Epoch 45/400\n",
            "174/174 [==============================] - 5s 30ms/step - loss: 6.5824 - val_loss: 5.8614\n",
            "Epoch 46/400\n",
            "174/174 [==============================] - 5s 30ms/step - loss: 6.5804 - val_loss: 5.9635\n",
            "Epoch 47/400\n",
            "174/174 [==============================] - 5s 31ms/step - loss: 6.5387 - val_loss: 5.8595\n",
            "Epoch 48/400\n",
            "174/174 [==============================] - 5s 30ms/step - loss: 6.5128 - val_loss: 5.9599\n",
            "Epoch 49/400\n",
            "174/174 [==============================] - 5s 31ms/step - loss: 6.4719 - val_loss: 5.8899\n",
            "Epoch 50/400\n",
            "174/174 [==============================] - 5s 30ms/step - loss: 6.5144 - val_loss: 5.8907\n",
            "Epoch 51/400\n",
            "174/174 [==============================] - 5s 30ms/step - loss: 6.5371 - val_loss: 5.8747\n",
            "Epoch 52/400\n",
            "174/174 [==============================] - 5s 31ms/step - loss: 6.4919 - val_loss: 5.8522\n",
            "Epoch 53/400\n",
            "174/174 [==============================] - 5s 31ms/step - loss: 6.5152 - val_loss: 5.8715\n",
            "Epoch 54/400\n",
            "174/174 [==============================] - 5s 31ms/step - loss: 6.4813 - val_loss: 5.8374\n",
            "Epoch 55/400\n",
            "174/174 [==============================] - 5s 31ms/step - loss: 6.4103 - val_loss: 5.8616\n",
            "Epoch 56/400\n",
            "174/174 [==============================] - 5s 31ms/step - loss: 6.4066 - val_loss: 5.9003\n",
            "Epoch 57/400\n",
            "174/174 [==============================] - 5s 31ms/step - loss: 6.4353 - val_loss: 5.9035\n",
            "Epoch 58/400\n",
            "174/174 [==============================] - 5s 30ms/step - loss: 6.4402 - val_loss: 5.8289\n",
            "Epoch 59/400\n",
            "174/174 [==============================] - 5s 31ms/step - loss: 6.3810 - val_loss: 5.8020\n",
            "Epoch 60/400\n",
            "174/174 [==============================] - 5s 31ms/step - loss: 6.4330 - val_loss: 5.8168\n",
            "Epoch 61/400\n",
            "174/174 [==============================] - 5s 30ms/step - loss: 6.4062 - val_loss: 5.9851\n",
            "Epoch 62/400\n",
            "174/174 [==============================] - 5s 30ms/step - loss: 6.4230 - val_loss: 5.8992\n",
            "Epoch 63/400\n",
            "174/174 [==============================] - 5s 30ms/step - loss: 6.3692 - val_loss: 5.7985\n",
            "Epoch 64/400\n",
            "174/174 [==============================] - 5s 30ms/step - loss: 6.3690 - val_loss: 5.8678\n",
            "Epoch 65/400\n",
            "174/174 [==============================] - 5s 31ms/step - loss: 6.3531 - val_loss: 5.8986\n",
            "Epoch 66/400\n",
            "174/174 [==============================] - 5s 31ms/step - loss: 6.3673 - val_loss: 5.8182\n",
            "Epoch 67/400\n",
            "174/174 [==============================] - 5s 31ms/step - loss: 6.3241 - val_loss: 5.7312\n",
            "Epoch 68/400\n",
            "174/174 [==============================] - 5s 31ms/step - loss: 6.3709 - val_loss: 5.8327\n",
            "Epoch 69/400\n",
            "174/174 [==============================] - 5s 31ms/step - loss: 6.2911 - val_loss: 5.8381\n",
            "Epoch 70/400\n",
            "174/174 [==============================] - 5s 31ms/step - loss: 6.3111 - val_loss: 5.7985\n",
            "Epoch 71/400\n",
            "174/174 [==============================] - 5s 31ms/step - loss: 6.3044 - val_loss: 5.7765\n",
            "Epoch 72/400\n",
            "174/174 [==============================] - 5s 31ms/step - loss: 6.2887 - val_loss: 5.7731\n",
            "Epoch 73/400\n",
            "174/174 [==============================] - 5s 31ms/step - loss: 6.2885 - val_loss: 5.7407\n",
            "Epoch 74/400\n",
            "174/174 [==============================] - 5s 31ms/step - loss: 6.2467 - val_loss: 5.7832\n",
            "Epoch 75/400\n",
            "174/174 [==============================] - 5s 31ms/step - loss: 6.2871 - val_loss: 5.6872\n",
            "Epoch 76/400\n",
            "174/174 [==============================] - 5s 31ms/step - loss: 6.3210 - val_loss: 5.8032\n",
            "Epoch 77/400\n",
            "174/174 [==============================] - 5s 30ms/step - loss: 6.3017 - val_loss: 5.7824\n",
            "Epoch 78/400\n",
            "174/174 [==============================] - 5s 30ms/step - loss: 6.2552 - val_loss: 5.7649\n",
            "Epoch 79/400\n",
            "174/174 [==============================] - 5s 31ms/step - loss: 6.2160 - val_loss: 5.9499\n",
            "Epoch 80/400\n",
            "174/174 [==============================] - 5s 31ms/step - loss: 6.2444 - val_loss: 5.8562\n",
            "Epoch 81/400\n",
            "174/174 [==============================] - 5s 30ms/step - loss: 6.2653 - val_loss: 5.8043\n",
            "Epoch 82/400\n",
            "174/174 [==============================] - 5s 31ms/step - loss: 6.2327 - val_loss: 5.7985\n",
            "Epoch 83/400\n",
            "174/174 [==============================] - 5s 31ms/step - loss: 6.2409 - val_loss: 5.7673\n",
            "Epoch 84/400\n",
            "174/174 [==============================] - 5s 31ms/step - loss: 6.2210 - val_loss: 5.7238\n",
            "Epoch 85/400\n",
            "174/174 [==============================] - 5s 31ms/step - loss: 6.2031 - val_loss: 5.6817\n",
            "Epoch 86/400\n",
            "174/174 [==============================] - 5s 30ms/step - loss: 6.1662 - val_loss: 5.6716\n",
            "Epoch 87/400\n",
            "174/174 [==============================] - 5s 30ms/step - loss: 6.2074 - val_loss: 5.7198\n",
            "Epoch 88/400\n",
            "174/174 [==============================] - 5s 30ms/step - loss: 6.2368 - val_loss: 5.6825\n",
            "Epoch 89/400\n",
            "174/174 [==============================] - 5s 31ms/step - loss: 6.1954 - val_loss: 5.6554\n",
            "Epoch 90/400\n",
            "174/174 [==============================] - 5s 31ms/step - loss: 6.1627 - val_loss: 5.7141\n",
            "Epoch 91/400\n",
            "174/174 [==============================] - 5s 30ms/step - loss: 6.2002 - val_loss: 5.7522\n",
            "Epoch 92/400\n",
            "174/174 [==============================] - 5s 31ms/step - loss: 6.1717 - val_loss: 5.6967\n",
            "Epoch 93/400\n",
            "174/174 [==============================] - 5s 31ms/step - loss: 6.1947 - val_loss: 5.7402\n",
            "Epoch 94/400\n",
            "174/174 [==============================] - 7s 41ms/step - loss: 6.2332 - val_loss: 5.7053\n",
            "Epoch 95/400\n",
            "174/174 [==============================] - 5s 30ms/step - loss: 6.1675 - val_loss: 5.6572\n",
            "Epoch 96/400\n",
            "174/174 [==============================] - 5s 30ms/step - loss: 6.1226 - val_loss: 5.6729\n",
            "Epoch 97/400\n",
            "174/174 [==============================] - 5s 31ms/step - loss: 6.1551 - val_loss: 5.7062\n",
            "Epoch 98/400\n",
            "174/174 [==============================] - 5s 30ms/step - loss: 6.1359 - val_loss: 5.6635\n",
            "Epoch 99/400\n",
            "174/174 [==============================] - 5s 30ms/step - loss: 6.1268 - val_loss: 5.6400\n",
            "Epoch 100/400\n",
            "174/174 [==============================] - 5s 31ms/step - loss: 6.1049 - val_loss: 5.7136\n",
            "Epoch 101/400\n",
            "174/174 [==============================] - 5s 31ms/step - loss: 6.1027 - val_loss: 5.8004\n",
            "Epoch 102/400\n",
            "174/174 [==============================] - 5s 30ms/step - loss: 6.1070 - val_loss: 5.6029\n",
            "Epoch 103/400\n",
            "174/174 [==============================] - 5s 31ms/step - loss: 6.1268 - val_loss: 5.6520\n",
            "Epoch 104/400\n",
            "174/174 [==============================] - 5s 31ms/step - loss: 6.1381 - val_loss: 5.7084\n",
            "Epoch 105/400\n",
            "174/174 [==============================] - 5s 31ms/step - loss: 6.0889 - val_loss: 5.6641\n",
            "Epoch 106/400\n",
            "174/174 [==============================] - 5s 30ms/step - loss: 6.0699 - val_loss: 5.6158\n",
            "Epoch 107/400\n",
            "174/174 [==============================] - 5s 31ms/step - loss: 6.0756 - val_loss: 5.7110\n",
            "Epoch 108/400\n",
            "174/174 [==============================] - 5s 30ms/step - loss: 6.1221 - val_loss: 5.6472\n",
            "Epoch 109/400\n",
            "174/174 [==============================] - 5s 31ms/step - loss: 6.0578 - val_loss: 5.6113\n",
            "Epoch 110/400\n",
            "174/174 [==============================] - 5s 30ms/step - loss: 6.0885 - val_loss: 5.5787\n",
            "Epoch 111/400\n",
            "174/174 [==============================] - 6s 32ms/step - loss: 6.0250 - val_loss: 5.6139\n",
            "Epoch 112/400\n",
            "174/174 [==============================] - 5s 31ms/step - loss: 6.0189 - val_loss: 5.6376\n",
            "Epoch 113/400\n",
            "174/174 [==============================] - 14s 83ms/step - loss: 6.0453 - val_loss: 5.6191\n",
            "Epoch 114/400\n",
            "174/174 [==============================] - 7s 38ms/step - loss: 5.9991 - val_loss: 5.5965\n",
            "Epoch 115/400\n",
            "174/174 [==============================] - 5s 30ms/step - loss: 6.0963 - val_loss: 5.7131\n",
            "Epoch 116/400\n",
            "174/174 [==============================] - 5s 31ms/step - loss: 6.0235 - val_loss: 5.5589\n",
            "Epoch 117/400\n",
            "174/174 [==============================] - 5s 31ms/step - loss: 6.0142 - val_loss: 5.5545\n",
            "Epoch 118/400\n",
            "174/174 [==============================] - 5s 30ms/step - loss: 6.0485 - val_loss: 5.5907\n",
            "Epoch 119/400\n",
            "174/174 [==============================] - 5s 30ms/step - loss: 6.0534 - val_loss: 5.5513\n",
            "Epoch 120/400\n",
            "174/174 [==============================] - 5s 31ms/step - loss: 6.0285 - val_loss: 5.5926\n",
            "Epoch 121/400\n",
            "174/174 [==============================] - 5s 30ms/step - loss: 6.0090 - val_loss: 5.5902\n",
            "Epoch 122/400\n",
            "174/174 [==============================] - 5s 31ms/step - loss: 6.0562 - val_loss: 5.5444\n",
            "Epoch 123/400\n",
            "174/174 [==============================] - 5s 31ms/step - loss: 6.0353 - val_loss: 5.6080\n",
            "Epoch 124/400\n",
            "174/174 [==============================] - 5s 31ms/step - loss: 6.0014 - val_loss: 5.5563\n",
            "Epoch 125/400\n",
            "174/174 [==============================] - 5s 31ms/step - loss: 6.0381 - val_loss: 5.5942\n",
            "Epoch 126/400\n",
            "174/174 [==============================] - 6s 32ms/step - loss: 6.0066 - val_loss: 5.5988\n",
            "Epoch 127/400\n",
            "174/174 [==============================] - 5s 30ms/step - loss: 5.9990 - val_loss: 5.5500\n",
            "Epoch 128/400\n",
            "174/174 [==============================] - 5s 31ms/step - loss: 6.0243 - val_loss: 5.5887\n",
            "Epoch 129/400\n",
            "174/174 [==============================] - 8s 43ms/step - loss: 5.9813 - val_loss: 5.5695\n",
            "Epoch 130/400\n",
            "174/174 [==============================] - 5s 30ms/step - loss: 5.9482 - val_loss: 5.5840\n",
            "Epoch 131/400\n",
            "174/174 [==============================] - 5s 30ms/step - loss: 5.9782 - val_loss: 5.6564\n",
            "Epoch 132/400\n",
            "174/174 [==============================] - 5s 31ms/step - loss: 6.0187 - val_loss: 5.4999\n",
            "Epoch 133/400\n",
            "174/174 [==============================] - 5s 30ms/step - loss: 6.0171 - val_loss: 5.5619\n",
            "Epoch 134/400\n",
            "174/174 [==============================] - 5s 31ms/step - loss: 5.9055 - val_loss: 5.5375\n",
            "Epoch 135/400\n",
            "174/174 [==============================] - 5s 31ms/step - loss: 5.9658 - val_loss: 5.5344\n",
            "Epoch 136/400\n",
            "174/174 [==============================] - 6s 34ms/step - loss: 5.9792 - val_loss: 5.5216\n",
            "Epoch 137/400\n",
            "174/174 [==============================] - 6s 32ms/step - loss: 6.0313 - val_loss: 5.6043\n",
            "Epoch 138/400\n",
            "174/174 [==============================] - 6s 32ms/step - loss: 5.9795 - val_loss: 5.5322\n",
            "Epoch 139/400\n",
            "174/174 [==============================] - 6s 33ms/step - loss: 5.9846 - val_loss: 5.5157\n",
            "Epoch 140/400\n",
            "174/174 [==============================] - 6s 34ms/step - loss: 5.9211 - val_loss: 5.5538\n",
            "Epoch 141/400\n",
            "174/174 [==============================] - 6s 32ms/step - loss: 5.9409 - val_loss: 5.5103\n",
            "Epoch 142/400\n",
            "174/174 [==============================] - 5s 31ms/step - loss: 5.9734 - val_loss: 5.5380\n",
            "Epoch 143/400\n",
            "174/174 [==============================] - 5s 31ms/step - loss: 5.9530 - val_loss: 5.5007\n",
            "Epoch 144/400\n",
            "174/174 [==============================] - 5s 31ms/step - loss: 5.9365 - val_loss: 5.5799\n",
            "Epoch 145/400\n",
            "174/174 [==============================] - 5s 31ms/step - loss: 5.9331 - val_loss: 5.4831\n",
            "Epoch 146/400\n",
            "174/174 [==============================] - 5s 31ms/step - loss: 5.9689 - val_loss: 5.4970\n",
            "Epoch 147/400\n",
            "174/174 [==============================] - 5s 31ms/step - loss: 5.9259 - val_loss: 5.5588\n",
            "Epoch 148/400\n",
            "174/174 [==============================] - 5s 30ms/step - loss: 5.9507 - val_loss: 5.5868\n",
            "Epoch 149/400\n",
            "174/174 [==============================] - 5s 30ms/step - loss: 5.9023 - val_loss: 5.4679\n",
            "Epoch 150/400\n",
            "174/174 [==============================] - 5s 30ms/step - loss: 5.8836 - val_loss: 5.5122\n",
            "Epoch 151/400\n",
            "174/174 [==============================] - 5s 31ms/step - loss: 5.9092 - val_loss: 5.5080\n",
            "Epoch 152/400\n",
            "174/174 [==============================] - 5s 31ms/step - loss: 5.9075 - val_loss: 5.4855\n",
            "Epoch 153/400\n",
            "174/174 [==============================] - 5s 31ms/step - loss: 5.9085 - val_loss: 5.4466\n",
            "Epoch 154/400\n",
            "174/174 [==============================] - 5s 31ms/step - loss: 5.8597 - val_loss: 5.4382\n",
            "Epoch 155/400\n",
            "174/174 [==============================] - 5s 31ms/step - loss: 5.9300 - val_loss: 5.4505\n",
            "Epoch 156/400\n",
            "174/174 [==============================] - 5s 31ms/step - loss: 5.9307 - val_loss: 5.4409\n",
            "Epoch 157/400\n",
            "174/174 [==============================] - 5s 31ms/step - loss: 5.9228 - val_loss: 5.4393\n",
            "Epoch 158/400\n",
            "174/174 [==============================] - 5s 31ms/step - loss: 5.9172 - val_loss: 5.5391\n",
            "Epoch 159/400\n",
            "174/174 [==============================] - 5s 30ms/step - loss: 5.9060 - val_loss: 5.4497\n",
            "Epoch 160/400\n",
            "174/174 [==============================] - 5s 31ms/step - loss: 5.8541 - val_loss: 5.4848\n",
            "Epoch 161/400\n",
            "174/174 [==============================] - 6s 32ms/step - loss: 5.8494 - val_loss: 5.4545\n",
            "Epoch 162/400\n",
            "174/174 [==============================] - 5s 30ms/step - loss: 5.9363 - val_loss: 5.5097\n",
            "Epoch 163/400\n",
            "174/174 [==============================] - 5s 30ms/step - loss: 5.8479 - val_loss: 5.4624\n",
            "Epoch 164/400\n",
            "174/174 [==============================] - 5s 31ms/step - loss: 5.8410 - val_loss: 5.4366\n",
            "Epoch 165/400\n",
            "174/174 [==============================] - 5s 31ms/step - loss: 5.9084 - val_loss: 5.4671\n",
            "Epoch 166/400\n",
            "174/174 [==============================] - 5s 31ms/step - loss: 5.8430 - val_loss: 5.4027\n",
            "Epoch 167/400\n",
            "174/174 [==============================] - 5s 30ms/step - loss: 5.8840 - val_loss: 5.4302\n",
            "Epoch 168/400\n",
            "174/174 [==============================] - 5s 31ms/step - loss: 5.8716 - val_loss: 5.4241\n",
            "Epoch 169/400\n",
            "174/174 [==============================] - 5s 30ms/step - loss: 5.8917 - val_loss: 5.4074\n",
            "Epoch 170/400\n",
            "174/174 [==============================] - 5s 31ms/step - loss: 5.8859 - val_loss: 5.4332\n",
            "Epoch 171/400\n",
            "174/174 [==============================] - 5s 31ms/step - loss: 5.8784 - val_loss: 5.4406\n",
            "Epoch 172/400\n",
            "174/174 [==============================] - 5s 31ms/step - loss: 5.8331 - val_loss: 5.4513\n",
            "Epoch 173/400\n",
            "174/174 [==============================] - 5s 31ms/step - loss: 5.8568 - val_loss: 5.4253\n",
            "Epoch 174/400\n",
            "174/174 [==============================] - 5s 31ms/step - loss: 5.8574 - val_loss: 5.4582\n",
            "Epoch 175/400\n",
            "174/174 [==============================] - 5s 31ms/step - loss: 5.8438 - val_loss: 5.4562\n",
            "Epoch 176/400\n",
            "174/174 [==============================] - 5s 31ms/step - loss: 5.7847 - val_loss: 5.4265\n",
            "Epoch 177/400\n",
            "174/174 [==============================] - 5s 31ms/step - loss: 5.8461 - val_loss: 5.4318\n",
            "Epoch 178/400\n",
            "174/174 [==============================] - 5s 31ms/step - loss: 5.8536 - val_loss: 5.4346\n",
            "Epoch 179/400\n",
            "174/174 [==============================] - 5s 31ms/step - loss: 5.8486 - val_loss: 5.4373\n",
            "Epoch 180/400\n",
            "174/174 [==============================] - 5s 30ms/step - loss: 5.8105 - val_loss: 5.4080\n",
            "Epoch 181/400\n",
            "174/174 [==============================] - 5s 30ms/step - loss: 5.8791 - val_loss: 5.4986\n",
            "Epoch 182/400\n",
            "174/174 [==============================] - 5s 31ms/step - loss: 5.8152 - val_loss: 5.4329\n",
            "Epoch 183/400\n",
            "174/174 [==============================] - 5s 31ms/step - loss: 5.8078 - val_loss: 5.4450\n",
            "Epoch 184/400\n",
            "174/174 [==============================] - 5s 31ms/step - loss: 5.8695 - val_loss: 5.4778\n",
            "Epoch 185/400\n",
            "174/174 [==============================] - 6s 36ms/step - loss: 5.7662 - val_loss: 5.4158\n",
            "Epoch 186/400\n",
            "174/174 [==============================] - 7s 38ms/step - loss: 5.8023 - val_loss: 5.3996\n",
            "Epoch 187/400\n",
            "174/174 [==============================] - 5s 30ms/step - loss: 5.8143 - val_loss: 5.4417\n",
            "Epoch 188/400\n",
            "174/174 [==============================] - 5s 31ms/step - loss: 5.8346 - val_loss: 5.5068\n",
            "Epoch 189/400\n",
            "174/174 [==============================] - 5s 31ms/step - loss: 5.8058 - val_loss: 5.3684\n",
            "Epoch 190/400\n",
            "174/174 [==============================] - 6s 32ms/step - loss: 5.8163 - val_loss: 5.5148\n",
            "Epoch 191/400\n",
            "174/174 [==============================] - 6s 33ms/step - loss: 5.7633 - val_loss: 5.4174\n",
            "Epoch 192/400\n",
            "174/174 [==============================] - 6s 32ms/step - loss: 5.8069 - val_loss: 5.4136\n",
            "Epoch 193/400\n",
            "174/174 [==============================] - 5s 31ms/step - loss: 5.8445 - val_loss: 5.3760\n",
            "Epoch 194/400\n",
            "174/174 [==============================] - 5s 31ms/step - loss: 5.7658 - val_loss: 5.3794\n",
            "Epoch 195/400\n",
            "174/174 [==============================] - 6s 32ms/step - loss: 5.7803 - val_loss: 5.3674\n",
            "Epoch 196/400\n",
            "174/174 [==============================] - 5s 31ms/step - loss: 5.7781 - val_loss: 5.4067\n",
            "Epoch 197/400\n",
            "174/174 [==============================] - 5s 32ms/step - loss: 5.7587 - val_loss: 5.3895\n",
            "Epoch 198/400\n",
            "174/174 [==============================] - 5s 31ms/step - loss: 5.7595 - val_loss: 5.3870\n",
            "Epoch 199/400\n",
            "174/174 [==============================] - 5s 31ms/step - loss: 5.8245 - val_loss: 5.3919\n",
            "Epoch 200/400\n",
            "174/174 [==============================] - 5s 31ms/step - loss: 5.7381 - val_loss: 5.3831\n",
            "Epoch 201/400\n",
            "174/174 [==============================] - 5s 31ms/step - loss: 5.7834 - val_loss: 5.4163\n",
            "Epoch 202/400\n",
            "174/174 [==============================] - 5s 31ms/step - loss: 5.7757 - val_loss: 5.4193\n",
            "Epoch 203/400\n",
            "174/174 [==============================] - 5s 31ms/step - loss: 5.7734 - val_loss: 5.3318\n",
            "Epoch 204/400\n",
            "174/174 [==============================] - 5s 31ms/step - loss: 5.7804 - val_loss: 5.4422\n",
            "Epoch 205/400\n",
            "174/174 [==============================] - 5s 31ms/step - loss: 5.7650 - val_loss: 5.4042\n",
            "Epoch 206/400\n",
            "174/174 [==============================] - 5s 31ms/step - loss: 5.6980 - val_loss: 5.3700\n",
            "Epoch 207/400\n",
            "174/174 [==============================] - 6s 33ms/step - loss: 5.7468 - val_loss: 5.4111\n",
            "Epoch 208/400\n",
            "174/174 [==============================] - 5s 32ms/step - loss: 5.7861 - val_loss: 5.3971\n",
            "Epoch 209/400\n",
            "174/174 [==============================] - 5s 31ms/step - loss: 5.7232 - val_loss: 5.3843\n",
            "Epoch 210/400\n",
            "174/174 [==============================] - 5s 30ms/step - loss: 5.7442 - val_loss: 5.3588\n",
            "Epoch 211/400\n",
            "174/174 [==============================] - 5s 31ms/step - loss: 5.7178 - val_loss: 5.3800\n",
            "Epoch 212/400\n",
            "174/174 [==============================] - 5s 30ms/step - loss: 5.7065 - val_loss: 5.4066\n",
            "Epoch 213/400\n",
            "174/174 [==============================] - 5s 31ms/step - loss: 5.7682 - val_loss: 5.3669\n",
            "Epoch 214/400\n",
            "174/174 [==============================] - 5s 31ms/step - loss: 5.7256 - val_loss: 5.3628\n",
            "Epoch 215/400\n",
            "174/174 [==============================] - 5s 31ms/step - loss: 5.7689 - val_loss: 5.3385\n",
            "Epoch 216/400\n",
            "174/174 [==============================] - 5s 31ms/step - loss: 5.7148 - val_loss: 5.3688\n",
            "Epoch 217/400\n",
            "174/174 [==============================] - 5s 31ms/step - loss: 5.7649 - val_loss: 5.3925\n",
            "Epoch 218/400\n",
            "174/174 [==============================] - 5s 31ms/step - loss: 5.7295 - val_loss: 5.3654\n",
            "Epoch 219/400\n",
            "174/174 [==============================] - 5s 31ms/step - loss: 5.7501 - val_loss: 5.4050\n",
            "Epoch 220/400\n",
            "174/174 [==============================] - 5s 30ms/step - loss: 5.7424 - val_loss: 5.3271\n",
            "Epoch 221/400\n",
            "174/174 [==============================] - 5s 31ms/step - loss: 5.6908 - val_loss: 5.3529\n",
            "Epoch 222/400\n",
            "174/174 [==============================] - 5s 31ms/step - loss: 5.7259 - val_loss: 5.3696\n",
            "Epoch 223/400\n",
            "174/174 [==============================] - 5s 31ms/step - loss: 5.7758 - val_loss: 5.3399\n",
            "Epoch 224/400\n",
            "174/174 [==============================] - 5s 31ms/step - loss: 5.6890 - val_loss: 5.3899\n",
            "Epoch 225/400\n",
            "174/174 [==============================] - 5s 30ms/step - loss: 5.7191 - val_loss: 5.3593\n",
            "Epoch 226/400\n",
            "174/174 [==============================] - 5s 31ms/step - loss: 5.7306 - val_loss: 5.3482\n",
            "Epoch 227/400\n",
            "174/174 [==============================] - 5s 31ms/step - loss: 5.7022 - val_loss: 5.3417\n",
            "Epoch 228/400\n",
            "174/174 [==============================] - 5s 31ms/step - loss: 5.6995 - val_loss: 5.3692\n",
            "Epoch 229/400\n",
            "174/174 [==============================] - 5s 31ms/step - loss: 5.6882 - val_loss: 5.3283\n",
            "Epoch 230/400\n",
            "174/174 [==============================] - 5s 31ms/step - loss: 5.6813 - val_loss: 5.3433\n",
            "Epoch 231/400\n",
            "174/174 [==============================] - 5s 31ms/step - loss: 5.7124 - val_loss: 5.3569\n",
            "Epoch 232/400\n",
            "174/174 [==============================] - 5s 31ms/step - loss: 5.7019 - val_loss: 5.3330\n",
            "Epoch 233/400\n",
            "174/174 [==============================] - 5s 31ms/step - loss: 5.7127 - val_loss: 5.4294\n",
            "Epoch 234/400\n",
            "174/174 [==============================] - 5s 31ms/step - loss: 5.7355 - val_loss: 5.3428\n",
            "Epoch 235/400\n",
            "174/174 [==============================] - 5s 31ms/step - loss: 5.7013 - val_loss: 5.3528\n",
            "Epoch 236/400\n",
            "174/174 [==============================] - 5s 31ms/step - loss: 5.7012 - val_loss: 5.3717\n",
            "Epoch 237/400\n",
            "174/174 [==============================] - 5s 31ms/step - loss: 5.6845 - val_loss: 5.3134\n",
            "Epoch 238/400\n",
            "174/174 [==============================] - 5s 31ms/step - loss: 5.6711 - val_loss: 5.3155\n",
            "Epoch 239/400\n",
            "174/174 [==============================] - 5s 31ms/step - loss: 5.6895 - val_loss: 5.4376\n",
            "Epoch 240/400\n",
            "174/174 [==============================] - 5s 31ms/step - loss: 5.6934 - val_loss: 5.3304\n",
            "Epoch 241/400\n",
            "174/174 [==============================] - 5s 31ms/step - loss: 5.6604 - val_loss: 5.3719\n",
            "Epoch 242/400\n",
            "174/174 [==============================] - 5s 31ms/step - loss: 5.6517 - val_loss: 5.3401\n",
            "Epoch 243/400\n",
            "174/174 [==============================] - 5s 31ms/step - loss: 5.6966 - val_loss: 5.3001\n",
            "Epoch 244/400\n",
            "174/174 [==============================] - 5s 31ms/step - loss: 5.6793 - val_loss: 5.3506\n",
            "Epoch 245/400\n",
            "174/174 [==============================] - 5s 31ms/step - loss: 5.6604 - val_loss: 5.2913\n",
            "Epoch 246/400\n",
            "174/174 [==============================] - 6s 32ms/step - loss: 5.6607 - val_loss: 5.3223\n",
            "Epoch 247/400\n",
            "174/174 [==============================] - 5s 31ms/step - loss: 5.6806 - val_loss: 5.3114\n",
            "Epoch 248/400\n",
            "174/174 [==============================] - 5s 31ms/step - loss: 5.7284 - val_loss: 5.4050\n",
            "Epoch 249/400\n",
            "174/174 [==============================] - 5s 31ms/step - loss: 5.7125 - val_loss: 5.3791\n",
            "Epoch 250/400\n",
            "174/174 [==============================] - 5s 31ms/step - loss: 5.6745 - val_loss: 5.2834\n",
            "Epoch 251/400\n",
            "174/174 [==============================] - 5s 31ms/step - loss: 5.6548 - val_loss: 5.3161\n",
            "Epoch 252/400\n",
            "174/174 [==============================] - 5s 31ms/step - loss: 5.6752 - val_loss: 5.3491\n",
            "Epoch 253/400\n",
            "174/174 [==============================] - 5s 31ms/step - loss: 5.6713 - val_loss: 5.3307\n",
            "Epoch 254/400\n",
            "174/174 [==============================] - 5s 31ms/step - loss: 5.6024 - val_loss: 5.3384\n",
            "Epoch 255/400\n",
            "174/174 [==============================] - 5s 31ms/step - loss: 5.6241 - val_loss: 5.3391\n",
            "Epoch 256/400\n",
            "174/174 [==============================] - 5s 31ms/step - loss: 5.6756 - val_loss: 5.3504\n",
            "Epoch 257/400\n",
            "174/174 [==============================] - 5s 32ms/step - loss: 5.6438 - val_loss: 5.3456\n",
            "Epoch 258/400\n",
            "174/174 [==============================] - 5s 32ms/step - loss: 5.6235 - val_loss: 5.3253\n",
            "Epoch 259/400\n",
            "174/174 [==============================] - 5s 31ms/step - loss: 5.6319 - val_loss: 5.3037\n",
            "Epoch 260/400\n",
            "174/174 [==============================] - 5s 31ms/step - loss: 5.6592 - val_loss: 5.2863\n",
            "Epoch 261/400\n",
            "174/174 [==============================] - 5s 31ms/step - loss: 5.6653 - val_loss: 5.3076\n",
            "Epoch 262/400\n",
            "174/174 [==============================] - 5s 31ms/step - loss: 5.6406 - val_loss: 5.3325\n",
            "Epoch 263/400\n",
            "174/174 [==============================] - 5s 31ms/step - loss: 5.6011 - val_loss: 5.2854\n",
            "Epoch 264/400\n",
            "174/174 [==============================] - 5s 30ms/step - loss: 5.6446 - val_loss: 5.3372\n",
            "Epoch 265/400\n",
            "174/174 [==============================] - 5s 31ms/step - loss: 5.6136 - val_loss: 5.2960\n",
            "Epoch 266/400\n",
            "174/174 [==============================] - 5s 31ms/step - loss: 5.6878 - val_loss: 5.3882\n",
            "Epoch 267/400\n",
            "174/174 [==============================] - 5s 31ms/step - loss: 5.6603 - val_loss: 5.3370\n",
            "Epoch 268/400\n",
            "174/174 [==============================] - 5s 31ms/step - loss: 5.6409 - val_loss: 5.3156\n",
            "Epoch 269/400\n",
            "174/174 [==============================] - 5s 31ms/step - loss: 5.6287 - val_loss: 5.3485\n",
            "Epoch 270/400\n",
            "174/174 [==============================] - 5s 31ms/step - loss: 5.5759 - val_loss: 5.3319\n",
            "Epoch 00270: early stopping\n"
          ]
        }
      ],
      "source": [
        "model_1.compile(loss='mean_squared_error', optimizer='adam')\n",
        "# Training sẽ dừng khi \"val_loss\" không giảm (mode='min') sau 10 epochs(patience=10)\n",
        "earlyStop=EarlyStopping(monitor=\"val_loss\",verbose=2,mode='min',patience=20)\n",
        "losses = model_1.fit(X_tr_t, y_train, validation_data=(X_vl_t, y_val), batch_size=256, epochs=400, callbacks=[earlyStop])\n",
        "# losses = model_1.fit(X_tr_t, y_train, validation_data=(X_vl_t, y_val), batch_size=256, epochs=1)"
      ]
    },
    {
      "cell_type": "markdown",
      "metadata": {
        "id": "jEiG1PidoPvE"
      },
      "source": [
        "#### Loss graph"
      ]
    },
    {
      "cell_type": "code",
      "execution_count": null,
      "metadata": {
        "colab": {
          "base_uri": "https://localhost:8080/",
          "height": 282
        },
        "id": "q-dFFRbljyYU",
        "outputId": "11a5ea7b-7be9-405f-bcd4-f8b553ec0dcc"
      },
      "outputs": [
        {
          "data": {
            "text/plain": [
              "<matplotlib.axes._subplots.AxesSubplot at 0x7ff30fba3d50>"
            ]
          },
          "execution_count": 13,
          "metadata": {},
          "output_type": "execute_result"
        },
        {
          "data": {
            "image/png": "[encoded data removed]",
            "text/plain": [
              "<Figure size 432x288 with 1 Axes>"
            ]
          },
          "metadata": {
            "needs_background": "light"
          },
          "output_type": "display_data"
        }
      ],
      "source": [
        "loss_df = pd.DataFrame(losses.history)\n",
        "loss_df.loc[:,['loss','val_loss']].plot(color = ['darkorange','midnightblue'])"
      ]
    },
    {
      "cell_type": "markdown",
      "metadata": {
        "id": "2b11X0W9oZgk"
      },
      "source": [
        "#### Loss values"
      ]
    },
    {
      "cell_type": "code",
      "execution_count": null,
      "metadata": {
        "colab": {
          "base_uri": "https://localhost:8080/"
        },
        "id": "P4h1nliCj4Aj",
        "outputId": "d753737c-2c06-4421-d999-4d721d60fa0d"
      },
      "outputs": [
        {
          "name": "stdout",
          "output_type": "stream",
          "text": [
            "19797/19797 [==============================] - 66s 3ms/step - loss: 5.1465\n"
          ]
        }
      ],
      "source": [
        "score_mse = model_1.evaluate(X_tst_t, y_test, batch_size=1)\n",
        "y_pred_1 = model_1.predict(X_tst_t)"
      ]
    },
    {
      "cell_type": "code",
      "execution_count": null,
      "metadata": {
        "id": "9vpFQOcCrjTp"
      },
      "outputs": [],
      "source": [
        "compa_k_mse.append(score_mse)"
      ]
    },
    {
      "cell_type": "code",
      "execution_count": null,
      "metadata": {
        "colab": {
          "base_uri": "https://localhost:8080/"
        },
        "id": "OE3TZ4m4K3XN",
        "outputId": "d8000a37-7d2e-4bdb-c056-d25b9583a72a"
      },
      "outputs": [
        {
          "name": "stdout",
          "output_type": "stream",
          "text": [
            "mse: 5.146486\n"
          ]
        }
      ],
      "source": [
        "print('mse: %f'%score_mse)"
      ]
    },
    {
      "cell_type": "code",
      "execution_count": null,
      "metadata": {
        "colab": {
          "base_uri": "https://localhost:8080/"
        },
        "id": "EOXnLCC6K0l1",
        "outputId": "afa3a7d1-6226-4b8f-ad30-841b5809fb04"
      },
      "outputs": [
        {
          "name": "stdout",
          "output_type": "stream",
          "text": [
            "predicted response:\n",
            "[[6.47748375e+09]\n",
            " [3.58297014e+09]\n",
            " [4.31899881e+09]\n",
            " [2.54882693e+09]\n",
            " [3.19991922e+09]\n",
            " [5.99823380e+09]\n",
            " [3.05082631e+09]\n",
            " [4.33853054e+09]\n",
            " [6.88648987e+09]\n",
            " [5.26443815e+09]]\n",
            "actual:\n",
            "67254    7.800000e+09\n",
            "33028    1.790000e+09\n",
            "12304    5.200000e+09\n",
            "71296    1.305000e+09\n",
            "48795    1.389000e+09\n",
            "20723    4.800000e+09\n",
            "4271     2.000000e+09\n",
            "44233    3.330000e+09\n",
            "22704    8.250000e+09\n",
            "5264     6.500000e+09\n",
            "Name: price, dtype: float64\n"
          ]
        }
      ],
      "source": [
        "print(f\"predicted response:\\n{y_pred_1[:10]*one_billion}\")\n",
        "print(f\"actual:\\n{y_test.iloc[0:10]*one_billion}\")"
      ]
    },
    {
      "cell_type": "code",
      "execution_count": null,
      "metadata": {
        "colab": {
          "base_uri": "https://localhost:8080/"
        },
        "id": "MM6d1wq7GAuT",
        "outputId": "2e40511f-3242-476e-e37b-12dfab91bfe4"
      },
      "outputs": [
        {
          "name": "stdout",
          "output_type": "stream",
          "text": [
            "The number of negative prediction:  0\n",
            "Percent correct prediction:  44.79971712885791\n"
          ]
        }
      ],
      "source": [
        "error, negative_integer = find_prediction_error_value(y_test, y_pred_1)\n",
        "print(\"The number of negative prediction: \", len(negative_integer))\n",
        "print(\"Percent correct prediction: \", (len(y_test) - len(error))/len(y_test)*100)"
      ]
    },
    {
      "cell_type": "markdown",
      "metadata": {
        "id": "z6Awm3K_DBBt"
      },
      "source": [
        "### MAE"
      ]
    },
    {
      "cell_type": "code",
      "execution_count": null,
      "metadata": {
        "colab": {
          "base_uri": "https://localhost:8080/"
        },
        "id": "xl6V6yVTDCfV",
        "outputId": "ab0cc807-8eaf-4b0b-f5fa-95cd6bf8015b"
      },
      "outputs": [
        {
          "name": "stdout",
          "output_type": "stream",
          "text": [
            "Epoch 1/400\n",
            "174/174 [==============================] - 23s 85ms/step - loss: 3.5418 - val_loss: 2.0760\n",
            "Epoch 2/400\n",
            "174/174 [==============================] - 16s 90ms/step - loss: 2.3105 - val_loss: 1.9561\n",
            "Epoch 3/400\n",
            "174/174 [==============================] - 15s 85ms/step - loss: 2.1901 - val_loss: 1.8990\n",
            "Epoch 4/400\n",
            "174/174 [==============================] - 16s 89ms/step - loss: 2.1495 - val_loss: 1.8676\n",
            "Epoch 5/400\n",
            "174/174 [==============================] - 16s 89ms/step - loss: 2.1145 - val_loss: 1.8617\n",
            "Epoch 6/400\n",
            "174/174 [==============================] - 14s 81ms/step - loss: 2.0758 - val_loss: 1.8056\n",
            "Epoch 7/400\n",
            "174/174 [==============================] - 15s 88ms/step - loss: 2.0462 - val_loss: 1.8056\n",
            "Epoch 8/400\n",
            "174/174 [==============================] - 16s 93ms/step - loss: 2.0213 - val_loss: 1.7804\n",
            "Epoch 9/400\n",
            "174/174 [==============================] - 17s 97ms/step - loss: 2.0166 - val_loss: 1.7588\n",
            "Epoch 10/400\n",
            "174/174 [==============================] - 9s 52ms/step - loss: 1.9921 - val_loss: 1.7367\n",
            "Epoch 11/400\n",
            "174/174 [==============================] - 14s 80ms/step - loss: 1.9678 - val_loss: 1.7271\n",
            "Epoch 12/400\n",
            "174/174 [==============================] - 16s 93ms/step - loss: 1.9631 - val_loss: 1.7239\n",
            "Epoch 13/400\n",
            "174/174 [==============================] - 12s 66ms/step - loss: 1.9471 - val_loss: 1.7125\n",
            "Epoch 14/400\n",
            "174/174 [==============================] - 5s 31ms/step - loss: 1.9322 - val_loss: 1.7218\n",
            "Epoch 15/400\n",
            "174/174 [==============================] - 6s 32ms/step - loss: 1.9243 - val_loss: 1.7158\n",
            "Epoch 16/400\n",
            "174/174 [==============================] - 6s 32ms/step - loss: 1.9119 - val_loss: 1.7029\n",
            "Epoch 17/400\n",
            "174/174 [==============================] - 6s 32ms/step - loss: 1.9114 - val_loss: 1.7117\n",
            "Epoch 18/400\n",
            "174/174 [==============================] - 6s 32ms/step - loss: 1.8934 - val_loss: 1.7004\n",
            "Epoch 19/400\n",
            "174/174 [==============================] - 5s 31ms/step - loss: 1.8952 - val_loss: 1.6937\n",
            "Epoch 20/400\n",
            "174/174 [==============================] - 5s 31ms/step - loss: 1.8870 - val_loss: 1.6852\n",
            "Epoch 21/400\n",
            "174/174 [==============================] - 6s 32ms/step - loss: 1.8748 - val_loss: 1.6802\n",
            "Epoch 22/400\n",
            "174/174 [==============================] - 6s 32ms/step - loss: 1.8710 - val_loss: 1.6782\n",
            "Epoch 23/400\n",
            "174/174 [==============================] - 6s 32ms/step - loss: 1.8647 - val_loss: 1.6819\n",
            "Epoch 24/400\n",
            "174/174 [==============================] - 5s 32ms/step - loss: 1.8631 - val_loss: 1.6840\n",
            "Epoch 25/400\n",
            "174/174 [==============================] - 6s 32ms/step - loss: 1.8437 - val_loss: 1.6617\n",
            "Epoch 26/400\n",
            "174/174 [==============================] - 6s 36ms/step - loss: 1.8360 - val_loss: 1.6576\n",
            "Epoch 27/400\n",
            "174/174 [==============================] - 5s 31ms/step - loss: 1.8390 - val_loss: 1.6675\n",
            "Epoch 28/400\n",
            "174/174 [==============================] - 8s 45ms/step - loss: 1.8309 - val_loss: 1.6490\n",
            "Epoch 29/400\n",
            "174/174 [==============================] - 6s 32ms/step - loss: 1.8274 - val_loss: 1.6564\n",
            "Epoch 30/400\n",
            "174/174 [==============================] - 6s 32ms/step - loss: 1.8241 - val_loss: 1.6432\n",
            "Epoch 31/400\n",
            "174/174 [==============================] - 5s 32ms/step - loss: 1.8133 - val_loss: 1.6530\n",
            "Epoch 32/400\n",
            "174/174 [==============================] - 6s 32ms/step - loss: 1.8132 - val_loss: 1.6631\n",
            "Epoch 33/400\n",
            "174/174 [==============================] - 5s 31ms/step - loss: 1.8165 - val_loss: 1.6598\n",
            "Epoch 34/400\n",
            "174/174 [==============================] - 6s 32ms/step - loss: 1.8090 - val_loss: 1.6462\n",
            "Epoch 35/400\n",
            "174/174 [==============================] - 6s 32ms/step - loss: 1.8045 - val_loss: 1.6378\n",
            "Epoch 36/400\n",
            "174/174 [==============================] - 6s 32ms/step - loss: 1.7944 - val_loss: 1.6398\n",
            "Epoch 37/400\n",
            "174/174 [==============================] - 5s 32ms/step - loss: 1.7926 - val_loss: 1.6388\n",
            "Epoch 38/400\n",
            "174/174 [==============================] - 5s 31ms/step - loss: 1.7932 - val_loss: 1.6442\n",
            "Epoch 39/400\n",
            "174/174 [==============================] - 5s 32ms/step - loss: 1.7883 - val_loss: 1.6454\n",
            "Epoch 40/400\n",
            "174/174 [==============================] - 5s 32ms/step - loss: 1.7872 - val_loss: 1.6302\n",
            "Epoch 41/400\n",
            "174/174 [==============================] - 5s 31ms/step - loss: 1.7853 - val_loss: 1.6261\n",
            "Epoch 42/400\n",
            "174/174 [==============================] - 6s 32ms/step - loss: 1.7830 - val_loss: 1.6312\n",
            "Epoch 43/400\n",
            "174/174 [==============================] - 6s 32ms/step - loss: 1.7778 - val_loss: 1.6258\n",
            "Epoch 44/400\n",
            "174/174 [==============================] - 6s 32ms/step - loss: 1.7644 - val_loss: 1.6278\n",
            "Epoch 45/400\n",
            "174/174 [==============================] - 6s 32ms/step - loss: 1.7708 - val_loss: 1.6231\n",
            "Epoch 46/400\n",
            "174/174 [==============================] - 6s 32ms/step - loss: 1.7665 - val_loss: 1.6189\n",
            "Epoch 47/400\n",
            "174/174 [==============================] - 6s 32ms/step - loss: 1.7689 - val_loss: 1.6135\n",
            "Epoch 48/400\n",
            "174/174 [==============================] - 7s 41ms/step - loss: 1.7675 - val_loss: 1.6269\n",
            "Epoch 49/400\n",
            "174/174 [==============================] - 6s 34ms/step - loss: 1.7627 - val_loss: 1.6250\n",
            "Epoch 50/400\n",
            "174/174 [==============================] - 5s 31ms/step - loss: 1.7577 - val_loss: 1.6162\n",
            "Epoch 51/400\n",
            "174/174 [==============================] - 6s 32ms/step - loss: 1.7557 - val_loss: 1.6190\n",
            "Epoch 52/400\n",
            "174/174 [==============================] - 5s 31ms/step - loss: 1.7605 - val_loss: 1.6152\n",
            "Epoch 53/400\n",
            "174/174 [==============================] - 6s 32ms/step - loss: 1.7534 - val_loss: 1.6294\n",
            "Epoch 54/400\n",
            "174/174 [==============================] - 6s 32ms/step - loss: 1.7532 - val_loss: 1.6244\n",
            "Epoch 55/400\n",
            "174/174 [==============================] - 6s 32ms/step - loss: 1.7521 - val_loss: 1.6163\n",
            "Epoch 56/400\n",
            "174/174 [==============================] - 6s 32ms/step - loss: 1.7538 - val_loss: 1.6136\n",
            "Epoch 57/400\n",
            "174/174 [==============================] - 6s 32ms/step - loss: 1.7504 - val_loss: 1.6110\n",
            "Epoch 58/400\n",
            "174/174 [==============================] - 6s 32ms/step - loss: 1.7504 - val_loss: 1.6224\n",
            "Epoch 59/400\n",
            "174/174 [==============================] - 6s 33ms/step - loss: 1.7482 - val_loss: 1.6080\n",
            "Epoch 60/400\n",
            "174/174 [==============================] - 6s 32ms/step - loss: 1.7521 - val_loss: 1.6078\n",
            "Epoch 61/400\n",
            "174/174 [==============================] - 6s 32ms/step - loss: 1.7481 - val_loss: 1.6154\n",
            "Epoch 62/400\n",
            "174/174 [==============================] - 6s 32ms/step - loss: 1.7485 - val_loss: 1.6156\n",
            "Epoch 63/400\n",
            "174/174 [==============================] - 5s 31ms/step - loss: 1.7426 - val_loss: 1.6076\n",
            "Epoch 64/400\n",
            "174/174 [==============================] - 5s 31ms/step - loss: 1.7391 - val_loss: 1.6204\n",
            "Epoch 65/400\n",
            "174/174 [==============================] - 6s 32ms/step - loss: 1.7404 - val_loss: 1.6091\n",
            "Epoch 66/400\n",
            "174/174 [==============================] - 6s 32ms/step - loss: 1.7400 - val_loss: 1.5933\n",
            "Epoch 67/400\n",
            "174/174 [==============================] - 6s 32ms/step - loss: 1.7335 - val_loss: 1.5980\n",
            "Epoch 68/400\n",
            "174/174 [==============================] - 5s 32ms/step - loss: 1.7289 - val_loss: 1.5900\n",
            "Epoch 69/400\n",
            "174/174 [==============================] - 8s 44ms/step - loss: 1.7250 - val_loss: 1.5921\n",
            "Epoch 70/400\n",
            "174/174 [==============================] - 6s 32ms/step - loss: 1.7320 - val_loss: 1.6096\n",
            "Epoch 71/400\n",
            "174/174 [==============================] - 6s 32ms/step - loss: 1.7287 - val_loss: 1.6026\n",
            "Epoch 72/400\n",
            "174/174 [==============================] - 6s 32ms/step - loss: 1.7253 - val_loss: 1.5937\n",
            "Epoch 73/400\n",
            "174/174 [==============================] - 6s 32ms/step - loss: 1.7292 - val_loss: 1.5938\n",
            "Epoch 74/400\n",
            "174/174 [==============================] - 6s 32ms/step - loss: 1.7276 - val_loss: 1.5982\n",
            "Epoch 75/400\n",
            "174/174 [==============================] - 6s 32ms/step - loss: 1.7154 - val_loss: 1.5911\n",
            "Epoch 76/400\n",
            "174/174 [==============================] - 6s 32ms/step - loss: 1.7114 - val_loss: 1.6168\n",
            "Epoch 77/400\n",
            "174/174 [==============================] - 6s 32ms/step - loss: 1.7222 - val_loss: 1.5958\n",
            "Epoch 78/400\n",
            "174/174 [==============================] - 6s 32ms/step - loss: 1.7243 - val_loss: 1.5785\n",
            "Epoch 79/400\n",
            "174/174 [==============================] - 6s 32ms/step - loss: 1.7262 - val_loss: 1.5960\n",
            "Epoch 80/400\n",
            "174/174 [==============================] - 5s 31ms/step - loss: 1.7154 - val_loss: 1.5902\n",
            "Epoch 81/400\n",
            "174/174 [==============================] - 5s 31ms/step - loss: 1.7228 - val_loss: 1.5789\n",
            "Epoch 82/400\n",
            "174/174 [==============================] - 5s 31ms/step - loss: 1.7158 - val_loss: 1.5975\n",
            "Epoch 83/400\n",
            "174/174 [==============================] - 5s 31ms/step - loss: 1.7180 - val_loss: 1.5916\n",
            "Epoch 84/400\n",
            "174/174 [==============================] - 5s 31ms/step - loss: 1.7120 - val_loss: 1.5774\n",
            "Epoch 85/400\n",
            "174/174 [==============================] - 6s 32ms/step - loss: 1.7110 - val_loss: 1.5841\n",
            "Epoch 86/400\n",
            "174/174 [==============================] - 6s 32ms/step - loss: 1.7216 - val_loss: 1.5778\n",
            "Epoch 87/400\n",
            "174/174 [==============================] - 6s 32ms/step - loss: 1.7153 - val_loss: 1.5925\n",
            "Epoch 88/400\n",
            "174/174 [==============================] - 5s 31ms/step - loss: 1.7089 - val_loss: 1.5738\n",
            "Epoch 89/400\n",
            "174/174 [==============================] - 5s 31ms/step - loss: 1.7105 - val_loss: 1.5817\n",
            "Epoch 90/400\n",
            "174/174 [==============================] - 7s 43ms/step - loss: 1.7098 - val_loss: 1.5747\n",
            "Epoch 91/400\n",
            "174/174 [==============================] - 6s 32ms/step - loss: 1.7135 - val_loss: 1.5861\n",
            "Epoch 92/400\n",
            "174/174 [==============================] - 6s 32ms/step - loss: 1.7083 - val_loss: 1.5862\n",
            "Epoch 93/400\n",
            "174/174 [==============================] - 5s 32ms/step - loss: 1.7053 - val_loss: 1.5858\n",
            "Epoch 94/400\n",
            "174/174 [==============================] - 6s 32ms/step - loss: 1.7163 - val_loss: 1.5731\n",
            "Epoch 95/400\n",
            "174/174 [==============================] - 5s 31ms/step - loss: 1.7072 - val_loss: 1.5723\n",
            "Epoch 96/400\n",
            "174/174 [==============================] - 6s 32ms/step - loss: 1.7019 - val_loss: 1.5750\n",
            "Epoch 97/400\n",
            "174/174 [==============================] - 5s 31ms/step - loss: 1.7023 - val_loss: 1.6015\n",
            "Epoch 98/400\n",
            "174/174 [==============================] - 5s 31ms/step - loss: 1.7099 - val_loss: 1.5718\n",
            "Epoch 99/400\n",
            "174/174 [==============================] - 6s 32ms/step - loss: 1.7058 - val_loss: 1.5758\n",
            "Epoch 100/400\n",
            "174/174 [==============================] - 6s 32ms/step - loss: 1.7025 - val_loss: 1.5851\n",
            "Epoch 101/400\n",
            "174/174 [==============================] - 6s 32ms/step - loss: 1.7086 - val_loss: 1.5737\n",
            "Epoch 102/400\n",
            "174/174 [==============================] - 6s 32ms/step - loss: 1.7033 - val_loss: 1.5767\n",
            "Epoch 103/400\n",
            "174/174 [==============================] - 5s 31ms/step - loss: 1.6904 - val_loss: 1.5744\n",
            "Epoch 104/400\n",
            "174/174 [==============================] - 5s 32ms/step - loss: 1.7024 - val_loss: 1.5787\n",
            "Epoch 105/400\n",
            "174/174 [==============================] - 6s 32ms/step - loss: 1.7020 - val_loss: 1.5788\n",
            "Epoch 106/400\n",
            "174/174 [==============================] - 6s 32ms/step - loss: 1.6975 - val_loss: 1.5704\n",
            "Epoch 107/400\n",
            "174/174 [==============================] - 6s 32ms/step - loss: 1.6924 - val_loss: 1.5933\n",
            "Epoch 108/400\n",
            "174/174 [==============================] - 6s 32ms/step - loss: 1.6942 - val_loss: 1.5725\n",
            "Epoch 109/400\n",
            "174/174 [==============================] - 5s 31ms/step - loss: 1.6930 - val_loss: 1.5713\n",
            "Epoch 110/400\n",
            "174/174 [==============================] - 6s 32ms/step - loss: 1.7020 - val_loss: 1.5721\n",
            "Epoch 111/400\n",
            "174/174 [==============================] - 8s 44ms/step - loss: 1.6987 - val_loss: 1.5724\n",
            "Epoch 112/400\n",
            "174/174 [==============================] - 6s 33ms/step - loss: 1.7013 - val_loss: 1.5848\n",
            "Epoch 113/400\n",
            "174/174 [==============================] - 6s 32ms/step - loss: 1.6902 - val_loss: 1.5728\n",
            "Epoch 114/400\n",
            "174/174 [==============================] - 6s 32ms/step - loss: 1.6951 - val_loss: 1.5661\n",
            "Epoch 115/400\n",
            "174/174 [==============================] - 6s 32ms/step - loss: 1.6922 - val_loss: 1.5920\n",
            "Epoch 116/400\n",
            "174/174 [==============================] - 6s 32ms/step - loss: 1.6975 - val_loss: 1.5613\n",
            "Epoch 117/400\n",
            "174/174 [==============================] - 5s 31ms/step - loss: 1.6935 - val_loss: 1.5608\n",
            "Epoch 118/400\n",
            "174/174 [==============================] - 5s 32ms/step - loss: 1.6876 - val_loss: 1.5655\n",
            "Epoch 119/400\n",
            "174/174 [==============================] - 5s 31ms/step - loss: 1.6962 - val_loss: 1.5705\n",
            "Epoch 120/400\n",
            "174/174 [==============================] - 6s 32ms/step - loss: 1.6823 - val_loss: 1.5761\n",
            "Epoch 121/400\n",
            "174/174 [==============================] - 5s 32ms/step - loss: 1.6879 - val_loss: 1.5762\n",
            "Epoch 122/400\n",
            "174/174 [==============================] - 6s 32ms/step - loss: 1.6875 - val_loss: 1.5609\n",
            "Epoch 123/400\n",
            "174/174 [==============================] - 6s 32ms/step - loss: 1.6840 - val_loss: 1.5635\n",
            "Epoch 124/400\n",
            "174/174 [==============================] - 5s 32ms/step - loss: 1.6950 - val_loss: 1.5599\n",
            "Epoch 125/400\n",
            "174/174 [==============================] - 5s 32ms/step - loss: 1.6854 - val_loss: 1.5633\n",
            "Epoch 126/400\n",
            "174/174 [==============================] - 6s 32ms/step - loss: 1.6806 - val_loss: 1.5573\n",
            "Epoch 127/400\n",
            "174/174 [==============================] - 6s 32ms/step - loss: 1.6862 - val_loss: 1.5571\n",
            "Epoch 128/400\n",
            "174/174 [==============================] - 6s 32ms/step - loss: 1.6887 - val_loss: 1.5553\n",
            "Epoch 129/400\n",
            "174/174 [==============================] - 6s 32ms/step - loss: 1.6812 - val_loss: 1.5598\n",
            "Epoch 130/400\n",
            "174/174 [==============================] - 6s 32ms/step - loss: 1.6811 - val_loss: 1.5643\n",
            "Epoch 131/400\n",
            "174/174 [==============================] - 6s 32ms/step - loss: 1.6839 - val_loss: 1.5655\n",
            "Epoch 132/400\n",
            "174/174 [==============================] - 8s 44ms/step - loss: 1.6861 - val_loss: 1.5733\n",
            "Epoch 133/400\n",
            "174/174 [==============================] - 6s 32ms/step - loss: 1.6779 - val_loss: 1.5545\n",
            "Epoch 134/400\n",
            "174/174 [==============================] - 7s 39ms/step - loss: 1.6803 - val_loss: 1.5653\n",
            "Epoch 135/400\n",
            "174/174 [==============================] - 6s 32ms/step - loss: 1.6887 - val_loss: 1.5590\n",
            "Epoch 136/400\n",
            "174/174 [==============================] - 6s 32ms/step - loss: 1.6833 - val_loss: 1.5554\n",
            "Epoch 137/400\n",
            "174/174 [==============================] - 5s 32ms/step - loss: 1.6796 - val_loss: 1.5564\n",
            "Epoch 138/400\n",
            "174/174 [==============================] - 6s 32ms/step - loss: 1.6843 - val_loss: 1.5678\n",
            "Epoch 139/400\n",
            "174/174 [==============================] - 6s 32ms/step - loss: 1.6813 - val_loss: 1.5553\n",
            "Epoch 140/400\n",
            "174/174 [==============================] - 6s 32ms/step - loss: 1.6753 - val_loss: 1.5553\n",
            "Epoch 141/400\n",
            "174/174 [==============================] - 6s 32ms/step - loss: 1.6814 - val_loss: 1.5680\n",
            "Epoch 142/400\n",
            "174/174 [==============================] - 6s 32ms/step - loss: 1.6761 - val_loss: 1.5481\n",
            "Epoch 143/400\n",
            "174/174 [==============================] - 6s 32ms/step - loss: 1.6797 - val_loss: 1.5599\n",
            "Epoch 144/400\n",
            "174/174 [==============================] - 6s 32ms/step - loss: 1.6731 - val_loss: 1.5446\n",
            "Epoch 145/400\n",
            "174/174 [==============================] - 6s 32ms/step - loss: 1.6720 - val_loss: 1.5579\n",
            "Epoch 146/400\n",
            "174/174 [==============================] - 5s 31ms/step - loss: 1.6694 - val_loss: 1.5528\n",
            "Epoch 147/400\n",
            "174/174 [==============================] - 6s 32ms/step - loss: 1.6659 - val_loss: 1.5580\n",
            "Epoch 148/400\n",
            "174/174 [==============================] - 6s 32ms/step - loss: 1.6700 - val_loss: 1.5551\n",
            "Epoch 149/400\n",
            "174/174 [==============================] - 5s 31ms/step - loss: 1.6667 - val_loss: 1.5690\n",
            "Epoch 150/400\n",
            "174/174 [==============================] - 6s 32ms/step - loss: 1.6732 - val_loss: 1.5617\n",
            "Epoch 151/400\n",
            "174/174 [==============================] - 6s 32ms/step - loss: 1.6762 - val_loss: 1.5602\n",
            "Epoch 152/400\n",
            "174/174 [==============================] - 7s 43ms/step - loss: 1.6709 - val_loss: 1.5468\n",
            "Epoch 153/400\n",
            "174/174 [==============================] - 6s 32ms/step - loss: 1.6679 - val_loss: 1.5532\n",
            "Epoch 154/400\n",
            "174/174 [==============================] - 6s 32ms/step - loss: 1.6751 - val_loss: 1.5456\n",
            "Epoch 155/400\n",
            "174/174 [==============================] - 6s 32ms/step - loss: 1.6607 - val_loss: 1.5428\n",
            "Epoch 156/400\n",
            "174/174 [==============================] - 6s 32ms/step - loss: 1.6642 - val_loss: 1.5458\n",
            "Epoch 157/400\n",
            "174/174 [==============================] - 6s 32ms/step - loss: 1.6741 - val_loss: 1.5411\n",
            "Epoch 158/400\n",
            "174/174 [==============================] - 6s 32ms/step - loss: 1.6639 - val_loss: 1.5540\n",
            "Epoch 159/400\n",
            "174/174 [==============================] - 6s 32ms/step - loss: 1.6651 - val_loss: 1.5403\n",
            "Epoch 160/400\n",
            "174/174 [==============================] - 6s 32ms/step - loss: 1.6670 - val_loss: 1.5429\n",
            "Epoch 161/400\n",
            "174/174 [==============================] - 6s 32ms/step - loss: 1.6634 - val_loss: 1.5641\n",
            "Epoch 162/400\n",
            "174/174 [==============================] - 6s 32ms/step - loss: 1.6637 - val_loss: 1.5481\n",
            "Epoch 163/400\n",
            "174/174 [==============================] - 6s 32ms/step - loss: 1.6659 - val_loss: 1.5474\n",
            "Epoch 164/400\n",
            "174/174 [==============================] - 6s 32ms/step - loss: 1.6666 - val_loss: 1.5515\n",
            "Epoch 165/400\n",
            "174/174 [==============================] - 6s 32ms/step - loss: 1.6647 - val_loss: 1.5468\n",
            "Epoch 166/400\n",
            "174/174 [==============================] - 6s 32ms/step - loss: 1.6521 - val_loss: 1.5423\n",
            "Epoch 167/400\n",
            "174/174 [==============================] - 6s 32ms/step - loss: 1.6589 - val_loss: 1.5453\n",
            "Epoch 168/400\n",
            "174/174 [==============================] - 6s 33ms/step - loss: 1.6581 - val_loss: 1.5521\n",
            "Epoch 169/400\n",
            "174/174 [==============================] - 6s 32ms/step - loss: 1.6635 - val_loss: 1.5401\n",
            "Epoch 170/400\n",
            "174/174 [==============================] - 6s 32ms/step - loss: 1.6566 - val_loss: 1.5502\n",
            "Epoch 171/400\n",
            "174/174 [==============================] - 6s 32ms/step - loss: 1.6671 - val_loss: 1.5428\n",
            "Epoch 172/400\n",
            "174/174 [==============================] - 6s 32ms/step - loss: 1.6605 - val_loss: 1.5388\n",
            "Epoch 173/400\n",
            "174/174 [==============================] - 8s 44ms/step - loss: 1.6547 - val_loss: 1.5391\n",
            "Epoch 174/400\n",
            "174/174 [==============================] - 6s 32ms/step - loss: 1.6661 - val_loss: 1.5307\n",
            "Epoch 175/400\n",
            "174/174 [==============================] - 6s 32ms/step - loss: 1.6584 - val_loss: 1.5402\n",
            "Epoch 176/400\n",
            "174/174 [==============================] - 6s 32ms/step - loss: 1.6584 - val_loss: 1.5392\n",
            "Epoch 177/400\n",
            "174/174 [==============================] - 6s 32ms/step - loss: 1.6541 - val_loss: 1.5330\n",
            "Epoch 178/400\n",
            "174/174 [==============================] - 7s 40ms/step - loss: 1.6571 - val_loss: 1.5389\n",
            "Epoch 179/400\n",
            "174/174 [==============================] - 14s 83ms/step - loss: 1.6567 - val_loss: 1.5374\n",
            "Epoch 180/400\n",
            "174/174 [==============================] - 7s 40ms/step - loss: 1.6601 - val_loss: 1.5279\n",
            "Epoch 181/400\n",
            "174/174 [==============================] - 6s 32ms/step - loss: 1.6596 - val_loss: 1.5307\n",
            "Epoch 182/400\n",
            "174/174 [==============================] - 6s 32ms/step - loss: 1.6486 - val_loss: 1.5271\n",
            "Epoch 183/400\n",
            "174/174 [==============================] - 11s 62ms/step - loss: 1.6562 - val_loss: 1.5326\n",
            "Epoch 184/400\n",
            "174/174 [==============================] - 6s 32ms/step - loss: 1.6555 - val_loss: 1.5331\n",
            "Epoch 185/400\n",
            "174/174 [==============================] - 6s 32ms/step - loss: 1.6485 - val_loss: 1.5339\n",
            "Epoch 186/400\n",
            "174/174 [==============================] - 6s 32ms/step - loss: 1.6451 - val_loss: 1.5394\n",
            "Epoch 187/400\n",
            "174/174 [==============================] - 6s 34ms/step - loss: 1.6567 - val_loss: 1.5402\n",
            "Epoch 188/400\n",
            "174/174 [==============================] - 6s 32ms/step - loss: 1.6500 - val_loss: 1.5316\n",
            "Epoch 189/400\n",
            "174/174 [==============================] - 6s 32ms/step - loss: 1.6504 - val_loss: 1.5304\n",
            "Epoch 190/400\n",
            "174/174 [==============================] - 6s 32ms/step - loss: 1.6505 - val_loss: 1.5268\n",
            "Epoch 191/400\n",
            "174/174 [==============================] - 8s 44ms/step - loss: 1.6491 - val_loss: 1.5339\n",
            "Epoch 192/400\n",
            "174/174 [==============================] - 6s 32ms/step - loss: 1.6448 - val_loss: 1.5289\n",
            "Epoch 193/400\n",
            "174/174 [==============================] - 6s 32ms/step - loss: 1.6497 - val_loss: 1.5316\n",
            "Epoch 194/400\n",
            "174/174 [==============================] - 6s 32ms/step - loss: 1.6482 - val_loss: 1.5275\n",
            "Epoch 195/400\n",
            "174/174 [==============================] - 6s 32ms/step - loss: 1.6397 - val_loss: 1.5395\n",
            "Epoch 196/400\n",
            "174/174 [==============================] - 6s 32ms/step - loss: 1.6424 - val_loss: 1.5256\n",
            "Epoch 197/400\n",
            "174/174 [==============================] - 6s 32ms/step - loss: 1.6457 - val_loss: 1.5283\n",
            "Epoch 198/400\n",
            "174/174 [==============================] - 6s 32ms/step - loss: 1.6494 - val_loss: 1.5294\n",
            "Epoch 199/400\n",
            "174/174 [==============================] - 6s 32ms/step - loss: 1.6440 - val_loss: 1.5266\n",
            "Epoch 200/400\n",
            "174/174 [==============================] - 6s 32ms/step - loss: 1.6457 - val_loss: 1.5227\n",
            "Epoch 201/400\n",
            "174/174 [==============================] - 6s 32ms/step - loss: 1.6418 - val_loss: 1.5325\n",
            "Epoch 202/400\n",
            "174/174 [==============================] - 6s 32ms/step - loss: 1.6457 - val_loss: 1.5272\n",
            "Epoch 203/400\n",
            "174/174 [==============================] - 6s 32ms/step - loss: 1.6510 - val_loss: 1.5297\n",
            "Epoch 204/400\n",
            "174/174 [==============================] - 6s 32ms/step - loss: 1.6451 - val_loss: 1.5245\n",
            "Epoch 205/400\n",
            "174/174 [==============================] - 6s 32ms/step - loss: 1.6440 - val_loss: 1.5251\n",
            "Epoch 206/400\n",
            "174/174 [==============================] - 5s 31ms/step - loss: 1.6412 - val_loss: 1.5241\n",
            "Epoch 207/400\n",
            "174/174 [==============================] - 6s 32ms/step - loss: 1.6440 - val_loss: 1.5216\n",
            "Epoch 208/400\n",
            "174/174 [==============================] - 5s 31ms/step - loss: 1.6385 - val_loss: 1.5227\n",
            "Epoch 209/400\n",
            "174/174 [==============================] - 6s 32ms/step - loss: 1.6491 - val_loss: 1.5226\n",
            "Epoch 210/400\n",
            "174/174 [==============================] - 6s 32ms/step - loss: 1.6389 - val_loss: 1.5307\n",
            "Epoch 211/400\n",
            "174/174 [==============================] - 6s 33ms/step - loss: 1.6408 - val_loss: 1.5214\n",
            "Epoch 212/400\n",
            "174/174 [==============================] - 8s 45ms/step - loss: 1.6392 - val_loss: 1.5257\n",
            "Epoch 213/400\n",
            "174/174 [==============================] - 6s 32ms/step - loss: 1.6369 - val_loss: 1.5194\n",
            "Epoch 214/400\n",
            "174/174 [==============================] - 6s 32ms/step - loss: 1.6473 - val_loss: 1.5296\n",
            "Epoch 215/400\n",
            "174/174 [==============================] - 6s 32ms/step - loss: 1.6393 - val_loss: 1.5299\n",
            "Epoch 216/400\n",
            "174/174 [==============================] - 6s 32ms/step - loss: 1.6365 - val_loss: 1.5244\n",
            "Epoch 217/400\n",
            "174/174 [==============================] - 6s 32ms/step - loss: 1.6388 - val_loss: 1.5185\n",
            "Epoch 218/400\n",
            "174/174 [==============================] - 6s 32ms/step - loss: 1.6318 - val_loss: 1.5188\n",
            "Epoch 219/400\n",
            "174/174 [==============================] - 6s 32ms/step - loss: 1.6400 - val_loss: 1.5203\n",
            "Epoch 220/400\n",
            "174/174 [==============================] - 6s 32ms/step - loss: 1.6338 - val_loss: 1.5182\n",
            "Epoch 221/400\n",
            "174/174 [==============================] - 6s 32ms/step - loss: 1.6381 - val_loss: 1.5271\n",
            "Epoch 222/400\n",
            "174/174 [==============================] - 6s 32ms/step - loss: 1.6365 - val_loss: 1.5234\n",
            "Epoch 223/400\n",
            "174/174 [==============================] - 6s 32ms/step - loss: 1.6346 - val_loss: 1.5198\n",
            "Epoch 224/400\n",
            "174/174 [==============================] - 6s 32ms/step - loss: 1.6336 - val_loss: 1.5205\n",
            "Epoch 225/400\n",
            "174/174 [==============================] - 6s 33ms/step - loss: 1.6291 - val_loss: 1.5186\n",
            "Epoch 226/400\n",
            "174/174 [==============================] - 6s 33ms/step - loss: 1.6356 - val_loss: 1.5263\n",
            "Epoch 227/400\n",
            "174/174 [==============================] - 6s 32ms/step - loss: 1.6368 - val_loss: 1.5159\n",
            "Epoch 228/400\n",
            "174/174 [==============================] - 6s 32ms/step - loss: 1.6363 - val_loss: 1.5208\n",
            "Epoch 229/400\n",
            "174/174 [==============================] - 6s 32ms/step - loss: 1.6343 - val_loss: 1.5354\n",
            "Epoch 230/400\n",
            "174/174 [==============================] - 6s 32ms/step - loss: 1.6393 - val_loss: 1.5338\n",
            "Epoch 231/400\n",
            "174/174 [==============================] - 6s 32ms/step - loss: 1.6275 - val_loss: 1.5196\n",
            "Epoch 232/400\n",
            "174/174 [==============================] - 6s 32ms/step - loss: 1.6339 - val_loss: 1.5089\n",
            "Epoch 233/400\n",
            "174/174 [==============================] - 8s 44ms/step - loss: 1.6365 - val_loss: 1.5161\n",
            "Epoch 234/400\n",
            "174/174 [==============================] - 6s 32ms/step - loss: 1.6240 - val_loss: 1.5155\n",
            "Epoch 235/400\n",
            "174/174 [==============================] - 6s 32ms/step - loss: 1.6304 - val_loss: 1.5232\n",
            "Epoch 236/400\n",
            "174/174 [==============================] - 6s 32ms/step - loss: 1.6314 - val_loss: 1.5148\n",
            "Epoch 237/400\n",
            "174/174 [==============================] - 6s 32ms/step - loss: 1.6283 - val_loss: 1.5116\n",
            "Epoch 238/400\n",
            "174/174 [==============================] - 6s 32ms/step - loss: 1.6346 - val_loss: 1.5121\n",
            "Epoch 239/400\n",
            "174/174 [==============================] - 6s 32ms/step - loss: 1.6286 - val_loss: 1.5275\n",
            "Epoch 240/400\n",
            "174/174 [==============================] - 6s 32ms/step - loss: 1.6336 - val_loss: 1.5101\n",
            "Epoch 241/400\n",
            "174/174 [==============================] - 6s 32ms/step - loss: 1.6296 - val_loss: 1.5300\n",
            "Epoch 242/400\n",
            "174/174 [==============================] - 6s 32ms/step - loss: 1.6338 - val_loss: 1.5246\n",
            "Epoch 243/400\n",
            "174/174 [==============================] - 6s 32ms/step - loss: 1.6348 - val_loss: 1.5138\n",
            "Epoch 244/400\n",
            "174/174 [==============================] - 6s 32ms/step - loss: 1.6326 - val_loss: 1.5217\n",
            "Epoch 245/400\n",
            "174/174 [==============================] - 6s 32ms/step - loss: 1.6269 - val_loss: 1.5204\n",
            "Epoch 246/400\n",
            "174/174 [==============================] - 6s 32ms/step - loss: 1.6302 - val_loss: 1.5128\n",
            "Epoch 247/400\n",
            "174/174 [==============================] - 6s 32ms/step - loss: 1.6305 - val_loss: 1.5137\n",
            "Epoch 248/400\n",
            "174/174 [==============================] - 6s 32ms/step - loss: 1.6288 - val_loss: 1.5152\n",
            "Epoch 249/400\n",
            "174/174 [==============================] - 6s 32ms/step - loss: 1.6215 - val_loss: 1.5085\n",
            "Epoch 250/400\n",
            "174/174 [==============================] - 6s 32ms/step - loss: 1.6283 - val_loss: 1.5088\n",
            "Epoch 251/400\n",
            "174/174 [==============================] - 6s 32ms/step - loss: 1.6222 - val_loss: 1.5099\n",
            "Epoch 252/400\n",
            "174/174 [==============================] - 6s 32ms/step - loss: 1.6260 - val_loss: 1.5156\n",
            "Epoch 253/400\n",
            "174/174 [==============================] - 6s 32ms/step - loss: 1.6252 - val_loss: 1.5131\n",
            "Epoch 254/400\n",
            "174/174 [==============================] - 7s 39ms/step - loss: 1.6252 - val_loss: 1.5078\n",
            "Epoch 255/400\n",
            "174/174 [==============================] - 6s 37ms/step - loss: 1.6280 - val_loss: 1.5085\n",
            "Epoch 256/400\n",
            "174/174 [==============================] - 6s 33ms/step - loss: 1.6232 - val_loss: 1.5123\n",
            "Epoch 257/400\n",
            "174/174 [==============================] - 6s 32ms/step - loss: 1.6288 - val_loss: 1.5223\n",
            "Epoch 258/400\n",
            "174/174 [==============================] - 6s 32ms/step - loss: 1.6226 - val_loss: 1.5129\n",
            "Epoch 259/400\n",
            "174/174 [==============================] - 6s 32ms/step - loss: 1.6253 - val_loss: 1.5097\n",
            "Epoch 260/400\n",
            "174/174 [==============================] - 6s 32ms/step - loss: 1.6231 - val_loss: 1.5081\n",
            "Epoch 261/400\n",
            "174/174 [==============================] - 6s 32ms/step - loss: 1.6189 - val_loss: 1.5076\n",
            "Epoch 262/400\n",
            "174/174 [==============================] - 5s 32ms/step - loss: 1.6221 - val_loss: 1.5095\n",
            "Epoch 263/400\n",
            "174/174 [==============================] - 6s 32ms/step - loss: 1.6199 - val_loss: 1.5110\n",
            "Epoch 264/400\n",
            "174/174 [==============================] - 6s 32ms/step - loss: 1.6236 - val_loss: 1.5082\n",
            "Epoch 265/400\n",
            "174/174 [==============================] - 6s 33ms/step - loss: 1.6191 - val_loss: 1.5001\n",
            "Epoch 266/400\n",
            "174/174 [==============================] - 6s 32ms/step - loss: 1.6165 - val_loss: 1.5049\n",
            "Epoch 267/400\n",
            "174/174 [==============================] - 6s 32ms/step - loss: 1.6114 - val_loss: 1.5072\n",
            "Epoch 268/400\n",
            "174/174 [==============================] - 6s 32ms/step - loss: 1.6149 - val_loss: 1.5038\n",
            "Epoch 269/400\n",
            "174/174 [==============================] - 6s 33ms/step - loss: 1.6202 - val_loss: 1.5162\n",
            "Epoch 270/400\n",
            "174/174 [==============================] - 6s 33ms/step - loss: 1.6207 - val_loss: 1.5181\n",
            "Epoch 271/400\n",
            "174/174 [==============================] - 6s 32ms/step - loss: 1.6263 - val_loss: 1.5061\n",
            "Epoch 272/400\n",
            "174/174 [==============================] - 6s 32ms/step - loss: 1.6253 - val_loss: 1.5319\n",
            "Epoch 273/400\n",
            "174/174 [==============================] - 6s 32ms/step - loss: 1.6210 - val_loss: 1.5086\n",
            "Epoch 274/400\n",
            "174/174 [==============================] - 6s 33ms/step - loss: 1.6252 - val_loss: 1.5085\n",
            "Epoch 275/400\n",
            "174/174 [==============================] - 6s 32ms/step - loss: 1.6233 - val_loss: 1.5096\n",
            "Epoch 276/400\n",
            "174/174 [==============================] - 8s 44ms/step - loss: 1.6084 - val_loss: 1.5068\n",
            "Epoch 277/400\n",
            "174/174 [==============================] - 6s 33ms/step - loss: 1.6205 - val_loss: 1.5150\n",
            "Epoch 278/400\n",
            "174/174 [==============================] - 6s 32ms/step - loss: 1.6188 - val_loss: 1.5041\n",
            "Epoch 279/400\n",
            "174/174 [==============================] - 6s 33ms/step - loss: 1.6210 - val_loss: 1.5053\n",
            "Epoch 280/400\n",
            "174/174 [==============================] - 6s 33ms/step - loss: 1.6140 - val_loss: 1.5101\n",
            "Epoch 281/400\n",
            "174/174 [==============================] - 6s 33ms/step - loss: 1.6173 - val_loss: 1.5053\n",
            "Epoch 282/400\n",
            "174/174 [==============================] - 6s 32ms/step - loss: 1.6190 - val_loss: 1.5189\n",
            "Epoch 283/400\n",
            "174/174 [==============================] - 6s 32ms/step - loss: 1.6149 - val_loss: 1.5157\n",
            "Epoch 284/400\n",
            "174/174 [==============================] - 6s 33ms/step - loss: 1.6178 - val_loss: 1.5062\n",
            "Epoch 285/400\n",
            "174/174 [==============================] - 6s 32ms/step - loss: 1.6160 - val_loss: 1.5054\n",
            "Epoch 00285: early stopping\n"
          ]
        }
      ],
      "source": [
        "model_1.compile(loss='mean_absolute_error', optimizer='adam')\n",
        "# Training sẽ dừng khi \"val_loss\" không giảm (mode='min') sau 10 epochs(patience=10)\n",
        "earlyStop=EarlyStopping(monitor=\"val_loss\",verbose=2,mode='min',patience=20)\n",
        "losses_2 = model_1.fit(X_tr_t, y_train, validation_data=(X_vl_t, y_val), batch_size=256, epochs=400, callbacks=[earlyStop])"
      ]
    },
    {
      "cell_type": "markdown",
      "metadata": {
        "id": "QmqwGKAGDLr1"
      },
      "source": [
        "#### Loss graph"
      ]
    },
    {
      "cell_type": "code",
      "execution_count": null,
      "metadata": {
        "colab": {
          "base_uri": "https://localhost:8080/",
          "height": 282
        },
        "id": "Fl4JEHXUDLVu",
        "outputId": "b15215da-6450-49a6-a301-57afe8d2bc9f"
      },
      "outputs": [
        {
          "data": {
            "text/plain": [
              "<matplotlib.axes._subplots.AxesSubplot at 0x7f5a1222ea10>"
            ]
          },
          "execution_count": 46,
          "metadata": {},
          "output_type": "execute_result"
        },
        {
          "data": {
            "image/png": "[encoded data removed]",
            "text/plain": [
              "<Figure size 432x288 with 1 Axes>"
            ]
          },
          "metadata": {
            "needs_background": "light"
          },
          "output_type": "display_data"
        }
      ],
      "source": [
        "loss_df_2 = pd.DataFrame(losses_2.history)\n",
        "loss_df_2.loc[:,['loss','val_loss']].plot(color = ['darkorange','midnightblue'])"
      ]
    },
    {
      "cell_type": "markdown",
      "metadata": {
        "id": "R9GXELtrDSV2"
      },
      "source": [
        "#### Loss values"
      ]
    },
    {
      "cell_type": "code",
      "execution_count": null,
      "metadata": {
        "colab": {
          "base_uri": "https://localhost:8080/"
        },
        "id": "JswOgSErDMXl",
        "outputId": "5f6c7d6a-6b78-4b27-8a51-dd1bcf944a5b"
      },
      "outputs": [
        {
          "name": "stdout",
          "output_type": "stream",
          "text": [
            "19797/19797 [==============================] - 70s 4ms/step - loss: 1.4934\n"
          ]
        }
      ],
      "source": [
        "score_mae = model_1.evaluate(X_tst_t, y_test, batch_size=1)\n",
        "y_pred_lstm_2 = model_1.predict(X_tst_t)"
      ]
    },
    {
      "cell_type": "code",
      "execution_count": null,
      "metadata": {
        "id": "e7PaoulrDs4v"
      },
      "outputs": [],
      "source": [
        "compa_k_mae.append(score_mae)"
      ]
    },
    {
      "cell_type": "code",
      "execution_count": null,
      "metadata": {
        "colab": {
          "base_uri": "https://localhost:8080/"
        },
        "id": "xGumqyPuDswW",
        "outputId": "60a51aa3-ecf8-4873-ad96-268120a8ee36"
      },
      "outputs": [
        {
          "name": "stdout",
          "output_type": "stream",
          "text": [
            "mae: 1.493402\n"
          ]
        }
      ],
      "source": [
        "print('mae: %f'%score_mae)"
      ]
    },
    {
      "cell_type": "code",
      "execution_count": null,
      "metadata": {
        "colab": {
          "base_uri": "https://localhost:8080/"
        },
        "id": "RM8vT97LDsl2",
        "outputId": "51d4d203-68f0-40b2-d901-7c8f95aac07b"
      },
      "outputs": [
        {
          "name": "stdout",
          "output_type": "stream",
          "text": [
            "predicted response:\n",
            "[[6.11541176e+09]\n",
            " [3.29741049e+09]\n",
            " [4.56056499e+09]\n",
            " [1.52764034e+09]\n",
            " [1.85518193e+09]\n",
            " [5.62667751e+09]\n",
            " [2.87924290e+09]\n",
            " [3.50198889e+09]\n",
            " [6.39624023e+09]\n",
            " [5.47213984e+09]]\n",
            "actual:\n",
            "67254    7.800000e+09\n",
            "33028    1.790000e+09\n",
            "12304    5.200000e+09\n",
            "71296    1.305000e+09\n",
            "48795    1.389000e+09\n",
            "20723    4.800000e+09\n",
            "4271     2.000000e+09\n",
            "44233    3.330000e+09\n",
            "22704    8.250000e+09\n",
            "5264     6.500000e+09\n",
            "Name: price, dtype: float64\n"
          ]
        }
      ],
      "source": [
        "print(f\"predicted response:\\n{y_pred_lstm_2[:10]*one_billion}\")\n",
        "print(f\"actual:\\n{y_test.iloc[0:10]*one_billion}\")"
      ]
    },
    {
      "cell_type": "code",
      "execution_count": null,
      "metadata": {
        "colab": {
          "base_uri": "https://localhost:8080/"
        },
        "id": "xzh0mWKODzI2",
        "outputId": "2735866c-2dc4-4a4c-f9fe-d732e99e68c9"
      },
      "outputs": [
        {
          "name": "stdout",
          "output_type": "stream",
          "text": [
            "The number of negative prediction:  0\n",
            "Percent correct prediction:  53.321210284386524\n"
          ]
        }
      ],
      "source": [
        "error, negative_integer = find_prediction_error_value(y_test, y_pred_lstm_2)\n",
        "print(\"The number of negative prediction: \", len(negative_integer))\n",
        "print(\"Percent correct prediction: \", (len(y_test) - len(error))/len(y_test)*100)"
      ]
    },
    {
      "cell_type": "markdown",
      "metadata": {
        "id": "hYgXqXy9DDB1"
      },
      "source": [
        "### RMSE"
      ]
    },
    {
      "cell_type": "code",
      "execution_count": null,
      "metadata": {
        "colab": {
          "base_uri": "https://localhost:8080/"
        },
        "id": "uoul4OKRDEFu",
        "outputId": "d72d66b2-ee2d-4dcf-8580-525de3cfd2a2"
      },
      "outputs": [
        {
          "name": "stdout",
          "output_type": "stream",
          "text": [
            "Epoch 1/400\n",
            "174/174 [==============================] - 14s 35ms/step - loss: 2.3816 - val_loss: 2.2887\n",
            "Epoch 2/400\n",
            "174/174 [==============================] - 6s 32ms/step - loss: 2.3744 - val_loss: 2.2828\n",
            "Epoch 3/400\n",
            "174/174 [==============================] - 6s 33ms/step - loss: 2.3843 - val_loss: 2.2778\n",
            "Epoch 4/400\n",
            "174/174 [==============================] - 6s 32ms/step - loss: 2.3841 - val_loss: 2.2783\n",
            "Epoch 5/400\n",
            "174/174 [==============================] - 6s 32ms/step - loss: 2.3804 - val_loss: 2.2674\n",
            "Epoch 6/400\n",
            "174/174 [==============================] - 6s 32ms/step - loss: 2.3801 - val_loss: 2.2746\n",
            "Epoch 7/400\n",
            "174/174 [==============================] - 6s 32ms/step - loss: 2.3820 - val_loss: 2.2777\n",
            "Epoch 8/400\n",
            "174/174 [==============================] - 5s 31ms/step - loss: 2.3693 - val_loss: 2.2807\n",
            "Epoch 9/400\n",
            "174/174 [==============================] - 5s 31ms/step - loss: 2.3807 - val_loss: 2.2770\n",
            "Epoch 10/400\n",
            "174/174 [==============================] - 5s 31ms/step - loss: 2.3672 - val_loss: 2.2768\n",
            "Epoch 11/400\n",
            "174/174 [==============================] - 5s 31ms/step - loss: 2.3785 - val_loss: 2.2822\n",
            "Epoch 12/400\n",
            "174/174 [==============================] - 5s 31ms/step - loss: 2.3684 - val_loss: 2.2686\n",
            "Epoch 13/400\n",
            "174/174 [==============================] - 5s 32ms/step - loss: 2.3632 - val_loss: 2.2759\n",
            "Epoch 14/400\n",
            "174/174 [==============================] - 5s 31ms/step - loss: 2.3829 - val_loss: 2.2735\n",
            "Epoch 15/400\n",
            "174/174 [==============================] - 7s 42ms/step - loss: 2.3701 - val_loss: 2.2820\n",
            "Epoch 16/400\n",
            "174/174 [==============================] - 5s 31ms/step - loss: 2.3603 - val_loss: 2.2691\n",
            "Epoch 17/400\n",
            "174/174 [==============================] - 5s 31ms/step - loss: 2.3609 - val_loss: 2.2722\n",
            "Epoch 18/400\n",
            "174/174 [==============================] - 5s 32ms/step - loss: 2.3702 - val_loss: 2.2733\n",
            "Epoch 19/400\n",
            "174/174 [==============================] - 6s 32ms/step - loss: 2.3627 - val_loss: 2.2796\n",
            "Epoch 20/400\n",
            "174/174 [==============================] - 6s 32ms/step - loss: 2.3696 - val_loss: 2.2751\n",
            "Epoch 21/400\n",
            "174/174 [==============================] - 6s 32ms/step - loss: 2.3655 - val_loss: 2.2672\n",
            "Epoch 22/400\n",
            "174/174 [==============================] - 6s 32ms/step - loss: 2.3609 - val_loss: 2.2770\n",
            "Epoch 23/400\n",
            "174/174 [==============================] - 6s 32ms/step - loss: 2.3665 - val_loss: 2.2691\n",
            "Epoch 24/400\n",
            "174/174 [==============================] - 5s 31ms/step - loss: 2.3613 - val_loss: 2.2720\n",
            "Epoch 25/400\n",
            "174/174 [==============================] - 6s 32ms/step - loss: 2.3693 - val_loss: 2.2747\n",
            "Epoch 26/400\n",
            "174/174 [==============================] - 6s 32ms/step - loss: 2.3664 - val_loss: 2.2752\n",
            "Epoch 27/400\n",
            "174/174 [==============================] - 6s 32ms/step - loss: 2.3636 - val_loss: 2.2660\n",
            "Epoch 28/400\n",
            "174/174 [==============================] - 5s 31ms/step - loss: 2.3679 - val_loss: 2.2726\n",
            "Epoch 29/400\n",
            "174/174 [==============================] - 5s 31ms/step - loss: 2.3701 - val_loss: 2.2837\n",
            "Epoch 30/400\n",
            "174/174 [==============================] - 5s 31ms/step - loss: 2.3624 - val_loss: 2.2692\n",
            "Epoch 31/400\n",
            "174/174 [==============================] - 5s 31ms/step - loss: 2.3662 - val_loss: 2.2735\n",
            "Epoch 32/400\n",
            "174/174 [==============================] - 5s 31ms/step - loss: 2.3595 - val_loss: 2.2705\n",
            "Epoch 33/400\n",
            "174/174 [==============================] - 5s 32ms/step - loss: 2.3657 - val_loss: 2.2799\n",
            "Epoch 34/400\n",
            "174/174 [==============================] - 5s 32ms/step - loss: 2.3651 - val_loss: 2.2776\n",
            "Epoch 35/400\n",
            "174/174 [==============================] - 5s 31ms/step - loss: 2.3677 - val_loss: 2.2855\n",
            "Epoch 36/400\n",
            "174/174 [==============================] - 5s 32ms/step - loss: 2.3698 - val_loss: 2.2764\n",
            "Epoch 37/400\n",
            "174/174 [==============================] - 7s 43ms/step - loss: 2.3528 - val_loss: 2.2731\n",
            "Epoch 38/400\n",
            "174/174 [==============================] - 5s 31ms/step - loss: 2.3606 - val_loss: 2.2775\n",
            "Epoch 39/400\n",
            "174/174 [==============================] - 6s 33ms/step - loss: 2.3588 - val_loss: 2.2729\n",
            "Epoch 40/400\n",
            "174/174 [==============================] - 6s 32ms/step - loss: 2.3490 - val_loss: 2.2783\n",
            "Epoch 41/400\n",
            "174/174 [==============================] - 5s 31ms/step - loss: 2.3589 - val_loss: 2.2735\n",
            "Epoch 42/400\n",
            "174/174 [==============================] - 6s 32ms/step - loss: 2.3569 - val_loss: 2.2785\n",
            "Epoch 43/400\n",
            "174/174 [==============================] - 6s 33ms/step - loss: 2.3615 - val_loss: 2.2699\n",
            "Epoch 44/400\n",
            "174/174 [==============================] - 5s 31ms/step - loss: 2.3491 - val_loss: 2.2662\n",
            "Epoch 45/400\n",
            "174/174 [==============================] - 5s 31ms/step - loss: 2.3641 - val_loss: 2.2717\n",
            "Epoch 46/400\n",
            "174/174 [==============================] - 5s 31ms/step - loss: 2.3624 - val_loss: 2.2677\n",
            "Epoch 47/400\n",
            "174/174 [==============================] - 5s 31ms/step - loss: 2.3505 - val_loss: 2.2676\n",
            "Epoch 00047: early stopping\n"
          ]
        }
      ],
      "source": [
        "model_1.compile(loss=root_mean_squared_error, optimizer='adam')\n",
        "# Training sẽ dừng khi \"val_loss\" không giảm (mode='min') sau 10 epochs(patience=10)\n",
        "earlyStop=EarlyStopping(monitor=\"val_loss\",verbose=2,mode='min',patience=20)\n",
        "losses_3 = model_1.fit(X_tr_t, y_train, validation_data=(X_vl_t, y_val), batch_size=256, epochs=400, callbacks=[earlyStop])"
      ]
    },
    {
      "cell_type": "markdown",
      "metadata": {
        "id": "-XrmKhB_DNGF"
      },
      "source": [
        "#### Loss graph"
      ]
    },
    {
      "cell_type": "code",
      "execution_count": null,
      "metadata": {
        "colab": {
          "base_uri": "https://localhost:8080/",
          "height": 282
        },
        "id": "puDPfuIGDNyn",
        "outputId": "131bc484-1dcb-4f68-fbf8-3f24384717bb"
      },
      "outputs": [
        {
          "data": {
            "text/plain": [
              "<matplotlib.axes._subplots.AxesSubplot at 0x7f5a047d9790>"
            ]
          },
          "execution_count": 53,
          "metadata": {},
          "output_type": "execute_result"
        },
        {
          "data": {
            "image/png": "[encoded data removed]",
            "text/plain": [
              "<Figure size 432x288 with 1 Axes>"
            ]
          },
          "metadata": {
            "needs_background": "light"
          },
          "output_type": "display_data"
        }
      ],
      "source": [
        "loss_df_3 = pd.DataFrame(losses_3.history)\n",
        "loss_df_3.loc[:,['loss','val_loss']].plot(color = ['darkorange','midnightblue'])"
      ]
    },
    {
      "cell_type": "markdown",
      "metadata": {
        "id": "2vBH2vPCDTJo"
      },
      "source": [
        "#### Loss values"
      ]
    },
    {
      "cell_type": "code",
      "execution_count": null,
      "metadata": {
        "colab": {
          "base_uri": "https://localhost:8080/"
        },
        "id": "qew1ySIHDTg2",
        "outputId": "ca0f644e-45a7-45f8-cba2-b3987a0d375b"
      },
      "outputs": [
        {
          "name": "stdout",
          "output_type": "stream",
          "text": [
            "19797/19797 [==============================] - 71s 4ms/step - loss: 1.5182\n"
          ]
        }
      ],
      "source": [
        "score_rmse = model_1.evaluate(X_tst_t, y_test, batch_size=1)\n",
        "y_pred_lstm_3 = model_1.predict(X_tst_t)"
      ]
    },
    {
      "cell_type": "code",
      "execution_count": null,
      "metadata": {
        "id": "YPrn_WIkD8ZV"
      },
      "outputs": [],
      "source": [
        "compa_k_rmse.append(score_rmse)"
      ]
    },
    {
      "cell_type": "code",
      "execution_count": null,
      "metadata": {
        "colab": {
          "base_uri": "https://localhost:8080/"
        },
        "id": "Y9VnpS1ZD8J2",
        "outputId": "fe429dc5-9d7c-41b1-c925-5a097dab6e94"
      },
      "outputs": [
        {
          "name": "stdout",
          "output_type": "stream",
          "text": [
            "rmse: 1.518212\n"
          ]
        }
      ],
      "source": [
        "print('rmse: %f'%score_rmse)"
      ]
    },
    {
      "cell_type": "code",
      "execution_count": null,
      "metadata": {
        "colab": {
          "base_uri": "https://localhost:8080/"
        },
        "id": "y2c_8Dc2D8Bw",
        "outputId": "05129674-5b11-400a-e1a9-3642d6f450e6"
      },
      "outputs": [
        {
          "name": "stdout",
          "output_type": "stream",
          "text": [
            "predicted response:\n",
            "[[6.81785822e+09]\n",
            " [3.22021723e+09]\n",
            " [4.66333437e+09]\n",
            " [1.68142009e+09]\n",
            " [2.52565384e+09]\n",
            " [6.02213907e+09]\n",
            " [2.83750916e+09]\n",
            " [3.71054721e+09]\n",
            " [7.37552261e+09]\n",
            " [5.52058220e+09]]\n",
            "actual:\n",
            "67254    7.800000e+09\n",
            "33028    1.790000e+09\n",
            "12304    5.200000e+09\n",
            "71296    1.305000e+09\n",
            "48795    1.389000e+09\n",
            "20723    4.800000e+09\n",
            "4271     2.000000e+09\n",
            "44233    3.330000e+09\n",
            "22704    8.250000e+09\n",
            "5264     6.500000e+09\n",
            "Name: price, dtype: float64\n"
          ]
        }
      ],
      "source": [
        "print(f\"predicted response:\\n{y_pred_lstm_3[:10]*one_billion}\")\n",
        "print(f\"actual:\\n{y_test.iloc[0:10]*one_billion}\")"
      ]
    },
    {
      "cell_type": "code",
      "execution_count": null,
      "metadata": {
        "colab": {
          "base_uri": "https://localhost:8080/"
        },
        "id": "LHIH6p46D75N",
        "outputId": "239946e0-85f7-46ab-86e8-30aa8eb797e7"
      },
      "outputs": [
        {
          "name": "stdout",
          "output_type": "stream",
          "text": [
            "The number of negative prediction:  0\n",
            "Percent correct prediction:  50.002525635197244\n"
          ]
        }
      ],
      "source": [
        "error, negative_integer = find_prediction_error_value(y_test, y_pred_lstm_3)\n",
        "print(\"The number of negative prediction: \", len(negative_integer))\n",
        "print(\"Percent correct prediction: \", (len(y_test) - len(error))/len(y_test)*100)"
      ]
    },
    {
      "cell_type": "markdown",
      "metadata": {
        "id": "HdPLnhjMDEbV"
      },
      "source": [
        "### R2"
      ]
    },
    {
      "cell_type": "code",
      "execution_count": null,
      "metadata": {
        "colab": {
          "base_uri": "https://localhost:8080/"
        },
        "id": "GfAAY1WiDGIV",
        "outputId": "7ea21cb6-fcf2-468a-de98-e5c84c1f0769"
      },
      "outputs": [
        {
          "name": "stdout",
          "output_type": "stream",
          "text": [
            "Epoch 1/400\n",
            "174/174 [==============================] - 14s 36ms/step - loss: 5.6199 - val_loss: 5.1940\n",
            "Epoch 2/400\n",
            "174/174 [==============================] - 5s 31ms/step - loss: 5.5405 - val_loss: 5.1650\n",
            "Epoch 3/400\n",
            "174/174 [==============================] - 6s 32ms/step - loss: 5.5905 - val_loss: 5.1778\n",
            "Epoch 4/400\n",
            "174/174 [==============================] - 6s 33ms/step - loss: 5.5712 - val_loss: 5.2601\n",
            "Epoch 5/400\n",
            "174/174 [==============================] - 5s 31ms/step - loss: 5.5897 - val_loss: 5.2040\n",
            "Epoch 6/400\n",
            "174/174 [==============================] - 8s 44ms/step - loss: 5.5185 - val_loss: 5.2424\n",
            "Epoch 7/400\n",
            "174/174 [==============================] - 6s 32ms/step - loss: 5.5494 - val_loss: 5.2428\n",
            "Epoch 8/400\n",
            "174/174 [==============================] - 6s 33ms/step - loss: 5.6042 - val_loss: 5.1437\n",
            "Epoch 9/400\n",
            "174/174 [==============================] - 5s 31ms/step - loss: 5.5530 - val_loss: 5.2488\n",
            "Epoch 10/400\n",
            "174/174 [==============================] - 6s 32ms/step - loss: 5.5646 - val_loss: 5.1613\n",
            "Epoch 11/400\n",
            "174/174 [==============================] - 5s 31ms/step - loss: 5.5644 - val_loss: 5.1908\n",
            "Epoch 12/400\n",
            "174/174 [==============================] - 6s 32ms/step - loss: 5.5564 - val_loss: 5.2686\n",
            "Epoch 13/400\n",
            "174/174 [==============================] - 5s 32ms/step - loss: 5.5511 - val_loss: 5.2095\n",
            "Epoch 14/400\n",
            "174/174 [==============================] - 5s 31ms/step - loss: 5.5797 - val_loss: 5.1631\n",
            "Epoch 15/400\n",
            "174/174 [==============================] - 5s 31ms/step - loss: 5.5392 - val_loss: 5.1656\n",
            "Epoch 16/400\n",
            "174/174 [==============================] - 5s 31ms/step - loss: 5.5569 - val_loss: 5.2271\n",
            "Epoch 17/400\n",
            "174/174 [==============================] - 6s 32ms/step - loss: 5.5319 - val_loss: 5.1739\n",
            "Epoch 18/400\n",
            "174/174 [==============================] - 6s 32ms/step - loss: 5.5571 - val_loss: 5.1948\n",
            "Epoch 19/400\n",
            "174/174 [==============================] - 5s 31ms/step - loss: 5.5544 - val_loss: 5.1460\n",
            "Epoch 20/400\n",
            "174/174 [==============================] - 5s 31ms/step - loss: 5.5294 - val_loss: 5.2455\n",
            "Epoch 21/400\n",
            "174/174 [==============================] - 5s 31ms/step - loss: 5.5428 - val_loss: 5.1837\n",
            "Epoch 22/400\n",
            "174/174 [==============================] - 6s 32ms/step - loss: 5.5300 - val_loss: 5.1715\n",
            "Epoch 23/400\n",
            "174/174 [==============================] - 5s 31ms/step - loss: 5.5679 - val_loss: 5.1852\n",
            "Epoch 24/400\n",
            "174/174 [==============================] - 6s 32ms/step - loss: 5.5175 - val_loss: 5.1657\n",
            "Epoch 25/400\n",
            "174/174 [==============================] - 5s 31ms/step - loss: 5.5623 - val_loss: 5.2336\n",
            "Epoch 26/400\n",
            "174/174 [==============================] - 5s 31ms/step - loss: 5.5330 - val_loss: 5.1847\n",
            "Epoch 27/400\n",
            "174/174 [==============================] - 6s 32ms/step - loss: 5.5310 - val_loss: 5.1843\n",
            "Epoch 28/400\n",
            "174/174 [==============================] - 8s 44ms/step - loss: 5.5364 - val_loss: 5.1926\n",
            "Epoch 00028: early stopping\n"
          ]
        }
      ],
      "source": [
        "model_1.compile(loss='mean_squared_error', optimizer='adam')\n",
        "# Training sẽ dừng khi \"val_loss\" không giảm (mode='min') sau 10 epochs(patience=10)\n",
        "earlyStop=EarlyStopping(monitor=\"val_loss\",verbose=2,mode='min',patience=20)\n",
        "losses_5 = model_1.fit(X_tr_t, y_train, validation_data=(X_vl_t, y_val), batch_size=256, epochs=400, callbacks=[earlyStop])"
      ]
    },
    {
      "cell_type": "markdown",
      "metadata": {
        "id": "ZvSIaa97DGdW"
      },
      "source": [
        "#### r2 values"
      ]
    },
    {
      "cell_type": "code",
      "execution_count": null,
      "metadata": {
        "id": "BIYEgMiJDI0H"
      },
      "outputs": [],
      "source": [
        "y_pred_lstm_5 = model_1.predict(X_tst_t)\n",
        "score_r2 = r2_score(y_test, y_pred_lstm_5)"
      ]
    },
    {
      "cell_type": "code",
      "execution_count": null,
      "metadata": {
        "id": "A3k7QP6yENPX"
      },
      "outputs": [],
      "source": [
        "compa_k_r2.append(score_r2)"
      ]
    },
    {
      "cell_type": "code",
      "execution_count": null,
      "metadata": {
        "colab": {
          "base_uri": "https://localhost:8080/"
        },
        "id": "K209Iwh3EOf-",
        "outputId": "52d3dbea-399e-4a3b-a944-03c48d3a3e19"
      },
      "outputs": [
        {
          "name": "stdout",
          "output_type": "stream",
          "text": [
            "r2: 0.631516\n"
          ]
        }
      ],
      "source": [
        "print('r2: %f'%score_r2)"
      ]
    },
    {
      "cell_type": "markdown",
      "metadata": {
        "id": "zkeawWyYPjqu"
      },
      "source": [
        "## Linear regression"
      ]
    },
    {
      "cell_type": "code",
      "execution_count": null,
      "metadata": {
        "id": "YWOaiMSYmdGm"
      },
      "outputs": [],
      "source": [
        "model_2 = LinearRegression()"
      ]
    },
    {
      "cell_type": "markdown",
      "metadata": {
        "id": "m1SOsPPDnkcM"
      },
      "source": [
        "### K-Fold"
      ]
    },
    {
      "cell_type": "code",
      "execution_count": null,
      "metadata": {
        "id": "MppLu4L2P3vH"
      },
      "outputs": [],
      "source": [
        "scores_2_mse = mean(absolute(cross_val_score(model_2, X, y, scoring='neg_mean_squared_error', cv=cv, n_jobs=-1)))\n",
        "scores_2_mae = mean(absolute(cross_val_score(model_2, X, y, scoring='neg_mean_absolute_error', cv=cv, n_jobs=-1)))\n",
        "scores_2_rmse = sqrt(mean(absolute(scores_2_mse)))\n",
        "scores_2_r2 = mean(absolute(cross_val_score(model_2, X, y, scoring='r2', cv=cv, n_jobs=-1)))"
      ]
    },
    {
      "cell_type": "code",
      "execution_count": null,
      "metadata": {
        "colab": {
          "base_uri": "https://localhost:8080/"
        },
        "id": "4VaQ8xV0QVLO",
        "outputId": "e59dcbd9-26a0-4f02-bc02-348592b145ea"
      },
      "outputs": [
        {
          "data": {
            "text/plain": [
              "LinearRegression()"
            ]
          },
          "execution_count": 30,
          "metadata": {},
          "output_type": "execute_result"
        }
      ],
      "source": [
        "model_2.fit(X_train, y_train)"
      ]
    },
    {
      "cell_type": "code",
      "execution_count": null,
      "metadata": {
        "colab": {
          "base_uri": "https://localhost:8080/"
        },
        "id": "R6AzHQAUQgoP",
        "outputId": "b3c59cbc-4f61-4c93-ed0a-046e88dda1ae"
      },
      "outputs": [
        {
          "name": "stdout",
          "output_type": "stream",
          "text": [
            "0.4828249777025295\n",
            "[-4.68957703  1.87653524  7.26309929  0.17207429 -2.226531   -2.46665112\n",
            "  2.75619475  1.84672596  4.35494357 -1.69426477  0.14858812]\n",
            "1.6917379850203589\n"
          ]
        }
      ],
      "source": [
        "y_pred_2 = model_2.predict(X_test)\n",
        "# Sai số huấn luyện của mô hình trên tập train\n",
        "print(model_2.score(X_train, y_train))\n",
        "# Hệ số hồi qui và hệ số chặn\n",
        "print(model_2.coef_)\n",
        "print(model_2.intercept_)"
      ]
    },
    {
      "cell_type": "code",
      "execution_count": null,
      "metadata": {
        "colab": {
          "base_uri": "https://localhost:8080/"
        },
        "id": "pPJKhj2rLsWG",
        "outputId": "c85da270-fb7d-4973-d335-54cc306ed93a"
      },
      "outputs": [
        {
          "name": "stdout",
          "output_type": "stream",
          "text": [
            "predicted response:\n",
            "[6.71593038e+09 3.01776409e+09 4.27223146e+09 5.17990924e+09\n",
            " 3.87821369e+09 5.41367374e+09 2.66030794e+09 4.93497214e+09\n",
            " 9.18849966e+09 5.34673460e+09]\n",
            "actual:\n",
            "67254    7.800000e+09\n",
            "33028    1.790000e+09\n",
            "12304    5.200000e+09\n",
            "71296    1.305000e+09\n",
            "48795    1.389000e+09\n",
            "20723    4.800000e+09\n",
            "4271     2.000000e+09\n",
            "44233    3.330000e+09\n",
            "22704    8.250000e+09\n",
            "5264     6.500000e+09\n",
            "Name: price, dtype: float64\n"
          ]
        }
      ],
      "source": [
        "print(f\"predicted response:\\n{y_pred_2[:10]*one_billion}\")\n",
        "print(f\"actual:\\n{y_test.iloc[0:10]*one_billion}\")"
      ]
    },
    {
      "cell_type": "markdown",
      "metadata": {
        "id": "JX8v2HwXntjd"
      },
      "source": [
        "### Loss values"
      ]
    },
    {
      "cell_type": "code",
      "execution_count": null,
      "metadata": {
        "id": "jOVzmGlTo83E"
      },
      "outputs": [],
      "source": [
        "compa_n_mse.append(mean_squared_error(y_test, y_pred_2))\n",
        "compa_n_mae.append(mean_absolute_error(y_test, y_pred_2))\n",
        "compa_n_rmse.append(sqrt(mean_squared_error(y_test, y_pred_2)))\n",
        "compa_n_r2.append(r2_score(y_test, y_pred_2))\n",
        "compa_k_mse.append(scores_2_mse)\n",
        "compa_k_mae.append(scores_2_mae)\n",
        "compa_k_rmse.append(scores_2_rmse)\n",
        "compa_k_r2.append(scores_2_r2)"
      ]
    },
    {
      "cell_type": "code",
      "execution_count": null,
      "metadata": {
        "colab": {
          "base_uri": "https://localhost:8080/"
        },
        "id": "l6JhAYbZURB5",
        "outputId": "944ab3ef-6889-421b-9f1b-5a5a988455ef"
      },
      "outputs": [
        {
          "name": "stdout",
          "output_type": "stream",
          "text": [
            "mse:\n",
            "7.113620772212428\n",
            "mse (K-fold):\n",
            "7.088315285993592\n",
            "mae:\n",
            "1.9273172948634343\n",
            "mae (K-fold):\n",
            "1.9286116378292075\n",
            "rmse:\n",
            "2.6671371866127225\n",
            "rmse (K-fold):\n",
            "2.6623890185308365\n",
            "r2:\n",
            "0.47700478986299555\n",
            "r2 (K-fold):\n",
            "0.481330440304352\n"
          ]
        }
      ],
      "source": [
        "print(f\"mse:\\n{mean_squared_error(y_test, y_pred_2)}\")\n",
        "print(f\"mse (K-fold):\\n{scores_2_mse}\")\n",
        "print(f\"mae:\\n{mean_absolute_error(y_test, y_pred_2)}\")\n",
        "print(f\"mae (K-fold):\\n{scores_2_mae}\")\n",
        "print(f\"rmse:\\n{sqrt(mean_squared_error(y_test, y_pred_2))}\")\n",
        "print(f\"rmse (K-fold):\\n{scores_2_rmse}\")\n",
        "print(f\"r2:\\n{r2_score(y_test, y_pred_2)}\")\n",
        "print(f\"r2 (K-fold):\\n{scores_2_r2}\")"
      ]
    },
    {
      "cell_type": "code",
      "execution_count": null,
      "metadata": {
        "colab": {
          "base_uri": "https://localhost:8080/"
        },
        "id": "v3pUOyZjGLWT",
        "outputId": "e1af3272-97cf-4f96-a9fb-d9ac57128fb9"
      },
      "outputs": [
        {
          "name": "stdout",
          "output_type": "stream",
          "text": [
            "The number of negative prediction:  139\n",
            "Percent correct prediction:  37.429913623276256\n"
          ]
        }
      ],
      "source": [
        "error, negative_integer = find_prediction_error_value(y_test, y_pred_2)\n",
        "print(\"The number of negative prediction: \", len(negative_integer))\n",
        "print(\"Percent correct prediction: \", (len(y_test) - len(error))/len(y_test)*100)"
      ]
    },
    {
      "cell_type": "markdown",
      "metadata": {
        "id": "Ll4ms_65Zjse"
      },
      "source": [
        "## Ridge regression"
      ]
    },
    {
      "cell_type": "code",
      "execution_count": null,
      "metadata": {
        "id": "AfpCs0wmmbJu"
      },
      "outputs": [],
      "source": [
        "model_3 = Ridge(alpha = 0.3,  tol = 0.003, solver ='auto', random_state = 42)"
      ]
    },
    {
      "cell_type": "markdown",
      "metadata": {
        "id": "6iUa5Qb9nnW2"
      },
      "source": [
        "### K-Fold"
      ]
    },
    {
      "cell_type": "code",
      "execution_count": null,
      "metadata": {
        "id": "repTWqq1mZGe"
      },
      "outputs": [],
      "source": [
        "scores_3_mse = mean(absolute(cross_val_score(model_3, X, y, scoring='neg_mean_squared_error', cv=cv, n_jobs=-1)))\n",
        "scores_3_mae = mean(absolute(cross_val_score(model_3, X, y, scoring='neg_mean_absolute_error', cv=cv, n_jobs=-1)))\n",
        "scores_3_rmse = sqrt(mean(absolute(scores_3_mse)))\n",
        "scores_3_r2 = mean(absolute(cross_val_score(model_3, X, y, scoring='r2', cv=cv, n_jobs=-1)))"
      ]
    },
    {
      "cell_type": "code",
      "execution_count": null,
      "metadata": {
        "colab": {
          "base_uri": "https://localhost:8080/"
        },
        "id": "fN-fQcXgarxx",
        "outputId": "a26f5d65-832b-47ca-d668-d3edad69c541"
      },
      "outputs": [
        {
          "name": "stdout",
          "output_type": "stream",
          "text": [
            "0.4828234073125406\n",
            "[-3.88377918  1.87558257  7.25842563  0.17388518 -2.2259155  -2.46632077\n",
            "  2.7556802   1.84837195  4.35337205 -1.69444396  0.14871563]\n",
            "1.6928391184662992\n"
          ]
        }
      ],
      "source": [
        "# training model with alpha = 0.5\n",
        "\n",
        "model_3.fit(X_train, y_train)\n",
        "\n",
        "y_pred_3 = model_3.predict(X_test)\n",
        "\n",
        "# Sai số huấn luyện của mô hình trên tập train\n",
        "print(model_3.score(X_train, y_train))\n",
        "# Hệ số hồi qui và hệ số chặn\n",
        "print(model_3.coef_)\n",
        "print(model_3.intercept_)"
      ]
    },
    {
      "cell_type": "markdown",
      "metadata": {
        "id": "41s9h3s0n1QR"
      },
      "source": [
        "### Loss values"
      ]
    },
    {
      "cell_type": "code",
      "execution_count": null,
      "metadata": {
        "id": "Q3WkSsGcpUCJ"
      },
      "outputs": [],
      "source": [
        "compa_n_mse.append(mean_squared_error(y_test, y_pred_3))\n",
        "compa_n_mae.append(mean_absolute_error(y_test, y_pred_3))\n",
        "compa_n_rmse.append(sqrt(mean_squared_error(y_test, y_pred_3)))\n",
        "compa_n_r2.append(r2_score(y_test, y_pred_3))\n",
        "compa_k_mse.append(scores_3_mse)\n",
        "compa_k_mae.append(scores_3_mae)\n",
        "compa_k_rmse.append(scores_3_rmse)\n",
        "compa_k_r2.append(scores_3_r2)"
      ]
    },
    {
      "cell_type": "code",
      "execution_count": null,
      "metadata": {
        "colab": {
          "base_uri": "https://localhost:8080/"
        },
        "id": "bXoTj19QLeYX",
        "outputId": "44e5b4b9-951c-46df-e987-848891bc922c"
      },
      "outputs": [
        {
          "name": "stdout",
          "output_type": "stream",
          "text": [
            "mse:\n",
            "7.11357205728049\n",
            "mse (K-fold):\n",
            "7.088177173349865\n",
            "mae:\n",
            "1.9272794570433989\n",
            "mae (K-fold):\n",
            "1.9285600961066414\n",
            "rmse:\n",
            "2.667128054158722\n",
            "rmse (K-fold):\n",
            "2.662363080676613\n",
            "r2:\n",
            "0.4770083713971933\n",
            "r2 (K-fold):\n",
            "0.4813402532655101\n"
          ]
        }
      ],
      "source": [
        "print(f\"mse:\\n{mean_squared_error(y_test, y_pred_3)}\")\n",
        "print(f\"mse (K-fold):\\n{scores_3_mse}\")\n",
        "print(f\"mae:\\n{mean_absolute_error(y_test, y_pred_3)}\")\n",
        "print(f\"mae (K-fold):\\n{scores_3_mae}\")\n",
        "print(f\"rmse:\\n{sqrt(mean_squared_error(y_test, y_pred_3))}\")\n",
        "print(f\"rmse (K-fold):\\n{scores_3_rmse}\")\n",
        "print(f\"r2:\\n{r2_score(y_test, y_pred_3)}\")\n",
        "print(f\"r2 (K-fold):\\n{scores_3_r2}\")"
      ]
    },
    {
      "cell_type": "code",
      "execution_count": null,
      "metadata": {
        "colab": {
          "base_uri": "https://localhost:8080/"
        },
        "id": "wbXOK9FdLf8F",
        "outputId": "c765cdce-af5e-4173-873b-81fc660f8883"
      },
      "outputs": [
        {
          "name": "stdout",
          "output_type": "stream",
          "text": [
            "predicted response:\n",
            "[6.71537647e+09 3.01803831e+09 4.27258858e+09 5.18009472e+09\n",
            " 3.87865772e+09 5.41301398e+09 2.66076636e+09 4.93480970e+09\n",
            " 9.18850746e+09 5.34555824e+09]\n",
            "actual:\n",
            "67254    7.800000e+09\n",
            "33028    1.790000e+09\n",
            "12304    5.200000e+09\n",
            "71296    1.305000e+09\n",
            "48795    1.389000e+09\n",
            "20723    4.800000e+09\n",
            "4271     2.000000e+09\n",
            "44233    3.330000e+09\n",
            "22704    8.250000e+09\n",
            "5264     6.500000e+09\n",
            "Name: price, dtype: float64\n"
          ]
        }
      ],
      "source": [
        "print(f\"predicted response:\\n{y_pred_3[:10]*one_billion}\")\n",
        "print(f\"actual:\\n{y_test.iloc[0:10]*one_billion}\")"
      ]
    },
    {
      "cell_type": "code",
      "execution_count": null,
      "metadata": {
        "colab": {
          "base_uri": "https://localhost:8080/"
        },
        "id": "dH05dZ4IGa4s",
        "outputId": "1dbe01ba-ca10-4145-c987-295cc6a18df5"
      },
      "outputs": [
        {
          "name": "stdout",
          "output_type": "stream",
          "text": [
            "The number of negative prediction:  139\n",
            "Percent correct prediction:  37.45011870485427\n"
          ]
        }
      ],
      "source": [
        "error, negative_integer = find_prediction_error_value(y_test, y_pred_3)\n",
        "print(\"The number of negative prediction: \", len(negative_integer))\n",
        "print(\"Percent correct prediction: \", (len(y_test) - len(error))/len(y_test)*100)"
      ]
    },
    {
      "cell_type": "markdown",
      "metadata": {
        "id": "STNiOQ_aZr4z"
      },
      "source": [
        "## Lasso regression"
      ]
    },
    {
      "cell_type": "code",
      "execution_count": null,
      "metadata": {
        "id": "kekkdEzKmn39"
      },
      "outputs": [],
      "source": [
        "model_4 = Lasso(alpha=0.3)"
      ]
    },
    {
      "cell_type": "markdown",
      "metadata": {
        "id": "Le0I6CEtnoH0"
      },
      "source": [
        "### K-Fold"
      ]
    },
    {
      "cell_type": "code",
      "execution_count": null,
      "metadata": {
        "id": "Udf-NkmZmoKE"
      },
      "outputs": [],
      "source": [
        "scores_4_mse = mean(absolute(cross_val_score(model_4, X, y, scoring='neg_mean_squared_error', cv=cv, n_jobs=-1)))\n",
        "scores_4_mae = mean(absolute(cross_val_score(model_4, X, y, scoring='neg_mean_absolute_error', cv=cv, n_jobs=-1)))\n",
        "scores_4_rmse = sqrt(mean(absolute(scores_4_mse)))\n",
        "scores_4_r2 = mean(absolute(cross_val_score(model_4, X, y, scoring='r2', cv=cv, n_jobs=-1)))"
      ]
    },
    {
      "cell_type": "code",
      "execution_count": null,
      "metadata": {
        "colab": {
          "base_uri": "https://localhost:8080/"
        },
        "id": "U9trXrblTSMB",
        "outputId": "cb1a14cd-d3fc-4f46-9356-b4fee2882bf0"
      },
      "outputs": [
        {
          "name": "stdout",
          "output_type": "stream",
          "text": [
            "0.1157771513992707\n",
            "[ 0.          0.          0.          0.         -0.         -0.\n",
            "  0.80614082  0.          1.47798459 -0.          0.        ]\n",
            "4.682459817394747\n"
          ]
        }
      ],
      "source": [
        "model_4.fit(X_train, y_train)\n",
        "\n",
        "y_pred_4 = model_4.predict(X_test)\n",
        "\n",
        "# Sai số huấn luyện của mô hình trên tập train\n",
        "print(model_4.score(X_train, y_train))\n",
        "# Hệ số hồi qui và hệ số chặn\n",
        "print(model_4.coef_)\n",
        "print(model_4.intercept_)"
      ]
    },
    {
      "cell_type": "markdown",
      "metadata": {
        "id": "KPs4GsRxn2zV"
      },
      "source": [
        "### Loss values"
      ]
    },
    {
      "cell_type": "code",
      "execution_count": null,
      "metadata": {
        "id": "_bcxAfzipUwb"
      },
      "outputs": [],
      "source": [
        "compa_n_mse.append(mean_squared_error(y_test, y_pred_4))\n",
        "compa_n_mae.append(mean_absolute_error(y_test, y_pred_4))\n",
        "compa_n_rmse.append(sqrt(mean_squared_error(y_test, y_pred_4)))\n",
        "compa_n_r2.append(r2_score(y_test, y_pred_4))\n",
        "compa_k_mse.append(scores_4_mse)\n",
        "compa_k_mae.append(scores_4_mae)\n",
        "compa_k_rmse.append(scores_4_rmse)\n",
        "compa_k_r2.append(scores_4_r2)"
      ]
    },
    {
      "cell_type": "code",
      "execution_count": null,
      "metadata": {
        "colab": {
          "base_uri": "https://localhost:8080/"
        },
        "id": "9UTV448LTYwh",
        "outputId": "403fce5c-7e6d-46ec-f406-63c6ce296424"
      },
      "outputs": [
        {
          "name": "stdout",
          "output_type": "stream",
          "text": [
            "mse:\n",
            "12.053435973776127\n",
            "mse (K-fold):\n",
            "12.08353619192896\n",
            "mae:\n",
            "2.6175090438766513\n",
            "mae (K-fold):\n",
            "2.628983916276441\n",
            "rmse:\n",
            "3.4718058663721574\n",
            "rmse (K-fold):\n",
            "3.476138114622168\n",
            "r2:\n",
            "0.11382831868089827\n",
            "r2 (K-fold):\n",
            "0.11594322894220466\n"
          ]
        }
      ],
      "source": [
        "print(f\"mse:\\n{mean_squared_error(y_test, y_pred_4)}\")\n",
        "print(f\"mse (K-fold):\\n{scores_4_mse}\")\n",
        "print(f\"mae:\\n{mean_absolute_error(y_test, y_pred_4)}\")\n",
        "print(f\"mae (K-fold):\\n{scores_4_mae}\")\n",
        "print(f\"rmse:\\n{sqrt(mean_squared_error(y_test, y_pred_4))}\")\n",
        "print(f\"rmse (K-fold):\\n{scores_4_rmse}\")\n",
        "print(f\"r2:\\n{r2_score(y_test, y_pred_4)}\")\n",
        "print(f\"r2 (K-fold):\\n{scores_4_r2}\")"
      ]
    },
    {
      "cell_type": "code",
      "execution_count": null,
      "metadata": {
        "colab": {
          "base_uri": "https://localhost:8080/"
        },
        "id": "1SbggdA1TYMh",
        "outputId": "22f9fa61-5dfa-4624-8fe6-98064a883791"
      },
      "outputs": [
        {
          "name": "stdout",
          "output_type": "stream",
          "text": [
            "predicted response:\n",
            "[5.95168911e+09 4.79762279e+09 5.21269681e+09 4.79762279e+09\n",
            " 4.79762279e+09 5.22870163e+09 4.79762279e+09 5.33586220e+09\n",
            " 5.83652614e+09 5.10553625e+09]\n",
            "actual:\n",
            "67254    7.800000e+09\n",
            "33028    1.790000e+09\n",
            "12304    5.200000e+09\n",
            "71296    1.305000e+09\n",
            "48795    1.389000e+09\n",
            "20723    4.800000e+09\n",
            "4271     2.000000e+09\n",
            "44233    3.330000e+09\n",
            "22704    8.250000e+09\n",
            "5264     6.500000e+09\n",
            "Name: price, dtype: float64\n"
          ]
        }
      ],
      "source": [
        "print(f\"predicted response:\\n{y_pred_4[:10]*one_billion}\")\n",
        "print(f\"actual:\\n{y_test.iloc[0:10]*one_billion}\")"
      ]
    },
    {
      "cell_type": "code",
      "execution_count": null,
      "metadata": {
        "colab": {
          "base_uri": "https://localhost:8080/"
        },
        "id": "zEzValyZGdDK",
        "outputId": "a121ab2f-a317-43d7-dadd-ce8d4c8a60db"
      },
      "outputs": [
        {
          "name": "stdout",
          "output_type": "stream",
          "text": [
            "The number of negative prediction:  0\n",
            "Percent correct prediction:  25.59478708895287\n"
          ]
        }
      ],
      "source": [
        "error, negative_integer = find_prediction_error_value(y_test, y_pred_4)\n",
        "print(\"The number of negative prediction: \", len(negative_integer))\n",
        "print(\"Percent correct prediction: \", (len(y_test) - len(error))/len(y_test)*100)"
      ]
    },
    {
      "cell_type": "markdown",
      "metadata": {
        "id": "LwpWW0PbZucO"
      },
      "source": [
        "## Polynomial regression"
      ]
    },
    {
      "cell_type": "code",
      "execution_count": null,
      "metadata": {
        "id": "M4843oyLmzdU"
      },
      "outputs": [],
      "source": [
        "model_5 = Pipeline([('poly', PolynomialFeatures(degree=3)),('linear', LinearRegression(fit_intercept=False))])"
      ]
    },
    {
      "cell_type": "markdown",
      "metadata": {
        "id": "Ydrm2elUnpy8"
      },
      "source": [
        "### K-Fold"
      ]
    },
    {
      "cell_type": "code",
      "execution_count": null,
      "metadata": {
        "id": "aCmGBzdNmzDo"
      },
      "outputs": [],
      "source": [
        "scores_5_mse = mean(absolute(cross_val_score(model_5, X, y, scoring='neg_mean_squared_error', cv=cv, n_jobs=-1)))\n",
        "scores_5_mae = mean(absolute(cross_val_score(model_5, X, y, scoring='neg_mean_absolute_error', cv=cv, n_jobs=-1)))\n",
        "scores_5_rmse = sqrt(mean(absolute(scores_5_mse)))\n",
        "scores_5_r2 = mean(absolute(cross_val_score(model_5, X, y, scoring='r2', cv=cv, n_jobs=-1)))"
      ]
    },
    {
      "cell_type": "code",
      "execution_count": null,
      "metadata": {
        "colab": {
          "base_uri": "https://localhost:8080/"
        },
        "id": "_jSPCWunWGLv",
        "outputId": "045aacc2-1c81-4233-f461-888820a6a9fc"
      },
      "outputs": [
        {
          "name": "stdout",
          "output_type": "stream",
          "text": [
            "0.608905296030875\n"
          ]
        }
      ],
      "source": [
        "model_5.fit(X_train, y_train)\n",
        "y_pred_5 = model_5.predict(X_test)\n",
        "# Sai số huấn luyện của mô hình trên tập train\n",
        "print(model_5.score(X_train, y_train))"
      ]
    },
    {
      "cell_type": "markdown",
      "metadata": {
        "id": "PXgg3YLBn4Oz"
      },
      "source": [
        "### Loss values"
      ]
    },
    {
      "cell_type": "code",
      "execution_count": null,
      "metadata": {
        "id": "ZwdPGjzLpVai"
      },
      "outputs": [],
      "source": [
        "compa_n_mse.append(mean_squared_error(y_test, y_pred_5))\n",
        "compa_n_mae.append(mean_absolute_error(y_test, y_pred_5))\n",
        "compa_n_rmse.append(sqrt(mean_squared_error(y_test, y_pred_5)))\n",
        "compa_n_r2.append(r2_score(y_test, y_pred_5))\n",
        "compa_k_mse.append(scores_5_mse)\n",
        "compa_k_mae.append(scores_5_mae)\n",
        "compa_k_rmse.append(scores_5_rmse)\n",
        "compa_k_r2.append(scores_5_r2)"
      ]
    },
    {
      "cell_type": "code",
      "execution_count": null,
      "metadata": {
        "colab": {
          "base_uri": "https://localhost:8080/"
        },
        "id": "d6J-YOZXYK14",
        "outputId": "dc1076af-b88f-437b-bdea-99c008c62d15"
      },
      "outputs": [
        {
          "name": "stdout",
          "output_type": "stream",
          "text": [
            "mse:\n",
            "167.72602342688336\n",
            "mse (K-fold):\n",
            "2296571.2979258867\n",
            "mae:\n",
            "1.703356548246263\n",
            "mae (K-fold):\n",
            "9.478917949294296\n",
            "rmse:\n",
            "12.950908208572994\n",
            "rmse (K-fold):\n",
            "1515.4442576109116\n",
            "r2:\n",
            "-11.331259941525527\n",
            "r2 (K-fold):\n",
            "161908.35729446117\n"
          ]
        }
      ],
      "source": [
        "print(f\"mse:\\n{mean_squared_error(y_test, y_pred_5)}\")\n",
        "print(f\"mse (K-fold):\\n{scores_5_mse}\")\n",
        "print(f\"mae:\\n{mean_absolute_error(y_test, y_pred_5)}\")\n",
        "print(f\"mae (K-fold):\\n{scores_5_mae}\")\n",
        "print(f\"rmse:\\n{sqrt(mean_squared_error(y_test, y_pred_5))}\")\n",
        "print(f\"rmse (K-fold):\\n{scores_5_rmse}\")\n",
        "print(f\"r2:\\n{r2_score(y_test, y_pred_5)}\")\n",
        "print(f\"r2 (K-fold):\\n{scores_5_r2}\")"
      ]
    },
    {
      "cell_type": "code",
      "execution_count": null,
      "metadata": {
        "colab": {
          "base_uri": "https://localhost:8080/"
        },
        "id": "XgcAz5XAauzc",
        "outputId": "25162b0b-8eee-4c90-fa3d-071aeb322c77"
      },
      "outputs": [
        {
          "name": "stdout",
          "output_type": "stream",
          "text": [
            "predicted response:\n",
            "[5.92988178e+09 3.81332032e+09 3.47363938e+09 1.78582787e+09\n",
            " 3.03545182e+09 5.78283169e+09 2.57184848e+09 4.45707179e+09\n",
            " 9.75574560e+09 5.92510461e+09]\n",
            "actual:\n",
            "67254    7.800000e+09\n",
            "33028    1.790000e+09\n",
            "12304    5.200000e+09\n",
            "71296    1.305000e+09\n",
            "48795    1.389000e+09\n",
            "20723    4.800000e+09\n",
            "4271     2.000000e+09\n",
            "44233    3.330000e+09\n",
            "22704    8.250000e+09\n",
            "5264     6.500000e+09\n",
            "Name: price, dtype: float64\n"
          ]
        }
      ],
      "source": [
        "print(f\"predicted response:\\n{y_pred_5[:10]*one_billion}\")\n",
        "print(f\"actual:\\n{y_test.iloc[0:10]*one_billion}\")"
      ]
    },
    {
      "cell_type": "code",
      "execution_count": null,
      "metadata": {
        "colab": {
          "base_uri": "https://localhost:8080/"
        },
        "id": "qdoEEU6HGerV",
        "outputId": "680d3945-8b1d-425e-8449-42dacebc65f8"
      },
      "outputs": [
        {
          "name": "stdout",
          "output_type": "stream",
          "text": [
            "The number of negative prediction:  17\n",
            "Percent correct prediction:  47.36071121887155\n"
          ]
        }
      ],
      "source": [
        "error, negative_integer = find_prediction_error_value(y_test, y_pred_5)\n",
        "print(\"The number of negative prediction: \", len(negative_integer))\n",
        "print(\"Percent correct prediction: \", (len(y_test) - len(error))/len(y_test)*100)"
      ]
    },
    {
      "cell_type": "markdown",
      "metadata": {
        "id": "AGTYVCrtZyA1"
      },
      "source": [
        "## Bayesian linear regression"
      ]
    },
    {
      "cell_type": "code",
      "execution_count": null,
      "metadata": {
        "id": "-j7MTvGvm8W-"
      },
      "outputs": [],
      "source": [
        "model_6 = BayesianRidge()"
      ]
    },
    {
      "cell_type": "markdown",
      "metadata": {
        "id": "9TrfQe1vnqrc"
      },
      "source": [
        "### K-Fold"
      ]
    },
    {
      "cell_type": "code",
      "execution_count": null,
      "metadata": {
        "id": "g0OOqD32m71y"
      },
      "outputs": [],
      "source": [
        "scores_6_mse = mean(absolute(cross_val_score(model_6, X, y, scoring='neg_mean_squared_error', cv=cv, n_jobs=-1)))\n",
        "scores_6_mae = mean(absolute(cross_val_score(model_6, X, y, scoring='neg_mean_absolute_error', cv=cv, n_jobs=-1)))\n",
        "scores_6_rmse = sqrt(mean(absolute(scores_6_mse)))\n",
        "scores_6_r2 = mean(absolute(cross_val_score(model_6, X, y, scoring='r2', cv=cv, n_jobs=-1)))"
      ]
    },
    {
      "cell_type": "code",
      "execution_count": null,
      "metadata": {
        "colab": {
          "base_uri": "https://localhost:8080/"
        },
        "id": "ilYp79daaRzh",
        "outputId": "73388adc-3380-42c7-ecb7-41c96f9b12d8"
      },
      "outputs": [
        {
          "name": "stdout",
          "output_type": "stream",
          "text": [
            "0.4828194854969713\n",
            "[-3.18636542  1.87452402  7.25300157  0.1762461  -2.22518372 -2.46592979\n",
            "  2.75483808  1.85045334  4.35144552 -1.69465926  0.14883509]\n",
            "1.6941754172390486\n"
          ]
        }
      ],
      "source": [
        "model_6.fit(X_train, y_train)\n",
        "y_pred_6 = model_6.predict(X_test)\n",
        "# Sai số huấn luyện của mô hình trên tập train\n",
        "print(model_6.score(X_train, y_train))\n",
        "# Hệ số hồi qui và hệ số chặn\n",
        "print(model_6.coef_)\n",
        "print(model_6.intercept_)"
      ]
    },
    {
      "cell_type": "markdown",
      "metadata": {
        "id": "OQAT2Knxn5iU"
      },
      "source": [
        "### Loss values"
      ]
    },
    {
      "cell_type": "code",
      "execution_count": null,
      "metadata": {
        "id": "wjbNJ-AnpWSa"
      },
      "outputs": [],
      "source": [
        "compa_n_mse.append(mean_squared_error(y_test, y_pred_6))\n",
        "compa_n_mae.append(mean_absolute_error(y_test, y_pred_6))\n",
        "compa_n_rmse.append(sqrt(mean_squared_error(y_test, y_pred_6)))\n",
        "compa_n_r2.append(r2_score(y_test, y_pred_6))\n",
        "compa_k_mse.append(scores_6_mse)\n",
        "compa_k_mae.append(scores_6_mae)\n",
        "compa_k_rmse.append(scores_6_rmse)\n",
        "compa_k_r2.append(scores_6_r2)"
      ]
    },
    {
      "cell_type": "code",
      "execution_count": null,
      "metadata": {
        "colab": {
          "base_uri": "https://localhost:8080/"
        },
        "id": "_YY4rOeBaUy9",
        "outputId": "57fb388f-704e-4726-cb3c-276b1ddcc956"
      },
      "outputs": [
        {
          "name": "stdout",
          "output_type": "stream",
          "text": [
            "mse:\n",
            "7.113521134723739\n",
            "mse (K-fold):\n",
            "7.088172675920054\n",
            "mae:\n",
            "1.9272358016317617\n",
            "mae (K-fold):\n",
            "1.928529339301479\n",
            "rmse:\n",
            "2.667118507813955\n",
            "rmse (K-fold):\n",
            "2.662362236045286\n",
            "r2:\n",
            "0.4770121152365293\n",
            "r2 (K-fold):\n",
            "0.48134065992225683\n"
          ]
        }
      ],
      "source": [
        "print(f\"mse:\\n{mean_squared_error(y_test, y_pred_6)}\")\n",
        "print(f\"mse (K-fold):\\n{scores_6_mse}\")\n",
        "print(f\"mae:\\n{mean_absolute_error(y_test, y_pred_6)}\")\n",
        "print(f\"mae (K-fold):\\n{scores_6_mae}\")\n",
        "print(f\"rmse:\\n{sqrt(mean_squared_error(y_test, y_pred_6))}\")\n",
        "print(f\"rmse (K-fold):\\n{scores_6_rmse}\")\n",
        "print(f\"r2:\\n{r2_score(y_test, y_pred_6)}\")\n",
        "print(f\"r2 (K-fold):\\n{scores_6_r2}\")"
      ]
    },
    {
      "cell_type": "code",
      "execution_count": null,
      "metadata": {
        "colab": {
          "base_uri": "https://localhost:8080/"
        },
        "id": "StM1t2XXae1k",
        "outputId": "e8b0af47-b0e3-42c4-e083-7a51305b27c5"
      },
      "outputs": [
        {
          "name": "stdout",
          "output_type": "stream",
          "text": [
            "predicted response:\n",
            "[6.71469090e+09 3.01838927e+09 4.27301639e+09 5.18036572e+09\n",
            " 3.87921644e+09 5.41224832e+09 2.66134188e+09 4.93458711e+09\n",
            " 9.18857227e+09 5.34414115e+09]\n",
            "actual:\n",
            "67254    7.800000e+09\n",
            "33028    1.790000e+09\n",
            "12304    5.200000e+09\n",
            "71296    1.305000e+09\n",
            "48795    1.389000e+09\n",
            "20723    4.800000e+09\n",
            "4271     2.000000e+09\n",
            "44233    3.330000e+09\n",
            "22704    8.250000e+09\n",
            "5264     6.500000e+09\n",
            "Name: price, dtype: float64\n"
          ]
        }
      ],
      "source": [
        "print(f\"predicted response:\\n{y_pred_6[:10]*one_billion}\")\n",
        "print(f\"actual:\\n{y_test.iloc[0:10]*one_billion}\")"
      ]
    },
    {
      "cell_type": "code",
      "execution_count": null,
      "metadata": {
        "colab": {
          "base_uri": "https://localhost:8080/"
        },
        "id": "yc0an9NvGgrD",
        "outputId": "53f13a78-04ab-4ab4-bc58-6c5ec263d202"
      },
      "outputs": [
        {
          "name": "stdout",
          "output_type": "stream",
          "text": [
            "The number of negative prediction:  139\n",
            "Percent correct prediction:  37.44001616406526\n"
          ]
        }
      ],
      "source": [
        "error, negative_integer = find_prediction_error_value(y_test, y_pred_6)\n",
        "print(\"The number of negative prediction: \", len(negative_integer))\n",
        "print(\"Percent correct prediction: \", (len(y_test) - len(error))/len(y_test)*100)"
      ]
    },
    {
      "cell_type": "markdown",
      "metadata": {
        "id": "o4Q-MNGwbVqN"
      },
      "source": [
        "# COMPARISION"
      ]
    },
    {
      "cell_type": "markdown",
      "metadata": {
        "id": "_JFwdUXCn_tb"
      },
      "source": [
        "## Normal"
      ]
    },
    {
      "cell_type": "markdown",
      "metadata": {
        "id": "6YeX8bMIojYL"
      },
      "source": [
        "### MSE"
      ]
    },
    {
      "cell_type": "code",
      "execution_count": null,
      "metadata": {
        "colab": {
          "base_uri": "https://localhost:8080/"
        },
        "id": "SHc8rHttYtEd",
        "outputId": "7b8adc28-b1bd-4756-8d78-67fe31a6b609"
      },
      "outputs": [
        {
          "name": "stdout",
          "output_type": "stream",
          "text": [
            "[7.113620772212428, 7.11357205728049, 12.053435973776127, 167.72602342688336, 7.113521134723739]\n"
          ]
        }
      ],
      "source": [
        "print(compa_n_mse)"
      ]
    },
    {
      "cell_type": "code",
      "execution_count": null,
      "metadata": {
        "colab": {
          "base_uri": "https://localhost:8080/",
          "height": 336
        },
        "id": "qKQESIFromfO",
        "outputId": "1b488e97-c101-439b-ae5b-e64649c4d6d4"
      },
      "outputs": [
        {
          "data": {
            "image/png": "[encoded data removed]",
            "text/plain": [
              "<Figure size 720x360 with 1 Axes>"
            ]
          },
          "metadata": {
            "needs_background": "light"
          },
          "output_type": "display_data"
        }
      ],
      "source": [
        "fig = plt.figure(figsize = (10, 5))\n",
        "\n",
        "# creating the bar plot\n",
        "plt.bar(labels, compa_n_mse, width = 0.4, color = 'midnightblue')\n",
        "\n",
        "plt.ylabel('MSE')\n",
        "plt.title('Model Loss Comparison (Normal)')\n",
        "plt.show()"
      ]
    },
    {
      "cell_type": "markdown",
      "metadata": {
        "id": "SgA2S7BsQbKh"
      },
      "source": [
        "### MAE"
      ]
    },
    {
      "cell_type": "code",
      "execution_count": null,
      "metadata": {
        "colab": {
          "base_uri": "https://localhost:8080/"
        },
        "id": "RBdwpxO2ZAT-",
        "outputId": "e1046f2c-7b0d-401f-f12c-6dd2487a262e"
      },
      "outputs": [
        {
          "name": "stdout",
          "output_type": "stream",
          "text": [
            "[1.9273172948634343, 1.9272794570433989, 2.6175090438766513, 1.703356548246263, 1.9272358016317617]\n"
          ]
        }
      ],
      "source": [
        "print(compa_n_mae)"
      ]
    },
    {
      "cell_type": "code",
      "execution_count": null,
      "metadata": {
        "colab": {
          "base_uri": "https://localhost:8080/",
          "height": 336
        },
        "id": "eqZT9wPDRi4q",
        "outputId": "25c24193-cad3-4f7c-f0db-569ca265d563"
      },
      "outputs": [
        {
          "data": {
            "image/png": "[encoded data removed]",
            "text/plain": [
              "<Figure size 720x360 with 1 Axes>"
            ]
          },
          "metadata": {
            "needs_background": "light"
          },
          "output_type": "display_data"
        }
      ],
      "source": [
        "fig = plt.figure(figsize = (10, 5))\n",
        "\n",
        "# creating the bar plot\n",
        "plt.bar(labels, compa_n_mae, width = 0.4, color = 'midnightblue')\n",
        "\n",
        "plt.ylabel('MAE')\n",
        "plt.title('Model Loss Comparison (Normal)')\n",
        "plt.show()"
      ]
    },
    {
      "cell_type": "markdown",
      "metadata": {
        "id": "fgu_9iYdQdeq"
      },
      "source": [
        "### RMSE"
      ]
    },
    {
      "cell_type": "code",
      "execution_count": null,
      "metadata": {
        "colab": {
          "base_uri": "https://localhost:8080/"
        },
        "id": "Lv1qu2-PZJwm",
        "outputId": "66cefa86-c28c-4f2f-b6ab-b1d4ae430a6f"
      },
      "outputs": [
        {
          "name": "stdout",
          "output_type": "stream",
          "text": [
            "[2.6671371866127225, 2.667128054158722, 3.4718058663721574, 12.950908208572994, 2.667118507813955]\n"
          ]
        }
      ],
      "source": [
        "print(compa_n_rmse)"
      ]
    },
    {
      "cell_type": "code",
      "execution_count": null,
      "metadata": {
        "colab": {
          "base_uri": "https://localhost:8080/",
          "height": 336
        },
        "id": "N9-gHvQ1Rl33",
        "outputId": "ec5164f4-650f-41d1-fb49-9c4cf764ef74"
      },
      "outputs": [
        {
          "data": {
            "image/png": "[encoded data removed]",
            "text/plain": [
              "<Figure size 720x360 with 1 Axes>"
            ]
          },
          "metadata": {
            "needs_background": "light"
          },
          "output_type": "display_data"
        }
      ],
      "source": [
        "fig = plt.figure(figsize = (10, 5))\n",
        "\n",
        "# creating the bar plot\n",
        "plt.bar(labels, compa_n_rmse, width = 0.4, color = 'midnightblue')\n",
        "\n",
        "plt.ylabel('RMSE')\n",
        "plt.title('Model Loss Comparison (Normal)')\n",
        "plt.show()"
      ]
    },
    {
      "cell_type": "markdown",
      "metadata": {
        "id": "hPbIqgYEO6ka"
      },
      "source": [
        "### R2"
      ]
    },
    {
      "cell_type": "code",
      "execution_count": null,
      "metadata": {
        "colab": {
          "base_uri": "https://localhost:8080/"
        },
        "id": "yDvcctQfZMn2",
        "outputId": "b023713b-cb3d-4ef2-fe69-48539036fc40"
      },
      "outputs": [
        {
          "name": "stdout",
          "output_type": "stream",
          "text": [
            "[0.47700478986299555, 0.4770083713971933, 0.11382831868089827, -11.331259941525527, 0.4770121152365293]\n"
          ]
        }
      ],
      "source": [
        "print(compa_n_r2)"
      ]
    },
    {
      "cell_type": "code",
      "execution_count": null,
      "metadata": {
        "colab": {
          "base_uri": "https://localhost:8080/",
          "height": 336
        },
        "id": "WNFJXM7gO7zt",
        "outputId": "b3f860f3-9bc9-4830-f2ba-b268f743df9d"
      },
      "outputs": [
        {
          "data": {
            "image/png": "[encoded data removed]",
            "text/plain": [
              "<Figure size 720x360 with 1 Axes>"
            ]
          },
          "metadata": {
            "needs_background": "light"
          },
          "output_type": "display_data"
        }
      ],
      "source": [
        "fig = plt.figure(figsize = (10, 5))\n",
        "\n",
        "# creating the bar plot\n",
        "plt.bar(labels, compa_n_r2, width = 0.4, color = 'midnightblue')\n",
        "\n",
        "plt.ylabel('R2')\n",
        "plt.title('Model R2 Comparison (Normal)')\n",
        "plt.show()"
      ]
    },
    {
      "cell_type": "markdown",
      "metadata": {
        "id": "FOi9Cf0pn8zk"
      },
      "source": [
        "## K-Fold"
      ]
    },
    {
      "cell_type": "markdown",
      "metadata": {
        "id": "CcFfIRWwrLTC"
      },
      "source": [
        "### MSE"
      ]
    },
    {
      "cell_type": "code",
      "execution_count": null,
      "metadata": {
        "colab": {
          "base_uri": "https://localhost:8080/"
        },
        "id": "TN1ca33YCq7G",
        "outputId": "00e999c9-6436-4070-e614-9cde120c3c16"
      },
      "outputs": [
        {
          "name": "stdout",
          "output_type": "stream",
          "text": [
            "[5.183654308319092, 5.146486, 7.088315285993592, 7.088177173349865, 12.08353619192896, 2296571.2979258867, 7.088172675920054]\n"
          ]
        }
      ],
      "source": [
        "print(compa_k_mse)"
      ]
    },
    {
      "cell_type": "code",
      "execution_count": null,
      "metadata": {
        "colab": {
          "base_uri": "https://localhost:8080/",
          "height": 336
        },
        "id": "7kZJkMdYdZwX",
        "outputId": "3c4c8c0c-a37a-4101-ab7d-3364a241660b"
      },
      "outputs": [
        {
          "data": {
            "image/png": "[encoded data removed]",
            "text/plain": [
              "<Figure size 720x360 with 1 Axes>"
            ]
          },
          "metadata": {
            "needs_background": "light"
          },
          "output_type": "display_data"
        }
      ],
      "source": [
        "fig = plt.figure(figsize = (10, 5))\n",
        "\n",
        "# creating the bar plot\n",
        "plt.bar(labels_kfold, compa_k_mse, width = 0.4, color = 'midnightblue')\n",
        "\n",
        "plt.ylabel('MSE')\n",
        "plt.title('Model Loss Comparison (K-Fold)')\n",
        "plt.show()"
      ]
    },
    {
      "cell_type": "markdown",
      "metadata": {
        "id": "6y03jEDtUHqx"
      },
      "source": [
        "### MAE"
      ]
    },
    {
      "cell_type": "code",
      "execution_count": null,
      "metadata": {
        "colab": {
          "base_uri": "https://localhost:8080/"
        },
        "id": "R8PCe4n0WZIP",
        "outputId": "2e9e1d76-caad-4a92-b25d-9253b9f3b4d0"
      },
      "outputs": [
        {
          "name": "stdout",
          "output_type": "stream",
          "text": [
            "[1.5000722408294678, 1.493402123451233, 1.9286116378292075, 1.9285600961066414, 2.628983916276441, 9.478917949294296, 1.928529339301479]\n"
          ]
        }
      ],
      "source": [
        "print(compa_k_mae)"
      ]
    },
    {
      "cell_type": "code",
      "execution_count": null,
      "metadata": {
        "colab": {
          "base_uri": "https://localhost:8080/",
          "height": 336
        },
        "id": "4I_x2daDUNfI",
        "outputId": "1b992e3a-1fa5-4888-fe81-47d979c02f41"
      },
      "outputs": [
        {
          "data": {
            "image/png": "[encoded data removed]",
            "text/plain": [
              "<Figure size 720x360 with 1 Axes>"
            ]
          },
          "metadata": {
            "needs_background": "light"
          },
          "output_type": "display_data"
        }
      ],
      "source": [
        "fig = plt.figure(figsize = (10, 5))\n",
        "\n",
        "# creating the bar plot\n",
        "plt.bar(labels_kfold, compa_k_mae, width = 0.4, color = 'midnightblue')\n",
        "\n",
        "plt.ylabel('MAE')\n",
        "plt.title('Model Loss Comparison (K-Fold)')\n",
        "plt.show()"
      ]
    },
    {
      "cell_type": "markdown",
      "metadata": {
        "id": "GBTWa3sHUI8O"
      },
      "source": [
        "### RMSE"
      ]
    },
    {
      "cell_type": "code",
      "execution_count": null,
      "metadata": {
        "colab": {
          "base_uri": "https://localhost:8080/"
        },
        "id": "eTaG_V6vXNXX",
        "outputId": "23df0c06-4444-4c56-fd42-6584354792c8"
      },
      "outputs": [
        {
          "name": "stdout",
          "output_type": "stream",
          "text": [
            "[1.5171540975570679, 1.5182119607925415, 2.6623890185308365, 2.662363080676613, 3.476138114622168, 1515.4442576109116, 2.662362236045286]\n"
          ]
        }
      ],
      "source": [
        "print(compa_k_rmse)"
      ]
    },
    {
      "cell_type": "code",
      "execution_count": null,
      "metadata": {
        "colab": {
          "base_uri": "https://localhost:8080/",
          "height": 336
        },
        "id": "-ejBjTnMUTW-",
        "outputId": "d99dc9bd-c258-4429-e009-8d9ad7ac2f0e"
      },
      "outputs": [
        {
          "data": {
            "image/png": "[encoded data removed]",
            "text/plain": [
              "<Figure size 720x360 with 1 Axes>"
            ]
          },
          "metadata": {
            "needs_background": "light"
          },
          "output_type": "display_data"
        }
      ],
      "source": [
        "fig = plt.figure(figsize = (10, 5))\n",
        "\n",
        "# creating the bar plot\n",
        "plt.bar(labels_kfold, compa_k_rmse, width = 0.4, color = 'midnightblue')\n",
        "\n",
        "plt.ylabel('RMSE')\n",
        "plt.title('Model Loss Comparison (K-Fold)')\n",
        "plt.show()"
      ]
    },
    {
      "cell_type": "markdown",
      "metadata": {
        "id": "64ut1IAoUK73"
      },
      "source": [
        "### R2"
      ]
    },
    {
      "cell_type": "code",
      "execution_count": null,
      "metadata": {
        "colab": {
          "base_uri": "https://localhost:8080/"
        },
        "id": "I5-gWw0GXlNn",
        "outputId": "7223fc5a-cadf-414a-d86b-8aeed116c0a9"
      },
      "outputs": [
        {
          "name": "stdout",
          "output_type": "stream",
          "text": [
            "[0.6238794705677004, 0.6315157422494198, 0.481330440304352, 0.4813402532655101, 0.11594322894220466, 161908.35729446117, 0.48134065992225683]\n"
          ]
        }
      ],
      "source": [
        "print(compa_k_r2)"
      ]
    },
    {
      "cell_type": "code",
      "execution_count": null,
      "metadata": {
        "colab": {
          "base_uri": "https://localhost:8080/",
          "height": 336
        },
        "id": "KKT5lv00UZRt",
        "outputId": "8fbd9dcc-356e-4807-bcf9-ad99135f7d68"
      },
      "outputs": [
        {
          "data": {
            "image/png": "[encoded data removed]",
            "text/plain": [
              "<Figure size 720x360 with 1 Axes>"
            ]
          },
          "metadata": {
            "needs_background": "light"
          },
          "output_type": "display_data"
        }
      ],
      "source": [
        "fig = plt.figure(figsize = (10, 5))\n",
        "\n",
        "# creating the bar plot\n",
        "plt.bar(labels_kfold, compa_k_r2, width = 0.4, color = 'midnightblue')\n",
        "\n",
        "plt.ylabel('R2')\n",
        "plt.title('Model Loss Comparison (K-Fold)')\n",
        "plt.show()"
      ]
    }
  ],
  "metadata": {
    "accelerator": "GPU",
    "colab": {
      "collapsed_sections": [],
      "name": "First_Model.ipynb",
      "provenance": [],
      "toc_visible": true
    },
    "kernelspec": {
      "display_name": "Python 3",
      "language": "python",
      "name": "python3"
    },
    "language_info": {
      "codemirror_mode": {
        "name": "ipython",
        "version": 3
      },
      "file_extension": ".py",
      "mimetype": "text/x-python",
      "name": "python",
      "nbconvert_exporter": "python",
      "pygments_lexer": "ipython3",
      "version": "3.8.0"
    },
    "vscode": {
      "interpreter": {
        "hash": "b4119a87640c76489cf9329827b62f234622d55a5d768db8c0c9452327e07ffc"
      }
    }
  },
  "nbformat": 4,
  "nbformat_minor": 0
}
