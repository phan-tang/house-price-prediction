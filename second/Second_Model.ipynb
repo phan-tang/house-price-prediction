{
  "cells": [
    {
      "cell_type": "markdown",
      "metadata": {
        "id": "rCZftWv1CVBz"
      },
      "source": [
        "# LIBRARY"
      ]
    },
    {
      "cell_type": "code",
      "execution_count": null,
      "metadata": {},
      "outputs": [],
      "source": [
        "from keras.layers import Dense, Input\n",
        "from keras.preprocessing.text import Tokenizer\n",
        "from tensorflow import keras\n",
        "from sklearn import preprocessing\n",
        "from sklearn.linear_model import LinearRegression, Ridge, Lasso, BayesianRidge\n",
        "from tensorflow.python.keras.models import Sequential\n",
        "from tensorflow.python.keras.layers import LSTM\n",
        "from tensorflow.python.keras.layers import Dense, Dropout, Embedding, Activation\n",
        "from tensorflow.python.keras.callbacks import EarlyStopping\n",
        "import tensorflow.python.keras.backend as K\n",
        "from sklearn.metrics import classification_report, confusion_matrix, accuracy_score\n",
        "from sklearn.model_selection import train_test_split, KFold, cross_val_score\n",
        "from sklearn.metrics import mean_absolute_error, mean_squared_error, r2_score\n",
        "import pandas as pd\n",
        "from numpy import mean\n",
        "from numpy import absolute\n",
        "from numpy import sqrt\n",
        "import numpy as np\n",
        "import matplotlib.pyplot as plt\n",
        "from sklearn.pipeline import Pipeline\n",
        "from sklearn.preprocessing import MinMaxScaler, PolynomialFeatures\n",
        "import warnings\n",
        "warnings.filterwarnings('ignore')"
      ]
    },
    {
      "cell_type": "markdown",
      "metadata": {
        "id": "tD40hkO6CZSC"
      },
      "source": [
        "# DATASET"
      ]
    },
    {
      "cell_type": "code",
      "execution_count": 2,
      "metadata": {
        "id": "F-wZBMdVVp9f"
      },
      "outputs": [],
      "source": [
        "data = pd.read_csv('./data/final_data_new.csv')"
      ]
    },
    {
      "cell_type": "code",
      "execution_count": 3,
      "metadata": {
        "colab": {
          "base_uri": "https://localhost:8080/",
          "height": 143
        },
        "id": "ih7xOk12VrmY",
        "outputId": "f2e815fe-d05b-4cfa-c51e-74b4f8a94638"
      },
      "outputs": [
        {
          "data": {
            "text/html": [
              "\n",
              "  <div id=\"df-f9c3f498-37a0-4947-918e-eb7af3bffcd7\">\n",
              "    <div class=\"colab-df-container\">\n",
              "      <div>\n",
              "<style scoped>\n",
              "    .dataframe tbody tr th:only-of-type {\n",
              "        vertical-align: middle;\n",
              "    }\n",
              "\n",
              "    .dataframe tbody tr th {\n",
              "        vertical-align: top;\n",
              "    }\n",
              "\n",
              "    .dataframe thead th {\n",
              "        text-align: right;\n",
              "    }\n",
              "</style>\n",
              "<table border=\"1\" class=\"dataframe\">\n",
              "  <thead>\n",
              "    <tr style=\"text-align: right;\">\n",
              "      <th></th>\n",
              "      <th>size</th>\n",
              "      <th>width</th>\n",
              "      <th>length</th>\n",
              "      <th>room</th>\n",
              "      <th>area</th>\n",
              "      <th>ward</th>\n",
              "      <th>toilet</th>\n",
              "      <th>living size</th>\n",
              "      <th>floor</th>\n",
              "      <th>house type</th>\n",
              "      <th>street</th>\n",
              "      <th>price</th>\n",
              "    </tr>\n",
              "  </thead>\n",
              "  <tbody>\n",
              "    <tr>\n",
              "      <th>0</th>\n",
              "      <td>44.0</td>\n",
              "      <td>3.5</td>\n",
              "      <td>12.0</td>\n",
              "      <td>2.0</td>\n",
              "      <td>102</td>\n",
              "      <td>9466.0</td>\n",
              "      <td>2.0</td>\n",
              "      <td>78.04</td>\n",
              "      <td>1.0</td>\n",
              "      <td>3.0</td>\n",
              "      <td>1161</td>\n",
              "      <td>3750000000</td>\n",
              "    </tr>\n",
              "    <tr>\n",
              "      <th>1</th>\n",
              "      <td>65.0</td>\n",
              "      <td>3.8</td>\n",
              "      <td>17.0</td>\n",
              "      <td>6.0</td>\n",
              "      <td>111</td>\n",
              "      <td>9328.0</td>\n",
              "      <td>6.0</td>\n",
              "      <td>238.00</td>\n",
              "      <td>3.0</td>\n",
              "      <td>1.0</td>\n",
              "      <td>1040</td>\n",
              "      <td>18500000000</td>\n",
              "    </tr>\n",
              "    <tr>\n",
              "      <th>2</th>\n",
              "      <td>44.8</td>\n",
              "      <td>3.2</td>\n",
              "      <td>14.0</td>\n",
              "      <td>2.0</td>\n",
              "      <td>104</td>\n",
              "      <td>9256.0</td>\n",
              "      <td>2.0</td>\n",
              "      <td>44.80</td>\n",
              "      <td>1.0</td>\n",
              "      <td>3.0</td>\n",
              "      <td>2195</td>\n",
              "      <td>890000000</td>\n",
              "    </tr>\n",
              "  </tbody>\n",
              "</table>\n",
              "</div>\n",
              "      <button class=\"colab-df-convert\" onclick=\"convertToInteractive('df-f9c3f498-37a0-4947-918e-eb7af3bffcd7')\"\n",
              "              title=\"Convert this dataframe to an interactive table.\"\n",
              "              style=\"display:none;\">\n",
              "        \n",
              "  <svg xmlns=\"http://www.w3.org/2000/svg\" height=\"24px\"viewBox=\"0 0 24 24\"\n",
              "       width=\"24px\">\n",
              "    <path d=\"M0 0h24v24H0V0z\" fill=\"none\"/>\n",
              "    <path d=\"M18.56 5.44l.94 2.06.94-2.06 2.06-.94-2.06-.94-.94-2.06-.94 2.06-2.06.94zm-11 1L8.5 8.5l.94-2.06 2.06-.94-2.06-.94L8.5 2.5l-.94 2.06-2.06.94zm10 10l.94 2.06.94-2.06 2.06-.94-2.06-.94-.94-2.06-.94 2.06-2.06.94z\"/><path d=\"M17.41 7.96l-1.37-1.37c-.4-.4-.92-.59-1.43-.59-.52 0-1.04.2-1.43.59L10.3 9.45l-7.72 7.72c-.78.78-.78 2.05 0 2.83L4 21.41c.39.39.9.59 1.41.59.51 0 1.02-.2 1.41-.59l7.78-7.78 2.81-2.81c.8-.78.8-2.07 0-2.86zM5.41 20L4 18.59l7.72-7.72 1.47 1.35L5.41 20z\"/>\n",
              "  </svg>\n",
              "      </button>\n",
              "      \n",
              "  <style>\n",
              "    .colab-df-container {\n",
              "      display:flex;\n",
              "      flex-wrap:wrap;\n",
              "      gap: 12px;\n",
              "    }\n",
              "\n",
              "    .colab-df-convert {\n",
              "      background-color: #E8F0FE;\n",
              "      border: none;\n",
              "      border-radius: 50%;\n",
              "      cursor: pointer;\n",
              "      display: none;\n",
              "      fill: #1967D2;\n",
              "      height: 32px;\n",
              "      padding: 0 0 0 0;\n",
              "      width: 32px;\n",
              "    }\n",
              "\n",
              "    .colab-df-convert:hover {\n",
              "      background-color: #E2EBFA;\n",
              "      box-shadow: 0px 1px 2px rgba(60, 64, 67, 0.3), 0px 1px 3px 1px rgba(60, 64, 67, 0.15);\n",
              "      fill: #174EA6;\n",
              "    }\n",
              "\n",
              "    [theme=dark] .colab-df-convert {\n",
              "      background-color: #3B4455;\n",
              "      fill: #D2E3FC;\n",
              "    }\n",
              "\n",
              "    [theme=dark] .colab-df-convert:hover {\n",
              "      background-color: #434B5C;\n",
              "      box-shadow: 0px 1px 3px 1px rgba(0, 0, 0, 0.15);\n",
              "      filter: drop-shadow(0px 1px 2px rgba(0, 0, 0, 0.3));\n",
              "      fill: #FFFFFF;\n",
              "    }\n",
              "  </style>\n",
              "\n",
              "      <script>\n",
              "        const buttonEl =\n",
              "          document.querySelector('#df-f9c3f498-37a0-4947-918e-eb7af3bffcd7 button.colab-df-convert');\n",
              "        buttonEl.style.display =\n",
              "          google.colab.kernel.accessAllowed ? 'block' : 'none';\n",
              "\n",
              "        async function convertToInteractive(key) {\n",
              "          const element = document.querySelector('#df-f9c3f498-37a0-4947-918e-eb7af3bffcd7');\n",
              "          const dataTable =\n",
              "            await google.colab.kernel.invokeFunction('convertToInteractive',\n",
              "                                                     [key], {});\n",
              "          if (!dataTable) return;\n",
              "\n",
              "          const docLinkHtml = 'Like what you see? Visit the ' +\n",
              "            '<a target=\"_blank\" href=https://colab.research.google.com/notebooks/data_table.ipynb>data table notebook</a>'\n",
              "            + ' to learn more about interactive tables.';\n",
              "          element.innerHTML = '';\n",
              "          dataTable['output_type'] = 'display_data';\n",
              "          await google.colab.output.renderOutput(dataTable, element);\n",
              "          const docLink = document.createElement('div');\n",
              "          docLink.innerHTML = docLinkHtml;\n",
              "          element.appendChild(docLink);\n",
              "        }\n",
              "      </script>\n",
              "    </div>\n",
              "  </div>\n",
              "  "
            ],
            "text/plain": [
              "   size  width  length  room  area    ward  toilet  living size  floor  \\\n",
              "0  44.0    3.5    12.0   2.0   102  9466.0     2.0        78.04    1.0   \n",
              "1  65.0    3.8    17.0   6.0   111  9328.0     6.0       238.00    3.0   \n",
              "2  44.8    3.2    14.0   2.0   104  9256.0     2.0        44.80    1.0   \n",
              "\n",
              "   house type  street        price  \n",
              "0         3.0    1161   3750000000  \n",
              "1         1.0    1040  18500000000  \n",
              "2         3.0    2195    890000000  "
            ]
          },
          "execution_count": 3,
          "metadata": {},
          "output_type": "execute_result"
        }
      ],
      "source": [
        "data.head(3)"
      ]
    },
    {
      "cell_type": "markdown",
      "metadata": {
        "id": "CRd2n_DoFx_z"
      },
      "source": [
        "Hàm kiểm tra số lượng phần tử có giá dự đoán chênh lệch với giá thực lớn hơn 1 tỷ"
      ]
    },
    {
      "cell_type": "code",
      "execution_count": 4,
      "metadata": {
        "id": "6ZLY44d_FxcE"
      },
      "outputs": [],
      "source": [
        "one_billion = 1000000000\n",
        "\n",
        "def find_prediction_error_value(actual, predict):\n",
        "  error = []\n",
        "  negative_integer = []\n",
        "  for i in range(len(predict)):\n",
        "    if predict[i] < 0:\n",
        "      negative_integer.append(actual.index[i])\n",
        "    if abs(predict[i] - actual.iloc[i]) > 1:\n",
        "      error.append(actual.index[i])\n",
        "  return error, negative_integer\n",
        "\n",
        "def root_mean_squared_error(y_true, y_pred):\n",
        "  return K.sqrt(K.mean(K.square(y_pred - y_true)))"
      ]
    },
    {
      "cell_type": "markdown",
      "metadata": {
        "id": "sIC43SPcffwF"
      },
      "source": [
        "# K-FOLD CROSS VALIDATION"
      ]
    },
    {
      "cell_type": "code",
      "execution_count": 5,
      "metadata": {
        "id": "xRsnTPc1fjkx"
      },
      "outputs": [],
      "source": [
        "cv = KFold(n_splits=20, random_state=1, shuffle=True)"
      ]
    },
    {
      "cell_type": "markdown",
      "metadata": {
        "id": "S0jo1s3nCixL"
      },
      "source": [
        "# NORMALIZE\n",
        "Chia tỷ lệ dữ liệu trong khoảng từ -1 đến 1"
      ]
    },
    {
      "cell_type": "code",
      "execution_count": 6,
      "metadata": {
        "colab": {
          "base_uri": "https://localhost:8080/",
          "height": 206
        },
        "id": "hl0RxlUSWAv-",
        "outputId": "042f889e-a4e3-499b-df3e-167cedc422ef"
      },
      "outputs": [
        {
          "data": {
            "text/html": [
              "\n",
              "  <div id=\"df-a5603236-b187-4103-bbf9-b0156cdb1505\">\n",
              "    <div class=\"colab-df-container\">\n",
              "      <div>\n",
              "<style scoped>\n",
              "    .dataframe tbody tr th:only-of-type {\n",
              "        vertical-align: middle;\n",
              "    }\n",
              "\n",
              "    .dataframe tbody tr th {\n",
              "        vertical-align: top;\n",
              "    }\n",
              "\n",
              "    .dataframe thead th {\n",
              "        text-align: right;\n",
              "    }\n",
              "</style>\n",
              "<table border=\"1\" class=\"dataframe\">\n",
              "  <thead>\n",
              "    <tr style=\"text-align: right;\">\n",
              "      <th></th>\n",
              "      <th>size</th>\n",
              "      <th>width</th>\n",
              "      <th>length</th>\n",
              "      <th>room</th>\n",
              "      <th>area</th>\n",
              "      <th>ward</th>\n",
              "      <th>toilet</th>\n",
              "      <th>living size</th>\n",
              "      <th>floor</th>\n",
              "      <th>house type</th>\n",
              "      <th>street</th>\n",
              "    </tr>\n",
              "  </thead>\n",
              "  <tbody>\n",
              "    <tr>\n",
              "      <th>0</th>\n",
              "      <td>0.172566</td>\n",
              "      <td>0.30</td>\n",
              "      <td>0.333333</td>\n",
              "      <td>0.142857</td>\n",
              "      <td>0.250000</td>\n",
              "      <td>0.510246</td>\n",
              "      <td>0.142857</td>\n",
              "      <td>0.193083</td>\n",
              "      <td>0.00</td>\n",
              "      <td>0.666667</td>\n",
              "      <td>0.294222</td>\n",
              "    </tr>\n",
              "    <tr>\n",
              "      <th>1</th>\n",
              "      <td>0.265487</td>\n",
              "      <td>0.36</td>\n",
              "      <td>0.492063</td>\n",
              "      <td>0.714286</td>\n",
              "      <td>0.625000</td>\n",
              "      <td>0.227459</td>\n",
              "      <td>0.714286</td>\n",
              "      <td>0.593985</td>\n",
              "      <td>0.50</td>\n",
              "      <td>0.000000</td>\n",
              "      <td>0.263558</td>\n",
              "    </tr>\n",
              "    <tr>\n",
              "      <th>2</th>\n",
              "      <td>0.176106</td>\n",
              "      <td>0.24</td>\n",
              "      <td>0.396825</td>\n",
              "      <td>0.142857</td>\n",
              "      <td>0.333333</td>\n",
              "      <td>0.079918</td>\n",
              "      <td>0.142857</td>\n",
              "      <td>0.109774</td>\n",
              "      <td>0.00</td>\n",
              "      <td>0.666667</td>\n",
              "      <td>0.556260</td>\n",
              "    </tr>\n",
              "    <tr>\n",
              "      <th>3</th>\n",
              "      <td>0.199115</td>\n",
              "      <td>0.48</td>\n",
              "      <td>0.288889</td>\n",
              "      <td>0.285714</td>\n",
              "      <td>0.708333</td>\n",
              "      <td>0.204918</td>\n",
              "      <td>0.142857</td>\n",
              "      <td>0.247820</td>\n",
              "      <td>0.25</td>\n",
              "      <td>0.666667</td>\n",
              "      <td>0.242271</td>\n",
              "    </tr>\n",
              "    <tr>\n",
              "      <th>4</th>\n",
              "      <td>0.103982</td>\n",
              "      <td>0.20</td>\n",
              "      <td>0.253968</td>\n",
              "      <td>0.142857</td>\n",
              "      <td>0.583333</td>\n",
              "      <td>0.106557</td>\n",
              "      <td>0.142857</td>\n",
              "      <td>0.140351</td>\n",
              "      <td>0.25</td>\n",
              "      <td>0.666667</td>\n",
              "      <td>0.567410</td>\n",
              "    </tr>\n",
              "  </tbody>\n",
              "</table>\n",
              "</div>\n",
              "      <button class=\"colab-df-convert\" onclick=\"convertToInteractive('df-a5603236-b187-4103-bbf9-b0156cdb1505')\"\n",
              "              title=\"Convert this dataframe to an interactive table.\"\n",
              "              style=\"display:none;\">\n",
              "        \n",
              "  <svg xmlns=\"http://www.w3.org/2000/svg\" height=\"24px\"viewBox=\"0 0 24 24\"\n",
              "       width=\"24px\">\n",
              "    <path d=\"M0 0h24v24H0V0z\" fill=\"none\"/>\n",
              "    <path d=\"M18.56 5.44l.94 2.06.94-2.06 2.06-.94-2.06-.94-.94-2.06-.94 2.06-2.06.94zm-11 1L8.5 8.5l.94-2.06 2.06-.94-2.06-.94L8.5 2.5l-.94 2.06-2.06.94zm10 10l.94 2.06.94-2.06 2.06-.94-2.06-.94-.94-2.06-.94 2.06-2.06.94z\"/><path d=\"M17.41 7.96l-1.37-1.37c-.4-.4-.92-.59-1.43-.59-.52 0-1.04.2-1.43.59L10.3 9.45l-7.72 7.72c-.78.78-.78 2.05 0 2.83L4 21.41c.39.39.9.59 1.41.59.51 0 1.02-.2 1.41-.59l7.78-7.78 2.81-2.81c.8-.78.8-2.07 0-2.86zM5.41 20L4 18.59l7.72-7.72 1.47 1.35L5.41 20z\"/>\n",
              "  </svg>\n",
              "      </button>\n",
              "      \n",
              "  <style>\n",
              "    .colab-df-container {\n",
              "      display:flex;\n",
              "      flex-wrap:wrap;\n",
              "      gap: 12px;\n",
              "    }\n",
              "\n",
              "    .colab-df-convert {\n",
              "      background-color: #E8F0FE;\n",
              "      border: none;\n",
              "      border-radius: 50%;\n",
              "      cursor: pointer;\n",
              "      display: none;\n",
              "      fill: #1967D2;\n",
              "      height: 32px;\n",
              "      padding: 0 0 0 0;\n",
              "      width: 32px;\n",
              "    }\n",
              "\n",
              "    .colab-df-convert:hover {\n",
              "      background-color: #E2EBFA;\n",
              "      box-shadow: 0px 1px 2px rgba(60, 64, 67, 0.3), 0px 1px 3px 1px rgba(60, 64, 67, 0.15);\n",
              "      fill: #174EA6;\n",
              "    }\n",
              "\n",
              "    [theme=dark] .colab-df-convert {\n",
              "      background-color: #3B4455;\n",
              "      fill: #D2E3FC;\n",
              "    }\n",
              "\n",
              "    [theme=dark] .colab-df-convert:hover {\n",
              "      background-color: #434B5C;\n",
              "      box-shadow: 0px 1px 3px 1px rgba(0, 0, 0, 0.15);\n",
              "      filter: drop-shadow(0px 1px 2px rgba(0, 0, 0, 0.3));\n",
              "      fill: #FFFFFF;\n",
              "    }\n",
              "  </style>\n",
              "\n",
              "      <script>\n",
              "        const buttonEl =\n",
              "          document.querySelector('#df-a5603236-b187-4103-bbf9-b0156cdb1505 button.colab-df-convert');\n",
              "        buttonEl.style.display =\n",
              "          google.colab.kernel.accessAllowed ? 'block' : 'none';\n",
              "\n",
              "        async function convertToInteractive(key) {\n",
              "          const element = document.querySelector('#df-a5603236-b187-4103-bbf9-b0156cdb1505');\n",
              "          const dataTable =\n",
              "            await google.colab.kernel.invokeFunction('convertToInteractive',\n",
              "                                                     [key], {});\n",
              "          if (!dataTable) return;\n",
              "\n",
              "          const docLinkHtml = 'Like what you see? Visit the ' +\n",
              "            '<a target=\"_blank\" href=https://colab.research.google.com/notebooks/data_table.ipynb>data table notebook</a>'\n",
              "            + ' to learn more about interactive tables.';\n",
              "          element.innerHTML = '';\n",
              "          dataTable['output_type'] = 'display_data';\n",
              "          await google.colab.output.renderOutput(dataTable, element);\n",
              "          const docLink = document.createElement('div');\n",
              "          docLink.innerHTML = docLinkHtml;\n",
              "          element.appendChild(docLink);\n",
              "        }\n",
              "      </script>\n",
              "    </div>\n",
              "  </div>\n",
              "  "
            ],
            "text/plain": [
              "       size  width    length      room      area      ward    toilet  \\\n",
              "0  0.172566   0.30  0.333333  0.142857  0.250000  0.510246  0.142857   \n",
              "1  0.265487   0.36  0.492063  0.714286  0.625000  0.227459  0.714286   \n",
              "2  0.176106   0.24  0.396825  0.142857  0.333333  0.079918  0.142857   \n",
              "3  0.199115   0.48  0.288889  0.285714  0.708333  0.204918  0.142857   \n",
              "4  0.103982   0.20  0.253968  0.142857  0.583333  0.106557  0.142857   \n",
              "\n",
              "   living size  floor  house type    street  \n",
              "0     0.193083   0.00    0.666667  0.294222  \n",
              "1     0.593985   0.50    0.000000  0.263558  \n",
              "2     0.109774   0.00    0.666667  0.556260  \n",
              "3     0.247820   0.25    0.666667  0.242271  \n",
              "4     0.140351   0.25    0.666667  0.567410  "
            ]
          },
          "execution_count": 6,
          "metadata": {},
          "output_type": "execute_result"
        }
      ],
      "source": [
        "# data[\"price\"] = np.log(data[\"price\"])\n",
        "# 1 tỉ\n",
        "data[\"price\"] = data[\"price\"]/one_billion\n",
        "X = data.drop(\"price\", axis=1)\n",
        "y = data[\"price\"]\n",
        "scaler = MinMaxScaler()\n",
        "feature_minmax_transform_data = scaler.fit_transform(X)\n",
        "X = pd.DataFrame(columns=X.columns, data=feature_minmax_transform_data)\n",
        "X.head()"
      ]
    },
    {
      "cell_type": "markdown",
      "metadata": {
        "id": "NjqoJajZCq4Z"
      },
      "source": [
        "# TRAIN TEST SPLIT"
      ]
    },
    {
      "cell_type": "code",
      "execution_count": 7,
      "metadata": {
        "id": "1FfZg80KWInY"
      },
      "outputs": [],
      "source": [
        "X_train, X_test, y_train, y_test = train_test_split(X, y, test_size = 0.25, random_state = 101)\n",
        "X_train, X_val, y_train, y_val = train_test_split(X_train, y_train, test_size=0.25, random_state = 8)"
      ]
    },
    {
      "cell_type": "code",
      "execution_count": 8,
      "metadata": {
        "colab": {
          "base_uri": "https://localhost:8080/"
        },
        "id": "WpwjNw6bWKOd",
        "outputId": "e33ef45b-7e54-4e91-dba3-4008ee45379b"
      },
      "outputs": [
        {
          "name": "stdout",
          "output_type": "stream",
          "text": [
            "X_train shape: (39800, 11)\n",
            "y_train shape: (39800,)\n",
            "X_test shape: (17689, 11)\n",
            "y_test shape: (17689,)\n",
            "X_val shape: (13267, 11)\n",
            "y_val shape: (13267,)\n"
          ]
        }
      ],
      "source": [
        "print(\"X_train shape: {}\".format(X_train.shape))\n",
        "print(\"y_train shape: {}\".format(y_train.shape))\n",
        "print(\"X_test shape: {}\".format(X_test.shape))\n",
        "print(\"y_test shape: {}\".format(y_test.shape))\n",
        "print(\"X_val shape: {}\".format(X_val.shape))\n",
        "print(\"y_val shape: {}\".format(y_val.shape))"
      ]
    },
    {
      "cell_type": "code",
      "execution_count": 9,
      "metadata": {
        "id": "q5gusY0hiWqE"
      },
      "outputs": [],
      "source": [
        "X_train = np.array(X_train)\n",
        "X_test = np.array(X_test)\n",
        "X_val = np.array(X_val)\n",
        "\n",
        "X_tr_t = X_train.reshape(X_train.shape[0], 1, X_train.shape[1])\n",
        "X_tst_t = X_test.reshape(X_test.shape[0], 1, X_test.shape[1])\n",
        "X_vl_t = X_val.reshape(X_val.shape[0], 1, X_val.shape[1])"
      ]
    },
    {
      "cell_type": "markdown",
      "metadata": {
        "id": "LbGdHlBvCt6D"
      },
      "source": [
        "# MODEL"
      ]
    },
    {
      "cell_type": "code",
      "execution_count": 10,
      "metadata": {
        "id": "wk1kl7bYdb0U"
      },
      "outputs": [],
      "source": [
        "labels_kfold = ['NN','LSTM', 'Linear', 'Ridge', 'Lasso', 'Polynomial', 'Bayesian Linear']\n",
        "labels = ['Linear', 'Ridge', 'Lasso', 'Polynomial', 'Bayesian Linear']\n",
        "compa_n_mse = []\n",
        "compa_n_mae = []\n",
        "compa_n_rmse = []\n",
        "compa_n_r2 = []\n",
        "compa_k_mse = []\n",
        "compa_k_mae = []\n",
        "compa_k_rmse = []\n",
        "compa_k_mape = []\n",
        "compa_k_r2 = []"
      ]
    },
    {
      "cell_type": "markdown",
      "metadata": {
        "id": "tAQ7Qelrxsj8"
      },
      "source": [
        "## NN"
      ]
    },
    {
      "cell_type": "markdown",
      "metadata": {
        "id": "nZcsvBXwx7Kj"
      },
      "source": [
        "### Model structure"
      ]
    },
    {
      "cell_type": "code",
      "execution_count": 11,
      "metadata": {
        "colab": {
          "base_uri": "https://localhost:8080/"
        },
        "id": "K0SsW-dsxt7E",
        "outputId": "cd7b7948-9e58-4800-918a-e370e68d6e3c"
      },
      "outputs": [
        {
          "name": "stdout",
          "output_type": "stream",
          "text": [
            "Model: \"sequential\"\n",
            "_________________________________________________________________\n",
            "Layer (type)                 Output Shape              Param #   \n",
            "=================================================================\n",
            "dense (Dense)                (None, 32)                384       \n",
            "_________________________________________________________________\n",
            "dense_1 (Dense)              (None, 16)                528       \n",
            "_________________________________________________________________\n",
            "dense_2 (Dense)              (None, 1)                 17        \n",
            "=================================================================\n",
            "Total params: 929\n",
            "Trainable params: 929\n",
            "Non-trainable params: 0\n",
            "_________________________________________________________________\n"
          ]
        }
      ],
      "source": [
        "K.clear_session()\n",
        "model_nn = Sequential()\n",
        "model_nn.add(Dense(32, input_dim=X_train.shape[1], activation='relu', kernel_initializer='he_normal'))\n",
        "model_nn.add(Dense(16, activation='relu', kernel_initializer='he_normal'))\n",
        "model_nn.add(Dense(1, activation='linear'))\n",
        "\n",
        "model_nn.summary()"
      ]
    },
    {
      "cell_type": "markdown",
      "metadata": {
        "id": "rs-bUNd2Fw1H"
      },
      "source": [
        "### MSE"
      ]
    },
    {
      "cell_type": "code",
      "execution_count": null,
      "metadata": {
        "colab": {
          "base_uri": "https://localhost:8080/"
        },
        "id": "I1V42RVLxwRz",
        "outputId": "b9492045-50f3-4745-8f6a-52da837c4817"
      },
      "outputs": [
        {
          "name": "stdout",
          "output_type": "stream",
          "text": [
            "Epoch 1/400\n",
            "156/156 [==============================] - 4s 4ms/step - loss: 15.2791 - accuracy: 0.0016 - val_loss: 8.1403 - val_accuracy: 9.7987e-04\n",
            "Epoch 2/400\n",
            "156/156 [==============================] - 0s 3ms/step - loss: 7.3534 - accuracy: 0.0016 - val_loss: 6.9891 - val_accuracy: 9.7987e-04\n",
            "Epoch 3/400\n",
            "156/156 [==============================] - 1s 4ms/step - loss: 6.9046 - accuracy: 0.0016 - val_loss: 6.7799 - val_accuracy: 9.7987e-04\n",
            "Epoch 4/400\n",
            "156/156 [==============================] - 0s 3ms/step - loss: 6.7966 - accuracy: 0.0016 - val_loss: 6.7066 - val_accuracy: 9.7987e-04\n",
            "Epoch 5/400\n",
            "156/156 [==============================] - 0s 3ms/step - loss: 6.7459 - accuracy: 0.0016 - val_loss: 6.6543 - val_accuracy: 9.7987e-04\n",
            "Epoch 6/400\n",
            "156/156 [==============================] - 0s 3ms/step - loss: 6.6907 - accuracy: 0.0016 - val_loss: 6.6015 - val_accuracy: 9.7987e-04\n",
            "Epoch 7/400\n",
            "156/156 [==============================] - 0s 3ms/step - loss: 6.6426 - accuracy: 0.0016 - val_loss: 6.5430 - val_accuracy: 9.7987e-04\n",
            "Epoch 8/400\n",
            "156/156 [==============================] - 0s 3ms/step - loss: 6.5998 - accuracy: 0.0016 - val_loss: 6.5122 - val_accuracy: 9.7987e-04\n",
            "Epoch 9/400\n",
            "156/156 [==============================] - 0s 3ms/step - loss: 6.5569 - accuracy: 0.0016 - val_loss: 6.4466 - val_accuracy: 9.7987e-04\n",
            "Epoch 10/400\n",
            "156/156 [==============================] - 1s 3ms/step - loss: 6.5150 - accuracy: 0.0016 - val_loss: 6.3992 - val_accuracy: 9.7987e-04\n",
            "Epoch 11/400\n",
            "156/156 [==============================] - 0s 3ms/step - loss: 6.4688 - accuracy: 0.0016 - val_loss: 6.3561 - val_accuracy: 9.7987e-04\n",
            "Epoch 12/400\n",
            "156/156 [==============================] - 0s 3ms/step - loss: 6.4177 - accuracy: 0.0016 - val_loss: 6.3087 - val_accuracy: 9.7987e-04\n",
            "Epoch 13/400\n",
            "156/156 [==============================] - 0s 3ms/step - loss: 6.3788 - accuracy: 0.0016 - val_loss: 6.2658 - val_accuracy: 9.7987e-04\n",
            "Epoch 14/400\n",
            "156/156 [==============================] - 0s 3ms/step - loss: 6.3350 - accuracy: 0.0016 - val_loss: 6.2045 - val_accuracy: 9.7987e-04\n",
            "Epoch 15/400\n",
            "156/156 [==============================] - 1s 4ms/step - loss: 6.2880 - accuracy: 0.0016 - val_loss: 6.1646 - val_accuracy: 9.7987e-04\n",
            "Epoch 16/400\n",
            "156/156 [==============================] - 0s 3ms/step - loss: 6.2022 - accuracy: 0.0016 - val_loss: 6.0474 - val_accuracy: 9.7987e-04\n",
            "Epoch 17/400\n",
            "156/156 [==============================] - 0s 3ms/step - loss: 6.1048 - accuracy: 0.0016 - val_loss: 5.9567 - val_accuracy: 9.7987e-04\n",
            "Epoch 18/400\n",
            "156/156 [==============================] - 1s 3ms/step - loss: 5.9727 - accuracy: 0.0016 - val_loss: 5.8815 - val_accuracy: 9.7987e-04\n",
            "Epoch 19/400\n",
            "156/156 [==============================] - 0s 3ms/step - loss: 5.8647 - accuracy: 0.0016 - val_loss: 5.7174 - val_accuracy: 9.7987e-04\n",
            "Epoch 20/400\n",
            "156/156 [==============================] - 1s 3ms/step - loss: 5.7754 - accuracy: 0.0016 - val_loss: 5.6510 - val_accuracy: 9.7987e-04\n",
            "Epoch 21/400\n",
            "156/156 [==============================] - 0s 3ms/step - loss: 5.7032 - accuracy: 0.0016 - val_loss: 5.5865 - val_accuracy: 9.7987e-04\n",
            "Epoch 22/400\n",
            "156/156 [==============================] - 1s 4ms/step - loss: 5.6529 - accuracy: 0.0016 - val_loss: 5.6680 - val_accuracy: 9.7987e-04\n",
            "Epoch 23/400\n",
            "156/156 [==============================] - 1s 4ms/step - loss: 5.6052 - accuracy: 0.0016 - val_loss: 5.4414 - val_accuracy: 9.7987e-04\n",
            "Epoch 24/400\n",
            "156/156 [==============================] - 0s 3ms/step - loss: 5.5495 - accuracy: 0.0016 - val_loss: 5.4305 - val_accuracy: 9.7987e-04\n",
            "Epoch 25/400\n",
            "156/156 [==============================] - 0s 3ms/step - loss: 5.5262 - accuracy: 0.0016 - val_loss: 5.3789 - val_accuracy: 9.7987e-04\n",
            "Epoch 26/400\n",
            "156/156 [==============================] - 1s 3ms/step - loss: 5.4960 - accuracy: 0.0016 - val_loss: 5.3469 - val_accuracy: 9.7987e-04\n",
            "Epoch 27/400\n",
            "156/156 [==============================] - 0s 3ms/step - loss: 5.4651 - accuracy: 0.0016 - val_loss: 5.3519 - val_accuracy: 9.7987e-04\n",
            "Epoch 28/400\n",
            "156/156 [==============================] - 1s 4ms/step - loss: 5.4362 - accuracy: 0.0016 - val_loss: 5.3184 - val_accuracy: 9.7987e-04\n",
            "Epoch 29/400\n",
            "156/156 [==============================] - 0s 3ms/step - loss: 5.4180 - accuracy: 0.0016 - val_loss: 5.2876 - val_accuracy: 9.7987e-04\n",
            "Epoch 30/400\n",
            "156/156 [==============================] - 1s 4ms/step - loss: 5.4022 - accuracy: 0.0016 - val_loss: 5.2654 - val_accuracy: 9.7987e-04\n",
            "Epoch 31/400\n",
            "156/156 [==============================] - 0s 3ms/step - loss: 5.3873 - accuracy: 0.0016 - val_loss: 5.2410 - val_accuracy: 9.7987e-04\n",
            "Epoch 32/400\n",
            "156/156 [==============================] - 0s 3ms/step - loss: 5.3620 - accuracy: 0.0016 - val_loss: 5.2330 - val_accuracy: 9.7987e-04\n",
            "Epoch 33/400\n",
            "156/156 [==============================] - 0s 3ms/step - loss: 5.3557 - accuracy: 0.0016 - val_loss: 5.2127 - val_accuracy: 9.7987e-04\n",
            "Epoch 34/400\n",
            "156/156 [==============================] - 0s 3ms/step - loss: 5.3338 - accuracy: 0.0016 - val_loss: 5.2237 - val_accuracy: 9.7987e-04\n",
            "Epoch 35/400\n",
            "156/156 [==============================] - 1s 4ms/step - loss: 5.3298 - accuracy: 0.0016 - val_loss: 5.2032 - val_accuracy: 9.7987e-04\n",
            "Epoch 36/400\n",
            "156/156 [==============================] - 1s 4ms/step - loss: 5.3119 - accuracy: 0.0016 - val_loss: 5.1654 - val_accuracy: 9.7987e-04\n",
            "Epoch 37/400\n",
            "156/156 [==============================] - 1s 3ms/step - loss: 5.2981 - accuracy: 0.0016 - val_loss: 5.2559 - val_accuracy: 9.7987e-04\n",
            "Epoch 38/400\n",
            "156/156 [==============================] - 1s 3ms/step - loss: 5.2988 - accuracy: 0.0016 - val_loss: 5.1546 - val_accuracy: 9.7987e-04\n",
            "Epoch 39/400\n",
            "156/156 [==============================] - 0s 3ms/step - loss: 5.2842 - accuracy: 0.0016 - val_loss: 5.2341 - val_accuracy: 9.7987e-04\n",
            "Epoch 40/400\n",
            "156/156 [==============================] - 0s 3ms/step - loss: 5.2716 - accuracy: 0.0016 - val_loss: 5.1708 - val_accuracy: 9.7987e-04\n",
            "Epoch 41/400\n",
            "156/156 [==============================] - 1s 4ms/step - loss: 5.2666 - accuracy: 0.0016 - val_loss: 5.1196 - val_accuracy: 9.7987e-04\n",
            "Epoch 42/400\n",
            "156/156 [==============================] - 1s 3ms/step - loss: 5.2603 - accuracy: 0.0016 - val_loss: 5.1655 - val_accuracy: 9.7987e-04\n",
            "Epoch 43/400\n",
            "156/156 [==============================] - 0s 3ms/step - loss: 5.2429 - accuracy: 0.0016 - val_loss: 5.2266 - val_accuracy: 9.7987e-04\n",
            "Epoch 44/400\n",
            "156/156 [==============================] - 0s 3ms/step - loss: 5.2487 - accuracy: 0.0016 - val_loss: 5.1236 - val_accuracy: 9.7987e-04\n",
            "Epoch 45/400\n",
            "156/156 [==============================] - 1s 3ms/step - loss: 5.2300 - accuracy: 0.0016 - val_loss: 5.0997 - val_accuracy: 9.7987e-04\n",
            "Epoch 46/400\n",
            "156/156 [==============================] - 1s 3ms/step - loss: 5.2208 - accuracy: 0.0016 - val_loss: 5.1037 - val_accuracy: 9.7987e-04\n",
            "Epoch 47/400\n",
            "156/156 [==============================] - 1s 4ms/step - loss: 5.2109 - accuracy: 0.0016 - val_loss: 5.0984 - val_accuracy: 9.7987e-04\n",
            "Epoch 48/400\n",
            "156/156 [==============================] - 0s 3ms/step - loss: 5.2132 - accuracy: 0.0016 - val_loss: 5.0769 - val_accuracy: 9.7987e-04\n",
            "Epoch 49/400\n",
            "156/156 [==============================] - 0s 3ms/step - loss: 5.2107 - accuracy: 0.0016 - val_loss: 5.0700 - val_accuracy: 9.7987e-04\n",
            "Epoch 50/400\n",
            "156/156 [==============================] - 1s 3ms/step - loss: 5.1994 - accuracy: 0.0016 - val_loss: 5.0991 - val_accuracy: 9.7987e-04\n",
            "Epoch 51/400\n",
            "156/156 [==============================] - 0s 3ms/step - loss: 5.1829 - accuracy: 0.0016 - val_loss: 5.0685 - val_accuracy: 9.7987e-04\n",
            "Epoch 52/400\n",
            "156/156 [==============================] - 0s 3ms/step - loss: 5.1903 - accuracy: 0.0016 - val_loss: 5.0874 - val_accuracy: 9.7987e-04\n",
            "Epoch 53/400\n",
            "156/156 [==============================] - 1s 3ms/step - loss: 5.1785 - accuracy: 0.0016 - val_loss: 5.0623 - val_accuracy: 9.7987e-04\n",
            "Epoch 54/400\n",
            "156/156 [==============================] - 0s 3ms/step - loss: 5.1701 - accuracy: 0.0016 - val_loss: 5.0506 - val_accuracy: 9.7987e-04\n",
            "Epoch 55/400\n",
            "156/156 [==============================] - 1s 4ms/step - loss: 5.1615 - accuracy: 0.0016 - val_loss: 5.0752 - val_accuracy: 9.7987e-04\n",
            "Epoch 56/400\n",
            "156/156 [==============================] - 0s 3ms/step - loss: 5.1764 - accuracy: 0.0016 - val_loss: 5.0530 - val_accuracy: 9.7987e-04\n",
            "Epoch 57/400\n",
            "156/156 [==============================] - 0s 3ms/step - loss: 5.1619 - accuracy: 0.0016 - val_loss: 5.0448 - val_accuracy: 9.7987e-04\n",
            "Epoch 58/400\n",
            "156/156 [==============================] - 0s 3ms/step - loss: 5.1678 - accuracy: 0.0016 - val_loss: 5.0522 - val_accuracy: 9.7987e-04\n",
            "Epoch 59/400\n",
            "156/156 [==============================] - 1s 4ms/step - loss: 5.1560 - accuracy: 0.0016 - val_loss: 5.0368 - val_accuracy: 9.7987e-04\n",
            "Epoch 60/400\n",
            "156/156 [==============================] - 1s 4ms/step - loss: 5.1612 - accuracy: 0.0016 - val_loss: 5.0230 - val_accuracy: 9.7987e-04\n",
            "Epoch 61/400\n",
            "156/156 [==============================] - 1s 4ms/step - loss: 5.1488 - accuracy: 0.0016 - val_loss: 5.0560 - val_accuracy: 9.7987e-04\n",
            "Epoch 62/400\n",
            "156/156 [==============================] - 1s 4ms/step - loss: 5.1357 - accuracy: 0.0016 - val_loss: 5.0403 - val_accuracy: 9.7987e-04\n",
            "Epoch 63/400\n",
            "156/156 [==============================] - 1s 3ms/step - loss: 5.1434 - accuracy: 0.0016 - val_loss: 5.0292 - val_accuracy: 9.7987e-04\n",
            "Epoch 64/400\n",
            "156/156 [==============================] - 0s 3ms/step - loss: 5.1353 - accuracy: 0.0016 - val_loss: 5.0173 - val_accuracy: 9.7987e-04\n",
            "Epoch 65/400\n",
            "156/156 [==============================] - 1s 3ms/step - loss: 5.1340 - accuracy: 0.0016 - val_loss: 5.0288 - val_accuracy: 9.7987e-04\n",
            "Epoch 66/400\n",
            "156/156 [==============================] - 0s 3ms/step - loss: 5.1264 - accuracy: 0.0016 - val_loss: 5.0553 - val_accuracy: 9.7987e-04\n",
            "Epoch 67/400\n",
            "156/156 [==============================] - 0s 3ms/step - loss: 5.1194 - accuracy: 0.0016 - val_loss: 5.0055 - val_accuracy: 9.7987e-04\n",
            "Epoch 68/400\n",
            "156/156 [==============================] - 0s 3ms/step - loss: 5.1233 - accuracy: 0.0016 - val_loss: 5.0782 - val_accuracy: 9.7987e-04\n",
            "Epoch 69/400\n",
            "156/156 [==============================] - 1s 3ms/step - loss: 5.1103 - accuracy: 0.0016 - val_loss: 5.0246 - val_accuracy: 9.7987e-04\n",
            "Epoch 70/400\n",
            "156/156 [==============================] - 1s 4ms/step - loss: 5.1111 - accuracy: 0.0016 - val_loss: 5.0227 - val_accuracy: 9.7987e-04\n",
            "Epoch 71/400\n",
            "156/156 [==============================] - 1s 3ms/step - loss: 5.1054 - accuracy: 0.0016 - val_loss: 5.0124 - val_accuracy: 9.7987e-04\n",
            "Epoch 72/400\n",
            "156/156 [==============================] - 0s 3ms/step - loss: 5.1014 - accuracy: 0.0016 - val_loss: 5.0006 - val_accuracy: 9.7987e-04\n",
            "Epoch 73/400\n",
            "156/156 [==============================] - 0s 3ms/step - loss: 5.0985 - accuracy: 0.0016 - val_loss: 4.9929 - val_accuracy: 9.7987e-04\n",
            "Epoch 74/400\n",
            "156/156 [==============================] - 0s 3ms/step - loss: 5.1002 - accuracy: 0.0016 - val_loss: 5.0186 - val_accuracy: 9.7987e-04\n",
            "Epoch 75/400\n",
            "156/156 [==============================] - 1s 4ms/step - loss: 5.1070 - accuracy: 0.0016 - val_loss: 4.9901 - val_accuracy: 9.7987e-04\n",
            "Epoch 76/400\n",
            "156/156 [==============================] - 0s 3ms/step - loss: 5.1009 - accuracy: 0.0016 - val_loss: 5.0009 - val_accuracy: 9.7987e-04\n",
            "Epoch 77/400\n",
            "156/156 [==============================] - 0s 3ms/step - loss: 5.0951 - accuracy: 0.0016 - val_loss: 5.0900 - val_accuracy: 9.7987e-04\n",
            "Epoch 78/400\n",
            "156/156 [==============================] - 0s 3ms/step - loss: 5.0886 - accuracy: 0.0016 - val_loss: 4.9733 - val_accuracy: 9.7987e-04\n",
            "Epoch 79/400\n",
            "156/156 [==============================] - 0s 3ms/step - loss: 5.0944 - accuracy: 0.0016 - val_loss: 4.9813 - val_accuracy: 9.7987e-04\n",
            "Epoch 80/400\n",
            "156/156 [==============================] - 0s 3ms/step - loss: 5.0805 - accuracy: 0.0016 - val_loss: 4.9769 - val_accuracy: 9.7987e-04\n",
            "Epoch 81/400\n",
            "156/156 [==============================] - 1s 4ms/step - loss: 5.0738 - accuracy: 0.0016 - val_loss: 4.9878 - val_accuracy: 9.7987e-04\n",
            "Epoch 82/400\n",
            "156/156 [==============================] - 0s 3ms/step - loss: 5.0722 - accuracy: 0.0016 - val_loss: 4.9641 - val_accuracy: 9.7987e-04\n",
            "Epoch 83/400\n",
            "156/156 [==============================] - 0s 3ms/step - loss: 5.0690 - accuracy: 0.0016 - val_loss: 4.9757 - val_accuracy: 9.7987e-04\n",
            "Epoch 84/400\n",
            "156/156 [==============================] - 0s 3ms/step - loss: 5.0749 - accuracy: 0.0016 - val_loss: 4.9604 - val_accuracy: 9.7987e-04\n",
            "Epoch 85/400\n",
            "156/156 [==============================] - 0s 3ms/step - loss: 5.0625 - accuracy: 0.0016 - val_loss: 4.9738 - val_accuracy: 9.7987e-04\n",
            "Epoch 86/400\n",
            "156/156 [==============================] - 0s 3ms/step - loss: 5.0604 - accuracy: 0.0016 - val_loss: 4.9809 - val_accuracy: 9.7987e-04\n",
            "Epoch 87/400\n",
            "156/156 [==============================] - 0s 3ms/step - loss: 5.0633 - accuracy: 0.0016 - val_loss: 4.9619 - val_accuracy: 9.7987e-04\n",
            "Epoch 88/400\n",
            "156/156 [==============================] - 1s 4ms/step - loss: 5.0657 - accuracy: 0.0016 - val_loss: 5.0962 - val_accuracy: 9.7987e-04\n",
            "Epoch 89/400\n",
            "156/156 [==============================] - 0s 3ms/step - loss: 5.0652 - accuracy: 0.0016 - val_loss: 4.9585 - val_accuracy: 9.7987e-04\n",
            "Epoch 90/400\n",
            "156/156 [==============================] - 0s 3ms/step - loss: 5.0593 - accuracy: 0.0016 - val_loss: 4.9439 - val_accuracy: 9.7987e-04\n",
            "Epoch 91/400\n",
            "156/156 [==============================] - 1s 3ms/step - loss: 5.0693 - accuracy: 0.0016 - val_loss: 4.9496 - val_accuracy: 9.7987e-04\n",
            "Epoch 92/400\n",
            "156/156 [==============================] - 0s 3ms/step - loss: 5.0493 - accuracy: 0.0016 - val_loss: 4.9585 - val_accuracy: 9.7987e-04\n",
            "Epoch 93/400\n",
            "156/156 [==============================] - 1s 6ms/step - loss: 5.0506 - accuracy: 0.0016 - val_loss: 5.0002 - val_accuracy: 9.7987e-04\n",
            "Epoch 94/400\n",
            "156/156 [==============================] - 1s 7ms/step - loss: 5.0457 - accuracy: 0.0016 - val_loss: 4.9410 - val_accuracy: 9.7987e-04\n",
            "Epoch 95/400\n",
            "156/156 [==============================] - 1s 5ms/step - loss: 5.0495 - accuracy: 0.0016 - val_loss: 4.9506 - val_accuracy: 9.7987e-04\n",
            "Epoch 96/400\n",
            "156/156 [==============================] - 1s 6ms/step - loss: 5.0533 - accuracy: 0.0016 - val_loss: 4.9335 - val_accuracy: 9.7987e-04\n",
            "Epoch 97/400\n",
            "156/156 [==============================] - 1s 8ms/step - loss: 5.0363 - accuracy: 0.0016 - val_loss: 4.9303 - val_accuracy: 9.7987e-04\n",
            "Epoch 98/400\n",
            "156/156 [==============================] - 1s 9ms/step - loss: 5.0353 - accuracy: 0.0016 - val_loss: 4.9580 - val_accuracy: 9.7987e-04\n",
            "Epoch 99/400\n",
            "156/156 [==============================] - 1s 9ms/step - loss: 5.0391 - accuracy: 0.0016 - val_loss: 4.9409 - val_accuracy: 9.7987e-04\n",
            "Epoch 100/400\n",
            "156/156 [==============================] - 1s 8ms/step - loss: 5.0339 - accuracy: 0.0016 - val_loss: 4.9257 - val_accuracy: 9.7987e-04\n",
            "Epoch 101/400\n",
            "156/156 [==============================] - 1s 7ms/step - loss: 5.0302 - accuracy: 0.0016 - val_loss: 4.9477 - val_accuracy: 9.7987e-04\n",
            "Epoch 102/400\n",
            "156/156 [==============================] - 1s 4ms/step - loss: 5.0376 - accuracy: 0.0016 - val_loss: 4.9575 - val_accuracy: 9.7987e-04\n",
            "Epoch 103/400\n",
            "156/156 [==============================] - 0s 3ms/step - loss: 5.0457 - accuracy: 0.0016 - val_loss: 4.9215 - val_accuracy: 9.7987e-04\n",
            "Epoch 104/400\n",
            "156/156 [==============================] - 0s 3ms/step - loss: 5.0308 - accuracy: 0.0016 - val_loss: 5.0510 - val_accuracy: 9.7987e-04\n",
            "Epoch 105/400\n",
            "156/156 [==============================] - 1s 3ms/step - loss: 5.0348 - accuracy: 0.0016 - val_loss: 4.9421 - val_accuracy: 9.7987e-04\n",
            "Epoch 106/400\n",
            "156/156 [==============================] - 1s 4ms/step - loss: 5.0201 - accuracy: 0.0016 - val_loss: 4.9224 - val_accuracy: 9.7987e-04\n",
            "Epoch 107/400\n",
            "156/156 [==============================] - 0s 3ms/step - loss: 5.0184 - accuracy: 0.0016 - val_loss: 4.9232 - val_accuracy: 9.7987e-04\n",
            "Epoch 108/400\n",
            "156/156 [==============================] - 0s 3ms/step - loss: 5.0206 - accuracy: 0.0016 - val_loss: 4.9076 - val_accuracy: 9.7987e-04\n",
            "Epoch 109/400\n",
            "156/156 [==============================] - 0s 3ms/step - loss: 5.0205 - accuracy: 0.0016 - val_loss: 4.9064 - val_accuracy: 9.7987e-04\n",
            "Epoch 110/400\n",
            "156/156 [==============================] - 0s 3ms/step - loss: 5.0132 - accuracy: 0.0016 - val_loss: 4.9014 - val_accuracy: 9.7987e-04\n",
            "Epoch 111/400\n",
            "156/156 [==============================] - 1s 4ms/step - loss: 5.0237 - accuracy: 0.0016 - val_loss: 4.9058 - val_accuracy: 9.7987e-04\n",
            "Epoch 112/400\n",
            "156/156 [==============================] - 0s 3ms/step - loss: 5.0019 - accuracy: 0.0016 - val_loss: 4.9224 - val_accuracy: 9.7987e-04\n",
            "Epoch 113/400\n",
            "156/156 [==============================] - 1s 4ms/step - loss: 5.0314 - accuracy: 0.0016 - val_loss: 4.9245 - val_accuracy: 9.7987e-04\n",
            "Epoch 114/400\n",
            "156/156 [==============================] - 0s 3ms/step - loss: 5.0062 - accuracy: 0.0016 - val_loss: 4.9539 - val_accuracy: 9.7987e-04\n",
            "Epoch 115/400\n",
            "156/156 [==============================] - 0s 3ms/step - loss: 5.0214 - accuracy: 0.0016 - val_loss: 4.9009 - val_accuracy: 9.7987e-04\n",
            "Epoch 116/400\n",
            "156/156 [==============================] - 1s 4ms/step - loss: 5.0031 - accuracy: 0.0016 - val_loss: 4.9066 - val_accuracy: 9.7987e-04\n",
            "Epoch 117/400\n",
            "156/156 [==============================] - 0s 3ms/step - loss: 5.0017 - accuracy: 0.0016 - val_loss: 4.9256 - val_accuracy: 9.7987e-04\n",
            "Epoch 118/400\n",
            "156/156 [==============================] - 1s 3ms/step - loss: 4.9979 - accuracy: 0.0016 - val_loss: 4.8897 - val_accuracy: 9.7987e-04\n",
            "Epoch 119/400\n",
            "156/156 [==============================] - 1s 4ms/step - loss: 5.0114 - accuracy: 0.0016 - val_loss: 4.8998 - val_accuracy: 9.7987e-04\n",
            "Epoch 120/400\n",
            "156/156 [==============================] - 0s 3ms/step - loss: 4.9909 - accuracy: 0.0016 - val_loss: 4.9214 - val_accuracy: 9.7987e-04\n",
            "Epoch 121/400\n",
            "156/156 [==============================] - 1s 4ms/step - loss: 5.0028 - accuracy: 0.0016 - val_loss: 4.8879 - val_accuracy: 9.7987e-04\n",
            "Epoch 122/400\n",
            "156/156 [==============================] - 1s 4ms/step - loss: 4.9970 - accuracy: 0.0016 - val_loss: 4.9217 - val_accuracy: 9.7987e-04\n",
            "Epoch 123/400\n",
            "156/156 [==============================] - 0s 3ms/step - loss: 4.9882 - accuracy: 0.0016 - val_loss: 4.9841 - val_accuracy: 9.7987e-04\n",
            "Epoch 124/400\n",
            "156/156 [==============================] - 0s 3ms/step - loss: 4.9978 - accuracy: 0.0016 - val_loss: 4.8839 - val_accuracy: 9.7987e-04\n",
            "Epoch 125/400\n",
            "156/156 [==============================] - 1s 3ms/step - loss: 4.9903 - accuracy: 0.0016 - val_loss: 4.8803 - val_accuracy: 9.7987e-04\n",
            "Epoch 126/400\n",
            "156/156 [==============================] - 1s 4ms/step - loss: 4.9937 - accuracy: 0.0016 - val_loss: 4.8882 - val_accuracy: 9.7987e-04\n",
            "Epoch 127/400\n",
            "156/156 [==============================] - 1s 3ms/step - loss: 4.9845 - accuracy: 0.0016 - val_loss: 4.8766 - val_accuracy: 9.7987e-04\n",
            "Epoch 128/400\n",
            "156/156 [==============================] - 0s 3ms/step - loss: 4.9761 - accuracy: 0.0016 - val_loss: 4.9008 - val_accuracy: 9.7987e-04\n",
            "Epoch 129/400\n",
            "156/156 [==============================] - 0s 3ms/step - loss: 4.9780 - accuracy: 0.0016 - val_loss: 4.8799 - val_accuracy: 9.7987e-04\n",
            "Epoch 130/400\n",
            "156/156 [==============================] - 0s 3ms/step - loss: 4.9757 - accuracy: 0.0016 - val_loss: 4.8798 - val_accuracy: 9.7987e-04\n",
            "Epoch 131/400\n",
            "156/156 [==============================] - 1s 4ms/step - loss: 4.9789 - accuracy: 0.0016 - val_loss: 4.8809 - val_accuracy: 9.7987e-04\n",
            "Epoch 132/400\n",
            "156/156 [==============================] - 1s 4ms/step - loss: 4.9697 - accuracy: 0.0016 - val_loss: 4.8723 - val_accuracy: 9.7987e-04\n",
            "Epoch 133/400\n",
            "156/156 [==============================] - 1s 3ms/step - loss: 4.9931 - accuracy: 0.0016 - val_loss: 4.8642 - val_accuracy: 9.7987e-04\n",
            "Epoch 134/400\n",
            "156/156 [==============================] - 0s 3ms/step - loss: 4.9807 - accuracy: 0.0016 - val_loss: 4.9253 - val_accuracy: 9.7987e-04\n",
            "Epoch 135/400\n",
            "156/156 [==============================] - 0s 3ms/step - loss: 4.9751 - accuracy: 0.0016 - val_loss: 4.8830 - val_accuracy: 9.7987e-04\n",
            "Epoch 136/400\n",
            "156/156 [==============================] - 0s 3ms/step - loss: 4.9645 - accuracy: 0.0016 - val_loss: 4.8687 - val_accuracy: 9.7987e-04\n",
            "Epoch 137/400\n",
            "156/156 [==============================] - 1s 3ms/step - loss: 4.9688 - accuracy: 0.0016 - val_loss: 4.8645 - val_accuracy: 9.7987e-04\n",
            "Epoch 138/400\n",
            "156/156 [==============================] - 0s 3ms/step - loss: 4.9687 - accuracy: 0.0016 - val_loss: 4.8617 - val_accuracy: 9.7987e-04\n",
            "Epoch 139/400\n",
            "156/156 [==============================] - 1s 3ms/step - loss: 4.9632 - accuracy: 0.0016 - val_loss: 4.8680 - val_accuracy: 9.7987e-04\n",
            "Epoch 140/400\n",
            "156/156 [==============================] - 1s 4ms/step - loss: 4.9544 - accuracy: 0.0016 - val_loss: 4.8717 - val_accuracy: 9.7987e-04\n",
            "Epoch 141/400\n",
            "156/156 [==============================] - 0s 3ms/step - loss: 4.9631 - accuracy: 0.0016 - val_loss: 4.8583 - val_accuracy: 9.7987e-04\n",
            "Epoch 142/400\n",
            "156/156 [==============================] - 1s 4ms/step - loss: 4.9546 - accuracy: 0.0016 - val_loss: 4.8516 - val_accuracy: 9.7987e-04\n",
            "Epoch 143/400\n",
            "156/156 [==============================] - 1s 4ms/step - loss: 4.9494 - accuracy: 0.0016 - val_loss: 4.8711 - val_accuracy: 9.7987e-04\n",
            "Epoch 144/400\n",
            "156/156 [==============================] - 0s 3ms/step - loss: 4.9651 - accuracy: 0.0016 - val_loss: 4.8560 - val_accuracy: 9.7987e-04\n",
            "Epoch 145/400\n",
            "156/156 [==============================] - 1s 4ms/step - loss: 4.9539 - accuracy: 0.0016 - val_loss: 4.8522 - val_accuracy: 9.7987e-04\n",
            "Epoch 146/400\n",
            "156/156 [==============================] - 0s 3ms/step - loss: 4.9561 - accuracy: 0.0016 - val_loss: 4.9094 - val_accuracy: 9.7987e-04\n",
            "Epoch 147/400\n",
            "156/156 [==============================] - 1s 3ms/step - loss: 4.9580 - accuracy: 0.0016 - val_loss: 4.8628 - val_accuracy: 9.7987e-04\n",
            "Epoch 148/400\n",
            "156/156 [==============================] - 0s 3ms/step - loss: 4.9532 - accuracy: 0.0016 - val_loss: 4.8759 - val_accuracy: 9.7987e-04\n",
            "Epoch 149/400\n",
            "156/156 [==============================] - 1s 3ms/step - loss: 4.9480 - accuracy: 0.0016 - val_loss: 4.8699 - val_accuracy: 9.7987e-04\n",
            "Epoch 150/400\n",
            "156/156 [==============================] - 0s 3ms/step - loss: 4.9482 - accuracy: 0.0016 - val_loss: 4.8565 - val_accuracy: 9.7987e-04\n",
            "Epoch 151/400\n",
            "156/156 [==============================] - 1s 4ms/step - loss: 4.9498 - accuracy: 0.0016 - val_loss: 4.8573 - val_accuracy: 9.7987e-04\n",
            "Epoch 152/400\n",
            "156/156 [==============================] - 1s 4ms/step - loss: 4.9528 - accuracy: 0.0016 - val_loss: 4.9220 - val_accuracy: 9.7987e-04\n",
            "Epoch 153/400\n",
            "156/156 [==============================] - 0s 3ms/step - loss: 4.9428 - accuracy: 0.0016 - val_loss: 4.8780 - val_accuracy: 9.7987e-04\n",
            "Epoch 154/400\n",
            "156/156 [==============================] - 0s 3ms/step - loss: 4.9373 - accuracy: 0.0016 - val_loss: 4.8422 - val_accuracy: 9.7987e-04\n",
            "Epoch 155/400\n",
            "156/156 [==============================] - 1s 4ms/step - loss: 4.9356 - accuracy: 0.0016 - val_loss: 4.8691 - val_accuracy: 9.7987e-04\n",
            "Epoch 156/400\n",
            "156/156 [==============================] - 0s 3ms/step - loss: 4.9380 - accuracy: 0.0016 - val_loss: 4.8493 - val_accuracy: 9.7987e-04\n",
            "Epoch 157/400\n",
            "156/156 [==============================] - 0s 3ms/step - loss: 4.9327 - accuracy: 0.0016 - val_loss: 4.8454 - val_accuracy: 9.7987e-04\n",
            "Epoch 158/400\n",
            "156/156 [==============================] - 0s 3ms/step - loss: 4.9330 - accuracy: 0.0016 - val_loss: 4.8704 - val_accuracy: 9.7987e-04\n",
            "Epoch 159/400\n",
            "156/156 [==============================] - 1s 4ms/step - loss: 4.9403 - accuracy: 0.0016 - val_loss: 4.8753 - val_accuracy: 9.7987e-04\n",
            "Epoch 160/400\n",
            "156/156 [==============================] - 1s 4ms/step - loss: 4.9258 - accuracy: 0.0016 - val_loss: 4.8405 - val_accuracy: 9.7987e-04\n",
            "Epoch 161/400\n",
            "156/156 [==============================] - 0s 3ms/step - loss: 4.9284 - accuracy: 0.0016 - val_loss: 4.8703 - val_accuracy: 9.7987e-04\n",
            "Epoch 162/400\n",
            "156/156 [==============================] - 1s 3ms/step - loss: 4.9233 - accuracy: 0.0016 - val_loss: 4.8243 - val_accuracy: 9.7987e-04\n",
            "Epoch 163/400\n",
            "156/156 [==============================] - 1s 4ms/step - loss: 4.9241 - accuracy: 0.0016 - val_loss: 4.8277 - val_accuracy: 9.7987e-04\n",
            "Epoch 164/400\n",
            "156/156 [==============================] - 0s 3ms/step - loss: 4.9286 - accuracy: 0.0016 - val_loss: 4.8331 - val_accuracy: 9.7987e-04\n",
            "Epoch 165/400\n",
            "156/156 [==============================] - 0s 3ms/step - loss: 4.9240 - accuracy: 0.0016 - val_loss: 4.8599 - val_accuracy: 9.7987e-04\n",
            "Epoch 166/400\n",
            "156/156 [==============================] - 1s 4ms/step - loss: 4.9551 - accuracy: 0.0016 - val_loss: 4.8251 - val_accuracy: 9.7987e-04\n",
            "Epoch 167/400\n",
            "156/156 [==============================] - 0s 3ms/step - loss: 4.9131 - accuracy: 0.0016 - val_loss: 4.8321 - val_accuracy: 9.7987e-04\n",
            "Epoch 168/400\n",
            "156/156 [==============================] - 0s 3ms/step - loss: 4.9339 - accuracy: 0.0016 - val_loss: 4.8299 - val_accuracy: 9.7987e-04\n",
            "Epoch 169/400\n",
            "156/156 [==============================] - 1s 4ms/step - loss: 4.9386 - accuracy: 0.0016 - val_loss: 4.8464 - val_accuracy: 9.7987e-04\n",
            "Epoch 170/400\n",
            "156/156 [==============================] - 0s 3ms/step - loss: 4.9175 - accuracy: 0.0016 - val_loss: 4.8527 - val_accuracy: 9.7987e-04\n",
            "Epoch 171/400\n",
            "156/156 [==============================] - 0s 3ms/step - loss: 4.9149 - accuracy: 0.0016 - val_loss: 4.8367 - val_accuracy: 9.7987e-04\n",
            "Epoch 172/400\n",
            "156/156 [==============================] - 1s 4ms/step - loss: 4.9134 - accuracy: 0.0016 - val_loss: 4.8638 - val_accuracy: 9.7987e-04\n",
            "Epoch 173/400\n",
            "156/156 [==============================] - 1s 3ms/step - loss: 4.9202 - accuracy: 0.0016 - val_loss: 4.8324 - val_accuracy: 9.7987e-04\n",
            "Epoch 174/400\n",
            "156/156 [==============================] - 1s 3ms/step - loss: 4.9120 - accuracy: 0.0016 - val_loss: 4.8313 - val_accuracy: 9.7987e-04\n",
            "Epoch 175/400\n",
            "156/156 [==============================] - 1s 4ms/step - loss: 4.9062 - accuracy: 0.0016 - val_loss: 4.8171 - val_accuracy: 9.7987e-04\n",
            "Epoch 176/400\n",
            "156/156 [==============================] - 0s 3ms/step - loss: 4.9140 - accuracy: 0.0016 - val_loss: 4.8163 - val_accuracy: 9.7987e-04\n",
            "Epoch 177/400\n",
            "156/156 [==============================] - 1s 4ms/step - loss: 4.9031 - accuracy: 0.0016 - val_loss: 4.8309 - val_accuracy: 9.7987e-04\n",
            "Epoch 178/400\n",
            "156/156 [==============================] - 0s 3ms/step - loss: 4.9058 - accuracy: 0.0016 - val_loss: 4.8675 - val_accuracy: 9.7987e-04\n",
            "Epoch 179/400\n",
            "156/156 [==============================] - 1s 4ms/step - loss: 4.9016 - accuracy: 0.0016 - val_loss: 4.8953 - val_accuracy: 9.7987e-04\n",
            "Epoch 180/400\n",
            "156/156 [==============================] - 1s 4ms/step - loss: 4.9000 - accuracy: 0.0016 - val_loss: 4.8360 - val_accuracy: 9.7987e-04\n",
            "Epoch 181/400\n",
            "156/156 [==============================] - 1s 4ms/step - loss: 4.9092 - accuracy: 0.0016 - val_loss: 4.8081 - val_accuracy: 9.7987e-04\n",
            "Epoch 182/400\n",
            "156/156 [==============================] - 0s 3ms/step - loss: 4.9032 - accuracy: 0.0016 - val_loss: 4.9424 - val_accuracy: 9.7987e-04\n",
            "Epoch 183/400\n",
            "156/156 [==============================] - 0s 3ms/step - loss: 4.9127 - accuracy: 0.0016 - val_loss: 4.8296 - val_accuracy: 9.7987e-04\n",
            "Epoch 184/400\n",
            "156/156 [==============================] - 1s 4ms/step - loss: 4.9010 - accuracy: 0.0016 - val_loss: 4.8156 - val_accuracy: 9.7987e-04\n",
            "Epoch 185/400\n",
            "156/156 [==============================] - 0s 3ms/step - loss: 4.8942 - accuracy: 0.0016 - val_loss: 4.8302 - val_accuracy: 9.7987e-04\n",
            "Epoch 186/400\n",
            "156/156 [==============================] - 0s 3ms/step - loss: 4.9011 - accuracy: 0.0016 - val_loss: 4.8169 - val_accuracy: 9.7987e-04\n",
            "Epoch 187/400\n",
            "156/156 [==============================] - 0s 3ms/step - loss: 4.8832 - accuracy: 0.0016 - val_loss: 4.8495 - val_accuracy: 9.7987e-04\n",
            "Epoch 188/400\n",
            "156/156 [==============================] - 1s 3ms/step - loss: 4.8968 - accuracy: 0.0016 - val_loss: 4.8204 - val_accuracy: 9.7987e-04\n",
            "Epoch 189/400\n",
            "156/156 [==============================] - 1s 3ms/step - loss: 4.8910 - accuracy: 0.0016 - val_loss: 4.8143 - val_accuracy: 9.7987e-04\n",
            "Epoch 190/400\n",
            "156/156 [==============================] - 0s 3ms/step - loss: 4.8892 - accuracy: 0.0016 - val_loss: 4.9390 - val_accuracy: 9.7987e-04\n",
            "Epoch 191/400\n",
            "156/156 [==============================] - 0s 3ms/step - loss: 4.8837 - accuracy: 0.0016 - val_loss: 4.8037 - val_accuracy: 9.7987e-04\n",
            "Epoch 192/400\n",
            "156/156 [==============================] - 0s 3ms/step - loss: 4.8855 - accuracy: 0.0016 - val_loss: 4.8188 - val_accuracy: 9.7987e-04\n",
            "Epoch 193/400\n",
            "156/156 [==============================] - 1s 3ms/step - loss: 4.9013 - accuracy: 0.0016 - val_loss: 4.8031 - val_accuracy: 9.7987e-04\n",
            "Epoch 194/400\n",
            "156/156 [==============================] - 0s 3ms/step - loss: 4.9103 - accuracy: 0.0015 - val_loss: 4.8668 - val_accuracy: 9.7987e-04\n",
            "Epoch 195/400\n",
            "156/156 [==============================] - 1s 4ms/step - loss: 4.8959 - accuracy: 0.0016 - val_loss: 4.7938 - val_accuracy: 9.7987e-04\n",
            "Epoch 196/400\n",
            "156/156 [==============================] - 1s 3ms/step - loss: 4.8888 - accuracy: 0.0016 - val_loss: 4.8173 - val_accuracy: 9.7987e-04\n",
            "Epoch 197/400\n",
            "156/156 [==============================] - 1s 4ms/step - loss: 4.8826 - accuracy: 0.0016 - val_loss: 4.9213 - val_accuracy: 9.7987e-04\n",
            "Epoch 198/400\n",
            "156/156 [==============================] - 0s 3ms/step - loss: 4.9107 - accuracy: 0.0016 - val_loss: 4.8347 - val_accuracy: 9.7987e-04\n",
            "Epoch 199/400\n",
            "156/156 [==============================] - 1s 4ms/step - loss: 4.8742 - accuracy: 0.0016 - val_loss: 4.8187 - val_accuracy: 9.7987e-04\n",
            "Epoch 200/400\n",
            "156/156 [==============================] - 0s 3ms/step - loss: 4.8811 - accuracy: 0.0016 - val_loss: 4.8056 - val_accuracy: 9.7987e-04\n",
            "Epoch 201/400\n",
            "156/156 [==============================] - 1s 4ms/step - loss: 4.8765 - accuracy: 0.0016 - val_loss: 4.8185 - val_accuracy: 9.7987e-04\n",
            "Epoch 202/400\n",
            "156/156 [==============================] - 1s 3ms/step - loss: 4.8893 - accuracy: 0.0015 - val_loss: 4.8203 - val_accuracy: 9.7987e-04\n",
            "Epoch 203/400\n",
            "156/156 [==============================] - 0s 3ms/step - loss: 4.8815 - accuracy: 0.0016 - val_loss: 4.7974 - val_accuracy: 9.7987e-04\n",
            "Epoch 204/400\n",
            "156/156 [==============================] - 0s 3ms/step - loss: 4.8768 - accuracy: 0.0015 - val_loss: 4.8042 - val_accuracy: 9.7987e-04\n",
            "Epoch 205/400\n",
            "156/156 [==============================] - 0s 3ms/step - loss: 4.8716 - accuracy: 0.0015 - val_loss: 4.7835 - val_accuracy: 9.7987e-04\n",
            "Epoch 206/400\n",
            "156/156 [==============================] - 0s 3ms/step - loss: 4.8848 - accuracy: 0.0016 - val_loss: 4.8248 - val_accuracy: 9.7987e-04\n",
            "Epoch 207/400\n",
            "156/156 [==============================] - 0s 3ms/step - loss: 4.8839 - accuracy: 0.0015 - val_loss: 4.7841 - val_accuracy: 9.7987e-04\n",
            "Epoch 208/400\n",
            "156/156 [==============================] - 0s 3ms/step - loss: 4.8803 - accuracy: 0.0016 - val_loss: 4.7926 - val_accuracy: 9.7987e-04\n",
            "Epoch 209/400\n",
            "156/156 [==============================] - 1s 4ms/step - loss: 4.8649 - accuracy: 0.0016 - val_loss: 4.7871 - val_accuracy: 9.7987e-04\n",
            "Epoch 210/400\n",
            "156/156 [==============================] - 0s 3ms/step - loss: 4.8769 - accuracy: 0.0016 - val_loss: 4.7928 - val_accuracy: 9.7987e-04\n",
            "Epoch 211/400\n",
            "156/156 [==============================] - 1s 4ms/step - loss: 4.8651 - accuracy: 0.0015 - val_loss: 4.7861 - val_accuracy: 9.7987e-04\n",
            "Epoch 212/400\n",
            "156/156 [==============================] - 0s 3ms/step - loss: 4.8629 - accuracy: 0.0016 - val_loss: 4.7972 - val_accuracy: 9.7987e-04\n",
            "Epoch 213/400\n",
            "156/156 [==============================] - 0s 3ms/step - loss: 4.8616 - accuracy: 0.0016 - val_loss: 4.7812 - val_accuracy: 9.7987e-04\n",
            "Epoch 214/400\n",
            "156/156 [==============================] - 0s 3ms/step - loss: 4.8703 - accuracy: 0.0016 - val_loss: 4.7903 - val_accuracy: 9.7987e-04\n",
            "Epoch 215/400\n",
            "156/156 [==============================] - 0s 3ms/step - loss: 4.8658 - accuracy: 0.0015 - val_loss: 4.7769 - val_accuracy: 9.7987e-04\n",
            "Epoch 216/400\n",
            "156/156 [==============================] - 0s 3ms/step - loss: 4.8647 - accuracy: 0.0015 - val_loss: 4.8536 - val_accuracy: 9.7987e-04\n",
            "Epoch 217/400\n",
            "156/156 [==============================] - 0s 3ms/step - loss: 4.8688 - accuracy: 0.0015 - val_loss: 4.7783 - val_accuracy: 9.7987e-04\n",
            "Epoch 218/400\n",
            "156/156 [==============================] - 0s 3ms/step - loss: 4.8698 - accuracy: 0.0015 - val_loss: 4.8339 - val_accuracy: 9.7987e-04\n",
            "Epoch 219/400\n",
            "156/156 [==============================] - 1s 4ms/step - loss: 4.8738 - accuracy: 0.0016 - val_loss: 4.7764 - val_accuracy: 9.7987e-04\n",
            "Epoch 220/400\n",
            "156/156 [==============================] - 1s 4ms/step - loss: 4.8594 - accuracy: 0.0015 - val_loss: 4.7777 - val_accuracy: 9.7987e-04\n",
            "Epoch 221/400\n",
            "156/156 [==============================] - 1s 3ms/step - loss: 4.9000 - accuracy: 0.0016 - val_loss: 4.7748 - val_accuracy: 9.7987e-04\n",
            "Epoch 222/400\n",
            "156/156 [==============================] - 1s 3ms/step - loss: 4.8590 - accuracy: 0.0016 - val_loss: 4.8032 - val_accuracy: 9.7987e-04\n",
            "Epoch 223/400\n",
            "156/156 [==============================] - 0s 3ms/step - loss: 4.8561 - accuracy: 0.0015 - val_loss: 4.8097 - val_accuracy: 9.7987e-04\n",
            "Epoch 224/400\n",
            "156/156 [==============================] - 1s 3ms/step - loss: 4.8694 - accuracy: 0.0015 - val_loss: 4.8064 - val_accuracy: 9.7987e-04\n",
            "Epoch 225/400\n",
            "156/156 [==============================] - 0s 3ms/step - loss: 4.8650 - accuracy: 0.0015 - val_loss: 4.7797 - val_accuracy: 9.7987e-04\n",
            "Epoch 226/400\n",
            "156/156 [==============================] - 0s 3ms/step - loss: 4.8540 - accuracy: 0.0016 - val_loss: 4.7885 - val_accuracy: 9.7987e-04\n",
            "Epoch 227/400\n",
            "156/156 [==============================] - 1s 3ms/step - loss: 4.8604 - accuracy: 0.0015 - val_loss: 4.7900 - val_accuracy: 9.7987e-04\n",
            "Epoch 228/400\n",
            "156/156 [==============================] - 1s 3ms/step - loss: 4.8519 - accuracy: 0.0016 - val_loss: 4.7772 - val_accuracy: 9.7987e-04\n",
            "Epoch 229/400\n",
            "156/156 [==============================] - 1s 4ms/step - loss: 4.8503 - accuracy: 0.0015 - val_loss: 4.7798 - val_accuracy: 9.7987e-04\n",
            "Epoch 230/400\n",
            "156/156 [==============================] - 1s 4ms/step - loss: 4.8612 - accuracy: 0.0016 - val_loss: 4.8268 - val_accuracy: 9.7987e-04\n",
            "Epoch 231/400\n",
            "156/156 [==============================] - 0s 3ms/step - loss: 4.8584 - accuracy: 0.0016 - val_loss: 4.9053 - val_accuracy: 9.7987e-04\n",
            "Epoch 232/400\n",
            "156/156 [==============================] - 0s 3ms/step - loss: 4.8706 - accuracy: 0.0016 - val_loss: 4.8516 - val_accuracy: 9.7987e-04\n",
            "Epoch 233/400\n",
            "156/156 [==============================] - 0s 3ms/step - loss: 4.8576 - accuracy: 0.0016 - val_loss: 4.7759 - val_accuracy: 9.7987e-04\n",
            "Epoch 234/400\n",
            "156/156 [==============================] - 1s 3ms/step - loss: 4.8502 - accuracy: 0.0015 - val_loss: 4.7653 - val_accuracy: 9.7987e-04\n",
            "Epoch 235/400\n",
            "156/156 [==============================] - 1s 3ms/step - loss: 4.8467 - accuracy: 0.0015 - val_loss: 4.7742 - val_accuracy: 9.7987e-04\n",
            "Epoch 236/400\n",
            "156/156 [==============================] - 1s 3ms/step - loss: 4.8465 - accuracy: 0.0016 - val_loss: 4.7770 - val_accuracy: 9.7987e-04\n",
            "Epoch 237/400\n",
            "156/156 [==============================] - 1s 3ms/step - loss: 4.8529 - accuracy: 0.0016 - val_loss: 4.7807 - val_accuracy: 9.7987e-04\n",
            "Epoch 238/400\n",
            "156/156 [==============================] - 1s 4ms/step - loss: 4.8604 - accuracy: 0.0016 - val_loss: 4.7636 - val_accuracy: 9.7987e-04\n",
            "Epoch 239/400\n",
            "156/156 [==============================] - 0s 3ms/step - loss: 4.8453 - accuracy: 0.0016 - val_loss: 4.7797 - val_accuracy: 9.7987e-04\n",
            "Epoch 240/400\n",
            "156/156 [==============================] - 1s 4ms/step - loss: 4.8402 - accuracy: 0.0015 - val_loss: 4.7567 - val_accuracy: 9.7987e-04\n",
            "Epoch 241/400\n",
            "156/156 [==============================] - 0s 3ms/step - loss: 4.8390 - accuracy: 0.0016 - val_loss: 4.8699 - val_accuracy: 9.7987e-04\n",
            "Epoch 242/400\n",
            "156/156 [==============================] - 1s 4ms/step - loss: 4.8443 - accuracy: 0.0016 - val_loss: 4.7789 - val_accuracy: 9.7987e-04\n",
            "Epoch 243/400\n",
            "156/156 [==============================] - 0s 3ms/step - loss: 4.8451 - accuracy: 0.0016 - val_loss: 4.8296 - val_accuracy: 9.7987e-04\n",
            "Epoch 244/400\n",
            "156/156 [==============================] - 0s 3ms/step - loss: 4.8572 - accuracy: 0.0016 - val_loss: 4.7807 - val_accuracy: 9.7987e-04\n",
            "Epoch 245/400\n",
            "156/156 [==============================] - 0s 3ms/step - loss: 4.8396 - accuracy: 0.0015 - val_loss: 4.7629 - val_accuracy: 9.7987e-04\n",
            "Epoch 246/400\n",
            "156/156 [==============================] - 0s 3ms/step - loss: 4.8412 - accuracy: 0.0015 - val_loss: 4.7586 - val_accuracy: 9.7987e-04\n",
            "Epoch 247/400\n",
            "156/156 [==============================] - 0s 3ms/step - loss: 4.8417 - accuracy: 0.0015 - val_loss: 4.7781 - val_accuracy: 9.7987e-04\n",
            "Epoch 248/400\n",
            "156/156 [==============================] - 0s 3ms/step - loss: 4.8423 - accuracy: 0.0016 - val_loss: 4.7982 - val_accuracy: 9.7987e-04\n",
            "Epoch 249/400\n",
            "156/156 [==============================] - 0s 3ms/step - loss: 4.8468 - accuracy: 0.0015 - val_loss: 4.7932 - val_accuracy: 9.7987e-04\n",
            "Epoch 250/400\n",
            "156/156 [==============================] - 0s 3ms/step - loss: 4.8419 - accuracy: 0.0016 - val_loss: 4.7546 - val_accuracy: 9.7987e-04\n",
            "Epoch 251/400\n",
            "156/156 [==============================] - 0s 3ms/step - loss: 4.8442 - accuracy: 0.0015 - val_loss: 4.7697 - val_accuracy: 9.7987e-04\n",
            "Epoch 252/400\n",
            "156/156 [==============================] - 1s 4ms/step - loss: 4.8320 - accuracy: 0.0015 - val_loss: 4.8340 - val_accuracy: 9.7987e-04\n",
            "Epoch 253/400\n",
            "156/156 [==============================] - 1s 4ms/step - loss: 4.8335 - accuracy: 0.0015 - val_loss: 4.7880 - val_accuracy: 9.7987e-04\n",
            "Epoch 254/400\n",
            "156/156 [==============================] - 1s 3ms/step - loss: 4.8293 - accuracy: 0.0016 - val_loss: 4.7968 - val_accuracy: 9.7987e-04\n",
            "Epoch 255/400\n",
            "156/156 [==============================] - 0s 3ms/step - loss: 4.8332 - accuracy: 0.0016 - val_loss: 4.7616 - val_accuracy: 9.7987e-04\n",
            "Epoch 256/400\n",
            "156/156 [==============================] - 0s 3ms/step - loss: 4.8260 - accuracy: 0.0015 - val_loss: 4.8161 - val_accuracy: 9.7987e-04\n",
            "Epoch 257/400\n",
            "156/156 [==============================] - 0s 3ms/step - loss: 4.8316 - accuracy: 0.0015 - val_loss: 4.7489 - val_accuracy: 9.7987e-04\n",
            "Epoch 258/400\n",
            "156/156 [==============================] - 0s 3ms/step - loss: 4.8252 - accuracy: 0.0015 - val_loss: 4.7617 - val_accuracy: 9.7987e-04\n",
            "Epoch 259/400\n",
            "156/156 [==============================] - 0s 3ms/step - loss: 4.8465 - accuracy: 0.0015 - val_loss: 4.7656 - val_accuracy: 9.7987e-04\n",
            "Epoch 260/400\n",
            "156/156 [==============================] - 0s 3ms/step - loss: 4.8335 - accuracy: 0.0016 - val_loss: 4.7637 - val_accuracy: 9.7987e-04\n",
            "Epoch 261/400\n",
            "156/156 [==============================] - 1s 4ms/step - loss: 4.8247 - accuracy: 0.0015 - val_loss: 4.7919 - val_accuracy: 9.7987e-04\n",
            "Epoch 262/400\n",
            "156/156 [==============================] - 0s 3ms/step - loss: 4.8320 - accuracy: 0.0016 - val_loss: 4.7712 - val_accuracy: 9.7987e-04\n",
            "Epoch 263/400\n",
            "156/156 [==============================] - 1s 4ms/step - loss: 4.8260 - accuracy: 0.0016 - val_loss: 4.7893 - val_accuracy: 9.7987e-04\n",
            "Epoch 264/400\n",
            "156/156 [==============================] - 0s 3ms/step - loss: 4.8353 - accuracy: 0.0016 - val_loss: 4.7429 - val_accuracy: 9.7987e-04\n",
            "Epoch 265/400\n",
            "156/156 [==============================] - 1s 4ms/step - loss: 4.8256 - accuracy: 0.0015 - val_loss: 4.7438 - val_accuracy: 9.7987e-04\n",
            "Epoch 266/400\n",
            "156/156 [==============================] - 0s 3ms/step - loss: 4.8149 - accuracy: 0.0016 - val_loss: 4.7561 - val_accuracy: 9.7987e-04\n",
            "Epoch 267/400\n",
            "156/156 [==============================] - 1s 4ms/step - loss: 4.8216 - accuracy: 0.0016 - val_loss: 4.7480 - val_accuracy: 9.7987e-04\n",
            "Epoch 268/400\n",
            "156/156 [==============================] - 0s 3ms/step - loss: 4.8243 - accuracy: 0.0016 - val_loss: 4.7708 - val_accuracy: 9.7987e-04\n",
            "Epoch 269/400\n",
            "156/156 [==============================] - 1s 4ms/step - loss: 4.8182 - accuracy: 0.0015 - val_loss: 4.7640 - val_accuracy: 9.7987e-04\n",
            "Epoch 270/400\n",
            "156/156 [==============================] - 0s 3ms/step - loss: 4.8171 - accuracy: 0.0016 - val_loss: 4.7485 - val_accuracy: 9.7987e-04\n",
            "Epoch 271/400\n",
            "156/156 [==============================] - 0s 3ms/step - loss: 4.8138 - accuracy: 0.0015 - val_loss: 4.7600 - val_accuracy: 9.7987e-04\n",
            "Epoch 272/400\n",
            "156/156 [==============================] - 0s 3ms/step - loss: 4.8294 - accuracy: 0.0015 - val_loss: 4.7939 - val_accuracy: 9.7987e-04\n",
            "Epoch 273/400\n",
            "156/156 [==============================] - 1s 4ms/step - loss: 4.8294 - accuracy: 0.0016 - val_loss: 4.7694 - val_accuracy: 9.7987e-04\n",
            "Epoch 274/400\n",
            "156/156 [==============================] - 0s 3ms/step - loss: 4.8212 - accuracy: 0.0015 - val_loss: 4.7584 - val_accuracy: 9.7987e-04\n",
            "Epoch 275/400\n",
            "156/156 [==============================] - 1s 4ms/step - loss: 4.8165 - accuracy: 0.0016 - val_loss: 4.7436 - val_accuracy: 9.7987e-04\n",
            "Epoch 276/400\n",
            "156/156 [==============================] - 0s 3ms/step - loss: 4.8330 - accuracy: 0.0015 - val_loss: 4.7448 - val_accuracy: 9.7987e-04\n",
            "Epoch 277/400\n",
            "156/156 [==============================] - 0s 3ms/step - loss: 4.8112 - accuracy: 0.0015 - val_loss: 4.7906 - val_accuracy: 9.7987e-04\n",
            "Epoch 278/400\n",
            "156/156 [==============================] - 0s 3ms/step - loss: 4.8199 - accuracy: 0.0015 - val_loss: 4.7427 - val_accuracy: 9.7987e-04\n",
            "Epoch 279/400\n",
            "156/156 [==============================] - 0s 3ms/step - loss: 4.8122 - accuracy: 0.0015 - val_loss: 4.7443 - val_accuracy: 9.7987e-04\n",
            "Epoch 280/400\n",
            "156/156 [==============================] - 1s 4ms/step - loss: 4.8117 - accuracy: 0.0015 - val_loss: 4.7579 - val_accuracy: 9.7987e-04\n",
            "Epoch 281/400\n",
            "156/156 [==============================] - 0s 3ms/step - loss: 4.8170 - accuracy: 0.0016 - val_loss: 4.7600 - val_accuracy: 9.7987e-04\n",
            "Epoch 282/400\n",
            "156/156 [==============================] - 0s 3ms/step - loss: 4.8109 - accuracy: 0.0016 - val_loss: 4.7625 - val_accuracy: 9.7987e-04\n",
            "Epoch 283/400\n",
            "156/156 [==============================] - 1s 4ms/step - loss: 4.8214 - accuracy: 0.0016 - val_loss: 4.7806 - val_accuracy: 9.7987e-04\n",
            "Epoch 284/400\n",
            "156/156 [==============================] - 1s 3ms/step - loss: 4.8256 - accuracy: 0.0016 - val_loss: 4.7397 - val_accuracy: 9.7987e-04\n",
            "Epoch 285/400\n",
            "156/156 [==============================] - 0s 3ms/step - loss: 4.8129 - accuracy: 0.0015 - val_loss: 4.7811 - val_accuracy: 9.7987e-04\n",
            "Epoch 286/400\n",
            "156/156 [==============================] - 1s 4ms/step - loss: 4.8154 - accuracy: 0.0016 - val_loss: 4.7382 - val_accuracy: 9.7987e-04\n",
            "Epoch 287/400\n",
            "156/156 [==============================] - 0s 3ms/step - loss: 4.8104 - accuracy: 0.0015 - val_loss: 4.7404 - val_accuracy: 9.7987e-04\n",
            "Epoch 288/400\n",
            "156/156 [==============================] - 1s 5ms/step - loss: 4.8153 - accuracy: 0.0016 - val_loss: 4.7693 - val_accuracy: 9.7987e-04\n",
            "Epoch 289/400\n",
            "156/156 [==============================] - 1s 3ms/step - loss: 4.8009 - accuracy: 0.0015 - val_loss: 4.7498 - val_accuracy: 9.7987e-04\n",
            "Epoch 290/400\n",
            "156/156 [==============================] - 1s 4ms/step - loss: 4.8073 - accuracy: 0.0016 - val_loss: 4.7546 - val_accuracy: 9.7987e-04\n",
            "Epoch 291/400\n",
            "156/156 [==============================] - 1s 4ms/step - loss: 4.8025 - accuracy: 0.0016 - val_loss: 4.7829 - val_accuracy: 9.7987e-04\n",
            "Epoch 292/400\n",
            "156/156 [==============================] - 1s 3ms/step - loss: 4.8086 - accuracy: 0.0016 - val_loss: 4.7478 - val_accuracy: 9.7987e-04\n",
            "Epoch 293/400\n",
            "156/156 [==============================] - 0s 3ms/step - loss: 4.8084 - accuracy: 0.0015 - val_loss: 4.7367 - val_accuracy: 9.7987e-04\n",
            "Epoch 294/400\n",
            "156/156 [==============================] - 0s 3ms/step - loss: 4.8037 - accuracy: 0.0016 - val_loss: 4.7310 - val_accuracy: 9.7987e-04\n",
            "Epoch 295/400\n",
            "156/156 [==============================] - 1s 4ms/step - loss: 4.8037 - accuracy: 0.0015 - val_loss: 4.7550 - val_accuracy: 9.7987e-04\n",
            "Epoch 296/400\n",
            "156/156 [==============================] - 0s 3ms/step - loss: 4.8082 - accuracy: 0.0016 - val_loss: 4.7428 - val_accuracy: 9.7987e-04\n",
            "Epoch 297/400\n",
            "156/156 [==============================] - 1s 4ms/step - loss: 4.8007 - accuracy: 0.0016 - val_loss: 4.7696 - val_accuracy: 9.7987e-04\n",
            "Epoch 298/400\n",
            "156/156 [==============================] - 1s 3ms/step - loss: 4.8093 - accuracy: 0.0016 - val_loss: 4.7354 - val_accuracy: 9.7987e-04\n",
            "Epoch 299/400\n",
            "156/156 [==============================] - 1s 4ms/step - loss: 4.7985 - accuracy: 0.0016 - val_loss: 4.8022 - val_accuracy: 9.7987e-04\n",
            "Epoch 300/400\n",
            "156/156 [==============================] - 0s 3ms/step - loss: 4.8087 - accuracy: 0.0015 - val_loss: 4.8562 - val_accuracy: 9.7987e-04\n",
            "Epoch 301/400\n",
            "156/156 [==============================] - 0s 3ms/step - loss: 4.8007 - accuracy: 0.0016 - val_loss: 4.7947 - val_accuracy: 9.7987e-04\n",
            "Epoch 302/400\n",
            "156/156 [==============================] - 1s 3ms/step - loss: 4.8017 - accuracy: 0.0016 - val_loss: 4.7298 - val_accuracy: 9.7987e-04\n",
            "Epoch 303/400\n",
            "156/156 [==============================] - 0s 3ms/step - loss: 4.8016 - accuracy: 0.0016 - val_loss: 4.7589 - val_accuracy: 9.7987e-04\n",
            "Epoch 304/400\n",
            "156/156 [==============================] - 1s 3ms/step - loss: 4.8036 - accuracy: 0.0016 - val_loss: 4.7498 - val_accuracy: 9.7987e-04\n",
            "Epoch 305/400\n",
            "156/156 [==============================] - 1s 4ms/step - loss: 4.7983 - accuracy: 0.0015 - val_loss: 4.7471 - val_accuracy: 9.7987e-04\n",
            "Epoch 306/400\n",
            "156/156 [==============================] - 0s 3ms/step - loss: 4.7933 - accuracy: 0.0016 - val_loss: 4.7517 - val_accuracy: 9.7987e-04\n",
            "Epoch 307/400\n",
            "156/156 [==============================] - 0s 3ms/step - loss: 4.7902 - accuracy: 0.0015 - val_loss: 4.7780 - val_accuracy: 9.7987e-04\n",
            "Epoch 308/400\n",
            "156/156 [==============================] - 1s 3ms/step - loss: 4.7899 - accuracy: 0.0016 - val_loss: 4.7527 - val_accuracy: 9.7987e-04\n",
            "Epoch 309/400\n",
            "156/156 [==============================] - 1s 4ms/step - loss: 4.7940 - accuracy: 0.0015 - val_loss: 4.7689 - val_accuracy: 9.7987e-04\n",
            "Epoch 310/400\n",
            "156/156 [==============================] - 1s 3ms/step - loss: 4.7900 - accuracy: 0.0016 - val_loss: 4.7626 - val_accuracy: 9.7987e-04\n",
            "Epoch 311/400\n",
            "156/156 [==============================] - 0s 3ms/step - loss: 4.7976 - accuracy: 0.0016 - val_loss: 4.8517 - val_accuracy: 9.7987e-04\n",
            "Epoch 312/400\n",
            "156/156 [==============================] - 1s 3ms/step - loss: 4.7996 - accuracy: 0.0016 - val_loss: 4.7706 - val_accuracy: 9.7987e-04\n",
            "Epoch 313/400\n",
            "156/156 [==============================] - 1s 4ms/step - loss: 4.7879 - accuracy: 0.0016 - val_loss: 4.7283 - val_accuracy: 9.7987e-04\n",
            "Epoch 314/400\n",
            "156/156 [==============================] - 1s 3ms/step - loss: 4.7943 - accuracy: 0.0016 - val_loss: 4.7776 - val_accuracy: 9.7987e-04\n",
            "Epoch 315/400\n",
            "156/156 [==============================] - 1s 4ms/step - loss: 4.7938 - accuracy: 0.0015 - val_loss: 4.7407 - val_accuracy: 9.7987e-04\n",
            "Epoch 316/400\n",
            "156/156 [==============================] - 1s 3ms/step - loss: 4.7948 - accuracy: 0.0016 - val_loss: 4.7473 - val_accuracy: 9.7987e-04\n",
            "Epoch 317/400\n",
            "156/156 [==============================] - 1s 3ms/step - loss: 4.7911 - accuracy: 0.0016 - val_loss: 4.7903 - val_accuracy: 9.7987e-04\n",
            "Epoch 318/400\n",
            "156/156 [==============================] - 1s 4ms/step - loss: 4.7948 - accuracy: 0.0015 - val_loss: 4.8400 - val_accuracy: 9.7987e-04\n",
            "Epoch 319/400\n",
            "156/156 [==============================] - 1s 4ms/step - loss: 4.7910 - accuracy: 0.0016 - val_loss: 4.7469 - val_accuracy: 9.7987e-04\n",
            "Epoch 320/400\n",
            "156/156 [==============================] - 0s 3ms/step - loss: 4.7833 - accuracy: 0.0016 - val_loss: 4.8480 - val_accuracy: 9.7987e-04\n",
            "Epoch 321/400\n",
            "156/156 [==============================] - 1s 4ms/step - loss: 4.7936 - accuracy: 0.0016 - val_loss: 4.7381 - val_accuracy: 9.7987e-04\n",
            "Epoch 322/400\n",
            "156/156 [==============================] - 0s 3ms/step - loss: 4.7925 - accuracy: 0.0016 - val_loss: 4.7277 - val_accuracy: 9.7987e-04\n",
            "Epoch 323/400\n",
            "156/156 [==============================] - 1s 3ms/step - loss: 4.7871 - accuracy: 0.0016 - val_loss: 4.7382 - val_accuracy: 9.7987e-04\n",
            "Epoch 324/400\n",
            "156/156 [==============================] - 1s 4ms/step - loss: 4.7796 - accuracy: 0.0016 - val_loss: 4.7454 - val_accuracy: 9.7987e-04\n",
            "Epoch 325/400\n",
            "156/156 [==============================] - 1s 4ms/step - loss: 4.7883 - accuracy: 0.0016 - val_loss: 4.7316 - val_accuracy: 9.7987e-04\n",
            "Epoch 326/400\n",
            "156/156 [==============================] - 0s 3ms/step - loss: 4.7873 - accuracy: 0.0016 - val_loss: 4.7640 - val_accuracy: 9.7987e-04\n",
            "Epoch 327/400\n",
            "156/156 [==============================] - 1s 4ms/step - loss: 4.7898 - accuracy: 0.0016 - val_loss: 4.7287 - val_accuracy: 9.7987e-04\n",
            "Epoch 328/400\n",
            "156/156 [==============================] - 1s 4ms/step - loss: 4.7793 - accuracy: 0.0016 - val_loss: 4.7454 - val_accuracy: 9.7987e-04\n",
            "Epoch 329/400\n",
            "156/156 [==============================] - 0s 3ms/step - loss: 4.7823 - accuracy: 0.0015 - val_loss: 4.7493 - val_accuracy: 9.7987e-04\n",
            "Epoch 330/400\n",
            "156/156 [==============================] - 0s 3ms/step - loss: 4.7765 - accuracy: 0.0015 - val_loss: 4.7356 - val_accuracy: 9.7987e-04\n",
            "Epoch 331/400\n",
            "156/156 [==============================] - 0s 3ms/step - loss: 4.7755 - accuracy: 0.0015 - val_loss: 4.7415 - val_accuracy: 9.7987e-04\n",
            "Epoch 332/400\n",
            "156/156 [==============================] - 0s 3ms/step - loss: 4.7833 - accuracy: 0.0016 - val_loss: 4.7282 - val_accuracy: 9.7987e-04\n",
            "Epoch 333/400\n",
            "156/156 [==============================] - 1s 4ms/step - loss: 4.7820 - accuracy: 0.0016 - val_loss: 4.7737 - val_accuracy: 9.7987e-04\n",
            "Epoch 334/400\n",
            "156/156 [==============================] - 1s 4ms/step - loss: 4.7801 - accuracy: 0.0016 - val_loss: 4.9160 - val_accuracy: 9.7987e-04\n",
            "Epoch 335/400\n",
            "156/156 [==============================] - 0s 3ms/step - loss: 4.7945 - accuracy: 0.0016 - val_loss: 4.8695 - val_accuracy: 9.7987e-04\n",
            "Epoch 336/400\n",
            "156/156 [==============================] - 0s 3ms/step - loss: 4.7757 - accuracy: 0.0016 - val_loss: 4.7466 - val_accuracy: 9.7987e-04\n",
            "Epoch 337/400\n",
            "156/156 [==============================] - 0s 3ms/step - loss: 4.7709 - accuracy: 0.0015 - val_loss: 4.7261 - val_accuracy: 9.7987e-04\n",
            "Epoch 338/400\n",
            "156/156 [==============================] - 1s 3ms/step - loss: 4.7820 - accuracy: 0.0016 - val_loss: 4.7413 - val_accuracy: 9.7987e-04\n",
            "Epoch 339/400\n",
            "156/156 [==============================] - 1s 3ms/step - loss: 4.7692 - accuracy: 0.0016 - val_loss: 4.7364 - val_accuracy: 9.7987e-04\n",
            "Epoch 340/400\n",
            "156/156 [==============================] - 1s 4ms/step - loss: 4.7788 - accuracy: 0.0016 - val_loss: 4.7389 - val_accuracy: 9.7987e-04\n",
            "Epoch 341/400\n",
            "156/156 [==============================] - 1s 4ms/step - loss: 4.7621 - accuracy: 0.0016 - val_loss: 4.7456 - val_accuracy: 9.7987e-04\n",
            "Epoch 342/400\n",
            "156/156 [==============================] - 1s 3ms/step - loss: 4.7856 - accuracy: 0.0016 - val_loss: 4.8615 - val_accuracy: 9.7987e-04\n",
            "Epoch 343/400\n",
            "156/156 [==============================] - 1s 3ms/step - loss: 4.7863 - accuracy: 0.0016 - val_loss: 4.8214 - val_accuracy: 9.7987e-04\n",
            "Epoch 344/400\n",
            "156/156 [==============================] - 1s 3ms/step - loss: 4.7793 - accuracy: 0.0016 - val_loss: 4.7979 - val_accuracy: 9.7987e-04\n",
            "Epoch 345/400\n",
            "156/156 [==============================] - 1s 3ms/step - loss: 4.7741 - accuracy: 0.0016 - val_loss: 4.7936 - val_accuracy: 9.7987e-04\n",
            "Epoch 346/400\n",
            "156/156 [==============================] - 1s 4ms/step - loss: 4.7592 - accuracy: 0.0016 - val_loss: 4.7241 - val_accuracy: 9.7987e-04\n",
            "Epoch 347/400\n",
            "156/156 [==============================] - 0s 3ms/step - loss: 4.7778 - accuracy: 0.0015 - val_loss: 4.7719 - val_accuracy: 9.7987e-04\n",
            "Epoch 348/400\n",
            "156/156 [==============================] - 1s 3ms/step - loss: 4.7921 - accuracy: 0.0016 - val_loss: 4.7905 - val_accuracy: 9.7987e-04\n",
            "Epoch 349/400\n",
            "156/156 [==============================] - 0s 3ms/step - loss: 4.7624 - accuracy: 0.0016 - val_loss: 4.7273 - val_accuracy: 9.7987e-04\n",
            "Epoch 350/400\n",
            "156/156 [==============================] - 1s 3ms/step - loss: 4.7734 - accuracy: 0.0016 - val_loss: 4.7324 - val_accuracy: 9.7987e-04\n",
            "Epoch 351/400\n",
            "156/156 [==============================] - 0s 3ms/step - loss: 4.7770 - accuracy: 0.0016 - val_loss: 4.7429 - val_accuracy: 9.7987e-04\n",
            "Epoch 352/400\n",
            "156/156 [==============================] - 1s 4ms/step - loss: 4.7662 - accuracy: 0.0016 - val_loss: 4.7223 - val_accuracy: 9.7987e-04\n",
            "Epoch 353/400\n",
            "156/156 [==============================] - 0s 3ms/step - loss: 4.7680 - accuracy: 0.0016 - val_loss: 4.7465 - val_accuracy: 9.7987e-04\n",
            "Epoch 354/400\n",
            "156/156 [==============================] - 1s 4ms/step - loss: 4.7669 - accuracy: 0.0016 - val_loss: 4.7397 - val_accuracy: 9.7987e-04\n",
            "Epoch 355/400\n",
            "156/156 [==============================] - 1s 4ms/step - loss: 4.7777 - accuracy: 0.0015 - val_loss: 4.7650 - val_accuracy: 9.7987e-04\n",
            "Epoch 356/400\n",
            "156/156 [==============================] - 1s 4ms/step - loss: 4.7675 - accuracy: 0.0016 - val_loss: 4.7772 - val_accuracy: 9.7987e-04\n",
            "Epoch 357/400\n",
            "156/156 [==============================] - 0s 3ms/step - loss: 4.7613 - accuracy: 0.0015 - val_loss: 4.7404 - val_accuracy: 9.7987e-04\n",
            "Epoch 358/400\n",
            "156/156 [==============================] - 0s 3ms/step - loss: 4.7615 - accuracy: 0.0016 - val_loss: 4.7739 - val_accuracy: 9.7987e-04\n",
            "Epoch 359/400\n",
            "156/156 [==============================] - 1s 3ms/step - loss: 4.7736 - accuracy: 0.0016 - val_loss: 4.8184 - val_accuracy: 9.7987e-04\n",
            "Epoch 360/400\n",
            "156/156 [==============================] - 1s 4ms/step - loss: 4.7730 - accuracy: 0.0016 - val_loss: 4.7416 - val_accuracy: 9.7987e-04\n",
            "Epoch 361/400\n",
            "156/156 [==============================] - 1s 4ms/step - loss: 4.7665 - accuracy: 0.0016 - val_loss: 4.7261 - val_accuracy: 9.7987e-04\n",
            "Epoch 362/400\n",
            "156/156 [==============================] - 0s 3ms/step - loss: 4.7589 - accuracy: 0.0016 - val_loss: 4.7595 - val_accuracy: 9.7987e-04\n",
            "Epoch 363/400\n",
            "156/156 [==============================] - 1s 3ms/step - loss: 4.7639 - accuracy: 0.0016 - val_loss: 4.7174 - val_accuracy: 9.7987e-04\n",
            "Epoch 364/400\n",
            "156/156 [==============================] - 1s 4ms/step - loss: 4.7506 - accuracy: 0.0016 - val_loss: 4.7262 - val_accuracy: 9.7987e-04\n",
            "Epoch 365/400\n",
            "156/156 [==============================] - 1s 4ms/step - loss: 4.7570 - accuracy: 0.0016 - val_loss: 4.7400 - val_accuracy: 9.7987e-04\n",
            "Epoch 366/400\n",
            "156/156 [==============================] - 1s 3ms/step - loss: 4.7713 - accuracy: 0.0016 - val_loss: 4.7795 - val_accuracy: 9.7987e-04\n",
            "Epoch 367/400\n",
            "156/156 [==============================] - 1s 4ms/step - loss: 4.7619 - accuracy: 0.0016 - val_loss: 4.7178 - val_accuracy: 9.7987e-04\n",
            "Epoch 368/400\n",
            "156/156 [==============================] - 1s 4ms/step - loss: 4.7618 - accuracy: 0.0015 - val_loss: 4.7732 - val_accuracy: 9.7987e-04\n",
            "Epoch 369/400\n",
            "156/156 [==============================] - 0s 3ms/step - loss: 4.7705 - accuracy: 0.0015 - val_loss: 4.7717 - val_accuracy: 9.7987e-04\n",
            "Epoch 370/400\n",
            "156/156 [==============================] - 0s 3ms/step - loss: 4.7787 - accuracy: 0.0016 - val_loss: 4.7440 - val_accuracy: 9.7987e-04\n",
            "Epoch 371/400\n",
            "156/156 [==============================] - 1s 3ms/step - loss: 4.7664 - accuracy: 0.0016 - val_loss: 4.7628 - val_accuracy: 9.7987e-04\n",
            "Epoch 372/400\n",
            "156/156 [==============================] - 1s 4ms/step - loss: 4.7488 - accuracy: 0.0016 - val_loss: 4.7321 - val_accuracy: 9.7987e-04\n",
            "Epoch 373/400\n",
            "156/156 [==============================] - 1s 3ms/step - loss: 4.7555 - accuracy: 0.0016 - val_loss: 4.7690 - val_accuracy: 9.7987e-04\n",
            "Epoch 374/400\n",
            "156/156 [==============================] - 0s 3ms/step - loss: 4.7622 - accuracy: 0.0016 - val_loss: 4.7343 - val_accuracy: 9.7987e-04\n",
            "Epoch 375/400\n",
            "156/156 [==============================] - 1s 3ms/step - loss: 4.7618 - accuracy: 0.0016 - val_loss: 4.7538 - val_accuracy: 9.7987e-04\n",
            "Epoch 376/400\n",
            "156/156 [==============================] - 0s 3ms/step - loss: 4.7535 - accuracy: 0.0016 - val_loss: 4.7472 - val_accuracy: 9.7987e-04\n",
            "Epoch 377/400\n",
            "156/156 [==============================] - 0s 3ms/step - loss: 4.7672 - accuracy: 0.0016 - val_loss: 4.7330 - val_accuracy: 9.7987e-04\n",
            "Epoch 378/400\n",
            "156/156 [==============================] - 0s 3ms/step - loss: 4.7538 - accuracy: 0.0016 - val_loss: 4.7303 - val_accuracy: 9.7987e-04\n",
            "Epoch 379/400\n",
            "156/156 [==============================] - 0s 3ms/step - loss: 4.7532 - accuracy: 0.0016 - val_loss: 4.7147 - val_accuracy: 9.7987e-04\n",
            "Epoch 380/400\n",
            "156/156 [==============================] - 1s 4ms/step - loss: 4.7594 - accuracy: 0.0016 - val_loss: 4.7335 - val_accuracy: 9.7987e-04\n",
            "Epoch 381/400\n",
            "156/156 [==============================] - 1s 3ms/step - loss: 4.7650 - accuracy: 0.0016 - val_loss: 4.7104 - val_accuracy: 9.7987e-04\n",
            "Epoch 382/400\n",
            "156/156 [==============================] - 1s 3ms/step - loss: 4.7525 - accuracy: 0.0016 - val_loss: 4.7471 - val_accuracy: 9.7987e-04\n",
            "Epoch 383/400\n",
            "156/156 [==============================] - 1s 3ms/step - loss: 4.7636 - accuracy: 0.0016 - val_loss: 4.7765 - val_accuracy: 9.7987e-04\n",
            "Epoch 384/400\n",
            "156/156 [==============================] - 0s 3ms/step - loss: 4.7453 - accuracy: 0.0016 - val_loss: 4.7389 - val_accuracy: 9.7987e-04\n",
            "Epoch 385/400\n",
            "156/156 [==============================] - 1s 4ms/step - loss: 4.7493 - accuracy: 0.0016 - val_loss: 4.7183 - val_accuracy: 9.7987e-04\n",
            "Epoch 386/400\n",
            "156/156 [==============================] - 1s 3ms/step - loss: 4.7502 - accuracy: 0.0016 - val_loss: 4.7191 - val_accuracy: 9.7987e-04\n",
            "Epoch 387/400\n",
            "156/156 [==============================] - 1s 3ms/step - loss: 4.7514 - accuracy: 0.0016 - val_loss: 4.7477 - val_accuracy: 9.7987e-04\n",
            "Epoch 388/400\n",
            "156/156 [==============================] - 0s 3ms/step - loss: 4.7525 - accuracy: 0.0016 - val_loss: 4.7879 - val_accuracy: 9.7987e-04\n",
            "Epoch 389/400\n",
            "156/156 [==============================] - 1s 4ms/step - loss: 4.7520 - accuracy: 0.0015 - val_loss: 4.7505 - val_accuracy: 9.7987e-04\n",
            "Epoch 390/400\n",
            "156/156 [==============================] - 1s 3ms/step - loss: 4.7518 - accuracy: 0.0016 - val_loss: 4.7239 - val_accuracy: 9.7987e-04\n",
            "Epoch 391/400\n",
            "156/156 [==============================] - 1s 4ms/step - loss: 4.7489 - accuracy: 0.0016 - val_loss: 4.7707 - val_accuracy: 9.7987e-04\n",
            "Epoch 392/400\n",
            "156/156 [==============================] - 1s 3ms/step - loss: 4.7536 - accuracy: 0.0016 - val_loss: 4.7314 - val_accuracy: 9.7987e-04\n",
            "Epoch 393/400\n",
            "156/156 [==============================] - 1s 4ms/step - loss: 4.7461 - accuracy: 0.0016 - val_loss: 4.7280 - val_accuracy: 9.7987e-04\n",
            "Epoch 394/400\n",
            "156/156 [==============================] - 1s 3ms/step - loss: 4.7392 - accuracy: 0.0016 - val_loss: 4.7159 - val_accuracy: 9.7987e-04\n",
            "Epoch 395/400\n",
            "156/156 [==============================] - 0s 3ms/step - loss: 4.7678 - accuracy: 0.0016 - val_loss: 4.7654 - val_accuracy: 9.7987e-04\n",
            "Epoch 396/400\n",
            "156/156 [==============================] - 1s 4ms/step - loss: 4.7462 - accuracy: 0.0015 - val_loss: 4.7445 - val_accuracy: 9.7987e-04\n",
            "Epoch 397/400\n",
            "156/156 [==============================] - 1s 3ms/step - loss: 4.7506 - accuracy: 0.0016 - val_loss: 4.7945 - val_accuracy: 9.7987e-04\n",
            "Epoch 398/400\n",
            "156/156 [==============================] - 1s 4ms/step - loss: 4.7425 - accuracy: 0.0016 - val_loss: 4.7618 - val_accuracy: 9.7987e-04\n",
            "Epoch 399/400\n",
            "156/156 [==============================] - 0s 3ms/step - loss: 4.7494 - accuracy: 0.0016 - val_loss: 4.8339 - val_accuracy: 9.7987e-04\n",
            "Epoch 400/400\n",
            "156/156 [==============================] - 1s 3ms/step - loss: 4.7375 - accuracy: 0.0016 - val_loss: 4.7123 - val_accuracy: 9.7987e-04\n"
          ]
        }
      ],
      "source": [
        "model_nn.compile(optimizer='adam',loss='mse',metrics=['accuracy'])\n",
        "earlyStop=EarlyStopping(monitor=\"val_loss\",verbose=2,mode='min',patience=20)\n",
        "losses_nn = model_nn.fit(X_train, y_train, validation_data=(X_val, y_val), batch_size=256, epochs=400, callbacks=[earlyStop])"
      ]
    },
    {
      "cell_type": "markdown",
      "metadata": {
        "id": "k75d1sH3x-H8"
      },
      "source": [
        "#### Loss graph"
      ]
    },
    {
      "cell_type": "code",
      "execution_count": null,
      "metadata": {
        "colab": {
          "base_uri": "https://localhost:8080/",
          "height": 282
        },
        "id": "QxA77cdwxyLc",
        "outputId": "fd50ab61-8ed3-419c-c7f8-5fb910041a10"
      },
      "outputs": [
        {
          "data": {
            "text/plain": [
              "<matplotlib.axes._subplots.AxesSubplot at 0x7f8578bd1ad0>"
            ]
          },
          "execution_count": 13,
          "metadata": {},
          "output_type": "execute_result"
        },
        {
          "data": {
            "image/png": "[encoded data removed]",
            "text/plain": [
              "<Figure size 432x288 with 1 Axes>"
            ]
          },
          "metadata": {
            "needs_background": "light"
          },
          "output_type": "display_data"
        }
      ],
      "source": [
        "loss_nn_df = pd.DataFrame(losses_nn.history)\n",
        "loss_nn_df.loc[:,['loss','val_loss']].plot(color = ['darkorange','midnightblue'])"
      ]
    },
    {
      "cell_type": "markdown",
      "metadata": {
        "id": "TrDwPFSAx__t"
      },
      "source": [
        "#### Loss values"
      ]
    },
    {
      "cell_type": "code",
      "execution_count": null,
      "metadata": {
        "colab": {
          "base_uri": "https://localhost:8080/"
        },
        "id": "qTIzPptAx0Nb",
        "outputId": "db808f1f-e3dd-4b70-9416-94d1efc3b49c"
      },
      "outputs": [
        {
          "name": "stdout",
          "output_type": "stream",
          "text": [
            "17689/17689 [==============================] - 35s 2ms/step - loss: 4.7554 - accuracy: 0.0017\n"
          ]
        }
      ],
      "source": [
        "score_nn_mse = model_nn.evaluate(X_test, y_test, batch_size=1)\n",
        "y_pred_nn = model_nn.predict(X_test)"
      ]
    },
    {
      "cell_type": "code",
      "execution_count": null,
      "metadata": {
        "id": "RUvCWcqRx2qM"
      },
      "outputs": [],
      "source": [
        "compa_k_mse.append(score_nn_mse[0])"
      ]
    },
    {
      "cell_type": "code",
      "execution_count": null,
      "metadata": {
        "colab": {
          "base_uri": "https://localhost:8080/"
        },
        "id": "xdI4EdjRx35k",
        "outputId": "427dc74c-5355-4d9d-d26b-eb43f4c56d26"
      },
      "outputs": [
        {
          "name": "stdout",
          "output_type": "stream",
          "text": [
            "mse: 4.755429\n"
          ]
        }
      ],
      "source": [
        "print('mse: %f'%score_nn_mse[0])"
      ]
    },
    {
      "cell_type": "code",
      "execution_count": null,
      "metadata": {
        "colab": {
          "base_uri": "https://localhost:8080/"
        },
        "id": "uBoCxf-rx48T",
        "outputId": "d5ea2842-567e-45a0-b105-0d57630c5e2d"
      },
      "outputs": [
        {
          "name": "stdout",
          "output_type": "stream",
          "text": [
            "predicted response:\n",
            "[[5.45367527e+09]\n",
            " [4.81455946e+09]\n",
            " [3.67042184e+09]\n",
            " [4.29453087e+09]\n",
            " [5.40828514e+09]\n",
            " [1.87843537e+09]\n",
            " [5.55209398e+09]\n",
            " [9.48513508e+09]\n",
            " [2.50603509e+09]\n",
            " [7.08725023e+09]]\n",
            "actual:\n",
            "22453    6.600000e+09\n",
            "68000    5.500000e+09\n",
            "24488    1.680000e+09\n",
            "6208     4.150000e+09\n",
            "69780    7.090000e+09\n",
            "43825    2.200000e+09\n",
            "1208     1.500000e+09\n",
            "52345    8.600000e+09\n",
            "63577    4.150000e+09\n",
            "19916    7.500000e+09\n",
            "Name: price, dtype: float64\n"
          ]
        }
      ],
      "source": [
        "print(f\"predicted response:\\n{y_pred_nn[:10]*one_billion}\")\n",
        "print(f\"actual:\\n{y_test.iloc[0:10]*one_billion}\")"
      ]
    },
    {
      "cell_type": "code",
      "execution_count": null,
      "metadata": {
        "colab": {
          "base_uri": "https://localhost:8080/"
        },
        "id": "7UzBbD0xx6VD",
        "outputId": "b50f48a5-d2de-49fd-b724-1403994305c6"
      },
      "outputs": [
        {
          "name": "stdout",
          "output_type": "stream",
          "text": [
            "The number of negative prediction:  9\n",
            "Percent correct prediction:  49.34139860930522\n"
          ]
        }
      ],
      "source": [
        "error, negative_integer = find_prediction_error_value(y_test, y_pred_nn)\n",
        "print(\"The number of negative prediction: \", len(negative_integer))\n",
        "print(\"Percent correct prediction: \", (len(y_test) - len(error))/len(y_test)*100)"
      ]
    },
    {
      "cell_type": "markdown",
      "metadata": {
        "id": "H5L2TL8QF21W"
      },
      "source": [
        "### MAE"
      ]
    },
    {
      "cell_type": "code",
      "execution_count": 12,
      "metadata": {
        "colab": {
          "base_uri": "https://localhost:8080/"
        },
        "id": "VqqvqV5aF5A3",
        "outputId": "de0044e4-5955-4516-b239-2d182d6216ba"
      },
      "outputs": [
        {
          "name": "stdout",
          "output_type": "stream",
          "text": [
            "Epoch 1/400\n",
            "156/156 [==============================] - 4s 4ms/step - loss: 3.1881 - accuracy: 0.0013 - val_loss: 2.1251 - val_accuracy: 9.7987e-04\n",
            "Epoch 2/400\n",
            "156/156 [==============================] - 1s 3ms/step - loss: 1.9637 - accuracy: 0.0016 - val_loss: 1.9036 - val_accuracy: 9.7987e-04\n",
            "Epoch 3/400\n",
            "156/156 [==============================] - 0s 3ms/step - loss: 1.8899 - accuracy: 0.0016 - val_loss: 1.8671 - val_accuracy: 9.7987e-04\n",
            "Epoch 4/400\n",
            "156/156 [==============================] - 0s 3ms/step - loss: 1.8612 - accuracy: 0.0016 - val_loss: 1.8422 - val_accuracy: 9.7987e-04\n",
            "Epoch 5/400\n",
            "156/156 [==============================] - 1s 3ms/step - loss: 1.8339 - accuracy: 0.0016 - val_loss: 1.8121 - val_accuracy: 9.7987e-04\n",
            "Epoch 6/400\n",
            "156/156 [==============================] - 0s 3ms/step - loss: 1.8088 - accuracy: 0.0016 - val_loss: 1.7898 - val_accuracy: 9.7987e-04\n",
            "Epoch 7/400\n",
            "156/156 [==============================] - 1s 3ms/step - loss: 1.7868 - accuracy: 0.0016 - val_loss: 1.7685 - val_accuracy: 9.7987e-04\n",
            "Epoch 8/400\n",
            "156/156 [==============================] - 0s 3ms/step - loss: 1.7656 - accuracy: 0.0016 - val_loss: 1.7503 - val_accuracy: 9.7987e-04\n",
            "Epoch 9/400\n",
            "156/156 [==============================] - 1s 3ms/step - loss: 1.7456 - accuracy: 0.0016 - val_loss: 1.7264 - val_accuracy: 9.7987e-04\n",
            "Epoch 10/400\n",
            "156/156 [==============================] - 1s 3ms/step - loss: 1.7259 - accuracy: 0.0016 - val_loss: 1.7134 - val_accuracy: 9.7987e-04\n",
            "Epoch 11/400\n",
            "156/156 [==============================] - 0s 3ms/step - loss: 1.7041 - accuracy: 0.0016 - val_loss: 1.6884 - val_accuracy: 9.7987e-04\n",
            "Epoch 12/400\n",
            "156/156 [==============================] - 1s 3ms/step - loss: 1.6878 - accuracy: 0.0016 - val_loss: 1.6716 - val_accuracy: 9.7987e-04\n",
            "Epoch 13/400\n",
            "156/156 [==============================] - 0s 3ms/step - loss: 1.6755 - accuracy: 0.0016 - val_loss: 1.6641 - val_accuracy: 9.7987e-04\n",
            "Epoch 14/400\n",
            "156/156 [==============================] - 0s 3ms/step - loss: 1.6628 - accuracy: 0.0016 - val_loss: 1.6477 - val_accuracy: 9.7987e-04\n",
            "Epoch 15/400\n",
            "156/156 [==============================] - 0s 3ms/step - loss: 1.6529 - accuracy: 0.0016 - val_loss: 1.6400 - val_accuracy: 9.7987e-04\n",
            "Epoch 16/400\n",
            "156/156 [==============================] - 0s 3ms/step - loss: 1.6439 - accuracy: 0.0016 - val_loss: 1.6306 - val_accuracy: 9.7987e-04\n",
            "Epoch 17/400\n",
            "156/156 [==============================] - 0s 3ms/step - loss: 1.6355 - accuracy: 0.0016 - val_loss: 1.6273 - val_accuracy: 9.7987e-04\n",
            "Epoch 18/400\n",
            "156/156 [==============================] - 0s 3ms/step - loss: 1.6325 - accuracy: 0.0016 - val_loss: 1.6163 - val_accuracy: 9.7987e-04\n",
            "Epoch 19/400\n",
            "156/156 [==============================] - 1s 3ms/step - loss: 1.6251 - accuracy: 0.0016 - val_loss: 1.6092 - val_accuracy: 9.7987e-04\n",
            "Epoch 20/400\n",
            "156/156 [==============================] - 1s 3ms/step - loss: 1.6216 - accuracy: 0.0016 - val_loss: 1.6052 - val_accuracy: 9.7987e-04\n",
            "Epoch 21/400\n",
            "156/156 [==============================] - 1s 3ms/step - loss: 1.6158 - accuracy: 0.0016 - val_loss: 1.6014 - val_accuracy: 9.7987e-04\n",
            "Epoch 22/400\n",
            "156/156 [==============================] - 0s 3ms/step - loss: 1.6122 - accuracy: 0.0016 - val_loss: 1.5966 - val_accuracy: 9.7987e-04\n",
            "Epoch 23/400\n",
            "156/156 [==============================] - 1s 3ms/step - loss: 1.6068 - accuracy: 0.0016 - val_loss: 1.6021 - val_accuracy: 9.7987e-04\n",
            "Epoch 24/400\n",
            "156/156 [==============================] - 1s 3ms/step - loss: 1.6047 - accuracy: 0.0016 - val_loss: 1.5947 - val_accuracy: 9.7987e-04\n",
            "Epoch 25/400\n",
            "156/156 [==============================] - 0s 3ms/step - loss: 1.6021 - accuracy: 0.0016 - val_loss: 1.5931 - val_accuracy: 9.7987e-04\n",
            "Epoch 26/400\n",
            "156/156 [==============================] - 1s 3ms/step - loss: 1.5982 - accuracy: 0.0016 - val_loss: 1.5849 - val_accuracy: 9.7987e-04\n",
            "Epoch 27/400\n",
            "156/156 [==============================] - 0s 3ms/step - loss: 1.5975 - accuracy: 0.0016 - val_loss: 1.5816 - val_accuracy: 9.7987e-04\n",
            "Epoch 28/400\n",
            "156/156 [==============================] - 0s 3ms/step - loss: 1.5924 - accuracy: 0.0016 - val_loss: 1.5792 - val_accuracy: 9.7987e-04\n",
            "Epoch 29/400\n",
            "156/156 [==============================] - 0s 3ms/step - loss: 1.5909 - accuracy: 0.0016 - val_loss: 1.5766 - val_accuracy: 9.7987e-04\n",
            "Epoch 30/400\n",
            "156/156 [==============================] - 0s 3ms/step - loss: 1.5868 - accuracy: 0.0016 - val_loss: 1.5755 - val_accuracy: 9.7987e-04\n",
            "Epoch 31/400\n",
            "156/156 [==============================] - 0s 3ms/step - loss: 1.5862 - accuracy: 0.0016 - val_loss: 1.5715 - val_accuracy: 9.7987e-04\n",
            "Epoch 32/400\n",
            "156/156 [==============================] - 0s 3ms/step - loss: 1.5832 - accuracy: 0.0016 - val_loss: 1.5737 - val_accuracy: 9.7987e-04\n",
            "Epoch 33/400\n",
            "156/156 [==============================] - 0s 3ms/step - loss: 1.5816 - accuracy: 0.0016 - val_loss: 1.5686 - val_accuracy: 9.7987e-04\n",
            "Epoch 34/400\n",
            "156/156 [==============================] - 0s 3ms/step - loss: 1.5804 - accuracy: 0.0016 - val_loss: 1.5659 - val_accuracy: 9.7987e-04\n",
            "Epoch 35/400\n",
            "156/156 [==============================] - 0s 3ms/step - loss: 1.5783 - accuracy: 0.0016 - val_loss: 1.5653 - val_accuracy: 9.7987e-04\n",
            "Epoch 36/400\n",
            "156/156 [==============================] - 1s 3ms/step - loss: 1.5782 - accuracy: 0.0016 - val_loss: 1.5717 - val_accuracy: 9.7987e-04\n",
            "Epoch 37/400\n",
            "156/156 [==============================] - 0s 3ms/step - loss: 1.5730 - accuracy: 0.0016 - val_loss: 1.5626 - val_accuracy: 9.7987e-04\n",
            "Epoch 38/400\n",
            "156/156 [==============================] - 0s 3ms/step - loss: 1.5712 - accuracy: 0.0016 - val_loss: 1.5591 - val_accuracy: 9.7987e-04\n",
            "Epoch 39/400\n",
            "156/156 [==============================] - 0s 3ms/step - loss: 1.5700 - accuracy: 0.0016 - val_loss: 1.5590 - val_accuracy: 9.7987e-04\n",
            "Epoch 40/400\n",
            "156/156 [==============================] - 0s 3ms/step - loss: 1.5662 - accuracy: 0.0016 - val_loss: 1.5600 - val_accuracy: 9.7987e-04\n",
            "Epoch 41/400\n",
            "156/156 [==============================] - 0s 3ms/step - loss: 1.5650 - accuracy: 0.0016 - val_loss: 1.5576 - val_accuracy: 9.7987e-04\n",
            "Epoch 42/400\n",
            "156/156 [==============================] - 0s 3ms/step - loss: 1.5624 - accuracy: 0.0016 - val_loss: 1.5510 - val_accuracy: 9.7987e-04\n",
            "Epoch 43/400\n",
            "156/156 [==============================] - 1s 3ms/step - loss: 1.5600 - accuracy: 0.0016 - val_loss: 1.5499 - val_accuracy: 9.7987e-04\n",
            "Epoch 44/400\n",
            "156/156 [==============================] - 0s 3ms/step - loss: 1.5572 - accuracy: 0.0016 - val_loss: 1.5465 - val_accuracy: 9.7987e-04\n",
            "Epoch 45/400\n",
            "156/156 [==============================] - 0s 3ms/step - loss: 1.5559 - accuracy: 0.0016 - val_loss: 1.5479 - val_accuracy: 9.7987e-04\n",
            "Epoch 46/400\n",
            "156/156 [==============================] - 0s 3ms/step - loss: 1.5539 - accuracy: 0.0016 - val_loss: 1.5475 - val_accuracy: 9.7987e-04\n",
            "Epoch 47/400\n",
            "156/156 [==============================] - 0s 3ms/step - loss: 1.5542 - accuracy: 0.0016 - val_loss: 1.5443 - val_accuracy: 9.7987e-04\n",
            "Epoch 48/400\n",
            "156/156 [==============================] - 1s 3ms/step - loss: 1.5528 - accuracy: 0.0016 - val_loss: 1.5438 - val_accuracy: 9.7987e-04\n",
            "Epoch 49/400\n",
            "156/156 [==============================] - 1s 3ms/step - loss: 1.5490 - accuracy: 0.0016 - val_loss: 1.5369 - val_accuracy: 9.7987e-04\n",
            "Epoch 50/400\n",
            "156/156 [==============================] - 1s 3ms/step - loss: 1.5466 - accuracy: 0.0016 - val_loss: 1.5384 - val_accuracy: 9.7987e-04\n",
            "Epoch 51/400\n",
            "156/156 [==============================] - 0s 3ms/step - loss: 1.5442 - accuracy: 0.0016 - val_loss: 1.5344 - val_accuracy: 9.7987e-04\n",
            "Epoch 52/400\n",
            "156/156 [==============================] - 0s 3ms/step - loss: 1.5445 - accuracy: 0.0016 - val_loss: 1.5332 - val_accuracy: 9.7987e-04\n",
            "Epoch 53/400\n",
            "156/156 [==============================] - 0s 3ms/step - loss: 1.5432 - accuracy: 0.0016 - val_loss: 1.5335 - val_accuracy: 9.7987e-04\n",
            "Epoch 54/400\n",
            "156/156 [==============================] - 0s 3ms/step - loss: 1.5406 - accuracy: 0.0016 - val_loss: 1.5298 - val_accuracy: 9.7987e-04\n",
            "Epoch 55/400\n",
            "156/156 [==============================] - 0s 3ms/step - loss: 1.5403 - accuracy: 0.0016 - val_loss: 1.5331 - val_accuracy: 9.7987e-04\n",
            "Epoch 56/400\n",
            "156/156 [==============================] - 0s 3ms/step - loss: 1.5390 - accuracy: 0.0016 - val_loss: 1.5282 - val_accuracy: 9.7987e-04\n",
            "Epoch 57/400\n",
            "156/156 [==============================] - 1s 3ms/step - loss: 1.5362 - accuracy: 0.0016 - val_loss: 1.5273 - val_accuracy: 9.7987e-04\n",
            "Epoch 58/400\n",
            "156/156 [==============================] - 0s 3ms/step - loss: 1.5372 - accuracy: 0.0016 - val_loss: 1.5272 - val_accuracy: 9.7987e-04\n",
            "Epoch 59/400\n",
            "156/156 [==============================] - 1s 3ms/step - loss: 1.5375 - accuracy: 0.0016 - val_loss: 1.5252 - val_accuracy: 9.7987e-04\n",
            "Epoch 60/400\n",
            "156/156 [==============================] - 1s 3ms/step - loss: 1.5346 - accuracy: 0.0016 - val_loss: 1.5285 - val_accuracy: 9.7987e-04\n",
            "Epoch 61/400\n",
            "156/156 [==============================] - 0s 3ms/step - loss: 1.5341 - accuracy: 0.0016 - val_loss: 1.5231 - val_accuracy: 9.7987e-04\n",
            "Epoch 62/400\n",
            "156/156 [==============================] - 0s 3ms/step - loss: 1.5331 - accuracy: 0.0016 - val_loss: 1.5229 - val_accuracy: 9.7987e-04\n",
            "Epoch 63/400\n",
            "156/156 [==============================] - 0s 3ms/step - loss: 1.5325 - accuracy: 0.0016 - val_loss: 1.5205 - val_accuracy: 9.7987e-04\n",
            "Epoch 64/400\n",
            "156/156 [==============================] - 1s 3ms/step - loss: 1.5304 - accuracy: 0.0016 - val_loss: 1.5243 - val_accuracy: 9.7987e-04\n",
            "Epoch 65/400\n",
            "156/156 [==============================] - 0s 3ms/step - loss: 1.5294 - accuracy: 0.0016 - val_loss: 1.5229 - val_accuracy: 9.7987e-04\n",
            "Epoch 66/400\n",
            "156/156 [==============================] - 1s 3ms/step - loss: 1.5286 - accuracy: 0.0016 - val_loss: 1.5212 - val_accuracy: 9.7987e-04\n",
            "Epoch 67/400\n",
            "156/156 [==============================] - 0s 3ms/step - loss: 1.5282 - accuracy: 0.0016 - val_loss: 1.5204 - val_accuracy: 9.7987e-04\n",
            "Epoch 68/400\n",
            "156/156 [==============================] - 0s 3ms/step - loss: 1.5273 - accuracy: 0.0016 - val_loss: 1.5189 - val_accuracy: 9.7987e-04\n",
            "Epoch 69/400\n",
            "156/156 [==============================] - 1s 3ms/step - loss: 1.5269 - accuracy: 0.0016 - val_loss: 1.5299 - val_accuracy: 9.7987e-04\n",
            "Epoch 70/400\n",
            "156/156 [==============================] - 1s 3ms/step - loss: 1.5263 - accuracy: 0.0016 - val_loss: 1.5222 - val_accuracy: 9.7987e-04\n",
            "Epoch 71/400\n",
            "156/156 [==============================] - 0s 3ms/step - loss: 1.5256 - accuracy: 0.0016 - val_loss: 1.5175 - val_accuracy: 9.7987e-04\n",
            "Epoch 72/400\n",
            "156/156 [==============================] - 1s 3ms/step - loss: 1.5257 - accuracy: 0.0016 - val_loss: 1.5165 - val_accuracy: 9.7987e-04\n",
            "Epoch 73/400\n",
            "156/156 [==============================] - 1s 3ms/step - loss: 1.5264 - accuracy: 0.0016 - val_loss: 1.5192 - val_accuracy: 9.7987e-04\n",
            "Epoch 74/400\n",
            "156/156 [==============================] - 0s 3ms/step - loss: 1.5244 - accuracy: 0.0016 - val_loss: 1.5173 - val_accuracy: 9.7987e-04\n",
            "Epoch 75/400\n",
            "156/156 [==============================] - 0s 3ms/step - loss: 1.5257 - accuracy: 0.0016 - val_loss: 1.5174 - val_accuracy: 9.7987e-04\n",
            "Epoch 76/400\n",
            "156/156 [==============================] - 1s 3ms/step - loss: 1.5243 - accuracy: 0.0016 - val_loss: 1.5119 - val_accuracy: 9.7987e-04\n",
            "Epoch 77/400\n",
            "156/156 [==============================] - 0s 3ms/step - loss: 1.5226 - accuracy: 0.0016 - val_loss: 1.5139 - val_accuracy: 9.7987e-04\n",
            "Epoch 78/400\n",
            "156/156 [==============================] - 0s 3ms/step - loss: 1.5214 - accuracy: 0.0016 - val_loss: 1.5137 - val_accuracy: 9.7987e-04\n",
            "Epoch 79/400\n",
            "156/156 [==============================] - 1s 3ms/step - loss: 1.5217 - accuracy: 0.0016 - val_loss: 1.5116 - val_accuracy: 9.7987e-04\n",
            "Epoch 80/400\n",
            "156/156 [==============================] - 0s 3ms/step - loss: 1.5214 - accuracy: 0.0016 - val_loss: 1.5126 - val_accuracy: 9.7987e-04\n",
            "Epoch 81/400\n",
            "156/156 [==============================] - 0s 3ms/step - loss: 1.5206 - accuracy: 0.0016 - val_loss: 1.5161 - val_accuracy: 9.7987e-04\n",
            "Epoch 82/400\n",
            "156/156 [==============================] - 0s 3ms/step - loss: 1.5201 - accuracy: 0.0016 - val_loss: 1.5113 - val_accuracy: 9.7987e-04\n",
            "Epoch 83/400\n",
            "156/156 [==============================] - 0s 3ms/step - loss: 1.5206 - accuracy: 0.0016 - val_loss: 1.5205 - val_accuracy: 9.7987e-04\n",
            "Epoch 84/400\n",
            "156/156 [==============================] - 1s 3ms/step - loss: 1.5195 - accuracy: 0.0016 - val_loss: 1.5102 - val_accuracy: 9.7987e-04\n",
            "Epoch 85/400\n",
            "156/156 [==============================] - 1s 5ms/step - loss: 1.5196 - accuracy: 0.0016 - val_loss: 1.5110 - val_accuracy: 9.7987e-04\n",
            "Epoch 86/400\n",
            "156/156 [==============================] - 1s 6ms/step - loss: 1.5174 - accuracy: 0.0016 - val_loss: 1.5100 - val_accuracy: 9.7987e-04\n",
            "Epoch 87/400\n",
            "156/156 [==============================] - 1s 4ms/step - loss: 1.5179 - accuracy: 0.0016 - val_loss: 1.5105 - val_accuracy: 9.7987e-04\n",
            "Epoch 88/400\n",
            "156/156 [==============================] - 1s 6ms/step - loss: 1.5161 - accuracy: 0.0016 - val_loss: 1.5147 - val_accuracy: 9.7987e-04\n",
            "Epoch 89/400\n",
            "156/156 [==============================] - 1s 4ms/step - loss: 1.5175 - accuracy: 0.0016 - val_loss: 1.5085 - val_accuracy: 9.7987e-04\n",
            "Epoch 90/400\n",
            "156/156 [==============================] - 1s 7ms/step - loss: 1.5163 - accuracy: 0.0016 - val_loss: 1.5058 - val_accuracy: 9.7987e-04\n",
            "Epoch 91/400\n",
            "156/156 [==============================] - 1s 4ms/step - loss: 1.5147 - accuracy: 0.0016 - val_loss: 1.5146 - val_accuracy: 9.7987e-04\n",
            "Epoch 92/400\n",
            "156/156 [==============================] - 1s 5ms/step - loss: 1.5160 - accuracy: 0.0016 - val_loss: 1.5079 - val_accuracy: 9.7987e-04\n",
            "Epoch 93/400\n",
            "156/156 [==============================] - 1s 5ms/step - loss: 1.5152 - accuracy: 0.0016 - val_loss: 1.5144 - val_accuracy: 9.7987e-04\n",
            "Epoch 94/400\n",
            "156/156 [==============================] - 1s 5ms/step - loss: 1.5134 - accuracy: 0.0016 - val_loss: 1.5097 - val_accuracy: 9.7987e-04\n",
            "Epoch 95/400\n",
            "156/156 [==============================] - 1s 6ms/step - loss: 1.5136 - accuracy: 0.0016 - val_loss: 1.5108 - val_accuracy: 9.7987e-04\n",
            "Epoch 96/400\n",
            "156/156 [==============================] - 1s 5ms/step - loss: 1.5119 - accuracy: 0.0016 - val_loss: 1.5050 - val_accuracy: 9.7987e-04\n",
            "Epoch 97/400\n",
            "156/156 [==============================] - 1s 5ms/step - loss: 1.5125 - accuracy: 0.0016 - val_loss: 1.5041 - val_accuracy: 9.7987e-04\n",
            "Epoch 98/400\n",
            "156/156 [==============================] - 1s 5ms/step - loss: 1.5109 - accuracy: 0.0016 - val_loss: 1.5051 - val_accuracy: 9.7987e-04\n",
            "Epoch 99/400\n",
            "156/156 [==============================] - 1s 5ms/step - loss: 1.5117 - accuracy: 0.0016 - val_loss: 1.5051 - val_accuracy: 9.7987e-04\n",
            "Epoch 100/400\n",
            "156/156 [==============================] - 1s 7ms/step - loss: 1.5099 - accuracy: 0.0016 - val_loss: 1.5038 - val_accuracy: 9.7987e-04\n",
            "Epoch 101/400\n",
            "156/156 [==============================] - 1s 5ms/step - loss: 1.5086 - accuracy: 0.0016 - val_loss: 1.5042 - val_accuracy: 9.7987e-04\n",
            "Epoch 102/400\n",
            "156/156 [==============================] - 1s 5ms/step - loss: 1.5090 - accuracy: 0.0016 - val_loss: 1.5198 - val_accuracy: 9.7987e-04\n",
            "Epoch 103/400\n",
            "156/156 [==============================] - 1s 6ms/step - loss: 1.5095 - accuracy: 0.0016 - val_loss: 1.5024 - val_accuracy: 9.7987e-04\n",
            "Epoch 104/400\n",
            "156/156 [==============================] - 1s 5ms/step - loss: 1.5082 - accuracy: 0.0016 - val_loss: 1.5063 - val_accuracy: 9.7987e-04\n",
            "Epoch 105/400\n",
            "156/156 [==============================] - 1s 5ms/step - loss: 1.5092 - accuracy: 0.0016 - val_loss: 1.5012 - val_accuracy: 9.7987e-04\n",
            "Epoch 106/400\n",
            "156/156 [==============================] - 1s 6ms/step - loss: 1.5066 - accuracy: 0.0016 - val_loss: 1.4981 - val_accuracy: 9.7987e-04\n",
            "Epoch 107/400\n",
            "156/156 [==============================] - 1s 5ms/step - loss: 1.5098 - accuracy: 0.0016 - val_loss: 1.5059 - val_accuracy: 9.7987e-04\n",
            "Epoch 108/400\n",
            "156/156 [==============================] - 1s 5ms/step - loss: 1.5076 - accuracy: 0.0016 - val_loss: 1.4989 - val_accuracy: 9.7987e-04\n",
            "Epoch 109/400\n",
            "156/156 [==============================] - 1s 7ms/step - loss: 1.5051 - accuracy: 0.0016 - val_loss: 1.5003 - val_accuracy: 9.7987e-04\n",
            "Epoch 110/400\n",
            "156/156 [==============================] - 0s 3ms/step - loss: 1.5052 - accuracy: 0.0016 - val_loss: 1.5006 - val_accuracy: 9.7987e-04\n",
            "Epoch 111/400\n",
            "156/156 [==============================] - 1s 3ms/step - loss: 1.5042 - accuracy: 0.0016 - val_loss: 1.5016 - val_accuracy: 9.7987e-04\n",
            "Epoch 112/400\n",
            "156/156 [==============================] - 1s 3ms/step - loss: 1.5037 - accuracy: 0.0016 - val_loss: 1.5006 - val_accuracy: 9.7987e-04\n",
            "Epoch 113/400\n",
            "156/156 [==============================] - 0s 3ms/step - loss: 1.5039 - accuracy: 0.0016 - val_loss: 1.5033 - val_accuracy: 9.7987e-04\n",
            "Epoch 114/400\n",
            "156/156 [==============================] - 0s 3ms/step - loss: 1.5025 - accuracy: 0.0016 - val_loss: 1.4987 - val_accuracy: 9.7987e-04\n",
            "Epoch 115/400\n",
            "156/156 [==============================] - 1s 3ms/step - loss: 1.5047 - accuracy: 0.0016 - val_loss: 1.4966 - val_accuracy: 9.7987e-04\n",
            "Epoch 116/400\n",
            "156/156 [==============================] - 0s 3ms/step - loss: 1.5018 - accuracy: 0.0016 - val_loss: 1.5012 - val_accuracy: 9.7987e-04\n",
            "Epoch 117/400\n",
            "156/156 [==============================] - 0s 3ms/step - loss: 1.5027 - accuracy: 0.0016 - val_loss: 1.5003 - val_accuracy: 9.7987e-04\n",
            "Epoch 118/400\n",
            "156/156 [==============================] - 0s 3ms/step - loss: 1.5017 - accuracy: 0.0016 - val_loss: 1.4964 - val_accuracy: 9.7987e-04\n",
            "Epoch 119/400\n",
            "156/156 [==============================] - 1s 3ms/step - loss: 1.5021 - accuracy: 0.0016 - val_loss: 1.4971 - val_accuracy: 9.7987e-04\n",
            "Epoch 120/400\n",
            "156/156 [==============================] - 1s 5ms/step - loss: 1.4990 - accuracy: 0.0016 - val_loss: 1.4942 - val_accuracy: 9.7987e-04\n",
            "Epoch 121/400\n",
            "156/156 [==============================] - 1s 6ms/step - loss: 1.4989 - accuracy: 0.0016 - val_loss: 1.4945 - val_accuracy: 9.7987e-04\n",
            "Epoch 122/400\n",
            "156/156 [==============================] - 1s 5ms/step - loss: 1.4992 - accuracy: 0.0016 - val_loss: 1.5006 - val_accuracy: 9.7987e-04\n",
            "Epoch 123/400\n",
            "156/156 [==============================] - 1s 5ms/step - loss: 1.4995 - accuracy: 0.0016 - val_loss: 1.4983 - val_accuracy: 9.7987e-04\n",
            "Epoch 124/400\n",
            "156/156 [==============================] - 1s 5ms/step - loss: 1.4988 - accuracy: 0.0016 - val_loss: 1.4932 - val_accuracy: 9.7987e-04\n",
            "Epoch 125/400\n",
            "156/156 [==============================] - 1s 4ms/step - loss: 1.4987 - accuracy: 0.0016 - val_loss: 1.4929 - val_accuracy: 9.7987e-04\n",
            "Epoch 126/400\n",
            "156/156 [==============================] - 0s 3ms/step - loss: 1.4964 - accuracy: 0.0016 - val_loss: 1.4934 - val_accuracy: 9.7987e-04\n",
            "Epoch 127/400\n",
            "156/156 [==============================] - 0s 3ms/step - loss: 1.4970 - accuracy: 0.0016 - val_loss: 1.4929 - val_accuracy: 9.7987e-04\n",
            "Epoch 128/400\n",
            "156/156 [==============================] - 0s 3ms/step - loss: 1.4984 - accuracy: 0.0016 - val_loss: 1.4947 - val_accuracy: 9.7987e-04\n",
            "Epoch 129/400\n",
            "156/156 [==============================] - 0s 3ms/step - loss: 1.4974 - accuracy: 0.0016 - val_loss: 1.4954 - val_accuracy: 9.7987e-04\n",
            "Epoch 130/400\n",
            "156/156 [==============================] - 1s 4ms/step - loss: 1.4980 - accuracy: 0.0016 - val_loss: 1.4919 - val_accuracy: 9.7987e-04\n",
            "Epoch 131/400\n",
            "156/156 [==============================] - 1s 4ms/step - loss: 1.4958 - accuracy: 0.0016 - val_loss: 1.4910 - val_accuracy: 9.7987e-04\n",
            "Epoch 132/400\n",
            "156/156 [==============================] - 1s 4ms/step - loss: 1.4960 - accuracy: 0.0016 - val_loss: 1.4942 - val_accuracy: 9.7987e-04\n",
            "Epoch 133/400\n",
            "156/156 [==============================] - 1s 5ms/step - loss: 1.4937 - accuracy: 0.0016 - val_loss: 1.4888 - val_accuracy: 9.7987e-04\n",
            "Epoch 134/400\n",
            "156/156 [==============================] - 1s 5ms/step - loss: 1.4943 - accuracy: 0.0016 - val_loss: 1.4918 - val_accuracy: 9.7987e-04\n",
            "Epoch 135/400\n",
            "156/156 [==============================] - 1s 4ms/step - loss: 1.4944 - accuracy: 0.0016 - val_loss: 1.4890 - val_accuracy: 9.7987e-04\n",
            "Epoch 136/400\n",
            "156/156 [==============================] - 0s 3ms/step - loss: 1.4950 - accuracy: 0.0016 - val_loss: 1.4901 - val_accuracy: 9.7987e-04\n",
            "Epoch 137/400\n",
            "156/156 [==============================] - 0s 3ms/step - loss: 1.4932 - accuracy: 0.0016 - val_loss: 1.4930 - val_accuracy: 9.7987e-04\n",
            "Epoch 138/400\n",
            "156/156 [==============================] - 0s 3ms/step - loss: 1.4934 - accuracy: 0.0016 - val_loss: 1.4934 - val_accuracy: 9.7987e-04\n",
            "Epoch 139/400\n",
            "156/156 [==============================] - 1s 3ms/step - loss: 1.4925 - accuracy: 0.0016 - val_loss: 1.4894 - val_accuracy: 9.7987e-04\n",
            "Epoch 140/400\n",
            "156/156 [==============================] - 0s 3ms/step - loss: 1.4904 - accuracy: 0.0016 - val_loss: 1.4908 - val_accuracy: 9.7987e-04\n",
            "Epoch 141/400\n",
            "156/156 [==============================] - 1s 3ms/step - loss: 1.4925 - accuracy: 0.0016 - val_loss: 1.4889 - val_accuracy: 9.7987e-04\n",
            "Epoch 142/400\n",
            "156/156 [==============================] - 1s 3ms/step - loss: 1.4944 - accuracy: 0.0016 - val_loss: 1.4912 - val_accuracy: 9.7987e-04\n",
            "Epoch 143/400\n",
            "156/156 [==============================] - 0s 3ms/step - loss: 1.4912 - accuracy: 0.0016 - val_loss: 1.4856 - val_accuracy: 9.7987e-04\n",
            "Epoch 144/400\n",
            "156/156 [==============================] - 1s 3ms/step - loss: 1.4912 - accuracy: 0.0016 - val_loss: 1.4974 - val_accuracy: 9.7987e-04\n",
            "Epoch 145/400\n",
            "156/156 [==============================] - 1s 3ms/step - loss: 1.4913 - accuracy: 0.0016 - val_loss: 1.4967 - val_accuracy: 9.7987e-04\n",
            "Epoch 146/400\n",
            "156/156 [==============================] - 0s 3ms/step - loss: 1.4917 - accuracy: 0.0016 - val_loss: 1.4872 - val_accuracy: 9.7987e-04\n",
            "Epoch 147/400\n",
            "156/156 [==============================] - 0s 3ms/step - loss: 1.4910 - accuracy: 0.0016 - val_loss: 1.4930 - val_accuracy: 9.7987e-04\n",
            "Epoch 148/400\n",
            "156/156 [==============================] - 1s 3ms/step - loss: 1.4892 - accuracy: 0.0016 - val_loss: 1.4903 - val_accuracy: 9.7987e-04\n",
            "Epoch 149/400\n",
            "156/156 [==============================] - 0s 3ms/step - loss: 1.4878 - accuracy: 0.0016 - val_loss: 1.4916 - val_accuracy: 9.7987e-04\n",
            "Epoch 150/400\n",
            "156/156 [==============================] - 0s 3ms/step - loss: 1.4892 - accuracy: 0.0016 - val_loss: 1.4918 - val_accuracy: 9.7987e-04\n",
            "Epoch 151/400\n",
            "156/156 [==============================] - 0s 3ms/step - loss: 1.4877 - accuracy: 0.0016 - val_loss: 1.4876 - val_accuracy: 9.7987e-04\n",
            "Epoch 152/400\n",
            "156/156 [==============================] - 1s 3ms/step - loss: 1.4890 - accuracy: 0.0016 - val_loss: 1.4838 - val_accuracy: 9.7987e-04\n",
            "Epoch 153/400\n",
            "156/156 [==============================] - 0s 3ms/step - loss: 1.4884 - accuracy: 0.0016 - val_loss: 1.4865 - val_accuracy: 9.7987e-04\n",
            "Epoch 154/400\n",
            "156/156 [==============================] - 1s 3ms/step - loss: 1.4881 - accuracy: 0.0016 - val_loss: 1.4845 - val_accuracy: 9.7987e-04\n",
            "Epoch 155/400\n",
            "156/156 [==============================] - 0s 3ms/step - loss: 1.4863 - accuracy: 0.0016 - val_loss: 1.4882 - val_accuracy: 9.7987e-04\n",
            "Epoch 156/400\n",
            "156/156 [==============================] - 0s 3ms/step - loss: 1.4870 - accuracy: 0.0016 - val_loss: 1.4843 - val_accuracy: 9.7987e-04\n",
            "Epoch 157/400\n",
            "156/156 [==============================] - 1s 3ms/step - loss: 1.4871 - accuracy: 0.0016 - val_loss: 1.4876 - val_accuracy: 9.7987e-04\n",
            "Epoch 158/400\n",
            "156/156 [==============================] - 0s 3ms/step - loss: 1.4861 - accuracy: 0.0016 - val_loss: 1.4842 - val_accuracy: 9.7987e-04\n",
            "Epoch 159/400\n",
            "156/156 [==============================] - 0s 3ms/step - loss: 1.4866 - accuracy: 0.0016 - val_loss: 1.4835 - val_accuracy: 9.7987e-04\n",
            "Epoch 160/400\n",
            "156/156 [==============================] - 0s 3ms/step - loss: 1.4851 - accuracy: 0.0016 - val_loss: 1.4882 - val_accuracy: 9.7987e-04\n",
            "Epoch 161/400\n",
            "156/156 [==============================] - 1s 3ms/step - loss: 1.4866 - accuracy: 0.0016 - val_loss: 1.4835 - val_accuracy: 9.7987e-04\n",
            "Epoch 162/400\n",
            "156/156 [==============================] - 1s 3ms/step - loss: 1.4856 - accuracy: 0.0016 - val_loss: 1.4823 - val_accuracy: 9.7987e-04\n",
            "Epoch 163/400\n",
            "156/156 [==============================] - 1s 3ms/step - loss: 1.4849 - accuracy: 0.0016 - val_loss: 1.4806 - val_accuracy: 9.7987e-04\n",
            "Epoch 164/400\n",
            "156/156 [==============================] - 1s 4ms/step - loss: 1.4850 - accuracy: 0.0016 - val_loss: 1.4914 - val_accuracy: 9.7987e-04\n",
            "Epoch 165/400\n",
            "156/156 [==============================] - 1s 4ms/step - loss: 1.4861 - accuracy: 0.0016 - val_loss: 1.4905 - val_accuracy: 9.7987e-04\n",
            "Epoch 166/400\n",
            "156/156 [==============================] - 0s 3ms/step - loss: 1.4833 - accuracy: 0.0016 - val_loss: 1.4820 - val_accuracy: 9.7987e-04\n",
            "Epoch 167/400\n",
            "156/156 [==============================] - 0s 3ms/step - loss: 1.4840 - accuracy: 0.0016 - val_loss: 1.4861 - val_accuracy: 9.7987e-04\n",
            "Epoch 168/400\n",
            "156/156 [==============================] - 0s 3ms/step - loss: 1.4842 - accuracy: 0.0016 - val_loss: 1.4868 - val_accuracy: 9.7987e-04\n",
            "Epoch 169/400\n",
            "156/156 [==============================] - 0s 3ms/step - loss: 1.4838 - accuracy: 0.0016 - val_loss: 1.4836 - val_accuracy: 9.7987e-04\n",
            "Epoch 170/400\n",
            "156/156 [==============================] - 0s 3ms/step - loss: 1.4835 - accuracy: 0.0016 - val_loss: 1.4817 - val_accuracy: 9.7987e-04\n",
            "Epoch 171/400\n",
            "156/156 [==============================] - 1s 3ms/step - loss: 1.4843 - accuracy: 0.0016 - val_loss: 1.4806 - val_accuracy: 9.7987e-04\n",
            "Epoch 172/400\n",
            "156/156 [==============================] - 1s 3ms/step - loss: 1.4829 - accuracy: 0.0016 - val_loss: 1.4822 - val_accuracy: 9.7987e-04\n",
            "Epoch 173/400\n",
            "156/156 [==============================] - 0s 3ms/step - loss: 1.4822 - accuracy: 0.0016 - val_loss: 1.4776 - val_accuracy: 9.7987e-04\n",
            "Epoch 174/400\n",
            "156/156 [==============================] - 1s 3ms/step - loss: 1.4817 - accuracy: 0.0016 - val_loss: 1.4798 - val_accuracy: 9.7987e-04\n",
            "Epoch 175/400\n",
            "156/156 [==============================] - 1s 3ms/step - loss: 1.4810 - accuracy: 0.0016 - val_loss: 1.4780 - val_accuracy: 9.7987e-04\n",
            "Epoch 176/400\n",
            "156/156 [==============================] - 1s 3ms/step - loss: 1.4810 - accuracy: 0.0016 - val_loss: 1.4783 - val_accuracy: 9.7987e-04\n",
            "Epoch 177/400\n",
            "156/156 [==============================] - 1s 3ms/step - loss: 1.4829 - accuracy: 0.0016 - val_loss: 1.4857 - val_accuracy: 9.7987e-04\n",
            "Epoch 178/400\n",
            "156/156 [==============================] - 0s 3ms/step - loss: 1.4810 - accuracy: 0.0016 - val_loss: 1.4809 - val_accuracy: 9.7987e-04\n",
            "Epoch 179/400\n",
            "156/156 [==============================] - 0s 3ms/step - loss: 1.4803 - accuracy: 0.0016 - val_loss: 1.4825 - val_accuracy: 9.7987e-04\n",
            "Epoch 180/400\n",
            "156/156 [==============================] - 0s 3ms/step - loss: 1.4822 - accuracy: 0.0016 - val_loss: 1.4783 - val_accuracy: 9.7987e-04\n",
            "Epoch 181/400\n",
            "156/156 [==============================] - 1s 3ms/step - loss: 1.4805 - accuracy: 0.0016 - val_loss: 1.4792 - val_accuracy: 9.7987e-04\n",
            "Epoch 182/400\n",
            "156/156 [==============================] - 0s 3ms/step - loss: 1.4812 - accuracy: 0.0016 - val_loss: 1.4828 - val_accuracy: 9.7987e-04\n",
            "Epoch 183/400\n",
            "156/156 [==============================] - 1s 3ms/step - loss: 1.4812 - accuracy: 0.0016 - val_loss: 1.4773 - val_accuracy: 9.7987e-04\n",
            "Epoch 184/400\n",
            "156/156 [==============================] - 0s 3ms/step - loss: 1.4797 - accuracy: 0.0016 - val_loss: 1.4796 - val_accuracy: 9.7987e-04\n",
            "Epoch 185/400\n",
            "156/156 [==============================] - 1s 3ms/step - loss: 1.4814 - accuracy: 0.0016 - val_loss: 1.4779 - val_accuracy: 9.7987e-04\n",
            "Epoch 186/400\n",
            "156/156 [==============================] - 0s 3ms/step - loss: 1.4810 - accuracy: 0.0016 - val_loss: 1.4755 - val_accuracy: 9.7987e-04\n",
            "Epoch 187/400\n",
            "156/156 [==============================] - 1s 3ms/step - loss: 1.4792 - accuracy: 0.0016 - val_loss: 1.4825 - val_accuracy: 9.7987e-04\n",
            "Epoch 188/400\n",
            "156/156 [==============================] - 1s 3ms/step - loss: 1.4806 - accuracy: 0.0016 - val_loss: 1.4763 - val_accuracy: 9.7987e-04\n",
            "Epoch 189/400\n",
            "156/156 [==============================] - 1s 3ms/step - loss: 1.4791 - accuracy: 0.0016 - val_loss: 1.4775 - val_accuracy: 9.7987e-04\n",
            "Epoch 190/400\n",
            "156/156 [==============================] - 0s 3ms/step - loss: 1.4798 - accuracy: 0.0016 - val_loss: 1.4793 - val_accuracy: 9.7987e-04\n",
            "Epoch 191/400\n",
            "156/156 [==============================] - 1s 3ms/step - loss: 1.4785 - accuracy: 0.0016 - val_loss: 1.4737 - val_accuracy: 9.7987e-04\n",
            "Epoch 192/400\n",
            "156/156 [==============================] - 1s 3ms/step - loss: 1.4779 - accuracy: 0.0016 - val_loss: 1.4792 - val_accuracy: 9.7987e-04\n",
            "Epoch 193/400\n",
            "156/156 [==============================] - 0s 3ms/step - loss: 1.4789 - accuracy: 0.0016 - val_loss: 1.4780 - val_accuracy: 9.7987e-04\n",
            "Epoch 194/400\n",
            "156/156 [==============================] - 0s 3ms/step - loss: 1.4794 - accuracy: 0.0016 - val_loss: 1.4765 - val_accuracy: 9.7987e-04\n",
            "Epoch 195/400\n",
            "156/156 [==============================] - 0s 3ms/step - loss: 1.4780 - accuracy: 0.0016 - val_loss: 1.4912 - val_accuracy: 9.7987e-04\n",
            "Epoch 196/400\n",
            "156/156 [==============================] - 0s 3ms/step - loss: 1.4806 - accuracy: 0.0016 - val_loss: 1.4771 - val_accuracy: 9.7987e-04\n",
            "Epoch 197/400\n",
            "156/156 [==============================] - 0s 3ms/step - loss: 1.4770 - accuracy: 0.0016 - val_loss: 1.4737 - val_accuracy: 9.7987e-04\n",
            "Epoch 198/400\n",
            "156/156 [==============================] - 0s 3ms/step - loss: 1.4768 - accuracy: 0.0016 - val_loss: 1.4772 - val_accuracy: 9.7987e-04\n",
            "Epoch 199/400\n",
            "156/156 [==============================] - 0s 3ms/step - loss: 1.4775 - accuracy: 0.0015 - val_loss: 1.4746 - val_accuracy: 9.7987e-04\n",
            "Epoch 200/400\n",
            "156/156 [==============================] - 0s 3ms/step - loss: 1.4777 - accuracy: 0.0015 - val_loss: 1.4763 - val_accuracy: 9.7987e-04\n",
            "Epoch 201/400\n",
            "156/156 [==============================] - 0s 3ms/step - loss: 1.4763 - accuracy: 0.0016 - val_loss: 1.4738 - val_accuracy: 9.7987e-04\n",
            "Epoch 202/400\n",
            "156/156 [==============================] - 0s 3ms/step - loss: 1.4768 - accuracy: 0.0016 - val_loss: 1.4741 - val_accuracy: 9.7987e-04\n",
            "Epoch 203/400\n",
            "156/156 [==============================] - 0s 3ms/step - loss: 1.4750 - accuracy: 0.0016 - val_loss: 1.4802 - val_accuracy: 9.7987e-04\n",
            "Epoch 204/400\n",
            "156/156 [==============================] - 1s 3ms/step - loss: 1.4764 - accuracy: 0.0016 - val_loss: 1.4846 - val_accuracy: 9.7987e-04\n",
            "Epoch 205/400\n",
            "156/156 [==============================] - 1s 3ms/step - loss: 1.4753 - accuracy: 0.0016 - val_loss: 1.4735 - val_accuracy: 9.7987e-04\n",
            "Epoch 206/400\n",
            "156/156 [==============================] - 1s 3ms/step - loss: 1.4760 - accuracy: 0.0016 - val_loss: 1.4728 - val_accuracy: 9.7987e-04\n",
            "Epoch 207/400\n",
            "156/156 [==============================] - 0s 3ms/step - loss: 1.4748 - accuracy: 0.0016 - val_loss: 1.4726 - val_accuracy: 9.7987e-04\n",
            "Epoch 208/400\n",
            "156/156 [==============================] - 0s 3ms/step - loss: 1.4764 - accuracy: 0.0016 - val_loss: 1.4755 - val_accuracy: 9.7987e-04\n",
            "Epoch 209/400\n",
            "156/156 [==============================] - 0s 3ms/step - loss: 1.4764 - accuracy: 0.0016 - val_loss: 1.4747 - val_accuracy: 9.7987e-04\n",
            "Epoch 210/400\n",
            "156/156 [==============================] - 0s 3ms/step - loss: 1.4739 - accuracy: 0.0016 - val_loss: 1.4744 - val_accuracy: 9.7987e-04\n",
            "Epoch 211/400\n",
            "156/156 [==============================] - 0s 3ms/step - loss: 1.4747 - accuracy: 0.0016 - val_loss: 1.4757 - val_accuracy: 9.7987e-04\n",
            "Epoch 212/400\n",
            "156/156 [==============================] - 0s 3ms/step - loss: 1.4737 - accuracy: 0.0016 - val_loss: 1.4729 - val_accuracy: 9.7987e-04\n",
            "Epoch 213/400\n",
            "156/156 [==============================] - 0s 3ms/step - loss: 1.4736 - accuracy: 0.0016 - val_loss: 1.4701 - val_accuracy: 9.7987e-04\n",
            "Epoch 214/400\n",
            "156/156 [==============================] - 0s 3ms/step - loss: 1.4761 - accuracy: 0.0016 - val_loss: 1.4712 - val_accuracy: 9.7987e-04\n",
            "Epoch 215/400\n",
            "156/156 [==============================] - 0s 3ms/step - loss: 1.4742 - accuracy: 0.0015 - val_loss: 1.4713 - val_accuracy: 9.7987e-04\n",
            "Epoch 216/400\n",
            "156/156 [==============================] - 0s 3ms/step - loss: 1.4752 - accuracy: 0.0016 - val_loss: 1.4702 - val_accuracy: 9.7987e-04\n",
            "Epoch 217/400\n",
            "156/156 [==============================] - 0s 3ms/step - loss: 1.4750 - accuracy: 0.0015 - val_loss: 1.4706 - val_accuracy: 9.7987e-04\n",
            "Epoch 218/400\n",
            "156/156 [==============================] - 1s 3ms/step - loss: 1.4725 - accuracy: 0.0016 - val_loss: 1.4721 - val_accuracy: 9.7987e-04\n",
            "Epoch 219/400\n",
            "156/156 [==============================] - 0s 3ms/step - loss: 1.4710 - accuracy: 0.0016 - val_loss: 1.4722 - val_accuracy: 9.7987e-04\n",
            "Epoch 220/400\n",
            "156/156 [==============================] - 0s 3ms/step - loss: 1.4726 - accuracy: 0.0015 - val_loss: 1.4720 - val_accuracy: 9.7987e-04\n",
            "Epoch 221/400\n",
            "156/156 [==============================] - 1s 3ms/step - loss: 1.4726 - accuracy: 0.0016 - val_loss: 1.4714 - val_accuracy: 9.7987e-04\n",
            "Epoch 222/400\n",
            "156/156 [==============================] - 0s 3ms/step - loss: 1.4725 - accuracy: 0.0016 - val_loss: 1.4713 - val_accuracy: 9.7987e-04\n",
            "Epoch 223/400\n",
            "156/156 [==============================] - 0s 3ms/step - loss: 1.4707 - accuracy: 0.0015 - val_loss: 1.4696 - val_accuracy: 9.7987e-04\n",
            "Epoch 224/400\n",
            "156/156 [==============================] - 0s 3ms/step - loss: 1.4711 - accuracy: 0.0016 - val_loss: 1.4712 - val_accuracy: 9.7987e-04\n",
            "Epoch 225/400\n",
            "156/156 [==============================] - 0s 3ms/step - loss: 1.4710 - accuracy: 0.0015 - val_loss: 1.4718 - val_accuracy: 9.7987e-04\n",
            "Epoch 226/400\n",
            "156/156 [==============================] - 0s 3ms/step - loss: 1.4697 - accuracy: 0.0016 - val_loss: 1.4712 - val_accuracy: 9.7987e-04\n",
            "Epoch 227/400\n",
            "156/156 [==============================] - 0s 3ms/step - loss: 1.4714 - accuracy: 0.0016 - val_loss: 1.4704 - val_accuracy: 9.7987e-04\n",
            "Epoch 228/400\n",
            "156/156 [==============================] - 0s 3ms/step - loss: 1.4725 - accuracy: 0.0016 - val_loss: 1.4695 - val_accuracy: 9.7987e-04\n",
            "Epoch 229/400\n",
            "156/156 [==============================] - 0s 3ms/step - loss: 1.4704 - accuracy: 0.0016 - val_loss: 1.4788 - val_accuracy: 9.7987e-04\n",
            "Epoch 230/400\n",
            "156/156 [==============================] - 1s 3ms/step - loss: 1.4716 - accuracy: 0.0015 - val_loss: 1.4762 - val_accuracy: 9.7987e-04\n",
            "Epoch 231/400\n",
            "156/156 [==============================] - 1s 3ms/step - loss: 1.4699 - accuracy: 0.0015 - val_loss: 1.4747 - val_accuracy: 9.7987e-04\n",
            "Epoch 232/400\n",
            "156/156 [==============================] - 1s 3ms/step - loss: 1.4702 - accuracy: 0.0015 - val_loss: 1.4687 - val_accuracy: 9.7987e-04\n",
            "Epoch 233/400\n",
            "156/156 [==============================] - 1s 3ms/step - loss: 1.4689 - accuracy: 0.0016 - val_loss: 1.4708 - val_accuracy: 9.7987e-04\n",
            "Epoch 234/400\n",
            "156/156 [==============================] - 0s 3ms/step - loss: 1.4695 - accuracy: 0.0016 - val_loss: 1.4711 - val_accuracy: 9.7987e-04\n",
            "Epoch 235/400\n",
            "156/156 [==============================] - 0s 3ms/step - loss: 1.4677 - accuracy: 0.0015 - val_loss: 1.4674 - val_accuracy: 9.7987e-04\n",
            "Epoch 236/400\n",
            "156/156 [==============================] - 1s 3ms/step - loss: 1.4691 - accuracy: 0.0016 - val_loss: 1.4698 - val_accuracy: 9.7987e-04\n",
            "Epoch 237/400\n",
            "156/156 [==============================] - 0s 3ms/step - loss: 1.4678 - accuracy: 0.0016 - val_loss: 1.4666 - val_accuracy: 9.7987e-04\n",
            "Epoch 238/400\n",
            "156/156 [==============================] - 0s 3ms/step - loss: 1.4674 - accuracy: 0.0016 - val_loss: 1.4710 - val_accuracy: 9.7987e-04\n",
            "Epoch 239/400\n",
            "156/156 [==============================] - 1s 6ms/step - loss: 1.4673 - accuracy: 0.0016 - val_loss: 1.4743 - val_accuracy: 9.7987e-04\n",
            "Epoch 240/400\n",
            "156/156 [==============================] - 1s 4ms/step - loss: 1.4684 - accuracy: 0.0016 - val_loss: 1.4692 - val_accuracy: 9.7987e-04\n",
            "Epoch 241/400\n",
            "156/156 [==============================] - 1s 6ms/step - loss: 1.4694 - accuracy: 0.0016 - val_loss: 1.4694 - val_accuracy: 9.7987e-04\n",
            "Epoch 242/400\n",
            "156/156 [==============================] - 0s 3ms/step - loss: 1.4669 - accuracy: 0.0016 - val_loss: 1.4739 - val_accuracy: 9.7987e-04\n",
            "Epoch 243/400\n",
            "156/156 [==============================] - 1s 6ms/step - loss: 1.4666 - accuracy: 0.0015 - val_loss: 1.4656 - val_accuracy: 9.7987e-04\n",
            "Epoch 244/400\n",
            "156/156 [==============================] - 1s 3ms/step - loss: 1.4685 - accuracy: 0.0015 - val_loss: 1.4681 - val_accuracy: 9.7987e-04\n",
            "Epoch 245/400\n",
            "156/156 [==============================] - 0s 3ms/step - loss: 1.4661 - accuracy: 0.0015 - val_loss: 1.4681 - val_accuracy: 9.7987e-04\n",
            "Epoch 246/400\n",
            "156/156 [==============================] - 1s 3ms/step - loss: 1.4646 - accuracy: 0.0016 - val_loss: 1.4671 - val_accuracy: 9.7987e-04\n",
            "Epoch 247/400\n",
            "156/156 [==============================] - 0s 3ms/step - loss: 1.4683 - accuracy: 0.0016 - val_loss: 1.4652 - val_accuracy: 9.7987e-04\n",
            "Epoch 248/400\n",
            "156/156 [==============================] - 1s 3ms/step - loss: 1.4674 - accuracy: 0.0015 - val_loss: 1.4639 - val_accuracy: 9.7987e-04\n",
            "Epoch 249/400\n",
            "156/156 [==============================] - 0s 3ms/step - loss: 1.4646 - accuracy: 0.0016 - val_loss: 1.4695 - val_accuracy: 9.7987e-04\n",
            "Epoch 250/400\n",
            "156/156 [==============================] - 1s 3ms/step - loss: 1.4659 - accuracy: 0.0016 - val_loss: 1.4650 - val_accuracy: 9.7987e-04\n",
            "Epoch 251/400\n",
            "156/156 [==============================] - 1s 3ms/step - loss: 1.4669 - accuracy: 0.0016 - val_loss: 1.4626 - val_accuracy: 9.7987e-04\n",
            "Epoch 252/400\n",
            "156/156 [==============================] - 1s 3ms/step - loss: 1.4657 - accuracy: 0.0016 - val_loss: 1.4705 - val_accuracy: 9.7987e-04\n",
            "Epoch 253/400\n",
            "156/156 [==============================] - 0s 3ms/step - loss: 1.4657 - accuracy: 0.0016 - val_loss: 1.4680 - val_accuracy: 9.7987e-04\n",
            "Epoch 254/400\n",
            "156/156 [==============================] - 0s 3ms/step - loss: 1.4647 - accuracy: 0.0016 - val_loss: 1.4664 - val_accuracy: 9.7987e-04\n",
            "Epoch 255/400\n",
            "156/156 [==============================] - 1s 3ms/step - loss: 1.4649 - accuracy: 0.0016 - val_loss: 1.4701 - val_accuracy: 9.7987e-04\n",
            "Epoch 256/400\n",
            "156/156 [==============================] - 1s 3ms/step - loss: 1.4649 - accuracy: 0.0015 - val_loss: 1.4689 - val_accuracy: 9.7987e-04\n",
            "Epoch 257/400\n",
            "156/156 [==============================] - 0s 3ms/step - loss: 1.4638 - accuracy: 0.0015 - val_loss: 1.4651 - val_accuracy: 9.7987e-04\n",
            "Epoch 258/400\n",
            "156/156 [==============================] - 0s 3ms/step - loss: 1.4634 - accuracy: 0.0016 - val_loss: 1.4632 - val_accuracy: 9.7987e-04\n",
            "Epoch 259/400\n",
            "156/156 [==============================] - 1s 3ms/step - loss: 1.4655 - accuracy: 0.0016 - val_loss: 1.4699 - val_accuracy: 9.7987e-04\n",
            "Epoch 260/400\n",
            "156/156 [==============================] - 0s 3ms/step - loss: 1.4631 - accuracy: 0.0016 - val_loss: 1.4635 - val_accuracy: 9.7987e-04\n",
            "Epoch 261/400\n",
            "156/156 [==============================] - 1s 3ms/step - loss: 1.4652 - accuracy: 0.0016 - val_loss: 1.4646 - val_accuracy: 9.7987e-04\n",
            "Epoch 262/400\n",
            "156/156 [==============================] - 0s 3ms/step - loss: 1.4643 - accuracy: 0.0016 - val_loss: 1.4657 - val_accuracy: 9.7987e-04\n",
            "Epoch 263/400\n",
            "156/156 [==============================] - 0s 3ms/step - loss: 1.4631 - accuracy: 0.0015 - val_loss: 1.4672 - val_accuracy: 9.7987e-04\n",
            "Epoch 264/400\n",
            "156/156 [==============================] - 1s 4ms/step - loss: 1.4634 - accuracy: 0.0016 - val_loss: 1.4647 - val_accuracy: 9.7987e-04\n",
            "Epoch 265/400\n",
            "156/156 [==============================] - 1s 3ms/step - loss: 1.4621 - accuracy: 0.0016 - val_loss: 1.4648 - val_accuracy: 9.7987e-04\n",
            "Epoch 266/400\n",
            "156/156 [==============================] - 0s 3ms/step - loss: 1.4630 - accuracy: 0.0016 - val_loss: 1.4703 - val_accuracy: 9.7987e-04\n",
            "Epoch 267/400\n",
            "156/156 [==============================] - 0s 3ms/step - loss: 1.4625 - accuracy: 0.0016 - val_loss: 1.4605 - val_accuracy: 9.7987e-04\n",
            "Epoch 268/400\n",
            "156/156 [==============================] - 0s 3ms/step - loss: 1.4644 - accuracy: 0.0016 - val_loss: 1.4634 - val_accuracy: 9.7987e-04\n",
            "Epoch 269/400\n",
            "156/156 [==============================] - 0s 3ms/step - loss: 1.4616 - accuracy: 0.0016 - val_loss: 1.4653 - val_accuracy: 9.7987e-04\n",
            "Epoch 270/400\n",
            "156/156 [==============================] - 1s 4ms/step - loss: 1.4627 - accuracy: 0.0016 - val_loss: 1.4703 - val_accuracy: 9.7987e-04\n",
            "Epoch 271/400\n",
            "156/156 [==============================] - 0s 3ms/step - loss: 1.4618 - accuracy: 0.0016 - val_loss: 1.4606 - val_accuracy: 9.7987e-04\n",
            "Epoch 272/400\n",
            "156/156 [==============================] - 0s 3ms/step - loss: 1.4640 - accuracy: 0.0016 - val_loss: 1.4600 - val_accuracy: 9.7987e-04\n",
            "Epoch 273/400\n",
            "156/156 [==============================] - 0s 3ms/step - loss: 1.4618 - accuracy: 0.0016 - val_loss: 1.4606 - val_accuracy: 9.7987e-04\n",
            "Epoch 274/400\n",
            "156/156 [==============================] - 0s 3ms/step - loss: 1.4618 - accuracy: 0.0015 - val_loss: 1.4599 - val_accuracy: 9.7987e-04\n",
            "Epoch 275/400\n",
            "156/156 [==============================] - 0s 3ms/step - loss: 1.4626 - accuracy: 0.0015 - val_loss: 1.4627 - val_accuracy: 9.7987e-04\n",
            "Epoch 276/400\n",
            "156/156 [==============================] - 1s 3ms/step - loss: 1.4615 - accuracy: 0.0016 - val_loss: 1.4633 - val_accuracy: 9.7987e-04\n",
            "Epoch 277/400\n",
            "156/156 [==============================] - 1s 3ms/step - loss: 1.4618 - accuracy: 0.0016 - val_loss: 1.4634 - val_accuracy: 9.7987e-04\n",
            "Epoch 278/400\n",
            "156/156 [==============================] - 0s 3ms/step - loss: 1.4602 - accuracy: 0.0016 - val_loss: 1.4609 - val_accuracy: 9.7987e-04\n",
            "Epoch 279/400\n",
            "156/156 [==============================] - 0s 3ms/step - loss: 1.4607 - accuracy: 0.0016 - val_loss: 1.4634 - val_accuracy: 9.7987e-04\n",
            "Epoch 280/400\n",
            "156/156 [==============================] - 1s 4ms/step - loss: 1.4614 - accuracy: 0.0015 - val_loss: 1.4643 - val_accuracy: 9.7987e-04\n",
            "Epoch 281/400\n",
            "156/156 [==============================] - 0s 3ms/step - loss: 1.4606 - accuracy: 0.0016 - val_loss: 1.4599 - val_accuracy: 9.7987e-04\n",
            "Epoch 282/400\n",
            "156/156 [==============================] - 1s 4ms/step - loss: 1.4606 - accuracy: 0.0016 - val_loss: 1.4596 - val_accuracy: 9.7987e-04\n",
            "Epoch 283/400\n",
            "156/156 [==============================] - 0s 3ms/step - loss: 1.4611 - accuracy: 0.0016 - val_loss: 1.4594 - val_accuracy: 9.7987e-04\n",
            "Epoch 284/400\n",
            "156/156 [==============================] - 1s 4ms/step - loss: 1.4612 - accuracy: 0.0016 - val_loss: 1.4599 - val_accuracy: 9.7987e-04\n",
            "Epoch 285/400\n",
            "156/156 [==============================] - 0s 3ms/step - loss: 1.4614 - accuracy: 0.0016 - val_loss: 1.4654 - val_accuracy: 9.7987e-04\n",
            "Epoch 286/400\n",
            "156/156 [==============================] - 0s 3ms/step - loss: 1.4612 - accuracy: 0.0016 - val_loss: 1.4607 - val_accuracy: 9.7987e-04\n",
            "Epoch 287/400\n",
            "156/156 [==============================] - 0s 3ms/step - loss: 1.4601 - accuracy: 0.0016 - val_loss: 1.4584 - val_accuracy: 9.7987e-04\n",
            "Epoch 288/400\n",
            "156/156 [==============================] - 1s 4ms/step - loss: 1.4604 - accuracy: 0.0016 - val_loss: 1.4582 - val_accuracy: 9.7987e-04\n",
            "Epoch 289/400\n",
            "156/156 [==============================] - 1s 3ms/step - loss: 1.4591 - accuracy: 0.0016 - val_loss: 1.4596 - val_accuracy: 9.7987e-04\n",
            "Epoch 290/400\n",
            "156/156 [==============================] - 0s 3ms/step - loss: 1.4609 - accuracy: 0.0015 - val_loss: 1.4578 - val_accuracy: 9.7987e-04\n",
            "Epoch 291/400\n",
            "156/156 [==============================] - 0s 3ms/step - loss: 1.4590 - accuracy: 0.0016 - val_loss: 1.4582 - val_accuracy: 9.7987e-04\n",
            "Epoch 292/400\n",
            "156/156 [==============================] - 0s 3ms/step - loss: 1.4599 - accuracy: 0.0015 - val_loss: 1.4583 - val_accuracy: 9.7987e-04\n",
            "Epoch 293/400\n",
            "156/156 [==============================] - 0s 3ms/step - loss: 1.4586 - accuracy: 0.0016 - val_loss: 1.4597 - val_accuracy: 9.7987e-04\n",
            "Epoch 294/400\n",
            "156/156 [==============================] - 1s 3ms/step - loss: 1.4603 - accuracy: 0.0016 - val_loss: 1.4587 - val_accuracy: 9.7987e-04\n",
            "Epoch 295/400\n",
            "156/156 [==============================] - 0s 3ms/step - loss: 1.4596 - accuracy: 0.0016 - val_loss: 1.4551 - val_accuracy: 9.7987e-04\n",
            "Epoch 296/400\n",
            "156/156 [==============================] - 0s 3ms/step - loss: 1.4585 - accuracy: 0.0016 - val_loss: 1.4595 - val_accuracy: 9.7987e-04\n",
            "Epoch 297/400\n",
            "156/156 [==============================] - 0s 3ms/step - loss: 1.4586 - accuracy: 0.0016 - val_loss: 1.4622 - val_accuracy: 9.7987e-04\n",
            "Epoch 298/400\n",
            "156/156 [==============================] - 0s 3ms/step - loss: 1.4585 - accuracy: 0.0016 - val_loss: 1.4595 - val_accuracy: 9.7987e-04\n",
            "Epoch 299/400\n",
            "156/156 [==============================] - 0s 3ms/step - loss: 1.4570 - accuracy: 0.0016 - val_loss: 1.4598 - val_accuracy: 9.7987e-04\n",
            "Epoch 300/400\n",
            "156/156 [==============================] - 1s 4ms/step - loss: 1.4580 - accuracy: 0.0016 - val_loss: 1.4550 - val_accuracy: 9.7987e-04\n",
            "Epoch 301/400\n",
            "156/156 [==============================] - 1s 3ms/step - loss: 1.4577 - accuracy: 0.0016 - val_loss: 1.4592 - val_accuracy: 9.7987e-04\n",
            "Epoch 302/400\n",
            "156/156 [==============================] - 0s 3ms/step - loss: 1.4581 - accuracy: 0.0016 - val_loss: 1.4574 - val_accuracy: 9.7987e-04\n",
            "Epoch 303/400\n",
            "156/156 [==============================] - 1s 3ms/step - loss: 1.4563 - accuracy: 0.0016 - val_loss: 1.4547 - val_accuracy: 9.7987e-04\n",
            "Epoch 304/400\n",
            "156/156 [==============================] - 1s 4ms/step - loss: 1.4564 - accuracy: 0.0016 - val_loss: 1.4559 - val_accuracy: 9.7987e-04\n",
            "Epoch 305/400\n",
            "156/156 [==============================] - 1s 4ms/step - loss: 1.4563 - accuracy: 0.0016 - val_loss: 1.4575 - val_accuracy: 9.7987e-04\n",
            "Epoch 306/400\n",
            "156/156 [==============================] - 1s 4ms/step - loss: 1.4571 - accuracy: 0.0016 - val_loss: 1.4641 - val_accuracy: 9.7987e-04\n",
            "Epoch 307/400\n",
            "156/156 [==============================] - 0s 3ms/step - loss: 1.4575 - accuracy: 0.0015 - val_loss: 1.4554 - val_accuracy: 9.7987e-04\n",
            "Epoch 308/400\n",
            "156/156 [==============================] - 0s 3ms/step - loss: 1.4583 - accuracy: 0.0015 - val_loss: 1.4615 - val_accuracy: 9.7987e-04\n",
            "Epoch 309/400\n",
            "156/156 [==============================] - 0s 3ms/step - loss: 1.4548 - accuracy: 0.0016 - val_loss: 1.4559 - val_accuracy: 9.7987e-04\n",
            "Epoch 310/400\n",
            "156/156 [==============================] - 0s 3ms/step - loss: 1.4562 - accuracy: 0.0016 - val_loss: 1.4550 - val_accuracy: 9.7987e-04\n",
            "Epoch 311/400\n",
            "156/156 [==============================] - 0s 3ms/step - loss: 1.4567 - accuracy: 0.0016 - val_loss: 1.4588 - val_accuracy: 9.7987e-04\n",
            "Epoch 312/400\n",
            "156/156 [==============================] - 0s 3ms/step - loss: 1.4546 - accuracy: 0.0016 - val_loss: 1.4624 - val_accuracy: 9.7987e-04\n",
            "Epoch 313/400\n",
            "156/156 [==============================] - 0s 3ms/step - loss: 1.4575 - accuracy: 0.0016 - val_loss: 1.4561 - val_accuracy: 9.7987e-04\n",
            "Epoch 314/400\n",
            "156/156 [==============================] - 0s 3ms/step - loss: 1.4557 - accuracy: 0.0016 - val_loss: 1.4600 - val_accuracy: 9.7987e-04\n",
            "Epoch 315/400\n",
            "156/156 [==============================] - 0s 3ms/step - loss: 1.4550 - accuracy: 0.0016 - val_loss: 1.4546 - val_accuracy: 9.7987e-04\n",
            "Epoch 316/400\n",
            "156/156 [==============================] - 1s 3ms/step - loss: 1.4549 - accuracy: 0.0016 - val_loss: 1.4654 - val_accuracy: 9.7987e-04\n",
            "Epoch 317/400\n",
            "156/156 [==============================] - 0s 3ms/step - loss: 1.4556 - accuracy: 0.0016 - val_loss: 1.4527 - val_accuracy: 9.7987e-04\n",
            "Epoch 318/400\n",
            "156/156 [==============================] - 0s 3ms/step - loss: 1.4547 - accuracy: 0.0016 - val_loss: 1.4552 - val_accuracy: 9.7987e-04\n",
            "Epoch 319/400\n",
            "156/156 [==============================] - 0s 3ms/step - loss: 1.4548 - accuracy: 0.0016 - val_loss: 1.4550 - val_accuracy: 9.7987e-04\n",
            "Epoch 320/400\n",
            "156/156 [==============================] - 0s 3ms/step - loss: 1.4541 - accuracy: 0.0016 - val_loss: 1.4549 - val_accuracy: 9.7987e-04\n",
            "Epoch 321/400\n",
            "156/156 [==============================] - 0s 3ms/step - loss: 1.4543 - accuracy: 0.0016 - val_loss: 1.4580 - val_accuracy: 9.7987e-04\n",
            "Epoch 322/400\n",
            "156/156 [==============================] - 1s 4ms/step - loss: 1.4553 - accuracy: 0.0016 - val_loss: 1.4604 - val_accuracy: 9.7987e-04\n",
            "Epoch 323/400\n",
            "156/156 [==============================] - 1s 3ms/step - loss: 1.4554 - accuracy: 0.0016 - val_loss: 1.4519 - val_accuracy: 9.7987e-04\n",
            "Epoch 324/400\n",
            "156/156 [==============================] - 0s 3ms/step - loss: 1.4534 - accuracy: 0.0016 - val_loss: 1.4588 - val_accuracy: 9.7987e-04\n",
            "Epoch 325/400\n",
            "156/156 [==============================] - 0s 3ms/step - loss: 1.4552 - accuracy: 0.0016 - val_loss: 1.4530 - val_accuracy: 9.7987e-04\n",
            "Epoch 326/400\n",
            "156/156 [==============================] - 0s 3ms/step - loss: 1.4537 - accuracy: 0.0016 - val_loss: 1.4637 - val_accuracy: 9.7987e-04\n",
            "Epoch 327/400\n",
            "156/156 [==============================] - 1s 3ms/step - loss: 1.4536 - accuracy: 0.0016 - val_loss: 1.4545 - val_accuracy: 9.7987e-04\n",
            "Epoch 328/400\n",
            "156/156 [==============================] - 1s 4ms/step - loss: 1.4535 - accuracy: 0.0016 - val_loss: 1.4657 - val_accuracy: 9.7987e-04\n",
            "Epoch 329/400\n",
            "156/156 [==============================] - 0s 3ms/step - loss: 1.4533 - accuracy: 0.0016 - val_loss: 1.4558 - val_accuracy: 9.7987e-04\n",
            "Epoch 330/400\n",
            "156/156 [==============================] - 0s 3ms/step - loss: 1.4524 - accuracy: 0.0016 - val_loss: 1.4558 - val_accuracy: 9.7987e-04\n",
            "Epoch 331/400\n",
            "156/156 [==============================] - 0s 3ms/step - loss: 1.4523 - accuracy: 0.0016 - val_loss: 1.4511 - val_accuracy: 9.7987e-04\n",
            "Epoch 332/400\n",
            "156/156 [==============================] - 1s 3ms/step - loss: 1.4531 - accuracy: 0.0016 - val_loss: 1.4530 - val_accuracy: 9.7987e-04\n",
            "Epoch 333/400\n",
            "156/156 [==============================] - 1s 4ms/step - loss: 1.4518 - accuracy: 0.0016 - val_loss: 1.4509 - val_accuracy: 9.7987e-04\n",
            "Epoch 334/400\n",
            "156/156 [==============================] - 0s 3ms/step - loss: 1.4541 - accuracy: 0.0016 - val_loss: 1.4577 - val_accuracy: 9.7987e-04\n",
            "Epoch 335/400\n",
            "156/156 [==============================] - 0s 3ms/step - loss: 1.4517 - accuracy: 0.0016 - val_loss: 1.4549 - val_accuracy: 9.7987e-04\n",
            "Epoch 336/400\n",
            "156/156 [==============================] - 0s 3ms/step - loss: 1.4523 - accuracy: 0.0016 - val_loss: 1.4528 - val_accuracy: 9.7987e-04\n",
            "Epoch 337/400\n",
            "156/156 [==============================] - 1s 4ms/step - loss: 1.4509 - accuracy: 0.0016 - val_loss: 1.4508 - val_accuracy: 9.7987e-04\n",
            "Epoch 338/400\n",
            "156/156 [==============================] - 0s 3ms/step - loss: 1.4516 - accuracy: 0.0016 - val_loss: 1.4572 - val_accuracy: 9.7987e-04\n",
            "Epoch 339/400\n",
            "156/156 [==============================] - 0s 3ms/step - loss: 1.4514 - accuracy: 0.0016 - val_loss: 1.4548 - val_accuracy: 9.7987e-04\n",
            "Epoch 340/400\n",
            "156/156 [==============================] - 0s 3ms/step - loss: 1.4518 - accuracy: 0.0016 - val_loss: 1.4524 - val_accuracy: 9.7987e-04\n",
            "Epoch 341/400\n",
            "156/156 [==============================] - 0s 3ms/step - loss: 1.4504 - accuracy: 0.0016 - val_loss: 1.4510 - val_accuracy: 9.7987e-04\n",
            "Epoch 342/400\n",
            "156/156 [==============================] - 1s 4ms/step - loss: 1.4527 - accuracy: 0.0016 - val_loss: 1.4522 - val_accuracy: 9.7987e-04\n",
            "Epoch 343/400\n",
            "156/156 [==============================] - 0s 3ms/step - loss: 1.4512 - accuracy: 0.0016 - val_loss: 1.4501 - val_accuracy: 9.7987e-04\n",
            "Epoch 344/400\n",
            "156/156 [==============================] - 1s 3ms/step - loss: 1.4515 - accuracy: 0.0016 - val_loss: 1.4504 - val_accuracy: 9.7987e-04\n",
            "Epoch 345/400\n",
            "156/156 [==============================] - 0s 3ms/step - loss: 1.4503 - accuracy: 0.0016 - val_loss: 1.4555 - val_accuracy: 9.7987e-04\n",
            "Epoch 346/400\n",
            "156/156 [==============================] - 0s 3ms/step - loss: 1.4527 - accuracy: 0.0016 - val_loss: 1.4533 - val_accuracy: 9.7987e-04\n",
            "Epoch 347/400\n",
            "156/156 [==============================] - 0s 3ms/step - loss: 1.4489 - accuracy: 0.0016 - val_loss: 1.4512 - val_accuracy: 9.7987e-04\n",
            "Epoch 348/400\n",
            "156/156 [==============================] - 0s 3ms/step - loss: 1.4500 - accuracy: 0.0016 - val_loss: 1.4529 - val_accuracy: 9.7987e-04\n",
            "Epoch 349/400\n",
            "156/156 [==============================] - 1s 4ms/step - loss: 1.4498 - accuracy: 0.0016 - val_loss: 1.4501 - val_accuracy: 9.7987e-04\n",
            "Epoch 350/400\n",
            "156/156 [==============================] - 1s 3ms/step - loss: 1.4519 - accuracy: 0.0016 - val_loss: 1.4528 - val_accuracy: 9.7987e-04\n",
            "Epoch 351/400\n",
            "156/156 [==============================] - 1s 4ms/step - loss: 1.4512 - accuracy: 0.0016 - val_loss: 1.4497 - val_accuracy: 9.7987e-04\n",
            "Epoch 352/400\n",
            "156/156 [==============================] - 0s 3ms/step - loss: 1.4484 - accuracy: 0.0016 - val_loss: 1.4491 - val_accuracy: 9.7987e-04\n",
            "Epoch 353/400\n",
            "156/156 [==============================] - 1s 4ms/step - loss: 1.4502 - accuracy: 0.0016 - val_loss: 1.4544 - val_accuracy: 9.7987e-04\n",
            "Epoch 354/400\n",
            "156/156 [==============================] - 1s 4ms/step - loss: 1.4496 - accuracy: 0.0016 - val_loss: 1.4570 - val_accuracy: 9.7987e-04\n",
            "Epoch 355/400\n",
            "156/156 [==============================] - 0s 3ms/step - loss: 1.4498 - accuracy: 0.0016 - val_loss: 1.4601 - val_accuracy: 9.7987e-04\n",
            "Epoch 356/400\n",
            "156/156 [==============================] - 1s 3ms/step - loss: 1.4510 - accuracy: 0.0016 - val_loss: 1.4510 - val_accuracy: 9.7987e-04\n",
            "Epoch 357/400\n",
            "156/156 [==============================] - 0s 3ms/step - loss: 1.4481 - accuracy: 0.0016 - val_loss: 1.4511 - val_accuracy: 9.7987e-04\n",
            "Epoch 358/400\n",
            "156/156 [==============================] - 0s 3ms/step - loss: 1.4507 - accuracy: 0.0016 - val_loss: 1.4499 - val_accuracy: 9.7987e-04\n",
            "Epoch 359/400\n",
            "156/156 [==============================] - 0s 3ms/step - loss: 1.4484 - accuracy: 0.0016 - val_loss: 1.4519 - val_accuracy: 9.7987e-04\n",
            "Epoch 360/400\n",
            "156/156 [==============================] - 1s 3ms/step - loss: 1.4488 - accuracy: 0.0016 - val_loss: 1.4560 - val_accuracy: 9.7987e-04\n",
            "Epoch 361/400\n",
            "156/156 [==============================] - 1s 3ms/step - loss: 1.4496 - accuracy: 0.0016 - val_loss: 1.4496 - val_accuracy: 9.7987e-04\n",
            "Epoch 362/400\n",
            "156/156 [==============================] - 0s 3ms/step - loss: 1.4483 - accuracy: 0.0016 - val_loss: 1.4523 - val_accuracy: 9.7987e-04\n",
            "Epoch 363/400\n",
            "156/156 [==============================] - 0s 3ms/step - loss: 1.4499 - accuracy: 0.0016 - val_loss: 1.4516 - val_accuracy: 9.7987e-04\n",
            "Epoch 364/400\n",
            "156/156 [==============================] - 1s 3ms/step - loss: 1.4470 - accuracy: 0.0016 - val_loss: 1.4500 - val_accuracy: 9.7987e-04\n",
            "Epoch 365/400\n",
            "156/156 [==============================] - 1s 3ms/step - loss: 1.4470 - accuracy: 0.0015 - val_loss: 1.4471 - val_accuracy: 9.7987e-04\n",
            "Epoch 366/400\n",
            "156/156 [==============================] - 1s 3ms/step - loss: 1.4485 - accuracy: 0.0015 - val_loss: 1.4504 - val_accuracy: 9.7987e-04\n",
            "Epoch 367/400\n",
            "156/156 [==============================] - 0s 3ms/step - loss: 1.4487 - accuracy: 0.0016 - val_loss: 1.4510 - val_accuracy: 9.7987e-04\n",
            "Epoch 368/400\n",
            "156/156 [==============================] - 1s 4ms/step - loss: 1.4475 - accuracy: 0.0016 - val_loss: 1.4479 - val_accuracy: 9.7987e-04\n",
            "Epoch 369/400\n",
            "156/156 [==============================] - 1s 3ms/step - loss: 1.4511 - accuracy: 0.0016 - val_loss: 1.4543 - val_accuracy: 9.7987e-04\n",
            "Epoch 370/400\n",
            "156/156 [==============================] - 0s 3ms/step - loss: 1.4490 - accuracy: 0.0016 - val_loss: 1.4464 - val_accuracy: 9.7987e-04\n",
            "Epoch 371/400\n",
            "156/156 [==============================] - 1s 4ms/step - loss: 1.4475 - accuracy: 0.0016 - val_loss: 1.4478 - val_accuracy: 9.7987e-04\n",
            "Epoch 372/400\n",
            "156/156 [==============================] - 0s 3ms/step - loss: 1.4469 - accuracy: 0.0016 - val_loss: 1.4533 - val_accuracy: 9.7987e-04\n",
            "Epoch 373/400\n",
            "156/156 [==============================] - 1s 4ms/step - loss: 1.4469 - accuracy: 0.0016 - val_loss: 1.4458 - val_accuracy: 9.7987e-04\n",
            "Epoch 374/400\n",
            "156/156 [==============================] - 1s 4ms/step - loss: 1.4472 - accuracy: 0.0016 - val_loss: 1.4467 - val_accuracy: 9.7987e-04\n",
            "Epoch 375/400\n",
            "156/156 [==============================] - 1s 4ms/step - loss: 1.4464 - accuracy: 0.0016 - val_loss: 1.4458 - val_accuracy: 9.7987e-04\n",
            "Epoch 376/400\n",
            "156/156 [==============================] - 1s 5ms/step - loss: 1.4483 - accuracy: 0.0016 - val_loss: 1.4482 - val_accuracy: 9.7987e-04\n",
            "Epoch 377/400\n",
            "156/156 [==============================] - 1s 4ms/step - loss: 1.4471 - accuracy: 0.0016 - val_loss: 1.4495 - val_accuracy: 9.7987e-04\n",
            "Epoch 378/400\n",
            "156/156 [==============================] - 1s 4ms/step - loss: 1.4468 - accuracy: 0.0016 - val_loss: 1.4523 - val_accuracy: 9.7987e-04\n",
            "Epoch 379/400\n",
            "156/156 [==============================] - 0s 3ms/step - loss: 1.4474 - accuracy: 0.0016 - val_loss: 1.4483 - val_accuracy: 9.7987e-04\n",
            "Epoch 380/400\n",
            "156/156 [==============================] - 1s 4ms/step - loss: 1.4468 - accuracy: 0.0016 - val_loss: 1.4502 - val_accuracy: 9.7987e-04\n",
            "Epoch 381/400\n",
            "156/156 [==============================] - 1s 4ms/step - loss: 1.4463 - accuracy: 0.0016 - val_loss: 1.4475 - val_accuracy: 9.7987e-04\n",
            "Epoch 382/400\n",
            "156/156 [==============================] - 1s 4ms/step - loss: 1.4475 - accuracy: 0.0016 - val_loss: 1.4636 - val_accuracy: 9.7987e-04\n",
            "Epoch 383/400\n",
            "156/156 [==============================] - 0s 3ms/step - loss: 1.4482 - accuracy: 0.0016 - val_loss: 1.4469 - val_accuracy: 9.7987e-04\n",
            "Epoch 384/400\n",
            "156/156 [==============================] - 0s 3ms/step - loss: 1.4457 - accuracy: 0.0016 - val_loss: 1.4453 - val_accuracy: 9.7987e-04\n",
            "Epoch 385/400\n",
            "156/156 [==============================] - 0s 3ms/step - loss: 1.4480 - accuracy: 0.0016 - val_loss: 1.4457 - val_accuracy: 9.7987e-04\n",
            "Epoch 386/400\n",
            "156/156 [==============================] - 0s 3ms/step - loss: 1.4460 - accuracy: 0.0016 - val_loss: 1.4482 - val_accuracy: 9.7987e-04\n",
            "Epoch 387/400\n",
            "156/156 [==============================] - 0s 3ms/step - loss: 1.4449 - accuracy: 0.0016 - val_loss: 1.4554 - val_accuracy: 9.7987e-04\n",
            "Epoch 388/400\n",
            "156/156 [==============================] - 0s 3ms/step - loss: 1.4478 - accuracy: 0.0016 - val_loss: 1.4460 - val_accuracy: 9.7987e-04\n",
            "Epoch 389/400\n",
            "156/156 [==============================] - 1s 3ms/step - loss: 1.4440 - accuracy: 0.0016 - val_loss: 1.4483 - val_accuracy: 9.7987e-04\n",
            "Epoch 390/400\n",
            "156/156 [==============================] - 0s 3ms/step - loss: 1.4441 - accuracy: 0.0016 - val_loss: 1.4447 - val_accuracy: 9.7987e-04\n",
            "Epoch 391/400\n",
            "156/156 [==============================] - 1s 4ms/step - loss: 1.4455 - accuracy: 0.0016 - val_loss: 1.4561 - val_accuracy: 9.7987e-04\n",
            "Epoch 392/400\n",
            "156/156 [==============================] - 0s 3ms/step - loss: 1.4455 - accuracy: 0.0016 - val_loss: 1.4450 - val_accuracy: 9.7987e-04\n",
            "Epoch 393/400\n",
            "156/156 [==============================] - 1s 4ms/step - loss: 1.4454 - accuracy: 0.0016 - val_loss: 1.4470 - val_accuracy: 9.7987e-04\n",
            "Epoch 394/400\n",
            "156/156 [==============================] - 0s 3ms/step - loss: 1.4443 - accuracy: 0.0015 - val_loss: 1.4546 - val_accuracy: 9.7987e-04\n",
            "Epoch 395/400\n",
            "156/156 [==============================] - 0s 3ms/step - loss: 1.4446 - accuracy: 0.0016 - val_loss: 1.4462 - val_accuracy: 9.7987e-04\n",
            "Epoch 396/400\n",
            "156/156 [==============================] - 0s 3ms/step - loss: 1.4448 - accuracy: 0.0016 - val_loss: 1.4459 - val_accuracy: 9.7987e-04\n",
            "Epoch 397/400\n",
            "156/156 [==============================] - 0s 3ms/step - loss: 1.4432 - accuracy: 0.0016 - val_loss: 1.4476 - val_accuracy: 9.7987e-04\n",
            "Epoch 398/400\n",
            "156/156 [==============================] - 0s 3ms/step - loss: 1.4446 - accuracy: 0.0016 - val_loss: 1.4479 - val_accuracy: 9.7987e-04\n",
            "Epoch 399/400\n",
            "156/156 [==============================] - 1s 4ms/step - loss: 1.4458 - accuracy: 0.0016 - val_loss: 1.4494 - val_accuracy: 9.7987e-04\n",
            "Epoch 400/400\n",
            "156/156 [==============================] - 1s 4ms/step - loss: 1.4437 - accuracy: 0.0016 - val_loss: 1.4456 - val_accuracy: 9.7987e-04\n"
          ]
        }
      ],
      "source": [
        "model_nn.compile(optimizer='adam',loss='mean_absolute_error',metrics=['accuracy'])\n",
        "earlyStop=EarlyStopping(monitor=\"val_loss\",verbose=2,mode='min',patience=20)\n",
        "losses_nn_2 = model_nn.fit(X_train, y_train, validation_data=(X_val, y_val), batch_size=256, epochs=400, callbacks=[earlyStop])"
      ]
    },
    {
      "cell_type": "markdown",
      "metadata": {
        "id": "w49qGMFRGVxF"
      },
      "source": [
        "#### Loss graph"
      ]
    },
    {
      "cell_type": "code",
      "execution_count": 13,
      "metadata": {
        "colab": {
          "base_uri": "https://localhost:8080/",
          "height": 283
        },
        "id": "Qn6HP8_UGWs9",
        "outputId": "2cd09efb-131c-4c04-92a8-8c0b30e30e85"
      },
      "outputs": [
        {
          "data": {
            "text/plain": [
              "<matplotlib.axes._subplots.AxesSubplot at 0x7fdfcc1d3450>"
            ]
          },
          "execution_count": 13,
          "metadata": {},
          "output_type": "execute_result"
        },
        {
          "data": {
            "image/png": "[encoded data removed]",
            "text/plain": [
              "<Figure size 432x288 with 1 Axes>"
            ]
          },
          "metadata": {
            "needs_background": "light"
          },
          "output_type": "display_data"
        }
      ],
      "source": [
        "loss_df_nn_2 = pd.DataFrame(losses_nn_2.history)\n",
        "loss_df_nn_2.loc[:,['loss','val_loss']].plot(color = ['darkorange','midnightblue'])"
      ]
    },
    {
      "cell_type": "markdown",
      "metadata": {
        "id": "6LIDxx7VGZ6d"
      },
      "source": [
        "#### Loss values"
      ]
    },
    {
      "cell_type": "code",
      "execution_count": 14,
      "metadata": {
        "colab": {
          "base_uri": "https://localhost:8080/"
        },
        "id": "eA-xOB51Gamk",
        "outputId": "e1087aa0-c268-4c9b-d69c-4c1e9a291f70"
      },
      "outputs": [
        {
          "name": "stdout",
          "output_type": "stream",
          "text": [
            "17689/17689 [==============================] - 32s 2ms/step - loss: 1.4630 - accuracy: 0.0017\n"
          ]
        }
      ],
      "source": [
        "score_mae = model_nn.evaluate(X_test, y_test, batch_size=1)\n",
        "y_pred_nn_2 = model_nn.predict(X_test)"
      ]
    },
    {
      "cell_type": "code",
      "execution_count": 15,
      "metadata": {
        "id": "z_h7AS_PHeFV"
      },
      "outputs": [],
      "source": [
        "compa_k_mae.append(score_mae[0])"
      ]
    },
    {
      "cell_type": "code",
      "execution_count": 16,
      "metadata": {
        "colab": {
          "base_uri": "https://localhost:8080/"
        },
        "id": "UapEFFgkHdII",
        "outputId": "627b4567-0260-42f8-b7e1-69618a3be582"
      },
      "outputs": [
        {
          "name": "stdout",
          "output_type": "stream",
          "text": [
            "mae: 1.462952\n"
          ]
        }
      ],
      "source": [
        "print('mae: %f'%score_mae[0])"
      ]
    },
    {
      "cell_type": "code",
      "execution_count": 17,
      "metadata": {
        "colab": {
          "base_uri": "https://localhost:8080/"
        },
        "id": "04PZdmalHfj9",
        "outputId": "12f5d9b5-f0f2-4315-f36c-5a782ba9228c"
      },
      "outputs": [
        {
          "name": "stdout",
          "output_type": "stream",
          "text": [
            "predicted response:\n",
            "[[5.53901052e+09]\n",
            " [5.18655396e+09]\n",
            " [4.14155102e+09]\n",
            " [3.86145926e+09]\n",
            " [5.21858025e+09]\n",
            " [1.79606736e+09]\n",
            " [2.63878179e+09]\n",
            " [8.79618740e+09]\n",
            " [2.71757388e+09]\n",
            " [6.29370594e+09]]\n",
            "actual:\n",
            "22453    6.600000e+09\n",
            "68000    5.500000e+09\n",
            "24488    1.680000e+09\n",
            "6208     4.150000e+09\n",
            "69780    7.090000e+09\n",
            "43825    2.200000e+09\n",
            "1208     1.500000e+09\n",
            "52345    8.600000e+09\n",
            "63577    4.150000e+09\n",
            "19916    7.500000e+09\n",
            "Name: price, dtype: float64\n"
          ]
        }
      ],
      "source": [
        "print(f\"predicted response:\\n{y_pred_nn_2[:10]*one_billion}\")\n",
        "print(f\"actual:\\n{y_test.iloc[0:10]*one_billion}\")"
      ]
    },
    {
      "cell_type": "code",
      "execution_count": 18,
      "metadata": {
        "colab": {
          "base_uri": "https://localhost:8080/"
        },
        "id": "sgwqWqvCHg4v",
        "outputId": "1e800877-0412-4b8e-9260-7dd599749eb9"
      },
      "outputs": [
        {
          "name": "stdout",
          "output_type": "stream",
          "text": [
            "The number of negative prediction:  4\n",
            "Percent correct prediction:  52.51286110011871\n"
          ]
        }
      ],
      "source": [
        "error, negative_integer = find_prediction_error_value(y_test, y_pred_nn_2)\n",
        "print(\"The number of negative prediction: \", len(negative_integer))\n",
        "print(\"Percent correct prediction: \", (len(y_test) - len(error))/len(y_test)*100)"
      ]
    },
    {
      "cell_type": "markdown",
      "metadata": {
        "id": "S-Lcq1_wF5Xl"
      },
      "source": [
        "### RMSE"
      ]
    },
    {
      "cell_type": "code",
      "execution_count": 19,
      "metadata": {
        "colab": {
          "base_uri": "https://localhost:8080/"
        },
        "id": "Zp4LgXs6F6TV",
        "outputId": "d2ab917f-6d86-41da-937d-272d827d7cad"
      },
      "outputs": [
        {
          "name": "stdout",
          "output_type": "stream",
          "text": [
            "Epoch 1/400\n",
            "156/156 [==============================] - 1s 4ms/step - loss: 2.1633 - accuracy: 0.0016 - val_loss: 2.1568 - val_accuracy: 9.7987e-04\n",
            "Epoch 2/400\n",
            "156/156 [==============================] - 0s 3ms/step - loss: 2.1621 - accuracy: 0.0016 - val_loss: 2.1498 - val_accuracy: 9.7987e-04\n",
            "Epoch 3/400\n",
            "156/156 [==============================] - 0s 3ms/step - loss: 2.1587 - accuracy: 0.0016 - val_loss: 2.1479 - val_accuracy: 9.7987e-04\n",
            "Epoch 4/400\n",
            "156/156 [==============================] - 0s 3ms/step - loss: 2.1573 - accuracy: 0.0015 - val_loss: 2.1468 - val_accuracy: 9.7987e-04\n",
            "Epoch 5/400\n",
            "156/156 [==============================] - 0s 3ms/step - loss: 2.1532 - accuracy: 0.0016 - val_loss: 2.1481 - val_accuracy: 9.7987e-04\n",
            "Epoch 6/400\n",
            "156/156 [==============================] - 0s 3ms/step - loss: 2.1536 - accuracy: 0.0016 - val_loss: 2.1523 - val_accuracy: 9.7987e-04\n",
            "Epoch 7/400\n",
            "156/156 [==============================] - 0s 3ms/step - loss: 2.1533 - accuracy: 0.0016 - val_loss: 2.1516 - val_accuracy: 9.7987e-04\n",
            "Epoch 8/400\n",
            "156/156 [==============================] - 0s 3ms/step - loss: 2.1517 - accuracy: 0.0015 - val_loss: 2.1462 - val_accuracy: 9.7987e-04\n",
            "Epoch 9/400\n",
            "156/156 [==============================] - 0s 3ms/step - loss: 2.1524 - accuracy: 0.0015 - val_loss: 2.1455 - val_accuracy: 9.7987e-04\n",
            "Epoch 10/400\n",
            "156/156 [==============================] - 0s 3ms/step - loss: 2.1506 - accuracy: 0.0016 - val_loss: 2.1438 - val_accuracy: 9.7987e-04\n",
            "Epoch 11/400\n",
            "156/156 [==============================] - 0s 3ms/step - loss: 2.1503 - accuracy: 0.0015 - val_loss: 2.1430 - val_accuracy: 9.7987e-04\n",
            "Epoch 12/400\n",
            "156/156 [==============================] - 0s 3ms/step - loss: 2.1483 - accuracy: 0.0015 - val_loss: 2.1420 - val_accuracy: 9.7987e-04\n",
            "Epoch 13/400\n",
            "156/156 [==============================] - 0s 3ms/step - loss: 2.1496 - accuracy: 0.0016 - val_loss: 2.1455 - val_accuracy: 9.7987e-04\n",
            "Epoch 14/400\n",
            "156/156 [==============================] - 0s 3ms/step - loss: 2.1523 - accuracy: 0.0016 - val_loss: 2.1471 - val_accuracy: 9.7987e-04\n",
            "Epoch 15/400\n",
            "156/156 [==============================] - 0s 3ms/step - loss: 2.1467 - accuracy: 0.0016 - val_loss: 2.1463 - val_accuracy: 9.7987e-04\n",
            "Epoch 16/400\n",
            "156/156 [==============================] - 0s 3ms/step - loss: 2.1510 - accuracy: 0.0015 - val_loss: 2.1406 - val_accuracy: 9.7987e-04\n",
            "Epoch 17/400\n",
            "156/156 [==============================] - 0s 3ms/step - loss: 2.1463 - accuracy: 0.0016 - val_loss: 2.1517 - val_accuracy: 9.7987e-04\n",
            "Epoch 18/400\n",
            "156/156 [==============================] - 0s 3ms/step - loss: 2.1474 - accuracy: 0.0015 - val_loss: 2.1426 - val_accuracy: 9.7987e-04\n",
            "Epoch 19/400\n",
            "156/156 [==============================] - 0s 3ms/step - loss: 2.1502 - accuracy: 0.0015 - val_loss: 2.1463 - val_accuracy: 9.7987e-04\n",
            "Epoch 20/400\n",
            "156/156 [==============================] - 0s 3ms/step - loss: 2.1458 - accuracy: 0.0015 - val_loss: 2.1428 - val_accuracy: 9.7987e-04\n",
            "Epoch 21/400\n",
            "156/156 [==============================] - 0s 3ms/step - loss: 2.1441 - accuracy: 0.0015 - val_loss: 2.1408 - val_accuracy: 9.7987e-04\n",
            "Epoch 22/400\n",
            "156/156 [==============================] - 0s 3ms/step - loss: 2.1453 - accuracy: 0.0015 - val_loss: 2.1400 - val_accuracy: 9.7987e-04\n",
            "Epoch 23/400\n",
            "156/156 [==============================] - 0s 3ms/step - loss: 2.1422 - accuracy: 0.0015 - val_loss: 2.1436 - val_accuracy: 9.7987e-04\n",
            "Epoch 24/400\n",
            "156/156 [==============================] - 0s 3ms/step - loss: 2.1448 - accuracy: 0.0015 - val_loss: 2.1452 - val_accuracy: 9.7987e-04\n",
            "Epoch 25/400\n",
            "156/156 [==============================] - 0s 3ms/step - loss: 2.1425 - accuracy: 0.0015 - val_loss: 2.1401 - val_accuracy: 9.7987e-04\n",
            "Epoch 26/400\n",
            "156/156 [==============================] - 0s 3ms/step - loss: 2.1431 - accuracy: 0.0015 - val_loss: 2.1390 - val_accuracy: 9.7987e-04\n",
            "Epoch 27/400\n",
            "156/156 [==============================] - 0s 3ms/step - loss: 2.1409 - accuracy: 0.0015 - val_loss: 2.1385 - val_accuracy: 9.7987e-04\n",
            "Epoch 28/400\n",
            "156/156 [==============================] - 0s 3ms/step - loss: 2.1431 - accuracy: 0.0016 - val_loss: 2.1397 - val_accuracy: 9.7987e-04\n",
            "Epoch 29/400\n",
            "156/156 [==============================] - 0s 3ms/step - loss: 2.1422 - accuracy: 0.0015 - val_loss: 2.1355 - val_accuracy: 9.7987e-04\n",
            "Epoch 30/400\n",
            "156/156 [==============================] - 0s 3ms/step - loss: 2.1423 - accuracy: 0.0015 - val_loss: 2.1378 - val_accuracy: 9.7987e-04\n",
            "Epoch 31/400\n",
            "156/156 [==============================] - 0s 3ms/step - loss: 2.1413 - accuracy: 0.0015 - val_loss: 2.1407 - val_accuracy: 9.7987e-04\n",
            "Epoch 32/400\n",
            "156/156 [==============================] - 0s 3ms/step - loss: 2.1419 - accuracy: 0.0015 - val_loss: 2.1426 - val_accuracy: 9.7987e-04\n",
            "Epoch 33/400\n",
            "156/156 [==============================] - 1s 3ms/step - loss: 2.1432 - accuracy: 0.0015 - val_loss: 2.1392 - val_accuracy: 9.7987e-04\n",
            "Epoch 34/400\n",
            "156/156 [==============================] - 0s 3ms/step - loss: 2.1413 - accuracy: 0.0015 - val_loss: 2.1363 - val_accuracy: 9.7987e-04\n",
            "Epoch 35/400\n",
            "156/156 [==============================] - 0s 3ms/step - loss: 2.1426 - accuracy: 0.0015 - val_loss: 2.1445 - val_accuracy: 9.7987e-04\n",
            "Epoch 36/400\n",
            "156/156 [==============================] - 0s 3ms/step - loss: 2.1423 - accuracy: 0.0015 - val_loss: 2.1380 - val_accuracy: 9.7987e-04\n",
            "Epoch 37/400\n",
            "156/156 [==============================] - 0s 3ms/step - loss: 2.1399 - accuracy: 0.0015 - val_loss: 2.1486 - val_accuracy: 9.7987e-04\n",
            "Epoch 38/400\n",
            "156/156 [==============================] - 0s 3ms/step - loss: 2.1408 - accuracy: 0.0015 - val_loss: 2.1407 - val_accuracy: 9.7987e-04\n",
            "Epoch 39/400\n",
            "156/156 [==============================] - 0s 3ms/step - loss: 2.1405 - accuracy: 0.0015 - val_loss: 2.1366 - val_accuracy: 9.7987e-04\n",
            "Epoch 40/400\n",
            "156/156 [==============================] - 0s 3ms/step - loss: 2.1391 - accuracy: 0.0015 - val_loss: 2.1404 - val_accuracy: 9.7987e-04\n",
            "Epoch 41/400\n",
            "156/156 [==============================] - 0s 3ms/step - loss: 2.1386 - accuracy: 0.0015 - val_loss: 2.1370 - val_accuracy: 9.7987e-04\n",
            "Epoch 42/400\n",
            "156/156 [==============================] - 0s 3ms/step - loss: 2.1388 - accuracy: 0.0015 - val_loss: 2.1461 - val_accuracy: 9.7987e-04\n",
            "Epoch 43/400\n",
            "156/156 [==============================] - 0s 3ms/step - loss: 2.1394 - accuracy: 0.0015 - val_loss: 2.1410 - val_accuracy: 9.7987e-04\n",
            "Epoch 44/400\n",
            "156/156 [==============================] - 0s 3ms/step - loss: 2.1383 - accuracy: 0.0015 - val_loss: 2.1400 - val_accuracy: 9.7987e-04\n",
            "Epoch 45/400\n",
            "156/156 [==============================] - 0s 3ms/step - loss: 2.1364 - accuracy: 0.0015 - val_loss: 2.1400 - val_accuracy: 9.7987e-04\n",
            "Epoch 46/400\n",
            "156/156 [==============================] - 0s 3ms/step - loss: 2.1380 - accuracy: 0.0015 - val_loss: 2.1350 - val_accuracy: 9.7987e-04\n",
            "Epoch 47/400\n",
            "156/156 [==============================] - 1s 3ms/step - loss: 2.1382 - accuracy: 0.0015 - val_loss: 2.1374 - val_accuracy: 9.7987e-04\n",
            "Epoch 48/400\n",
            "156/156 [==============================] - 0s 3ms/step - loss: 2.1410 - accuracy: 0.0015 - val_loss: 2.1338 - val_accuracy: 9.7987e-04\n",
            "Epoch 49/400\n",
            "156/156 [==============================] - 0s 3ms/step - loss: 2.1375 - accuracy: 0.0015 - val_loss: 2.1347 - val_accuracy: 9.7987e-04\n",
            "Epoch 50/400\n",
            "156/156 [==============================] - 0s 3ms/step - loss: 2.1349 - accuracy: 0.0015 - val_loss: 2.1416 - val_accuracy: 9.7987e-04\n",
            "Epoch 51/400\n",
            "156/156 [==============================] - 0s 3ms/step - loss: 2.1366 - accuracy: 0.0015 - val_loss: 2.1382 - val_accuracy: 9.7987e-04\n",
            "Epoch 52/400\n",
            "156/156 [==============================] - 0s 3ms/step - loss: 2.1366 - accuracy: 0.0015 - val_loss: 2.1333 - val_accuracy: 9.7987e-04\n",
            "Epoch 53/400\n",
            "156/156 [==============================] - 0s 3ms/step - loss: 2.1375 - accuracy: 0.0015 - val_loss: 2.1469 - val_accuracy: 9.7987e-04\n",
            "Epoch 54/400\n",
            "156/156 [==============================] - 0s 3ms/step - loss: 2.1367 - accuracy: 0.0015 - val_loss: 2.1354 - val_accuracy: 9.7987e-04\n",
            "Epoch 55/400\n",
            "156/156 [==============================] - 0s 3ms/step - loss: 2.1340 - accuracy: 0.0015 - val_loss: 2.1390 - val_accuracy: 9.7987e-04\n",
            "Epoch 56/400\n",
            "156/156 [==============================] - 0s 3ms/step - loss: 2.1348 - accuracy: 0.0016 - val_loss: 2.1335 - val_accuracy: 9.7987e-04\n",
            "Epoch 57/400\n",
            "156/156 [==============================] - 0s 3ms/step - loss: 2.1331 - accuracy: 0.0015 - val_loss: 2.1425 - val_accuracy: 9.7987e-04\n",
            "Epoch 58/400\n",
            "156/156 [==============================] - 0s 3ms/step - loss: 2.1347 - accuracy: 0.0015 - val_loss: 2.1316 - val_accuracy: 9.7987e-04\n",
            "Epoch 59/400\n",
            "156/156 [==============================] - 0s 3ms/step - loss: 2.1354 - accuracy: 0.0015 - val_loss: 2.1364 - val_accuracy: 9.7987e-04\n",
            "Epoch 60/400\n",
            "156/156 [==============================] - 0s 3ms/step - loss: 2.1344 - accuracy: 0.0015 - val_loss: 2.1338 - val_accuracy: 9.7987e-04\n",
            "Epoch 61/400\n",
            "156/156 [==============================] - 0s 3ms/step - loss: 2.1342 - accuracy: 0.0015 - val_loss: 2.1331 - val_accuracy: 9.7987e-04\n",
            "Epoch 62/400\n",
            "156/156 [==============================] - 0s 3ms/step - loss: 2.1345 - accuracy: 0.0015 - val_loss: 2.1441 - val_accuracy: 9.7987e-04\n",
            "Epoch 63/400\n",
            "156/156 [==============================] - 0s 3ms/step - loss: 2.1321 - accuracy: 0.0015 - val_loss: 2.1303 - val_accuracy: 9.7987e-04\n",
            "Epoch 64/400\n",
            "156/156 [==============================] - 1s 3ms/step - loss: 2.1334 - accuracy: 0.0015 - val_loss: 2.1345 - val_accuracy: 9.7987e-04\n",
            "Epoch 65/400\n",
            "156/156 [==============================] - 1s 4ms/step - loss: 2.1323 - accuracy: 0.0015 - val_loss: 2.1308 - val_accuracy: 9.7987e-04\n",
            "Epoch 66/400\n",
            "156/156 [==============================] - 1s 4ms/step - loss: 2.1319 - accuracy: 0.0015 - val_loss: 2.1405 - val_accuracy: 9.7987e-04\n",
            "Epoch 67/400\n",
            "156/156 [==============================] - 1s 4ms/step - loss: 2.1339 - accuracy: 0.0015 - val_loss: 2.1379 - val_accuracy: 9.7987e-04\n",
            "Epoch 68/400\n",
            "156/156 [==============================] - 1s 4ms/step - loss: 2.1316 - accuracy: 0.0015 - val_loss: 2.1417 - val_accuracy: 9.7987e-04\n",
            "Epoch 69/400\n",
            "156/156 [==============================] - 1s 4ms/step - loss: 2.1326 - accuracy: 0.0015 - val_loss: 2.1363 - val_accuracy: 9.7987e-04\n",
            "Epoch 70/400\n",
            "156/156 [==============================] - 0s 3ms/step - loss: 2.1307 - accuracy: 0.0015 - val_loss: 2.1339 - val_accuracy: 9.7987e-04\n",
            "Epoch 71/400\n",
            "156/156 [==============================] - 0s 3ms/step - loss: 2.1300 - accuracy: 0.0015 - val_loss: 2.1350 - val_accuracy: 9.7987e-04\n",
            "Epoch 72/400\n",
            "156/156 [==============================] - 0s 3ms/step - loss: 2.1317 - accuracy: 0.0015 - val_loss: 2.1298 - val_accuracy: 9.7987e-04\n",
            "Epoch 73/400\n",
            "156/156 [==============================] - 0s 3ms/step - loss: 2.1321 - accuracy: 0.0015 - val_loss: 2.1320 - val_accuracy: 9.7987e-04\n",
            "Epoch 74/400\n",
            "156/156 [==============================] - 0s 3ms/step - loss: 2.1305 - accuracy: 0.0015 - val_loss: 2.1284 - val_accuracy: 9.7987e-04\n",
            "Epoch 75/400\n",
            "156/156 [==============================] - 0s 3ms/step - loss: 2.1305 - accuracy: 0.0015 - val_loss: 2.1375 - val_accuracy: 9.7987e-04\n",
            "Epoch 76/400\n",
            "156/156 [==============================] - 0s 3ms/step - loss: 2.1312 - accuracy: 0.0015 - val_loss: 2.1324 - val_accuracy: 9.7987e-04\n",
            "Epoch 77/400\n",
            "156/156 [==============================] - 0s 3ms/step - loss: 2.1320 - accuracy: 0.0015 - val_loss: 2.1369 - val_accuracy: 9.7987e-04\n",
            "Epoch 78/400\n",
            "156/156 [==============================] - 0s 3ms/step - loss: 2.1314 - accuracy: 0.0015 - val_loss: 2.1305 - val_accuracy: 9.7987e-04\n",
            "Epoch 79/400\n",
            "156/156 [==============================] - 0s 3ms/step - loss: 2.1293 - accuracy: 0.0015 - val_loss: 2.1277 - val_accuracy: 9.7987e-04\n",
            "Epoch 80/400\n",
            "156/156 [==============================] - 0s 3ms/step - loss: 2.1308 - accuracy: 0.0015 - val_loss: 2.1275 - val_accuracy: 9.7987e-04\n",
            "Epoch 81/400\n",
            "156/156 [==============================] - 0s 3ms/step - loss: 2.1303 - accuracy: 0.0015 - val_loss: 2.1307 - val_accuracy: 9.7987e-04\n",
            "Epoch 82/400\n",
            "156/156 [==============================] - 0s 3ms/step - loss: 2.1285 - accuracy: 0.0015 - val_loss: 2.1382 - val_accuracy: 9.7987e-04\n",
            "Epoch 83/400\n",
            "156/156 [==============================] - 0s 3ms/step - loss: 2.1303 - accuracy: 0.0015 - val_loss: 2.1384 - val_accuracy: 9.7987e-04\n",
            "Epoch 84/400\n",
            "156/156 [==============================] - 0s 3ms/step - loss: 2.1323 - accuracy: 0.0015 - val_loss: 2.1283 - val_accuracy: 9.7987e-04\n",
            "Epoch 85/400\n",
            "156/156 [==============================] - 0s 3ms/step - loss: 2.1277 - accuracy: 0.0015 - val_loss: 2.1276 - val_accuracy: 9.7987e-04\n",
            "Epoch 86/400\n",
            "156/156 [==============================] - 1s 3ms/step - loss: 2.1304 - accuracy: 0.0015 - val_loss: 2.1300 - val_accuracy: 9.7987e-04\n",
            "Epoch 87/400\n",
            "156/156 [==============================] - 0s 3ms/step - loss: 2.1270 - accuracy: 0.0015 - val_loss: 2.1340 - val_accuracy: 9.7987e-04\n",
            "Epoch 88/400\n",
            "156/156 [==============================] - 1s 3ms/step - loss: 2.1293 - accuracy: 0.0015 - val_loss: 2.1399 - val_accuracy: 9.7987e-04\n",
            "Epoch 89/400\n",
            "156/156 [==============================] - 0s 3ms/step - loss: 2.1282 - accuracy: 0.0015 - val_loss: 2.1281 - val_accuracy: 9.7987e-04\n",
            "Epoch 90/400\n",
            "156/156 [==============================] - 0s 3ms/step - loss: 2.1278 - accuracy: 0.0015 - val_loss: 2.1359 - val_accuracy: 9.7987e-04\n",
            "Epoch 91/400\n",
            "156/156 [==============================] - 0s 3ms/step - loss: 2.1281 - accuracy: 0.0015 - val_loss: 2.1306 - val_accuracy: 9.7987e-04\n",
            "Epoch 92/400\n",
            "156/156 [==============================] - 0s 3ms/step - loss: 2.1290 - accuracy: 0.0015 - val_loss: 2.1281 - val_accuracy: 9.7987e-04\n",
            "Epoch 93/400\n",
            "156/156 [==============================] - 0s 3ms/step - loss: 2.1275 - accuracy: 0.0015 - val_loss: 2.1349 - val_accuracy: 9.7987e-04\n",
            "Epoch 94/400\n",
            "156/156 [==============================] - 0s 3ms/step - loss: 2.1273 - accuracy: 0.0015 - val_loss: 2.1295 - val_accuracy: 9.7987e-04\n",
            "Epoch 95/400\n",
            "156/156 [==============================] - 0s 3ms/step - loss: 2.1271 - accuracy: 0.0016 - val_loss: 2.1299 - val_accuracy: 9.7987e-04\n",
            "Epoch 96/400\n",
            "156/156 [==============================] - 0s 3ms/step - loss: 2.1240 - accuracy: 0.0015 - val_loss: 2.1312 - val_accuracy: 9.7987e-04\n",
            "Epoch 97/400\n",
            "156/156 [==============================] - 0s 3ms/step - loss: 2.1303 - accuracy: 0.0015 - val_loss: 2.1285 - val_accuracy: 9.7987e-04\n",
            "Epoch 98/400\n",
            "156/156 [==============================] - 0s 3ms/step - loss: 2.1266 - accuracy: 0.0016 - val_loss: 2.1262 - val_accuracy: 9.7987e-04\n",
            "Epoch 99/400\n",
            "156/156 [==============================] - 0s 3ms/step - loss: 2.1312 - accuracy: 0.0015 - val_loss: 2.1341 - val_accuracy: 9.7987e-04\n",
            "Epoch 100/400\n",
            "156/156 [==============================] - 0s 3ms/step - loss: 2.1262 - accuracy: 0.0016 - val_loss: 2.1351 - val_accuracy: 9.7987e-04\n",
            "Epoch 101/400\n",
            "156/156 [==============================] - 0s 3ms/step - loss: 2.1316 - accuracy: 0.0015 - val_loss: 2.1281 - val_accuracy: 9.7987e-04\n",
            "Epoch 102/400\n",
            "156/156 [==============================] - 0s 3ms/step - loss: 2.1247 - accuracy: 0.0015 - val_loss: 2.1275 - val_accuracy: 9.7987e-04\n",
            "Epoch 103/400\n",
            "156/156 [==============================] - 0s 3ms/step - loss: 2.1255 - accuracy: 0.0015 - val_loss: 2.1338 - val_accuracy: 9.7987e-04\n",
            "Epoch 104/400\n",
            "156/156 [==============================] - 0s 3ms/step - loss: 2.1256 - accuracy: 0.0015 - val_loss: 2.1254 - val_accuracy: 9.7987e-04\n",
            "Epoch 105/400\n",
            "156/156 [==============================] - 0s 3ms/step - loss: 2.1257 - accuracy: 0.0015 - val_loss: 2.1315 - val_accuracy: 9.7987e-04\n",
            "Epoch 106/400\n",
            "156/156 [==============================] - 0s 3ms/step - loss: 2.1266 - accuracy: 0.0015 - val_loss: 2.1310 - val_accuracy: 9.7987e-04\n",
            "Epoch 107/400\n",
            "156/156 [==============================] - 0s 3ms/step - loss: 2.1279 - accuracy: 0.0015 - val_loss: 2.1250 - val_accuracy: 9.7987e-04\n",
            "Epoch 108/400\n",
            "156/156 [==============================] - 0s 3ms/step - loss: 2.1287 - accuracy: 0.0015 - val_loss: 2.1249 - val_accuracy: 9.7987e-04\n",
            "Epoch 109/400\n",
            "156/156 [==============================] - 0s 3ms/step - loss: 2.1263 - accuracy: 0.0015 - val_loss: 2.1273 - val_accuracy: 9.7987e-04\n",
            "Epoch 110/400\n",
            "156/156 [==============================] - 0s 3ms/step - loss: 2.1252 - accuracy: 0.0015 - val_loss: 2.1295 - val_accuracy: 9.7987e-04\n",
            "Epoch 111/400\n",
            "156/156 [==============================] - 0s 3ms/step - loss: 2.1238 - accuracy: 0.0015 - val_loss: 2.1352 - val_accuracy: 9.7987e-04\n",
            "Epoch 112/400\n",
            "156/156 [==============================] - 0s 3ms/step - loss: 2.1234 - accuracy: 0.0015 - val_loss: 2.1263 - val_accuracy: 9.7987e-04\n",
            "Epoch 113/400\n",
            "156/156 [==============================] - 0s 3ms/step - loss: 2.1275 - accuracy: 0.0015 - val_loss: 2.1262 - val_accuracy: 9.7987e-04\n",
            "Epoch 114/400\n",
            "156/156 [==============================] - 0s 3ms/step - loss: 2.1240 - accuracy: 0.0015 - val_loss: 2.1239 - val_accuracy: 9.7987e-04\n",
            "Epoch 115/400\n",
            "156/156 [==============================] - 0s 3ms/step - loss: 2.1237 - accuracy: 0.0015 - val_loss: 2.1287 - val_accuracy: 9.7987e-04\n",
            "Epoch 116/400\n",
            "156/156 [==============================] - 0s 3ms/step - loss: 2.1238 - accuracy: 0.0016 - val_loss: 2.1272 - val_accuracy: 9.7987e-04\n",
            "Epoch 117/400\n",
            "156/156 [==============================] - 0s 3ms/step - loss: 2.1226 - accuracy: 0.0016 - val_loss: 2.1295 - val_accuracy: 9.7987e-04\n",
            "Epoch 118/400\n",
            "156/156 [==============================] - 0s 3ms/step - loss: 2.1248 - accuracy: 0.0015 - val_loss: 2.1242 - val_accuracy: 9.7987e-04\n",
            "Epoch 119/400\n",
            "156/156 [==============================] - 0s 3ms/step - loss: 2.1223 - accuracy: 0.0015 - val_loss: 2.1363 - val_accuracy: 9.7987e-04\n",
            "Epoch 120/400\n",
            "156/156 [==============================] - 0s 3ms/step - loss: 2.1237 - accuracy: 0.0016 - val_loss: 2.1243 - val_accuracy: 9.7987e-04\n",
            "Epoch 121/400\n",
            "156/156 [==============================] - 0s 3ms/step - loss: 2.1256 - accuracy: 0.0015 - val_loss: 2.1276 - val_accuracy: 9.7987e-04\n",
            "Epoch 122/400\n",
            "156/156 [==============================] - 1s 3ms/step - loss: 2.1226 - accuracy: 0.0015 - val_loss: 2.1260 - val_accuracy: 9.7987e-04\n",
            "Epoch 123/400\n",
            "156/156 [==============================] - 0s 3ms/step - loss: 2.1228 - accuracy: 0.0015 - val_loss: 2.1255 - val_accuracy: 9.7987e-04\n",
            "Epoch 124/400\n",
            "156/156 [==============================] - 0s 3ms/step - loss: 2.1213 - accuracy: 0.0015 - val_loss: 2.1320 - val_accuracy: 9.7987e-04\n",
            "Epoch 125/400\n",
            "156/156 [==============================] - 0s 3ms/step - loss: 2.1237 - accuracy: 0.0015 - val_loss: 2.1302 - val_accuracy: 9.7987e-04\n",
            "Epoch 126/400\n",
            "156/156 [==============================] - 0s 3ms/step - loss: 2.1215 - accuracy: 0.0015 - val_loss: 2.1332 - val_accuracy: 9.7987e-04\n",
            "Epoch 127/400\n",
            "156/156 [==============================] - 0s 3ms/step - loss: 2.1216 - accuracy: 0.0015 - val_loss: 2.1276 - val_accuracy: 9.7987e-04\n",
            "Epoch 128/400\n",
            "156/156 [==============================] - 0s 3ms/step - loss: 2.1230 - accuracy: 0.0015 - val_loss: 2.1253 - val_accuracy: 9.7987e-04\n",
            "Epoch 129/400\n",
            "156/156 [==============================] - 0s 3ms/step - loss: 2.1249 - accuracy: 0.0015 - val_loss: 2.1281 - val_accuracy: 9.7987e-04\n",
            "Epoch 130/400\n",
            "156/156 [==============================] - 0s 3ms/step - loss: 2.1234 - accuracy: 0.0015 - val_loss: 2.1231 - val_accuracy: 9.7987e-04\n",
            "Epoch 131/400\n",
            "156/156 [==============================] - 0s 3ms/step - loss: 2.1228 - accuracy: 0.0015 - val_loss: 2.1273 - val_accuracy: 9.7987e-04\n",
            "Epoch 132/400\n",
            "156/156 [==============================] - 0s 3ms/step - loss: 2.1239 - accuracy: 0.0015 - val_loss: 2.1258 - val_accuracy: 9.7987e-04\n",
            "Epoch 133/400\n",
            "156/156 [==============================] - 0s 3ms/step - loss: 2.1229 - accuracy: 0.0015 - val_loss: 2.1261 - val_accuracy: 9.7987e-04\n",
            "Epoch 134/400\n",
            "156/156 [==============================] - 0s 3ms/step - loss: 2.1227 - accuracy: 0.0015 - val_loss: 2.1225 - val_accuracy: 9.7987e-04\n",
            "Epoch 135/400\n",
            "156/156 [==============================] - 1s 3ms/step - loss: 2.1209 - accuracy: 0.0015 - val_loss: 2.1281 - val_accuracy: 9.7987e-04\n",
            "Epoch 136/400\n",
            "156/156 [==============================] - 1s 3ms/step - loss: 2.1206 - accuracy: 0.0015 - val_loss: 2.1272 - val_accuracy: 9.7987e-04\n",
            "Epoch 137/400\n",
            "156/156 [==============================] - 0s 3ms/step - loss: 2.1217 - accuracy: 0.0015 - val_loss: 2.1248 - val_accuracy: 9.7987e-04\n",
            "Epoch 138/400\n",
            "156/156 [==============================] - 0s 3ms/step - loss: 2.1222 - accuracy: 0.0015 - val_loss: 2.1255 - val_accuracy: 9.7987e-04\n",
            "Epoch 139/400\n",
            "156/156 [==============================] - 0s 3ms/step - loss: 2.1209 - accuracy: 0.0015 - val_loss: 2.1269 - val_accuracy: 9.7987e-04\n",
            "Epoch 140/400\n",
            "156/156 [==============================] - 0s 3ms/step - loss: 2.1179 - accuracy: 0.0015 - val_loss: 2.1412 - val_accuracy: 9.7987e-04\n",
            "Epoch 141/400\n",
            "156/156 [==============================] - 0s 3ms/step - loss: 2.1236 - accuracy: 0.0015 - val_loss: 2.1265 - val_accuracy: 9.7987e-04\n",
            "Epoch 142/400\n",
            "156/156 [==============================] - 0s 3ms/step - loss: 2.1229 - accuracy: 0.0015 - val_loss: 2.1274 - val_accuracy: 9.7987e-04\n",
            "Epoch 143/400\n",
            "156/156 [==============================] - 0s 3ms/step - loss: 2.1222 - accuracy: 0.0016 - val_loss: 2.1300 - val_accuracy: 9.7987e-04\n",
            "Epoch 144/400\n",
            "156/156 [==============================] - 0s 3ms/step - loss: 2.1203 - accuracy: 0.0016 - val_loss: 2.1234 - val_accuracy: 9.7987e-04\n",
            "Epoch 145/400\n",
            "156/156 [==============================] - 0s 3ms/step - loss: 2.1233 - accuracy: 0.0015 - val_loss: 2.1405 - val_accuracy: 9.7987e-04\n",
            "Epoch 146/400\n",
            "156/156 [==============================] - 0s 3ms/step - loss: 2.1231 - accuracy: 0.0015 - val_loss: 2.1283 - val_accuracy: 9.7987e-04\n",
            "Epoch 147/400\n",
            "156/156 [==============================] - 0s 3ms/step - loss: 2.1196 - accuracy: 0.0016 - val_loss: 2.1250 - val_accuracy: 9.7987e-04\n",
            "Epoch 148/400\n",
            "156/156 [==============================] - 0s 3ms/step - loss: 2.1209 - accuracy: 0.0015 - val_loss: 2.1239 - val_accuracy: 9.7987e-04\n",
            "Epoch 149/400\n",
            "156/156 [==============================] - 0s 3ms/step - loss: 2.1211 - accuracy: 0.0015 - val_loss: 2.1245 - val_accuracy: 9.7987e-04\n",
            "Epoch 150/400\n",
            "156/156 [==============================] - 1s 3ms/step - loss: 2.1184 - accuracy: 0.0015 - val_loss: 2.1277 - val_accuracy: 9.7987e-04\n",
            "Epoch 151/400\n",
            "156/156 [==============================] - 0s 3ms/step - loss: 2.1196 - accuracy: 0.0015 - val_loss: 2.1263 - val_accuracy: 9.7987e-04\n",
            "Epoch 152/400\n",
            "156/156 [==============================] - 0s 3ms/step - loss: 2.1185 - accuracy: 0.0016 - val_loss: 2.1279 - val_accuracy: 9.7987e-04\n",
            "Epoch 153/400\n",
            "156/156 [==============================] - 1s 3ms/step - loss: 2.1197 - accuracy: 0.0016 - val_loss: 2.1239 - val_accuracy: 9.7987e-04\n",
            "Epoch 154/400\n",
            "156/156 [==============================] - 1s 3ms/step - loss: 2.1212 - accuracy: 0.0015 - val_loss: 2.1237 - val_accuracy: 9.7987e-04\n",
            "Epoch 00154: early stopping\n"
          ]
        }
      ],
      "source": [
        "model_nn.compile(optimizer='adam',loss=root_mean_squared_error,metrics=['accuracy'])\n",
        "earlyStop=EarlyStopping(monitor=\"val_loss\",verbose=2,mode='min',patience=20)\n",
        "losses_nn_3 = model_nn.fit(X_train, y_train, validation_data=(X_val, y_val), batch_size=256, epochs=400, callbacks=[earlyStop])"
      ]
    },
    {
      "cell_type": "markdown",
      "metadata": {
        "id": "UIofUFN2GXDt"
      },
      "source": [
        "#### Loss graph"
      ]
    },
    {
      "cell_type": "code",
      "execution_count": 20,
      "metadata": {
        "colab": {
          "base_uri": "https://localhost:8080/",
          "height": 282
        },
        "id": "lpyKHtVfGXsF",
        "outputId": "d66ef404-b7af-4c19-f8bc-fdd2d7f14e37"
      },
      "outputs": [
        {
          "data": {
            "text/plain": [
              "<matplotlib.axes._subplots.AxesSubplot at 0x7fdfb80db590>"
            ]
          },
          "execution_count": 20,
          "metadata": {},
          "output_type": "execute_result"
        },
        {
          "data": {
            "image/png": "[encoded data removed]",
            "text/plain": [
              "<Figure size 432x288 with 1 Axes>"
            ]
          },
          "metadata": {
            "needs_background": "light"
          },
          "output_type": "display_data"
        }
      ],
      "source": [
        "loss_df_nn_3 = pd.DataFrame(losses_nn_3.history)\n",
        "loss_df_nn_3.loc[:,['loss','val_loss']].plot(color = ['darkorange','midnightblue'])"
      ]
    },
    {
      "cell_type": "markdown",
      "metadata": {
        "id": "9ofUzY8KGbUc"
      },
      "source": [
        "#### Loss values"
      ]
    },
    {
      "cell_type": "code",
      "execution_count": 21,
      "metadata": {
        "colab": {
          "base_uri": "https://localhost:8080/"
        },
        "id": "QpweeyYEGb81",
        "outputId": "8c4c771e-b5f0-4c25-be59-783587e63e67"
      },
      "outputs": [
        {
          "name": "stdout",
          "output_type": "stream",
          "text": [
            "17689/17689 [==============================] - 33s 2ms/step - loss: 1.4652 - accuracy: 0.0017\n"
          ]
        }
      ],
      "source": [
        "score_rmse = model_nn.evaluate(X_test, y_test, batch_size=1)\n",
        "y_pred_nn_3 = model_nn.predict(X_test)"
      ]
    },
    {
      "cell_type": "code",
      "execution_count": 22,
      "metadata": {
        "id": "Tt0hYNDKHnBF"
      },
      "outputs": [],
      "source": [
        "compa_k_rmse.append(score_rmse[0])"
      ]
    },
    {
      "cell_type": "code",
      "execution_count": 23,
      "metadata": {
        "colab": {
          "base_uri": "https://localhost:8080/"
        },
        "id": "pnQUfVW5Hm2e",
        "outputId": "79eed178-bff9-4313-ce1c-5ec238f62d05"
      },
      "outputs": [
        {
          "name": "stdout",
          "output_type": "stream",
          "text": [
            "rmse: 1.465166\n"
          ]
        }
      ],
      "source": [
        "print('rmse: %f'%score_rmse[0])"
      ]
    },
    {
      "cell_type": "code",
      "execution_count": 24,
      "metadata": {
        "colab": {
          "base_uri": "https://localhost:8080/"
        },
        "id": "O_71WADyHmuu",
        "outputId": "15b99230-88b8-4ad0-d93b-795c5a6597a8"
      },
      "outputs": [
        {
          "name": "stdout",
          "output_type": "stream",
          "text": [
            "predicted response:\n",
            "[[5.38683701e+09]\n",
            " [4.96741581e+09]\n",
            " [3.81245923e+09]\n",
            " [4.13958263e+09]\n",
            " [5.64705801e+09]\n",
            " [1.67414284e+09]\n",
            " [3.21052742e+09]\n",
            " [8.72254944e+09]\n",
            " [2.80360103e+09]\n",
            " [6.07680225e+09]]\n",
            "actual:\n",
            "22453    6.600000e+09\n",
            "68000    5.500000e+09\n",
            "24488    1.680000e+09\n",
            "6208     4.150000e+09\n",
            "69780    7.090000e+09\n",
            "43825    2.200000e+09\n",
            "1208     1.500000e+09\n",
            "52345    8.600000e+09\n",
            "63577    4.150000e+09\n",
            "19916    7.500000e+09\n",
            "Name: price, dtype: float64\n"
          ]
        }
      ],
      "source": [
        "print(f\"predicted response:\\n{y_pred_nn_3[:10]*one_billion}\")\n",
        "print(f\"actual:\\n{y_test.iloc[0:10]*one_billion}\")"
      ]
    },
    {
      "cell_type": "code",
      "execution_count": 25,
      "metadata": {
        "colab": {
          "base_uri": "https://localhost:8080/"
        },
        "id": "BoUecslWHmlt",
        "outputId": "3fd5e480-3fca-48c5-da85-7ec0ae99fd36"
      },
      "outputs": [
        {
          "name": "stdout",
          "output_type": "stream",
          "text": [
            "The number of negative prediction:  7\n",
            "Percent correct prediction:  51.037367855729556\n"
          ]
        }
      ],
      "source": [
        "error, negative_integer = find_prediction_error_value(y_test, y_pred_nn_3)\n",
        "print(\"The number of negative prediction: \", len(negative_integer))\n",
        "print(\"Percent correct prediction: \", (len(y_test) - len(error))/len(y_test)*100)"
      ]
    },
    {
      "cell_type": "markdown",
      "metadata": {
        "id": "9Mkp0O1sGOo9"
      },
      "source": [
        "### R2"
      ]
    },
    {
      "cell_type": "code",
      "execution_count": 26,
      "metadata": {
        "colab": {
          "base_uri": "https://localhost:8080/"
        },
        "id": "ZYSMbG9pGQFF",
        "outputId": "b9693ae7-f44c-4ffb-c3b8-a774430ec596"
      },
      "outputs": [
        {
          "name": "stdout",
          "output_type": "stream",
          "text": [
            "Epoch 1/400\n",
            "156/156 [==============================] - 1s 4ms/step - loss: 4.5217 - accuracy: 0.0015 - val_loss: 4.5884 - val_accuracy: 9.7987e-04\n",
            "Epoch 2/400\n",
            "156/156 [==============================] - 0s 3ms/step - loss: 4.5268 - accuracy: 0.0015 - val_loss: 4.5327 - val_accuracy: 9.7987e-04\n",
            "Epoch 3/400\n",
            "156/156 [==============================] - 1s 3ms/step - loss: 4.5119 - accuracy: 0.0015 - val_loss: 4.5516 - val_accuracy: 9.7987e-04\n",
            "Epoch 4/400\n",
            "156/156 [==============================] - 0s 3ms/step - loss: 4.5132 - accuracy: 0.0016 - val_loss: 4.5249 - val_accuracy: 9.7987e-04\n",
            "Epoch 5/400\n",
            "156/156 [==============================] - 0s 3ms/step - loss: 4.5220 - accuracy: 0.0015 - val_loss: 4.5374 - val_accuracy: 9.7987e-04\n",
            "Epoch 6/400\n",
            "156/156 [==============================] - 1s 3ms/step - loss: 4.5156 - accuracy: 0.0015 - val_loss: 4.5428 - val_accuracy: 9.7987e-04\n",
            "Epoch 7/400\n",
            "156/156 [==============================] - 0s 3ms/step - loss: 4.5103 - accuracy: 0.0016 - val_loss: 4.5470 - val_accuracy: 9.7987e-04\n",
            "Epoch 8/400\n",
            "156/156 [==============================] - 0s 3ms/step - loss: 4.5115 - accuracy: 0.0015 - val_loss: 4.5274 - val_accuracy: 9.7987e-04\n",
            "Epoch 9/400\n",
            "156/156 [==============================] - 0s 3ms/step - loss: 4.5156 - accuracy: 0.0015 - val_loss: 4.5312 - val_accuracy: 9.7987e-04\n",
            "Epoch 10/400\n",
            "156/156 [==============================] - 0s 3ms/step - loss: 4.5192 - accuracy: 0.0015 - val_loss: 4.5962 - val_accuracy: 9.7987e-04\n",
            "Epoch 11/400\n",
            "156/156 [==============================] - 1s 3ms/step - loss: 4.5238 - accuracy: 0.0015 - val_loss: 4.5951 - val_accuracy: 9.7987e-04\n",
            "Epoch 12/400\n",
            "156/156 [==============================] - 0s 3ms/step - loss: 4.5071 - accuracy: 0.0015 - val_loss: 4.5429 - val_accuracy: 9.7987e-04\n",
            "Epoch 13/400\n",
            "156/156 [==============================] - 0s 3ms/step - loss: 4.5152 - accuracy: 0.0016 - val_loss: 4.5288 - val_accuracy: 9.7987e-04\n",
            "Epoch 14/400\n",
            "156/156 [==============================] - 0s 3ms/step - loss: 4.5151 - accuracy: 0.0015 - val_loss: 4.5415 - val_accuracy: 9.7987e-04\n",
            "Epoch 15/400\n",
            "156/156 [==============================] - 0s 3ms/step - loss: 4.5105 - accuracy: 0.0015 - val_loss: 4.5549 - val_accuracy: 9.7987e-04\n",
            "Epoch 16/400\n",
            "156/156 [==============================] - 0s 3ms/step - loss: 4.5072 - accuracy: 0.0015 - val_loss: 4.5722 - val_accuracy: 9.7987e-04\n",
            "Epoch 17/400\n",
            "156/156 [==============================] - 0s 3ms/step - loss: 4.5108 - accuracy: 0.0015 - val_loss: 4.5344 - val_accuracy: 9.7987e-04\n",
            "Epoch 18/400\n",
            "156/156 [==============================] - 0s 3ms/step - loss: 4.5044 - accuracy: 0.0016 - val_loss: 4.5584 - val_accuracy: 9.7987e-04\n",
            "Epoch 19/400\n",
            "156/156 [==============================] - 0s 3ms/step - loss: 4.5097 - accuracy: 0.0016 - val_loss: 4.5365 - val_accuracy: 9.7987e-04\n",
            "Epoch 20/400\n",
            "156/156 [==============================] - 0s 3ms/step - loss: 4.5099 - accuracy: 0.0015 - val_loss: 4.5638 - val_accuracy: 9.7987e-04\n",
            "Epoch 21/400\n",
            "156/156 [==============================] - 0s 3ms/step - loss: 4.5109 - accuracy: 0.0015 - val_loss: 4.5701 - val_accuracy: 9.7987e-04\n",
            "Epoch 22/400\n",
            "156/156 [==============================] - 0s 3ms/step - loss: 4.5166 - accuracy: 0.0015 - val_loss: 4.5518 - val_accuracy: 9.7987e-04\n",
            "Epoch 23/400\n",
            "156/156 [==============================] - 0s 3ms/step - loss: 4.5170 - accuracy: 0.0016 - val_loss: 4.5688 - val_accuracy: 9.7987e-04\n",
            "Epoch 24/400\n",
            "156/156 [==============================] - 0s 3ms/step - loss: 4.5148 - accuracy: 0.0015 - val_loss: 4.5337 - val_accuracy: 9.7987e-04\n",
            "Epoch 00024: early stopping\n"
          ]
        }
      ],
      "source": [
        "model_nn.compile(optimizer='adam',loss='mse',metrics=['accuracy'])\n",
        "earlyStop=EarlyStopping(monitor=\"val_loss\",verbose=2,mode='min',patience=20)\n",
        "losses_nn_5 = model_nn.fit(X_train, y_train, validation_data=(X_val, y_val), batch_size=256, epochs=400, callbacks=[earlyStop])"
      ]
    },
    {
      "cell_type": "markdown",
      "metadata": {
        "id": "nEQMY9kEGlLt"
      },
      "source": [
        "#### r2 values"
      ]
    },
    {
      "cell_type": "code",
      "execution_count": 27,
      "metadata": {
        "id": "NfQiHqEyGnkl"
      },
      "outputs": [],
      "source": [
        "y_pred_nn_5 = model_nn.predict(X_test)\n",
        "score_r2 = r2_score(y_test, y_pred_nn_5)"
      ]
    },
    {
      "cell_type": "code",
      "execution_count": 28,
      "metadata": {
        "id": "_HKTwUlYH1aF"
      },
      "outputs": [],
      "source": [
        "compa_k_r2.append(score_r2)"
      ]
    },
    {
      "cell_type": "code",
      "execution_count": 29,
      "metadata": {
        "colab": {
          "base_uri": "https://localhost:8080/"
        },
        "id": "0IlqZ5-dH45f",
        "outputId": "9a5ba30a-8966-40d9-ced8-57229b40d5d6"
      },
      "outputs": [
        {
          "name": "stdout",
          "output_type": "stream",
          "text": [
            "r2: 0.656208\n"
          ]
        }
      ],
      "source": [
        "print('r2: %f'%score_r2)"
      ]
    },
    {
      "cell_type": "markdown",
      "metadata": {
        "id": "18XjN-jiPfyn"
      },
      "source": [
        "## LSTM"
      ]
    },
    {
      "cell_type": "markdown",
      "metadata": {
        "id": "eDreD4iEoJAV"
      },
      "source": [
        "### Model structure"
      ]
    },
    {
      "cell_type": "code",
      "execution_count": 30,
      "metadata": {
        "colab": {
          "base_uri": "https://localhost:8080/"
        },
        "id": "26p9e26PWzxd",
        "outputId": "674d4326-5524-4fb6-ea33-d15d9f152cbe"
      },
      "outputs": [
        {
          "name": "stdout",
          "output_type": "stream",
          "text": [
            "Model: \"sequential\"\n",
            "_________________________________________________________________\n",
            "Layer (type)                 Output Shape              Param #   \n",
            "=================================================================\n",
            "lstm (LSTM)                  (None, 1, 128)            71680     \n",
            "_________________________________________________________________\n",
            "dropout (Dropout)            (None, 1, 128)            0         \n",
            "_________________________________________________________________\n",
            "lstm_1 (LSTM)                (None, 1, 64)             49408     \n",
            "_________________________________________________________________\n",
            "dropout_1 (Dropout)          (None, 1, 64)             0         \n",
            "_________________________________________________________________\n",
            "lstm_2 (LSTM)                (None, 1, 32)             12416     \n",
            "_________________________________________________________________\n",
            "dropout_2 (Dropout)          (None, 1, 32)             0         \n",
            "_________________________________________________________________\n",
            "lstm_3 (LSTM)                (None, 16)                3136      \n",
            "_________________________________________________________________\n",
            "dropout_3 (Dropout)          (None, 16)                0         \n",
            "_________________________________________________________________\n",
            "dense (Dense)                (None, 1)                 17        \n",
            "=================================================================\n",
            "Total params: 136,657\n",
            "Trainable params: 136,657\n",
            "Non-trainable params: 0\n",
            "_________________________________________________________________\n"
          ]
        }
      ],
      "source": [
        "K.clear_session()\n",
        "model_1 = Sequential()\n",
        "\n",
        "model_1.add(LSTM(128, input_shape=(1, X_train.shape[1]), activation='relu', return_sequences=True))\n",
        "model_1.add(Dropout(0.3))\n",
        "\n",
        "model_1.add(LSTM(64, activation='tanh', return_sequences=True))\n",
        "model_1.add(Dropout(0.3))\n",
        "\n",
        "model_1.add(LSTM(32, activation='relu', return_sequences=True))\n",
        "model_1.add(Dropout(0.3))\n",
        "\n",
        "model_1.add(LSTM(16, activation='relu'))\n",
        "model_1.add(Dropout(0.3))\n",
        "\n",
        "model_1.add(Dense(1))\n",
        "model_1.summary()"
      ]
    },
    {
      "cell_type": "markdown",
      "metadata": {
        "id": "5dCnMLbsF701"
      },
      "source": [
        "### MSE"
      ]
    },
    {
      "cell_type": "code",
      "execution_count": null,
      "metadata": {
        "colab": {
          "base_uri": "https://localhost:8080/"
        },
        "id": "D-15yqRDW4Yg",
        "outputId": "d3b92a16-3bb7-4caf-aa77-92e5609df9d5"
      },
      "outputs": [
        {
          "name": "stdout",
          "output_type": "stream",
          "text": [
            "Epoch 1/400\n",
            "156/156 [==============================] - 15s 40ms/step - loss: 24.2965 - val_loss: 8.7199\n",
            "Epoch 2/400\n",
            "156/156 [==============================] - 5s 34ms/step - loss: 10.6638 - val_loss: 7.2970\n",
            "Epoch 3/400\n",
            "156/156 [==============================] - 5s 33ms/step - loss: 9.7405 - val_loss: 6.8088\n",
            "Epoch 4/400\n",
            "156/156 [==============================] - 5s 35ms/step - loss: 9.4878 - val_loss: 6.6102\n",
            "Epoch 5/400\n",
            "156/156 [==============================] - 5s 34ms/step - loss: 9.1728 - val_loss: 6.6415\n",
            "Epoch 6/400\n",
            "156/156 [==============================] - 6s 36ms/step - loss: 8.9789 - val_loss: 6.5850\n",
            "Epoch 7/400\n",
            "156/156 [==============================] - 5s 34ms/step - loss: 8.9537 - val_loss: 6.4818\n",
            "Epoch 8/400\n",
            "156/156 [==============================] - 5s 34ms/step - loss: 8.7719 - val_loss: 6.4431\n",
            "Epoch 9/400\n",
            "156/156 [==============================] - 5s 33ms/step - loss: 8.7294 - val_loss: 6.4063\n",
            "Epoch 10/400\n",
            "156/156 [==============================] - 5s 33ms/step - loss: 8.5927 - val_loss: 6.3430\n",
            "Epoch 11/400\n",
            "156/156 [==============================] - 5s 33ms/step - loss: 8.4186 - val_loss: 6.3498\n",
            "Epoch 12/400\n",
            "156/156 [==============================] - 5s 34ms/step - loss: 8.4668 - val_loss: 6.5583\n",
            "Epoch 13/400\n",
            "156/156 [==============================] - 5s 33ms/step - loss: 8.2991 - val_loss: 6.2706\n",
            "Epoch 14/400\n",
            "156/156 [==============================] - 5s 35ms/step - loss: 8.3064 - val_loss: 6.2487\n",
            "Epoch 15/400\n",
            "156/156 [==============================] - 6s 35ms/step - loss: 8.0868 - val_loss: 6.6139\n",
            "Epoch 16/400\n",
            "156/156 [==============================] - 5s 35ms/step - loss: 8.1170 - val_loss: 6.1347\n",
            "Epoch 17/400\n",
            "156/156 [==============================] - 5s 34ms/step - loss: 7.9325 - val_loss: 6.1747\n",
            "Epoch 18/400\n",
            "156/156 [==============================] - 5s 34ms/step - loss: 7.7331 - val_loss: 5.9772\n",
            "Epoch 19/400\n",
            "156/156 [==============================] - 5s 34ms/step - loss: 7.6189 - val_loss: 5.8041\n",
            "Epoch 20/400\n",
            "156/156 [==============================] - 5s 35ms/step - loss: 7.6381 - val_loss: 5.7755\n",
            "Epoch 21/400\n",
            "156/156 [==============================] - 5s 34ms/step - loss: 7.5505 - val_loss: 5.7392\n",
            "Epoch 22/400\n",
            "156/156 [==============================] - 5s 34ms/step - loss: 7.5135 - val_loss: 5.6521\n",
            "Epoch 23/400\n",
            "156/156 [==============================] - 5s 35ms/step - loss: 7.4056 - val_loss: 5.6797\n",
            "Epoch 24/400\n",
            "156/156 [==============================] - 5s 33ms/step - loss: 7.2754 - val_loss: 5.7210\n",
            "Epoch 25/400\n",
            "156/156 [==============================] - 5s 34ms/step - loss: 7.1749 - val_loss: 5.6819\n",
            "Epoch 26/400\n",
            "156/156 [==============================] - 5s 33ms/step - loss: 7.2172 - val_loss: 5.5739\n",
            "Epoch 27/400\n",
            "156/156 [==============================] - 5s 34ms/step - loss: 7.0872 - val_loss: 5.6705\n",
            "Epoch 28/400\n",
            "156/156 [==============================] - 5s 33ms/step - loss: 7.0410 - val_loss: 5.6008\n",
            "Epoch 29/400\n",
            "156/156 [==============================] - 5s 32ms/step - loss: 7.1154 - val_loss: 5.5609\n",
            "Epoch 30/400\n",
            "156/156 [==============================] - 5s 33ms/step - loss: 7.0232 - val_loss: 5.5964\n",
            "Epoch 31/400\n",
            "156/156 [==============================] - 5s 34ms/step - loss: 6.9216 - val_loss: 5.4783\n",
            "Epoch 32/400\n",
            "156/156 [==============================] - 5s 33ms/step - loss: 6.9310 - val_loss: 5.3925\n",
            "Epoch 33/400\n",
            "156/156 [==============================] - 5s 33ms/step - loss: 6.8797 - val_loss: 5.3750\n",
            "Epoch 34/400\n",
            "156/156 [==============================] - 5s 34ms/step - loss: 6.7607 - val_loss: 5.4348\n",
            "Epoch 35/400\n",
            "156/156 [==============================] - 5s 34ms/step - loss: 6.7668 - val_loss: 5.4003\n",
            "Epoch 36/400\n",
            "156/156 [==============================] - 5s 34ms/step - loss: 6.8086 - val_loss: 5.3809\n",
            "Epoch 37/400\n",
            "156/156 [==============================] - 5s 35ms/step - loss: 6.7276 - val_loss: 5.4511\n",
            "Epoch 38/400\n",
            "156/156 [==============================] - 6s 37ms/step - loss: 6.7387 - val_loss: 5.3681\n",
            "Epoch 39/400\n",
            "156/156 [==============================] - 5s 33ms/step - loss: 6.6606 - val_loss: 5.3487\n",
            "Epoch 40/400\n",
            "156/156 [==============================] - 5s 34ms/step - loss: 6.5986 - val_loss: 5.4069\n",
            "Epoch 41/400\n",
            "156/156 [==============================] - 5s 33ms/step - loss: 6.5880 - val_loss: 5.4019\n",
            "Epoch 42/400\n",
            "156/156 [==============================] - 5s 33ms/step - loss: 6.5828 - val_loss: 5.3720\n",
            "Epoch 43/400\n",
            "156/156 [==============================] - 5s 33ms/step - loss: 6.5529 - val_loss: 5.4295\n",
            "Epoch 44/400\n",
            "156/156 [==============================] - 5s 34ms/step - loss: 6.5561 - val_loss: 5.3303\n",
            "Epoch 45/400\n",
            "156/156 [==============================] - 5s 32ms/step - loss: 6.5092 - val_loss: 5.4325\n",
            "Epoch 46/400\n",
            "156/156 [==============================] - 5s 34ms/step - loss: 6.5259 - val_loss: 5.3510\n",
            "Epoch 47/400\n",
            "156/156 [==============================] - 5s 33ms/step - loss: 6.4585 - val_loss: 5.3457\n",
            "Epoch 48/400\n",
            "156/156 [==============================] - 5s 34ms/step - loss: 6.4344 - val_loss: 5.3719\n",
            "Epoch 49/400\n",
            "156/156 [==============================] - 5s 34ms/step - loss: 6.4202 - val_loss: 5.3731\n",
            "Epoch 50/400\n",
            "156/156 [==============================] - 5s 33ms/step - loss: 6.4073 - val_loss: 5.3283\n",
            "Epoch 51/400\n",
            "156/156 [==============================] - 5s 33ms/step - loss: 6.4138 - val_loss: 5.4953\n",
            "Epoch 52/400\n",
            "156/156 [==============================] - 5s 34ms/step - loss: 6.3569 - val_loss: 5.3716\n",
            "Epoch 53/400\n",
            "156/156 [==============================] - 5s 35ms/step - loss: 6.3748 - val_loss: 5.3786\n",
            "Epoch 54/400\n",
            "156/156 [==============================] - 5s 34ms/step - loss: 6.3283 - val_loss: 5.3358\n",
            "Epoch 55/400\n",
            "156/156 [==============================] - 5s 32ms/step - loss: 6.2439 - val_loss: 5.2913\n",
            "Epoch 56/400\n",
            "156/156 [==============================] - 5s 33ms/step - loss: 6.2904 - val_loss: 5.4014\n",
            "Epoch 57/400\n",
            "156/156 [==============================] - 5s 33ms/step - loss: 6.3177 - val_loss: 5.2640\n",
            "Epoch 58/400\n",
            "156/156 [==============================] - 5s 33ms/step - loss: 6.1977 - val_loss: 5.2622\n",
            "Epoch 59/400\n",
            "156/156 [==============================] - 5s 35ms/step - loss: 6.2213 - val_loss: 5.2818\n",
            "Epoch 60/400\n",
            "156/156 [==============================] - 5s 33ms/step - loss: 6.2044 - val_loss: 5.2795\n",
            "Epoch 61/400\n",
            "156/156 [==============================] - 5s 34ms/step - loss: 6.2835 - val_loss: 5.3069\n",
            "Epoch 62/400\n",
            "156/156 [==============================] - 5s 35ms/step - loss: 6.2400 - val_loss: 5.2696\n",
            "Epoch 63/400\n",
            "156/156 [==============================] - 5s 34ms/step - loss: 6.1926 - val_loss: 5.2719\n",
            "Epoch 64/400\n",
            "156/156 [==============================] - 5s 33ms/step - loss: 6.1361 - val_loss: 5.2930\n",
            "Epoch 65/400\n",
            "156/156 [==============================] - 5s 33ms/step - loss: 6.2085 - val_loss: 5.3374\n",
            "Epoch 66/400\n",
            "156/156 [==============================] - 5s 33ms/step - loss: 6.2731 - val_loss: 5.3005\n",
            "Epoch 67/400\n",
            "156/156 [==============================] - 5s 34ms/step - loss: 6.1979 - val_loss: 5.2567\n",
            "Epoch 68/400\n",
            "156/156 [==============================] - 5s 33ms/step - loss: 6.1544 - val_loss: 5.2057\n",
            "Epoch 69/400\n",
            "156/156 [==============================] - 5s 34ms/step - loss: 6.1758 - val_loss: 5.2946\n",
            "Epoch 70/400\n",
            "156/156 [==============================] - 5s 33ms/step - loss: 6.1225 - val_loss: 5.2399\n",
            "Epoch 71/400\n",
            "156/156 [==============================] - 5s 34ms/step - loss: 6.1905 - val_loss: 5.2445\n",
            "Epoch 72/400\n",
            "156/156 [==============================] - 5s 34ms/step - loss: 6.1244 - val_loss: 5.2103\n",
            "Epoch 73/400\n",
            "156/156 [==============================] - 5s 34ms/step - loss: 6.0439 - val_loss: 5.2369\n",
            "Epoch 74/400\n",
            "156/156 [==============================] - 5s 34ms/step - loss: 6.1050 - val_loss: 5.1568\n",
            "Epoch 75/400\n",
            "156/156 [==============================] - 5s 34ms/step - loss: 6.1050 - val_loss: 5.1882\n",
            "Epoch 76/400\n",
            "156/156 [==============================] - 5s 34ms/step - loss: 6.0956 - val_loss: 5.2201\n",
            "Epoch 77/400\n",
            "156/156 [==============================] - 5s 33ms/step - loss: 6.0479 - val_loss: 5.2216\n",
            "Epoch 78/400\n",
            "156/156 [==============================] - 5s 33ms/step - loss: 6.0968 - val_loss: 5.1795\n",
            "Epoch 79/400\n",
            "156/156 [==============================] - 5s 34ms/step - loss: 6.0160 - val_loss: 5.1773\n",
            "Epoch 80/400\n",
            "156/156 [==============================] - 7s 42ms/step - loss: 6.0318 - val_loss: 5.1764\n",
            "Epoch 81/400\n",
            "156/156 [==============================] - 6s 37ms/step - loss: 6.0378 - val_loss: 5.1780\n",
            "Epoch 82/400\n",
            "156/156 [==============================] - 5s 33ms/step - loss: 6.0575 - val_loss: 5.2172\n",
            "Epoch 83/400\n",
            "156/156 [==============================] - 5s 35ms/step - loss: 6.0231 - val_loss: 5.1520\n",
            "Epoch 84/400\n",
            "156/156 [==============================] - 5s 34ms/step - loss: 6.0085 - val_loss: 5.2080\n",
            "Epoch 85/400\n",
            "156/156 [==============================] - 5s 34ms/step - loss: 6.0375 - val_loss: 5.1593\n",
            "Epoch 86/400\n",
            "156/156 [==============================] - 5s 33ms/step - loss: 5.9806 - val_loss: 5.1337\n",
            "Epoch 87/400\n",
            "156/156 [==============================] - 5s 34ms/step - loss: 5.9964 - val_loss: 5.1632\n",
            "Epoch 88/400\n",
            "156/156 [==============================] - 5s 34ms/step - loss: 6.0379 - val_loss: 5.1540\n",
            "Epoch 89/400\n",
            "156/156 [==============================] - 5s 34ms/step - loss: 5.9849 - val_loss: 5.2495\n",
            "Epoch 90/400\n",
            "156/156 [==============================] - 5s 34ms/step - loss: 5.9795 - val_loss: 5.3052\n",
            "Epoch 91/400\n",
            "156/156 [==============================] - 5s 35ms/step - loss: 5.9977 - val_loss: 5.0649\n",
            "Epoch 92/400\n",
            "156/156 [==============================] - 5s 34ms/step - loss: 5.9635 - val_loss: 5.1496\n",
            "Epoch 93/400\n",
            "156/156 [==============================] - 5s 34ms/step - loss: 5.9675 - val_loss: 5.1461\n",
            "Epoch 94/400\n",
            "156/156 [==============================] - 5s 34ms/step - loss: 5.9360 - val_loss: 5.1453\n",
            "Epoch 95/400\n",
            "156/156 [==============================] - 5s 32ms/step - loss: 5.9357 - val_loss: 5.0934\n",
            "Epoch 96/400\n",
            "156/156 [==============================] - 5s 33ms/step - loss: 5.9501 - val_loss: 5.0427\n",
            "Epoch 97/400\n",
            "156/156 [==============================] - 5s 35ms/step - loss: 5.9476 - val_loss: 5.1200\n",
            "Epoch 98/400\n",
            "156/156 [==============================] - 5s 33ms/step - loss: 5.8913 - val_loss: 5.1044\n",
            "Epoch 99/400\n",
            "156/156 [==============================] - 5s 35ms/step - loss: 5.9043 - val_loss: 5.1170\n",
            "Epoch 100/400\n",
            "156/156 [==============================] - 5s 34ms/step - loss: 5.8926 - val_loss: 5.1152\n",
            "Epoch 101/400\n",
            "156/156 [==============================] - 5s 34ms/step - loss: 5.9182 - val_loss: 5.1382\n",
            "Epoch 102/400\n",
            "156/156 [==============================] - 6s 36ms/step - loss: 5.8792 - val_loss: 5.1144\n",
            "Epoch 103/400\n",
            "156/156 [==============================] - 5s 34ms/step - loss: 5.9031 - val_loss: 5.1106\n",
            "Epoch 104/400\n",
            "156/156 [==============================] - 5s 35ms/step - loss: 5.8970 - val_loss: 5.1099\n",
            "Epoch 105/400\n",
            "156/156 [==============================] - 6s 36ms/step - loss: 5.8592 - val_loss: 5.1226\n",
            "Epoch 106/400\n",
            "156/156 [==============================] - 6s 36ms/step - loss: 5.8377 - val_loss: 5.0571\n",
            "Epoch 107/400\n",
            "156/156 [==============================] - 5s 34ms/step - loss: 5.8656 - val_loss: 5.1172\n",
            "Epoch 108/400\n",
            "156/156 [==============================] - 5s 33ms/step - loss: 5.8060 - val_loss: 5.0496\n",
            "Epoch 109/400\n",
            "156/156 [==============================] - 5s 33ms/step - loss: 5.8291 - val_loss: 5.1671\n",
            "Epoch 110/400\n",
            "156/156 [==============================] - 5s 33ms/step - loss: 5.8584 - val_loss: 5.0932\n",
            "Epoch 111/400\n",
            "156/156 [==============================] - 6s 36ms/step - loss: 5.8169 - val_loss: 5.1192\n",
            "Epoch 112/400\n",
            "156/156 [==============================] - 5s 35ms/step - loss: 5.8196 - val_loss: 5.0219\n",
            "Epoch 113/400\n",
            "156/156 [==============================] - 6s 36ms/step - loss: 5.8058 - val_loss: 5.0662\n",
            "Epoch 114/400\n",
            "156/156 [==============================] - 6s 36ms/step - loss: 5.8013 - val_loss: 5.0612\n",
            "Epoch 115/400\n",
            "156/156 [==============================] - 5s 34ms/step - loss: 5.8121 - val_loss: 5.0478\n",
            "Epoch 116/400\n",
            "156/156 [==============================] - 5s 34ms/step - loss: 5.8536 - val_loss: 5.0724\n",
            "Epoch 117/400\n",
            "156/156 [==============================] - 5s 35ms/step - loss: 5.7662 - val_loss: 5.0766\n",
            "Epoch 118/400\n",
            "156/156 [==============================] - 5s 34ms/step - loss: 5.7650 - val_loss: 5.0422\n",
            "Epoch 119/400\n",
            "156/156 [==============================] - 5s 34ms/step - loss: 5.7948 - val_loss: 5.0744\n",
            "Epoch 120/400\n",
            "156/156 [==============================] - 5s 34ms/step - loss: 5.7493 - val_loss: 5.0389\n",
            "Epoch 121/400\n",
            "156/156 [==============================] - 5s 34ms/step - loss: 5.6938 - val_loss: 4.9853\n",
            "Epoch 122/400\n",
            "156/156 [==============================] - 5s 34ms/step - loss: 5.7598 - val_loss: 5.0085\n",
            "Epoch 123/400\n",
            "156/156 [==============================] - 5s 33ms/step - loss: 5.7735 - val_loss: 5.0452\n",
            "Epoch 124/400\n",
            "156/156 [==============================] - 5s 34ms/step - loss: 5.7758 - val_loss: 5.0338\n",
            "Epoch 125/400\n",
            "156/156 [==============================] - 5s 33ms/step - loss: 5.7559 - val_loss: 5.0273\n",
            "Epoch 126/400\n",
            "156/156 [==============================] - 5s 34ms/step - loss: 5.7438 - val_loss: 4.9807\n",
            "Epoch 127/400\n",
            "156/156 [==============================] - 5s 35ms/step - loss: 5.7244 - val_loss: 5.0145\n",
            "Epoch 128/400\n",
            "156/156 [==============================] - 5s 35ms/step - loss: 5.7015 - val_loss: 4.9932\n",
            "Epoch 129/400\n",
            "156/156 [==============================] - 6s 35ms/step - loss: 5.7289 - val_loss: 5.0582\n",
            "Epoch 130/400\n",
            "156/156 [==============================] - 5s 34ms/step - loss: 5.6900 - val_loss: 4.9544\n",
            "Epoch 131/400\n",
            "156/156 [==============================] - 5s 34ms/step - loss: 5.7398 - val_loss: 4.9817\n",
            "Epoch 132/400\n",
            "156/156 [==============================] - 5s 34ms/step - loss: 5.7375 - val_loss: 4.9147\n",
            "Epoch 133/400\n",
            "156/156 [==============================] - 5s 34ms/step - loss: 5.7151 - val_loss: 4.9812\n",
            "Epoch 134/400\n",
            "156/156 [==============================] - 5s 34ms/step - loss: 5.6814 - val_loss: 4.9807\n",
            "Epoch 135/400\n",
            "156/156 [==============================] - 5s 35ms/step - loss: 5.6870 - val_loss: 5.0055\n",
            "Epoch 136/400\n",
            "156/156 [==============================] - 5s 35ms/step - loss: 5.6954 - val_loss: 4.9612\n",
            "Epoch 137/400\n",
            "156/156 [==============================] - 5s 35ms/step - loss: 5.7194 - val_loss: 4.9551\n",
            "Epoch 138/400\n",
            "156/156 [==============================] - 6s 35ms/step - loss: 5.7439 - val_loss: 4.9354\n",
            "Epoch 139/400\n",
            "156/156 [==============================] - 5s 35ms/step - loss: 5.6826 - val_loss: 4.9770\n",
            "Epoch 140/400\n",
            "156/156 [==============================] - 5s 35ms/step - loss: 5.6996 - val_loss: 4.9926\n",
            "Epoch 141/400\n",
            "156/156 [==============================] - 5s 34ms/step - loss: 5.7093 - val_loss: 4.9309\n",
            "Epoch 142/400\n",
            "156/156 [==============================] - 5s 35ms/step - loss: 5.6881 - val_loss: 5.0095\n",
            "Epoch 143/400\n",
            "156/156 [==============================] - 6s 35ms/step - loss: 5.7065 - val_loss: 4.9431\n",
            "Epoch 144/400\n",
            "156/156 [==============================] - 6s 37ms/step - loss: 5.6526 - val_loss: 4.9880\n",
            "Epoch 145/400\n",
            "156/156 [==============================] - 5s 34ms/step - loss: 5.7273 - val_loss: 5.0494\n",
            "Epoch 146/400\n",
            "156/156 [==============================] - 5s 35ms/step - loss: 5.6607 - val_loss: 4.8922\n",
            "Epoch 147/400\n",
            "156/156 [==============================] - 5s 33ms/step - loss: 5.6766 - val_loss: 4.9266\n",
            "Epoch 148/400\n",
            "156/156 [==============================] - 5s 35ms/step - loss: 5.6734 - val_loss: 5.0075\n",
            "Epoch 149/400\n",
            "156/156 [==============================] - 5s 35ms/step - loss: 5.6527 - val_loss: 4.9227\n",
            "Epoch 150/400\n",
            "156/156 [==============================] - 5s 33ms/step - loss: 5.6495 - val_loss: 4.9420\n",
            "Epoch 151/400\n",
            "156/156 [==============================] - 5s 34ms/step - loss: 5.6521 - val_loss: 4.9486\n",
            "Epoch 152/400\n",
            "156/156 [==============================] - 5s 35ms/step - loss: 5.6545 - val_loss: 4.8763\n",
            "Epoch 153/400\n",
            "156/156 [==============================] - 5s 35ms/step - loss: 5.6112 - val_loss: 4.9307\n",
            "Epoch 154/400\n",
            "156/156 [==============================] - 5s 35ms/step - loss: 5.6605 - val_loss: 4.9271\n",
            "Epoch 155/400\n",
            "156/156 [==============================] - 5s 34ms/step - loss: 5.6751 - val_loss: 4.9615\n",
            "Epoch 156/400\n",
            "156/156 [==============================] - 5s 33ms/step - loss: 5.6483 - val_loss: 4.8768\n",
            "Epoch 157/400\n",
            "156/156 [==============================] - 5s 34ms/step - loss: 5.6406 - val_loss: 4.8898\n",
            "Epoch 158/400\n",
            "156/156 [==============================] - 5s 34ms/step - loss: 5.6384 - val_loss: 4.8533\n",
            "Epoch 159/400\n",
            "156/156 [==============================] - 5s 34ms/step - loss: 5.6257 - val_loss: 4.8851\n",
            "Epoch 160/400\n",
            "156/156 [==============================] - 5s 34ms/step - loss: 5.5965 - val_loss: 5.0263\n",
            "Epoch 161/400\n",
            "156/156 [==============================] - 5s 35ms/step - loss: 5.6501 - val_loss: 4.8635\n",
            "Epoch 162/400\n",
            "156/156 [==============================] - 5s 34ms/step - loss: 5.6032 - val_loss: 4.8688\n",
            "Epoch 163/400\n",
            "156/156 [==============================] - 5s 34ms/step - loss: 5.6103 - val_loss: 4.9336\n",
            "Epoch 164/400\n",
            "156/156 [==============================] - 5s 34ms/step - loss: 5.6128 - val_loss: 4.8497\n",
            "Epoch 165/400\n",
            "156/156 [==============================] - 5s 33ms/step - loss: 5.5779 - val_loss: 4.8767\n",
            "Epoch 166/400\n",
            "156/156 [==============================] - 6s 35ms/step - loss: 5.5912 - val_loss: 4.8902\n",
            "Epoch 167/400\n",
            "156/156 [==============================] - 5s 34ms/step - loss: 5.5770 - val_loss: 4.8117\n",
            "Epoch 168/400\n",
            "156/156 [==============================] - 5s 34ms/step - loss: 5.6327 - val_loss: 4.9051\n",
            "Epoch 169/400\n",
            "156/156 [==============================] - 5s 34ms/step - loss: 5.5790 - val_loss: 4.8516\n",
            "Epoch 170/400\n",
            "156/156 [==============================] - 7s 47ms/step - loss: 5.5416 - val_loss: 4.8791\n",
            "Epoch 171/400\n",
            "156/156 [==============================] - 5s 34ms/step - loss: 5.5619 - val_loss: 4.8645\n",
            "Epoch 172/400\n",
            "156/156 [==============================] - 5s 34ms/step - loss: 5.5919 - val_loss: 4.8945\n",
            "Epoch 173/400\n",
            "156/156 [==============================] - 5s 35ms/step - loss: 5.5934 - val_loss: 4.9197\n",
            "Epoch 174/400\n",
            "156/156 [==============================] - 5s 35ms/step - loss: 5.5531 - val_loss: 4.8517\n",
            "Epoch 175/400\n",
            "156/156 [==============================] - 5s 33ms/step - loss: 5.5540 - val_loss: 4.8662\n",
            "Epoch 176/400\n",
            "156/156 [==============================] - 5s 35ms/step - loss: 5.5571 - val_loss: 4.8545\n",
            "Epoch 177/400\n",
            "156/156 [==============================] - 5s 35ms/step - loss: 5.5588 - val_loss: 4.8291\n",
            "Epoch 178/400\n",
            "156/156 [==============================] - 5s 34ms/step - loss: 5.5615 - val_loss: 4.8744\n",
            "Epoch 179/400\n",
            "156/156 [==============================] - 5s 34ms/step - loss: 5.5679 - val_loss: 4.8432\n",
            "Epoch 180/400\n",
            "156/156 [==============================] - 5s 35ms/step - loss: 5.5542 - val_loss: 4.9301\n",
            "Epoch 181/400\n",
            "156/156 [==============================] - 6s 35ms/step - loss: 5.5486 - val_loss: 4.8313\n",
            "Epoch 182/400\n",
            "156/156 [==============================] - 5s 35ms/step - loss: 5.5422 - val_loss: 4.8217\n",
            "Epoch 183/400\n",
            "156/156 [==============================] - 6s 36ms/step - loss: 5.5178 - val_loss: 4.8077\n",
            "Epoch 184/400\n",
            "156/156 [==============================] - 6s 37ms/step - loss: 5.6045 - val_loss: 4.8188\n",
            "Epoch 185/400\n",
            "156/156 [==============================] - 6s 35ms/step - loss: 5.5525 - val_loss: 4.8745\n",
            "Epoch 186/400\n",
            "156/156 [==============================] - 6s 36ms/step - loss: 5.5191 - val_loss: 4.7854\n",
            "Epoch 187/400\n",
            "156/156 [==============================] - 5s 34ms/step - loss: 5.5249 - val_loss: 4.8742\n",
            "Epoch 188/400\n",
            "156/156 [==============================] - 5s 35ms/step - loss: 5.5482 - val_loss: 4.8324\n",
            "Epoch 189/400\n",
            "156/156 [==============================] - 5s 34ms/step - loss: 5.5296 - val_loss: 4.7973\n",
            "Epoch 190/400\n",
            "156/156 [==============================] - 5s 35ms/step - loss: 5.5318 - val_loss: 4.8082\n",
            "Epoch 191/400\n",
            "156/156 [==============================] - 5s 34ms/step - loss: 5.5160 - val_loss: 4.8156\n",
            "Epoch 192/400\n",
            "156/156 [==============================] - 5s 35ms/step - loss: 5.5595 - val_loss: 4.8450\n",
            "Epoch 193/400\n",
            "156/156 [==============================] - 5s 34ms/step - loss: 5.5341 - val_loss: 4.8116\n",
            "Epoch 194/400\n",
            "156/156 [==============================] - 5s 35ms/step - loss: 5.5250 - val_loss: 4.8579\n",
            "Epoch 195/400\n",
            "156/156 [==============================] - 5s 35ms/step - loss: 5.4844 - val_loss: 4.8639\n",
            "Epoch 196/400\n",
            "156/156 [==============================] - 5s 35ms/step - loss: 5.5104 - val_loss: 4.8404\n",
            "Epoch 197/400\n",
            "156/156 [==============================] - 5s 33ms/step - loss: 5.5084 - val_loss: 4.8343\n",
            "Epoch 198/400\n",
            "156/156 [==============================] - 5s 34ms/step - loss: 5.5476 - val_loss: 4.7672\n",
            "Epoch 199/400\n",
            "156/156 [==============================] - 5s 34ms/step - loss: 5.4895 - val_loss: 4.8018\n",
            "Epoch 200/400\n",
            "156/156 [==============================] - 5s 34ms/step - loss: 5.5315 - val_loss: 4.7986\n",
            "Epoch 201/400\n",
            "156/156 [==============================] - 6s 36ms/step - loss: 5.5860 - val_loss: 4.7938\n",
            "Epoch 202/400\n",
            "156/156 [==============================] - 6s 35ms/step - loss: 5.5446 - val_loss: 4.7885\n",
            "Epoch 203/400\n",
            "156/156 [==============================] - 5s 34ms/step - loss: 5.5366 - val_loss: 4.7748\n",
            "Epoch 204/400\n",
            "156/156 [==============================] - 5s 35ms/step - loss: 5.5754 - val_loss: 4.8661\n",
            "Epoch 205/400\n",
            "156/156 [==============================] - 5s 34ms/step - loss: 5.5414 - val_loss: 4.7536\n",
            "Epoch 206/400\n",
            "156/156 [==============================] - 5s 35ms/step - loss: 5.4668 - val_loss: 4.7944\n",
            "Epoch 207/400\n",
            "156/156 [==============================] - 5s 34ms/step - loss: 5.4688 - val_loss: 4.7735\n",
            "Epoch 208/400\n",
            "156/156 [==============================] - 5s 34ms/step - loss: 5.5196 - val_loss: 4.7344\n",
            "Epoch 209/400\n",
            "156/156 [==============================] - 5s 34ms/step - loss: 5.4669 - val_loss: 4.7022\n",
            "Epoch 210/400\n",
            "156/156 [==============================] - 5s 34ms/step - loss: 5.5035 - val_loss: 4.7507\n",
            "Epoch 211/400\n",
            "156/156 [==============================] - 5s 34ms/step - loss: 5.4827 - val_loss: 4.8061\n",
            "Epoch 212/400\n",
            "156/156 [==============================] - 5s 34ms/step - loss: 5.4860 - val_loss: 4.7684\n",
            "Epoch 213/400\n",
            "156/156 [==============================] - 5s 34ms/step - loss: 5.4629 - val_loss: 4.7286\n",
            "Epoch 214/400\n",
            "156/156 [==============================] - 5s 34ms/step - loss: 5.4784 - val_loss: 4.7280\n",
            "Epoch 215/400\n",
            "156/156 [==============================] - 5s 34ms/step - loss: 5.4953 - val_loss: 4.7752\n",
            "Epoch 216/400\n",
            "156/156 [==============================] - 5s 34ms/step - loss: 5.4822 - val_loss: 4.7396\n",
            "Epoch 217/400\n",
            "156/156 [==============================] - 5s 35ms/step - loss: 5.4727 - val_loss: 4.7488\n",
            "Epoch 218/400\n",
            "156/156 [==============================] - 6s 37ms/step - loss: 5.4787 - val_loss: 4.7967\n",
            "Epoch 219/400\n",
            "156/156 [==============================] - 6s 36ms/step - loss: 5.5329 - val_loss: 4.6828\n",
            "Epoch 220/400\n",
            "156/156 [==============================] - 5s 35ms/step - loss: 5.4915 - val_loss: 4.7413\n",
            "Epoch 221/400\n",
            "156/156 [==============================] - 5s 34ms/step - loss: 5.4800 - val_loss: 4.7867\n",
            "Epoch 222/400\n",
            "156/156 [==============================] - 5s 34ms/step - loss: 5.4757 - val_loss: 4.7459\n",
            "Epoch 223/400\n",
            "156/156 [==============================] - 5s 34ms/step - loss: 5.3812 - val_loss: 4.7273\n",
            "Epoch 224/400\n",
            "156/156 [==============================] - 5s 35ms/step - loss: 5.4470 - val_loss: 4.7117\n",
            "Epoch 225/400\n",
            "156/156 [==============================] - 6s 36ms/step - loss: 5.4263 - val_loss: 4.7378\n",
            "Epoch 226/400\n",
            "156/156 [==============================] - 5s 34ms/step - loss: 5.4276 - val_loss: 4.7370\n",
            "Epoch 227/400\n",
            "156/156 [==============================] - 6s 36ms/step - loss: 5.4457 - val_loss: 4.7599\n",
            "Epoch 228/400\n",
            "156/156 [==============================] - 6s 35ms/step - loss: 5.4219 - val_loss: 4.7316\n",
            "Epoch 229/400\n",
            "156/156 [==============================] - 6s 36ms/step - loss: 5.5105 - val_loss: 4.7990\n",
            "Epoch 230/400\n",
            "156/156 [==============================] - 5s 35ms/step - loss: 5.3929 - val_loss: 4.7122\n",
            "Epoch 231/400\n",
            "156/156 [==============================] - 5s 34ms/step - loss: 5.4106 - val_loss: 4.6987\n",
            "Epoch 232/400\n",
            "156/156 [==============================] - 5s 35ms/step - loss: 5.4051 - val_loss: 4.6926\n",
            "Epoch 233/400\n",
            "156/156 [==============================] - 5s 35ms/step - loss: 5.4044 - val_loss: 4.6938\n",
            "Epoch 234/400\n",
            "156/156 [==============================] - 5s 34ms/step - loss: 5.3652 - val_loss: 4.7174\n",
            "Epoch 235/400\n",
            "156/156 [==============================] - 5s 35ms/step - loss: 5.4363 - val_loss: 4.7266\n",
            "Epoch 236/400\n",
            "156/156 [==============================] - 5s 35ms/step - loss: 5.4282 - val_loss: 4.8043\n",
            "Epoch 237/400\n",
            "156/156 [==============================] - 5s 34ms/step - loss: 5.4164 - val_loss: 4.7750\n",
            "Epoch 238/400\n",
            "156/156 [==============================] - 5s 35ms/step - loss: 5.4259 - val_loss: 4.7027\n",
            "Epoch 239/400\n",
            "156/156 [==============================] - 5s 33ms/step - loss: 5.4419 - val_loss: 4.6861\n",
            "Epoch 00239: early stopping\n"
          ]
        }
      ],
      "source": [
        "model_1.compile(loss='mean_squared_error', optimizer='adam')\n",
        "# Training sẽ dừng khi \"val_loss\" không giảm (mode='min') sau 10 epochs(patience=10)\n",
        "earlyStop=EarlyStopping(monitor=\"val_loss\",verbose=2,mode='min',patience=20)\n",
        "losses = model_1.fit(X_tr_t, y_train, validation_data=(X_vl_t, y_val), batch_size=256, epochs=400, callbacks=[earlyStop])\n",
        "# losses = model_1.fit(X_tr_t, y_train, validation_data=(X_vl_t, y_val), batch_size=256, epochs=1)"
      ]
    },
    {
      "cell_type": "markdown",
      "metadata": {
        "id": "jEiG1PidoPvE"
      },
      "source": [
        "#### Loss graph"
      ]
    },
    {
      "cell_type": "code",
      "execution_count": null,
      "metadata": {
        "colab": {
          "base_uri": "https://localhost:8080/",
          "height": 284
        },
        "id": "q-dFFRbljyYU",
        "outputId": "757d1636-98ac-441c-caa4-93104c27728e"
      },
      "outputs": [
        {
          "data": {
            "text/plain": [
              "<matplotlib.axes._subplots.AxesSubplot at 0x7f8578583610>"
            ]
          },
          "execution_count": 21,
          "metadata": {},
          "output_type": "execute_result"
        },
        {
          "data": {
            "image/png": "[encoded data removed]",
            "text/plain": [
              "<Figure size 432x288 with 1 Axes>"
            ]
          },
          "metadata": {
            "needs_background": "light"
          },
          "output_type": "display_data"
        }
      ],
      "source": [
        "loss_df = pd.DataFrame(losses.history)\n",
        "loss_df.loc[:,['loss','val_loss']].plot(color = ['darkorange','midnightblue'])"
      ]
    },
    {
      "cell_type": "markdown",
      "metadata": {
        "id": "2b11X0W9oZgk"
      },
      "source": [
        "#### Loss values"
      ]
    },
    {
      "cell_type": "code",
      "execution_count": null,
      "metadata": {
        "colab": {
          "base_uri": "https://localhost:8080/"
        },
        "id": "P4h1nliCj4Aj",
        "outputId": "aedd32a5-db61-46d5-bbca-fa259197609b"
      },
      "outputs": [
        {
          "name": "stdout",
          "output_type": "stream",
          "text": [
            "17689/17689 [==============================] - 63s 4ms/step - loss: 4.6999\n"
          ]
        }
      ],
      "source": [
        "score_mse = model_1.evaluate(X_tst_t, y_test, batch_size=1)\n",
        "y_pred_1 = model_1.predict(X_tst_t)"
      ]
    },
    {
      "cell_type": "code",
      "execution_count": null,
      "metadata": {
        "id": "9vpFQOcCrjTp"
      },
      "outputs": [],
      "source": [
        "compa_k_mse.append(score_mse)"
      ]
    },
    {
      "cell_type": "code",
      "execution_count": null,
      "metadata": {
        "colab": {
          "base_uri": "https://localhost:8080/"
        },
        "id": "OE3TZ4m4K3XN",
        "outputId": "f86aceae-c3be-4e79-da69-22e87db44fc7"
      },
      "outputs": [
        {
          "name": "stdout",
          "output_type": "stream",
          "text": [
            "mse: 4.699904\n"
          ]
        }
      ],
      "source": [
        "print('mse: %f'%score_mse)"
      ]
    },
    {
      "cell_type": "code",
      "execution_count": null,
      "metadata": {
        "colab": {
          "base_uri": "https://localhost:8080/"
        },
        "id": "EOXnLCC6K0l1",
        "outputId": "4dba782e-3ab7-46b0-9e39-725e78ea2331"
      },
      "outputs": [
        {
          "name": "stdout",
          "output_type": "stream",
          "text": [
            "predicted response:\n",
            "[[5.50413704e+09]\n",
            " [4.18075371e+09]\n",
            " [3.55991507e+09]\n",
            " [5.05196238e+09]\n",
            " [5.60997009e+09]\n",
            " [2.48557377e+09]\n",
            " [2.83750081e+09]\n",
            " [8.85498047e+09]\n",
            " [3.24903297e+09]\n",
            " [6.01594448e+09]]\n",
            "actual:\n",
            "22453    6.600000e+09\n",
            "68000    5.500000e+09\n",
            "24488    1.680000e+09\n",
            "6208     4.150000e+09\n",
            "69780    7.090000e+09\n",
            "43825    2.200000e+09\n",
            "1208     1.500000e+09\n",
            "52345    8.600000e+09\n",
            "63577    4.150000e+09\n",
            "19916    7.500000e+09\n",
            "Name: price, dtype: float64\n"
          ]
        }
      ],
      "source": [
        "print(f\"predicted response:\\n{y_pred_1[:10]*one_billion}\")\n",
        "print(f\"actual:\\n{y_test.iloc[0:10]*one_billion}\")"
      ]
    },
    {
      "cell_type": "code",
      "execution_count": null,
      "metadata": {
        "colab": {
          "base_uri": "https://localhost:8080/"
        },
        "id": "MM6d1wq7GAuT",
        "outputId": "39ed1e87-e641-4231-bc71-122bd872a367"
      },
      "outputs": [
        {
          "name": "stdout",
          "output_type": "stream",
          "text": [
            "The number of negative prediction:  0\n",
            "Percent correct prediction:  46.39041212052688\n"
          ]
        }
      ],
      "source": [
        "error, negative_integer = find_prediction_error_value(y_test, y_pred_1)\n",
        "print(\"The number of negative prediction: \", len(negative_integer))\n",
        "print(\"Percent correct prediction: \", (len(y_test) - len(error))/len(y_test)*100)"
      ]
    },
    {
      "cell_type": "markdown",
      "metadata": {
        "id": "R0J5V4ohGGpV"
      },
      "source": [
        "### MAE"
      ]
    },
    {
      "cell_type": "code",
      "execution_count": 31,
      "metadata": {
        "colab": {
          "base_uri": "https://localhost:8080/"
        },
        "id": "AbbspOjBGIUG",
        "outputId": "43e8a6ad-23a7-4915-c6e4-0513c6373040"
      },
      "outputs": [
        {
          "name": "stdout",
          "output_type": "stream",
          "text": [
            "Epoch 1/400\n",
            "156/156 [==============================] - 15s 42ms/step - loss: 3.7294 - val_loss: 2.1144\n",
            "Epoch 2/400\n",
            "156/156 [==============================] - 5s 32ms/step - loss: 2.4488 - val_loss: 1.9589\n",
            "Epoch 3/400\n",
            "156/156 [==============================] - 5s 31ms/step - loss: 2.3144 - val_loss: 1.8964\n",
            "Epoch 4/400\n",
            "156/156 [==============================] - 5s 31ms/step - loss: 2.2670 - val_loss: 1.9006\n",
            "Epoch 5/400\n",
            "156/156 [==============================] - 5s 31ms/step - loss: 2.2260 - val_loss: 1.8485\n",
            "Epoch 6/400\n",
            "156/156 [==============================] - 5s 31ms/step - loss: 2.2035 - val_loss: 1.7913\n",
            "Epoch 7/400\n",
            "156/156 [==============================] - 5s 31ms/step - loss: 2.1646 - val_loss: 1.7675\n",
            "Epoch 8/400\n",
            "156/156 [==============================] - 5s 31ms/step - loss: 2.1274 - val_loss: 1.7395\n",
            "Epoch 9/400\n",
            "156/156 [==============================] - 5s 31ms/step - loss: 2.0808 - val_loss: 1.7583\n",
            "Epoch 10/400\n",
            "156/156 [==============================] - 5s 31ms/step - loss: 2.0520 - val_loss: 1.7106\n",
            "Epoch 11/400\n",
            "156/156 [==============================] - 5s 32ms/step - loss: 2.0330 - val_loss: 1.7121\n",
            "Epoch 12/400\n",
            "156/156 [==============================] - 5s 31ms/step - loss: 2.0123 - val_loss: 1.7004\n",
            "Epoch 13/400\n",
            "156/156 [==============================] - 5s 31ms/step - loss: 1.9973 - val_loss: 1.6877\n",
            "Epoch 14/400\n",
            "156/156 [==============================] - 5s 31ms/step - loss: 2.0010 - val_loss: 1.6814\n",
            "Epoch 15/400\n",
            "156/156 [==============================] - 5s 31ms/step - loss: 1.9791 - val_loss: 1.7156\n",
            "Epoch 16/400\n",
            "156/156 [==============================] - 5s 31ms/step - loss: 1.9651 - val_loss: 1.6715\n",
            "Epoch 17/400\n",
            "156/156 [==============================] - 5s 31ms/step - loss: 1.9541 - val_loss: 1.6860\n",
            "Epoch 18/400\n",
            "156/156 [==============================] - 5s 30ms/step - loss: 1.9454 - val_loss: 1.6537\n",
            "Epoch 19/400\n",
            "156/156 [==============================] - 5s 31ms/step - loss: 1.9313 - val_loss: 1.6631\n",
            "Epoch 20/400\n",
            "156/156 [==============================] - 5s 31ms/step - loss: 1.9100 - val_loss: 1.6525\n",
            "Epoch 21/400\n",
            "156/156 [==============================] - 5s 31ms/step - loss: 1.9017 - val_loss: 1.6671\n",
            "Epoch 22/400\n",
            "156/156 [==============================] - 5s 31ms/step - loss: 1.8934 - val_loss: 1.6363\n",
            "Epoch 23/400\n",
            "156/156 [==============================] - 5s 31ms/step - loss: 1.8768 - val_loss: 1.6219\n",
            "Epoch 24/400\n",
            "156/156 [==============================] - 5s 31ms/step - loss: 1.8700 - val_loss: 1.6215\n",
            "Epoch 25/400\n",
            "156/156 [==============================] - 5s 31ms/step - loss: 1.8581 - val_loss: 1.6176\n",
            "Epoch 26/400\n",
            "156/156 [==============================] - 7s 44ms/step - loss: 1.8557 - val_loss: 1.6239\n",
            "Epoch 27/400\n",
            "156/156 [==============================] - 5s 31ms/step - loss: 1.8350 - val_loss: 1.6152\n",
            "Epoch 28/400\n",
            "156/156 [==============================] - 5s 31ms/step - loss: 1.8360 - val_loss: 1.6064\n",
            "Epoch 29/400\n",
            "156/156 [==============================] - 5s 31ms/step - loss: 1.8250 - val_loss: 1.6137\n",
            "Epoch 30/400\n",
            "156/156 [==============================] - 5s 31ms/step - loss: 1.8253 - val_loss: 1.6183\n",
            "Epoch 31/400\n",
            "156/156 [==============================] - 5s 31ms/step - loss: 1.8143 - val_loss: 1.5994\n",
            "Epoch 32/400\n",
            "156/156 [==============================] - 5s 30ms/step - loss: 1.8079 - val_loss: 1.6034\n",
            "Epoch 33/400\n",
            "156/156 [==============================] - 5s 31ms/step - loss: 1.7996 - val_loss: 1.6064\n",
            "Epoch 34/400\n",
            "156/156 [==============================] - 5s 30ms/step - loss: 1.8008 - val_loss: 1.6086\n",
            "Epoch 35/400\n",
            "156/156 [==============================] - 5s 30ms/step - loss: 1.7933 - val_loss: 1.5877\n",
            "Epoch 36/400\n",
            "156/156 [==============================] - 5s 31ms/step - loss: 1.7772 - val_loss: 1.5907\n",
            "Epoch 37/400\n",
            "156/156 [==============================] - 5s 31ms/step - loss: 1.7788 - val_loss: 1.5857\n",
            "Epoch 38/400\n",
            "156/156 [==============================] - 5s 31ms/step - loss: 1.7803 - val_loss: 1.5876\n",
            "Epoch 39/400\n",
            "156/156 [==============================] - 5s 31ms/step - loss: 1.7680 - val_loss: 1.5916\n",
            "Epoch 40/400\n",
            "156/156 [==============================] - 5s 31ms/step - loss: 1.7728 - val_loss: 1.5934\n",
            "Epoch 41/400\n",
            "156/156 [==============================] - 5s 30ms/step - loss: 1.7719 - val_loss: 1.5845\n",
            "Epoch 42/400\n",
            "156/156 [==============================] - 5s 30ms/step - loss: 1.7595 - val_loss: 1.5836\n",
            "Epoch 43/400\n",
            "156/156 [==============================] - 5s 30ms/step - loss: 1.7596 - val_loss: 1.5779\n",
            "Epoch 44/400\n",
            "156/156 [==============================] - 5s 31ms/step - loss: 1.7483 - val_loss: 1.5973\n",
            "Epoch 45/400\n",
            "156/156 [==============================] - 5s 30ms/step - loss: 1.7474 - val_loss: 1.5680\n",
            "Epoch 46/400\n",
            "156/156 [==============================] - 5s 31ms/step - loss: 1.7451 - val_loss: 1.5643\n",
            "Epoch 47/400\n",
            "156/156 [==============================] - 5s 31ms/step - loss: 1.7454 - val_loss: 1.5925\n",
            "Epoch 48/400\n",
            "156/156 [==============================] - 5s 30ms/step - loss: 1.7376 - val_loss: 1.5701\n",
            "Epoch 49/400\n",
            "156/156 [==============================] - 5s 31ms/step - loss: 1.7426 - val_loss: 1.5623\n",
            "Epoch 50/400\n",
            "156/156 [==============================] - 5s 31ms/step - loss: 1.7290 - val_loss: 1.5573\n",
            "Epoch 51/400\n",
            "156/156 [==============================] - 5s 30ms/step - loss: 1.7352 - val_loss: 1.5562\n",
            "Epoch 52/400\n",
            "156/156 [==============================] - 7s 43ms/step - loss: 1.7346 - val_loss: 1.5516\n",
            "Epoch 53/400\n",
            "156/156 [==============================] - 5s 31ms/step - loss: 1.7251 - val_loss: 1.5687\n",
            "Epoch 54/400\n",
            "156/156 [==============================] - 5s 31ms/step - loss: 1.7219 - val_loss: 1.5777\n",
            "Epoch 55/400\n",
            "156/156 [==============================] - 5s 31ms/step - loss: 1.7268 - val_loss: 1.5556\n",
            "Epoch 56/400\n",
            "156/156 [==============================] - 5s 31ms/step - loss: 1.7172 - val_loss: 1.5519\n",
            "Epoch 57/400\n",
            "156/156 [==============================] - 5s 31ms/step - loss: 1.7170 - val_loss: 1.5529\n",
            "Epoch 58/400\n",
            "156/156 [==============================] - 5s 31ms/step - loss: 1.7206 - val_loss: 1.5528\n",
            "Epoch 59/400\n",
            "156/156 [==============================] - 5s 31ms/step - loss: 1.7100 - val_loss: 1.5498\n",
            "Epoch 60/400\n",
            "156/156 [==============================] - 5s 31ms/step - loss: 1.7130 - val_loss: 1.5505\n",
            "Epoch 61/400\n",
            "156/156 [==============================] - 5s 30ms/step - loss: 1.7098 - val_loss: 1.5395\n",
            "Epoch 62/400\n",
            "156/156 [==============================] - 5s 31ms/step - loss: 1.7111 - val_loss: 1.5517\n",
            "Epoch 63/400\n",
            "156/156 [==============================] - 5s 31ms/step - loss: 1.7047 - val_loss: 1.5541\n",
            "Epoch 64/400\n",
            "156/156 [==============================] - 5s 31ms/step - loss: 1.7057 - val_loss: 1.5415\n",
            "Epoch 65/400\n",
            "156/156 [==============================] - 5s 31ms/step - loss: 1.7065 - val_loss: 1.5479\n",
            "Epoch 66/400\n",
            "156/156 [==============================] - 5s 31ms/step - loss: 1.6911 - val_loss: 1.5397\n",
            "Epoch 67/400\n",
            "156/156 [==============================] - 5s 30ms/step - loss: 1.7030 - val_loss: 1.5604\n",
            "Epoch 68/400\n",
            "156/156 [==============================] - 5s 30ms/step - loss: 1.6989 - val_loss: 1.5476\n",
            "Epoch 69/400\n",
            "156/156 [==============================] - 5s 31ms/step - loss: 1.6966 - val_loss: 1.5384\n",
            "Epoch 70/400\n",
            "156/156 [==============================] - 5s 31ms/step - loss: 1.6974 - val_loss: 1.5486\n",
            "Epoch 71/400\n",
            "156/156 [==============================] - 5s 31ms/step - loss: 1.6971 - val_loss: 1.5338\n",
            "Epoch 72/400\n",
            "156/156 [==============================] - 5s 31ms/step - loss: 1.6926 - val_loss: 1.5408\n",
            "Epoch 73/400\n",
            "156/156 [==============================] - 5s 31ms/step - loss: 1.6916 - val_loss: 1.5517\n",
            "Epoch 74/400\n",
            "156/156 [==============================] - 5s 31ms/step - loss: 1.6951 - val_loss: 1.5429\n",
            "Epoch 75/400\n",
            "156/156 [==============================] - 5s 31ms/step - loss: 1.6868 - val_loss: 1.5301\n",
            "Epoch 76/400\n",
            "156/156 [==============================] - 5s 31ms/step - loss: 1.6834 - val_loss: 1.5434\n",
            "Epoch 77/400\n",
            "156/156 [==============================] - 5s 31ms/step - loss: 1.6779 - val_loss: 1.5404\n",
            "Epoch 78/400\n",
            "156/156 [==============================] - 7s 44ms/step - loss: 1.6847 - val_loss: 1.5451\n",
            "Epoch 79/400\n",
            "156/156 [==============================] - 5s 31ms/step - loss: 1.6813 - val_loss: 1.5468\n",
            "Epoch 80/400\n",
            "156/156 [==============================] - 5s 31ms/step - loss: 1.6848 - val_loss: 1.5392\n",
            "Epoch 81/400\n",
            "156/156 [==============================] - 5s 32ms/step - loss: 1.6845 - val_loss: 1.5286\n",
            "Epoch 82/400\n",
            "156/156 [==============================] - 5s 30ms/step - loss: 1.6810 - val_loss: 1.5205\n",
            "Epoch 83/400\n",
            "156/156 [==============================] - 5s 31ms/step - loss: 1.6788 - val_loss: 1.5497\n",
            "Epoch 84/400\n",
            "156/156 [==============================] - 5s 31ms/step - loss: 1.6768 - val_loss: 1.5218\n",
            "Epoch 85/400\n",
            "156/156 [==============================] - 5s 31ms/step - loss: 1.6822 - val_loss: 1.5217\n",
            "Epoch 86/400\n",
            "156/156 [==============================] - 5s 31ms/step - loss: 1.6736 - val_loss: 1.5359\n",
            "Epoch 87/400\n",
            "156/156 [==============================] - 5s 31ms/step - loss: 1.6769 - val_loss: 1.5283\n",
            "Epoch 88/400\n",
            "156/156 [==============================] - 5s 30ms/step - loss: 1.6726 - val_loss: 1.5214\n",
            "Epoch 89/400\n",
            "156/156 [==============================] - 5s 31ms/step - loss: 1.6803 - val_loss: 1.5214\n",
            "Epoch 90/400\n",
            "156/156 [==============================] - 5s 31ms/step - loss: 1.6745 - val_loss: 1.5353\n",
            "Epoch 91/400\n",
            "156/156 [==============================] - 5s 31ms/step - loss: 1.6712 - val_loss: 1.5135\n",
            "Epoch 92/400\n",
            "156/156 [==============================] - 5s 30ms/step - loss: 1.6712 - val_loss: 1.5273\n",
            "Epoch 93/400\n",
            "156/156 [==============================] - 5s 31ms/step - loss: 1.6731 - val_loss: 1.5278\n",
            "Epoch 94/400\n",
            "156/156 [==============================] - 5s 33ms/step - loss: 1.6675 - val_loss: 1.5153\n",
            "Epoch 95/400\n",
            "156/156 [==============================] - 5s 32ms/step - loss: 1.6722 - val_loss: 1.5274\n",
            "Epoch 96/400\n",
            "156/156 [==============================] - 5s 31ms/step - loss: 1.6655 - val_loss: 1.5172\n",
            "Epoch 97/400\n",
            "156/156 [==============================] - 5s 31ms/step - loss: 1.6651 - val_loss: 1.5298\n",
            "Epoch 98/400\n",
            "156/156 [==============================] - 5s 31ms/step - loss: 1.6663 - val_loss: 1.5230\n",
            "Epoch 99/400\n",
            "156/156 [==============================] - 5s 31ms/step - loss: 1.6656 - val_loss: 1.5207\n",
            "Epoch 100/400\n",
            "156/156 [==============================] - 5s 31ms/step - loss: 1.6676 - val_loss: 1.5307\n",
            "Epoch 101/400\n",
            "156/156 [==============================] - 5s 30ms/step - loss: 1.6647 - val_loss: 1.5308\n",
            "Epoch 102/400\n",
            "156/156 [==============================] - 5s 31ms/step - loss: 1.6596 - val_loss: 1.5195\n",
            "Epoch 103/400\n",
            "156/156 [==============================] - 6s 36ms/step - loss: 1.6627 - val_loss: 1.5039\n",
            "Epoch 104/400\n",
            "156/156 [==============================] - 6s 39ms/step - loss: 1.6630 - val_loss: 1.5321\n",
            "Epoch 105/400\n",
            "156/156 [==============================] - 5s 31ms/step - loss: 1.6561 - val_loss: 1.5108\n",
            "Epoch 106/400\n",
            "156/156 [==============================] - 5s 30ms/step - loss: 1.6617 - val_loss: 1.5208\n",
            "Epoch 107/400\n",
            "156/156 [==============================] - 5s 33ms/step - loss: 1.6609 - val_loss: 1.5125\n",
            "Epoch 108/400\n",
            "156/156 [==============================] - 5s 32ms/step - loss: 1.6607 - val_loss: 1.5124\n",
            "Epoch 109/400\n",
            "156/156 [==============================] - 5s 32ms/step - loss: 1.6600 - val_loss: 1.5114\n",
            "Epoch 110/400\n",
            "156/156 [==============================] - 5s 31ms/step - loss: 1.6621 - val_loss: 1.5135\n",
            "Epoch 111/400\n",
            "156/156 [==============================] - 5s 32ms/step - loss: 1.6560 - val_loss: 1.5207\n",
            "Epoch 112/400\n",
            "156/156 [==============================] - 5s 32ms/step - loss: 1.6644 - val_loss: 1.5175\n",
            "Epoch 113/400\n",
            "156/156 [==============================] - 5s 32ms/step - loss: 1.6528 - val_loss: 1.5070\n",
            "Epoch 114/400\n",
            "156/156 [==============================] - 5s 33ms/step - loss: 1.6566 - val_loss: 1.5099\n",
            "Epoch 115/400\n",
            "156/156 [==============================] - 5s 31ms/step - loss: 1.6549 - val_loss: 1.5178\n",
            "Epoch 116/400\n",
            "156/156 [==============================] - 5s 31ms/step - loss: 1.6517 - val_loss: 1.5079\n",
            "Epoch 117/400\n",
            "156/156 [==============================] - 5s 31ms/step - loss: 1.6548 - val_loss: 1.5036\n",
            "Epoch 118/400\n",
            "156/156 [==============================] - 5s 30ms/step - loss: 1.6504 - val_loss: 1.4986\n",
            "Epoch 119/400\n",
            "156/156 [==============================] - 5s 31ms/step - loss: 1.6479 - val_loss: 1.5035\n",
            "Epoch 120/400\n",
            "156/156 [==============================] - 5s 31ms/step - loss: 1.6599 - val_loss: 1.4987\n",
            "Epoch 121/400\n",
            "156/156 [==============================] - 5s 31ms/step - loss: 1.6530 - val_loss: 1.5017\n",
            "Epoch 122/400\n",
            "156/156 [==============================] - 5s 31ms/step - loss: 1.6523 - val_loss: 1.5024\n",
            "Epoch 123/400\n",
            "156/156 [==============================] - 5s 31ms/step - loss: 1.6402 - val_loss: 1.4960\n",
            "Epoch 124/400\n",
            "156/156 [==============================] - 5s 31ms/step - loss: 1.6487 - val_loss: 1.5001\n",
            "Epoch 125/400\n",
            "156/156 [==============================] - 5s 31ms/step - loss: 1.6518 - val_loss: 1.4973\n",
            "Epoch 126/400\n",
            "156/156 [==============================] - 5s 32ms/step - loss: 1.6478 - val_loss: 1.4936\n",
            "Epoch 127/400\n",
            "156/156 [==============================] - 5s 31ms/step - loss: 1.6478 - val_loss: 1.5197\n",
            "Epoch 128/400\n",
            "156/156 [==============================] - 5s 31ms/step - loss: 1.6409 - val_loss: 1.4993\n",
            "Epoch 129/400\n",
            "156/156 [==============================] - 7s 44ms/step - loss: 1.6456 - val_loss: 1.4893\n",
            "Epoch 130/400\n",
            "156/156 [==============================] - 5s 31ms/step - loss: 1.6408 - val_loss: 1.4964\n",
            "Epoch 131/400\n",
            "156/156 [==============================] - 5s 30ms/step - loss: 1.6407 - val_loss: 1.4888\n",
            "Epoch 132/400\n",
            "156/156 [==============================] - 5s 31ms/step - loss: 1.6441 - val_loss: 1.4962\n",
            "Epoch 133/400\n",
            "156/156 [==============================] - 5s 32ms/step - loss: 1.6390 - val_loss: 1.5022\n",
            "Epoch 134/400\n",
            "156/156 [==============================] - 5s 31ms/step - loss: 1.6412 - val_loss: 1.5058\n",
            "Epoch 135/400\n",
            "156/156 [==============================] - 5s 31ms/step - loss: 1.6427 - val_loss: 1.4933\n",
            "Epoch 136/400\n",
            "156/156 [==============================] - 5s 31ms/step - loss: 1.6448 - val_loss: 1.4916\n",
            "Epoch 137/400\n",
            "156/156 [==============================] - 5s 31ms/step - loss: 1.6401 - val_loss: 1.4884\n",
            "Epoch 138/400\n",
            "156/156 [==============================] - 5s 31ms/step - loss: 1.6416 - val_loss: 1.5012\n",
            "Epoch 139/400\n",
            "156/156 [==============================] - 5s 31ms/step - loss: 1.6403 - val_loss: 1.4945\n",
            "Epoch 140/400\n",
            "156/156 [==============================] - 5s 31ms/step - loss: 1.6431 - val_loss: 1.5113\n",
            "Epoch 141/400\n",
            "156/156 [==============================] - 5s 31ms/step - loss: 1.6401 - val_loss: 1.4921\n",
            "Epoch 142/400\n",
            "156/156 [==============================] - 5s 31ms/step - loss: 1.6382 - val_loss: 1.4917\n",
            "Epoch 143/400\n",
            "156/156 [==============================] - 5s 31ms/step - loss: 1.6477 - val_loss: 1.4917\n",
            "Epoch 144/400\n",
            "156/156 [==============================] - 5s 31ms/step - loss: 1.6402 - val_loss: 1.4820\n",
            "Epoch 145/400\n",
            "156/156 [==============================] - 5s 31ms/step - loss: 1.6383 - val_loss: 1.4898\n",
            "Epoch 146/400\n",
            "156/156 [==============================] - 5s 31ms/step - loss: 1.6398 - val_loss: 1.4932\n",
            "Epoch 147/400\n",
            "156/156 [==============================] - 5s 31ms/step - loss: 1.6316 - val_loss: 1.4780\n",
            "Epoch 148/400\n",
            "156/156 [==============================] - 5s 31ms/step - loss: 1.6387 - val_loss: 1.4887\n",
            "Epoch 149/400\n",
            "156/156 [==============================] - 5s 31ms/step - loss: 1.6400 - val_loss: 1.4883\n",
            "Epoch 150/400\n",
            "156/156 [==============================] - 5s 31ms/step - loss: 1.6342 - val_loss: 1.5093\n",
            "Epoch 151/400\n",
            "156/156 [==============================] - 5s 31ms/step - loss: 1.6341 - val_loss: 1.4922\n",
            "Epoch 152/400\n",
            "156/156 [==============================] - 5s 31ms/step - loss: 1.6297 - val_loss: 1.4792\n",
            "Epoch 153/400\n",
            "156/156 [==============================] - 5s 31ms/step - loss: 1.6323 - val_loss: 1.4815\n",
            "Epoch 154/400\n",
            "156/156 [==============================] - 5s 31ms/step - loss: 1.6293 - val_loss: 1.4950\n",
            "Epoch 155/400\n",
            "156/156 [==============================] - 7s 44ms/step - loss: 1.6260 - val_loss: 1.4871\n",
            "Epoch 156/400\n",
            "156/156 [==============================] - 5s 31ms/step - loss: 1.6317 - val_loss: 1.4800\n",
            "Epoch 157/400\n",
            "156/156 [==============================] - 5s 31ms/step - loss: 1.6227 - val_loss: 1.4882\n",
            "Epoch 158/400\n",
            "156/156 [==============================] - 5s 31ms/step - loss: 1.6218 - val_loss: 1.4850\n",
            "Epoch 159/400\n",
            "156/156 [==============================] - 5s 31ms/step - loss: 1.6306 - val_loss: 1.4792\n",
            "Epoch 160/400\n",
            "156/156 [==============================] - 5s 31ms/step - loss: 1.6253 - val_loss: 1.4781\n",
            "Epoch 161/400\n",
            "156/156 [==============================] - 5s 31ms/step - loss: 1.6231 - val_loss: 1.4759\n",
            "Epoch 162/400\n",
            "156/156 [==============================] - 5s 30ms/step - loss: 1.6320 - val_loss: 1.4816\n",
            "Epoch 163/400\n",
            "156/156 [==============================] - 5s 31ms/step - loss: 1.6222 - val_loss: 1.4922\n",
            "Epoch 164/400\n",
            "156/156 [==============================] - 5s 31ms/step - loss: 1.6210 - val_loss: 1.4872\n",
            "Epoch 165/400\n",
            "156/156 [==============================] - 5s 31ms/step - loss: 1.6289 - val_loss: 1.4868\n",
            "Epoch 166/400\n",
            "156/156 [==============================] - 5s 31ms/step - loss: 1.6361 - val_loss: 1.5129\n",
            "Epoch 167/400\n",
            "156/156 [==============================] - 5s 31ms/step - loss: 1.6251 - val_loss: 1.4783\n",
            "Epoch 168/400\n",
            "156/156 [==============================] - 5s 31ms/step - loss: 1.6189 - val_loss: 1.4879\n",
            "Epoch 169/400\n",
            "156/156 [==============================] - 5s 31ms/step - loss: 1.6188 - val_loss: 1.4720\n",
            "Epoch 170/400\n",
            "156/156 [==============================] - 5s 31ms/step - loss: 1.6196 - val_loss: 1.4838\n",
            "Epoch 171/400\n",
            "156/156 [==============================] - 5s 31ms/step - loss: 1.6246 - val_loss: 1.4846\n",
            "Epoch 172/400\n",
            "156/156 [==============================] - 5s 31ms/step - loss: 1.6215 - val_loss: 1.4745\n",
            "Epoch 173/400\n",
            "156/156 [==============================] - 5s 31ms/step - loss: 1.6151 - val_loss: 1.4808\n",
            "Epoch 174/400\n",
            "156/156 [==============================] - 5s 31ms/step - loss: 1.6216 - val_loss: 1.4742\n",
            "Epoch 175/400\n",
            "156/156 [==============================] - 5s 32ms/step - loss: 1.6217 - val_loss: 1.4770\n",
            "Epoch 176/400\n",
            "156/156 [==============================] - 5s 31ms/step - loss: 1.6172 - val_loss: 1.4855\n",
            "Epoch 177/400\n",
            "156/156 [==============================] - 5s 31ms/step - loss: 1.6221 - val_loss: 1.4855\n",
            "Epoch 178/400\n",
            "156/156 [==============================] - 5s 32ms/step - loss: 1.6166 - val_loss: 1.4804\n",
            "Epoch 179/400\n",
            "156/156 [==============================] - 5s 31ms/step - loss: 1.6207 - val_loss: 1.4828\n",
            "Epoch 180/400\n",
            "156/156 [==============================] - 5s 31ms/step - loss: 1.6115 - val_loss: 1.4753\n",
            "Epoch 181/400\n",
            "156/156 [==============================] - 7s 44ms/step - loss: 1.6195 - val_loss: 1.4832\n",
            "Epoch 182/400\n",
            "156/156 [==============================] - 5s 31ms/step - loss: 1.6160 - val_loss: 1.4981\n",
            "Epoch 183/400\n",
            "156/156 [==============================] - 5s 32ms/step - loss: 1.6133 - val_loss: 1.4649\n",
            "Epoch 184/400\n",
            "156/156 [==============================] - 5s 31ms/step - loss: 1.6177 - val_loss: 1.4650\n",
            "Epoch 185/400\n",
            "156/156 [==============================] - 5s 31ms/step - loss: 1.6174 - val_loss: 1.4708\n",
            "Epoch 186/400\n",
            "156/156 [==============================] - 5s 31ms/step - loss: 1.6221 - val_loss: 1.4674\n",
            "Epoch 187/400\n",
            "156/156 [==============================] - 5s 31ms/step - loss: 1.6210 - val_loss: 1.4628\n",
            "Epoch 188/400\n",
            "156/156 [==============================] - 5s 31ms/step - loss: 1.6149 - val_loss: 1.4658\n",
            "Epoch 189/400\n",
            "156/156 [==============================] - 5s 30ms/step - loss: 1.6162 - val_loss: 1.4773\n",
            "Epoch 190/400\n",
            "156/156 [==============================] - 5s 31ms/step - loss: 1.6155 - val_loss: 1.4698\n",
            "Epoch 191/400\n",
            "156/156 [==============================] - 5s 31ms/step - loss: 1.6154 - val_loss: 1.4712\n",
            "Epoch 192/400\n",
            "156/156 [==============================] - 5s 31ms/step - loss: 1.6144 - val_loss: 1.4707\n",
            "Epoch 193/400\n",
            "156/156 [==============================] - 5s 31ms/step - loss: 1.6171 - val_loss: 1.4797\n",
            "Epoch 194/400\n",
            "156/156 [==============================] - 5s 32ms/step - loss: 1.6051 - val_loss: 1.4741\n",
            "Epoch 195/400\n",
            "156/156 [==============================] - 5s 31ms/step - loss: 1.6101 - val_loss: 1.4695\n",
            "Epoch 196/400\n",
            "156/156 [==============================] - 5s 31ms/step - loss: 1.6101 - val_loss: 1.4651\n",
            "Epoch 197/400\n",
            "156/156 [==============================] - 5s 32ms/step - loss: 1.6167 - val_loss: 1.4687\n",
            "Epoch 198/400\n",
            "156/156 [==============================] - 5s 32ms/step - loss: 1.6137 - val_loss: 1.4708\n",
            "Epoch 199/400\n",
            "156/156 [==============================] - 5s 32ms/step - loss: 1.6065 - val_loss: 1.4811\n",
            "Epoch 200/400\n",
            "156/156 [==============================] - 5s 32ms/step - loss: 1.6069 - val_loss: 1.4587\n",
            "Epoch 201/400\n",
            "156/156 [==============================] - 5s 31ms/step - loss: 1.5998 - val_loss: 1.4602\n",
            "Epoch 202/400\n",
            "156/156 [==============================] - 5s 31ms/step - loss: 1.6147 - val_loss: 1.4617\n",
            "Epoch 203/400\n",
            "156/156 [==============================] - 5s 31ms/step - loss: 1.6065 - val_loss: 1.4629\n",
            "Epoch 204/400\n",
            "156/156 [==============================] - 5s 32ms/step - loss: 1.6093 - val_loss: 1.4783\n",
            "Epoch 205/400\n",
            "156/156 [==============================] - 5s 31ms/step - loss: 1.6104 - val_loss: 1.4629\n",
            "Epoch 206/400\n",
            "156/156 [==============================] - 6s 39ms/step - loss: 1.6098 - val_loss: 1.4598\n",
            "Epoch 207/400\n",
            "156/156 [==============================] - 6s 37ms/step - loss: 1.6002 - val_loss: 1.4654\n",
            "Epoch 208/400\n",
            "156/156 [==============================] - 5s 31ms/step - loss: 1.6044 - val_loss: 1.4690\n",
            "Epoch 209/400\n",
            "156/156 [==============================] - 5s 31ms/step - loss: 1.6083 - val_loss: 1.4686\n",
            "Epoch 210/400\n",
            "156/156 [==============================] - 5s 32ms/step - loss: 1.6025 - val_loss: 1.4603\n",
            "Epoch 211/400\n",
            "156/156 [==============================] - 5s 32ms/step - loss: 1.6050 - val_loss: 1.4588\n",
            "Epoch 212/400\n",
            "156/156 [==============================] - 5s 31ms/step - loss: 1.6044 - val_loss: 1.4774\n",
            "Epoch 213/400\n",
            "156/156 [==============================] - 5s 32ms/step - loss: 1.6108 - val_loss: 1.4668\n",
            "Epoch 214/400\n",
            "156/156 [==============================] - 5s 32ms/step - loss: 1.6052 - val_loss: 1.4658\n",
            "Epoch 215/400\n",
            "156/156 [==============================] - 5s 31ms/step - loss: 1.6006 - val_loss: 1.4616\n",
            "Epoch 216/400\n",
            "156/156 [==============================] - 5s 32ms/step - loss: 1.6021 - val_loss: 1.4631\n",
            "Epoch 217/400\n",
            "156/156 [==============================] - 5s 31ms/step - loss: 1.5978 - val_loss: 1.4582\n",
            "Epoch 218/400\n",
            "156/156 [==============================] - 5s 31ms/step - loss: 1.6020 - val_loss: 1.4638\n",
            "Epoch 219/400\n",
            "156/156 [==============================] - 5s 32ms/step - loss: 1.6013 - val_loss: 1.4551\n",
            "Epoch 220/400\n",
            "156/156 [==============================] - 5s 31ms/step - loss: 1.6014 - val_loss: 1.4614\n",
            "Epoch 221/400\n",
            "156/156 [==============================] - 5s 31ms/step - loss: 1.5966 - val_loss: 1.4662\n",
            "Epoch 222/400\n",
            "156/156 [==============================] - 5s 31ms/step - loss: 1.5987 - val_loss: 1.4597\n",
            "Epoch 223/400\n",
            "156/156 [==============================] - 5s 31ms/step - loss: 1.5962 - val_loss: 1.4587\n",
            "Epoch 224/400\n",
            "156/156 [==============================] - 5s 32ms/step - loss: 1.6019 - val_loss: 1.4554\n",
            "Epoch 225/400\n",
            "156/156 [==============================] - 5s 31ms/step - loss: 1.6049 - val_loss: 1.4550\n",
            "Epoch 226/400\n",
            "156/156 [==============================] - 5s 32ms/step - loss: 1.5995 - val_loss: 1.4611\n",
            "Epoch 227/400\n",
            "156/156 [==============================] - 5s 30ms/step - loss: 1.6047 - val_loss: 1.4501\n",
            "Epoch 228/400\n",
            "156/156 [==============================] - 5s 31ms/step - loss: 1.5953 - val_loss: 1.4564\n",
            "Epoch 229/400\n",
            "156/156 [==============================] - 5s 31ms/step - loss: 1.6079 - val_loss: 1.4603\n",
            "Epoch 230/400\n",
            "156/156 [==============================] - 5s 31ms/step - loss: 1.5947 - val_loss: 1.4571\n",
            "Epoch 231/400\n",
            "156/156 [==============================] - 5s 31ms/step - loss: 1.5910 - val_loss: 1.4505\n",
            "Epoch 232/400\n",
            "156/156 [==============================] - 7s 44ms/step - loss: 1.6009 - val_loss: 1.4566\n",
            "Epoch 233/400\n",
            "156/156 [==============================] - 5s 31ms/step - loss: 1.5968 - val_loss: 1.4584\n",
            "Epoch 234/400\n",
            "156/156 [==============================] - 5s 32ms/step - loss: 1.5912 - val_loss: 1.4522\n",
            "Epoch 235/400\n",
            "156/156 [==============================] - 5s 31ms/step - loss: 1.5987 - val_loss: 1.4611\n",
            "Epoch 236/400\n",
            "156/156 [==============================] - 5s 31ms/step - loss: 1.5979 - val_loss: 1.4490\n",
            "Epoch 237/400\n",
            "156/156 [==============================] - 5s 31ms/step - loss: 1.5932 - val_loss: 1.4561\n",
            "Epoch 238/400\n",
            "156/156 [==============================] - 5s 32ms/step - loss: 1.5858 - val_loss: 1.4551\n",
            "Epoch 239/400\n",
            "156/156 [==============================] - 5s 32ms/step - loss: 1.5945 - val_loss: 1.4687\n",
            "Epoch 240/400\n",
            "156/156 [==============================] - 5s 32ms/step - loss: 1.5973 - val_loss: 1.4620\n",
            "Epoch 241/400\n",
            "156/156 [==============================] - 5s 32ms/step - loss: 1.5893 - val_loss: 1.4470\n",
            "Epoch 242/400\n",
            "156/156 [==============================] - 5s 33ms/step - loss: 1.5874 - val_loss: 1.4501\n",
            "Epoch 243/400\n",
            "156/156 [==============================] - 5s 33ms/step - loss: 1.5985 - val_loss: 1.4456\n",
            "Epoch 244/400\n",
            "156/156 [==============================] - 5s 32ms/step - loss: 1.5950 - val_loss: 1.4559\n",
            "Epoch 245/400\n",
            "156/156 [==============================] - 5s 32ms/step - loss: 1.5950 - val_loss: 1.4531\n",
            "Epoch 246/400\n",
            "156/156 [==============================] - 5s 31ms/step - loss: 1.5886 - val_loss: 1.4613\n",
            "Epoch 247/400\n",
            "156/156 [==============================] - 5s 32ms/step - loss: 1.5877 - val_loss: 1.4530\n",
            "Epoch 248/400\n",
            "156/156 [==============================] - 5s 31ms/step - loss: 1.5918 - val_loss: 1.4560\n",
            "Epoch 249/400\n",
            "156/156 [==============================] - 5s 31ms/step - loss: 1.5912 - val_loss: 1.4535\n",
            "Epoch 250/400\n",
            "156/156 [==============================] - 5s 31ms/step - loss: 1.5851 - val_loss: 1.4441\n",
            "Epoch 251/400\n",
            "156/156 [==============================] - 5s 31ms/step - loss: 1.5972 - val_loss: 1.4629\n",
            "Epoch 252/400\n",
            "156/156 [==============================] - 5s 31ms/step - loss: 1.5890 - val_loss: 1.4471\n",
            "Epoch 253/400\n",
            "156/156 [==============================] - 5s 32ms/step - loss: 1.5877 - val_loss: 1.4481\n",
            "Epoch 254/400\n",
            "156/156 [==============================] - 5s 32ms/step - loss: 1.5875 - val_loss: 1.4450\n",
            "Epoch 255/400\n",
            "156/156 [==============================] - 5s 32ms/step - loss: 1.5958 - val_loss: 1.4441\n",
            "Epoch 256/400\n",
            "156/156 [==============================] - 5s 32ms/step - loss: 1.5867 - val_loss: 1.4487\n",
            "Epoch 257/400\n",
            "156/156 [==============================] - 7s 43ms/step - loss: 1.5822 - val_loss: 1.4484\n",
            "Epoch 258/400\n",
            "156/156 [==============================] - 6s 36ms/step - loss: 1.5827 - val_loss: 1.4495\n",
            "Epoch 259/400\n",
            "156/156 [==============================] - 5s 32ms/step - loss: 1.5842 - val_loss: 1.4517\n",
            "Epoch 260/400\n",
            "156/156 [==============================] - 5s 32ms/step - loss: 1.5884 - val_loss: 1.4603\n",
            "Epoch 261/400\n",
            "156/156 [==============================] - 5s 33ms/step - loss: 1.5843 - val_loss: 1.4479\n",
            "Epoch 262/400\n",
            "156/156 [==============================] - 5s 32ms/step - loss: 1.5914 - val_loss: 1.4565\n",
            "Epoch 263/400\n",
            "156/156 [==============================] - 5s 32ms/step - loss: 1.5877 - val_loss: 1.4498\n",
            "Epoch 264/400\n",
            "156/156 [==============================] - 5s 33ms/step - loss: 1.5828 - val_loss: 1.4445\n",
            "Epoch 265/400\n",
            "156/156 [==============================] - 5s 33ms/step - loss: 1.5857 - val_loss: 1.4517\n",
            "Epoch 266/400\n",
            "156/156 [==============================] - 5s 32ms/step - loss: 1.5873 - val_loss: 1.4483\n",
            "Epoch 267/400\n",
            "156/156 [==============================] - 5s 32ms/step - loss: 1.5814 - val_loss: 1.4382\n",
            "Epoch 268/400\n",
            "156/156 [==============================] - 5s 31ms/step - loss: 1.5815 - val_loss: 1.4572\n",
            "Epoch 269/400\n",
            "156/156 [==============================] - 5s 32ms/step - loss: 1.5854 - val_loss: 1.4434\n",
            "Epoch 270/400\n",
            "156/156 [==============================] - 5s 32ms/step - loss: 1.5778 - val_loss: 1.4419\n",
            "Epoch 271/400\n",
            "156/156 [==============================] - 5s 33ms/step - loss: 1.5850 - val_loss: 1.4555\n",
            "Epoch 272/400\n",
            "156/156 [==============================] - 5s 33ms/step - loss: 1.5790 - val_loss: 1.4452\n",
            "Epoch 273/400\n",
            "156/156 [==============================] - 5s 33ms/step - loss: 1.5803 - val_loss: 1.4509\n",
            "Epoch 274/400\n",
            "156/156 [==============================] - 5s 33ms/step - loss: 1.5812 - val_loss: 1.4455\n",
            "Epoch 275/400\n",
            "156/156 [==============================] - 5s 32ms/step - loss: 1.5774 - val_loss: 1.4465\n",
            "Epoch 276/400\n",
            "156/156 [==============================] - 5s 31ms/step - loss: 1.5782 - val_loss: 1.4528\n",
            "Epoch 277/400\n",
            "156/156 [==============================] - 5s 31ms/step - loss: 1.5893 - val_loss: 1.4508\n",
            "Epoch 278/400\n",
            "156/156 [==============================] - 5s 32ms/step - loss: 1.5790 - val_loss: 1.4383\n",
            "Epoch 279/400\n",
            "156/156 [==============================] - 5s 32ms/step - loss: 1.5853 - val_loss: 1.4464\n",
            "Epoch 280/400\n",
            "156/156 [==============================] - 5s 31ms/step - loss: 1.5838 - val_loss: 1.4464\n",
            "Epoch 281/400\n",
            "156/156 [==============================] - 5s 32ms/step - loss: 1.5764 - val_loss: 1.4543\n",
            "Epoch 282/400\n",
            "156/156 [==============================] - 5s 32ms/step - loss: 1.5757 - val_loss: 1.4373\n",
            "Epoch 283/400\n",
            "156/156 [==============================] - 7s 45ms/step - loss: 1.5749 - val_loss: 1.4521\n",
            "Epoch 284/400\n",
            "156/156 [==============================] - 5s 32ms/step - loss: 1.5851 - val_loss: 1.4429\n",
            "Epoch 285/400\n",
            "156/156 [==============================] - 5s 33ms/step - loss: 1.5917 - val_loss: 1.4472\n",
            "Epoch 286/400\n",
            "156/156 [==============================] - 5s 33ms/step - loss: 1.5774 - val_loss: 1.4663\n",
            "Epoch 287/400\n",
            "156/156 [==============================] - 5s 32ms/step - loss: 1.5810 - val_loss: 1.4429\n",
            "Epoch 288/400\n",
            "156/156 [==============================] - 5s 32ms/step - loss: 1.5795 - val_loss: 1.4498\n",
            "Epoch 289/400\n",
            "156/156 [==============================] - 5s 33ms/step - loss: 1.5813 - val_loss: 1.4468\n",
            "Epoch 290/400\n",
            "156/156 [==============================] - 5s 32ms/step - loss: 1.5784 - val_loss: 1.4501\n",
            "Epoch 291/400\n",
            "156/156 [==============================] - 5s 32ms/step - loss: 1.5939 - val_loss: 1.4382\n",
            "Epoch 292/400\n",
            "156/156 [==============================] - 5s 32ms/step - loss: 1.5778 - val_loss: 1.4371\n",
            "Epoch 293/400\n",
            "156/156 [==============================] - 5s 32ms/step - loss: 1.5816 - val_loss: 1.4419\n",
            "Epoch 294/400\n",
            "156/156 [==============================] - 5s 32ms/step - loss: 1.5714 - val_loss: 1.4484\n",
            "Epoch 295/400\n",
            "156/156 [==============================] - 5s 33ms/step - loss: 1.5795 - val_loss: 1.4552\n",
            "Epoch 296/400\n",
            "156/156 [==============================] - 5s 32ms/step - loss: 1.5798 - val_loss: 1.4427\n",
            "Epoch 297/400\n",
            "156/156 [==============================] - 5s 32ms/step - loss: 1.5820 - val_loss: 1.4442\n",
            "Epoch 298/400\n",
            "156/156 [==============================] - 5s 33ms/step - loss: 1.5742 - val_loss: 1.4562\n",
            "Epoch 299/400\n",
            "156/156 [==============================] - 5s 32ms/step - loss: 1.5783 - val_loss: 1.4491\n",
            "Epoch 300/400\n",
            "156/156 [==============================] - 5s 32ms/step - loss: 1.5855 - val_loss: 1.4403\n",
            "Epoch 301/400\n",
            "156/156 [==============================] - 5s 33ms/step - loss: 1.5732 - val_loss: 1.4421\n",
            "Epoch 302/400\n",
            "156/156 [==============================] - 5s 32ms/step - loss: 1.5763 - val_loss: 1.4469\n",
            "Epoch 303/400\n",
            "156/156 [==============================] - 5s 32ms/step - loss: 1.5804 - val_loss: 1.4420\n",
            "Epoch 304/400\n",
            "156/156 [==============================] - 5s 33ms/step - loss: 1.5792 - val_loss: 1.4390\n",
            "Epoch 305/400\n",
            "156/156 [==============================] - 5s 33ms/step - loss: 1.5804 - val_loss: 1.4495\n",
            "Epoch 306/400\n",
            "156/156 [==============================] - 5s 32ms/step - loss: 1.5729 - val_loss: 1.4325\n",
            "Epoch 307/400\n",
            "156/156 [==============================] - 5s 32ms/step - loss: 1.5741 - val_loss: 1.4433\n",
            "Epoch 308/400\n",
            "156/156 [==============================] - 7s 45ms/step - loss: 1.5771 - val_loss: 1.4444\n",
            "Epoch 309/400\n",
            "156/156 [==============================] - 5s 33ms/step - loss: 1.5675 - val_loss: 1.4411\n",
            "Epoch 310/400\n",
            "156/156 [==============================] - 5s 32ms/step - loss: 1.5724 - val_loss: 1.4425\n",
            "Epoch 311/400\n",
            "156/156 [==============================] - 5s 31ms/step - loss: 1.5698 - val_loss: 1.4355\n",
            "Epoch 312/400\n",
            "156/156 [==============================] - 5s 32ms/step - loss: 1.5667 - val_loss: 1.4359\n",
            "Epoch 313/400\n",
            "156/156 [==============================] - 5s 33ms/step - loss: 1.5763 - val_loss: 1.4359\n",
            "Epoch 314/400\n",
            "156/156 [==============================] - 5s 33ms/step - loss: 1.5725 - val_loss: 1.4368\n",
            "Epoch 315/400\n",
            "156/156 [==============================] - 5s 32ms/step - loss: 1.5755 - val_loss: 1.4471\n",
            "Epoch 316/400\n",
            "156/156 [==============================] - 5s 32ms/step - loss: 1.5725 - val_loss: 1.4529\n",
            "Epoch 317/400\n",
            "156/156 [==============================] - 5s 32ms/step - loss: 1.5750 - val_loss: 1.4478\n",
            "Epoch 318/400\n",
            "156/156 [==============================] - 5s 33ms/step - loss: 1.5710 - val_loss: 1.4532\n",
            "Epoch 319/400\n",
            "156/156 [==============================] - 5s 32ms/step - loss: 1.5716 - val_loss: 1.4423\n",
            "Epoch 320/400\n",
            "156/156 [==============================] - 5s 34ms/step - loss: 1.5705 - val_loss: 1.4364\n",
            "Epoch 321/400\n",
            "156/156 [==============================] - 5s 33ms/step - loss: 1.5709 - val_loss: 1.4463\n",
            "Epoch 322/400\n",
            "156/156 [==============================] - 5s 33ms/step - loss: 1.5692 - val_loss: 1.4486\n",
            "Epoch 323/400\n",
            "156/156 [==============================] - 5s 33ms/step - loss: 1.5664 - val_loss: 1.4452\n",
            "Epoch 324/400\n",
            "156/156 [==============================] - 5s 32ms/step - loss: 1.5710 - val_loss: 1.4445\n",
            "Epoch 325/400\n",
            "156/156 [==============================] - 5s 33ms/step - loss: 1.5765 - val_loss: 1.4408\n",
            "Epoch 326/400\n",
            "156/156 [==============================] - 5s 33ms/step - loss: 1.5674 - val_loss: 1.4527\n",
            "Epoch 00326: early stopping\n"
          ]
        }
      ],
      "source": [
        "model_1.compile(loss='mean_absolute_error', optimizer='adam')\n",
        "# Training sẽ dừng khi \"val_loss\" không giảm (mode='min') sau 10 epochs(patience=10)\n",
        "earlyStop=EarlyStopping(monitor=\"val_loss\",verbose=2,mode='min',patience=20)\n",
        "losses_2 = model_1.fit(X_tr_t, y_train, validation_data=(X_vl_t, y_val), batch_size=256, epochs=400, callbacks=[earlyStop])"
      ]
    },
    {
      "cell_type": "markdown",
      "metadata": {
        "id": "7v-IDJybGSiH"
      },
      "source": [
        "#### Loss graph"
      ]
    },
    {
      "cell_type": "code",
      "execution_count": 32,
      "metadata": {
        "colab": {
          "base_uri": "https://localhost:8080/",
          "height": 282
        },
        "id": "6RdmD7L0GTL1",
        "outputId": "f8512984-75fe-40b6-ff04-df096d9438ee"
      },
      "outputs": [
        {
          "data": {
            "text/plain": [
              "<matplotlib.axes._subplots.AxesSubplot at 0x7fdfb334c6d0>"
            ]
          },
          "execution_count": 32,
          "metadata": {},
          "output_type": "execute_result"
        },
        {
          "data": {
            "image/png": "[encoded data removed]",
            "text/plain": [
              "<Figure size 432x288 with 1 Axes>"
            ]
          },
          "metadata": {
            "needs_background": "light"
          },
          "output_type": "display_data"
        }
      ],
      "source": [
        "loss_df_2 = pd.DataFrame(losses_2.history)\n",
        "loss_df_2.loc[:,['loss','val_loss']].plot(color = ['darkorange','midnightblue'])"
      ]
    },
    {
      "cell_type": "markdown",
      "metadata": {
        "id": "L0ovoAIlGfHE"
      },
      "source": [
        "#### Loss values"
      ]
    },
    {
      "cell_type": "code",
      "execution_count": 33,
      "metadata": {
        "colab": {
          "base_uri": "https://localhost:8080/"
        },
        "id": "O3cWWK43GftG",
        "outputId": "8874f442-e6b6-4f3a-ea35-0fb7dde44012"
      },
      "outputs": [
        {
          "name": "stdout",
          "output_type": "stream",
          "text": [
            "17689/17689 [==============================] - 62s 3ms/step - loss: 1.4528\n"
          ]
        }
      ],
      "source": [
        "score_mae = model_1.evaluate(X_tst_t, y_test, batch_size=1)\n",
        "y_pred_lstm_2 = model_1.predict(X_tst_t)"
      ]
    },
    {
      "cell_type": "code",
      "execution_count": 34,
      "metadata": {
        "id": "NLkCaMPgIFP9"
      },
      "outputs": [],
      "source": [
        "compa_k_mae.append(score_mae)"
      ]
    },
    {
      "cell_type": "code",
      "execution_count": 35,
      "metadata": {
        "colab": {
          "base_uri": "https://localhost:8080/"
        },
        "id": "IZ3xVuWXIE5N",
        "outputId": "ef6f6902-aeff-4fba-bcab-3898854a3701"
      },
      "outputs": [
        {
          "name": "stdout",
          "output_type": "stream",
          "text": [
            "mae: 1.452792\n"
          ]
        }
      ],
      "source": [
        "print('mae: %f'%score_mae)"
      ]
    },
    {
      "cell_type": "code",
      "execution_count": 36,
      "metadata": {
        "colab": {
          "base_uri": "https://localhost:8080/"
        },
        "id": "jxTwiKWDIGg9",
        "outputId": "fe569bff-76e0-4269-ed31-0c0e9f838081"
      },
      "outputs": [
        {
          "name": "stdout",
          "output_type": "stream",
          "text": [
            "predicted response:\n",
            "[[5.80373478e+09]\n",
            " [4.54706240e+09]\n",
            " [3.33018732e+09]\n",
            " [5.08678532e+09]\n",
            " [5.64867115e+09]\n",
            " [1.68441224e+09]\n",
            " [1.92426205e+09]\n",
            " [7.54811764e+09]\n",
            " [3.61994123e+09]\n",
            " [6.55356932e+09]]\n",
            "actual:\n",
            "22453    6.600000e+09\n",
            "68000    5.500000e+09\n",
            "24488    1.680000e+09\n",
            "6208     4.150000e+09\n",
            "69780    7.090000e+09\n",
            "43825    2.200000e+09\n",
            "1208     1.500000e+09\n",
            "52345    8.600000e+09\n",
            "63577    4.150000e+09\n",
            "19916    7.500000e+09\n",
            "Name: price, dtype: float64\n"
          ]
        }
      ],
      "source": [
        "print(f\"predicted response:\\n{y_pred_lstm_2[:10]*one_billion}\")\n",
        "print(f\"actual:\\n{y_test.iloc[0:10]*one_billion}\")"
      ]
    },
    {
      "cell_type": "code",
      "execution_count": 37,
      "metadata": {
        "colab": {
          "base_uri": "https://localhost:8080/"
        },
        "id": "Tqfxn6S5IGXe",
        "outputId": "3b1dc636-fc70-4dff-a671-202b101c216b"
      },
      "outputs": [
        {
          "name": "stdout",
          "output_type": "stream",
          "text": [
            "The number of negative prediction:  0\n",
            "Percent correct prediction:  54.18056419243597\n"
          ]
        }
      ],
      "source": [
        "error, negative_integer = find_prediction_error_value(y_test, y_pred_lstm_2)\n",
        "print(\"The number of negative prediction: \", len(negative_integer))\n",
        "print(\"Percent correct prediction: \", (len(y_test) - len(error))/len(y_test)*100)"
      ]
    },
    {
      "cell_type": "markdown",
      "metadata": {
        "id": "BHxNowVIGIvN"
      },
      "source": [
        "### RMSE"
      ]
    },
    {
      "cell_type": "code",
      "execution_count": 38,
      "metadata": {
        "colab": {
          "base_uri": "https://localhost:8080/"
        },
        "id": "pyCLP2l6GKFl",
        "outputId": "ca7771f6-7fda-4ca0-9db1-bd63a0808599"
      },
      "outputs": [
        {
          "name": "stdout",
          "output_type": "stream",
          "text": [
            "Epoch 1/400\n",
            "156/156 [==============================] - 13s 38ms/step - loss: 2.3189 - val_loss: 2.1502\n",
            "Epoch 2/400\n",
            "156/156 [==============================] - 5s 32ms/step - loss: 2.2971 - val_loss: 2.1527\n",
            "Epoch 3/400\n",
            "156/156 [==============================] - 5s 32ms/step - loss: 2.3109 - val_loss: 2.1405\n",
            "Epoch 4/400\n",
            "156/156 [==============================] - 5s 32ms/step - loss: 2.3046 - val_loss: 2.1480\n",
            "Epoch 5/400\n",
            "156/156 [==============================] - 5s 32ms/step - loss: 2.3121 - val_loss: 2.1493\n",
            "Epoch 6/400\n",
            "156/156 [==============================] - 5s 31ms/step - loss: 2.3116 - val_loss: 2.1453\n",
            "Epoch 7/400\n",
            "156/156 [==============================] - 5s 31ms/step - loss: 2.3065 - val_loss: 2.1523\n",
            "Epoch 8/400\n",
            "156/156 [==============================] - 5s 32ms/step - loss: 2.2943 - val_loss: 2.1439\n",
            "Epoch 9/400\n",
            "156/156 [==============================] - 5s 31ms/step - loss: 2.2902 - val_loss: 2.1396\n",
            "Epoch 10/400\n",
            "156/156 [==============================] - 7s 43ms/step - loss: 2.3038 - val_loss: 2.1489\n",
            "Epoch 11/400\n",
            "156/156 [==============================] - 5s 31ms/step - loss: 2.2947 - val_loss: 2.1469\n",
            "Epoch 12/400\n",
            "156/156 [==============================] - 5s 32ms/step - loss: 2.2907 - val_loss: 2.1417\n",
            "Epoch 13/400\n",
            "156/156 [==============================] - 5s 32ms/step - loss: 2.2976 - val_loss: 2.1359\n",
            "Epoch 14/400\n",
            "156/156 [==============================] - 5s 31ms/step - loss: 2.2912 - val_loss: 2.1445\n",
            "Epoch 15/400\n",
            "156/156 [==============================] - 5s 32ms/step - loss: 2.3006 - val_loss: 2.1377\n",
            "Epoch 16/400\n",
            "156/156 [==============================] - 5s 31ms/step - loss: 2.3012 - val_loss: 2.1441\n",
            "Epoch 17/400\n",
            "156/156 [==============================] - 5s 32ms/step - loss: 2.2851 - val_loss: 2.1402\n",
            "Epoch 18/400\n",
            "156/156 [==============================] - 5s 31ms/step - loss: 2.2855 - val_loss: 2.1353\n",
            "Epoch 19/400\n",
            "156/156 [==============================] - 5s 31ms/step - loss: 2.2928 - val_loss: 2.1428\n",
            "Epoch 20/400\n",
            "156/156 [==============================] - 5s 32ms/step - loss: 2.2855 - val_loss: 2.1432\n",
            "Epoch 21/400\n",
            "156/156 [==============================] - 5s 32ms/step - loss: 2.2824 - val_loss: 2.1303\n",
            "Epoch 22/400\n",
            "156/156 [==============================] - 5s 31ms/step - loss: 2.2836 - val_loss: 2.1366\n",
            "Epoch 23/400\n",
            "156/156 [==============================] - 5s 30ms/step - loss: 2.2875 - val_loss: 2.1603\n",
            "Epoch 24/400\n",
            "156/156 [==============================] - 5s 31ms/step - loss: 2.2788 - val_loss: 2.1668\n",
            "Epoch 25/400\n",
            "156/156 [==============================] - 5s 31ms/step - loss: 2.2786 - val_loss: 2.1347\n",
            "Epoch 26/400\n",
            "156/156 [==============================] - 5s 31ms/step - loss: 2.2746 - val_loss: 2.1455\n",
            "Epoch 27/400\n",
            "156/156 [==============================] - 5s 31ms/step - loss: 2.2859 - val_loss: 2.1311\n",
            "Epoch 28/400\n",
            "156/156 [==============================] - 5s 30ms/step - loss: 2.2905 - val_loss: 2.1696\n",
            "Epoch 29/400\n",
            "156/156 [==============================] - 5s 31ms/step - loss: 2.2829 - val_loss: 2.1447\n",
            "Epoch 30/400\n",
            "156/156 [==============================] - 5s 30ms/step - loss: 2.2727 - val_loss: 2.1382\n",
            "Epoch 31/400\n",
            "156/156 [==============================] - 5s 31ms/step - loss: 2.2903 - val_loss: 2.1445\n",
            "Epoch 32/400\n",
            "156/156 [==============================] - 5s 31ms/step - loss: 2.2799 - val_loss: 2.1410\n",
            "Epoch 33/400\n",
            "156/156 [==============================] - 5s 31ms/step - loss: 2.2673 - val_loss: 2.1379\n",
            "Epoch 34/400\n",
            "156/156 [==============================] - 5s 31ms/step - loss: 2.2706 - val_loss: 2.1427\n",
            "Epoch 35/400\n",
            "156/156 [==============================] - 5s 31ms/step - loss: 2.2903 - val_loss: 2.1352\n",
            "Epoch 36/400\n",
            "156/156 [==============================] - 6s 39ms/step - loss: 2.2798 - val_loss: 2.1303\n",
            "Epoch 37/400\n",
            "156/156 [==============================] - 6s 35ms/step - loss: 2.2827 - val_loss: 2.1383\n",
            "Epoch 38/400\n",
            "156/156 [==============================] - 5s 30ms/step - loss: 2.2683 - val_loss: 2.1315\n",
            "Epoch 39/400\n",
            "156/156 [==============================] - 5s 30ms/step - loss: 2.2810 - val_loss: 2.1306\n",
            "Epoch 40/400\n",
            "156/156 [==============================] - 5s 30ms/step - loss: 2.2712 - val_loss: 2.1371\n",
            "Epoch 41/400\n",
            "156/156 [==============================] - 5s 30ms/step - loss: 2.2772 - val_loss: 2.1434\n",
            "Epoch 00041: early stopping\n"
          ]
        }
      ],
      "source": [
        "model_1.compile(loss=root_mean_squared_error, optimizer='adam')\n",
        "# Training sẽ dừng khi \"val_loss\" không giảm (mode='min') sau 10 epochs(patience=10)\n",
        "earlyStop=EarlyStopping(monitor=\"val_loss\",verbose=2,mode='min',patience=20)\n",
        "losses_3 = model_1.fit(X_tr_t, y_train, validation_data=(X_vl_t, y_val), batch_size=256, epochs=400, callbacks=[earlyStop])"
      ]
    },
    {
      "cell_type": "markdown",
      "metadata": {
        "id": "t_Su5NJsGToF"
      },
      "source": [
        "#### Loss graph"
      ]
    },
    {
      "cell_type": "code",
      "execution_count": 39,
      "metadata": {
        "colab": {
          "base_uri": "https://localhost:8080/",
          "height": 283
        },
        "id": "1k6LskTrGUXF",
        "outputId": "81398547-506f-4e37-93c7-35fb698de31a"
      },
      "outputs": [
        {
          "data": {
            "text/plain": [
              "<matplotlib.axes._subplots.AxesSubplot at 0x7fdfa2655650>"
            ]
          },
          "execution_count": 39,
          "metadata": {},
          "output_type": "execute_result"
        },
        {
          "data": {
            "image/png": "[encoded data removed]",
            "text/plain": [
              "<Figure size 432x288 with 1 Axes>"
            ]
          },
          "metadata": {
            "needs_background": "light"
          },
          "output_type": "display_data"
        }
      ],
      "source": [
        "loss_df_3 = pd.DataFrame(losses_3.history)\n",
        "loss_df_3.loc[:,['loss','val_loss']].plot(color = ['darkorange','midnightblue'])"
      ]
    },
    {
      "cell_type": "markdown",
      "metadata": {
        "id": "z3bG0w1nGdY9"
      },
      "source": [
        "#### Loss values"
      ]
    },
    {
      "cell_type": "code",
      "execution_count": 40,
      "metadata": {
        "colab": {
          "base_uri": "https://localhost:8080/"
        },
        "id": "rNOvLlpAGeDF",
        "outputId": "76654af5-4f3e-40c9-ddf6-251ea1420a88"
      },
      "outputs": [
        {
          "name": "stdout",
          "output_type": "stream",
          "text": [
            "17689/17689 [==============================] - 61s 3ms/step - loss: 1.4747\n"
          ]
        }
      ],
      "source": [
        "score_rmse = model_1.evaluate(X_tst_t, y_test, batch_size=1)\n",
        "y_pred_lstm_3 = model_1.predict(X_tst_t)"
      ]
    },
    {
      "cell_type": "code",
      "execution_count": 41,
      "metadata": {
        "id": "VefQdp85IPOF"
      },
      "outputs": [],
      "source": [
        "compa_k_rmse.append(score_rmse)"
      ]
    },
    {
      "cell_type": "code",
      "execution_count": 42,
      "metadata": {
        "colab": {
          "base_uri": "https://localhost:8080/"
        },
        "id": "v_Hbhw0gIPAG",
        "outputId": "8666d484-450a-4353-c6bb-ed75fd27d166"
      },
      "outputs": [
        {
          "name": "stdout",
          "output_type": "stream",
          "text": [
            "rmse: 1.474714\n"
          ]
        }
      ],
      "source": [
        "print('rmse: %f'%score_rmse)"
      ]
    },
    {
      "cell_type": "code",
      "execution_count": 43,
      "metadata": {
        "colab": {
          "base_uri": "https://localhost:8080/"
        },
        "id": "f4O6OdsgIO31",
        "outputId": "0015995d-a8d1-4ae2-a3d8-9019a486d6a9"
      },
      "outputs": [
        {
          "name": "stdout",
          "output_type": "stream",
          "text": [
            "predicted response:\n",
            "[[5.92996693e+09]\n",
            " [4.59288502e+09]\n",
            " [3.99176311e+09]\n",
            " [5.46823788e+09]\n",
            " [5.86041307e+09]\n",
            " [1.74761152e+09]\n",
            " [2.52634168e+09]\n",
            " [8.13328457e+09]\n",
            " [3.61300135e+09]\n",
            " [6.91611242e+09]]\n",
            "actual:\n",
            "22453    6.600000e+09\n",
            "68000    5.500000e+09\n",
            "24488    1.680000e+09\n",
            "6208     4.150000e+09\n",
            "69780    7.090000e+09\n",
            "43825    2.200000e+09\n",
            "1208     1.500000e+09\n",
            "52345    8.600000e+09\n",
            "63577    4.150000e+09\n",
            "19916    7.500000e+09\n",
            "Name: price, dtype: float64\n"
          ]
        }
      ],
      "source": [
        "print(f\"predicted response:\\n{y_pred_lstm_3[:10]*one_billion}\")\n",
        "print(f\"actual:\\n{y_test.iloc[0:10]*one_billion}\")"
      ]
    },
    {
      "cell_type": "code",
      "execution_count": 44,
      "metadata": {
        "colab": {
          "base_uri": "https://localhost:8080/"
        },
        "id": "UrAsXTwUIOsV",
        "outputId": "49ea0e5c-7c3e-44ea-8aa9-054b6c9d8cb2"
      },
      "outputs": [
        {
          "name": "stdout",
          "output_type": "stream",
          "text": [
            "The number of negative prediction:  0\n",
            "Percent correct prediction:  50.91865000847985\n"
          ]
        }
      ],
      "source": [
        "error, negative_integer = find_prediction_error_value(y_test, y_pred_lstm_3)\n",
        "print(\"The number of negative prediction: \", len(negative_integer))\n",
        "print(\"Percent correct prediction: \", (len(y_test) - len(error))/len(y_test)*100)"
      ]
    },
    {
      "cell_type": "markdown",
      "metadata": {
        "id": "5GN1walLGKVt"
      },
      "source": [
        "### R2"
      ]
    },
    {
      "cell_type": "code",
      "execution_count": 45,
      "metadata": {
        "colab": {
          "base_uri": "https://localhost:8080/"
        },
        "id": "1iVls9gTGL31",
        "outputId": "ef7ede3b-23b0-4f33-fd7c-0c2e3b17a580"
      },
      "outputs": [
        {
          "name": "stdout",
          "output_type": "stream",
          "text": [
            "Epoch 1/400\n",
            "156/156 [==============================] - 13s 36ms/step - loss: 5.2221 - val_loss: 4.5978\n",
            "Epoch 2/400\n",
            "156/156 [==============================] - 5s 31ms/step - loss: 5.2313 - val_loss: 4.5966\n",
            "Epoch 3/400\n",
            "156/156 [==============================] - 5s 31ms/step - loss: 5.1630 - val_loss: 4.5744\n",
            "Epoch 4/400\n",
            "156/156 [==============================] - 5s 31ms/step - loss: 5.2027 - val_loss: 4.6523\n",
            "Epoch 5/400\n",
            "156/156 [==============================] - 5s 30ms/step - loss: 5.2321 - val_loss: 4.6093\n",
            "Epoch 6/400\n",
            "156/156 [==============================] - 5s 31ms/step - loss: 5.1897 - val_loss: 4.5525\n",
            "Epoch 7/400\n",
            "156/156 [==============================] - 5s 30ms/step - loss: 5.1557 - val_loss: 4.6113\n",
            "Epoch 8/400\n",
            "156/156 [==============================] - 5s 32ms/step - loss: 5.1654 - val_loss: 4.6271\n",
            "Epoch 9/400\n",
            "156/156 [==============================] - 5s 30ms/step - loss: 5.2036 - val_loss: 4.5648\n",
            "Epoch 10/400\n",
            "156/156 [==============================] - 5s 31ms/step - loss: 5.1758 - val_loss: 4.5798\n",
            "Epoch 11/400\n",
            "156/156 [==============================] - 5s 30ms/step - loss: 5.1785 - val_loss: 4.5960\n",
            "Epoch 12/400\n",
            "156/156 [==============================] - 5s 30ms/step - loss: 5.1734 - val_loss: 4.5362\n",
            "Epoch 13/400\n",
            "156/156 [==============================] - 5s 31ms/step - loss: 5.1760 - val_loss: 4.5723\n",
            "Epoch 14/400\n",
            "156/156 [==============================] - 5s 30ms/step - loss: 5.1606 - val_loss: 4.5814\n",
            "Epoch 15/400\n",
            "156/156 [==============================] - 5s 31ms/step - loss: 5.2052 - val_loss: 4.6032\n",
            "Epoch 16/400\n",
            "156/156 [==============================] - 5s 31ms/step - loss: 5.2370 - val_loss: 4.5616\n",
            "Epoch 17/400\n",
            "156/156 [==============================] - 5s 32ms/step - loss: 5.1733 - val_loss: 4.5504\n",
            "Epoch 18/400\n",
            "156/156 [==============================] - 5s 32ms/step - loss: 5.1981 - val_loss: 4.6827\n",
            "Epoch 19/400\n",
            "156/156 [==============================] - 5s 32ms/step - loss: 5.2224 - val_loss: 4.6128\n",
            "Epoch 20/400\n",
            "156/156 [==============================] - 5s 31ms/step - loss: 5.1699 - val_loss: 4.5879\n",
            "Epoch 21/400\n",
            "156/156 [==============================] - 5s 31ms/step - loss: 5.1686 - val_loss: 4.5654\n",
            "Epoch 22/400\n",
            "156/156 [==============================] - 7s 44ms/step - loss: 5.1651 - val_loss: 4.5324\n",
            "Epoch 23/400\n",
            "156/156 [==============================] - 5s 30ms/step - loss: 5.1689 - val_loss: 4.5731\n",
            "Epoch 24/400\n",
            "156/156 [==============================] - 5s 31ms/step - loss: 5.1711 - val_loss: 4.5485\n",
            "Epoch 25/400\n",
            "156/156 [==============================] - 5s 32ms/step - loss: 5.0950 - val_loss: 4.5720\n",
            "Epoch 26/400\n",
            "156/156 [==============================] - 5s 32ms/step - loss: 5.1675 - val_loss: 4.5764\n",
            "Epoch 27/400\n",
            "156/156 [==============================] - 5s 31ms/step - loss: 5.0975 - val_loss: 4.5858\n",
            "Epoch 28/400\n",
            "156/156 [==============================] - 5s 31ms/step - loss: 5.1830 - val_loss: 4.6159\n",
            "Epoch 29/400\n",
            "156/156 [==============================] - 5s 32ms/step - loss: 5.1899 - val_loss: 4.6205\n",
            "Epoch 30/400\n",
            "156/156 [==============================] - 5s 31ms/step - loss: 5.1753 - val_loss: 4.5980\n",
            "Epoch 31/400\n",
            "156/156 [==============================] - 5s 32ms/step - loss: 5.1500 - val_loss: 4.6117\n",
            "Epoch 32/400\n",
            "156/156 [==============================] - 5s 32ms/step - loss: 5.1727 - val_loss: 4.5585\n",
            "Epoch 33/400\n",
            "156/156 [==============================] - 5s 32ms/step - loss: 5.1342 - val_loss: 4.5505\n",
            "Epoch 34/400\n",
            "156/156 [==============================] - 5s 32ms/step - loss: 5.1153 - val_loss: 4.5568\n",
            "Epoch 35/400\n",
            "156/156 [==============================] - 5s 31ms/step - loss: 5.1602 - val_loss: 4.5740\n",
            "Epoch 36/400\n",
            "156/156 [==============================] - 5s 32ms/step - loss: 5.1583 - val_loss: 4.5538\n",
            "Epoch 37/400\n",
            "156/156 [==============================] - 5s 31ms/step - loss: 5.1092 - val_loss: 4.5523\n",
            "Epoch 38/400\n",
            "156/156 [==============================] - 5s 31ms/step - loss: 5.1064 - val_loss: 4.5893\n",
            "Epoch 39/400\n",
            "156/156 [==============================] - 5s 31ms/step - loss: 5.1064 - val_loss: 4.5799\n",
            "Epoch 40/400\n",
            "156/156 [==============================] - 5s 31ms/step - loss: 5.1540 - val_loss: 4.5328\n",
            "Epoch 41/400\n",
            "156/156 [==============================] - 5s 30ms/step - loss: 5.1017 - val_loss: 4.5324\n",
            "Epoch 42/400\n",
            "156/156 [==============================] - 5s 31ms/step - loss: 5.1207 - val_loss: 4.5126\n",
            "Epoch 43/400\n",
            "156/156 [==============================] - 5s 31ms/step - loss: 5.1791 - val_loss: 4.5982\n",
            "Epoch 44/400\n",
            "156/156 [==============================] - 5s 30ms/step - loss: 5.1542 - val_loss: 4.5416\n",
            "Epoch 45/400\n",
            "156/156 [==============================] - 5s 30ms/step - loss: 5.1128 - val_loss: 4.5648\n",
            "Epoch 46/400\n",
            "156/156 [==============================] - 5s 30ms/step - loss: 5.1109 - val_loss: 4.5526\n",
            "Epoch 47/400\n",
            "156/156 [==============================] - 5s 31ms/step - loss: 5.1582 - val_loss: 4.5421\n",
            "Epoch 48/400\n",
            "156/156 [==============================] - 6s 36ms/step - loss: 5.1727 - val_loss: 4.5354\n",
            "Epoch 49/400\n",
            "156/156 [==============================] - 6s 36ms/step - loss: 5.1482 - val_loss: 4.5299\n",
            "Epoch 50/400\n",
            "156/156 [==============================] - 5s 31ms/step - loss: 5.1279 - val_loss: 4.5246\n",
            "Epoch 51/400\n",
            "156/156 [==============================] - 5s 31ms/step - loss: 5.1288 - val_loss: 4.5253\n",
            "Epoch 52/400\n",
            "156/156 [==============================] - 5s 31ms/step - loss: 5.1322 - val_loss: 4.5329\n",
            "Epoch 53/400\n",
            "156/156 [==============================] - 5s 30ms/step - loss: 5.1390 - val_loss: 4.5293\n",
            "Epoch 54/400\n",
            "156/156 [==============================] - 5s 30ms/step - loss: 5.1573 - val_loss: 4.5081\n",
            "Epoch 55/400\n",
            "156/156 [==============================] - 5s 30ms/step - loss: 5.1177 - val_loss: 4.5205\n",
            "Epoch 56/400\n",
            "156/156 [==============================] - 5s 31ms/step - loss: 5.1341 - val_loss: 4.5427\n",
            "Epoch 57/400\n",
            "156/156 [==============================] - 5s 31ms/step - loss: 5.1409 - val_loss: 4.5361\n",
            "Epoch 58/400\n",
            "156/156 [==============================] - 5s 31ms/step - loss: 5.0902 - val_loss: 4.5647\n",
            "Epoch 59/400\n",
            "156/156 [==============================] - 5s 31ms/step - loss: 5.1235 - val_loss: 4.5125\n",
            "Epoch 60/400\n",
            "156/156 [==============================] - 5s 30ms/step - loss: 5.1364 - val_loss: 4.5385\n",
            "Epoch 61/400\n",
            "156/156 [==============================] - 5s 30ms/step - loss: 5.1712 - val_loss: 4.6177\n",
            "Epoch 62/400\n",
            "156/156 [==============================] - 5s 31ms/step - loss: 5.1418 - val_loss: 4.5903\n",
            "Epoch 63/400\n",
            "156/156 [==============================] - 5s 30ms/step - loss: 5.0952 - val_loss: 4.4947\n",
            "Epoch 64/400\n",
            "156/156 [==============================] - 5s 30ms/step - loss: 5.0958 - val_loss: 4.5378\n",
            "Epoch 65/400\n",
            "156/156 [==============================] - 5s 31ms/step - loss: 5.1087 - val_loss: 4.5363\n",
            "Epoch 66/400\n",
            "156/156 [==============================] - 5s 31ms/step - loss: 5.1756 - val_loss: 4.5010\n",
            "Epoch 67/400\n",
            "156/156 [==============================] - 5s 31ms/step - loss: 5.1590 - val_loss: 4.5218\n",
            "Epoch 68/400\n",
            "156/156 [==============================] - 5s 31ms/step - loss: 5.1349 - val_loss: 4.5900\n",
            "Epoch 69/400\n",
            "156/156 [==============================] - 5s 31ms/step - loss: 5.1047 - val_loss: 4.5329\n",
            "Epoch 70/400\n",
            "156/156 [==============================] - 5s 31ms/step - loss: 5.0946 - val_loss: 4.5094\n",
            "Epoch 71/400\n",
            "156/156 [==============================] - 5s 30ms/step - loss: 5.1141 - val_loss: 4.5044\n",
            "Epoch 72/400\n",
            "156/156 [==============================] - 5s 31ms/step - loss: 5.1258 - val_loss: 4.5318\n",
            "Epoch 73/400\n",
            "156/156 [==============================] - 5s 32ms/step - loss: 5.0757 - val_loss: 4.4877\n",
            "Epoch 74/400\n",
            "156/156 [==============================] - 5s 31ms/step - loss: 5.0997 - val_loss: 4.5965\n",
            "Epoch 75/400\n",
            "156/156 [==============================] - 7s 44ms/step - loss: 5.1245 - val_loss: 4.5064\n",
            "Epoch 76/400\n",
            "156/156 [==============================] - 5s 31ms/step - loss: 5.1294 - val_loss: 4.5463\n",
            "Epoch 77/400\n",
            "156/156 [==============================] - 5s 31ms/step - loss: 5.0939 - val_loss: 4.5261\n",
            "Epoch 78/400\n",
            "156/156 [==============================] - 5s 31ms/step - loss: 5.0955 - val_loss: 4.5976\n",
            "Epoch 79/400\n",
            "156/156 [==============================] - 5s 31ms/step - loss: 5.0703 - val_loss: 4.6051\n",
            "Epoch 80/400\n",
            "156/156 [==============================] - 5s 30ms/step - loss: 5.1257 - val_loss: 4.5019\n",
            "Epoch 81/400\n",
            "156/156 [==============================] - 5s 31ms/step - loss: 5.1153 - val_loss: 4.5218\n",
            "Epoch 82/400\n",
            "156/156 [==============================] - 5s 31ms/step - loss: 5.0519 - val_loss: 4.5396\n",
            "Epoch 83/400\n",
            "156/156 [==============================] - 5s 31ms/step - loss: 5.1186 - val_loss: 4.4994\n",
            "Epoch 84/400\n",
            "156/156 [==============================] - 5s 31ms/step - loss: 5.1638 - val_loss: 4.5022\n",
            "Epoch 85/400\n",
            "156/156 [==============================] - 5s 32ms/step - loss: 5.0653 - val_loss: 4.5396\n",
            "Epoch 86/400\n",
            "156/156 [==============================] - 5s 31ms/step - loss: 5.1260 - val_loss: 4.5415\n",
            "Epoch 87/400\n",
            "156/156 [==============================] - 5s 31ms/step - loss: 5.0745 - val_loss: 4.5242\n",
            "Epoch 88/400\n",
            "156/156 [==============================] - 5s 31ms/step - loss: 5.1033 - val_loss: 4.5563\n",
            "Epoch 89/400\n",
            "156/156 [==============================] - 5s 31ms/step - loss: 5.1349 - val_loss: 4.5274\n",
            "Epoch 90/400\n",
            "156/156 [==============================] - 5s 30ms/step - loss: 5.0648 - val_loss: 4.4977\n",
            "Epoch 91/400\n",
            "156/156 [==============================] - 5s 31ms/step - loss: 5.0826 - val_loss: 4.5400\n",
            "Epoch 92/400\n",
            "156/156 [==============================] - 5s 31ms/step - loss: 5.0991 - val_loss: 4.4840\n",
            "Epoch 93/400\n",
            "156/156 [==============================] - 5s 32ms/step - loss: 5.0704 - val_loss: 4.5044\n",
            "Epoch 94/400\n",
            "156/156 [==============================] - 5s 32ms/step - loss: 5.0412 - val_loss: 4.4867\n",
            "Epoch 95/400\n",
            "156/156 [==============================] - 5s 32ms/step - loss: 5.0832 - val_loss: 4.5261\n",
            "Epoch 96/400\n",
            "156/156 [==============================] - 5s 32ms/step - loss: 5.0531 - val_loss: 4.5133\n",
            "Epoch 97/400\n",
            "156/156 [==============================] - 5s 31ms/step - loss: 5.0387 - val_loss: 4.5239\n",
            "Epoch 98/400\n",
            "156/156 [==============================] - 5s 32ms/step - loss: 5.0445 - val_loss: 4.5360\n",
            "Epoch 99/400\n",
            "156/156 [==============================] - 5s 31ms/step - loss: 5.0676 - val_loss: 4.4938\n",
            "Epoch 100/400\n",
            "156/156 [==============================] - 5s 31ms/step - loss: 5.0656 - val_loss: 4.5167\n",
            "Epoch 101/400\n",
            "156/156 [==============================] - 7s 44ms/step - loss: 5.0802 - val_loss: 4.5716\n",
            "Epoch 102/400\n",
            "156/156 [==============================] - 5s 31ms/step - loss: 5.0653 - val_loss: 4.5123\n",
            "Epoch 103/400\n",
            "156/156 [==============================] - 5s 30ms/step - loss: 5.0598 - val_loss: 4.4957\n",
            "Epoch 104/400\n",
            "156/156 [==============================] - 5s 31ms/step - loss: 5.0326 - val_loss: 4.5458\n",
            "Epoch 105/400\n",
            "156/156 [==============================] - 5s 31ms/step - loss: 5.0574 - val_loss: 4.5111\n",
            "Epoch 106/400\n",
            "156/156 [==============================] - 5s 31ms/step - loss: 5.0219 - val_loss: 4.5499\n",
            "Epoch 107/400\n",
            "156/156 [==============================] - 5s 30ms/step - loss: 5.0888 - val_loss: 4.5007\n",
            "Epoch 108/400\n",
            "156/156 [==============================] - 5s 30ms/step - loss: 5.0621 - val_loss: 4.5347\n",
            "Epoch 109/400\n",
            "156/156 [==============================] - 5s 31ms/step - loss: 5.0741 - val_loss: 4.5135\n",
            "Epoch 110/400\n",
            "156/156 [==============================] - 5s 32ms/step - loss: 5.0795 - val_loss: 4.4963\n",
            "Epoch 111/400\n",
            "156/156 [==============================] - 5s 31ms/step - loss: 5.0376 - val_loss: 4.4964\n",
            "Epoch 112/400\n",
            "156/156 [==============================] - 5s 31ms/step - loss: 5.0504 - val_loss: 4.5001\n",
            "Epoch 00112: early stopping\n"
          ]
        }
      ],
      "source": [
        "model_1.compile(loss='mean_squared_error', optimizer='adam')\n",
        "# Training sẽ dừng khi \"val_loss\" không giảm (mode='min') sau 10 epochs(patience=10)\n",
        "earlyStop=EarlyStopping(monitor=\"val_loss\",verbose=2,mode='min',patience=20)\n",
        "losses_5 = model_1.fit(X_tr_t, y_train, validation_data=(X_vl_t, y_val), batch_size=256, epochs=400, callbacks=[earlyStop])"
      ]
    },
    {
      "cell_type": "markdown",
      "metadata": {
        "id": "TVU0PYdaGog8"
      },
      "source": [
        "#### r2 values"
      ]
    },
    {
      "cell_type": "code",
      "execution_count": 46,
      "metadata": {
        "id": "pn8PTRGwGpX2"
      },
      "outputs": [],
      "source": [
        "y_pred_lstm_5 = model_1.predict(X_tst_t)\n",
        "score_r2 = r2_score(y_test, y_pred_lstm_5)"
      ]
    },
    {
      "cell_type": "code",
      "execution_count": 47,
      "metadata": {
        "id": "wp5Kk25cIZ-l"
      },
      "outputs": [],
      "source": [
        "compa_k_r2.append(score_r2)"
      ]
    },
    {
      "cell_type": "code",
      "execution_count": 48,
      "metadata": {
        "colab": {
          "base_uri": "https://localhost:8080/"
        },
        "id": "R1wgCuM0IbUY",
        "outputId": "d4445020-a377-437f-dc52-65812e89d8d7"
      },
      "outputs": [
        {
          "name": "stdout",
          "output_type": "stream",
          "text": [
            "r2: 0.659878\n"
          ]
        }
      ],
      "source": [
        "print('r2: %f'%score_r2)"
      ]
    },
    {
      "cell_type": "markdown",
      "metadata": {
        "id": "zkeawWyYPjqu"
      },
      "source": [
        "## Linear regression"
      ]
    },
    {
      "cell_type": "code",
      "execution_count": null,
      "metadata": {
        "id": "YWOaiMSYmdGm"
      },
      "outputs": [],
      "source": [
        "model_2 = LinearRegression()"
      ]
    },
    {
      "cell_type": "markdown",
      "metadata": {
        "id": "m1SOsPPDnkcM"
      },
      "source": [
        "### K-Fold"
      ]
    },
    {
      "cell_type": "code",
      "execution_count": null,
      "metadata": {
        "id": "MppLu4L2P3vH"
      },
      "outputs": [],
      "source": [
        "scores_2_mse = mean(absolute(cross_val_score(model_2, X, y, scoring='neg_mean_squared_error', cv=cv, n_jobs=-1)))\n",
        "scores_2_mae = mean(absolute(cross_val_score(model_2, X, y, scoring='neg_mean_absolute_error', cv=cv, n_jobs=-1)))\n",
        "scores_2_rmse = sqrt(mean(absolute(scores_2_mse)))\n",
        "scores_2_r2 = mean(absolute(cross_val_score(model_2, X, y, scoring='r2', cv=cv, n_jobs=-1)))"
      ]
    },
    {
      "cell_type": "code",
      "execution_count": null,
      "metadata": {
        "colab": {
          "base_uri": "https://localhost:8080/"
        },
        "id": "4VaQ8xV0QVLO",
        "outputId": "2a112ef1-6c75-449d-f17b-88056bed60ea"
      },
      "outputs": [
        {
          "data": {
            "text/plain": [
              "LinearRegression()"
            ]
          },
          "execution_count": 29,
          "metadata": {},
          "output_type": "execute_result"
        }
      ],
      "source": [
        "model_2.fit(X_train, y_train)"
      ]
    },
    {
      "cell_type": "code",
      "execution_count": null,
      "metadata": {
        "colab": {
          "base_uri": "https://localhost:8080/"
        },
        "id": "R6AzHQAUQgoP",
        "outputId": "3cd21d8e-2e89-4c48-d29a-2cc84c769255"
      },
      "outputs": [
        {
          "name": "stdout",
          "output_type": "stream",
          "text": [
            "0.4900927613952716\n",
            "[ 0.89433076  1.63730362  6.80140122  1.00714889 -2.15790796 -2.71670225\n",
            "  1.77076106  2.13030625  3.46237255 -1.82436249  0.0355535 ]\n",
            "2.213403646598363\n"
          ]
        }
      ],
      "source": [
        "y_pred_2 = model_2.predict(X_test)\n",
        "# Sai số huấn luyện của mô hình trên tập train\n",
        "print(model_2.score(X_train, y_train))\n",
        "# Hệ số hồi qui và hệ số chặn\n",
        "print(model_2.coef_)\n",
        "print(model_2.intercept_)"
      ]
    },
    {
      "cell_type": "code",
      "execution_count": null,
      "metadata": {
        "colab": {
          "base_uri": "https://localhost:8080/"
        },
        "id": "pPJKhj2rLsWG",
        "outputId": "efcb6523-9036-4205-a6a1-e878ea19c28f"
      },
      "outputs": [
        {
          "name": "stdout",
          "output_type": "stream",
          "text": [
            "predicted response:\n",
            "[6.79548073e+09 4.61437297e+09 2.90548324e+09 7.63308716e+09\n",
            " 6.94901681e+09 2.18265163e+09 6.69628635e+09 9.57021866e+09\n",
            " 3.41403365e+09 8.12017079e+09]\n",
            "actual:\n",
            "22453    6.600000e+09\n",
            "68000    5.500000e+09\n",
            "24488    1.680000e+09\n",
            "6208     4.150000e+09\n",
            "69780    7.090000e+09\n",
            "43825    2.200000e+09\n",
            "1208     1.500000e+09\n",
            "52345    8.600000e+09\n",
            "63577    4.150000e+09\n",
            "19916    7.500000e+09\n",
            "Name: price, dtype: float64\n"
          ]
        }
      ],
      "source": [
        "print(f\"predicted response:\\n{y_pred_2[:10]*one_billion}\")\n",
        "print(f\"actual:\\n{y_test.iloc[0:10]*one_billion}\")"
      ]
    },
    {
      "cell_type": "markdown",
      "metadata": {
        "id": "JX8v2HwXntjd"
      },
      "source": [
        "### Loss values"
      ]
    },
    {
      "cell_type": "code",
      "execution_count": null,
      "metadata": {
        "id": "jOVzmGlTo83E"
      },
      "outputs": [],
      "source": [
        "compa_n_mse.append(mean_squared_error(y_test, y_pred_2))\n",
        "compa_n_mae.append(mean_absolute_error(y_test, y_pred_2))\n",
        "compa_n_rmse.append(sqrt(mean_squared_error(y_test, y_pred_2)))\n",
        "compa_n_r2.append(r2_score(y_test, y_pred_2))\n",
        "compa_k_mse.append(scores_2_mse)\n",
        "compa_k_mae.append(scores_2_mae)\n",
        "compa_k_rmse.append(scores_2_rmse)\n",
        "compa_k_r2.append(scores_2_r2)"
      ]
    },
    {
      "cell_type": "code",
      "execution_count": null,
      "metadata": {
        "colab": {
          "base_uri": "https://localhost:8080/"
        },
        "id": "l6JhAYbZURB5",
        "outputId": "b78c5983-3cb7-4edc-f7ef-2071038812d6"
      },
      "outputs": [
        {
          "name": "stdout",
          "output_type": "stream",
          "text": [
            "mse:\n",
            "6.806054259537825\n",
            "mse (K-fold):\n",
            "6.817649736779241\n",
            "mae:\n",
            "1.900672552354137\n",
            "mae (K-fold):\n",
            "1.9048015095678104\n",
            "rmse:\n",
            "2.6088415550849047\n",
            "rmse (K-fold):\n",
            "2.6110629515159607\n",
            "r2:\n",
            "0.4903667294796241\n",
            "r2 (K-fold):\n",
            "0.48954279296153896\n"
          ]
        }
      ],
      "source": [
        "print(f\"mse:\\n{mean_squared_error(y_test, y_pred_2)}\")\n",
        "print(f\"mse (K-fold):\\n{scores_2_mse}\")\n",
        "print(f\"mae:\\n{mean_absolute_error(y_test, y_pred_2)}\")\n",
        "print(f\"mae (K-fold):\\n{scores_2_mae}\")\n",
        "print(f\"rmse:\\n{sqrt(mean_squared_error(y_test, y_pred_2))}\")\n",
        "print(f\"rmse (K-fold):\\n{scores_2_rmse}\")\n",
        "print(f\"r2:\\n{r2_score(y_test, y_pred_2)}\")\n",
        "print(f\"r2 (K-fold):\\n{scores_2_r2}\")"
      ]
    },
    {
      "cell_type": "code",
      "execution_count": null,
      "metadata": {
        "colab": {
          "base_uri": "https://localhost:8080/"
        },
        "id": "v3pUOyZjGLWT",
        "outputId": "d5dc0c81-c99e-4bbc-c035-4e2520f07cd0"
      },
      "outputs": [
        {
          "name": "stdout",
          "output_type": "stream",
          "text": [
            "The number of negative prediction:  97\n",
            "Percent correct prediction:  37.441347730227825\n"
          ]
        }
      ],
      "source": [
        "error, negative_integer = find_prediction_error_value(y_test, y_pred_2)\n",
        "print(\"The number of negative prediction: \", len(negative_integer))\n",
        "print(\"Percent correct prediction: \", (len(y_test) - len(error))/len(y_test)*100)"
      ]
    },
    {
      "cell_type": "markdown",
      "metadata": {
        "id": "Ll4ms_65Zjse"
      },
      "source": [
        "## Ridge regression"
      ]
    },
    {
      "cell_type": "code",
      "execution_count": null,
      "metadata": {
        "id": "AfpCs0wmmbJu"
      },
      "outputs": [],
      "source": [
        "model_3 = Ridge(alpha = 0.3,  tol = 0.003, solver ='auto', random_state = 42)"
      ]
    },
    {
      "cell_type": "markdown",
      "metadata": {
        "id": "6iUa5Qb9nnW2"
      },
      "source": [
        "### K-Fold"
      ]
    },
    {
      "cell_type": "code",
      "execution_count": null,
      "metadata": {
        "id": "repTWqq1mZGe"
      },
      "outputs": [],
      "source": [
        "scores_3_mse = mean(absolute(cross_val_score(model_3, X, y, scoring='neg_mean_squared_error', cv=cv, n_jobs=-1)))\n",
        "scores_3_mae = mean(absolute(cross_val_score(model_3, X, y, scoring='neg_mean_absolute_error', cv=cv, n_jobs=-1)))\n",
        "scores_3_rmse = sqrt(mean(absolute(scores_3_mse)))\n",
        "scores_3_r2 = mean(absolute(cross_val_score(model_3, X, y, scoring='r2', cv=cv, n_jobs=-1)))"
      ]
    },
    {
      "cell_type": "code",
      "execution_count": null,
      "metadata": {
        "colab": {
          "base_uri": "https://localhost:8080/"
        },
        "id": "fN-fQcXgarxx",
        "outputId": "221a7767-0fb8-409f-ec49-abf17dc5f8fd"
      },
      "outputs": [
        {
          "name": "stdout",
          "output_type": "stream",
          "text": [
            "0.49009263302660666\n",
            "[ 0.95090402  1.62086636  6.76377572  1.00850722 -2.15734613 -2.71653473\n",
            "  1.77073931  2.1307404   3.46188934 -1.82449487  0.03555395]\n",
            "2.2212881193782286\n"
          ]
        }
      ],
      "source": [
        "# training model with alpha = 0.5\n",
        "\n",
        "model_3.fit(X_train, y_train)\n",
        "\n",
        "y_pred_3 = model_3.predict(X_test)\n",
        "\n",
        "# Sai số huấn luyện của mô hình trên tập train\n",
        "print(model_3.score(X_train, y_train))\n",
        "# Hệ số hồi qui và hệ số chặn\n",
        "print(model_3.coef_)\n",
        "print(model_3.intercept_)"
      ]
    },
    {
      "cell_type": "markdown",
      "metadata": {
        "id": "41s9h3s0n1QR"
      },
      "source": [
        "### Loss values"
      ]
    },
    {
      "cell_type": "code",
      "execution_count": null,
      "metadata": {
        "id": "Q3WkSsGcpUCJ"
      },
      "outputs": [],
      "source": [
        "compa_n_mse.append(mean_squared_error(y_test, y_pred_3))\n",
        "compa_n_mae.append(mean_absolute_error(y_test, y_pred_3))\n",
        "compa_n_rmse.append(sqrt(mean_squared_error(y_test, y_pred_3)))\n",
        "compa_n_r2.append(r2_score(y_test, y_pred_3))\n",
        "compa_k_mse.append(scores_3_mse)\n",
        "compa_k_mae.append(scores_3_mae)\n",
        "compa_k_rmse.append(scores_3_rmse)\n",
        "compa_k_r2.append(scores_3_r2)"
      ]
    },
    {
      "cell_type": "code",
      "execution_count": null,
      "metadata": {
        "colab": {
          "base_uri": "https://localhost:8080/"
        },
        "id": "bXoTj19QLeYX",
        "outputId": "17f1e1fe-d8a1-4649-d21b-9c16f90d9889"
      },
      "outputs": [
        {
          "name": "stdout",
          "output_type": "stream",
          "text": [
            "mse:\n",
            "6.805970834798459\n",
            "mse (K-fold):\n",
            "6.817645555995009\n",
            "mae:\n",
            "1.9006203274217373\n",
            "mae (K-fold):\n",
            "1.9047788999486808\n",
            "rmse:\n",
            "2.6088255661884445\n",
            "rmse (K-fold):\n",
            "2.6110621509253678\n",
            "r2:\n",
            "0.4903729762741903\n",
            "r2 (K-fold):\n",
            "0.48954310202999973\n"
          ]
        }
      ],
      "source": [
        "print(f\"mse:\\n{mean_squared_error(y_test, y_pred_3)}\")\n",
        "print(f\"mse (K-fold):\\n{scores_3_mse}\")\n",
        "print(f\"mae:\\n{mean_absolute_error(y_test, y_pred_3)}\")\n",
        "print(f\"mae (K-fold):\\n{scores_3_mae}\")\n",
        "print(f\"rmse:\\n{sqrt(mean_squared_error(y_test, y_pred_3))}\")\n",
        "print(f\"rmse (K-fold):\\n{scores_3_rmse}\")\n",
        "print(f\"r2:\\n{r2_score(y_test, y_pred_3)}\")\n",
        "print(f\"r2 (K-fold):\\n{scores_3_r2}\")"
      ]
    },
    {
      "cell_type": "code",
      "execution_count": null,
      "metadata": {
        "colab": {
          "base_uri": "https://localhost:8080/"
        },
        "id": "wbXOK9FdLf8F",
        "outputId": "f14c971c-6eff-4896-b9f4-6d93a1e25782"
      },
      "outputs": [
        {
          "name": "stdout",
          "output_type": "stream",
          "text": [
            "predicted response:\n",
            "[6.79538789e+09 4.61367397e+09 2.90527630e+09 7.63335584e+09\n",
            " 6.94868409e+09 2.18231680e+09 6.69637487e+09 9.56927547e+09\n",
            " 3.41358075e+09 8.12220169e+09]\n",
            "actual:\n",
            "22453    6.600000e+09\n",
            "68000    5.500000e+09\n",
            "24488    1.680000e+09\n",
            "6208     4.150000e+09\n",
            "69780    7.090000e+09\n",
            "43825    2.200000e+09\n",
            "1208     1.500000e+09\n",
            "52345    8.600000e+09\n",
            "63577    4.150000e+09\n",
            "19916    7.500000e+09\n",
            "Name: price, dtype: float64\n"
          ]
        }
      ],
      "source": [
        "print(f\"predicted response:\\n{y_pred_3[:10]*one_billion}\")\n",
        "print(f\"actual:\\n{y_test.iloc[0:10]*one_billion}\")"
      ]
    },
    {
      "cell_type": "code",
      "execution_count": null,
      "metadata": {
        "colab": {
          "base_uri": "https://localhost:8080/"
        },
        "id": "dH05dZ4IGa4s",
        "outputId": "69fd8e1e-2bab-4b85-a3a8-5f1b73080321"
      },
      "outputs": [
        {
          "name": "stdout",
          "output_type": "stream",
          "text": [
            "The number of negative prediction:  97\n",
            "Percent correct prediction:  37.441347730227825\n"
          ]
        }
      ],
      "source": [
        "error, negative_integer = find_prediction_error_value(y_test, y_pred_3)\n",
        "print(\"The number of negative prediction: \", len(negative_integer))\n",
        "print(\"Percent correct prediction: \", (len(y_test) - len(error))/len(y_test)*100)"
      ]
    },
    {
      "cell_type": "markdown",
      "metadata": {
        "id": "STNiOQ_aZr4z"
      },
      "source": [
        "## Lasso regression"
      ]
    },
    {
      "cell_type": "code",
      "execution_count": null,
      "metadata": {
        "id": "kekkdEzKmn39"
      },
      "outputs": [],
      "source": [
        "model_4 = Lasso(alpha=0.3)"
      ]
    },
    {
      "cell_type": "markdown",
      "metadata": {
        "id": "Le0I6CEtnoH0"
      },
      "source": [
        "### K-Fold"
      ]
    },
    {
      "cell_type": "code",
      "execution_count": null,
      "metadata": {
        "id": "Udf-NkmZmoKE"
      },
      "outputs": [],
      "source": [
        "scores_4_mse = mean(absolute(cross_val_score(model_4, X, y, scoring='neg_mean_squared_error', cv=cv, n_jobs=-1)))\n",
        "scores_4_mae = mean(absolute(cross_val_score(model_4, X, y, scoring='neg_mean_absolute_error', cv=cv, n_jobs=-1)))\n",
        "scores_4_rmse = sqrt(mean(absolute(scores_4_mse)))\n",
        "scores_4_r2 = mean(absolute(cross_val_score(model_4, X, y, scoring='r2', cv=cv, n_jobs=-1)))"
      ]
    },
    {
      "cell_type": "code",
      "execution_count": null,
      "metadata": {
        "colab": {
          "base_uri": "https://localhost:8080/"
        },
        "id": "U9trXrblTSMB",
        "outputId": "d551d8ec-4a63-4be8-dd42-b34659b626c7"
      },
      "outputs": [
        {
          "name": "stdout",
          "output_type": "stream",
          "text": [
            "0.14017009850480389\n",
            "[ 0.          0.          0.          0.         -0.         -0.\n",
            "  0.          0.          2.29520526 -0.14329933  0.        ]\n",
            "4.8030098813881\n"
          ]
        }
      ],
      "source": [
        "model_4.fit(X_train, y_train)\n",
        "\n",
        "y_pred_4 = model_4.predict(X_test)\n",
        "\n",
        "# Sai số huấn luyện của mô hình trên tập train\n",
        "print(model_4.score(X_train, y_train))\n",
        "# Hệ số hồi qui và hệ số chặn\n",
        "print(model_4.coef_)\n",
        "print(model_4.intercept_)"
      ]
    },
    {
      "cell_type": "markdown",
      "metadata": {
        "id": "KPs4GsRxn2zV"
      },
      "source": [
        "### Loss values"
      ]
    },
    {
      "cell_type": "code",
      "execution_count": null,
      "metadata": {
        "id": "_bcxAfzipUwb"
      },
      "outputs": [],
      "source": [
        "compa_n_mse.append(mean_squared_error(y_test, y_pred_4))\n",
        "compa_n_mae.append(mean_absolute_error(y_test, y_pred_4))\n",
        "compa_n_rmse.append(sqrt(mean_squared_error(y_test, y_pred_4)))\n",
        "compa_n_r2.append(r2_score(y_test, y_pred_4))\n",
        "compa_k_mse.append(scores_4_mse)\n",
        "compa_k_mae.append(scores_4_mae)\n",
        "compa_k_rmse.append(scores_4_rmse)\n",
        "compa_k_r2.append(scores_4_r2)"
      ]
    },
    {
      "cell_type": "code",
      "execution_count": null,
      "metadata": {
        "colab": {
          "base_uri": "https://localhost:8080/"
        },
        "id": "9UTV448LTYwh",
        "outputId": "96bb551c-8a93-46b1-a424-b65f8d833399"
      },
      "outputs": [
        {
          "name": "stdout",
          "output_type": "stream",
          "text": [
            "mse:\n",
            "11.47719377143946\n",
            "mse (K-fold):\n",
            "11.49654226548328\n",
            "mae:\n",
            "2.550988446215927\n",
            "mae (K-fold):\n",
            "2.558256812434336\n",
            "rmse:\n",
            "3.3878007278232083\n",
            "rmse (K-fold):\n",
            "3.3906551380940053\n",
            "r2:\n",
            "0.14059459782620443\n",
            "r2 (K-fold):\n",
            "0.13959889506531364\n"
          ]
        }
      ],
      "source": [
        "print(f\"mse:\\n{mean_squared_error(y_test, y_pred_4)}\")\n",
        "print(f\"mse (K-fold):\\n{scores_4_mse}\")\n",
        "print(f\"mae:\\n{mean_absolute_error(y_test, y_pred_4)}\")\n",
        "print(f\"mae (K-fold):\\n{scores_4_mae}\")\n",
        "print(f\"rmse:\\n{sqrt(mean_squared_error(y_test, y_pred_4))}\")\n",
        "print(f\"rmse (K-fold):\\n{scores_4_rmse}\")\n",
        "print(f\"r2:\\n{r2_score(y_test, y_pred_4)}\")\n",
        "print(f\"r2 (K-fold):\\n{scores_4_r2}\")"
      ]
    },
    {
      "cell_type": "code",
      "execution_count": null,
      "metadata": {
        "colab": {
          "base_uri": "https://localhost:8080/"
        },
        "id": "1SbggdA1TYMh",
        "outputId": "d8a1a6dd-3647-4461-9976-1d59c9871f44"
      },
      "outputs": [
        {
          "name": "stdout",
          "output_type": "stream",
          "text": [
            "predicted response:\n",
            "[6.42888094e+09 5.28127831e+09 4.70747699e+09 5.37681120e+09\n",
            " 6.42888094e+09 4.70747699e+09 5.37681120e+09 6.42888094e+09\n",
            " 5.28127831e+09 5.28127831e+09]\n",
            "actual:\n",
            "22453    6.600000e+09\n",
            "68000    5.500000e+09\n",
            "24488    1.680000e+09\n",
            "6208     4.150000e+09\n",
            "69780    7.090000e+09\n",
            "43825    2.200000e+09\n",
            "1208     1.500000e+09\n",
            "52345    8.600000e+09\n",
            "63577    4.150000e+09\n",
            "19916    7.500000e+09\n",
            "Name: price, dtype: float64\n"
          ]
        }
      ],
      "source": [
        "print(f\"predicted response:\\n{y_pred_4[:10]*one_billion}\")\n",
        "print(f\"actual:\\n{y_test.iloc[0:10]*one_billion}\")"
      ]
    },
    {
      "cell_type": "code",
      "execution_count": null,
      "metadata": {
        "colab": {
          "base_uri": "https://localhost:8080/"
        },
        "id": "zEzValyZGdDK",
        "outputId": "d0f2d8eb-5c21-4c7b-8e3f-bc41d4b6fe4f"
      },
      "outputs": [
        {
          "name": "stdout",
          "output_type": "stream",
          "text": [
            "The number of negative prediction:  0\n",
            "Percent correct prediction:  25.563909774436087\n"
          ]
        }
      ],
      "source": [
        "error, negative_integer = find_prediction_error_value(y_test, y_pred_4)\n",
        "print(\"The number of negative prediction: \", len(negative_integer))\n",
        "print(\"Percent correct prediction: \", (len(y_test) - len(error))/len(y_test)*100)"
      ]
    },
    {
      "cell_type": "markdown",
      "metadata": {
        "id": "LwpWW0PbZucO"
      },
      "source": [
        "## Polynomial regression"
      ]
    },
    {
      "cell_type": "code",
      "execution_count": null,
      "metadata": {
        "id": "M4843oyLmzdU"
      },
      "outputs": [],
      "source": [
        "model_5 = Pipeline([('poly', PolynomialFeatures(degree=3)),('linear', LinearRegression(fit_intercept=False))])"
      ]
    },
    {
      "cell_type": "markdown",
      "metadata": {
        "id": "Ydrm2elUnpy8"
      },
      "source": [
        "### K-Fold"
      ]
    },
    {
      "cell_type": "code",
      "execution_count": null,
      "metadata": {
        "id": "aCmGBzdNmzDo"
      },
      "outputs": [],
      "source": [
        "scores_5_mse = mean(absolute(cross_val_score(model_5, X, y, scoring='neg_mean_squared_error', cv=cv, n_jobs=-1)))\n",
        "scores_5_mae = mean(absolute(cross_val_score(model_5, X, y, scoring='neg_mean_absolute_error', cv=cv, n_jobs=-1)))\n",
        "scores_5_rmse = sqrt(mean(absolute(scores_5_mse)))\n",
        "scores_5_r2 = mean(absolute(cross_val_score(model_5, X, y, scoring='r2', cv=cv, n_jobs=-1)))"
      ]
    },
    {
      "cell_type": "code",
      "execution_count": null,
      "metadata": {
        "colab": {
          "base_uri": "https://localhost:8080/"
        },
        "id": "_jSPCWunWGLv",
        "outputId": "799045e0-e531-497b-806a-636e260e2028"
      },
      "outputs": [
        {
          "name": "stdout",
          "output_type": "stream",
          "text": [
            "0.6237382288714923\n"
          ]
        }
      ],
      "source": [
        "model_5.fit(X_train, y_train)\n",
        "y_pred_5 = model_5.predict(X_test)\n",
        "# Sai số huấn luyện của mô hình trên tập train\n",
        "print(model_5.score(X_train, y_train))"
      ]
    },
    {
      "cell_type": "markdown",
      "metadata": {
        "id": "PXgg3YLBn4Oz"
      },
      "source": [
        "### Loss values"
      ]
    },
    {
      "cell_type": "code",
      "execution_count": null,
      "metadata": {
        "id": "ZwdPGjzLpVai"
      },
      "outputs": [],
      "source": [
        "compa_n_mse.append(mean_squared_error(y_test, y_pred_5))\n",
        "compa_n_mae.append(mean_absolute_error(y_test, y_pred_5))\n",
        "compa_n_rmse.append(sqrt(mean_squared_error(y_test, y_pred_5)))\n",
        "compa_n_r2.append(r2_score(y_test, y_pred_5))\n",
        "compa_k_mse.append(scores_5_mse)\n",
        "compa_k_mae.append(scores_5_mae)\n",
        "compa_k_rmse.append(scores_5_rmse)\n",
        "compa_k_r2.append(scores_5_r2)"
      ]
    },
    {
      "cell_type": "code",
      "execution_count": null,
      "metadata": {
        "colab": {
          "base_uri": "https://localhost:8080/"
        },
        "id": "d6J-YOZXYK14",
        "outputId": "d4755103-de18-44c3-c5a4-13d684fef9af"
      },
      "outputs": [
        {
          "name": "stdout",
          "output_type": "stream",
          "text": [
            "mse:\n",
            "5.122107251770336\n",
            "mse (K-fold):\n",
            "5.119194523226961\n",
            "mae:\n",
            "1.5834692910454207\n",
            "mae (K-fold):\n",
            "1.5804472733790615\n",
            "rmse:\n",
            "2.2632072931506597\n",
            "rmse (K-fold):\n",
            "2.2625637058935957\n",
            "r2:\n",
            "0.6164596738238297\n",
            "r2 (K-fold):\n",
            "0.61665283131591\n"
          ]
        }
      ],
      "source": [
        "print(f\"mse:\\n{mean_squared_error(y_test, y_pred_5)}\")\n",
        "print(f\"mse (K-fold):\\n{scores_5_mse}\")\n",
        "print(f\"mae:\\n{mean_absolute_error(y_test, y_pred_5)}\")\n",
        "print(f\"mae (K-fold):\\n{scores_5_mae}\")\n",
        "print(f\"rmse:\\n{sqrt(mean_squared_error(y_test, y_pred_5))}\")\n",
        "print(f\"rmse (K-fold):\\n{scores_5_rmse}\")\n",
        "print(f\"r2:\\n{r2_score(y_test, y_pred_5)}\")\n",
        "print(f\"r2 (K-fold):\\n{scores_5_r2}\")"
      ]
    },
    {
      "cell_type": "code",
      "execution_count": null,
      "metadata": {
        "colab": {
          "base_uri": "https://localhost:8080/"
        },
        "id": "XgcAz5XAauzc",
        "outputId": "8699033a-4852-4aa0-a599-957f9ffd50b0"
      },
      "outputs": [
        {
          "name": "stdout",
          "output_type": "stream",
          "text": [
            "predicted response:\n",
            "[5.81116872e+09 4.56751698e+09 4.14773991e+09 4.95590368e+09\n",
            " 3.92400931e+09 2.14594527e+09 5.72706267e+09 8.53072216e+09\n",
            " 3.52870433e+09 6.05765737e+09]\n",
            "actual:\n",
            "22453    6.600000e+09\n",
            "68000    5.500000e+09\n",
            "24488    1.680000e+09\n",
            "6208     4.150000e+09\n",
            "69780    7.090000e+09\n",
            "43825    2.200000e+09\n",
            "1208     1.500000e+09\n",
            "52345    8.600000e+09\n",
            "63577    4.150000e+09\n",
            "19916    7.500000e+09\n",
            "Name: price, dtype: float64\n"
          ]
        }
      ],
      "source": [
        "print(f\"predicted response:\\n{y_pred_5[:10]*one_billion}\")\n",
        "print(f\"actual:\\n{y_test.iloc[0:10]*one_billion}\")"
      ]
    },
    {
      "cell_type": "code",
      "execution_count": null,
      "metadata": {
        "colab": {
          "base_uri": "https://localhost:8080/"
        },
        "id": "qdoEEU6HGerV",
        "outputId": "9f42a7a7-3be4-484c-ad23-5e8aa057301d"
      },
      "outputs": [
        {
          "name": "stdout",
          "output_type": "stream",
          "text": [
            "The number of negative prediction:  10\n",
            "Percent correct prediction:  47.142291819775004\n"
          ]
        }
      ],
      "source": [
        "error, negative_integer = find_prediction_error_value(y_test, y_pred_5)\n",
        "print(\"The number of negative prediction: \", len(negative_integer))\n",
        "print(\"Percent correct prediction: \", (len(y_test) - len(error))/len(y_test)*100)"
      ]
    },
    {
      "cell_type": "markdown",
      "metadata": {
        "id": "AGTYVCrtZyA1"
      },
      "source": [
        "## Bayesian linear regression"
      ]
    },
    {
      "cell_type": "code",
      "execution_count": null,
      "metadata": {
        "id": "-j7MTvGvm8W-"
      },
      "outputs": [],
      "source": [
        "model_6 = BayesianRidge()"
      ]
    },
    {
      "cell_type": "markdown",
      "metadata": {
        "id": "9TrfQe1vnqrc"
      },
      "source": [
        "### K-Fold"
      ]
    },
    {
      "cell_type": "code",
      "execution_count": null,
      "metadata": {
        "id": "g0OOqD32m71y"
      },
      "outputs": [],
      "source": [
        "scores_6_mse = mean(absolute(cross_val_score(model_6, X, y, scoring='neg_mean_squared_error', cv=cv, n_jobs=-1)))\n",
        "scores_6_mae = mean(absolute(cross_val_score(model_6, X, y, scoring='neg_mean_absolute_error', cv=cv, n_jobs=-1)))\n",
        "scores_6_rmse = sqrt(mean(absolute(scores_6_mse)))\n",
        "scores_6_r2 = mean(absolute(cross_val_score(model_6, X, y, scoring='r2', cv=cv, n_jobs=-1)))"
      ]
    },
    {
      "cell_type": "code",
      "execution_count": null,
      "metadata": {
        "colab": {
          "base_uri": "https://localhost:8080/"
        },
        "id": "ilYp79daaRzh",
        "outputId": "62869ece-490d-4096-c4ab-5f2048a0bd66"
      },
      "outputs": [
        {
          "name": "stdout",
          "output_type": "stream",
          "text": [
            "0.49009173294472896\n",
            "[ 1.05386044  1.59092784  6.69500098  1.01107475 -2.15626087 -2.7161685\n",
            "  1.77068682  2.13161945  3.46092719 -1.8247444   0.03555893]\n",
            "2.235690141542817\n"
          ]
        }
      ],
      "source": [
        "model_6.fit(X_train, y_train)\n",
        "y_pred_6 = model_6.predict(X_test)\n",
        "# Sai số huấn luyện của mô hình trên tập train\n",
        "print(model_6.score(X_train, y_train))\n",
        "# Hệ số hồi qui và hệ số chặn\n",
        "print(model_6.coef_)\n",
        "print(model_6.intercept_)"
      ]
    },
    {
      "cell_type": "markdown",
      "metadata": {
        "id": "OQAT2Knxn5iU"
      },
      "source": [
        "### Loss values"
      ]
    },
    {
      "cell_type": "code",
      "execution_count": null,
      "metadata": {
        "id": "wjbNJ-AnpWSa"
      },
      "outputs": [],
      "source": [
        "compa_n_mse.append(mean_squared_error(y_test, y_pred_6))\n",
        "compa_n_mae.append(mean_absolute_error(y_test, y_pred_6))\n",
        "compa_n_rmse.append(sqrt(mean_squared_error(y_test, y_pred_6)))\n",
        "compa_n_r2.append(r2_score(y_test, y_pred_6))\n",
        "compa_k_mse.append(scores_6_mse)\n",
        "compa_k_mae.append(scores_6_mae)\n",
        "compa_k_rmse.append(scores_6_rmse)\n",
        "compa_k_r2.append(scores_6_r2)"
      ]
    },
    {
      "cell_type": "code",
      "execution_count": null,
      "metadata": {
        "colab": {
          "base_uri": "https://localhost:8080/"
        },
        "id": "_YY4rOeBaUy9",
        "outputId": "5c0423f9-62b0-4d95-cf41-25b0294fdbb6"
      },
      "outputs": [
        {
          "name": "stdout",
          "output_type": "stream",
          "text": [
            "mse:\n",
            "6.805827429821462\n",
            "mse (K-fold):\n",
            "6.817641769831987\n",
            "mae:\n",
            "1.9005249091660705\n",
            "mae (K-fold):\n",
            "1.9047352387858283\n",
            "rmse:\n",
            "2.6087980814584832\n",
            "rmse (K-fold):\n",
            "2.611061425901732\n",
            "r2:\n",
            "0.4903837143530607\n",
            "r2 (K-fold):\n",
            "0.48954338323825797\n"
          ]
        }
      ],
      "source": [
        "print(f\"mse:\\n{mean_squared_error(y_test, y_pred_6)}\")\n",
        "print(f\"mse (K-fold):\\n{scores_6_mse}\")\n",
        "print(f\"mae:\\n{mean_absolute_error(y_test, y_pred_6)}\")\n",
        "print(f\"mae (K-fold):\\n{scores_6_mae}\")\n",
        "print(f\"rmse:\\n{sqrt(mean_squared_error(y_test, y_pred_6))}\")\n",
        "print(f\"rmse (K-fold):\\n{scores_6_rmse}\")\n",
        "print(f\"r2:\\n{r2_score(y_test, y_pred_6)}\")\n",
        "print(f\"r2 (K-fold):\\n{scores_6_r2}\")"
      ]
    },
    {
      "cell_type": "code",
      "execution_count": null,
      "metadata": {
        "colab": {
          "base_uri": "https://localhost:8080/"
        },
        "id": "StM1t2XXae1k",
        "outputId": "9c12d3c7-dcea-4dfa-b6b2-3f71c203f47a"
      },
      "outputs": [
        {
          "name": "stdout",
          "output_type": "stream",
          "text": [
            "predicted response:\n",
            "[6.79527101e+09 4.61241204e+09 2.90492752e+09 7.63387077e+09\n",
            " 6.94804848e+09 2.18173140e+09 6.69653180e+09 9.56749096e+09\n",
            " 3.41277882e+09 8.12593260e+09]\n",
            "actual:\n",
            "22453    6.600000e+09\n",
            "68000    5.500000e+09\n",
            "24488    1.680000e+09\n",
            "6208     4.150000e+09\n",
            "69780    7.090000e+09\n",
            "43825    2.200000e+09\n",
            "1208     1.500000e+09\n",
            "52345    8.600000e+09\n",
            "63577    4.150000e+09\n",
            "19916    7.500000e+09\n",
            "Name: price, dtype: float64\n"
          ]
        }
      ],
      "source": [
        "print(f\"predicted response:\\n{y_pred_6[:10]*one_billion}\")\n",
        "print(f\"actual:\\n{y_test.iloc[0:10]*one_billion}\")"
      ]
    },
    {
      "cell_type": "code",
      "execution_count": null,
      "metadata": {
        "colab": {
          "base_uri": "https://localhost:8080/"
        },
        "id": "yc0an9NvGgrD",
        "outputId": "78837eaf-1c30-4047-ce15-cb59e21e82c6"
      },
      "outputs": [
        {
          "name": "stdout",
          "output_type": "stream",
          "text": [
            "The number of negative prediction:  97\n",
            "Percent correct prediction:  37.441347730227825\n"
          ]
        }
      ],
      "source": [
        "error, negative_integer = find_prediction_error_value(y_test, y_pred_6)\n",
        "print(\"The number of negative prediction: \", len(negative_integer))\n",
        "print(\"Percent correct prediction: \", (len(y_test) - len(error))/len(y_test)*100)"
      ]
    },
    {
      "cell_type": "markdown",
      "metadata": {
        "id": "o4Q-MNGwbVqN"
      },
      "source": [
        "# COMPARISION"
      ]
    },
    {
      "cell_type": "markdown",
      "metadata": {
        "id": "_JFwdUXCn_tb"
      },
      "source": [
        "## Normal"
      ]
    },
    {
      "cell_type": "markdown",
      "metadata": {
        "id": "6YeX8bMIojYL"
      },
      "source": [
        "### MSE"
      ]
    },
    {
      "cell_type": "code",
      "execution_count": null,
      "metadata": {
        "colab": {
          "base_uri": "https://localhost:8080/"
        },
        "id": "QIsfYORmcoaf",
        "outputId": "7bb08906-ca97-4d48-a56b-b40dd08b7941"
      },
      "outputs": [
        {
          "name": "stdout",
          "output_type": "stream",
          "text": [
            "[6.806054259537825, 6.805970834798459, 11.47719377143946, 5.122107251770336, 6.805827429821462]\n"
          ]
        }
      ],
      "source": [
        "print(compa_n_mse)"
      ]
    },
    {
      "cell_type": "code",
      "execution_count": null,
      "metadata": {
        "colab": {
          "base_uri": "https://localhost:8080/",
          "height": 336
        },
        "id": "qKQESIFromfO",
        "outputId": "19ec0489-5208-4418-b9ae-c47a3dcf0580"
      },
      "outputs": [
        {
          "data": {
            "image/png": "[encoded data removed]",
            "text/plain": [
              "<Figure size 720x360 with 1 Axes>"
            ]
          },
          "metadata": {
            "needs_background": "light"
          },
          "output_type": "display_data"
        }
      ],
      "source": [
        "fig = plt.figure(figsize = (10, 5))\n",
        "\n",
        "# creating the bar plot\n",
        "plt.bar(labels, compa_n_mse, width = 0.4, color = 'midnightblue')\n",
        "\n",
        "plt.ylabel('MSE')\n",
        "plt.title('Model Loss Comparison (Normal)')\n",
        "plt.show()"
      ]
    },
    {
      "cell_type": "markdown",
      "metadata": {
        "id": "SgA2S7BsQbKh"
      },
      "source": [
        "### MAE"
      ]
    },
    {
      "cell_type": "code",
      "execution_count": null,
      "metadata": {
        "colab": {
          "base_uri": "https://localhost:8080/"
        },
        "id": "1NicOpVAcr89",
        "outputId": "858002a4-250c-44f1-edb1-b775efa7ba07"
      },
      "outputs": [
        {
          "name": "stdout",
          "output_type": "stream",
          "text": [
            "[1.900672552354137, 1.9006203274217373, 2.550988446215927, 1.5834692910454207, 1.9005249091660705]\n"
          ]
        }
      ],
      "source": [
        "print(compa_n_mae)"
      ]
    },
    {
      "cell_type": "code",
      "execution_count": null,
      "metadata": {
        "colab": {
          "base_uri": "https://localhost:8080/",
          "height": 336
        },
        "id": "eqZT9wPDRi4q",
        "outputId": "d5ecabee-6087-4060-9ca8-46b1224132cb"
      },
      "outputs": [
        {
          "data": {
            "image/png": "[encoded data removed]",
            "text/plain": [
              "<Figure size 720x360 with 1 Axes>"
            ]
          },
          "metadata": {
            "needs_background": "light"
          },
          "output_type": "display_data"
        }
      ],
      "source": [
        "fig = plt.figure(figsize = (10, 5))\n",
        "\n",
        "# creating the bar plot\n",
        "plt.bar(labels, compa_n_mae, width = 0.4, color = 'midnightblue')\n",
        "\n",
        "plt.ylabel('MAE')\n",
        "plt.title('Model Loss Comparison (Normal)')\n",
        "plt.show()"
      ]
    },
    {
      "cell_type": "markdown",
      "metadata": {
        "id": "fgu_9iYdQdeq"
      },
      "source": [
        "### RMSE"
      ]
    },
    {
      "cell_type": "code",
      "execution_count": null,
      "metadata": {
        "colab": {
          "base_uri": "https://localhost:8080/"
        },
        "id": "9KhVxOxHcwHl",
        "outputId": "56b0b4ea-9f28-4006-84e5-ed4a0733ca15"
      },
      "outputs": [
        {
          "name": "stdout",
          "output_type": "stream",
          "text": [
            "[2.6088415550849047, 2.6088255661884445, 3.3878007278232083, 2.2632072931506597, 2.6087980814584832]\n"
          ]
        }
      ],
      "source": [
        "print(compa_n_rmse)"
      ]
    },
    {
      "cell_type": "code",
      "execution_count": null,
      "metadata": {
        "colab": {
          "base_uri": "https://localhost:8080/",
          "height": 336
        },
        "id": "N9-gHvQ1Rl33",
        "outputId": "d60b1afd-cf74-4c1d-9d18-b3c1bec8ada7"
      },
      "outputs": [
        {
          "data": {
            "image/png": "[encoded data removed]",
            "text/plain": [
              "<Figure size 720x360 with 1 Axes>"
            ]
          },
          "metadata": {
            "needs_background": "light"
          },
          "output_type": "display_data"
        }
      ],
      "source": [
        "fig = plt.figure(figsize = (10, 5))\n",
        "\n",
        "# creating the bar plot\n",
        "plt.bar(labels, compa_n_rmse, width = 0.4, color = 'midnightblue')\n",
        "\n",
        "plt.ylabel('RMSE')\n",
        "plt.title('Model Loss Comparison (Normal)')\n",
        "plt.show()"
      ]
    },
    {
      "cell_type": "markdown",
      "metadata": {
        "id": "hPbIqgYEO6ka"
      },
      "source": [
        "### R2"
      ]
    },
    {
      "cell_type": "code",
      "execution_count": null,
      "metadata": {
        "colab": {
          "base_uri": "https://localhost:8080/"
        },
        "id": "o8qGhrfxc0TN",
        "outputId": "f6fa64e5-cc8b-4feb-986c-c858474356cf"
      },
      "outputs": [
        {
          "name": "stdout",
          "output_type": "stream",
          "text": [
            "[0.4903667294796241, 0.4903729762741903, 0.14059459782620443, 0.6164596738238297, 0.4903837143530607]\n"
          ]
        }
      ],
      "source": [
        "print(compa_n_r2)"
      ]
    },
    {
      "cell_type": "code",
      "execution_count": null,
      "metadata": {
        "colab": {
          "base_uri": "https://localhost:8080/",
          "height": 336
        },
        "id": "WNFJXM7gO7zt",
        "outputId": "c3f7a0db-c8cc-45cd-8adb-141e1997115c"
      },
      "outputs": [
        {
          "data": {
            "image/png": "[encoded data removed]",
            "text/plain": [
              "<Figure size 720x360 with 1 Axes>"
            ]
          },
          "metadata": {
            "needs_background": "light"
          },
          "output_type": "display_data"
        }
      ],
      "source": [
        "fig = plt.figure(figsize = (10, 5))\n",
        "\n",
        "# creating the bar plot\n",
        "plt.bar(labels, compa_n_r2, width = 0.4, color = 'midnightblue')\n",
        "\n",
        "plt.ylabel('R2')\n",
        "plt.title('Model R2 Comparison (Normal)')\n",
        "plt.show()"
      ]
    },
    {
      "cell_type": "markdown",
      "metadata": {
        "id": "FOi9Cf0pn8zk"
      },
      "source": [
        "## K-Fold"
      ]
    },
    {
      "cell_type": "markdown",
      "metadata": {
        "id": "CcFfIRWwrLTC"
      },
      "source": [
        "### MSE"
      ]
    },
    {
      "cell_type": "code",
      "execution_count": null,
      "metadata": {
        "colab": {
          "base_uri": "https://localhost:8080/"
        },
        "id": "tAwcxjPwc37O",
        "outputId": "360f104b-d3dd-4be6-f189-dfe2de57a09a"
      },
      "outputs": [
        {
          "name": "stdout",
          "output_type": "stream",
          "text": [
            "[4.755429, 4.699904, 6.817649736779241, 6.817645555995009, 11.49654226548328, 5.119194523226961, 6.817641769831987]\n"
          ]
        }
      ],
      "source": [
        "print(compa_k_mse)"
      ]
    },
    {
      "cell_type": "code",
      "execution_count": null,
      "metadata": {
        "colab": {
          "base_uri": "https://localhost:8080/",
          "height": 336
        },
        "id": "7kZJkMdYdZwX",
        "outputId": "a7752ec3-f770-4d6a-84b3-7b121e74d852"
      },
      "outputs": [
        {
          "data": {
            "image/png": "[encoded data removed]",
            "text/plain": [
              "<Figure size 720x360 with 1 Axes>"
            ]
          },
          "metadata": {
            "needs_background": "light"
          },
          "output_type": "display_data"
        }
      ],
      "source": [
        "fig = plt.figure(figsize = (10, 5))\n",
        "\n",
        "# creating the bar plot\n",
        "plt.bar(labels_kfold, compa_k_mse, width = 0.4, color = 'midnightblue')\n",
        "\n",
        "plt.ylabel('MSE')\n",
        "plt.title('Model Loss Comparison (K-Fold)')\n",
        "plt.show()"
      ]
    },
    {
      "cell_type": "markdown",
      "metadata": {
        "id": "6y03jEDtUHqx"
      },
      "source": [
        "### MAE"
      ]
    },
    {
      "cell_type": "code",
      "execution_count": 50,
      "metadata": {
        "colab": {
          "base_uri": "https://localhost:8080/"
        },
        "id": "cKms41OidGg1",
        "outputId": "50eb7412-7652-444a-bfe4-557fdea8ee29"
      },
      "outputs": [
        {
          "name": "stdout",
          "output_type": "stream",
          "text": [
            "[1.4629520177841187, 1.4527918100357056, 1.9048015095678104, 1.9047788999486808, 2.558256812434336, 1.5804472733790615, 1.9047352387858283]\n"
          ]
        }
      ],
      "source": [
        "print(compa_k_mae)"
      ]
    },
    {
      "cell_type": "code",
      "execution_count": 51,
      "metadata": {
        "colab": {
          "base_uri": "https://localhost:8080/",
          "height": 336
        },
        "id": "4I_x2daDUNfI",
        "outputId": "e9031cd4-8cd3-40dd-c4b4-7ffd95747b87"
      },
      "outputs": [
        {
          "data": {
            "image/png": "[encoded data removed]",
            "text/plain": [
              "<Figure size 720x360 with 1 Axes>"
            ]
          },
          "metadata": {
            "needs_background": "light"
          },
          "output_type": "display_data"
        }
      ],
      "source": [
        "fig = plt.figure(figsize = (10, 5))\n",
        "\n",
        "# creating the bar plot\n",
        "plt.bar(labels_kfold, compa_k_mae, width = 0.4, color = 'midnightblue')\n",
        "\n",
        "plt.ylabel('MAE')\n",
        "plt.title('Model Loss Comparison (K-Fold)')\n",
        "plt.show()"
      ]
    },
    {
      "cell_type": "markdown",
      "metadata": {
        "id": "GBTWa3sHUI8O"
      },
      "source": [
        "### RMSE"
      ]
    },
    {
      "cell_type": "code",
      "execution_count": 53,
      "metadata": {
        "colab": {
          "base_uri": "https://localhost:8080/"
        },
        "id": "1pHAoMy8dKHQ",
        "outputId": "c371827e-6f1a-4f8c-edb6-f5769a03b6de"
      },
      "outputs": [
        {
          "name": "stdout",
          "output_type": "stream",
          "text": [
            "[1.4651657342910767, 1.474713683128357, 2.6110629515159607, 2.6110621509253678, 3.3906551380940053, 2.2625637058935957, 2.611061425901732]\n"
          ]
        }
      ],
      "source": [
        "print(compa_k_rmse)"
      ]
    },
    {
      "cell_type": "code",
      "execution_count": 54,
      "metadata": {
        "colab": {
          "base_uri": "https://localhost:8080/",
          "height": 336
        },
        "id": "-ejBjTnMUTW-",
        "outputId": "d474b394-0464-4db9-bb20-60a3851cdc11"
      },
      "outputs": [
        {
          "data": {
            "image/png": "[encoded data removed]",
            "text/plain": [
              "<Figure size 720x360 with 1 Axes>"
            ]
          },
          "metadata": {
            "needs_background": "light"
          },
          "output_type": "display_data"
        }
      ],
      "source": [
        "fig = plt.figure(figsize = (10, 5))\n",
        "\n",
        "# creating the bar plot\n",
        "plt.bar(labels_kfold, compa_k_rmse, width = 0.4, color = 'midnightblue')\n",
        "\n",
        "plt.ylabel('RMSE')\n",
        "plt.title('Model Loss Comparison (K-Fold)')\n",
        "plt.show()"
      ]
    },
    {
      "cell_type": "markdown",
      "metadata": {
        "id": "64ut1IAoUK73"
      },
      "source": [
        "### R2"
      ]
    },
    {
      "cell_type": "code",
      "execution_count": 56,
      "metadata": {
        "colab": {
          "base_uri": "https://localhost:8080/"
        },
        "id": "b2FnaBNldN1s",
        "outputId": "c8df9dc3-7e4a-443e-de13-8b29d00aa433"
      },
      "outputs": [
        {
          "name": "stdout",
          "output_type": "stream",
          "text": [
            "[0.6562077749581856, 0.6598782018484676, 0.48954279296153896, 0.48954310202999973, 0.13959889506531364, 0.61665283131591, 0.48954338323825797]\n"
          ]
        }
      ],
      "source": [
        "print(compa_k_r2)"
      ]
    },
    {
      "cell_type": "code",
      "execution_count": 57,
      "metadata": {
        "colab": {
          "base_uri": "https://localhost:8080/",
          "height": 336
        },
        "id": "KKT5lv00UZRt",
        "outputId": "24998c25-3ed4-4f57-ac87-bd249cc7c756"
      },
      "outputs": [
        {
          "data": {
            "image/png": "[encoded data removed]",
            "text/plain": [
              "<Figure size 720x360 with 1 Axes>"
            ]
          },
          "metadata": {
            "needs_background": "light"
          },
          "output_type": "display_data"
        }
      ],
      "source": [
        "fig = plt.figure(figsize = (10, 5))\n",
        "\n",
        "# creating the bar plot\n",
        "plt.bar(labels_kfold, compa_k_r2, width = 0.4, color = 'midnightblue')\n",
        "\n",
        "plt.ylabel('R2')\n",
        "plt.title('Model Loss Comparison (K-Fold)')\n",
        "plt.show()"
      ]
    }
  ],
  "metadata": {
    "accelerator": "GPU",
    "colab": {
      "collapsed_sections": [],
      "name": "Second_Model.ipynb",
      "provenance": [],
      "toc_visible": true
    },
    "kernelspec": {
      "display_name": "Python 3",
      "language": "python",
      "name": "python3"
    },
    "language_info": {
      "name": "python",
      "version": "3.8.0"
    },
    "vscode": {
      "interpreter": {
        "hash": "b4119a87640c76489cf9329827b62f234622d55a5d768db8c0c9452327e07ffc"
      }
    }
  },
  "nbformat": 4,
  "nbformat_minor": 0
}
